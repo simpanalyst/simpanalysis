{
 "cells": [
  {
   "attachments": {},
   "cell_type": "markdown",
   "id": "0ad79bae",
   "metadata": {},
   "source": [
    "# SIMP Rule Comment Analysis\n",
    "This document analyzes all of the public comments on the SIMP Rule: https://www.regulations.gov/document/NOAA-NMFS-2022-0119-0001\n",
    "\n",
    "The comments were obtained via the bulk download here: https://www.regulations.gov/bulkdownload\n",
    "\n",
    "The code was generated with the help of Github's Copilot AI to automate some of the data processing and analysis"
   ]
  },
  {
   "attachments": {},
   "cell_type": "markdown",
   "id": "97333efd",
   "metadata": {},
   "source": [
    "## Initial Data Preparation\n",
    "Just loading the data for analysis"
   ]
  },
  {
   "cell_type": "code",
   "execution_count": 1,
   "id": "f45684b5-0186-4e90-a9a7-8ba577d08c29",
   "metadata": {},
   "outputs": [
    {
     "name": "stdout",
     "output_type": "stream",
     "text": [
      "Requirement already satisfied: python-docx in /opt/homebrew/lib/python3.9/site-packages (0.8.11)\n",
      "Requirement already satisfied: lxml>=2.3.2 in /opt/homebrew/lib/python3.9/site-packages (from python-docx) (4.9.2)\n",
      "\u001b[33mWARNING: You are using pip version 21.1.3; however, version 23.1.2 is available.\n",
      "You should consider upgrading via the '/opt/homebrew/opt/python@3.9/bin/python3.9 -m pip install --upgrade pip' command.\u001b[0m\n"
     ]
    },
    {
     "name": "stderr",
     "output_type": "stream",
     "text": [
      "/var/folders/z4/2zbdnnm52zgfstckz8b80mv80000gn/T/ipykernel_24033/3497319380.py:11: DeprecationWarning: Importing display from IPython.core.display is deprecated since IPython 7.14, please import from IPython display\n",
      "  from IPython.core.display import display, HTML\n"
     ]
    }
   ],
   "source": [
    "#import and initialize libraries\n",
    "import pandas as pd\n",
    "import re\n",
    "import plotly\n",
    "from difflib import SequenceMatcher\n",
    "import plotly.express as px\n",
    "!pip3 install python-docx\n",
    "import docx\n",
    "import os\n",
    "import difflib\n",
    "from IPython.core.display import display, HTML\n",
    "import matplotlib.pyplot as plt\n",
    "\n",
    "plt.style.use('ggplot')\n"
   ]
  },
  {
   "cell_type": "code",
   "execution_count": 2,
   "id": "03b13627-5d99-4ab5-bd3a-1478088cf966",
   "metadata": {},
   "outputs": [
    {
     "name": "stdout",
     "output_type": "stream",
     "text": [
      "2202\n"
     ]
    }
   ],
   "source": [
    "#Read in the public comments\n",
    "df = pd.read_csv('04May2023SIMPComments.csv')\n",
    "print(len(df))"
   ]
  },
  {
   "cell_type": "code",
   "execution_count": 3,
   "id": "f5d14491-d20e-4e4a-87ef-5606eb4be284",
   "metadata": {},
   "outputs": [
    {
     "data": {
      "text/html": [
       "<div>\n",
       "<style scoped>\n",
       "    .dataframe tbody tr th:only-of-type {\n",
       "        vertical-align: middle;\n",
       "    }\n",
       "\n",
       "    .dataframe tbody tr th {\n",
       "        vertical-align: top;\n",
       "    }\n",
       "\n",
       "    .dataframe thead th {\n",
       "        text-align: right;\n",
       "    }\n",
       "</style>\n",
       "<table border=\"1\" class=\"dataframe\">\n",
       "  <thead>\n",
       "    <tr style=\"text-align: right;\">\n",
       "      <th></th>\n",
       "      <th>Document ID</th>\n",
       "      <th>Agency ID</th>\n",
       "      <th>Docket ID</th>\n",
       "      <th>Tracking Number</th>\n",
       "      <th>Document Type</th>\n",
       "      <th>Posted Date</th>\n",
       "      <th>Is Withdrawn?</th>\n",
       "      <th>Federal Register Number</th>\n",
       "      <th>FR Citation</th>\n",
       "      <th>Title</th>\n",
       "      <th>...</th>\n",
       "      <th>Government Agency</th>\n",
       "      <th>Government Agency Type</th>\n",
       "      <th>Comment</th>\n",
       "      <th>Category</th>\n",
       "      <th>Restrict Reason Type</th>\n",
       "      <th>Restrict Reason</th>\n",
       "      <th>Reason Withdrawn</th>\n",
       "      <th>Content Files</th>\n",
       "      <th>Attachment Files</th>\n",
       "      <th>Display Properties (Name, Label, Tooltip)</th>\n",
       "    </tr>\n",
       "  </thead>\n",
       "  <tbody>\n",
       "    <tr>\n",
       "      <th>0</th>\n",
       "      <td>NOAA-NMFS-2022-0119-0001</td>\n",
       "      <td>NOAA</td>\n",
       "      <td>NOAA-NMFS-2022-0119</td>\n",
       "      <td>NaN</td>\n",
       "      <td>Proposed Rule</td>\n",
       "      <td>2022-12-28T05:00Z</td>\n",
       "      <td>False</td>\n",
       "      <td>2022-27741</td>\n",
       "      <td>NaN</td>\n",
       "      <td>Magnuson-Stevens Fishery Conservation and Mana...</td>\n",
       "      <td>...</td>\n",
       "      <td>NaN</td>\n",
       "      <td>NaN</td>\n",
       "      <td>NaN</td>\n",
       "      <td>NaN</td>\n",
       "      <td>NaN</td>\n",
       "      <td>NaN</td>\n",
       "      <td>NaN</td>\n",
       "      <td>https://downloads.regulations.gov/NOAA-NMFS-20...</td>\n",
       "      <td>NaN</td>\n",
       "      <td>pageCount, Page Count, Number of pages In the ...</td>\n",
       "    </tr>\n",
       "    <tr>\n",
       "      <th>1</th>\n",
       "      <td>NOAA-NMFS-2022-0119-0002</td>\n",
       "      <td>NOAA</td>\n",
       "      <td>NOAA-NMFS-2022-0119</td>\n",
       "      <td>lcj-jtiv-eyjs</td>\n",
       "      <td>Public Submission</td>\n",
       "      <td>2023-01-20T05:00Z</td>\n",
       "      <td>False</td>\n",
       "      <td>NaN</td>\n",
       "      <td>NaN</td>\n",
       "      <td>Comment from Brown, Julie</td>\n",
       "      <td>...</td>\n",
       "      <td>NaN</td>\n",
       "      <td>NaN</td>\n",
       "      <td>We should expand SIMP to ALL imported species</td>\n",
       "      <td>NaN</td>\n",
       "      <td>NaN</td>\n",
       "      <td>NaN</td>\n",
       "      <td>NaN</td>\n",
       "      <td>NaN</td>\n",
       "      <td>NaN</td>\n",
       "      <td>pageCount, Page Count, Number of pages In the ...</td>\n",
       "    </tr>\n",
       "    <tr>\n",
       "      <th>2</th>\n",
       "      <td>NOAA-NMFS-2022-0119-0003</td>\n",
       "      <td>NOAA</td>\n",
       "      <td>NOAA-NMFS-2022-0119</td>\n",
       "      <td>lcr-zzpi-2xed</td>\n",
       "      <td>Public Submission</td>\n",
       "      <td>2023-01-20T05:00Z</td>\n",
       "      <td>False</td>\n",
       "      <td>NaN</td>\n",
       "      <td>NaN</td>\n",
       "      <td>Comment from Wilson, Ann</td>\n",
       "      <td>...</td>\n",
       "      <td>NaN</td>\n",
       "      <td>NaN</td>\n",
       "      <td>Ann M Wilson, NRES 520 UWSP\\n\\nAs a current gr...</td>\n",
       "      <td>NaN</td>\n",
       "      <td>NaN</td>\n",
       "      <td>NaN</td>\n",
       "      <td>NaN</td>\n",
       "      <td>NaN</td>\n",
       "      <td>NaN</td>\n",
       "      <td>pageCount, Page Count, Number of pages In the ...</td>\n",
       "    </tr>\n",
       "    <tr>\n",
       "      <th>3</th>\n",
       "      <td>NOAA-NMFS-2022-0119-0004</td>\n",
       "      <td>NOAA</td>\n",
       "      <td>NOAA-NMFS-2022-0119</td>\n",
       "      <td>lda-lwj0-6q7p</td>\n",
       "      <td>Public Submission</td>\n",
       "      <td>2023-02-02T05:00Z</td>\n",
       "      <td>False</td>\n",
       "      <td>NaN</td>\n",
       "      <td>NaN</td>\n",
       "      <td>Comment from Anonymous</td>\n",
       "      <td>...</td>\n",
       "      <td>NaN</td>\n",
       "      <td>NaN</td>\n",
       "      <td>I am excited to see the inclusion of eels on t...</td>\n",
       "      <td>NaN</td>\n",
       "      <td>NaN</td>\n",
       "      <td>NaN</td>\n",
       "      <td>NaN</td>\n",
       "      <td>NaN</td>\n",
       "      <td>NaN</td>\n",
       "      <td>pageCount, Page Count, Number of pages In the ...</td>\n",
       "    </tr>\n",
       "    <tr>\n",
       "      <th>4</th>\n",
       "      <td>NOAA-NMFS-2022-0119-0005</td>\n",
       "      <td>NOAA</td>\n",
       "      <td>NOAA-NMFS-2022-0119</td>\n",
       "      <td>ldk-z0yd-46w8</td>\n",
       "      <td>Public Submission</td>\n",
       "      <td>2023-02-02T05:00Z</td>\n",
       "      <td>False</td>\n",
       "      <td>NaN</td>\n",
       "      <td>NaN</td>\n",
       "      <td>Comment from Weinmann, Marie</td>\n",
       "      <td>...</td>\n",
       "      <td>NaN</td>\n",
       "      <td>NaN</td>\n",
       "      <td>Dear NOAA Administrator Spinrad and NOAA Fishe...</td>\n",
       "      <td>NaN</td>\n",
       "      <td>NaN</td>\n",
       "      <td>NaN</td>\n",
       "      <td>NaN</td>\n",
       "      <td>NaN</td>\n",
       "      <td>NaN</td>\n",
       "      <td>pageCount, Page Count, Number of pages In the ...</td>\n",
       "    </tr>\n",
       "  </tbody>\n",
       "</table>\n",
       "<p>5 rows × 60 columns</p>\n",
       "</div>"
      ],
      "text/plain": [
       "                Document ID Agency ID            Docket ID Tracking Number  \\\n",
       "0  NOAA-NMFS-2022-0119-0001      NOAA  NOAA-NMFS-2022-0119             NaN   \n",
       "1  NOAA-NMFS-2022-0119-0002      NOAA  NOAA-NMFS-2022-0119   lcj-jtiv-eyjs   \n",
       "2  NOAA-NMFS-2022-0119-0003      NOAA  NOAA-NMFS-2022-0119   lcr-zzpi-2xed   \n",
       "3  NOAA-NMFS-2022-0119-0004      NOAA  NOAA-NMFS-2022-0119   lda-lwj0-6q7p   \n",
       "4  NOAA-NMFS-2022-0119-0005      NOAA  NOAA-NMFS-2022-0119   ldk-z0yd-46w8   \n",
       "\n",
       "       Document Type        Posted Date  Is Withdrawn?  \\\n",
       "0      Proposed Rule  2022-12-28T05:00Z          False   \n",
       "1  Public Submission  2023-01-20T05:00Z          False   \n",
       "2  Public Submission  2023-01-20T05:00Z          False   \n",
       "3  Public Submission  2023-02-02T05:00Z          False   \n",
       "4  Public Submission  2023-02-02T05:00Z          False   \n",
       "\n",
       "  Federal Register Number  FR Citation  \\\n",
       "0              2022-27741          NaN   \n",
       "1                     NaN          NaN   \n",
       "2                     NaN          NaN   \n",
       "3                     NaN          NaN   \n",
       "4                     NaN          NaN   \n",
       "\n",
       "                                               Title  ... Government Agency  \\\n",
       "0  Magnuson-Stevens Fishery Conservation and Mana...  ...               NaN   \n",
       "1                          Comment from Brown, Julie  ...               NaN   \n",
       "2                           Comment from Wilson, Ann  ...               NaN   \n",
       "3                             Comment from Anonymous  ...               NaN   \n",
       "4                       Comment from Weinmann, Marie  ...               NaN   \n",
       "\n",
       "  Government Agency Type                                            Comment  \\\n",
       "0                    NaN                                                NaN   \n",
       "1                    NaN      We should expand SIMP to ALL imported species   \n",
       "2                    NaN  Ann M Wilson, NRES 520 UWSP\\n\\nAs a current gr...   \n",
       "3                    NaN  I am excited to see the inclusion of eels on t...   \n",
       "4                    NaN  Dear NOAA Administrator Spinrad and NOAA Fishe...   \n",
       "\n",
       "  Category  Restrict Reason Type  Restrict Reason  Reason Withdrawn  \\\n",
       "0      NaN                   NaN              NaN               NaN   \n",
       "1      NaN                   NaN              NaN               NaN   \n",
       "2      NaN                   NaN              NaN               NaN   \n",
       "3      NaN                   NaN              NaN               NaN   \n",
       "4      NaN                   NaN              NaN               NaN   \n",
       "\n",
       "                                       Content Files  Attachment Files  \\\n",
       "0  https://downloads.regulations.gov/NOAA-NMFS-20...               NaN   \n",
       "1                                                NaN               NaN   \n",
       "2                                                NaN               NaN   \n",
       "3                                                NaN               NaN   \n",
       "4                                                NaN               NaN   \n",
       "\n",
       "           Display Properties (Name, Label, Tooltip)  \n",
       "0  pageCount, Page Count, Number of pages In the ...  \n",
       "1  pageCount, Page Count, Number of pages In the ...  \n",
       "2  pageCount, Page Count, Number of pages In the ...  \n",
       "3  pageCount, Page Count, Number of pages In the ...  \n",
       "4  pageCount, Page Count, Number of pages In the ...  \n",
       "\n",
       "[5 rows x 60 columns]"
      ]
     },
     "execution_count": 3,
     "metadata": {},
     "output_type": "execute_result"
    }
   ],
   "source": [
    "df.head()"
   ]
  },
  {
   "cell_type": "code",
   "execution_count": 4,
   "id": "0ee2b84c",
   "metadata": {},
   "outputs": [
    {
     "name": "stderr",
     "output_type": "stream",
     "text": [
      "/var/folders/z4/2zbdnnm52zgfstckz8b80mv80000gn/T/ipykernel_24033/3170508180.py:2: FutureWarning: The default value of regex will change from True to False in a future version.\n",
      "  df.columns = df.columns.str.replace('[^a-zA-Z]', '')\n"
     ]
    },
    {
     "data": {
      "text/plain": [
       "Index(['DocumentID', 'AgencyID', 'DocketID', 'TrackingNumber', 'DocumentType',\n",
       "       'PostedDate', 'IsWithdrawn', 'FederalRegisterNumber', 'FRCitation',\n",
       "       'Title', 'CommentStartDate', 'CommentDueDate', 'AllowLateComments',\n",
       "       'CommentonDocumentID', 'EffectiveDate', 'ImplementationDate',\n",
       "       'PostmarkDate', 'ReceivedDate', 'AuthorDate', 'RelatedRINs', 'Authors',\n",
       "       'CFR', 'Abstract', 'LegacyID', 'Media', 'DocumentSubtype',\n",
       "       'ExhibitLocation', 'ExhibitType', 'AdditionalField', 'AdditionalField',\n",
       "       'Topics', 'DuplicateComments', 'OMBPRAApprovalNumber', 'PageCount',\n",
       "       'PageLength', 'PaperWidth', 'SpecialInstructions', 'SourceCitation',\n",
       "       'StartEndPage', 'Subject', 'FirstName', 'LastName', 'City',\n",
       "       'StateProvince', 'ZipPostalCode', 'Country', 'OrganizationName',\n",
       "       'SubmitterRepresentative', 'RepresentativesAddress',\n",
       "       'RepresentativesCityStateZip', 'GovernmentAgency',\n",
       "       'GovernmentAgencyType', 'Comment', 'Category', 'RestrictReasonType',\n",
       "       'RestrictReason', 'ReasonWithdrawn', 'ContentFiles', 'AttachmentFiles',\n",
       "       'DisplayPropertiesNameLabelTooltip'],\n",
       "      dtype='object')"
      ]
     },
     "execution_count": 4,
     "metadata": {},
     "output_type": "execute_result"
    }
   ],
   "source": [
    "# remove all non-letter characters from column names\n",
    "df.columns = df.columns.str.replace('[^a-zA-Z]', '')\n",
    "df.columns"
   ]
  },
  {
   "cell_type": "code",
   "execution_count": 5,
   "id": "9fd15cdf",
   "metadata": {},
   "outputs": [],
   "source": [
    "# download all files from internet listed in ContentFiles column\n",
    "import urllib.request\n",
    "import os\n",
    "for l in df['AttachmentFiles'].unique().tolist():\n",
    "    #cast l to string\n",
    "    l = str(l)\n",
    "    if l != 'nan':\n",
    "        for f in l.split(','):\n",
    "            if not os.path.isfile(f):\n",
    "                urllib.request.urlretrieve(f, ''.join(f.split('/')[-2:]).replace('^a-zA-Z0-9]', ''))"
   ]
  },
  {
   "cell_type": "code",
   "execution_count": 6,
   "id": "eb881609",
   "metadata": {},
   "outputs": [
    {
     "data": {
      "text/plain": [
       "[None,\n",
       " 'NOAA-NMFS-2022-0119-2015',\n",
       " 'NOAA-NMFS-2022-0119-2115',\n",
       " 'NOAA-NMFS-2022-0119-2117',\n",
       " 'NOAA-NMFS-2022-0119-2130',\n",
       " 'NOAA-NMFS-2022-0119-2131',\n",
       " 'NOAA-NMFS-2022-0119-2132',\n",
       " 'NOAA-NMFS-2022-0119-2133',\n",
       " 'NOAA-NMFS-2022-0119-2138',\n",
       " 'NOAA-NMFS-2022-0119-2144',\n",
       " 'NOAA-NMFS-2022-0119-2146',\n",
       " 'NOAA-NMFS-2022-0119-2148',\n",
       " 'NOAA-NMFS-2022-0119-2149',\n",
       " 'NOAA-NMFS-2022-0119-2150',\n",
       " 'NOAA-NMFS-2022-0119-2151',\n",
       " 'NOAA-NMFS-2022-0119-2156',\n",
       " 'NOAA-NMFS-2022-0119-2157',\n",
       " 'NOAA-NMFS-2022-0119-2158',\n",
       " 'NOAA-NMFS-2022-0119-2160',\n",
       " 'NOAA-NMFS-2022-0119-2163',\n",
       " 'NOAA-NMFS-2022-0119-2164',\n",
       " 'NOAA-NMFS-2022-0119-2166',\n",
       " 'NOAA-NMFS-2022-0119-2168',\n",
       " 'NOAA-NMFS-2022-0119-2170',\n",
       " 'NOAA-NMFS-2022-0119-2171',\n",
       " 'NOAA-NMFS-2022-0119-2175',\n",
       " 'NOAA-NMFS-2022-0119-2177',\n",
       " 'NOAA-NMFS-2022-0119-2179',\n",
       " 'NOAA-NMFS-2022-0119-2180',\n",
       " 'NOAA-NMFS-2022-0119-2182',\n",
       " 'NOAA-NMFS-2022-0119-2184',\n",
       " 'NOAA-NMFS-2022-0119-2185',\n",
       " 'NOAA-NMFS-2022-0119-2186',\n",
       " 'NOAA-NMFS-2022-0119-2187',\n",
       " 'NOAA-NMFS-2022-0119-2188',\n",
       " 'NOAA-NMFS-2022-0119-2189',\n",
       " 'NOAA-NMFS-2022-0119-2190',\n",
       " 'NOAA-NMFS-2022-0119-2191',\n",
       " 'NOAA-NMFS-2022-0119-2192',\n",
       " 'NOAA-NMFS-2022-0119-2193',\n",
       " 'NOAA-NMFS-2022-0119-2194',\n",
       " 'NOAA-NMFS-2022-0119-2195',\n",
       " 'NOAA-NMFS-2022-0119-2196',\n",
       " 'NOAA-NMFS-2022-0119-2197',\n",
       " 'NOAA-NMFS-2022-0119-2198',\n",
       " 'NOAA-NMFS-2022-0119-2199',\n",
       " 'NOAA-NMFS-2022-0119-2200',\n",
       " 'NOAA-NMFS-2022-0119-2201',\n",
       " 'NOAA-NMFS-2022-0119-2202',\n",
       " 'NOAA-NMFS-2022-0119-2204']"
      ]
     },
     "execution_count": 6,
     "metadata": {},
     "output_type": "execute_result"
    }
   ],
   "source": [
    "df['AttachmentFiles'].apply(lambda x:   str(x).split('/')[-2] if x and '/' in str(x) else None ).unique().tolist()"
   ]
  },
  {
   "cell_type": "code",
   "execution_count": 8,
   "id": "7e296c58",
   "metadata": {},
   "outputs": [
    {
     "name": "stdout",
     "output_type": "stream",
     "text": [
      "NOAA-NMFS-2022-0119-2171 22\n",
      "NOAA-NMFS-2022-0119-2202 15\n",
      "NOAA-NMFS-2022-0119-2115 21\n",
      "NOAA-NMFS-2022-0119-2166 12\n",
      "NOAA-NMFS-2022-0119-2204 29\n",
      "NOAA-NMFS-2022-0119-2163 26\n",
      "NOAA-NMFS-2022-0119-2201 15\n",
      "NOAA-NMFS-2022-0119-2185 13\n",
      "NOAA-NMFS-2022-0119-2157attachment_2 18\n",
      "NOAA-NMFS-2022-0119-2184 13\n",
      "NOAA-NMFS-2022-0119-2200 15\n",
      "NOAA-NMFS-2022-0119-2117 45\n",
      "NOAA-NMFS-2022-0119-2150 323\n"
     ]
    }
   ],
   "source": [
    "#open  pdf files in this folder and extract text\n",
    "import pdfplumber\n",
    "import os\n",
    "pdf_text_dict = {}\n",
    "for f in os.listdir():\n",
    "    if f.endswith('.pdf'):\n",
    "        with pdfplumber.open(f) as pdf:\n",
    "            # get filename of f\n",
    "            filename = f.split('.')[0].replace('attachment_1', '')\n",
    "            if len(pdf.pages) > 10:\n",
    "                print(filename, len(pdf.pages))\n",
    "            pdf_text_dict[filename] = '\\n'.join([page.extract_text() for page in pdf.pages[0:20]])\n",
    "\n"
   ]
  },
  {
   "attachments": {},
   "cell_type": "markdown",
   "id": "87dc1910",
   "metadata": {},
   "source": [
    "## Long PDFs\n",
    "There were several attachments that were quite long. The longest was a letter from Oceana signed by many, many people\n",
    "\n",
    "The rest were generally reports from other governments or nonprofits"
   ]
  },
  {
   "cell_type": "code",
   "execution_count": 9,
   "id": "176a5e78",
   "metadata": {},
   "outputs": [
    {
     "data": {
      "text/html": [
       "<div>\n",
       "<style scoped>\n",
       "    .dataframe tbody tr th:only-of-type {\n",
       "        vertical-align: middle;\n",
       "    }\n",
       "\n",
       "    .dataframe tbody tr th {\n",
       "        vertical-align: top;\n",
       "    }\n",
       "\n",
       "    .dataframe thead th {\n",
       "        text-align: right;\n",
       "    }\n",
       "</style>\n",
       "<table border=\"1\" class=\"dataframe\">\n",
       "  <thead>\n",
       "    <tr style=\"text-align: right;\">\n",
       "      <th></th>\n",
       "      <th>DocumentID</th>\n",
       "      <th>AgencyID</th>\n",
       "      <th>DocketID</th>\n",
       "      <th>TrackingNumber</th>\n",
       "      <th>DocumentType</th>\n",
       "      <th>PostedDate</th>\n",
       "      <th>IsWithdrawn</th>\n",
       "      <th>FederalRegisterNumber</th>\n",
       "      <th>FRCitation</th>\n",
       "      <th>Title</th>\n",
       "      <th>...</th>\n",
       "      <th>GovernmentAgencyType</th>\n",
       "      <th>Comment</th>\n",
       "      <th>Category</th>\n",
       "      <th>RestrictReasonType</th>\n",
       "      <th>RestrictReason</th>\n",
       "      <th>ReasonWithdrawn</th>\n",
       "      <th>ContentFiles</th>\n",
       "      <th>AttachmentFiles</th>\n",
       "      <th>DisplayPropertiesNameLabelTooltip</th>\n",
       "      <th>pdf_text</th>\n",
       "    </tr>\n",
       "  </thead>\n",
       "  <tbody>\n",
       "    <tr>\n",
       "      <th>0</th>\n",
       "      <td>NOAA-NMFS-2022-0119-0001</td>\n",
       "      <td>NOAA</td>\n",
       "      <td>NOAA-NMFS-2022-0119</td>\n",
       "      <td>NaN</td>\n",
       "      <td>Proposed Rule</td>\n",
       "      <td>2022-12-28T05:00Z</td>\n",
       "      <td>False</td>\n",
       "      <td>2022-27741</td>\n",
       "      <td>NaN</td>\n",
       "      <td>Magnuson-Stevens Fishery Conservation and Mana...</td>\n",
       "      <td>...</td>\n",
       "      <td>NaN</td>\n",
       "      <td>NaN</td>\n",
       "      <td>NaN</td>\n",
       "      <td>NaN</td>\n",
       "      <td>NaN</td>\n",
       "      <td>NaN</td>\n",
       "      <td>https://downloads.regulations.gov/NOAA-NMFS-20...</td>\n",
       "      <td>NaN</td>\n",
       "      <td>pageCount, Page Count, Number of pages In the ...</td>\n",
       "      <td>NaN</td>\n",
       "    </tr>\n",
       "    <tr>\n",
       "      <th>1</th>\n",
       "      <td>NOAA-NMFS-2022-0119-0002</td>\n",
       "      <td>NOAA</td>\n",
       "      <td>NOAA-NMFS-2022-0119</td>\n",
       "      <td>lcj-jtiv-eyjs</td>\n",
       "      <td>Public Submission</td>\n",
       "      <td>2023-01-20T05:00Z</td>\n",
       "      <td>False</td>\n",
       "      <td>NaN</td>\n",
       "      <td>NaN</td>\n",
       "      <td>Comment from Brown, Julie</td>\n",
       "      <td>...</td>\n",
       "      <td>NaN</td>\n",
       "      <td>We should expand SIMP to ALL imported species</td>\n",
       "      <td>NaN</td>\n",
       "      <td>NaN</td>\n",
       "      <td>NaN</td>\n",
       "      <td>NaN</td>\n",
       "      <td>NaN</td>\n",
       "      <td>NaN</td>\n",
       "      <td>pageCount, Page Count, Number of pages In the ...</td>\n",
       "      <td>NaN</td>\n",
       "    </tr>\n",
       "    <tr>\n",
       "      <th>2</th>\n",
       "      <td>NOAA-NMFS-2022-0119-0003</td>\n",
       "      <td>NOAA</td>\n",
       "      <td>NOAA-NMFS-2022-0119</td>\n",
       "      <td>lcr-zzpi-2xed</td>\n",
       "      <td>Public Submission</td>\n",
       "      <td>2023-01-20T05:00Z</td>\n",
       "      <td>False</td>\n",
       "      <td>NaN</td>\n",
       "      <td>NaN</td>\n",
       "      <td>Comment from Wilson, Ann</td>\n",
       "      <td>...</td>\n",
       "      <td>NaN</td>\n",
       "      <td>Ann M Wilson, NRES 520 UWSP\\n\\nAs a current gr...</td>\n",
       "      <td>NaN</td>\n",
       "      <td>NaN</td>\n",
       "      <td>NaN</td>\n",
       "      <td>NaN</td>\n",
       "      <td>NaN</td>\n",
       "      <td>NaN</td>\n",
       "      <td>pageCount, Page Count, Number of pages In the ...</td>\n",
       "      <td>NaN</td>\n",
       "    </tr>\n",
       "    <tr>\n",
       "      <th>3</th>\n",
       "      <td>NOAA-NMFS-2022-0119-0004</td>\n",
       "      <td>NOAA</td>\n",
       "      <td>NOAA-NMFS-2022-0119</td>\n",
       "      <td>lda-lwj0-6q7p</td>\n",
       "      <td>Public Submission</td>\n",
       "      <td>2023-02-02T05:00Z</td>\n",
       "      <td>False</td>\n",
       "      <td>NaN</td>\n",
       "      <td>NaN</td>\n",
       "      <td>Comment from Anonymous</td>\n",
       "      <td>...</td>\n",
       "      <td>NaN</td>\n",
       "      <td>I am excited to see the inclusion of eels on t...</td>\n",
       "      <td>NaN</td>\n",
       "      <td>NaN</td>\n",
       "      <td>NaN</td>\n",
       "      <td>NaN</td>\n",
       "      <td>NaN</td>\n",
       "      <td>NaN</td>\n",
       "      <td>pageCount, Page Count, Number of pages In the ...</td>\n",
       "      <td>NaN</td>\n",
       "    </tr>\n",
       "    <tr>\n",
       "      <th>4</th>\n",
       "      <td>NOAA-NMFS-2022-0119-0005</td>\n",
       "      <td>NOAA</td>\n",
       "      <td>NOAA-NMFS-2022-0119</td>\n",
       "      <td>ldk-z0yd-46w8</td>\n",
       "      <td>Public Submission</td>\n",
       "      <td>2023-02-02T05:00Z</td>\n",
       "      <td>False</td>\n",
       "      <td>NaN</td>\n",
       "      <td>NaN</td>\n",
       "      <td>Comment from Weinmann, Marie</td>\n",
       "      <td>...</td>\n",
       "      <td>NaN</td>\n",
       "      <td>Dear NOAA Administrator Spinrad and NOAA Fishe...</td>\n",
       "      <td>NaN</td>\n",
       "      <td>NaN</td>\n",
       "      <td>NaN</td>\n",
       "      <td>NaN</td>\n",
       "      <td>NaN</td>\n",
       "      <td>NaN</td>\n",
       "      <td>pageCount, Page Count, Number of pages In the ...</td>\n",
       "      <td>NaN</td>\n",
       "    </tr>\n",
       "    <tr>\n",
       "      <th>...</th>\n",
       "      <td>...</td>\n",
       "      <td>...</td>\n",
       "      <td>...</td>\n",
       "      <td>...</td>\n",
       "      <td>...</td>\n",
       "      <td>...</td>\n",
       "      <td>...</td>\n",
       "      <td>...</td>\n",
       "      <td>...</td>\n",
       "      <td>...</td>\n",
       "      <td>...</td>\n",
       "      <td>...</td>\n",
       "      <td>...</td>\n",
       "      <td>...</td>\n",
       "      <td>...</td>\n",
       "      <td>...</td>\n",
       "      <td>...</td>\n",
       "      <td>...</td>\n",
       "      <td>...</td>\n",
       "      <td>...</td>\n",
       "      <td>...</td>\n",
       "    </tr>\n",
       "    <tr>\n",
       "      <th>2197</th>\n",
       "      <td>NOAA-NMFS-2022-0119-2200</td>\n",
       "      <td>NOAA</td>\n",
       "      <td>NOAA-NMFS-2022-0119</td>\n",
       "      <td>lgz-w9zq-b8i3</td>\n",
       "      <td>Public Submission</td>\n",
       "      <td>2023-05-01T04:00Z</td>\n",
       "      <td>False</td>\n",
       "      <td>NaN</td>\n",
       "      <td>NaN</td>\n",
       "      <td>Comment from National Fisheries Institute</td>\n",
       "      <td>...</td>\n",
       "      <td>NaN</td>\n",
       "      <td>Please see attached comments from the National...</td>\n",
       "      <td>NaN</td>\n",
       "      <td>NaN</td>\n",
       "      <td>NaN</td>\n",
       "      <td>NaN</td>\n",
       "      <td>NaN</td>\n",
       "      <td>https://downloads.regulations.gov/NOAA-NMFS-20...</td>\n",
       "      <td>pageCount, Page Count, Number of pages In the ...</td>\n",
       "      <td>April 27, 2023\\nMs. Janet Coit\\nAssistant Admi...</td>\n",
       "    </tr>\n",
       "    <tr>\n",
       "      <th>2198</th>\n",
       "      <td>NOAA-NMFS-2022-0119-2201</td>\n",
       "      <td>NOAA</td>\n",
       "      <td>NOAA-NMFS-2022-0119</td>\n",
       "      <td>lgz-sbpt-z168</td>\n",
       "      <td>Public Submission</td>\n",
       "      <td>2023-05-02T04:00Z</td>\n",
       "      <td>False</td>\n",
       "      <td>NaN</td>\n",
       "      <td>NaN</td>\n",
       "      <td>Comment from NRDC</td>\n",
       "      <td>...</td>\n",
       "      <td>NaN</td>\n",
       "      <td>See attached file(s)</td>\n",
       "      <td>NaN</td>\n",
       "      <td>NaN</td>\n",
       "      <td>NaN</td>\n",
       "      <td>NaN</td>\n",
       "      <td>NaN</td>\n",
       "      <td>https://downloads.regulations.gov/NOAA-NMFS-20...</td>\n",
       "      <td>pageCount, Page Count, Number of pages In the ...</td>\n",
       "      <td>April 27, 2023\\nRachael Confair\\nTrade Monitor...</td>\n",
       "    </tr>\n",
       "    <tr>\n",
       "      <th>2199</th>\n",
       "      <td>NOAA-NMFS-2022-0119-2202</td>\n",
       "      <td>NOAA</td>\n",
       "      <td>NOAA-NMFS-2022-0119</td>\n",
       "      <td>lgz-spv1-1q5g</td>\n",
       "      <td>Public Submission</td>\n",
       "      <td>2023-05-02T04:00Z</td>\n",
       "      <td>False</td>\n",
       "      <td>NaN</td>\n",
       "      <td>NaN</td>\n",
       "      <td>Comment from NRDC</td>\n",
       "      <td>...</td>\n",
       "      <td>NaN</td>\n",
       "      <td>See attached file(s)</td>\n",
       "      <td>NaN</td>\n",
       "      <td>NaN</td>\n",
       "      <td>NaN</td>\n",
       "      <td>NaN</td>\n",
       "      <td>NaN</td>\n",
       "      <td>https://downloads.regulations.gov/NOAA-NMFS-20...</td>\n",
       "      <td>pageCount, Page Count, Number of pages In the ...</td>\n",
       "      <td>April 27, 2023\\nRachael Confair\\nTrade Monitor...</td>\n",
       "    </tr>\n",
       "    <tr>\n",
       "      <th>2200</th>\n",
       "      <td>NOAA-NMFS-2022-0119-2203</td>\n",
       "      <td>NOAA</td>\n",
       "      <td>NOAA-NMFS-2022-0119</td>\n",
       "      <td>lgz-adhc-v1eh</td>\n",
       "      <td>Public Submission</td>\n",
       "      <td>2023-05-02T04:00Z</td>\n",
       "      <td>False</td>\n",
       "      <td>NaN</td>\n",
       "      <td>NaN</td>\n",
       "      <td>Comment from Southwind Foods LLC dba Great Ame...</td>\n",
       "      <td>...</td>\n",
       "      <td>NaN</td>\n",
       "      <td>My comments are in regards to the IFTP holder ...</td>\n",
       "      <td>NaN</td>\n",
       "      <td>NaN</td>\n",
       "      <td>NaN</td>\n",
       "      <td>NaN</td>\n",
       "      <td>NaN</td>\n",
       "      <td>NaN</td>\n",
       "      <td>pageCount, Page Count, Number of pages In the ...</td>\n",
       "      <td>NaN</td>\n",
       "    </tr>\n",
       "    <tr>\n",
       "      <th>2201</th>\n",
       "      <td>NOAA-NMFS-2022-0119-2204</td>\n",
       "      <td>NOAA</td>\n",
       "      <td>NOAA-NMFS-2022-0119</td>\n",
       "      <td>lgz-grfd-bj7t</td>\n",
       "      <td>Public Submission</td>\n",
       "      <td>2023-05-02T04:00Z</td>\n",
       "      <td>False</td>\n",
       "      <td>NaN</td>\n",
       "      <td>NaN</td>\n",
       "      <td>Comment from Southern Shrimp Alliance</td>\n",
       "      <td>...</td>\n",
       "      <td>NaN</td>\n",
       "      <td>Please find attached comments from the Souther...</td>\n",
       "      <td>NaN</td>\n",
       "      <td>NaN</td>\n",
       "      <td>NaN</td>\n",
       "      <td>NaN</td>\n",
       "      <td>NaN</td>\n",
       "      <td>https://downloads.regulations.gov/NOAA-NMFS-20...</td>\n",
       "      <td>pageCount, Page Count, Number of pages In the ...</td>\n",
       "      <td>Southern Shrimp Alliance\\nP.O. Box 1577 Tarpon...</td>\n",
       "    </tr>\n",
       "  </tbody>\n",
       "</table>\n",
       "<p>2202 rows × 61 columns</p>\n",
       "</div>"
      ],
      "text/plain": [
       "                    DocumentID AgencyID             DocketID TrackingNumber  \\\n",
       "0     NOAA-NMFS-2022-0119-0001     NOAA  NOAA-NMFS-2022-0119            NaN   \n",
       "1     NOAA-NMFS-2022-0119-0002     NOAA  NOAA-NMFS-2022-0119  lcj-jtiv-eyjs   \n",
       "2     NOAA-NMFS-2022-0119-0003     NOAA  NOAA-NMFS-2022-0119  lcr-zzpi-2xed   \n",
       "3     NOAA-NMFS-2022-0119-0004     NOAA  NOAA-NMFS-2022-0119  lda-lwj0-6q7p   \n",
       "4     NOAA-NMFS-2022-0119-0005     NOAA  NOAA-NMFS-2022-0119  ldk-z0yd-46w8   \n",
       "...                        ...      ...                  ...            ...   \n",
       "2197  NOAA-NMFS-2022-0119-2200     NOAA  NOAA-NMFS-2022-0119  lgz-w9zq-b8i3   \n",
       "2198  NOAA-NMFS-2022-0119-2201     NOAA  NOAA-NMFS-2022-0119  lgz-sbpt-z168   \n",
       "2199  NOAA-NMFS-2022-0119-2202     NOAA  NOAA-NMFS-2022-0119  lgz-spv1-1q5g   \n",
       "2200  NOAA-NMFS-2022-0119-2203     NOAA  NOAA-NMFS-2022-0119  lgz-adhc-v1eh   \n",
       "2201  NOAA-NMFS-2022-0119-2204     NOAA  NOAA-NMFS-2022-0119  lgz-grfd-bj7t   \n",
       "\n",
       "           DocumentType         PostedDate  IsWithdrawn FederalRegisterNumber  \\\n",
       "0         Proposed Rule  2022-12-28T05:00Z        False            2022-27741   \n",
       "1     Public Submission  2023-01-20T05:00Z        False                   NaN   \n",
       "2     Public Submission  2023-01-20T05:00Z        False                   NaN   \n",
       "3     Public Submission  2023-02-02T05:00Z        False                   NaN   \n",
       "4     Public Submission  2023-02-02T05:00Z        False                   NaN   \n",
       "...                 ...                ...          ...                   ...   \n",
       "2197  Public Submission  2023-05-01T04:00Z        False                   NaN   \n",
       "2198  Public Submission  2023-05-02T04:00Z        False                   NaN   \n",
       "2199  Public Submission  2023-05-02T04:00Z        False                   NaN   \n",
       "2200  Public Submission  2023-05-02T04:00Z        False                   NaN   \n",
       "2201  Public Submission  2023-05-02T04:00Z        False                   NaN   \n",
       "\n",
       "      FRCitation                                              Title  ...  \\\n",
       "0            NaN  Magnuson-Stevens Fishery Conservation and Mana...  ...   \n",
       "1            NaN                          Comment from Brown, Julie  ...   \n",
       "2            NaN                           Comment from Wilson, Ann  ...   \n",
       "3            NaN                             Comment from Anonymous  ...   \n",
       "4            NaN                       Comment from Weinmann, Marie  ...   \n",
       "...          ...                                                ...  ...   \n",
       "2197         NaN          Comment from National Fisheries Institute  ...   \n",
       "2198         NaN                                  Comment from NRDC  ...   \n",
       "2199         NaN                                  Comment from NRDC  ...   \n",
       "2200         NaN  Comment from Southwind Foods LLC dba Great Ame...  ...   \n",
       "2201         NaN              Comment from Southern Shrimp Alliance  ...   \n",
       "\n",
       "     GovernmentAgencyType                                            Comment  \\\n",
       "0                     NaN                                                NaN   \n",
       "1                     NaN      We should expand SIMP to ALL imported species   \n",
       "2                     NaN  Ann M Wilson, NRES 520 UWSP\\n\\nAs a current gr...   \n",
       "3                     NaN  I am excited to see the inclusion of eels on t...   \n",
       "4                     NaN  Dear NOAA Administrator Spinrad and NOAA Fishe...   \n",
       "...                   ...                                                ...   \n",
       "2197                  NaN  Please see attached comments from the National...   \n",
       "2198                  NaN                               See attached file(s)   \n",
       "2199                  NaN                               See attached file(s)   \n",
       "2200                  NaN  My comments are in regards to the IFTP holder ...   \n",
       "2201                  NaN  Please find attached comments from the Souther...   \n",
       "\n",
       "      Category RestrictReasonType  RestrictReason  ReasonWithdrawn  \\\n",
       "0          NaN                NaN             NaN              NaN   \n",
       "1          NaN                NaN             NaN              NaN   \n",
       "2          NaN                NaN             NaN              NaN   \n",
       "3          NaN                NaN             NaN              NaN   \n",
       "4          NaN                NaN             NaN              NaN   \n",
       "...        ...                ...             ...              ...   \n",
       "2197       NaN                NaN             NaN              NaN   \n",
       "2198       NaN                NaN             NaN              NaN   \n",
       "2199       NaN                NaN             NaN              NaN   \n",
       "2200       NaN                NaN             NaN              NaN   \n",
       "2201       NaN                NaN             NaN              NaN   \n",
       "\n",
       "                                           ContentFiles  \\\n",
       "0     https://downloads.regulations.gov/NOAA-NMFS-20...   \n",
       "1                                                   NaN   \n",
       "2                                                   NaN   \n",
       "3                                                   NaN   \n",
       "4                                                   NaN   \n",
       "...                                                 ...   \n",
       "2197                                                NaN   \n",
       "2198                                                NaN   \n",
       "2199                                                NaN   \n",
       "2200                                                NaN   \n",
       "2201                                                NaN   \n",
       "\n",
       "                                        AttachmentFiles  \\\n",
       "0                                                   NaN   \n",
       "1                                                   NaN   \n",
       "2                                                   NaN   \n",
       "3                                                   NaN   \n",
       "4                                                   NaN   \n",
       "...                                                 ...   \n",
       "2197  https://downloads.regulations.gov/NOAA-NMFS-20...   \n",
       "2198  https://downloads.regulations.gov/NOAA-NMFS-20...   \n",
       "2199  https://downloads.regulations.gov/NOAA-NMFS-20...   \n",
       "2200                                                NaN   \n",
       "2201  https://downloads.regulations.gov/NOAA-NMFS-20...   \n",
       "\n",
       "                      DisplayPropertiesNameLabelTooltip  \\\n",
       "0     pageCount, Page Count, Number of pages In the ...   \n",
       "1     pageCount, Page Count, Number of pages In the ...   \n",
       "2     pageCount, Page Count, Number of pages In the ...   \n",
       "3     pageCount, Page Count, Number of pages In the ...   \n",
       "4     pageCount, Page Count, Number of pages In the ...   \n",
       "...                                                 ...   \n",
       "2197  pageCount, Page Count, Number of pages In the ...   \n",
       "2198  pageCount, Page Count, Number of pages In the ...   \n",
       "2199  pageCount, Page Count, Number of pages In the ...   \n",
       "2200  pageCount, Page Count, Number of pages In the ...   \n",
       "2201  pageCount, Page Count, Number of pages In the ...   \n",
       "\n",
       "                                               pdf_text  \n",
       "0                                                   NaN  \n",
       "1                                                   NaN  \n",
       "2                                                   NaN  \n",
       "3                                                   NaN  \n",
       "4                                                   NaN  \n",
       "...                                                 ...  \n",
       "2197  April 27, 2023\\nMs. Janet Coit\\nAssistant Admi...  \n",
       "2198  April 27, 2023\\nRachael Confair\\nTrade Monitor...  \n",
       "2199  April 27, 2023\\nRachael Confair\\nTrade Monitor...  \n",
       "2200                                                NaN  \n",
       "2201  Southern Shrimp Alliance\\nP.O. Box 1577 Tarpon...  \n",
       "\n",
       "[2202 rows x 61 columns]"
      ]
     },
     "execution_count": 9,
     "metadata": {},
     "output_type": "execute_result"
    }
   ],
   "source": [
    "# create dataframe from pdf_text_dict\n",
    "pdf_text_df = pd.DataFrame.from_dict(pdf_text_dict, orient='index')\n",
    "#join pdf_text_df to df on index \n",
    "df_with_pdf_data = df.set_index('DocumentID').join(pdf_text_df, how='left').reset_index()\n",
    "df_with_pdf_data = df_with_pdf_data.rename(columns={0: 'pdf_text'})\n",
    "df_with_pdf_data"
   ]
  },
  {
   "cell_type": "code",
   "execution_count": 10,
   "id": "da96fa58",
   "metadata": {},
   "outputs": [],
   "source": [
    "#extract text from docx files\n",
    "\n",
    "docx_text_dict = {}\n",
    "for f in os.listdir():\n",
    "    if f.endswith('.docx'):\n",
    "        doc = docx.Document(f)\n",
    "        # get filename of f\n",
    "        filename = f.split('.')[0].replace('attachment_1', '')\n",
    "        docx_text_dict[filename] = '\\n'.join([p.text for p in doc.paragraphs])"
   ]
  },
  {
   "cell_type": "code",
   "execution_count": 11,
   "id": "36a3b62e",
   "metadata": {},
   "outputs": [],
   "source": [
    "#Create a single column with the unified text for each comment for analysis\n",
    "def combine_comment_text(row):\n",
    "    if str(row['Comment']) != 'nan' and str(row['pdf_text']) != 'nan':\n",
    "        return row['Comment'] + ' ' + row['pdf_text']\n",
    "    elif str(row['pdf_text']) != 'nan':\n",
    "        return row['pdf_text']\n",
    "    elif str(row['Comment']) != 'nan':\n",
    "        return row['Comment']\n",
    "    else:\n",
    "        return 'UnknownText'\n",
    "df_with_pdf_data['CombinedText'] = df_with_pdf_data.apply(combine_comment_text, axis=1)"
   ]
  },
  {
   "cell_type": "code",
   "execution_count": 12,
   "id": "919c9f32",
   "metadata": {},
   "outputs": [
    {
     "name": "stdout",
     "output_type": "stream",
     "text": [
      "Number of entries referencing  eel: 14\n",
      "['NOAA-NMFS-2022-0119-0003', 'NOAA-NMFS-2022-0119-0004', 'NOAA-NMFS-2022-0119-2125', 'NOAA-NMFS-2022-0119-2134', 'NOAA-NMFS-2022-0119-2136', 'NOAA-NMFS-2022-0119-2137', 'NOAA-NMFS-2022-0119-2150', 'NOAA-NMFS-2022-0119-2156', 'NOAA-NMFS-2022-0119-2163', 'NOAA-NMFS-2022-0119-2166', 'NOAA-NMFS-2022-0119-2195', 'NOAA-NMFS-2022-0119-2200', 'NOAA-NMFS-2022-0119-2201', 'NOAA-NMFS-2022-0119-2202']\n",
      "Number of entries referencing  ndaa: 4\n",
      "['NOAA-NMFS-2022-0119-2163', 'NOAA-NMFS-2022-0119-2166', 'NOAA-NMFS-2022-0119-2201', 'NOAA-NMFS-2022-0119-2202']\n",
      "Number of entries referencing  squid: 18\n",
      "['NOAA-NMFS-2022-0119-2150', 'NOAA-NMFS-2022-0119-2156', 'NOAA-NMFS-2022-0119-2158', 'NOAA-NMFS-2022-0119-2163', 'NOAA-NMFS-2022-0119-2166', 'NOAA-NMFS-2022-0119-2171', 'NOAA-NMFS-2022-0119-2172', 'NOAA-NMFS-2022-0119-2187', 'NOAA-NMFS-2022-0119-2188', 'NOAA-NMFS-2022-0119-2189', 'NOAA-NMFS-2022-0119-2191', 'NOAA-NMFS-2022-0119-2192', 'NOAA-NMFS-2022-0119-2193', 'NOAA-NMFS-2022-0119-2195', 'NOAA-NMFS-2022-0119-2200', 'NOAA-NMFS-2022-0119-2201', 'NOAA-NMFS-2022-0119-2202', 'NOAA-NMFS-2022-0119-2204']\n",
      "Number of entries referencing  reprop: 0\n",
      "[]\n",
      "Number of entries referencing  propose: 2166\n",
      "['NOAA-NMFS-2022-0119-0003', 'NOAA-NMFS-2022-0119-0005', 'NOAA-NMFS-2022-0119-0006', 'NOAA-NMFS-2022-0119-0007', 'NOAA-NMFS-2022-0119-0008', 'NOAA-NMFS-2022-0119-0009', 'NOAA-NMFS-2022-0119-0010', 'NOAA-NMFS-2022-0119-0011', 'NOAA-NMFS-2022-0119-0012', 'NOAA-NMFS-2022-0119-0013', 'NOAA-NMFS-2022-0119-0014', 'NOAA-NMFS-2022-0119-0015', 'NOAA-NMFS-2022-0119-0016', 'NOAA-NMFS-2022-0119-0017', 'NOAA-NMFS-2022-0119-0018', 'NOAA-NMFS-2022-0119-0019', 'NOAA-NMFS-2022-0119-0020', 'NOAA-NMFS-2022-0119-0021', 'NOAA-NMFS-2022-0119-0022', 'NOAA-NMFS-2022-0119-0023', 'NOAA-NMFS-2022-0119-0024', 'NOAA-NMFS-2022-0119-0025', 'NOAA-NMFS-2022-0119-0026', 'NOAA-NMFS-2022-0119-0027', 'NOAA-NMFS-2022-0119-0028', 'NOAA-NMFS-2022-0119-0029', 'NOAA-NMFS-2022-0119-0030', 'NOAA-NMFS-2022-0119-0031', 'NOAA-NMFS-2022-0119-0032', 'NOAA-NMFS-2022-0119-0033', 'NOAA-NMFS-2022-0119-0034', 'NOAA-NMFS-2022-0119-0035', 'NOAA-NMFS-2022-0119-0036', 'NOAA-NMFS-2022-0119-0037', 'NOAA-NMFS-2022-0119-0038', 'NOAA-NMFS-2022-0119-0039', 'NOAA-NMFS-2022-0119-0040', 'NOAA-NMFS-2022-0119-0041', 'NOAA-NMFS-2022-0119-0042', 'NOAA-NMFS-2022-0119-0043', 'NOAA-NMFS-2022-0119-0044', 'NOAA-NMFS-2022-0119-0045', 'NOAA-NMFS-2022-0119-0046', 'NOAA-NMFS-2022-0119-0047', 'NOAA-NMFS-2022-0119-0048', 'NOAA-NMFS-2022-0119-0049', 'NOAA-NMFS-2022-0119-0050', 'NOAA-NMFS-2022-0119-0051', 'NOAA-NMFS-2022-0119-0052', 'NOAA-NMFS-2022-0119-0053', 'NOAA-NMFS-2022-0119-0054', 'NOAA-NMFS-2022-0119-0055', 'NOAA-NMFS-2022-0119-0056', 'NOAA-NMFS-2022-0119-0057', 'NOAA-NMFS-2022-0119-0058', 'NOAA-NMFS-2022-0119-0059', 'NOAA-NMFS-2022-0119-0060', 'NOAA-NMFS-2022-0119-0061', 'NOAA-NMFS-2022-0119-0062', 'NOAA-NMFS-2022-0119-0063', 'NOAA-NMFS-2022-0119-0064', 'NOAA-NMFS-2022-0119-0065', 'NOAA-NMFS-2022-0119-0066', 'NOAA-NMFS-2022-0119-0067', 'NOAA-NMFS-2022-0119-0068', 'NOAA-NMFS-2022-0119-0069', 'NOAA-NMFS-2022-0119-0070', 'NOAA-NMFS-2022-0119-0071', 'NOAA-NMFS-2022-0119-0072', 'NOAA-NMFS-2022-0119-0073', 'NOAA-NMFS-2022-0119-0074', 'NOAA-NMFS-2022-0119-0075', 'NOAA-NMFS-2022-0119-0076', 'NOAA-NMFS-2022-0119-0077', 'NOAA-NMFS-2022-0119-0078', 'NOAA-NMFS-2022-0119-0079', 'NOAA-NMFS-2022-0119-0080', 'NOAA-NMFS-2022-0119-0081', 'NOAA-NMFS-2022-0119-0082', 'NOAA-NMFS-2022-0119-0083', 'NOAA-NMFS-2022-0119-0084', 'NOAA-NMFS-2022-0119-0085', 'NOAA-NMFS-2022-0119-0086', 'NOAA-NMFS-2022-0119-0087', 'NOAA-NMFS-2022-0119-0088', 'NOAA-NMFS-2022-0119-0089', 'NOAA-NMFS-2022-0119-0090', 'NOAA-NMFS-2022-0119-0091', 'NOAA-NMFS-2022-0119-0092', 'NOAA-NMFS-2022-0119-0093', 'NOAA-NMFS-2022-0119-0094', 'NOAA-NMFS-2022-0119-0095', 'NOAA-NMFS-2022-0119-0096', 'NOAA-NMFS-2022-0119-0097', 'NOAA-NMFS-2022-0119-0098', 'NOAA-NMFS-2022-0119-0099', 'NOAA-NMFS-2022-0119-0100', 'NOAA-NMFS-2022-0119-0101', 'NOAA-NMFS-2022-0119-0102', 'NOAA-NMFS-2022-0119-0103', 'NOAA-NMFS-2022-0119-0104', 'NOAA-NMFS-2022-0119-0105', 'NOAA-NMFS-2022-0119-0106', 'NOAA-NMFS-2022-0119-0107', 'NOAA-NMFS-2022-0119-0108', 'NOAA-NMFS-2022-0119-0109', 'NOAA-NMFS-2022-0119-0110', 'NOAA-NMFS-2022-0119-0111', 'NOAA-NMFS-2022-0119-0112', 'NOAA-NMFS-2022-0119-0113', 'NOAA-NMFS-2022-0119-0114', 'NOAA-NMFS-2022-0119-0115', 'NOAA-NMFS-2022-0119-0116', 'NOAA-NMFS-2022-0119-0117', 'NOAA-NMFS-2022-0119-0118', 'NOAA-NMFS-2022-0119-0119', 'NOAA-NMFS-2022-0119-0120', 'NOAA-NMFS-2022-0119-0121', 'NOAA-NMFS-2022-0119-0122', 'NOAA-NMFS-2022-0119-0123', 'NOAA-NMFS-2022-0119-0124', 'NOAA-NMFS-2022-0119-0125', 'NOAA-NMFS-2022-0119-0126', 'NOAA-NMFS-2022-0119-0127', 'NOAA-NMFS-2022-0119-0128', 'NOAA-NMFS-2022-0119-0129', 'NOAA-NMFS-2022-0119-0130', 'NOAA-NMFS-2022-0119-0131', 'NOAA-NMFS-2022-0119-0132', 'NOAA-NMFS-2022-0119-0133', 'NOAA-NMFS-2022-0119-0134', 'NOAA-NMFS-2022-0119-0135', 'NOAA-NMFS-2022-0119-0136', 'NOAA-NMFS-2022-0119-0137', 'NOAA-NMFS-2022-0119-0138', 'NOAA-NMFS-2022-0119-0139', 'NOAA-NMFS-2022-0119-0140', 'NOAA-NMFS-2022-0119-0141', 'NOAA-NMFS-2022-0119-0142', 'NOAA-NMFS-2022-0119-0143', 'NOAA-NMFS-2022-0119-0144', 'NOAA-NMFS-2022-0119-0145', 'NOAA-NMFS-2022-0119-0146', 'NOAA-NMFS-2022-0119-0147', 'NOAA-NMFS-2022-0119-0148', 'NOAA-NMFS-2022-0119-0149', 'NOAA-NMFS-2022-0119-0150', 'NOAA-NMFS-2022-0119-0151', 'NOAA-NMFS-2022-0119-0152', 'NOAA-NMFS-2022-0119-0153', 'NOAA-NMFS-2022-0119-0154', 'NOAA-NMFS-2022-0119-0155', 'NOAA-NMFS-2022-0119-0156', 'NOAA-NMFS-2022-0119-0157', 'NOAA-NMFS-2022-0119-0158', 'NOAA-NMFS-2022-0119-0159', 'NOAA-NMFS-2022-0119-0160', 'NOAA-NMFS-2022-0119-0161', 'NOAA-NMFS-2022-0119-0162', 'NOAA-NMFS-2022-0119-0163', 'NOAA-NMFS-2022-0119-0164', 'NOAA-NMFS-2022-0119-0165', 'NOAA-NMFS-2022-0119-0166', 'NOAA-NMFS-2022-0119-0167', 'NOAA-NMFS-2022-0119-0168', 'NOAA-NMFS-2022-0119-0169', 'NOAA-NMFS-2022-0119-0170', 'NOAA-NMFS-2022-0119-0171', 'NOAA-NMFS-2022-0119-0172', 'NOAA-NMFS-2022-0119-0173', 'NOAA-NMFS-2022-0119-0174', 'NOAA-NMFS-2022-0119-0175', 'NOAA-NMFS-2022-0119-0176', 'NOAA-NMFS-2022-0119-0177', 'NOAA-NMFS-2022-0119-0178', 'NOAA-NMFS-2022-0119-0179', 'NOAA-NMFS-2022-0119-0180', 'NOAA-NMFS-2022-0119-0181', 'NOAA-NMFS-2022-0119-0182', 'NOAA-NMFS-2022-0119-0183', 'NOAA-NMFS-2022-0119-0184', 'NOAA-NMFS-2022-0119-0185', 'NOAA-NMFS-2022-0119-0186', 'NOAA-NMFS-2022-0119-0187', 'NOAA-NMFS-2022-0119-0188', 'NOAA-NMFS-2022-0119-0189', 'NOAA-NMFS-2022-0119-0190', 'NOAA-NMFS-2022-0119-0191', 'NOAA-NMFS-2022-0119-0192', 'NOAA-NMFS-2022-0119-0193', 'NOAA-NMFS-2022-0119-0194', 'NOAA-NMFS-2022-0119-0195', 'NOAA-NMFS-2022-0119-0196', 'NOAA-NMFS-2022-0119-0197', 'NOAA-NMFS-2022-0119-0198', 'NOAA-NMFS-2022-0119-0199', 'NOAA-NMFS-2022-0119-0200', 'NOAA-NMFS-2022-0119-0201', 'NOAA-NMFS-2022-0119-0202', 'NOAA-NMFS-2022-0119-0203', 'NOAA-NMFS-2022-0119-0204', 'NOAA-NMFS-2022-0119-0205', 'NOAA-NMFS-2022-0119-0206', 'NOAA-NMFS-2022-0119-0207', 'NOAA-NMFS-2022-0119-0208', 'NOAA-NMFS-2022-0119-0209', 'NOAA-NMFS-2022-0119-0210', 'NOAA-NMFS-2022-0119-0211', 'NOAA-NMFS-2022-0119-0212', 'NOAA-NMFS-2022-0119-0213', 'NOAA-NMFS-2022-0119-0214', 'NOAA-NMFS-2022-0119-0215', 'NOAA-NMFS-2022-0119-0216', 'NOAA-NMFS-2022-0119-0217', 'NOAA-NMFS-2022-0119-0218', 'NOAA-NMFS-2022-0119-0219', 'NOAA-NMFS-2022-0119-0220', 'NOAA-NMFS-2022-0119-0221', 'NOAA-NMFS-2022-0119-0222', 'NOAA-NMFS-2022-0119-0223', 'NOAA-NMFS-2022-0119-0224', 'NOAA-NMFS-2022-0119-0225', 'NOAA-NMFS-2022-0119-0226', 'NOAA-NMFS-2022-0119-0227', 'NOAA-NMFS-2022-0119-0228', 'NOAA-NMFS-2022-0119-0229', 'NOAA-NMFS-2022-0119-0230', 'NOAA-NMFS-2022-0119-0231', 'NOAA-NMFS-2022-0119-0232', 'NOAA-NMFS-2022-0119-0233', 'NOAA-NMFS-2022-0119-0234', 'NOAA-NMFS-2022-0119-0235', 'NOAA-NMFS-2022-0119-0236', 'NOAA-NMFS-2022-0119-0237', 'NOAA-NMFS-2022-0119-0238', 'NOAA-NMFS-2022-0119-0239', 'NOAA-NMFS-2022-0119-0240', 'NOAA-NMFS-2022-0119-0241', 'NOAA-NMFS-2022-0119-0242', 'NOAA-NMFS-2022-0119-0243', 'NOAA-NMFS-2022-0119-0244', 'NOAA-NMFS-2022-0119-0245', 'NOAA-NMFS-2022-0119-0246', 'NOAA-NMFS-2022-0119-0247', 'NOAA-NMFS-2022-0119-0248', 'NOAA-NMFS-2022-0119-0249', 'NOAA-NMFS-2022-0119-0250', 'NOAA-NMFS-2022-0119-0251', 'NOAA-NMFS-2022-0119-0252', 'NOAA-NMFS-2022-0119-0253', 'NOAA-NMFS-2022-0119-0254', 'NOAA-NMFS-2022-0119-0255', 'NOAA-NMFS-2022-0119-0256', 'NOAA-NMFS-2022-0119-0257', 'NOAA-NMFS-2022-0119-0258', 'NOAA-NMFS-2022-0119-0259', 'NOAA-NMFS-2022-0119-0260', 'NOAA-NMFS-2022-0119-0261', 'NOAA-NMFS-2022-0119-0262', 'NOAA-NMFS-2022-0119-0263', 'NOAA-NMFS-2022-0119-0264', 'NOAA-NMFS-2022-0119-0265', 'NOAA-NMFS-2022-0119-0266', 'NOAA-NMFS-2022-0119-0267', 'NOAA-NMFS-2022-0119-0268', 'NOAA-NMFS-2022-0119-0269', 'NOAA-NMFS-2022-0119-0270', 'NOAA-NMFS-2022-0119-0271', 'NOAA-NMFS-2022-0119-0272', 'NOAA-NMFS-2022-0119-0273', 'NOAA-NMFS-2022-0119-0274', 'NOAA-NMFS-2022-0119-0275', 'NOAA-NMFS-2022-0119-0276', 'NOAA-NMFS-2022-0119-0277', 'NOAA-NMFS-2022-0119-0278', 'NOAA-NMFS-2022-0119-0279', 'NOAA-NMFS-2022-0119-0280', 'NOAA-NMFS-2022-0119-0281', 'NOAA-NMFS-2022-0119-0282', 'NOAA-NMFS-2022-0119-0283', 'NOAA-NMFS-2022-0119-0284', 'NOAA-NMFS-2022-0119-0285', 'NOAA-NMFS-2022-0119-0286', 'NOAA-NMFS-2022-0119-0287', 'NOAA-NMFS-2022-0119-0288', 'NOAA-NMFS-2022-0119-0289', 'NOAA-NMFS-2022-0119-0290', 'NOAA-NMFS-2022-0119-0291', 'NOAA-NMFS-2022-0119-0292', 'NOAA-NMFS-2022-0119-0293', 'NOAA-NMFS-2022-0119-0294', 'NOAA-NMFS-2022-0119-0295', 'NOAA-NMFS-2022-0119-0296', 'NOAA-NMFS-2022-0119-0297', 'NOAA-NMFS-2022-0119-0298', 'NOAA-NMFS-2022-0119-0299', 'NOAA-NMFS-2022-0119-0300', 'NOAA-NMFS-2022-0119-0301', 'NOAA-NMFS-2022-0119-0302', 'NOAA-NMFS-2022-0119-0303', 'NOAA-NMFS-2022-0119-0304', 'NOAA-NMFS-2022-0119-0305', 'NOAA-NMFS-2022-0119-0306', 'NOAA-NMFS-2022-0119-0307', 'NOAA-NMFS-2022-0119-0308', 'NOAA-NMFS-2022-0119-0309', 'NOAA-NMFS-2022-0119-0310', 'NOAA-NMFS-2022-0119-0311', 'NOAA-NMFS-2022-0119-0312', 'NOAA-NMFS-2022-0119-0313', 'NOAA-NMFS-2022-0119-0314', 'NOAA-NMFS-2022-0119-0315', 'NOAA-NMFS-2022-0119-0316', 'NOAA-NMFS-2022-0119-0317', 'NOAA-NMFS-2022-0119-0318', 'NOAA-NMFS-2022-0119-0319', 'NOAA-NMFS-2022-0119-0320', 'NOAA-NMFS-2022-0119-0321', 'NOAA-NMFS-2022-0119-0322', 'NOAA-NMFS-2022-0119-0323', 'NOAA-NMFS-2022-0119-0324', 'NOAA-NMFS-2022-0119-0325', 'NOAA-NMFS-2022-0119-0326', 'NOAA-NMFS-2022-0119-0327', 'NOAA-NMFS-2022-0119-0328', 'NOAA-NMFS-2022-0119-0329', 'NOAA-NMFS-2022-0119-0330', 'NOAA-NMFS-2022-0119-0331', 'NOAA-NMFS-2022-0119-0332', 'NOAA-NMFS-2022-0119-0333', 'NOAA-NMFS-2022-0119-0334', 'NOAA-NMFS-2022-0119-0335', 'NOAA-NMFS-2022-0119-0336', 'NOAA-NMFS-2022-0119-0337', 'NOAA-NMFS-2022-0119-0338', 'NOAA-NMFS-2022-0119-0339', 'NOAA-NMFS-2022-0119-0340', 'NOAA-NMFS-2022-0119-0341', 'NOAA-NMFS-2022-0119-0342', 'NOAA-NMFS-2022-0119-0343', 'NOAA-NMFS-2022-0119-0344', 'NOAA-NMFS-2022-0119-0345', 'NOAA-NMFS-2022-0119-0346', 'NOAA-NMFS-2022-0119-0347', 'NOAA-NMFS-2022-0119-0348', 'NOAA-NMFS-2022-0119-0349', 'NOAA-NMFS-2022-0119-0350', 'NOAA-NMFS-2022-0119-0351', 'NOAA-NMFS-2022-0119-0352', 'NOAA-NMFS-2022-0119-0353', 'NOAA-NMFS-2022-0119-0354', 'NOAA-NMFS-2022-0119-0355', 'NOAA-NMFS-2022-0119-0356', 'NOAA-NMFS-2022-0119-0357', 'NOAA-NMFS-2022-0119-0358', 'NOAA-NMFS-2022-0119-0359', 'NOAA-NMFS-2022-0119-0360', 'NOAA-NMFS-2022-0119-0361', 'NOAA-NMFS-2022-0119-0362', 'NOAA-NMFS-2022-0119-0363', 'NOAA-NMFS-2022-0119-0364', 'NOAA-NMFS-2022-0119-0365', 'NOAA-NMFS-2022-0119-0366', 'NOAA-NMFS-2022-0119-0367', 'NOAA-NMFS-2022-0119-0368', 'NOAA-NMFS-2022-0119-0369', 'NOAA-NMFS-2022-0119-0370', 'NOAA-NMFS-2022-0119-0371', 'NOAA-NMFS-2022-0119-0372', 'NOAA-NMFS-2022-0119-0373', 'NOAA-NMFS-2022-0119-0374', 'NOAA-NMFS-2022-0119-0375', 'NOAA-NMFS-2022-0119-0376', 'NOAA-NMFS-2022-0119-0377', 'NOAA-NMFS-2022-0119-0378', 'NOAA-NMFS-2022-0119-0379', 'NOAA-NMFS-2022-0119-0380', 'NOAA-NMFS-2022-0119-0381', 'NOAA-NMFS-2022-0119-0382', 'NOAA-NMFS-2022-0119-0383', 'NOAA-NMFS-2022-0119-0384', 'NOAA-NMFS-2022-0119-0385', 'NOAA-NMFS-2022-0119-0386', 'NOAA-NMFS-2022-0119-0387', 'NOAA-NMFS-2022-0119-0388', 'NOAA-NMFS-2022-0119-0389', 'NOAA-NMFS-2022-0119-0390', 'NOAA-NMFS-2022-0119-0391', 'NOAA-NMFS-2022-0119-0392', 'NOAA-NMFS-2022-0119-0393', 'NOAA-NMFS-2022-0119-0394', 'NOAA-NMFS-2022-0119-0395', 'NOAA-NMFS-2022-0119-0396', 'NOAA-NMFS-2022-0119-0397', 'NOAA-NMFS-2022-0119-0398', 'NOAA-NMFS-2022-0119-0399', 'NOAA-NMFS-2022-0119-0400', 'NOAA-NMFS-2022-0119-0401', 'NOAA-NMFS-2022-0119-0402', 'NOAA-NMFS-2022-0119-0403', 'NOAA-NMFS-2022-0119-0404', 'NOAA-NMFS-2022-0119-0405', 'NOAA-NMFS-2022-0119-0406', 'NOAA-NMFS-2022-0119-0407', 'NOAA-NMFS-2022-0119-0408', 'NOAA-NMFS-2022-0119-0409', 'NOAA-NMFS-2022-0119-0410', 'NOAA-NMFS-2022-0119-0411', 'NOAA-NMFS-2022-0119-0412', 'NOAA-NMFS-2022-0119-0413', 'NOAA-NMFS-2022-0119-0414', 'NOAA-NMFS-2022-0119-0415', 'NOAA-NMFS-2022-0119-0416', 'NOAA-NMFS-2022-0119-0417', 'NOAA-NMFS-2022-0119-0418', 'NOAA-NMFS-2022-0119-0419', 'NOAA-NMFS-2022-0119-0420', 'NOAA-NMFS-2022-0119-0421', 'NOAA-NMFS-2022-0119-0422', 'NOAA-NMFS-2022-0119-0423', 'NOAA-NMFS-2022-0119-0424', 'NOAA-NMFS-2022-0119-0425', 'NOAA-NMFS-2022-0119-0426', 'NOAA-NMFS-2022-0119-0427', 'NOAA-NMFS-2022-0119-0428', 'NOAA-NMFS-2022-0119-0429', 'NOAA-NMFS-2022-0119-0430', 'NOAA-NMFS-2022-0119-0431', 'NOAA-NMFS-2022-0119-0432', 'NOAA-NMFS-2022-0119-0433', 'NOAA-NMFS-2022-0119-0434', 'NOAA-NMFS-2022-0119-0435', 'NOAA-NMFS-2022-0119-0436', 'NOAA-NMFS-2022-0119-0437', 'NOAA-NMFS-2022-0119-0438', 'NOAA-NMFS-2022-0119-0439', 'NOAA-NMFS-2022-0119-0440', 'NOAA-NMFS-2022-0119-0441', 'NOAA-NMFS-2022-0119-0442', 'NOAA-NMFS-2022-0119-0443', 'NOAA-NMFS-2022-0119-0444', 'NOAA-NMFS-2022-0119-0445', 'NOAA-NMFS-2022-0119-0446', 'NOAA-NMFS-2022-0119-0447', 'NOAA-NMFS-2022-0119-0448', 'NOAA-NMFS-2022-0119-0449', 'NOAA-NMFS-2022-0119-0450', 'NOAA-NMFS-2022-0119-0451', 'NOAA-NMFS-2022-0119-0452', 'NOAA-NMFS-2022-0119-0453', 'NOAA-NMFS-2022-0119-0454', 'NOAA-NMFS-2022-0119-0455', 'NOAA-NMFS-2022-0119-0456', 'NOAA-NMFS-2022-0119-0457', 'NOAA-NMFS-2022-0119-0458', 'NOAA-NMFS-2022-0119-0459', 'NOAA-NMFS-2022-0119-0460', 'NOAA-NMFS-2022-0119-0461', 'NOAA-NMFS-2022-0119-0462', 'NOAA-NMFS-2022-0119-0463', 'NOAA-NMFS-2022-0119-0464', 'NOAA-NMFS-2022-0119-0465', 'NOAA-NMFS-2022-0119-0466', 'NOAA-NMFS-2022-0119-0467', 'NOAA-NMFS-2022-0119-0468', 'NOAA-NMFS-2022-0119-0469', 'NOAA-NMFS-2022-0119-0470', 'NOAA-NMFS-2022-0119-0471', 'NOAA-NMFS-2022-0119-0472', 'NOAA-NMFS-2022-0119-0473', 'NOAA-NMFS-2022-0119-0474', 'NOAA-NMFS-2022-0119-0475', 'NOAA-NMFS-2022-0119-0476', 'NOAA-NMFS-2022-0119-0477', 'NOAA-NMFS-2022-0119-0478', 'NOAA-NMFS-2022-0119-0479', 'NOAA-NMFS-2022-0119-0480', 'NOAA-NMFS-2022-0119-0481', 'NOAA-NMFS-2022-0119-0482', 'NOAA-NMFS-2022-0119-0483', 'NOAA-NMFS-2022-0119-0484', 'NOAA-NMFS-2022-0119-0485', 'NOAA-NMFS-2022-0119-0486', 'NOAA-NMFS-2022-0119-0487', 'NOAA-NMFS-2022-0119-0488', 'NOAA-NMFS-2022-0119-0489', 'NOAA-NMFS-2022-0119-0490', 'NOAA-NMFS-2022-0119-0491', 'NOAA-NMFS-2022-0119-0492', 'NOAA-NMFS-2022-0119-0493', 'NOAA-NMFS-2022-0119-0494', 'NOAA-NMFS-2022-0119-0495', 'NOAA-NMFS-2022-0119-0496', 'NOAA-NMFS-2022-0119-0497', 'NOAA-NMFS-2022-0119-0498', 'NOAA-NMFS-2022-0119-0499', 'NOAA-NMFS-2022-0119-0500', 'NOAA-NMFS-2022-0119-0501', 'NOAA-NMFS-2022-0119-0502', 'NOAA-NMFS-2022-0119-0503', 'NOAA-NMFS-2022-0119-0504', 'NOAA-NMFS-2022-0119-0505', 'NOAA-NMFS-2022-0119-0506', 'NOAA-NMFS-2022-0119-0507', 'NOAA-NMFS-2022-0119-0508', 'NOAA-NMFS-2022-0119-0509', 'NOAA-NMFS-2022-0119-0510', 'NOAA-NMFS-2022-0119-0511', 'NOAA-NMFS-2022-0119-0512', 'NOAA-NMFS-2022-0119-0513', 'NOAA-NMFS-2022-0119-0514', 'NOAA-NMFS-2022-0119-0515', 'NOAA-NMFS-2022-0119-0516', 'NOAA-NMFS-2022-0119-0517', 'NOAA-NMFS-2022-0119-0518', 'NOAA-NMFS-2022-0119-0519', 'NOAA-NMFS-2022-0119-0520', 'NOAA-NMFS-2022-0119-0521', 'NOAA-NMFS-2022-0119-0522', 'NOAA-NMFS-2022-0119-0523', 'NOAA-NMFS-2022-0119-0524', 'NOAA-NMFS-2022-0119-0525', 'NOAA-NMFS-2022-0119-0526', 'NOAA-NMFS-2022-0119-0527', 'NOAA-NMFS-2022-0119-0528', 'NOAA-NMFS-2022-0119-0529', 'NOAA-NMFS-2022-0119-0530', 'NOAA-NMFS-2022-0119-0531', 'NOAA-NMFS-2022-0119-0532', 'NOAA-NMFS-2022-0119-0533', 'NOAA-NMFS-2022-0119-0534', 'NOAA-NMFS-2022-0119-0535', 'NOAA-NMFS-2022-0119-0536', 'NOAA-NMFS-2022-0119-0537', 'NOAA-NMFS-2022-0119-0538', 'NOAA-NMFS-2022-0119-0539', 'NOAA-NMFS-2022-0119-0540', 'NOAA-NMFS-2022-0119-0541', 'NOAA-NMFS-2022-0119-0542', 'NOAA-NMFS-2022-0119-0543', 'NOAA-NMFS-2022-0119-0544', 'NOAA-NMFS-2022-0119-0545', 'NOAA-NMFS-2022-0119-0546', 'NOAA-NMFS-2022-0119-0547', 'NOAA-NMFS-2022-0119-0548', 'NOAA-NMFS-2022-0119-0549', 'NOAA-NMFS-2022-0119-0550', 'NOAA-NMFS-2022-0119-0551', 'NOAA-NMFS-2022-0119-0552', 'NOAA-NMFS-2022-0119-0553', 'NOAA-NMFS-2022-0119-0554', 'NOAA-NMFS-2022-0119-0555', 'NOAA-NMFS-2022-0119-0556', 'NOAA-NMFS-2022-0119-0557', 'NOAA-NMFS-2022-0119-0558', 'NOAA-NMFS-2022-0119-0559', 'NOAA-NMFS-2022-0119-0560', 'NOAA-NMFS-2022-0119-0561', 'NOAA-NMFS-2022-0119-0562', 'NOAA-NMFS-2022-0119-0563', 'NOAA-NMFS-2022-0119-0564', 'NOAA-NMFS-2022-0119-0565', 'NOAA-NMFS-2022-0119-0566', 'NOAA-NMFS-2022-0119-0567', 'NOAA-NMFS-2022-0119-0568', 'NOAA-NMFS-2022-0119-0569', 'NOAA-NMFS-2022-0119-0570', 'NOAA-NMFS-2022-0119-0571', 'NOAA-NMFS-2022-0119-0572', 'NOAA-NMFS-2022-0119-0573', 'NOAA-NMFS-2022-0119-0574', 'NOAA-NMFS-2022-0119-0575', 'NOAA-NMFS-2022-0119-0576', 'NOAA-NMFS-2022-0119-0577', 'NOAA-NMFS-2022-0119-0578', 'NOAA-NMFS-2022-0119-0579', 'NOAA-NMFS-2022-0119-0580', 'NOAA-NMFS-2022-0119-0581', 'NOAA-NMFS-2022-0119-0582', 'NOAA-NMFS-2022-0119-0583', 'NOAA-NMFS-2022-0119-0584', 'NOAA-NMFS-2022-0119-0585', 'NOAA-NMFS-2022-0119-0586', 'NOAA-NMFS-2022-0119-0587', 'NOAA-NMFS-2022-0119-0588', 'NOAA-NMFS-2022-0119-0589', 'NOAA-NMFS-2022-0119-0590', 'NOAA-NMFS-2022-0119-0591', 'NOAA-NMFS-2022-0119-0592', 'NOAA-NMFS-2022-0119-0593', 'NOAA-NMFS-2022-0119-0594', 'NOAA-NMFS-2022-0119-0595', 'NOAA-NMFS-2022-0119-0596', 'NOAA-NMFS-2022-0119-0597', 'NOAA-NMFS-2022-0119-0598', 'NOAA-NMFS-2022-0119-0599', 'NOAA-NMFS-2022-0119-0600', 'NOAA-NMFS-2022-0119-0601', 'NOAA-NMFS-2022-0119-0602', 'NOAA-NMFS-2022-0119-0603', 'NOAA-NMFS-2022-0119-0604', 'NOAA-NMFS-2022-0119-0605', 'NOAA-NMFS-2022-0119-0606', 'NOAA-NMFS-2022-0119-0607', 'NOAA-NMFS-2022-0119-0608', 'NOAA-NMFS-2022-0119-0609', 'NOAA-NMFS-2022-0119-0610', 'NOAA-NMFS-2022-0119-0611', 'NOAA-NMFS-2022-0119-0612', 'NOAA-NMFS-2022-0119-0613', 'NOAA-NMFS-2022-0119-0614', 'NOAA-NMFS-2022-0119-0615', 'NOAA-NMFS-2022-0119-0616', 'NOAA-NMFS-2022-0119-0617', 'NOAA-NMFS-2022-0119-0618', 'NOAA-NMFS-2022-0119-0619', 'NOAA-NMFS-2022-0119-0620', 'NOAA-NMFS-2022-0119-0621', 'NOAA-NMFS-2022-0119-0622', 'NOAA-NMFS-2022-0119-0623', 'NOAA-NMFS-2022-0119-0624', 'NOAA-NMFS-2022-0119-0625', 'NOAA-NMFS-2022-0119-0626', 'NOAA-NMFS-2022-0119-0627', 'NOAA-NMFS-2022-0119-0628', 'NOAA-NMFS-2022-0119-0629', 'NOAA-NMFS-2022-0119-0630', 'NOAA-NMFS-2022-0119-0631', 'NOAA-NMFS-2022-0119-0632', 'NOAA-NMFS-2022-0119-0633', 'NOAA-NMFS-2022-0119-0634', 'NOAA-NMFS-2022-0119-0635', 'NOAA-NMFS-2022-0119-0636', 'NOAA-NMFS-2022-0119-0637', 'NOAA-NMFS-2022-0119-0638', 'NOAA-NMFS-2022-0119-0639', 'NOAA-NMFS-2022-0119-0640', 'NOAA-NMFS-2022-0119-0641', 'NOAA-NMFS-2022-0119-0642', 'NOAA-NMFS-2022-0119-0643', 'NOAA-NMFS-2022-0119-0644', 'NOAA-NMFS-2022-0119-0645', 'NOAA-NMFS-2022-0119-0646', 'NOAA-NMFS-2022-0119-0647', 'NOAA-NMFS-2022-0119-0648', 'NOAA-NMFS-2022-0119-0649', 'NOAA-NMFS-2022-0119-0650', 'NOAA-NMFS-2022-0119-0651', 'NOAA-NMFS-2022-0119-0652', 'NOAA-NMFS-2022-0119-0653', 'NOAA-NMFS-2022-0119-0654', 'NOAA-NMFS-2022-0119-0655', 'NOAA-NMFS-2022-0119-0656', 'NOAA-NMFS-2022-0119-0657', 'NOAA-NMFS-2022-0119-0658', 'NOAA-NMFS-2022-0119-0659', 'NOAA-NMFS-2022-0119-0660', 'NOAA-NMFS-2022-0119-0661', 'NOAA-NMFS-2022-0119-0662', 'NOAA-NMFS-2022-0119-0663', 'NOAA-NMFS-2022-0119-0664', 'NOAA-NMFS-2022-0119-0665', 'NOAA-NMFS-2022-0119-0666', 'NOAA-NMFS-2022-0119-0667', 'NOAA-NMFS-2022-0119-0668', 'NOAA-NMFS-2022-0119-0669', 'NOAA-NMFS-2022-0119-0670', 'NOAA-NMFS-2022-0119-0671', 'NOAA-NMFS-2022-0119-0672', 'NOAA-NMFS-2022-0119-0673', 'NOAA-NMFS-2022-0119-0674', 'NOAA-NMFS-2022-0119-0675', 'NOAA-NMFS-2022-0119-0676', 'NOAA-NMFS-2022-0119-0677', 'NOAA-NMFS-2022-0119-0678', 'NOAA-NMFS-2022-0119-0679', 'NOAA-NMFS-2022-0119-0680', 'NOAA-NMFS-2022-0119-0681', 'NOAA-NMFS-2022-0119-0682', 'NOAA-NMFS-2022-0119-0683', 'NOAA-NMFS-2022-0119-0684', 'NOAA-NMFS-2022-0119-0685', 'NOAA-NMFS-2022-0119-0686', 'NOAA-NMFS-2022-0119-0687', 'NOAA-NMFS-2022-0119-0688', 'NOAA-NMFS-2022-0119-0689', 'NOAA-NMFS-2022-0119-0690', 'NOAA-NMFS-2022-0119-0691', 'NOAA-NMFS-2022-0119-0692', 'NOAA-NMFS-2022-0119-0693', 'NOAA-NMFS-2022-0119-0694', 'NOAA-NMFS-2022-0119-0695', 'NOAA-NMFS-2022-0119-0696', 'NOAA-NMFS-2022-0119-0697', 'NOAA-NMFS-2022-0119-0698', 'NOAA-NMFS-2022-0119-0699', 'NOAA-NMFS-2022-0119-0700', 'NOAA-NMFS-2022-0119-0701', 'NOAA-NMFS-2022-0119-0702', 'NOAA-NMFS-2022-0119-0703', 'NOAA-NMFS-2022-0119-0704', 'NOAA-NMFS-2022-0119-0705', 'NOAA-NMFS-2022-0119-0706', 'NOAA-NMFS-2022-0119-0707', 'NOAA-NMFS-2022-0119-0708', 'NOAA-NMFS-2022-0119-0709', 'NOAA-NMFS-2022-0119-0710', 'NOAA-NMFS-2022-0119-0711', 'NOAA-NMFS-2022-0119-0712', 'NOAA-NMFS-2022-0119-0713', 'NOAA-NMFS-2022-0119-0714', 'NOAA-NMFS-2022-0119-0715', 'NOAA-NMFS-2022-0119-0716', 'NOAA-NMFS-2022-0119-0717', 'NOAA-NMFS-2022-0119-0718', 'NOAA-NMFS-2022-0119-0719', 'NOAA-NMFS-2022-0119-0720', 'NOAA-NMFS-2022-0119-0721', 'NOAA-NMFS-2022-0119-0722', 'NOAA-NMFS-2022-0119-0723', 'NOAA-NMFS-2022-0119-0724', 'NOAA-NMFS-2022-0119-0725', 'NOAA-NMFS-2022-0119-0726', 'NOAA-NMFS-2022-0119-0727', 'NOAA-NMFS-2022-0119-0728', 'NOAA-NMFS-2022-0119-0729', 'NOAA-NMFS-2022-0119-0730', 'NOAA-NMFS-2022-0119-0731', 'NOAA-NMFS-2022-0119-0732', 'NOAA-NMFS-2022-0119-0733', 'NOAA-NMFS-2022-0119-0734', 'NOAA-NMFS-2022-0119-0735', 'NOAA-NMFS-2022-0119-0736', 'NOAA-NMFS-2022-0119-0737', 'NOAA-NMFS-2022-0119-0738', 'NOAA-NMFS-2022-0119-0739', 'NOAA-NMFS-2022-0119-0740', 'NOAA-NMFS-2022-0119-0741', 'NOAA-NMFS-2022-0119-0742', 'NOAA-NMFS-2022-0119-0743', 'NOAA-NMFS-2022-0119-0744', 'NOAA-NMFS-2022-0119-0745', 'NOAA-NMFS-2022-0119-0746', 'NOAA-NMFS-2022-0119-0747', 'NOAA-NMFS-2022-0119-0748', 'NOAA-NMFS-2022-0119-0749', 'NOAA-NMFS-2022-0119-0750', 'NOAA-NMFS-2022-0119-0751', 'NOAA-NMFS-2022-0119-0752', 'NOAA-NMFS-2022-0119-0753', 'NOAA-NMFS-2022-0119-0754', 'NOAA-NMFS-2022-0119-0755', 'NOAA-NMFS-2022-0119-0756', 'NOAA-NMFS-2022-0119-0757', 'NOAA-NMFS-2022-0119-0758', 'NOAA-NMFS-2022-0119-0759', 'NOAA-NMFS-2022-0119-0760', 'NOAA-NMFS-2022-0119-0761', 'NOAA-NMFS-2022-0119-0762', 'NOAA-NMFS-2022-0119-0763', 'NOAA-NMFS-2022-0119-0764', 'NOAA-NMFS-2022-0119-0765', 'NOAA-NMFS-2022-0119-0766', 'NOAA-NMFS-2022-0119-0767', 'NOAA-NMFS-2022-0119-0768', 'NOAA-NMFS-2022-0119-0769', 'NOAA-NMFS-2022-0119-0770', 'NOAA-NMFS-2022-0119-0771', 'NOAA-NMFS-2022-0119-0772', 'NOAA-NMFS-2022-0119-0773', 'NOAA-NMFS-2022-0119-0774', 'NOAA-NMFS-2022-0119-0775', 'NOAA-NMFS-2022-0119-0776', 'NOAA-NMFS-2022-0119-0777', 'NOAA-NMFS-2022-0119-0778', 'NOAA-NMFS-2022-0119-0779', 'NOAA-NMFS-2022-0119-0780', 'NOAA-NMFS-2022-0119-0781', 'NOAA-NMFS-2022-0119-0782', 'NOAA-NMFS-2022-0119-0783', 'NOAA-NMFS-2022-0119-0784', 'NOAA-NMFS-2022-0119-0785', 'NOAA-NMFS-2022-0119-0786', 'NOAA-NMFS-2022-0119-0787', 'NOAA-NMFS-2022-0119-0788', 'NOAA-NMFS-2022-0119-0789', 'NOAA-NMFS-2022-0119-0790', 'NOAA-NMFS-2022-0119-0791', 'NOAA-NMFS-2022-0119-0792', 'NOAA-NMFS-2022-0119-0793', 'NOAA-NMFS-2022-0119-0794', 'NOAA-NMFS-2022-0119-0795', 'NOAA-NMFS-2022-0119-0796', 'NOAA-NMFS-2022-0119-0797', 'NOAA-NMFS-2022-0119-0798', 'NOAA-NMFS-2022-0119-0799', 'NOAA-NMFS-2022-0119-0800', 'NOAA-NMFS-2022-0119-0801', 'NOAA-NMFS-2022-0119-0802', 'NOAA-NMFS-2022-0119-0803', 'NOAA-NMFS-2022-0119-0804', 'NOAA-NMFS-2022-0119-0805', 'NOAA-NMFS-2022-0119-0806', 'NOAA-NMFS-2022-0119-0807', 'NOAA-NMFS-2022-0119-0808', 'NOAA-NMFS-2022-0119-0809', 'NOAA-NMFS-2022-0119-0810', 'NOAA-NMFS-2022-0119-0811', 'NOAA-NMFS-2022-0119-0812', 'NOAA-NMFS-2022-0119-0813', 'NOAA-NMFS-2022-0119-0814', 'NOAA-NMFS-2022-0119-0815', 'NOAA-NMFS-2022-0119-0816', 'NOAA-NMFS-2022-0119-0817', 'NOAA-NMFS-2022-0119-0818', 'NOAA-NMFS-2022-0119-0819', 'NOAA-NMFS-2022-0119-0820', 'NOAA-NMFS-2022-0119-0821', 'NOAA-NMFS-2022-0119-0822', 'NOAA-NMFS-2022-0119-0823', 'NOAA-NMFS-2022-0119-0824', 'NOAA-NMFS-2022-0119-0825', 'NOAA-NMFS-2022-0119-0826', 'NOAA-NMFS-2022-0119-0827', 'NOAA-NMFS-2022-0119-0828', 'NOAA-NMFS-2022-0119-0829', 'NOAA-NMFS-2022-0119-0830', 'NOAA-NMFS-2022-0119-0831', 'NOAA-NMFS-2022-0119-0832', 'NOAA-NMFS-2022-0119-0833', 'NOAA-NMFS-2022-0119-0834', 'NOAA-NMFS-2022-0119-0835', 'NOAA-NMFS-2022-0119-0836', 'NOAA-NMFS-2022-0119-0837', 'NOAA-NMFS-2022-0119-0838', 'NOAA-NMFS-2022-0119-0839', 'NOAA-NMFS-2022-0119-0840', 'NOAA-NMFS-2022-0119-0841', 'NOAA-NMFS-2022-0119-0842', 'NOAA-NMFS-2022-0119-0843', 'NOAA-NMFS-2022-0119-0844', 'NOAA-NMFS-2022-0119-0845', 'NOAA-NMFS-2022-0119-0846', 'NOAA-NMFS-2022-0119-0847', 'NOAA-NMFS-2022-0119-0848', 'NOAA-NMFS-2022-0119-0849', 'NOAA-NMFS-2022-0119-0850', 'NOAA-NMFS-2022-0119-0851', 'NOAA-NMFS-2022-0119-0852', 'NOAA-NMFS-2022-0119-0853', 'NOAA-NMFS-2022-0119-0854', 'NOAA-NMFS-2022-0119-0855', 'NOAA-NMFS-2022-0119-0856', 'NOAA-NMFS-2022-0119-0857', 'NOAA-NMFS-2022-0119-0858', 'NOAA-NMFS-2022-0119-0859', 'NOAA-NMFS-2022-0119-0860', 'NOAA-NMFS-2022-0119-0861', 'NOAA-NMFS-2022-0119-0862', 'NOAA-NMFS-2022-0119-0863', 'NOAA-NMFS-2022-0119-0864', 'NOAA-NMFS-2022-0119-0865', 'NOAA-NMFS-2022-0119-0866', 'NOAA-NMFS-2022-0119-0867', 'NOAA-NMFS-2022-0119-0868', 'NOAA-NMFS-2022-0119-0869', 'NOAA-NMFS-2022-0119-0870', 'NOAA-NMFS-2022-0119-0871', 'NOAA-NMFS-2022-0119-0872', 'NOAA-NMFS-2022-0119-0873', 'NOAA-NMFS-2022-0119-0874', 'NOAA-NMFS-2022-0119-0875', 'NOAA-NMFS-2022-0119-0876', 'NOAA-NMFS-2022-0119-0877', 'NOAA-NMFS-2022-0119-0878', 'NOAA-NMFS-2022-0119-0879', 'NOAA-NMFS-2022-0119-0880', 'NOAA-NMFS-2022-0119-0881', 'NOAA-NMFS-2022-0119-0882', 'NOAA-NMFS-2022-0119-0883', 'NOAA-NMFS-2022-0119-0884', 'NOAA-NMFS-2022-0119-0885', 'NOAA-NMFS-2022-0119-0886', 'NOAA-NMFS-2022-0119-0887', 'NOAA-NMFS-2022-0119-0888', 'NOAA-NMFS-2022-0119-0889', 'NOAA-NMFS-2022-0119-0890', 'NOAA-NMFS-2022-0119-0891', 'NOAA-NMFS-2022-0119-0892', 'NOAA-NMFS-2022-0119-0893', 'NOAA-NMFS-2022-0119-0894', 'NOAA-NMFS-2022-0119-0895', 'NOAA-NMFS-2022-0119-0896', 'NOAA-NMFS-2022-0119-0897', 'NOAA-NMFS-2022-0119-0898', 'NOAA-NMFS-2022-0119-0899', 'NOAA-NMFS-2022-0119-0900', 'NOAA-NMFS-2022-0119-0901', 'NOAA-NMFS-2022-0119-0902', 'NOAA-NMFS-2022-0119-0903', 'NOAA-NMFS-2022-0119-0904', 'NOAA-NMFS-2022-0119-0905', 'NOAA-NMFS-2022-0119-0906', 'NOAA-NMFS-2022-0119-0907', 'NOAA-NMFS-2022-0119-0908', 'NOAA-NMFS-2022-0119-0909', 'NOAA-NMFS-2022-0119-0910', 'NOAA-NMFS-2022-0119-0911', 'NOAA-NMFS-2022-0119-0912', 'NOAA-NMFS-2022-0119-0913', 'NOAA-NMFS-2022-0119-0914', 'NOAA-NMFS-2022-0119-0915', 'NOAA-NMFS-2022-0119-0916', 'NOAA-NMFS-2022-0119-0917', 'NOAA-NMFS-2022-0119-0918', 'NOAA-NMFS-2022-0119-0919', 'NOAA-NMFS-2022-0119-0920', 'NOAA-NMFS-2022-0119-0921', 'NOAA-NMFS-2022-0119-0922', 'NOAA-NMFS-2022-0119-0923', 'NOAA-NMFS-2022-0119-0924', 'NOAA-NMFS-2022-0119-0925', 'NOAA-NMFS-2022-0119-0926', 'NOAA-NMFS-2022-0119-0927', 'NOAA-NMFS-2022-0119-0928', 'NOAA-NMFS-2022-0119-0929', 'NOAA-NMFS-2022-0119-0930', 'NOAA-NMFS-2022-0119-0931', 'NOAA-NMFS-2022-0119-0932', 'NOAA-NMFS-2022-0119-0933', 'NOAA-NMFS-2022-0119-0934', 'NOAA-NMFS-2022-0119-0935', 'NOAA-NMFS-2022-0119-0936', 'NOAA-NMFS-2022-0119-0937', 'NOAA-NMFS-2022-0119-0938', 'NOAA-NMFS-2022-0119-0939', 'NOAA-NMFS-2022-0119-0940', 'NOAA-NMFS-2022-0119-0941', 'NOAA-NMFS-2022-0119-0942', 'NOAA-NMFS-2022-0119-0943', 'NOAA-NMFS-2022-0119-0944', 'NOAA-NMFS-2022-0119-0945', 'NOAA-NMFS-2022-0119-0946', 'NOAA-NMFS-2022-0119-0947', 'NOAA-NMFS-2022-0119-0948', 'NOAA-NMFS-2022-0119-0949', 'NOAA-NMFS-2022-0119-0950', 'NOAA-NMFS-2022-0119-0951', 'NOAA-NMFS-2022-0119-0952', 'NOAA-NMFS-2022-0119-0953', 'NOAA-NMFS-2022-0119-0954', 'NOAA-NMFS-2022-0119-0955', 'NOAA-NMFS-2022-0119-0956', 'NOAA-NMFS-2022-0119-0957', 'NOAA-NMFS-2022-0119-0958', 'NOAA-NMFS-2022-0119-0959', 'NOAA-NMFS-2022-0119-0960', 'NOAA-NMFS-2022-0119-0961', 'NOAA-NMFS-2022-0119-0962', 'NOAA-NMFS-2022-0119-0963', 'NOAA-NMFS-2022-0119-0964', 'NOAA-NMFS-2022-0119-0965', 'NOAA-NMFS-2022-0119-0966', 'NOAA-NMFS-2022-0119-0967', 'NOAA-NMFS-2022-0119-0968', 'NOAA-NMFS-2022-0119-0969', 'NOAA-NMFS-2022-0119-0970', 'NOAA-NMFS-2022-0119-0971', 'NOAA-NMFS-2022-0119-0972', 'NOAA-NMFS-2022-0119-0973', 'NOAA-NMFS-2022-0119-0974', 'NOAA-NMFS-2022-0119-0975', 'NOAA-NMFS-2022-0119-0976', 'NOAA-NMFS-2022-0119-0977', 'NOAA-NMFS-2022-0119-0978', 'NOAA-NMFS-2022-0119-0979', 'NOAA-NMFS-2022-0119-0980', 'NOAA-NMFS-2022-0119-0981', 'NOAA-NMFS-2022-0119-0982', 'NOAA-NMFS-2022-0119-0983', 'NOAA-NMFS-2022-0119-0984', 'NOAA-NMFS-2022-0119-0985', 'NOAA-NMFS-2022-0119-0986', 'NOAA-NMFS-2022-0119-0987', 'NOAA-NMFS-2022-0119-0988', 'NOAA-NMFS-2022-0119-0989', 'NOAA-NMFS-2022-0119-0990', 'NOAA-NMFS-2022-0119-0991', 'NOAA-NMFS-2022-0119-0992', 'NOAA-NMFS-2022-0119-0993', 'NOAA-NMFS-2022-0119-0994', 'NOAA-NMFS-2022-0119-0995', 'NOAA-NMFS-2022-0119-0996', 'NOAA-NMFS-2022-0119-0997', 'NOAA-NMFS-2022-0119-0998', 'NOAA-NMFS-2022-0119-0999', 'NOAA-NMFS-2022-0119-1000', 'NOAA-NMFS-2022-0119-1001', 'NOAA-NMFS-2022-0119-1002', 'NOAA-NMFS-2022-0119-1003', 'NOAA-NMFS-2022-0119-1004', 'NOAA-NMFS-2022-0119-1005', 'NOAA-NMFS-2022-0119-1006', 'NOAA-NMFS-2022-0119-1007', 'NOAA-NMFS-2022-0119-1008', 'NOAA-NMFS-2022-0119-1009', 'NOAA-NMFS-2022-0119-1010', 'NOAA-NMFS-2022-0119-1011', 'NOAA-NMFS-2022-0119-1012', 'NOAA-NMFS-2022-0119-1013', 'NOAA-NMFS-2022-0119-1014', 'NOAA-NMFS-2022-0119-1015', 'NOAA-NMFS-2022-0119-1016', 'NOAA-NMFS-2022-0119-1017', 'NOAA-NMFS-2022-0119-1018', 'NOAA-NMFS-2022-0119-1019', 'NOAA-NMFS-2022-0119-1020', 'NOAA-NMFS-2022-0119-1021', 'NOAA-NMFS-2022-0119-1022', 'NOAA-NMFS-2022-0119-1023', 'NOAA-NMFS-2022-0119-1024', 'NOAA-NMFS-2022-0119-1025', 'NOAA-NMFS-2022-0119-1026', 'NOAA-NMFS-2022-0119-1027', 'NOAA-NMFS-2022-0119-1028', 'NOAA-NMFS-2022-0119-1029', 'NOAA-NMFS-2022-0119-1030', 'NOAA-NMFS-2022-0119-1031', 'NOAA-NMFS-2022-0119-1032', 'NOAA-NMFS-2022-0119-1033', 'NOAA-NMFS-2022-0119-1034', 'NOAA-NMFS-2022-0119-1035', 'NOAA-NMFS-2022-0119-1036', 'NOAA-NMFS-2022-0119-1037', 'NOAA-NMFS-2022-0119-1038', 'NOAA-NMFS-2022-0119-1039', 'NOAA-NMFS-2022-0119-1040', 'NOAA-NMFS-2022-0119-1041', 'NOAA-NMFS-2022-0119-1042', 'NOAA-NMFS-2022-0119-1043', 'NOAA-NMFS-2022-0119-1044', 'NOAA-NMFS-2022-0119-1045', 'NOAA-NMFS-2022-0119-1046', 'NOAA-NMFS-2022-0119-1047', 'NOAA-NMFS-2022-0119-1048', 'NOAA-NMFS-2022-0119-1049', 'NOAA-NMFS-2022-0119-1050', 'NOAA-NMFS-2022-0119-1051', 'NOAA-NMFS-2022-0119-1052', 'NOAA-NMFS-2022-0119-1053', 'NOAA-NMFS-2022-0119-1054', 'NOAA-NMFS-2022-0119-1055', 'NOAA-NMFS-2022-0119-1056', 'NOAA-NMFS-2022-0119-1057', 'NOAA-NMFS-2022-0119-1058', 'NOAA-NMFS-2022-0119-1059', 'NOAA-NMFS-2022-0119-1060', 'NOAA-NMFS-2022-0119-1061', 'NOAA-NMFS-2022-0119-1062', 'NOAA-NMFS-2022-0119-1063', 'NOAA-NMFS-2022-0119-1064', 'NOAA-NMFS-2022-0119-1065', 'NOAA-NMFS-2022-0119-1066', 'NOAA-NMFS-2022-0119-1067', 'NOAA-NMFS-2022-0119-1068', 'NOAA-NMFS-2022-0119-1069', 'NOAA-NMFS-2022-0119-1070', 'NOAA-NMFS-2022-0119-1071', 'NOAA-NMFS-2022-0119-1072', 'NOAA-NMFS-2022-0119-1073', 'NOAA-NMFS-2022-0119-1074', 'NOAA-NMFS-2022-0119-1075', 'NOAA-NMFS-2022-0119-1076', 'NOAA-NMFS-2022-0119-1077', 'NOAA-NMFS-2022-0119-1078', 'NOAA-NMFS-2022-0119-1079', 'NOAA-NMFS-2022-0119-1080', 'NOAA-NMFS-2022-0119-1081', 'NOAA-NMFS-2022-0119-1082', 'NOAA-NMFS-2022-0119-1083', 'NOAA-NMFS-2022-0119-1084', 'NOAA-NMFS-2022-0119-1085', 'NOAA-NMFS-2022-0119-1086', 'NOAA-NMFS-2022-0119-1087', 'NOAA-NMFS-2022-0119-1088', 'NOAA-NMFS-2022-0119-1089', 'NOAA-NMFS-2022-0119-1090', 'NOAA-NMFS-2022-0119-1091', 'NOAA-NMFS-2022-0119-1092', 'NOAA-NMFS-2022-0119-1093', 'NOAA-NMFS-2022-0119-1094', 'NOAA-NMFS-2022-0119-1095', 'NOAA-NMFS-2022-0119-1096', 'NOAA-NMFS-2022-0119-1097', 'NOAA-NMFS-2022-0119-1098', 'NOAA-NMFS-2022-0119-1099', 'NOAA-NMFS-2022-0119-1100', 'NOAA-NMFS-2022-0119-1101', 'NOAA-NMFS-2022-0119-1102', 'NOAA-NMFS-2022-0119-1103', 'NOAA-NMFS-2022-0119-1104', 'NOAA-NMFS-2022-0119-1105', 'NOAA-NMFS-2022-0119-1106', 'NOAA-NMFS-2022-0119-1107', 'NOAA-NMFS-2022-0119-1108', 'NOAA-NMFS-2022-0119-1109', 'NOAA-NMFS-2022-0119-1110', 'NOAA-NMFS-2022-0119-1111', 'NOAA-NMFS-2022-0119-1112', 'NOAA-NMFS-2022-0119-1113', 'NOAA-NMFS-2022-0119-1114', 'NOAA-NMFS-2022-0119-1115', 'NOAA-NMFS-2022-0119-1116', 'NOAA-NMFS-2022-0119-1117', 'NOAA-NMFS-2022-0119-1118', 'NOAA-NMFS-2022-0119-1119', 'NOAA-NMFS-2022-0119-1120', 'NOAA-NMFS-2022-0119-1121', 'NOAA-NMFS-2022-0119-1122', 'NOAA-NMFS-2022-0119-1123', 'NOAA-NMFS-2022-0119-1124', 'NOAA-NMFS-2022-0119-1125', 'NOAA-NMFS-2022-0119-1126', 'NOAA-NMFS-2022-0119-1127', 'NOAA-NMFS-2022-0119-1128', 'NOAA-NMFS-2022-0119-1129', 'NOAA-NMFS-2022-0119-1130', 'NOAA-NMFS-2022-0119-1131', 'NOAA-NMFS-2022-0119-1132', 'NOAA-NMFS-2022-0119-1133', 'NOAA-NMFS-2022-0119-1134', 'NOAA-NMFS-2022-0119-1135', 'NOAA-NMFS-2022-0119-1136', 'NOAA-NMFS-2022-0119-1137', 'NOAA-NMFS-2022-0119-1138', 'NOAA-NMFS-2022-0119-1139', 'NOAA-NMFS-2022-0119-1140', 'NOAA-NMFS-2022-0119-1141', 'NOAA-NMFS-2022-0119-1142', 'NOAA-NMFS-2022-0119-1143', 'NOAA-NMFS-2022-0119-1144', 'NOAA-NMFS-2022-0119-1145', 'NOAA-NMFS-2022-0119-1146', 'NOAA-NMFS-2022-0119-1147', 'NOAA-NMFS-2022-0119-1148', 'NOAA-NMFS-2022-0119-1149', 'NOAA-NMFS-2022-0119-1150', 'NOAA-NMFS-2022-0119-1151', 'NOAA-NMFS-2022-0119-1152', 'NOAA-NMFS-2022-0119-1153', 'NOAA-NMFS-2022-0119-1154', 'NOAA-NMFS-2022-0119-1155', 'NOAA-NMFS-2022-0119-1156', 'NOAA-NMFS-2022-0119-1157', 'NOAA-NMFS-2022-0119-1158', 'NOAA-NMFS-2022-0119-1159', 'NOAA-NMFS-2022-0119-1160', 'NOAA-NMFS-2022-0119-1161', 'NOAA-NMFS-2022-0119-1162', 'NOAA-NMFS-2022-0119-1163', 'NOAA-NMFS-2022-0119-1164', 'NOAA-NMFS-2022-0119-1165', 'NOAA-NMFS-2022-0119-1166', 'NOAA-NMFS-2022-0119-1167', 'NOAA-NMFS-2022-0119-1168', 'NOAA-NMFS-2022-0119-1169', 'NOAA-NMFS-2022-0119-1170', 'NOAA-NMFS-2022-0119-1171', 'NOAA-NMFS-2022-0119-1172', 'NOAA-NMFS-2022-0119-1173', 'NOAA-NMFS-2022-0119-1174', 'NOAA-NMFS-2022-0119-1175', 'NOAA-NMFS-2022-0119-1176', 'NOAA-NMFS-2022-0119-1177', 'NOAA-NMFS-2022-0119-1178', 'NOAA-NMFS-2022-0119-1179', 'NOAA-NMFS-2022-0119-1180', 'NOAA-NMFS-2022-0119-1181', 'NOAA-NMFS-2022-0119-1182', 'NOAA-NMFS-2022-0119-1183', 'NOAA-NMFS-2022-0119-1184', 'NOAA-NMFS-2022-0119-1185', 'NOAA-NMFS-2022-0119-1186', 'NOAA-NMFS-2022-0119-1187', 'NOAA-NMFS-2022-0119-1188', 'NOAA-NMFS-2022-0119-1189', 'NOAA-NMFS-2022-0119-1190', 'NOAA-NMFS-2022-0119-1191', 'NOAA-NMFS-2022-0119-1192', 'NOAA-NMFS-2022-0119-1193', 'NOAA-NMFS-2022-0119-1194', 'NOAA-NMFS-2022-0119-1195', 'NOAA-NMFS-2022-0119-1196', 'NOAA-NMFS-2022-0119-1197', 'NOAA-NMFS-2022-0119-1198', 'NOAA-NMFS-2022-0119-1199', 'NOAA-NMFS-2022-0119-1200', 'NOAA-NMFS-2022-0119-1201', 'NOAA-NMFS-2022-0119-1202', 'NOAA-NMFS-2022-0119-1203', 'NOAA-NMFS-2022-0119-1204', 'NOAA-NMFS-2022-0119-1205', 'NOAA-NMFS-2022-0119-1206', 'NOAA-NMFS-2022-0119-1207', 'NOAA-NMFS-2022-0119-1208', 'NOAA-NMFS-2022-0119-1209', 'NOAA-NMFS-2022-0119-1210', 'NOAA-NMFS-2022-0119-1211', 'NOAA-NMFS-2022-0119-1212', 'NOAA-NMFS-2022-0119-1213', 'NOAA-NMFS-2022-0119-1214', 'NOAA-NMFS-2022-0119-1215', 'NOAA-NMFS-2022-0119-1216', 'NOAA-NMFS-2022-0119-1217', 'NOAA-NMFS-2022-0119-1218', 'NOAA-NMFS-2022-0119-1219', 'NOAA-NMFS-2022-0119-1220', 'NOAA-NMFS-2022-0119-1221', 'NOAA-NMFS-2022-0119-1222', 'NOAA-NMFS-2022-0119-1223', 'NOAA-NMFS-2022-0119-1224', 'NOAA-NMFS-2022-0119-1225', 'NOAA-NMFS-2022-0119-1226', 'NOAA-NMFS-2022-0119-1227', 'NOAA-NMFS-2022-0119-1228', 'NOAA-NMFS-2022-0119-1229', 'NOAA-NMFS-2022-0119-1230', 'NOAA-NMFS-2022-0119-1231', 'NOAA-NMFS-2022-0119-1232', 'NOAA-NMFS-2022-0119-1233', 'NOAA-NMFS-2022-0119-1234', 'NOAA-NMFS-2022-0119-1235', 'NOAA-NMFS-2022-0119-1236', 'NOAA-NMFS-2022-0119-1237', 'NOAA-NMFS-2022-0119-1238', 'NOAA-NMFS-2022-0119-1239', 'NOAA-NMFS-2022-0119-1240', 'NOAA-NMFS-2022-0119-1241', 'NOAA-NMFS-2022-0119-1242', 'NOAA-NMFS-2022-0119-1243', 'NOAA-NMFS-2022-0119-1244', 'NOAA-NMFS-2022-0119-1245', 'NOAA-NMFS-2022-0119-1246', 'NOAA-NMFS-2022-0119-1247', 'NOAA-NMFS-2022-0119-1248', 'NOAA-NMFS-2022-0119-1249', 'NOAA-NMFS-2022-0119-1250', 'NOAA-NMFS-2022-0119-1251', 'NOAA-NMFS-2022-0119-1252', 'NOAA-NMFS-2022-0119-1253', 'NOAA-NMFS-2022-0119-1254', 'NOAA-NMFS-2022-0119-1255', 'NOAA-NMFS-2022-0119-1256', 'NOAA-NMFS-2022-0119-1257', 'NOAA-NMFS-2022-0119-1258', 'NOAA-NMFS-2022-0119-1259', 'NOAA-NMFS-2022-0119-1260', 'NOAA-NMFS-2022-0119-1261', 'NOAA-NMFS-2022-0119-1262', 'NOAA-NMFS-2022-0119-1263', 'NOAA-NMFS-2022-0119-1264', 'NOAA-NMFS-2022-0119-1265', 'NOAA-NMFS-2022-0119-1266', 'NOAA-NMFS-2022-0119-1267', 'NOAA-NMFS-2022-0119-1268', 'NOAA-NMFS-2022-0119-1269', 'NOAA-NMFS-2022-0119-1270', 'NOAA-NMFS-2022-0119-1271', 'NOAA-NMFS-2022-0119-1272', 'NOAA-NMFS-2022-0119-1273', 'NOAA-NMFS-2022-0119-1274', 'NOAA-NMFS-2022-0119-1275', 'NOAA-NMFS-2022-0119-1276', 'NOAA-NMFS-2022-0119-1277', 'NOAA-NMFS-2022-0119-1278', 'NOAA-NMFS-2022-0119-1279', 'NOAA-NMFS-2022-0119-1280', 'NOAA-NMFS-2022-0119-1281', 'NOAA-NMFS-2022-0119-1282', 'NOAA-NMFS-2022-0119-1283', 'NOAA-NMFS-2022-0119-1284', 'NOAA-NMFS-2022-0119-1285', 'NOAA-NMFS-2022-0119-1286', 'NOAA-NMFS-2022-0119-1287', 'NOAA-NMFS-2022-0119-1288', 'NOAA-NMFS-2022-0119-1289', 'NOAA-NMFS-2022-0119-1290', 'NOAA-NMFS-2022-0119-1291', 'NOAA-NMFS-2022-0119-1292', 'NOAA-NMFS-2022-0119-1293', 'NOAA-NMFS-2022-0119-1294', 'NOAA-NMFS-2022-0119-1295', 'NOAA-NMFS-2022-0119-1296', 'NOAA-NMFS-2022-0119-1297', 'NOAA-NMFS-2022-0119-1298', 'NOAA-NMFS-2022-0119-1299', 'NOAA-NMFS-2022-0119-1300', 'NOAA-NMFS-2022-0119-1301', 'NOAA-NMFS-2022-0119-1302', 'NOAA-NMFS-2022-0119-1303', 'NOAA-NMFS-2022-0119-1304', 'NOAA-NMFS-2022-0119-1305', 'NOAA-NMFS-2022-0119-1306', 'NOAA-NMFS-2022-0119-1307', 'NOAA-NMFS-2022-0119-1308', 'NOAA-NMFS-2022-0119-1309', 'NOAA-NMFS-2022-0119-1310', 'NOAA-NMFS-2022-0119-1311', 'NOAA-NMFS-2022-0119-1312', 'NOAA-NMFS-2022-0119-1313', 'NOAA-NMFS-2022-0119-1314', 'NOAA-NMFS-2022-0119-1315', 'NOAA-NMFS-2022-0119-1316', 'NOAA-NMFS-2022-0119-1317', 'NOAA-NMFS-2022-0119-1318', 'NOAA-NMFS-2022-0119-1319', 'NOAA-NMFS-2022-0119-1320', 'NOAA-NMFS-2022-0119-1321', 'NOAA-NMFS-2022-0119-1322', 'NOAA-NMFS-2022-0119-1323', 'NOAA-NMFS-2022-0119-1324', 'NOAA-NMFS-2022-0119-1325', 'NOAA-NMFS-2022-0119-1326', 'NOAA-NMFS-2022-0119-1327', 'NOAA-NMFS-2022-0119-1328', 'NOAA-NMFS-2022-0119-1329', 'NOAA-NMFS-2022-0119-1330', 'NOAA-NMFS-2022-0119-1331', 'NOAA-NMFS-2022-0119-1332', 'NOAA-NMFS-2022-0119-1333', 'NOAA-NMFS-2022-0119-1334', 'NOAA-NMFS-2022-0119-1335', 'NOAA-NMFS-2022-0119-1336', 'NOAA-NMFS-2022-0119-1337', 'NOAA-NMFS-2022-0119-1338', 'NOAA-NMFS-2022-0119-1339', 'NOAA-NMFS-2022-0119-1340', 'NOAA-NMFS-2022-0119-1341', 'NOAA-NMFS-2022-0119-1342', 'NOAA-NMFS-2022-0119-1343', 'NOAA-NMFS-2022-0119-1344', 'NOAA-NMFS-2022-0119-1345', 'NOAA-NMFS-2022-0119-1346', 'NOAA-NMFS-2022-0119-1347', 'NOAA-NMFS-2022-0119-1348', 'NOAA-NMFS-2022-0119-1349', 'NOAA-NMFS-2022-0119-1350', 'NOAA-NMFS-2022-0119-1351', 'NOAA-NMFS-2022-0119-1352', 'NOAA-NMFS-2022-0119-1353', 'NOAA-NMFS-2022-0119-1354', 'NOAA-NMFS-2022-0119-1355', 'NOAA-NMFS-2022-0119-1356', 'NOAA-NMFS-2022-0119-1357', 'NOAA-NMFS-2022-0119-1358', 'NOAA-NMFS-2022-0119-1359', 'NOAA-NMFS-2022-0119-1360', 'NOAA-NMFS-2022-0119-1361', 'NOAA-NMFS-2022-0119-1362', 'NOAA-NMFS-2022-0119-1363', 'NOAA-NMFS-2022-0119-1364', 'NOAA-NMFS-2022-0119-1365', 'NOAA-NMFS-2022-0119-1366', 'NOAA-NMFS-2022-0119-1367', 'NOAA-NMFS-2022-0119-1368', 'NOAA-NMFS-2022-0119-1369', 'NOAA-NMFS-2022-0119-1370', 'NOAA-NMFS-2022-0119-1371', 'NOAA-NMFS-2022-0119-1372', 'NOAA-NMFS-2022-0119-1373', 'NOAA-NMFS-2022-0119-1374', 'NOAA-NMFS-2022-0119-1375', 'NOAA-NMFS-2022-0119-1376', 'NOAA-NMFS-2022-0119-1377', 'NOAA-NMFS-2022-0119-1378', 'NOAA-NMFS-2022-0119-1379', 'NOAA-NMFS-2022-0119-1380', 'NOAA-NMFS-2022-0119-1381', 'NOAA-NMFS-2022-0119-1382', 'NOAA-NMFS-2022-0119-1383', 'NOAA-NMFS-2022-0119-1384', 'NOAA-NMFS-2022-0119-1385', 'NOAA-NMFS-2022-0119-1386', 'NOAA-NMFS-2022-0119-1387', 'NOAA-NMFS-2022-0119-1388', 'NOAA-NMFS-2022-0119-1389', 'NOAA-NMFS-2022-0119-1390', 'NOAA-NMFS-2022-0119-1391', 'NOAA-NMFS-2022-0119-1392', 'NOAA-NMFS-2022-0119-1393', 'NOAA-NMFS-2022-0119-1394', 'NOAA-NMFS-2022-0119-1395', 'NOAA-NMFS-2022-0119-1396', 'NOAA-NMFS-2022-0119-1397', 'NOAA-NMFS-2022-0119-1398', 'NOAA-NMFS-2022-0119-1399', 'NOAA-NMFS-2022-0119-1400', 'NOAA-NMFS-2022-0119-1401', 'NOAA-NMFS-2022-0119-1402', 'NOAA-NMFS-2022-0119-1403', 'NOAA-NMFS-2022-0119-1404', 'NOAA-NMFS-2022-0119-1405', 'NOAA-NMFS-2022-0119-1406', 'NOAA-NMFS-2022-0119-1407', 'NOAA-NMFS-2022-0119-1408', 'NOAA-NMFS-2022-0119-1409', 'NOAA-NMFS-2022-0119-1410', 'NOAA-NMFS-2022-0119-1411', 'NOAA-NMFS-2022-0119-1412', 'NOAA-NMFS-2022-0119-1413', 'NOAA-NMFS-2022-0119-1414', 'NOAA-NMFS-2022-0119-1415', 'NOAA-NMFS-2022-0119-1416', 'NOAA-NMFS-2022-0119-1417', 'NOAA-NMFS-2022-0119-1418', 'NOAA-NMFS-2022-0119-1419', 'NOAA-NMFS-2022-0119-1420', 'NOAA-NMFS-2022-0119-1421', 'NOAA-NMFS-2022-0119-1422', 'NOAA-NMFS-2022-0119-1423', 'NOAA-NMFS-2022-0119-1424', 'NOAA-NMFS-2022-0119-1425', 'NOAA-NMFS-2022-0119-1426', 'NOAA-NMFS-2022-0119-1427', 'NOAA-NMFS-2022-0119-1428', 'NOAA-NMFS-2022-0119-1429', 'NOAA-NMFS-2022-0119-1430', 'NOAA-NMFS-2022-0119-1431', 'NOAA-NMFS-2022-0119-1432', 'NOAA-NMFS-2022-0119-1433', 'NOAA-NMFS-2022-0119-1434', 'NOAA-NMFS-2022-0119-1435', 'NOAA-NMFS-2022-0119-1436', 'NOAA-NMFS-2022-0119-1437', 'NOAA-NMFS-2022-0119-1438', 'NOAA-NMFS-2022-0119-1439', 'NOAA-NMFS-2022-0119-1440', 'NOAA-NMFS-2022-0119-1441', 'NOAA-NMFS-2022-0119-1442', 'NOAA-NMFS-2022-0119-1443', 'NOAA-NMFS-2022-0119-1444', 'NOAA-NMFS-2022-0119-1445', 'NOAA-NMFS-2022-0119-1446', 'NOAA-NMFS-2022-0119-1447', 'NOAA-NMFS-2022-0119-1448', 'NOAA-NMFS-2022-0119-1449', 'NOAA-NMFS-2022-0119-1450', 'NOAA-NMFS-2022-0119-1451', 'NOAA-NMFS-2022-0119-1452', 'NOAA-NMFS-2022-0119-1453', 'NOAA-NMFS-2022-0119-1454', 'NOAA-NMFS-2022-0119-1455', 'NOAA-NMFS-2022-0119-1456', 'NOAA-NMFS-2022-0119-1457', 'NOAA-NMFS-2022-0119-1458', 'NOAA-NMFS-2022-0119-1459', 'NOAA-NMFS-2022-0119-1460', 'NOAA-NMFS-2022-0119-1461', 'NOAA-NMFS-2022-0119-1462', 'NOAA-NMFS-2022-0119-1463', 'NOAA-NMFS-2022-0119-1464', 'NOAA-NMFS-2022-0119-1465', 'NOAA-NMFS-2022-0119-1466', 'NOAA-NMFS-2022-0119-1467', 'NOAA-NMFS-2022-0119-1468', 'NOAA-NMFS-2022-0119-1469', 'NOAA-NMFS-2022-0119-1470', 'NOAA-NMFS-2022-0119-1471', 'NOAA-NMFS-2022-0119-1472', 'NOAA-NMFS-2022-0119-1473', 'NOAA-NMFS-2022-0119-1474', 'NOAA-NMFS-2022-0119-1475', 'NOAA-NMFS-2022-0119-1476', 'NOAA-NMFS-2022-0119-1477', 'NOAA-NMFS-2022-0119-1478', 'NOAA-NMFS-2022-0119-1479', 'NOAA-NMFS-2022-0119-1480', 'NOAA-NMFS-2022-0119-1481', 'NOAA-NMFS-2022-0119-1482', 'NOAA-NMFS-2022-0119-1483', 'NOAA-NMFS-2022-0119-1484', 'NOAA-NMFS-2022-0119-1485', 'NOAA-NMFS-2022-0119-1486', 'NOAA-NMFS-2022-0119-1487', 'NOAA-NMFS-2022-0119-1488', 'NOAA-NMFS-2022-0119-1489', 'NOAA-NMFS-2022-0119-1490', 'NOAA-NMFS-2022-0119-1491', 'NOAA-NMFS-2022-0119-1492', 'NOAA-NMFS-2022-0119-1493', 'NOAA-NMFS-2022-0119-1494', 'NOAA-NMFS-2022-0119-1495', 'NOAA-NMFS-2022-0119-1496', 'NOAA-NMFS-2022-0119-1497', 'NOAA-NMFS-2022-0119-1498', 'NOAA-NMFS-2022-0119-1499', 'NOAA-NMFS-2022-0119-1500', 'NOAA-NMFS-2022-0119-1501', 'NOAA-NMFS-2022-0119-1502', 'NOAA-NMFS-2022-0119-1503', 'NOAA-NMFS-2022-0119-1504', 'NOAA-NMFS-2022-0119-1505', 'NOAA-NMFS-2022-0119-1506', 'NOAA-NMFS-2022-0119-1507', 'NOAA-NMFS-2022-0119-1508', 'NOAA-NMFS-2022-0119-1509', 'NOAA-NMFS-2022-0119-1510', 'NOAA-NMFS-2022-0119-1511', 'NOAA-NMFS-2022-0119-1512', 'NOAA-NMFS-2022-0119-1513', 'NOAA-NMFS-2022-0119-1514', 'NOAA-NMFS-2022-0119-1515', 'NOAA-NMFS-2022-0119-1516', 'NOAA-NMFS-2022-0119-1517', 'NOAA-NMFS-2022-0119-1518', 'NOAA-NMFS-2022-0119-1519', 'NOAA-NMFS-2022-0119-1520', 'NOAA-NMFS-2022-0119-1521', 'NOAA-NMFS-2022-0119-1522', 'NOAA-NMFS-2022-0119-1523', 'NOAA-NMFS-2022-0119-1524', 'NOAA-NMFS-2022-0119-1525', 'NOAA-NMFS-2022-0119-1526', 'NOAA-NMFS-2022-0119-1527', 'NOAA-NMFS-2022-0119-1528', 'NOAA-NMFS-2022-0119-1529', 'NOAA-NMFS-2022-0119-1530', 'NOAA-NMFS-2022-0119-1531', 'NOAA-NMFS-2022-0119-1532', 'NOAA-NMFS-2022-0119-1533', 'NOAA-NMFS-2022-0119-1534', 'NOAA-NMFS-2022-0119-1535', 'NOAA-NMFS-2022-0119-1536', 'NOAA-NMFS-2022-0119-1537', 'NOAA-NMFS-2022-0119-1538', 'NOAA-NMFS-2022-0119-1539', 'NOAA-NMFS-2022-0119-1540', 'NOAA-NMFS-2022-0119-1541', 'NOAA-NMFS-2022-0119-1542', 'NOAA-NMFS-2022-0119-1543', 'NOAA-NMFS-2022-0119-1544', 'NOAA-NMFS-2022-0119-1545', 'NOAA-NMFS-2022-0119-1546', 'NOAA-NMFS-2022-0119-1547', 'NOAA-NMFS-2022-0119-1548', 'NOAA-NMFS-2022-0119-1549', 'NOAA-NMFS-2022-0119-1550', 'NOAA-NMFS-2022-0119-1551', 'NOAA-NMFS-2022-0119-1552', 'NOAA-NMFS-2022-0119-1553', 'NOAA-NMFS-2022-0119-1554', 'NOAA-NMFS-2022-0119-1555', 'NOAA-NMFS-2022-0119-1556', 'NOAA-NMFS-2022-0119-1557', 'NOAA-NMFS-2022-0119-1558', 'NOAA-NMFS-2022-0119-1559', 'NOAA-NMFS-2022-0119-1560', 'NOAA-NMFS-2022-0119-1561', 'NOAA-NMFS-2022-0119-1562', 'NOAA-NMFS-2022-0119-1563', 'NOAA-NMFS-2022-0119-1564', 'NOAA-NMFS-2022-0119-1565', 'NOAA-NMFS-2022-0119-1566', 'NOAA-NMFS-2022-0119-1567', 'NOAA-NMFS-2022-0119-1568', 'NOAA-NMFS-2022-0119-1569', 'NOAA-NMFS-2022-0119-1570', 'NOAA-NMFS-2022-0119-1571', 'NOAA-NMFS-2022-0119-1572', 'NOAA-NMFS-2022-0119-1573', 'NOAA-NMFS-2022-0119-1574', 'NOAA-NMFS-2022-0119-1575', 'NOAA-NMFS-2022-0119-1576', 'NOAA-NMFS-2022-0119-1577', 'NOAA-NMFS-2022-0119-1578', 'NOAA-NMFS-2022-0119-1579', 'NOAA-NMFS-2022-0119-1580', 'NOAA-NMFS-2022-0119-1581', 'NOAA-NMFS-2022-0119-1582', 'NOAA-NMFS-2022-0119-1583', 'NOAA-NMFS-2022-0119-1584', 'NOAA-NMFS-2022-0119-1585', 'NOAA-NMFS-2022-0119-1586', 'NOAA-NMFS-2022-0119-1587', 'NOAA-NMFS-2022-0119-1588', 'NOAA-NMFS-2022-0119-1589', 'NOAA-NMFS-2022-0119-1590', 'NOAA-NMFS-2022-0119-1591', 'NOAA-NMFS-2022-0119-1592', 'NOAA-NMFS-2022-0119-1593', 'NOAA-NMFS-2022-0119-1594', 'NOAA-NMFS-2022-0119-1595', 'NOAA-NMFS-2022-0119-1596', 'NOAA-NMFS-2022-0119-1597', 'NOAA-NMFS-2022-0119-1598', 'NOAA-NMFS-2022-0119-1599', 'NOAA-NMFS-2022-0119-1600', 'NOAA-NMFS-2022-0119-1601', 'NOAA-NMFS-2022-0119-1602', 'NOAA-NMFS-2022-0119-1603', 'NOAA-NMFS-2022-0119-1604', 'NOAA-NMFS-2022-0119-1605', 'NOAA-NMFS-2022-0119-1606', 'NOAA-NMFS-2022-0119-1607', 'NOAA-NMFS-2022-0119-1608', 'NOAA-NMFS-2022-0119-1609', 'NOAA-NMFS-2022-0119-1610', 'NOAA-NMFS-2022-0119-1611', 'NOAA-NMFS-2022-0119-1612', 'NOAA-NMFS-2022-0119-1613', 'NOAA-NMFS-2022-0119-1614', 'NOAA-NMFS-2022-0119-1615', 'NOAA-NMFS-2022-0119-1616', 'NOAA-NMFS-2022-0119-1617', 'NOAA-NMFS-2022-0119-1618', 'NOAA-NMFS-2022-0119-1619', 'NOAA-NMFS-2022-0119-1620', 'NOAA-NMFS-2022-0119-1621', 'NOAA-NMFS-2022-0119-1622', 'NOAA-NMFS-2022-0119-1623', 'NOAA-NMFS-2022-0119-1624', 'NOAA-NMFS-2022-0119-1625', 'NOAA-NMFS-2022-0119-1626', 'NOAA-NMFS-2022-0119-1627', 'NOAA-NMFS-2022-0119-1628', 'NOAA-NMFS-2022-0119-1629', 'NOAA-NMFS-2022-0119-1630', 'NOAA-NMFS-2022-0119-1631', 'NOAA-NMFS-2022-0119-1632', 'NOAA-NMFS-2022-0119-1633', 'NOAA-NMFS-2022-0119-1634', 'NOAA-NMFS-2022-0119-1635', 'NOAA-NMFS-2022-0119-1636', 'NOAA-NMFS-2022-0119-1637', 'NOAA-NMFS-2022-0119-1638', 'NOAA-NMFS-2022-0119-1639', 'NOAA-NMFS-2022-0119-1640', 'NOAA-NMFS-2022-0119-1641', 'NOAA-NMFS-2022-0119-1642', 'NOAA-NMFS-2022-0119-1643', 'NOAA-NMFS-2022-0119-1644', 'NOAA-NMFS-2022-0119-1645', 'NOAA-NMFS-2022-0119-1646', 'NOAA-NMFS-2022-0119-1647', 'NOAA-NMFS-2022-0119-1648', 'NOAA-NMFS-2022-0119-1649', 'NOAA-NMFS-2022-0119-1650', 'NOAA-NMFS-2022-0119-1651', 'NOAA-NMFS-2022-0119-1652', 'NOAA-NMFS-2022-0119-1653', 'NOAA-NMFS-2022-0119-1654', 'NOAA-NMFS-2022-0119-1655', 'NOAA-NMFS-2022-0119-1656', 'NOAA-NMFS-2022-0119-1657', 'NOAA-NMFS-2022-0119-1658', 'NOAA-NMFS-2022-0119-1659', 'NOAA-NMFS-2022-0119-1660', 'NOAA-NMFS-2022-0119-1661', 'NOAA-NMFS-2022-0119-1662', 'NOAA-NMFS-2022-0119-1663', 'NOAA-NMFS-2022-0119-1664', 'NOAA-NMFS-2022-0119-1665', 'NOAA-NMFS-2022-0119-1666', 'NOAA-NMFS-2022-0119-1667', 'NOAA-NMFS-2022-0119-1668', 'NOAA-NMFS-2022-0119-1669', 'NOAA-NMFS-2022-0119-1670', 'NOAA-NMFS-2022-0119-1671', 'NOAA-NMFS-2022-0119-1672', 'NOAA-NMFS-2022-0119-1673', 'NOAA-NMFS-2022-0119-1674', 'NOAA-NMFS-2022-0119-1675', 'NOAA-NMFS-2022-0119-1676', 'NOAA-NMFS-2022-0119-1677', 'NOAA-NMFS-2022-0119-1678', 'NOAA-NMFS-2022-0119-1679', 'NOAA-NMFS-2022-0119-1680', 'NOAA-NMFS-2022-0119-1681', 'NOAA-NMFS-2022-0119-1682', 'NOAA-NMFS-2022-0119-1683', 'NOAA-NMFS-2022-0119-1684', 'NOAA-NMFS-2022-0119-1685', 'NOAA-NMFS-2022-0119-1686', 'NOAA-NMFS-2022-0119-1687', 'NOAA-NMFS-2022-0119-1688', 'NOAA-NMFS-2022-0119-1689', 'NOAA-NMFS-2022-0119-1690', 'NOAA-NMFS-2022-0119-1691', 'NOAA-NMFS-2022-0119-1692', 'NOAA-NMFS-2022-0119-1693', 'NOAA-NMFS-2022-0119-1694', 'NOAA-NMFS-2022-0119-1695', 'NOAA-NMFS-2022-0119-1696', 'NOAA-NMFS-2022-0119-1697', 'NOAA-NMFS-2022-0119-1698', 'NOAA-NMFS-2022-0119-1699', 'NOAA-NMFS-2022-0119-1700', 'NOAA-NMFS-2022-0119-1701', 'NOAA-NMFS-2022-0119-1702', 'NOAA-NMFS-2022-0119-1703', 'NOAA-NMFS-2022-0119-1704', 'NOAA-NMFS-2022-0119-1705', 'NOAA-NMFS-2022-0119-1706', 'NOAA-NMFS-2022-0119-1707', 'NOAA-NMFS-2022-0119-1708', 'NOAA-NMFS-2022-0119-1709', 'NOAA-NMFS-2022-0119-1710', 'NOAA-NMFS-2022-0119-1711', 'NOAA-NMFS-2022-0119-1712', 'NOAA-NMFS-2022-0119-1713', 'NOAA-NMFS-2022-0119-1714', 'NOAA-NMFS-2022-0119-1715', 'NOAA-NMFS-2022-0119-1716', 'NOAA-NMFS-2022-0119-1717', 'NOAA-NMFS-2022-0119-1718', 'NOAA-NMFS-2022-0119-1719', 'NOAA-NMFS-2022-0119-1720', 'NOAA-NMFS-2022-0119-1721', 'NOAA-NMFS-2022-0119-1722', 'NOAA-NMFS-2022-0119-1723', 'NOAA-NMFS-2022-0119-1724', 'NOAA-NMFS-2022-0119-1725', 'NOAA-NMFS-2022-0119-1726', 'NOAA-NMFS-2022-0119-1727', 'NOAA-NMFS-2022-0119-1728', 'NOAA-NMFS-2022-0119-1729', 'NOAA-NMFS-2022-0119-1730', 'NOAA-NMFS-2022-0119-1731', 'NOAA-NMFS-2022-0119-1732', 'NOAA-NMFS-2022-0119-1733', 'NOAA-NMFS-2022-0119-1734', 'NOAA-NMFS-2022-0119-1735', 'NOAA-NMFS-2022-0119-1736', 'NOAA-NMFS-2022-0119-1737', 'NOAA-NMFS-2022-0119-1738', 'NOAA-NMFS-2022-0119-1739', 'NOAA-NMFS-2022-0119-1740', 'NOAA-NMFS-2022-0119-1741', 'NOAA-NMFS-2022-0119-1742', 'NOAA-NMFS-2022-0119-1743', 'NOAA-NMFS-2022-0119-1744', 'NOAA-NMFS-2022-0119-1745', 'NOAA-NMFS-2022-0119-1746', 'NOAA-NMFS-2022-0119-1747', 'NOAA-NMFS-2022-0119-1748', 'NOAA-NMFS-2022-0119-1749', 'NOAA-NMFS-2022-0119-1750', 'NOAA-NMFS-2022-0119-1751', 'NOAA-NMFS-2022-0119-1752', 'NOAA-NMFS-2022-0119-1753', 'NOAA-NMFS-2022-0119-1754', 'NOAA-NMFS-2022-0119-1755', 'NOAA-NMFS-2022-0119-1756', 'NOAA-NMFS-2022-0119-1757', 'NOAA-NMFS-2022-0119-1758', 'NOAA-NMFS-2022-0119-1759', 'NOAA-NMFS-2022-0119-1760', 'NOAA-NMFS-2022-0119-1761', 'NOAA-NMFS-2022-0119-1762', 'NOAA-NMFS-2022-0119-1763', 'NOAA-NMFS-2022-0119-1764', 'NOAA-NMFS-2022-0119-1765', 'NOAA-NMFS-2022-0119-1766', 'NOAA-NMFS-2022-0119-1767', 'NOAA-NMFS-2022-0119-1768', 'NOAA-NMFS-2022-0119-1769', 'NOAA-NMFS-2022-0119-1770', 'NOAA-NMFS-2022-0119-1771', 'NOAA-NMFS-2022-0119-1772', 'NOAA-NMFS-2022-0119-1773', 'NOAA-NMFS-2022-0119-1774', 'NOAA-NMFS-2022-0119-1775', 'NOAA-NMFS-2022-0119-1776', 'NOAA-NMFS-2022-0119-1777', 'NOAA-NMFS-2022-0119-1778', 'NOAA-NMFS-2022-0119-1779', 'NOAA-NMFS-2022-0119-1780', 'NOAA-NMFS-2022-0119-1781', 'NOAA-NMFS-2022-0119-1782', 'NOAA-NMFS-2022-0119-1783', 'NOAA-NMFS-2022-0119-1784', 'NOAA-NMFS-2022-0119-1785', 'NOAA-NMFS-2022-0119-1786', 'NOAA-NMFS-2022-0119-1787', 'NOAA-NMFS-2022-0119-1788', 'NOAA-NMFS-2022-0119-1789', 'NOAA-NMFS-2022-0119-1790', 'NOAA-NMFS-2022-0119-1791', 'NOAA-NMFS-2022-0119-1792', 'NOAA-NMFS-2022-0119-1793', 'NOAA-NMFS-2022-0119-1794', 'NOAA-NMFS-2022-0119-1795', 'NOAA-NMFS-2022-0119-1796', 'NOAA-NMFS-2022-0119-1797', 'NOAA-NMFS-2022-0119-1798', 'NOAA-NMFS-2022-0119-1799', 'NOAA-NMFS-2022-0119-1800', 'NOAA-NMFS-2022-0119-1801', 'NOAA-NMFS-2022-0119-1802', 'NOAA-NMFS-2022-0119-1803', 'NOAA-NMFS-2022-0119-1804', 'NOAA-NMFS-2022-0119-1805', 'NOAA-NMFS-2022-0119-1806', 'NOAA-NMFS-2022-0119-1807', 'NOAA-NMFS-2022-0119-1808', 'NOAA-NMFS-2022-0119-1809', 'NOAA-NMFS-2022-0119-1810', 'NOAA-NMFS-2022-0119-1811', 'NOAA-NMFS-2022-0119-1812', 'NOAA-NMFS-2022-0119-1813', 'NOAA-NMFS-2022-0119-1814', 'NOAA-NMFS-2022-0119-1815', 'NOAA-NMFS-2022-0119-1816', 'NOAA-NMFS-2022-0119-1817', 'NOAA-NMFS-2022-0119-1818', 'NOAA-NMFS-2022-0119-1819', 'NOAA-NMFS-2022-0119-1820', 'NOAA-NMFS-2022-0119-1821', 'NOAA-NMFS-2022-0119-1822', 'NOAA-NMFS-2022-0119-1823', 'NOAA-NMFS-2022-0119-1824', 'NOAA-NMFS-2022-0119-1825', 'NOAA-NMFS-2022-0119-1826', 'NOAA-NMFS-2022-0119-1827', 'NOAA-NMFS-2022-0119-1828', 'NOAA-NMFS-2022-0119-1829', 'NOAA-NMFS-2022-0119-1830', 'NOAA-NMFS-2022-0119-1831', 'NOAA-NMFS-2022-0119-1832', 'NOAA-NMFS-2022-0119-1833', 'NOAA-NMFS-2022-0119-1834', 'NOAA-NMFS-2022-0119-1835', 'NOAA-NMFS-2022-0119-1836', 'NOAA-NMFS-2022-0119-1837', 'NOAA-NMFS-2022-0119-1838', 'NOAA-NMFS-2022-0119-1839', 'NOAA-NMFS-2022-0119-1840', 'NOAA-NMFS-2022-0119-1841', 'NOAA-NMFS-2022-0119-1842', 'NOAA-NMFS-2022-0119-1843', 'NOAA-NMFS-2022-0119-1844', 'NOAA-NMFS-2022-0119-1845', 'NOAA-NMFS-2022-0119-1846', 'NOAA-NMFS-2022-0119-1847', 'NOAA-NMFS-2022-0119-1848', 'NOAA-NMFS-2022-0119-1849', 'NOAA-NMFS-2022-0119-1850', 'NOAA-NMFS-2022-0119-1851', 'NOAA-NMFS-2022-0119-1852', 'NOAA-NMFS-2022-0119-1853', 'NOAA-NMFS-2022-0119-1854', 'NOAA-NMFS-2022-0119-1855', 'NOAA-NMFS-2022-0119-1856', 'NOAA-NMFS-2022-0119-1857', 'NOAA-NMFS-2022-0119-1858', 'NOAA-NMFS-2022-0119-1859', 'NOAA-NMFS-2022-0119-1860', 'NOAA-NMFS-2022-0119-1861', 'NOAA-NMFS-2022-0119-1862', 'NOAA-NMFS-2022-0119-1863', 'NOAA-NMFS-2022-0119-1864', 'NOAA-NMFS-2022-0119-1865', 'NOAA-NMFS-2022-0119-1866', 'NOAA-NMFS-2022-0119-1867', 'NOAA-NMFS-2022-0119-1868', 'NOAA-NMFS-2022-0119-1869', 'NOAA-NMFS-2022-0119-1870', 'NOAA-NMFS-2022-0119-1871', 'NOAA-NMFS-2022-0119-1872', 'NOAA-NMFS-2022-0119-1873', 'NOAA-NMFS-2022-0119-1874', 'NOAA-NMFS-2022-0119-1875', 'NOAA-NMFS-2022-0119-1876', 'NOAA-NMFS-2022-0119-1877', 'NOAA-NMFS-2022-0119-1878', 'NOAA-NMFS-2022-0119-1879', 'NOAA-NMFS-2022-0119-1880', 'NOAA-NMFS-2022-0119-1881', 'NOAA-NMFS-2022-0119-1882', 'NOAA-NMFS-2022-0119-1883', 'NOAA-NMFS-2022-0119-1884', 'NOAA-NMFS-2022-0119-1885', 'NOAA-NMFS-2022-0119-1886', 'NOAA-NMFS-2022-0119-1887', 'NOAA-NMFS-2022-0119-1888', 'NOAA-NMFS-2022-0119-1889', 'NOAA-NMFS-2022-0119-1890', 'NOAA-NMFS-2022-0119-1891', 'NOAA-NMFS-2022-0119-1892', 'NOAA-NMFS-2022-0119-1893', 'NOAA-NMFS-2022-0119-1895', 'NOAA-NMFS-2022-0119-1896', 'NOAA-NMFS-2022-0119-1897', 'NOAA-NMFS-2022-0119-1898', 'NOAA-NMFS-2022-0119-1899', 'NOAA-NMFS-2022-0119-1900', 'NOAA-NMFS-2022-0119-1901', 'NOAA-NMFS-2022-0119-1902', 'NOAA-NMFS-2022-0119-1903', 'NOAA-NMFS-2022-0119-1904', 'NOAA-NMFS-2022-0119-1905', 'NOAA-NMFS-2022-0119-1906', 'NOAA-NMFS-2022-0119-1907', 'NOAA-NMFS-2022-0119-1908', 'NOAA-NMFS-2022-0119-1909', 'NOAA-NMFS-2022-0119-1910', 'NOAA-NMFS-2022-0119-1911', 'NOAA-NMFS-2022-0119-1912', 'NOAA-NMFS-2022-0119-1913', 'NOAA-NMFS-2022-0119-1914', 'NOAA-NMFS-2022-0119-1915', 'NOAA-NMFS-2022-0119-1916', 'NOAA-NMFS-2022-0119-1917', 'NOAA-NMFS-2022-0119-1918', 'NOAA-NMFS-2022-0119-1919', 'NOAA-NMFS-2022-0119-1920', 'NOAA-NMFS-2022-0119-1921', 'NOAA-NMFS-2022-0119-1922', 'NOAA-NMFS-2022-0119-1923', 'NOAA-NMFS-2022-0119-1924', 'NOAA-NMFS-2022-0119-1925', 'NOAA-NMFS-2022-0119-1926', 'NOAA-NMFS-2022-0119-1927', 'NOAA-NMFS-2022-0119-1928', 'NOAA-NMFS-2022-0119-1929', 'NOAA-NMFS-2022-0119-1930', 'NOAA-NMFS-2022-0119-1931', 'NOAA-NMFS-2022-0119-1932', 'NOAA-NMFS-2022-0119-1933', 'NOAA-NMFS-2022-0119-1934', 'NOAA-NMFS-2022-0119-1935', 'NOAA-NMFS-2022-0119-1936', 'NOAA-NMFS-2022-0119-1937', 'NOAA-NMFS-2022-0119-1938', 'NOAA-NMFS-2022-0119-1939', 'NOAA-NMFS-2022-0119-1940', 'NOAA-NMFS-2022-0119-1941', 'NOAA-NMFS-2022-0119-1942', 'NOAA-NMFS-2022-0119-1943', 'NOAA-NMFS-2022-0119-1944', 'NOAA-NMFS-2022-0119-1945', 'NOAA-NMFS-2022-0119-1946', 'NOAA-NMFS-2022-0119-1947', 'NOAA-NMFS-2022-0119-1948', 'NOAA-NMFS-2022-0119-1949', 'NOAA-NMFS-2022-0119-1950', 'NOAA-NMFS-2022-0119-1951', 'NOAA-NMFS-2022-0119-1952', 'NOAA-NMFS-2022-0119-1953', 'NOAA-NMFS-2022-0119-1954', 'NOAA-NMFS-2022-0119-1955', 'NOAA-NMFS-2022-0119-1956', 'NOAA-NMFS-2022-0119-1957', 'NOAA-NMFS-2022-0119-1958', 'NOAA-NMFS-2022-0119-1959', 'NOAA-NMFS-2022-0119-1960', 'NOAA-NMFS-2022-0119-1961', 'NOAA-NMFS-2022-0119-1962', 'NOAA-NMFS-2022-0119-1963', 'NOAA-NMFS-2022-0119-1964', 'NOAA-NMFS-2022-0119-1965', 'NOAA-NMFS-2022-0119-1966', 'NOAA-NMFS-2022-0119-1967', 'NOAA-NMFS-2022-0119-1968', 'NOAA-NMFS-2022-0119-1969', 'NOAA-NMFS-2022-0119-1970', 'NOAA-NMFS-2022-0119-1971', 'NOAA-NMFS-2022-0119-1972', 'NOAA-NMFS-2022-0119-1973', 'NOAA-NMFS-2022-0119-1974', 'NOAA-NMFS-2022-0119-1975', 'NOAA-NMFS-2022-0119-1977', 'NOAA-NMFS-2022-0119-1978', 'NOAA-NMFS-2022-0119-1979', 'NOAA-NMFS-2022-0119-1980', 'NOAA-NMFS-2022-0119-1981', 'NOAA-NMFS-2022-0119-1982', 'NOAA-NMFS-2022-0119-1983', 'NOAA-NMFS-2022-0119-1984', 'NOAA-NMFS-2022-0119-1985', 'NOAA-NMFS-2022-0119-1986', 'NOAA-NMFS-2022-0119-1987', 'NOAA-NMFS-2022-0119-1988', 'NOAA-NMFS-2022-0119-1989', 'NOAA-NMFS-2022-0119-1990', 'NOAA-NMFS-2022-0119-1991', 'NOAA-NMFS-2022-0119-1992', 'NOAA-NMFS-2022-0119-1993', 'NOAA-NMFS-2022-0119-1994', 'NOAA-NMFS-2022-0119-1995', 'NOAA-NMFS-2022-0119-1996', 'NOAA-NMFS-2022-0119-1997', 'NOAA-NMFS-2022-0119-1998', 'NOAA-NMFS-2022-0119-1999', 'NOAA-NMFS-2022-0119-2000', 'NOAA-NMFS-2022-0119-2001', 'NOAA-NMFS-2022-0119-2002', 'NOAA-NMFS-2022-0119-2003', 'NOAA-NMFS-2022-0119-2005', 'NOAA-NMFS-2022-0119-2006', 'NOAA-NMFS-2022-0119-2007', 'NOAA-NMFS-2022-0119-2008', 'NOAA-NMFS-2022-0119-2009', 'NOAA-NMFS-2022-0119-2010', 'NOAA-NMFS-2022-0119-2011', 'NOAA-NMFS-2022-0119-2012', 'NOAA-NMFS-2022-0119-2013', 'NOAA-NMFS-2022-0119-2014', 'NOAA-NMFS-2022-0119-2016', 'NOAA-NMFS-2022-0119-2017', 'NOAA-NMFS-2022-0119-2018', 'NOAA-NMFS-2022-0119-2019', 'NOAA-NMFS-2022-0119-2020', 'NOAA-NMFS-2022-0119-2021', 'NOAA-NMFS-2022-0119-2022', 'NOAA-NMFS-2022-0119-2023', 'NOAA-NMFS-2022-0119-2024', 'NOAA-NMFS-2022-0119-2025', 'NOAA-NMFS-2022-0119-2026', 'NOAA-NMFS-2022-0119-2027', 'NOAA-NMFS-2022-0119-2028', 'NOAA-NMFS-2022-0119-2029', 'NOAA-NMFS-2022-0119-2030', 'NOAA-NMFS-2022-0119-2032', 'NOAA-NMFS-2022-0119-2033', 'NOAA-NMFS-2022-0119-2034', 'NOAA-NMFS-2022-0119-2035', 'NOAA-NMFS-2022-0119-2036', 'NOAA-NMFS-2022-0119-2037', 'NOAA-NMFS-2022-0119-2038', 'NOAA-NMFS-2022-0119-2039', 'NOAA-NMFS-2022-0119-2040', 'NOAA-NMFS-2022-0119-2041', 'NOAA-NMFS-2022-0119-2042', 'NOAA-NMFS-2022-0119-2043', 'NOAA-NMFS-2022-0119-2044', 'NOAA-NMFS-2022-0119-2045', 'NOAA-NMFS-2022-0119-2046', 'NOAA-NMFS-2022-0119-2047', 'NOAA-NMFS-2022-0119-2048', 'NOAA-NMFS-2022-0119-2049', 'NOAA-NMFS-2022-0119-2050', 'NOAA-NMFS-2022-0119-2051', 'NOAA-NMFS-2022-0119-2052', 'NOAA-NMFS-2022-0119-2053', 'NOAA-NMFS-2022-0119-2054', 'NOAA-NMFS-2022-0119-2055', 'NOAA-NMFS-2022-0119-2056', 'NOAA-NMFS-2022-0119-2057', 'NOAA-NMFS-2022-0119-2058', 'NOAA-NMFS-2022-0119-2059', 'NOAA-NMFS-2022-0119-2060', 'NOAA-NMFS-2022-0119-2061', 'NOAA-NMFS-2022-0119-2062', 'NOAA-NMFS-2022-0119-2063', 'NOAA-NMFS-2022-0119-2064', 'NOAA-NMFS-2022-0119-2065', 'NOAA-NMFS-2022-0119-2066', 'NOAA-NMFS-2022-0119-2067', 'NOAA-NMFS-2022-0119-2068', 'NOAA-NMFS-2022-0119-2069', 'NOAA-NMFS-2022-0119-2071', 'NOAA-NMFS-2022-0119-2072', 'NOAA-NMFS-2022-0119-2073', 'NOAA-NMFS-2022-0119-2074', 'NOAA-NMFS-2022-0119-2075', 'NOAA-NMFS-2022-0119-2076', 'NOAA-NMFS-2022-0119-2077', 'NOAA-NMFS-2022-0119-2078', 'NOAA-NMFS-2022-0119-2079', 'NOAA-NMFS-2022-0119-2080', 'NOAA-NMFS-2022-0119-2081', 'NOAA-NMFS-2022-0119-2082', 'NOAA-NMFS-2022-0119-2083', 'NOAA-NMFS-2022-0119-2084', 'NOAA-NMFS-2022-0119-2085', 'NOAA-NMFS-2022-0119-2086', 'NOAA-NMFS-2022-0119-2087', 'NOAA-NMFS-2022-0119-2088', 'NOAA-NMFS-2022-0119-2089', 'NOAA-NMFS-2022-0119-2090', 'NOAA-NMFS-2022-0119-2091', 'NOAA-NMFS-2022-0119-2092', 'NOAA-NMFS-2022-0119-2093', 'NOAA-NMFS-2022-0119-2094', 'NOAA-NMFS-2022-0119-2095', 'NOAA-NMFS-2022-0119-2096', 'NOAA-NMFS-2022-0119-2097', 'NOAA-NMFS-2022-0119-2098', 'NOAA-NMFS-2022-0119-2099', 'NOAA-NMFS-2022-0119-2100', 'NOAA-NMFS-2022-0119-2101', 'NOAA-NMFS-2022-0119-2102', 'NOAA-NMFS-2022-0119-2103', 'NOAA-NMFS-2022-0119-2104', 'NOAA-NMFS-2022-0119-2105', 'NOAA-NMFS-2022-0119-2106', 'NOAA-NMFS-2022-0119-2107', 'NOAA-NMFS-2022-0119-2108', 'NOAA-NMFS-2022-0119-2109', 'NOAA-NMFS-2022-0119-2110', 'NOAA-NMFS-2022-0119-2111', 'NOAA-NMFS-2022-0119-2113', 'NOAA-NMFS-2022-0119-2114', 'NOAA-NMFS-2022-0119-2115', 'NOAA-NMFS-2022-0119-2116', 'NOAA-NMFS-2022-0119-2118', 'NOAA-NMFS-2022-0119-2119', 'NOAA-NMFS-2022-0119-2120', 'NOAA-NMFS-2022-0119-2122', 'NOAA-NMFS-2022-0119-2123', 'NOAA-NMFS-2022-0119-2124', 'NOAA-NMFS-2022-0119-2126', 'NOAA-NMFS-2022-0119-2129', 'NOAA-NMFS-2022-0119-2130', 'NOAA-NMFS-2022-0119-2131', 'NOAA-NMFS-2022-0119-2132', 'NOAA-NMFS-2022-0119-2133', 'NOAA-NMFS-2022-0119-2135', 'NOAA-NMFS-2022-0119-2137', 'NOAA-NMFS-2022-0119-2139', 'NOAA-NMFS-2022-0119-2140', 'NOAA-NMFS-2022-0119-2141', 'NOAA-NMFS-2022-0119-2142', 'NOAA-NMFS-2022-0119-2143', 'NOAA-NMFS-2022-0119-2144', 'NOAA-NMFS-2022-0119-2146', 'NOAA-NMFS-2022-0119-2147', 'NOAA-NMFS-2022-0119-2148', 'NOAA-NMFS-2022-0119-2150', 'NOAA-NMFS-2022-0119-2151', 'NOAA-NMFS-2022-0119-2152', 'NOAA-NMFS-2022-0119-2153', 'NOAA-NMFS-2022-0119-2154', 'NOAA-NMFS-2022-0119-2155', 'NOAA-NMFS-2022-0119-2156', 'NOAA-NMFS-2022-0119-2157', 'NOAA-NMFS-2022-0119-2158', 'NOAA-NMFS-2022-0119-2159', 'NOAA-NMFS-2022-0119-2160', 'NOAA-NMFS-2022-0119-2161', 'NOAA-NMFS-2022-0119-2163', 'NOAA-NMFS-2022-0119-2164', 'NOAA-NMFS-2022-0119-2166', 'NOAA-NMFS-2022-0119-2167', 'NOAA-NMFS-2022-0119-2168', 'NOAA-NMFS-2022-0119-2169', 'NOAA-NMFS-2022-0119-2170', 'NOAA-NMFS-2022-0119-2175', 'NOAA-NMFS-2022-0119-2177', 'NOAA-NMFS-2022-0119-2180', 'NOAA-NMFS-2022-0119-2181', 'NOAA-NMFS-2022-0119-2182', 'NOAA-NMFS-2022-0119-2183', 'NOAA-NMFS-2022-0119-2184', 'NOAA-NMFS-2022-0119-2185', 'NOAA-NMFS-2022-0119-2186', 'NOAA-NMFS-2022-0119-2194', 'NOAA-NMFS-2022-0119-2195', 'NOAA-NMFS-2022-0119-2198', 'NOAA-NMFS-2022-0119-2199', 'NOAA-NMFS-2022-0119-2200', 'NOAA-NMFS-2022-0119-2201', 'NOAA-NMFS-2022-0119-2202', 'NOAA-NMFS-2022-0119-2203', 'NOAA-NMFS-2022-0119-2204']\n",
      "Number of entries referencing  revised: 6\n",
      "['NOAA-NMFS-2022-0119-2160', 'NOAA-NMFS-2022-0119-2163', 'NOAA-NMFS-2022-0119-2166', 'NOAA-NMFS-2022-0119-2184', 'NOAA-NMFS-2022-0119-2185', 'NOAA-NMFS-2022-0119-2204']\n",
      "Number of entries referencing  withdraw: 1\n",
      "['NOAA-NMFS-2022-0119-2200']\n"
     ]
    }
   ],
   "source": [
    "def keyword_lookup(df, keyword):\n",
    "    print(f\"Number of entries referencing {keyword}: {len(df[df['CombinedText'].str.contains(keyword, case=False)])}\")\n",
    "    print(df[df['CombinedText'].str.contains(keyword, case=False)]['DocumentID'].to_list())\n",
    "\n",
    "keyword_lookup(df_with_pdf_data, ' eel')\n",
    "keyword_lookup(df_with_pdf_data, ' ndaa')\n",
    "keyword_lookup(df_with_pdf_data, ' squid')\n",
    "keyword_lookup(df_with_pdf_data, ' reprop')\n",
    "keyword_lookup(df_with_pdf_data, ' propose')\n",
    "keyword_lookup(df_with_pdf_data, ' revised')  \n",
    "keyword_lookup(df_with_pdf_data, ' withdraw')  "
   ]
  },
  {
   "cell_type": "code",
   "execution_count": 13,
   "id": "9fc5e142",
   "metadata": {},
   "outputs": [
    {
     "name": "stdout",
     "output_type": "stream",
     "text": [
      "Number of entries referencing  public comment: 8\n",
      "['NOAA-NMFS-2022-0119-2133', 'NOAA-NMFS-2022-0119-2146', 'NOAA-NMFS-2022-0119-2163', 'NOAA-NMFS-2022-0119-2166', 'NOAA-NMFS-2022-0119-2184', 'NOAA-NMFS-2022-0119-2185', 'NOAA-NMFS-2022-0119-2201', 'NOAA-NMFS-2022-0119-2202']\n"
     ]
    }
   ],
   "source": [
    "keyword_lookup(df_with_pdf_data, ' public comment')  "
   ]
  },
  {
   "cell_type": "code",
   "execution_count": 14,
   "id": "88cbb033",
   "metadata": {},
   "outputs": [
    {
     "name": "stdout",
     "output_type": "stream",
     "text": [
      "Number of entries referencing  reprop: 0\n",
      "[]\n",
      "Number of entries referencing  forced labor: 2131\n",
      "['NOAA-NMFS-2022-0119-0005', 'NOAA-NMFS-2022-0119-0006', 'NOAA-NMFS-2022-0119-0007', 'NOAA-NMFS-2022-0119-0008', 'NOAA-NMFS-2022-0119-0009', 'NOAA-NMFS-2022-0119-0010', 'NOAA-NMFS-2022-0119-0011', 'NOAA-NMFS-2022-0119-0012', 'NOAA-NMFS-2022-0119-0013', 'NOAA-NMFS-2022-0119-0014', 'NOAA-NMFS-2022-0119-0015', 'NOAA-NMFS-2022-0119-0016', 'NOAA-NMFS-2022-0119-0017', 'NOAA-NMFS-2022-0119-0018', 'NOAA-NMFS-2022-0119-0019', 'NOAA-NMFS-2022-0119-0020', 'NOAA-NMFS-2022-0119-0021', 'NOAA-NMFS-2022-0119-0022', 'NOAA-NMFS-2022-0119-0023', 'NOAA-NMFS-2022-0119-0024', 'NOAA-NMFS-2022-0119-0025', 'NOAA-NMFS-2022-0119-0026', 'NOAA-NMFS-2022-0119-0027', 'NOAA-NMFS-2022-0119-0028', 'NOAA-NMFS-2022-0119-0029', 'NOAA-NMFS-2022-0119-0030', 'NOAA-NMFS-2022-0119-0031', 'NOAA-NMFS-2022-0119-0032', 'NOAA-NMFS-2022-0119-0033', 'NOAA-NMFS-2022-0119-0034', 'NOAA-NMFS-2022-0119-0035', 'NOAA-NMFS-2022-0119-0036', 'NOAA-NMFS-2022-0119-0037', 'NOAA-NMFS-2022-0119-0038', 'NOAA-NMFS-2022-0119-0039', 'NOAA-NMFS-2022-0119-0040', 'NOAA-NMFS-2022-0119-0041', 'NOAA-NMFS-2022-0119-0042', 'NOAA-NMFS-2022-0119-0043', 'NOAA-NMFS-2022-0119-0044', 'NOAA-NMFS-2022-0119-0045', 'NOAA-NMFS-2022-0119-0046', 'NOAA-NMFS-2022-0119-0047', 'NOAA-NMFS-2022-0119-0048', 'NOAA-NMFS-2022-0119-0049', 'NOAA-NMFS-2022-0119-0050', 'NOAA-NMFS-2022-0119-0051', 'NOAA-NMFS-2022-0119-0052', 'NOAA-NMFS-2022-0119-0053', 'NOAA-NMFS-2022-0119-0054', 'NOAA-NMFS-2022-0119-0055', 'NOAA-NMFS-2022-0119-0056', 'NOAA-NMFS-2022-0119-0057', 'NOAA-NMFS-2022-0119-0058', 'NOAA-NMFS-2022-0119-0059', 'NOAA-NMFS-2022-0119-0060', 'NOAA-NMFS-2022-0119-0061', 'NOAA-NMFS-2022-0119-0062', 'NOAA-NMFS-2022-0119-0063', 'NOAA-NMFS-2022-0119-0064', 'NOAA-NMFS-2022-0119-0065', 'NOAA-NMFS-2022-0119-0066', 'NOAA-NMFS-2022-0119-0067', 'NOAA-NMFS-2022-0119-0068', 'NOAA-NMFS-2022-0119-0069', 'NOAA-NMFS-2022-0119-0070', 'NOAA-NMFS-2022-0119-0071', 'NOAA-NMFS-2022-0119-0072', 'NOAA-NMFS-2022-0119-0073', 'NOAA-NMFS-2022-0119-0074', 'NOAA-NMFS-2022-0119-0075', 'NOAA-NMFS-2022-0119-0076', 'NOAA-NMFS-2022-0119-0077', 'NOAA-NMFS-2022-0119-0078', 'NOAA-NMFS-2022-0119-0079', 'NOAA-NMFS-2022-0119-0080', 'NOAA-NMFS-2022-0119-0081', 'NOAA-NMFS-2022-0119-0082', 'NOAA-NMFS-2022-0119-0083', 'NOAA-NMFS-2022-0119-0084', 'NOAA-NMFS-2022-0119-0085', 'NOAA-NMFS-2022-0119-0086', 'NOAA-NMFS-2022-0119-0087', 'NOAA-NMFS-2022-0119-0088', 'NOAA-NMFS-2022-0119-0089', 'NOAA-NMFS-2022-0119-0090', 'NOAA-NMFS-2022-0119-0091', 'NOAA-NMFS-2022-0119-0092', 'NOAA-NMFS-2022-0119-0093', 'NOAA-NMFS-2022-0119-0094', 'NOAA-NMFS-2022-0119-0095', 'NOAA-NMFS-2022-0119-0096', 'NOAA-NMFS-2022-0119-0097', 'NOAA-NMFS-2022-0119-0098', 'NOAA-NMFS-2022-0119-0099', 'NOAA-NMFS-2022-0119-0100', 'NOAA-NMFS-2022-0119-0101', 'NOAA-NMFS-2022-0119-0102', 'NOAA-NMFS-2022-0119-0103', 'NOAA-NMFS-2022-0119-0104', 'NOAA-NMFS-2022-0119-0105', 'NOAA-NMFS-2022-0119-0106', 'NOAA-NMFS-2022-0119-0107', 'NOAA-NMFS-2022-0119-0108', 'NOAA-NMFS-2022-0119-0109', 'NOAA-NMFS-2022-0119-0110', 'NOAA-NMFS-2022-0119-0111', 'NOAA-NMFS-2022-0119-0112', 'NOAA-NMFS-2022-0119-0113', 'NOAA-NMFS-2022-0119-0114', 'NOAA-NMFS-2022-0119-0115', 'NOAA-NMFS-2022-0119-0116', 'NOAA-NMFS-2022-0119-0117', 'NOAA-NMFS-2022-0119-0118', 'NOAA-NMFS-2022-0119-0119', 'NOAA-NMFS-2022-0119-0120', 'NOAA-NMFS-2022-0119-0121', 'NOAA-NMFS-2022-0119-0122', 'NOAA-NMFS-2022-0119-0123', 'NOAA-NMFS-2022-0119-0124', 'NOAA-NMFS-2022-0119-0125', 'NOAA-NMFS-2022-0119-0126', 'NOAA-NMFS-2022-0119-0127', 'NOAA-NMFS-2022-0119-0128', 'NOAA-NMFS-2022-0119-0129', 'NOAA-NMFS-2022-0119-0130', 'NOAA-NMFS-2022-0119-0131', 'NOAA-NMFS-2022-0119-0132', 'NOAA-NMFS-2022-0119-0133', 'NOAA-NMFS-2022-0119-0134', 'NOAA-NMFS-2022-0119-0135', 'NOAA-NMFS-2022-0119-0136', 'NOAA-NMFS-2022-0119-0137', 'NOAA-NMFS-2022-0119-0138', 'NOAA-NMFS-2022-0119-0139', 'NOAA-NMFS-2022-0119-0140', 'NOAA-NMFS-2022-0119-0141', 'NOAA-NMFS-2022-0119-0142', 'NOAA-NMFS-2022-0119-0143', 'NOAA-NMFS-2022-0119-0144', 'NOAA-NMFS-2022-0119-0145', 'NOAA-NMFS-2022-0119-0146', 'NOAA-NMFS-2022-0119-0147', 'NOAA-NMFS-2022-0119-0148', 'NOAA-NMFS-2022-0119-0149', 'NOAA-NMFS-2022-0119-0150', 'NOAA-NMFS-2022-0119-0151', 'NOAA-NMFS-2022-0119-0152', 'NOAA-NMFS-2022-0119-0153', 'NOAA-NMFS-2022-0119-0154', 'NOAA-NMFS-2022-0119-0155', 'NOAA-NMFS-2022-0119-0156', 'NOAA-NMFS-2022-0119-0157', 'NOAA-NMFS-2022-0119-0158', 'NOAA-NMFS-2022-0119-0159', 'NOAA-NMFS-2022-0119-0160', 'NOAA-NMFS-2022-0119-0161', 'NOAA-NMFS-2022-0119-0162', 'NOAA-NMFS-2022-0119-0163', 'NOAA-NMFS-2022-0119-0164', 'NOAA-NMFS-2022-0119-0165', 'NOAA-NMFS-2022-0119-0166', 'NOAA-NMFS-2022-0119-0167', 'NOAA-NMFS-2022-0119-0168', 'NOAA-NMFS-2022-0119-0169', 'NOAA-NMFS-2022-0119-0170', 'NOAA-NMFS-2022-0119-0171', 'NOAA-NMFS-2022-0119-0172', 'NOAA-NMFS-2022-0119-0173', 'NOAA-NMFS-2022-0119-0174', 'NOAA-NMFS-2022-0119-0175', 'NOAA-NMFS-2022-0119-0176', 'NOAA-NMFS-2022-0119-0177', 'NOAA-NMFS-2022-0119-0178', 'NOAA-NMFS-2022-0119-0179', 'NOAA-NMFS-2022-0119-0180', 'NOAA-NMFS-2022-0119-0181', 'NOAA-NMFS-2022-0119-0182', 'NOAA-NMFS-2022-0119-0183', 'NOAA-NMFS-2022-0119-0184', 'NOAA-NMFS-2022-0119-0185', 'NOAA-NMFS-2022-0119-0186', 'NOAA-NMFS-2022-0119-0187', 'NOAA-NMFS-2022-0119-0188', 'NOAA-NMFS-2022-0119-0189', 'NOAA-NMFS-2022-0119-0190', 'NOAA-NMFS-2022-0119-0191', 'NOAA-NMFS-2022-0119-0192', 'NOAA-NMFS-2022-0119-0193', 'NOAA-NMFS-2022-0119-0194', 'NOAA-NMFS-2022-0119-0195', 'NOAA-NMFS-2022-0119-0196', 'NOAA-NMFS-2022-0119-0197', 'NOAA-NMFS-2022-0119-0198', 'NOAA-NMFS-2022-0119-0199', 'NOAA-NMFS-2022-0119-0200', 'NOAA-NMFS-2022-0119-0201', 'NOAA-NMFS-2022-0119-0202', 'NOAA-NMFS-2022-0119-0203', 'NOAA-NMFS-2022-0119-0204', 'NOAA-NMFS-2022-0119-0205', 'NOAA-NMFS-2022-0119-0206', 'NOAA-NMFS-2022-0119-0207', 'NOAA-NMFS-2022-0119-0208', 'NOAA-NMFS-2022-0119-0209', 'NOAA-NMFS-2022-0119-0210', 'NOAA-NMFS-2022-0119-0211', 'NOAA-NMFS-2022-0119-0212', 'NOAA-NMFS-2022-0119-0213', 'NOAA-NMFS-2022-0119-0214', 'NOAA-NMFS-2022-0119-0215', 'NOAA-NMFS-2022-0119-0216', 'NOAA-NMFS-2022-0119-0217', 'NOAA-NMFS-2022-0119-0218', 'NOAA-NMFS-2022-0119-0219', 'NOAA-NMFS-2022-0119-0220', 'NOAA-NMFS-2022-0119-0221', 'NOAA-NMFS-2022-0119-0222', 'NOAA-NMFS-2022-0119-0223', 'NOAA-NMFS-2022-0119-0224', 'NOAA-NMFS-2022-0119-0225', 'NOAA-NMFS-2022-0119-0226', 'NOAA-NMFS-2022-0119-0227', 'NOAA-NMFS-2022-0119-0228', 'NOAA-NMFS-2022-0119-0229', 'NOAA-NMFS-2022-0119-0230', 'NOAA-NMFS-2022-0119-0231', 'NOAA-NMFS-2022-0119-0232', 'NOAA-NMFS-2022-0119-0233', 'NOAA-NMFS-2022-0119-0234', 'NOAA-NMFS-2022-0119-0235', 'NOAA-NMFS-2022-0119-0236', 'NOAA-NMFS-2022-0119-0237', 'NOAA-NMFS-2022-0119-0238', 'NOAA-NMFS-2022-0119-0239', 'NOAA-NMFS-2022-0119-0240', 'NOAA-NMFS-2022-0119-0241', 'NOAA-NMFS-2022-0119-0242', 'NOAA-NMFS-2022-0119-0243', 'NOAA-NMFS-2022-0119-0244', 'NOAA-NMFS-2022-0119-0245', 'NOAA-NMFS-2022-0119-0246', 'NOAA-NMFS-2022-0119-0247', 'NOAA-NMFS-2022-0119-0248', 'NOAA-NMFS-2022-0119-0249', 'NOAA-NMFS-2022-0119-0250', 'NOAA-NMFS-2022-0119-0251', 'NOAA-NMFS-2022-0119-0252', 'NOAA-NMFS-2022-0119-0253', 'NOAA-NMFS-2022-0119-0254', 'NOAA-NMFS-2022-0119-0255', 'NOAA-NMFS-2022-0119-0256', 'NOAA-NMFS-2022-0119-0257', 'NOAA-NMFS-2022-0119-0258', 'NOAA-NMFS-2022-0119-0259', 'NOAA-NMFS-2022-0119-0260', 'NOAA-NMFS-2022-0119-0261', 'NOAA-NMFS-2022-0119-0262', 'NOAA-NMFS-2022-0119-0263', 'NOAA-NMFS-2022-0119-0264', 'NOAA-NMFS-2022-0119-0265', 'NOAA-NMFS-2022-0119-0266', 'NOAA-NMFS-2022-0119-0267', 'NOAA-NMFS-2022-0119-0268', 'NOAA-NMFS-2022-0119-0269', 'NOAA-NMFS-2022-0119-0270', 'NOAA-NMFS-2022-0119-0271', 'NOAA-NMFS-2022-0119-0272', 'NOAA-NMFS-2022-0119-0273', 'NOAA-NMFS-2022-0119-0274', 'NOAA-NMFS-2022-0119-0275', 'NOAA-NMFS-2022-0119-0276', 'NOAA-NMFS-2022-0119-0277', 'NOAA-NMFS-2022-0119-0278', 'NOAA-NMFS-2022-0119-0279', 'NOAA-NMFS-2022-0119-0280', 'NOAA-NMFS-2022-0119-0281', 'NOAA-NMFS-2022-0119-0282', 'NOAA-NMFS-2022-0119-0283', 'NOAA-NMFS-2022-0119-0284', 'NOAA-NMFS-2022-0119-0285', 'NOAA-NMFS-2022-0119-0286', 'NOAA-NMFS-2022-0119-0287', 'NOAA-NMFS-2022-0119-0288', 'NOAA-NMFS-2022-0119-0289', 'NOAA-NMFS-2022-0119-0290', 'NOAA-NMFS-2022-0119-0291', 'NOAA-NMFS-2022-0119-0292', 'NOAA-NMFS-2022-0119-0293', 'NOAA-NMFS-2022-0119-0294', 'NOAA-NMFS-2022-0119-0295', 'NOAA-NMFS-2022-0119-0296', 'NOAA-NMFS-2022-0119-0297', 'NOAA-NMFS-2022-0119-0298', 'NOAA-NMFS-2022-0119-0299', 'NOAA-NMFS-2022-0119-0300', 'NOAA-NMFS-2022-0119-0301', 'NOAA-NMFS-2022-0119-0302', 'NOAA-NMFS-2022-0119-0303', 'NOAA-NMFS-2022-0119-0304', 'NOAA-NMFS-2022-0119-0305', 'NOAA-NMFS-2022-0119-0306', 'NOAA-NMFS-2022-0119-0307', 'NOAA-NMFS-2022-0119-0308', 'NOAA-NMFS-2022-0119-0309', 'NOAA-NMFS-2022-0119-0310', 'NOAA-NMFS-2022-0119-0311', 'NOAA-NMFS-2022-0119-0312', 'NOAA-NMFS-2022-0119-0313', 'NOAA-NMFS-2022-0119-0314', 'NOAA-NMFS-2022-0119-0315', 'NOAA-NMFS-2022-0119-0316', 'NOAA-NMFS-2022-0119-0317', 'NOAA-NMFS-2022-0119-0318', 'NOAA-NMFS-2022-0119-0319', 'NOAA-NMFS-2022-0119-0320', 'NOAA-NMFS-2022-0119-0321', 'NOAA-NMFS-2022-0119-0322', 'NOAA-NMFS-2022-0119-0323', 'NOAA-NMFS-2022-0119-0324', 'NOAA-NMFS-2022-0119-0325', 'NOAA-NMFS-2022-0119-0326', 'NOAA-NMFS-2022-0119-0327', 'NOAA-NMFS-2022-0119-0328', 'NOAA-NMFS-2022-0119-0329', 'NOAA-NMFS-2022-0119-0330', 'NOAA-NMFS-2022-0119-0331', 'NOAA-NMFS-2022-0119-0332', 'NOAA-NMFS-2022-0119-0333', 'NOAA-NMFS-2022-0119-0334', 'NOAA-NMFS-2022-0119-0335', 'NOAA-NMFS-2022-0119-0336', 'NOAA-NMFS-2022-0119-0337', 'NOAA-NMFS-2022-0119-0338', 'NOAA-NMFS-2022-0119-0339', 'NOAA-NMFS-2022-0119-0340', 'NOAA-NMFS-2022-0119-0341', 'NOAA-NMFS-2022-0119-0342', 'NOAA-NMFS-2022-0119-0343', 'NOAA-NMFS-2022-0119-0344', 'NOAA-NMFS-2022-0119-0345', 'NOAA-NMFS-2022-0119-0346', 'NOAA-NMFS-2022-0119-0347', 'NOAA-NMFS-2022-0119-0348', 'NOAA-NMFS-2022-0119-0349', 'NOAA-NMFS-2022-0119-0350', 'NOAA-NMFS-2022-0119-0351', 'NOAA-NMFS-2022-0119-0352', 'NOAA-NMFS-2022-0119-0353', 'NOAA-NMFS-2022-0119-0354', 'NOAA-NMFS-2022-0119-0355', 'NOAA-NMFS-2022-0119-0356', 'NOAA-NMFS-2022-0119-0357', 'NOAA-NMFS-2022-0119-0358', 'NOAA-NMFS-2022-0119-0359', 'NOAA-NMFS-2022-0119-0360', 'NOAA-NMFS-2022-0119-0361', 'NOAA-NMFS-2022-0119-0362', 'NOAA-NMFS-2022-0119-0363', 'NOAA-NMFS-2022-0119-0364', 'NOAA-NMFS-2022-0119-0365', 'NOAA-NMFS-2022-0119-0366', 'NOAA-NMFS-2022-0119-0367', 'NOAA-NMFS-2022-0119-0368', 'NOAA-NMFS-2022-0119-0369', 'NOAA-NMFS-2022-0119-0370', 'NOAA-NMFS-2022-0119-0371', 'NOAA-NMFS-2022-0119-0372', 'NOAA-NMFS-2022-0119-0373', 'NOAA-NMFS-2022-0119-0374', 'NOAA-NMFS-2022-0119-0375', 'NOAA-NMFS-2022-0119-0376', 'NOAA-NMFS-2022-0119-0377', 'NOAA-NMFS-2022-0119-0378', 'NOAA-NMFS-2022-0119-0379', 'NOAA-NMFS-2022-0119-0380', 'NOAA-NMFS-2022-0119-0381', 'NOAA-NMFS-2022-0119-0382', 'NOAA-NMFS-2022-0119-0383', 'NOAA-NMFS-2022-0119-0384', 'NOAA-NMFS-2022-0119-0385', 'NOAA-NMFS-2022-0119-0386', 'NOAA-NMFS-2022-0119-0387', 'NOAA-NMFS-2022-0119-0388', 'NOAA-NMFS-2022-0119-0389', 'NOAA-NMFS-2022-0119-0390', 'NOAA-NMFS-2022-0119-0391', 'NOAA-NMFS-2022-0119-0392', 'NOAA-NMFS-2022-0119-0393', 'NOAA-NMFS-2022-0119-0394', 'NOAA-NMFS-2022-0119-0395', 'NOAA-NMFS-2022-0119-0396', 'NOAA-NMFS-2022-0119-0397', 'NOAA-NMFS-2022-0119-0398', 'NOAA-NMFS-2022-0119-0399', 'NOAA-NMFS-2022-0119-0400', 'NOAA-NMFS-2022-0119-0401', 'NOAA-NMFS-2022-0119-0402', 'NOAA-NMFS-2022-0119-0403', 'NOAA-NMFS-2022-0119-0404', 'NOAA-NMFS-2022-0119-0405', 'NOAA-NMFS-2022-0119-0406', 'NOAA-NMFS-2022-0119-0407', 'NOAA-NMFS-2022-0119-0408', 'NOAA-NMFS-2022-0119-0409', 'NOAA-NMFS-2022-0119-0410', 'NOAA-NMFS-2022-0119-0411', 'NOAA-NMFS-2022-0119-0412', 'NOAA-NMFS-2022-0119-0413', 'NOAA-NMFS-2022-0119-0414', 'NOAA-NMFS-2022-0119-0415', 'NOAA-NMFS-2022-0119-0416', 'NOAA-NMFS-2022-0119-0417', 'NOAA-NMFS-2022-0119-0418', 'NOAA-NMFS-2022-0119-0419', 'NOAA-NMFS-2022-0119-0420', 'NOAA-NMFS-2022-0119-0421', 'NOAA-NMFS-2022-0119-0422', 'NOAA-NMFS-2022-0119-0423', 'NOAA-NMFS-2022-0119-0424', 'NOAA-NMFS-2022-0119-0425', 'NOAA-NMFS-2022-0119-0426', 'NOAA-NMFS-2022-0119-0427', 'NOAA-NMFS-2022-0119-0428', 'NOAA-NMFS-2022-0119-0429', 'NOAA-NMFS-2022-0119-0430', 'NOAA-NMFS-2022-0119-0431', 'NOAA-NMFS-2022-0119-0432', 'NOAA-NMFS-2022-0119-0433', 'NOAA-NMFS-2022-0119-0434', 'NOAA-NMFS-2022-0119-0435', 'NOAA-NMFS-2022-0119-0436', 'NOAA-NMFS-2022-0119-0437', 'NOAA-NMFS-2022-0119-0438', 'NOAA-NMFS-2022-0119-0439', 'NOAA-NMFS-2022-0119-0440', 'NOAA-NMFS-2022-0119-0441', 'NOAA-NMFS-2022-0119-0442', 'NOAA-NMFS-2022-0119-0443', 'NOAA-NMFS-2022-0119-0444', 'NOAA-NMFS-2022-0119-0445', 'NOAA-NMFS-2022-0119-0446', 'NOAA-NMFS-2022-0119-0447', 'NOAA-NMFS-2022-0119-0448', 'NOAA-NMFS-2022-0119-0449', 'NOAA-NMFS-2022-0119-0450', 'NOAA-NMFS-2022-0119-0451', 'NOAA-NMFS-2022-0119-0452', 'NOAA-NMFS-2022-0119-0453', 'NOAA-NMFS-2022-0119-0454', 'NOAA-NMFS-2022-0119-0455', 'NOAA-NMFS-2022-0119-0456', 'NOAA-NMFS-2022-0119-0457', 'NOAA-NMFS-2022-0119-0458', 'NOAA-NMFS-2022-0119-0459', 'NOAA-NMFS-2022-0119-0460', 'NOAA-NMFS-2022-0119-0461', 'NOAA-NMFS-2022-0119-0462', 'NOAA-NMFS-2022-0119-0463', 'NOAA-NMFS-2022-0119-0464', 'NOAA-NMFS-2022-0119-0465', 'NOAA-NMFS-2022-0119-0466', 'NOAA-NMFS-2022-0119-0467', 'NOAA-NMFS-2022-0119-0468', 'NOAA-NMFS-2022-0119-0469', 'NOAA-NMFS-2022-0119-0470', 'NOAA-NMFS-2022-0119-0471', 'NOAA-NMFS-2022-0119-0472', 'NOAA-NMFS-2022-0119-0473', 'NOAA-NMFS-2022-0119-0474', 'NOAA-NMFS-2022-0119-0475', 'NOAA-NMFS-2022-0119-0476', 'NOAA-NMFS-2022-0119-0477', 'NOAA-NMFS-2022-0119-0478', 'NOAA-NMFS-2022-0119-0479', 'NOAA-NMFS-2022-0119-0480', 'NOAA-NMFS-2022-0119-0481', 'NOAA-NMFS-2022-0119-0482', 'NOAA-NMFS-2022-0119-0483', 'NOAA-NMFS-2022-0119-0484', 'NOAA-NMFS-2022-0119-0485', 'NOAA-NMFS-2022-0119-0486', 'NOAA-NMFS-2022-0119-0487', 'NOAA-NMFS-2022-0119-0488', 'NOAA-NMFS-2022-0119-0489', 'NOAA-NMFS-2022-0119-0490', 'NOAA-NMFS-2022-0119-0491', 'NOAA-NMFS-2022-0119-0492', 'NOAA-NMFS-2022-0119-0493', 'NOAA-NMFS-2022-0119-0494', 'NOAA-NMFS-2022-0119-0495', 'NOAA-NMFS-2022-0119-0496', 'NOAA-NMFS-2022-0119-0497', 'NOAA-NMFS-2022-0119-0498', 'NOAA-NMFS-2022-0119-0499', 'NOAA-NMFS-2022-0119-0500', 'NOAA-NMFS-2022-0119-0501', 'NOAA-NMFS-2022-0119-0502', 'NOAA-NMFS-2022-0119-0503', 'NOAA-NMFS-2022-0119-0504', 'NOAA-NMFS-2022-0119-0505', 'NOAA-NMFS-2022-0119-0506', 'NOAA-NMFS-2022-0119-0507', 'NOAA-NMFS-2022-0119-0508', 'NOAA-NMFS-2022-0119-0509', 'NOAA-NMFS-2022-0119-0510', 'NOAA-NMFS-2022-0119-0511', 'NOAA-NMFS-2022-0119-0512', 'NOAA-NMFS-2022-0119-0513', 'NOAA-NMFS-2022-0119-0514', 'NOAA-NMFS-2022-0119-0515', 'NOAA-NMFS-2022-0119-0516', 'NOAA-NMFS-2022-0119-0517', 'NOAA-NMFS-2022-0119-0518', 'NOAA-NMFS-2022-0119-0519', 'NOAA-NMFS-2022-0119-0520', 'NOAA-NMFS-2022-0119-0521', 'NOAA-NMFS-2022-0119-0522', 'NOAA-NMFS-2022-0119-0523', 'NOAA-NMFS-2022-0119-0524', 'NOAA-NMFS-2022-0119-0525', 'NOAA-NMFS-2022-0119-0526', 'NOAA-NMFS-2022-0119-0527', 'NOAA-NMFS-2022-0119-0528', 'NOAA-NMFS-2022-0119-0529', 'NOAA-NMFS-2022-0119-0530', 'NOAA-NMFS-2022-0119-0531', 'NOAA-NMFS-2022-0119-0532', 'NOAA-NMFS-2022-0119-0533', 'NOAA-NMFS-2022-0119-0534', 'NOAA-NMFS-2022-0119-0535', 'NOAA-NMFS-2022-0119-0536', 'NOAA-NMFS-2022-0119-0537', 'NOAA-NMFS-2022-0119-0538', 'NOAA-NMFS-2022-0119-0539', 'NOAA-NMFS-2022-0119-0540', 'NOAA-NMFS-2022-0119-0541', 'NOAA-NMFS-2022-0119-0542', 'NOAA-NMFS-2022-0119-0543', 'NOAA-NMFS-2022-0119-0544', 'NOAA-NMFS-2022-0119-0545', 'NOAA-NMFS-2022-0119-0546', 'NOAA-NMFS-2022-0119-0547', 'NOAA-NMFS-2022-0119-0548', 'NOAA-NMFS-2022-0119-0549', 'NOAA-NMFS-2022-0119-0550', 'NOAA-NMFS-2022-0119-0551', 'NOAA-NMFS-2022-0119-0552', 'NOAA-NMFS-2022-0119-0553', 'NOAA-NMFS-2022-0119-0554', 'NOAA-NMFS-2022-0119-0555', 'NOAA-NMFS-2022-0119-0556', 'NOAA-NMFS-2022-0119-0557', 'NOAA-NMFS-2022-0119-0558', 'NOAA-NMFS-2022-0119-0559', 'NOAA-NMFS-2022-0119-0560', 'NOAA-NMFS-2022-0119-0561', 'NOAA-NMFS-2022-0119-0562', 'NOAA-NMFS-2022-0119-0563', 'NOAA-NMFS-2022-0119-0564', 'NOAA-NMFS-2022-0119-0565', 'NOAA-NMFS-2022-0119-0566', 'NOAA-NMFS-2022-0119-0567', 'NOAA-NMFS-2022-0119-0568', 'NOAA-NMFS-2022-0119-0569', 'NOAA-NMFS-2022-0119-0570', 'NOAA-NMFS-2022-0119-0571', 'NOAA-NMFS-2022-0119-0572', 'NOAA-NMFS-2022-0119-0573', 'NOAA-NMFS-2022-0119-0574', 'NOAA-NMFS-2022-0119-0575', 'NOAA-NMFS-2022-0119-0576', 'NOAA-NMFS-2022-0119-0577', 'NOAA-NMFS-2022-0119-0578', 'NOAA-NMFS-2022-0119-0579', 'NOAA-NMFS-2022-0119-0580', 'NOAA-NMFS-2022-0119-0581', 'NOAA-NMFS-2022-0119-0582', 'NOAA-NMFS-2022-0119-0583', 'NOAA-NMFS-2022-0119-0584', 'NOAA-NMFS-2022-0119-0585', 'NOAA-NMFS-2022-0119-0586', 'NOAA-NMFS-2022-0119-0587', 'NOAA-NMFS-2022-0119-0588', 'NOAA-NMFS-2022-0119-0589', 'NOAA-NMFS-2022-0119-0590', 'NOAA-NMFS-2022-0119-0591', 'NOAA-NMFS-2022-0119-0592', 'NOAA-NMFS-2022-0119-0593', 'NOAA-NMFS-2022-0119-0594', 'NOAA-NMFS-2022-0119-0595', 'NOAA-NMFS-2022-0119-0596', 'NOAA-NMFS-2022-0119-0597', 'NOAA-NMFS-2022-0119-0598', 'NOAA-NMFS-2022-0119-0599', 'NOAA-NMFS-2022-0119-0600', 'NOAA-NMFS-2022-0119-0601', 'NOAA-NMFS-2022-0119-0602', 'NOAA-NMFS-2022-0119-0603', 'NOAA-NMFS-2022-0119-0604', 'NOAA-NMFS-2022-0119-0605', 'NOAA-NMFS-2022-0119-0606', 'NOAA-NMFS-2022-0119-0607', 'NOAA-NMFS-2022-0119-0608', 'NOAA-NMFS-2022-0119-0609', 'NOAA-NMFS-2022-0119-0610', 'NOAA-NMFS-2022-0119-0611', 'NOAA-NMFS-2022-0119-0612', 'NOAA-NMFS-2022-0119-0613', 'NOAA-NMFS-2022-0119-0614', 'NOAA-NMFS-2022-0119-0615', 'NOAA-NMFS-2022-0119-0617', 'NOAA-NMFS-2022-0119-0618', 'NOAA-NMFS-2022-0119-0619', 'NOAA-NMFS-2022-0119-0620', 'NOAA-NMFS-2022-0119-0621', 'NOAA-NMFS-2022-0119-0622', 'NOAA-NMFS-2022-0119-0623', 'NOAA-NMFS-2022-0119-0624', 'NOAA-NMFS-2022-0119-0625', 'NOAA-NMFS-2022-0119-0626', 'NOAA-NMFS-2022-0119-0627', 'NOAA-NMFS-2022-0119-0628', 'NOAA-NMFS-2022-0119-0629', 'NOAA-NMFS-2022-0119-0630', 'NOAA-NMFS-2022-0119-0631', 'NOAA-NMFS-2022-0119-0632', 'NOAA-NMFS-2022-0119-0633', 'NOAA-NMFS-2022-0119-0634', 'NOAA-NMFS-2022-0119-0635', 'NOAA-NMFS-2022-0119-0636', 'NOAA-NMFS-2022-0119-0637', 'NOAA-NMFS-2022-0119-0638', 'NOAA-NMFS-2022-0119-0639', 'NOAA-NMFS-2022-0119-0640', 'NOAA-NMFS-2022-0119-0641', 'NOAA-NMFS-2022-0119-0642', 'NOAA-NMFS-2022-0119-0643', 'NOAA-NMFS-2022-0119-0644', 'NOAA-NMFS-2022-0119-0645', 'NOAA-NMFS-2022-0119-0646', 'NOAA-NMFS-2022-0119-0647', 'NOAA-NMFS-2022-0119-0648', 'NOAA-NMFS-2022-0119-0649', 'NOAA-NMFS-2022-0119-0650', 'NOAA-NMFS-2022-0119-0651', 'NOAA-NMFS-2022-0119-0652', 'NOAA-NMFS-2022-0119-0653', 'NOAA-NMFS-2022-0119-0654', 'NOAA-NMFS-2022-0119-0655', 'NOAA-NMFS-2022-0119-0656', 'NOAA-NMFS-2022-0119-0657', 'NOAA-NMFS-2022-0119-0658', 'NOAA-NMFS-2022-0119-0659', 'NOAA-NMFS-2022-0119-0660', 'NOAA-NMFS-2022-0119-0661', 'NOAA-NMFS-2022-0119-0662', 'NOAA-NMFS-2022-0119-0663', 'NOAA-NMFS-2022-0119-0664', 'NOAA-NMFS-2022-0119-0665', 'NOAA-NMFS-2022-0119-0666', 'NOAA-NMFS-2022-0119-0667', 'NOAA-NMFS-2022-0119-0668', 'NOAA-NMFS-2022-0119-0669', 'NOAA-NMFS-2022-0119-0670', 'NOAA-NMFS-2022-0119-0671', 'NOAA-NMFS-2022-0119-0672', 'NOAA-NMFS-2022-0119-0673', 'NOAA-NMFS-2022-0119-0674', 'NOAA-NMFS-2022-0119-0675', 'NOAA-NMFS-2022-0119-0676', 'NOAA-NMFS-2022-0119-0677', 'NOAA-NMFS-2022-0119-0678', 'NOAA-NMFS-2022-0119-0679', 'NOAA-NMFS-2022-0119-0680', 'NOAA-NMFS-2022-0119-0681', 'NOAA-NMFS-2022-0119-0682', 'NOAA-NMFS-2022-0119-0683', 'NOAA-NMFS-2022-0119-0684', 'NOAA-NMFS-2022-0119-0685', 'NOAA-NMFS-2022-0119-0686', 'NOAA-NMFS-2022-0119-0687', 'NOAA-NMFS-2022-0119-0688', 'NOAA-NMFS-2022-0119-0689', 'NOAA-NMFS-2022-0119-0690', 'NOAA-NMFS-2022-0119-0691', 'NOAA-NMFS-2022-0119-0692', 'NOAA-NMFS-2022-0119-0693', 'NOAA-NMFS-2022-0119-0694', 'NOAA-NMFS-2022-0119-0695', 'NOAA-NMFS-2022-0119-0696', 'NOAA-NMFS-2022-0119-0697', 'NOAA-NMFS-2022-0119-0698', 'NOAA-NMFS-2022-0119-0699', 'NOAA-NMFS-2022-0119-0700', 'NOAA-NMFS-2022-0119-0701', 'NOAA-NMFS-2022-0119-0702', 'NOAA-NMFS-2022-0119-0703', 'NOAA-NMFS-2022-0119-0704', 'NOAA-NMFS-2022-0119-0705', 'NOAA-NMFS-2022-0119-0706', 'NOAA-NMFS-2022-0119-0707', 'NOAA-NMFS-2022-0119-0708', 'NOAA-NMFS-2022-0119-0709', 'NOAA-NMFS-2022-0119-0710', 'NOAA-NMFS-2022-0119-0711', 'NOAA-NMFS-2022-0119-0712', 'NOAA-NMFS-2022-0119-0713', 'NOAA-NMFS-2022-0119-0714', 'NOAA-NMFS-2022-0119-0715', 'NOAA-NMFS-2022-0119-0716', 'NOAA-NMFS-2022-0119-0717', 'NOAA-NMFS-2022-0119-0718', 'NOAA-NMFS-2022-0119-0719', 'NOAA-NMFS-2022-0119-0720', 'NOAA-NMFS-2022-0119-0721', 'NOAA-NMFS-2022-0119-0722', 'NOAA-NMFS-2022-0119-0723', 'NOAA-NMFS-2022-0119-0724', 'NOAA-NMFS-2022-0119-0725', 'NOAA-NMFS-2022-0119-0726', 'NOAA-NMFS-2022-0119-0727', 'NOAA-NMFS-2022-0119-0728', 'NOAA-NMFS-2022-0119-0729', 'NOAA-NMFS-2022-0119-0730', 'NOAA-NMFS-2022-0119-0731', 'NOAA-NMFS-2022-0119-0732', 'NOAA-NMFS-2022-0119-0733', 'NOAA-NMFS-2022-0119-0734', 'NOAA-NMFS-2022-0119-0735', 'NOAA-NMFS-2022-0119-0736', 'NOAA-NMFS-2022-0119-0737', 'NOAA-NMFS-2022-0119-0738', 'NOAA-NMFS-2022-0119-0739', 'NOAA-NMFS-2022-0119-0740', 'NOAA-NMFS-2022-0119-0741', 'NOAA-NMFS-2022-0119-0742', 'NOAA-NMFS-2022-0119-0743', 'NOAA-NMFS-2022-0119-0744', 'NOAA-NMFS-2022-0119-0745', 'NOAA-NMFS-2022-0119-0746', 'NOAA-NMFS-2022-0119-0747', 'NOAA-NMFS-2022-0119-0748', 'NOAA-NMFS-2022-0119-0749', 'NOAA-NMFS-2022-0119-0750', 'NOAA-NMFS-2022-0119-0751', 'NOAA-NMFS-2022-0119-0752', 'NOAA-NMFS-2022-0119-0753', 'NOAA-NMFS-2022-0119-0754', 'NOAA-NMFS-2022-0119-0755', 'NOAA-NMFS-2022-0119-0756', 'NOAA-NMFS-2022-0119-0757', 'NOAA-NMFS-2022-0119-0758', 'NOAA-NMFS-2022-0119-0759', 'NOAA-NMFS-2022-0119-0760', 'NOAA-NMFS-2022-0119-0761', 'NOAA-NMFS-2022-0119-0762', 'NOAA-NMFS-2022-0119-0763', 'NOAA-NMFS-2022-0119-0764', 'NOAA-NMFS-2022-0119-0765', 'NOAA-NMFS-2022-0119-0766', 'NOAA-NMFS-2022-0119-0767', 'NOAA-NMFS-2022-0119-0768', 'NOAA-NMFS-2022-0119-0769', 'NOAA-NMFS-2022-0119-0770', 'NOAA-NMFS-2022-0119-0771', 'NOAA-NMFS-2022-0119-0772', 'NOAA-NMFS-2022-0119-0773', 'NOAA-NMFS-2022-0119-0774', 'NOAA-NMFS-2022-0119-0775', 'NOAA-NMFS-2022-0119-0776', 'NOAA-NMFS-2022-0119-0777', 'NOAA-NMFS-2022-0119-0778', 'NOAA-NMFS-2022-0119-0779', 'NOAA-NMFS-2022-0119-0780', 'NOAA-NMFS-2022-0119-0781', 'NOAA-NMFS-2022-0119-0782', 'NOAA-NMFS-2022-0119-0783', 'NOAA-NMFS-2022-0119-0784', 'NOAA-NMFS-2022-0119-0785', 'NOAA-NMFS-2022-0119-0786', 'NOAA-NMFS-2022-0119-0787', 'NOAA-NMFS-2022-0119-0788', 'NOAA-NMFS-2022-0119-0789', 'NOAA-NMFS-2022-0119-0790', 'NOAA-NMFS-2022-0119-0791', 'NOAA-NMFS-2022-0119-0792', 'NOAA-NMFS-2022-0119-0793', 'NOAA-NMFS-2022-0119-0794', 'NOAA-NMFS-2022-0119-0795', 'NOAA-NMFS-2022-0119-0796', 'NOAA-NMFS-2022-0119-0797', 'NOAA-NMFS-2022-0119-0798', 'NOAA-NMFS-2022-0119-0799', 'NOAA-NMFS-2022-0119-0800', 'NOAA-NMFS-2022-0119-0801', 'NOAA-NMFS-2022-0119-0802', 'NOAA-NMFS-2022-0119-0803', 'NOAA-NMFS-2022-0119-0804', 'NOAA-NMFS-2022-0119-0805', 'NOAA-NMFS-2022-0119-0806', 'NOAA-NMFS-2022-0119-0807', 'NOAA-NMFS-2022-0119-0808', 'NOAA-NMFS-2022-0119-0809', 'NOAA-NMFS-2022-0119-0810', 'NOAA-NMFS-2022-0119-0811', 'NOAA-NMFS-2022-0119-0812', 'NOAA-NMFS-2022-0119-0813', 'NOAA-NMFS-2022-0119-0814', 'NOAA-NMFS-2022-0119-0815', 'NOAA-NMFS-2022-0119-0816', 'NOAA-NMFS-2022-0119-0817', 'NOAA-NMFS-2022-0119-0818', 'NOAA-NMFS-2022-0119-0819', 'NOAA-NMFS-2022-0119-0820', 'NOAA-NMFS-2022-0119-0821', 'NOAA-NMFS-2022-0119-0822', 'NOAA-NMFS-2022-0119-0823', 'NOAA-NMFS-2022-0119-0824', 'NOAA-NMFS-2022-0119-0825', 'NOAA-NMFS-2022-0119-0826', 'NOAA-NMFS-2022-0119-0827', 'NOAA-NMFS-2022-0119-0828', 'NOAA-NMFS-2022-0119-0829', 'NOAA-NMFS-2022-0119-0830', 'NOAA-NMFS-2022-0119-0831', 'NOAA-NMFS-2022-0119-0832', 'NOAA-NMFS-2022-0119-0833', 'NOAA-NMFS-2022-0119-0834', 'NOAA-NMFS-2022-0119-0835', 'NOAA-NMFS-2022-0119-0836', 'NOAA-NMFS-2022-0119-0837', 'NOAA-NMFS-2022-0119-0838', 'NOAA-NMFS-2022-0119-0839', 'NOAA-NMFS-2022-0119-0840', 'NOAA-NMFS-2022-0119-0841', 'NOAA-NMFS-2022-0119-0842', 'NOAA-NMFS-2022-0119-0843', 'NOAA-NMFS-2022-0119-0844', 'NOAA-NMFS-2022-0119-0845', 'NOAA-NMFS-2022-0119-0846', 'NOAA-NMFS-2022-0119-0847', 'NOAA-NMFS-2022-0119-0848', 'NOAA-NMFS-2022-0119-0849', 'NOAA-NMFS-2022-0119-0850', 'NOAA-NMFS-2022-0119-0851', 'NOAA-NMFS-2022-0119-0852', 'NOAA-NMFS-2022-0119-0853', 'NOAA-NMFS-2022-0119-0854', 'NOAA-NMFS-2022-0119-0855', 'NOAA-NMFS-2022-0119-0856', 'NOAA-NMFS-2022-0119-0857', 'NOAA-NMFS-2022-0119-0858', 'NOAA-NMFS-2022-0119-0859', 'NOAA-NMFS-2022-0119-0860', 'NOAA-NMFS-2022-0119-0861', 'NOAA-NMFS-2022-0119-0862', 'NOAA-NMFS-2022-0119-0863', 'NOAA-NMFS-2022-0119-0864', 'NOAA-NMFS-2022-0119-0865', 'NOAA-NMFS-2022-0119-0866', 'NOAA-NMFS-2022-0119-0867', 'NOAA-NMFS-2022-0119-0868', 'NOAA-NMFS-2022-0119-0869', 'NOAA-NMFS-2022-0119-0870', 'NOAA-NMFS-2022-0119-0871', 'NOAA-NMFS-2022-0119-0872', 'NOAA-NMFS-2022-0119-0873', 'NOAA-NMFS-2022-0119-0874', 'NOAA-NMFS-2022-0119-0875', 'NOAA-NMFS-2022-0119-0876', 'NOAA-NMFS-2022-0119-0877', 'NOAA-NMFS-2022-0119-0878', 'NOAA-NMFS-2022-0119-0879', 'NOAA-NMFS-2022-0119-0880', 'NOAA-NMFS-2022-0119-0881', 'NOAA-NMFS-2022-0119-0882', 'NOAA-NMFS-2022-0119-0883', 'NOAA-NMFS-2022-0119-0884', 'NOAA-NMFS-2022-0119-0885', 'NOAA-NMFS-2022-0119-0886', 'NOAA-NMFS-2022-0119-0887', 'NOAA-NMFS-2022-0119-0888', 'NOAA-NMFS-2022-0119-0889', 'NOAA-NMFS-2022-0119-0890', 'NOAA-NMFS-2022-0119-0891', 'NOAA-NMFS-2022-0119-0892', 'NOAA-NMFS-2022-0119-0893', 'NOAA-NMFS-2022-0119-0894', 'NOAA-NMFS-2022-0119-0895', 'NOAA-NMFS-2022-0119-0896', 'NOAA-NMFS-2022-0119-0897', 'NOAA-NMFS-2022-0119-0898', 'NOAA-NMFS-2022-0119-0899', 'NOAA-NMFS-2022-0119-0900', 'NOAA-NMFS-2022-0119-0901', 'NOAA-NMFS-2022-0119-0902', 'NOAA-NMFS-2022-0119-0903', 'NOAA-NMFS-2022-0119-0904', 'NOAA-NMFS-2022-0119-0905', 'NOAA-NMFS-2022-0119-0906', 'NOAA-NMFS-2022-0119-0907', 'NOAA-NMFS-2022-0119-0908', 'NOAA-NMFS-2022-0119-0909', 'NOAA-NMFS-2022-0119-0910', 'NOAA-NMFS-2022-0119-0911', 'NOAA-NMFS-2022-0119-0912', 'NOAA-NMFS-2022-0119-0913', 'NOAA-NMFS-2022-0119-0914', 'NOAA-NMFS-2022-0119-0915', 'NOAA-NMFS-2022-0119-0916', 'NOAA-NMFS-2022-0119-0917', 'NOAA-NMFS-2022-0119-0918', 'NOAA-NMFS-2022-0119-0919', 'NOAA-NMFS-2022-0119-0920', 'NOAA-NMFS-2022-0119-0921', 'NOAA-NMFS-2022-0119-0922', 'NOAA-NMFS-2022-0119-0923', 'NOAA-NMFS-2022-0119-0924', 'NOAA-NMFS-2022-0119-0925', 'NOAA-NMFS-2022-0119-0926', 'NOAA-NMFS-2022-0119-0927', 'NOAA-NMFS-2022-0119-0928', 'NOAA-NMFS-2022-0119-0929', 'NOAA-NMFS-2022-0119-0930', 'NOAA-NMFS-2022-0119-0931', 'NOAA-NMFS-2022-0119-0932', 'NOAA-NMFS-2022-0119-0933', 'NOAA-NMFS-2022-0119-0934', 'NOAA-NMFS-2022-0119-0935', 'NOAA-NMFS-2022-0119-0936', 'NOAA-NMFS-2022-0119-0937', 'NOAA-NMFS-2022-0119-0938', 'NOAA-NMFS-2022-0119-0939', 'NOAA-NMFS-2022-0119-0940', 'NOAA-NMFS-2022-0119-0941', 'NOAA-NMFS-2022-0119-0942', 'NOAA-NMFS-2022-0119-0943', 'NOAA-NMFS-2022-0119-0944', 'NOAA-NMFS-2022-0119-0945', 'NOAA-NMFS-2022-0119-0946', 'NOAA-NMFS-2022-0119-0947', 'NOAA-NMFS-2022-0119-0948', 'NOAA-NMFS-2022-0119-0949', 'NOAA-NMFS-2022-0119-0950', 'NOAA-NMFS-2022-0119-0951', 'NOAA-NMFS-2022-0119-0952', 'NOAA-NMFS-2022-0119-0953', 'NOAA-NMFS-2022-0119-0954', 'NOAA-NMFS-2022-0119-0955', 'NOAA-NMFS-2022-0119-0956', 'NOAA-NMFS-2022-0119-0957', 'NOAA-NMFS-2022-0119-0958', 'NOAA-NMFS-2022-0119-0959', 'NOAA-NMFS-2022-0119-0960', 'NOAA-NMFS-2022-0119-0961', 'NOAA-NMFS-2022-0119-0962', 'NOAA-NMFS-2022-0119-0963', 'NOAA-NMFS-2022-0119-0964', 'NOAA-NMFS-2022-0119-0965', 'NOAA-NMFS-2022-0119-0966', 'NOAA-NMFS-2022-0119-0967', 'NOAA-NMFS-2022-0119-0968', 'NOAA-NMFS-2022-0119-0969', 'NOAA-NMFS-2022-0119-0970', 'NOAA-NMFS-2022-0119-0971', 'NOAA-NMFS-2022-0119-0972', 'NOAA-NMFS-2022-0119-0973', 'NOAA-NMFS-2022-0119-0974', 'NOAA-NMFS-2022-0119-0975', 'NOAA-NMFS-2022-0119-0976', 'NOAA-NMFS-2022-0119-0977', 'NOAA-NMFS-2022-0119-0978', 'NOAA-NMFS-2022-0119-0979', 'NOAA-NMFS-2022-0119-0980', 'NOAA-NMFS-2022-0119-0981', 'NOAA-NMFS-2022-0119-0982', 'NOAA-NMFS-2022-0119-0983', 'NOAA-NMFS-2022-0119-0984', 'NOAA-NMFS-2022-0119-0985', 'NOAA-NMFS-2022-0119-0986', 'NOAA-NMFS-2022-0119-0987', 'NOAA-NMFS-2022-0119-0988', 'NOAA-NMFS-2022-0119-0989', 'NOAA-NMFS-2022-0119-0990', 'NOAA-NMFS-2022-0119-0991', 'NOAA-NMFS-2022-0119-0992', 'NOAA-NMFS-2022-0119-0993', 'NOAA-NMFS-2022-0119-0994', 'NOAA-NMFS-2022-0119-0995', 'NOAA-NMFS-2022-0119-0996', 'NOAA-NMFS-2022-0119-0997', 'NOAA-NMFS-2022-0119-0998', 'NOAA-NMFS-2022-0119-0999', 'NOAA-NMFS-2022-0119-1000', 'NOAA-NMFS-2022-0119-1001', 'NOAA-NMFS-2022-0119-1002', 'NOAA-NMFS-2022-0119-1003', 'NOAA-NMFS-2022-0119-1004', 'NOAA-NMFS-2022-0119-1005', 'NOAA-NMFS-2022-0119-1006', 'NOAA-NMFS-2022-0119-1007', 'NOAA-NMFS-2022-0119-1008', 'NOAA-NMFS-2022-0119-1009', 'NOAA-NMFS-2022-0119-1010', 'NOAA-NMFS-2022-0119-1011', 'NOAA-NMFS-2022-0119-1012', 'NOAA-NMFS-2022-0119-1013', 'NOAA-NMFS-2022-0119-1014', 'NOAA-NMFS-2022-0119-1015', 'NOAA-NMFS-2022-0119-1016', 'NOAA-NMFS-2022-0119-1017', 'NOAA-NMFS-2022-0119-1018', 'NOAA-NMFS-2022-0119-1019', 'NOAA-NMFS-2022-0119-1020', 'NOAA-NMFS-2022-0119-1021', 'NOAA-NMFS-2022-0119-1022', 'NOAA-NMFS-2022-0119-1023', 'NOAA-NMFS-2022-0119-1024', 'NOAA-NMFS-2022-0119-1025', 'NOAA-NMFS-2022-0119-1026', 'NOAA-NMFS-2022-0119-1027', 'NOAA-NMFS-2022-0119-1028', 'NOAA-NMFS-2022-0119-1029', 'NOAA-NMFS-2022-0119-1030', 'NOAA-NMFS-2022-0119-1031', 'NOAA-NMFS-2022-0119-1032', 'NOAA-NMFS-2022-0119-1033', 'NOAA-NMFS-2022-0119-1034', 'NOAA-NMFS-2022-0119-1035', 'NOAA-NMFS-2022-0119-1036', 'NOAA-NMFS-2022-0119-1037', 'NOAA-NMFS-2022-0119-1038', 'NOAA-NMFS-2022-0119-1039', 'NOAA-NMFS-2022-0119-1040', 'NOAA-NMFS-2022-0119-1041', 'NOAA-NMFS-2022-0119-1042', 'NOAA-NMFS-2022-0119-1043', 'NOAA-NMFS-2022-0119-1044', 'NOAA-NMFS-2022-0119-1045', 'NOAA-NMFS-2022-0119-1046', 'NOAA-NMFS-2022-0119-1047', 'NOAA-NMFS-2022-0119-1048', 'NOAA-NMFS-2022-0119-1049', 'NOAA-NMFS-2022-0119-1050', 'NOAA-NMFS-2022-0119-1051', 'NOAA-NMFS-2022-0119-1052', 'NOAA-NMFS-2022-0119-1053', 'NOAA-NMFS-2022-0119-1054', 'NOAA-NMFS-2022-0119-1055', 'NOAA-NMFS-2022-0119-1056', 'NOAA-NMFS-2022-0119-1057', 'NOAA-NMFS-2022-0119-1058', 'NOAA-NMFS-2022-0119-1059', 'NOAA-NMFS-2022-0119-1060', 'NOAA-NMFS-2022-0119-1061', 'NOAA-NMFS-2022-0119-1062', 'NOAA-NMFS-2022-0119-1063', 'NOAA-NMFS-2022-0119-1064', 'NOAA-NMFS-2022-0119-1065', 'NOAA-NMFS-2022-0119-1066', 'NOAA-NMFS-2022-0119-1067', 'NOAA-NMFS-2022-0119-1068', 'NOAA-NMFS-2022-0119-1069', 'NOAA-NMFS-2022-0119-1070', 'NOAA-NMFS-2022-0119-1071', 'NOAA-NMFS-2022-0119-1072', 'NOAA-NMFS-2022-0119-1073', 'NOAA-NMFS-2022-0119-1074', 'NOAA-NMFS-2022-0119-1075', 'NOAA-NMFS-2022-0119-1076', 'NOAA-NMFS-2022-0119-1077', 'NOAA-NMFS-2022-0119-1078', 'NOAA-NMFS-2022-0119-1079', 'NOAA-NMFS-2022-0119-1080', 'NOAA-NMFS-2022-0119-1081', 'NOAA-NMFS-2022-0119-1082', 'NOAA-NMFS-2022-0119-1083', 'NOAA-NMFS-2022-0119-1084', 'NOAA-NMFS-2022-0119-1085', 'NOAA-NMFS-2022-0119-1086', 'NOAA-NMFS-2022-0119-1087', 'NOAA-NMFS-2022-0119-1088', 'NOAA-NMFS-2022-0119-1089', 'NOAA-NMFS-2022-0119-1090', 'NOAA-NMFS-2022-0119-1091', 'NOAA-NMFS-2022-0119-1092', 'NOAA-NMFS-2022-0119-1093', 'NOAA-NMFS-2022-0119-1094', 'NOAA-NMFS-2022-0119-1095', 'NOAA-NMFS-2022-0119-1096', 'NOAA-NMFS-2022-0119-1097', 'NOAA-NMFS-2022-0119-1098', 'NOAA-NMFS-2022-0119-1099', 'NOAA-NMFS-2022-0119-1100', 'NOAA-NMFS-2022-0119-1101', 'NOAA-NMFS-2022-0119-1102', 'NOAA-NMFS-2022-0119-1103', 'NOAA-NMFS-2022-0119-1104', 'NOAA-NMFS-2022-0119-1105', 'NOAA-NMFS-2022-0119-1106', 'NOAA-NMFS-2022-0119-1107', 'NOAA-NMFS-2022-0119-1108', 'NOAA-NMFS-2022-0119-1109', 'NOAA-NMFS-2022-0119-1110', 'NOAA-NMFS-2022-0119-1111', 'NOAA-NMFS-2022-0119-1112', 'NOAA-NMFS-2022-0119-1113', 'NOAA-NMFS-2022-0119-1114', 'NOAA-NMFS-2022-0119-1115', 'NOAA-NMFS-2022-0119-1116', 'NOAA-NMFS-2022-0119-1117', 'NOAA-NMFS-2022-0119-1118', 'NOAA-NMFS-2022-0119-1119', 'NOAA-NMFS-2022-0119-1120', 'NOAA-NMFS-2022-0119-1121', 'NOAA-NMFS-2022-0119-1122', 'NOAA-NMFS-2022-0119-1123', 'NOAA-NMFS-2022-0119-1124', 'NOAA-NMFS-2022-0119-1125', 'NOAA-NMFS-2022-0119-1126', 'NOAA-NMFS-2022-0119-1127', 'NOAA-NMFS-2022-0119-1128', 'NOAA-NMFS-2022-0119-1129', 'NOAA-NMFS-2022-0119-1130', 'NOAA-NMFS-2022-0119-1131', 'NOAA-NMFS-2022-0119-1132', 'NOAA-NMFS-2022-0119-1133', 'NOAA-NMFS-2022-0119-1134', 'NOAA-NMFS-2022-0119-1135', 'NOAA-NMFS-2022-0119-1137', 'NOAA-NMFS-2022-0119-1138', 'NOAA-NMFS-2022-0119-1139', 'NOAA-NMFS-2022-0119-1140', 'NOAA-NMFS-2022-0119-1141', 'NOAA-NMFS-2022-0119-1142', 'NOAA-NMFS-2022-0119-1143', 'NOAA-NMFS-2022-0119-1144', 'NOAA-NMFS-2022-0119-1145', 'NOAA-NMFS-2022-0119-1146', 'NOAA-NMFS-2022-0119-1147', 'NOAA-NMFS-2022-0119-1148', 'NOAA-NMFS-2022-0119-1149', 'NOAA-NMFS-2022-0119-1150', 'NOAA-NMFS-2022-0119-1151', 'NOAA-NMFS-2022-0119-1152', 'NOAA-NMFS-2022-0119-1153', 'NOAA-NMFS-2022-0119-1154', 'NOAA-NMFS-2022-0119-1155', 'NOAA-NMFS-2022-0119-1156', 'NOAA-NMFS-2022-0119-1157', 'NOAA-NMFS-2022-0119-1158', 'NOAA-NMFS-2022-0119-1159', 'NOAA-NMFS-2022-0119-1160', 'NOAA-NMFS-2022-0119-1161', 'NOAA-NMFS-2022-0119-1162', 'NOAA-NMFS-2022-0119-1163', 'NOAA-NMFS-2022-0119-1164', 'NOAA-NMFS-2022-0119-1165', 'NOAA-NMFS-2022-0119-1166', 'NOAA-NMFS-2022-0119-1167', 'NOAA-NMFS-2022-0119-1168', 'NOAA-NMFS-2022-0119-1169', 'NOAA-NMFS-2022-0119-1170', 'NOAA-NMFS-2022-0119-1171', 'NOAA-NMFS-2022-0119-1172', 'NOAA-NMFS-2022-0119-1173', 'NOAA-NMFS-2022-0119-1174', 'NOAA-NMFS-2022-0119-1175', 'NOAA-NMFS-2022-0119-1176', 'NOAA-NMFS-2022-0119-1177', 'NOAA-NMFS-2022-0119-1178', 'NOAA-NMFS-2022-0119-1179', 'NOAA-NMFS-2022-0119-1180', 'NOAA-NMFS-2022-0119-1181', 'NOAA-NMFS-2022-0119-1182', 'NOAA-NMFS-2022-0119-1183', 'NOAA-NMFS-2022-0119-1184', 'NOAA-NMFS-2022-0119-1185', 'NOAA-NMFS-2022-0119-1186', 'NOAA-NMFS-2022-0119-1187', 'NOAA-NMFS-2022-0119-1188', 'NOAA-NMFS-2022-0119-1189', 'NOAA-NMFS-2022-0119-1190', 'NOAA-NMFS-2022-0119-1191', 'NOAA-NMFS-2022-0119-1192', 'NOAA-NMFS-2022-0119-1193', 'NOAA-NMFS-2022-0119-1194', 'NOAA-NMFS-2022-0119-1195', 'NOAA-NMFS-2022-0119-1196', 'NOAA-NMFS-2022-0119-1197', 'NOAA-NMFS-2022-0119-1198', 'NOAA-NMFS-2022-0119-1199', 'NOAA-NMFS-2022-0119-1200', 'NOAA-NMFS-2022-0119-1201', 'NOAA-NMFS-2022-0119-1202', 'NOAA-NMFS-2022-0119-1203', 'NOAA-NMFS-2022-0119-1204', 'NOAA-NMFS-2022-0119-1205', 'NOAA-NMFS-2022-0119-1206', 'NOAA-NMFS-2022-0119-1207', 'NOAA-NMFS-2022-0119-1208', 'NOAA-NMFS-2022-0119-1209', 'NOAA-NMFS-2022-0119-1210', 'NOAA-NMFS-2022-0119-1211', 'NOAA-NMFS-2022-0119-1212', 'NOAA-NMFS-2022-0119-1213', 'NOAA-NMFS-2022-0119-1214', 'NOAA-NMFS-2022-0119-1215', 'NOAA-NMFS-2022-0119-1216', 'NOAA-NMFS-2022-0119-1217', 'NOAA-NMFS-2022-0119-1218', 'NOAA-NMFS-2022-0119-1219', 'NOAA-NMFS-2022-0119-1220', 'NOAA-NMFS-2022-0119-1221', 'NOAA-NMFS-2022-0119-1222', 'NOAA-NMFS-2022-0119-1223', 'NOAA-NMFS-2022-0119-1224', 'NOAA-NMFS-2022-0119-1225', 'NOAA-NMFS-2022-0119-1226', 'NOAA-NMFS-2022-0119-1227', 'NOAA-NMFS-2022-0119-1228', 'NOAA-NMFS-2022-0119-1229', 'NOAA-NMFS-2022-0119-1230', 'NOAA-NMFS-2022-0119-1231', 'NOAA-NMFS-2022-0119-1232', 'NOAA-NMFS-2022-0119-1233', 'NOAA-NMFS-2022-0119-1234', 'NOAA-NMFS-2022-0119-1235', 'NOAA-NMFS-2022-0119-1236', 'NOAA-NMFS-2022-0119-1237', 'NOAA-NMFS-2022-0119-1238', 'NOAA-NMFS-2022-0119-1239', 'NOAA-NMFS-2022-0119-1240', 'NOAA-NMFS-2022-0119-1241', 'NOAA-NMFS-2022-0119-1242', 'NOAA-NMFS-2022-0119-1243', 'NOAA-NMFS-2022-0119-1244', 'NOAA-NMFS-2022-0119-1245', 'NOAA-NMFS-2022-0119-1246', 'NOAA-NMFS-2022-0119-1247', 'NOAA-NMFS-2022-0119-1248', 'NOAA-NMFS-2022-0119-1249', 'NOAA-NMFS-2022-0119-1250', 'NOAA-NMFS-2022-0119-1251', 'NOAA-NMFS-2022-0119-1252', 'NOAA-NMFS-2022-0119-1253', 'NOAA-NMFS-2022-0119-1254', 'NOAA-NMFS-2022-0119-1255', 'NOAA-NMFS-2022-0119-1256', 'NOAA-NMFS-2022-0119-1257', 'NOAA-NMFS-2022-0119-1258', 'NOAA-NMFS-2022-0119-1259', 'NOAA-NMFS-2022-0119-1260', 'NOAA-NMFS-2022-0119-1261', 'NOAA-NMFS-2022-0119-1262', 'NOAA-NMFS-2022-0119-1263', 'NOAA-NMFS-2022-0119-1264', 'NOAA-NMFS-2022-0119-1265', 'NOAA-NMFS-2022-0119-1266', 'NOAA-NMFS-2022-0119-1267', 'NOAA-NMFS-2022-0119-1268', 'NOAA-NMFS-2022-0119-1269', 'NOAA-NMFS-2022-0119-1270', 'NOAA-NMFS-2022-0119-1271', 'NOAA-NMFS-2022-0119-1272', 'NOAA-NMFS-2022-0119-1273', 'NOAA-NMFS-2022-0119-1274', 'NOAA-NMFS-2022-0119-1275', 'NOAA-NMFS-2022-0119-1276', 'NOAA-NMFS-2022-0119-1277', 'NOAA-NMFS-2022-0119-1278', 'NOAA-NMFS-2022-0119-1279', 'NOAA-NMFS-2022-0119-1280', 'NOAA-NMFS-2022-0119-1281', 'NOAA-NMFS-2022-0119-1282', 'NOAA-NMFS-2022-0119-1283', 'NOAA-NMFS-2022-0119-1284', 'NOAA-NMFS-2022-0119-1285', 'NOAA-NMFS-2022-0119-1286', 'NOAA-NMFS-2022-0119-1287', 'NOAA-NMFS-2022-0119-1288', 'NOAA-NMFS-2022-0119-1289', 'NOAA-NMFS-2022-0119-1290', 'NOAA-NMFS-2022-0119-1291', 'NOAA-NMFS-2022-0119-1292', 'NOAA-NMFS-2022-0119-1293', 'NOAA-NMFS-2022-0119-1294', 'NOAA-NMFS-2022-0119-1295', 'NOAA-NMFS-2022-0119-1296', 'NOAA-NMFS-2022-0119-1297', 'NOAA-NMFS-2022-0119-1298', 'NOAA-NMFS-2022-0119-1299', 'NOAA-NMFS-2022-0119-1300', 'NOAA-NMFS-2022-0119-1301', 'NOAA-NMFS-2022-0119-1302', 'NOAA-NMFS-2022-0119-1303', 'NOAA-NMFS-2022-0119-1304', 'NOAA-NMFS-2022-0119-1305', 'NOAA-NMFS-2022-0119-1306', 'NOAA-NMFS-2022-0119-1307', 'NOAA-NMFS-2022-0119-1309', 'NOAA-NMFS-2022-0119-1310', 'NOAA-NMFS-2022-0119-1311', 'NOAA-NMFS-2022-0119-1312', 'NOAA-NMFS-2022-0119-1313', 'NOAA-NMFS-2022-0119-1314', 'NOAA-NMFS-2022-0119-1315', 'NOAA-NMFS-2022-0119-1316', 'NOAA-NMFS-2022-0119-1317', 'NOAA-NMFS-2022-0119-1318', 'NOAA-NMFS-2022-0119-1319', 'NOAA-NMFS-2022-0119-1320', 'NOAA-NMFS-2022-0119-1321', 'NOAA-NMFS-2022-0119-1322', 'NOAA-NMFS-2022-0119-1323', 'NOAA-NMFS-2022-0119-1324', 'NOAA-NMFS-2022-0119-1325', 'NOAA-NMFS-2022-0119-1326', 'NOAA-NMFS-2022-0119-1327', 'NOAA-NMFS-2022-0119-1328', 'NOAA-NMFS-2022-0119-1329', 'NOAA-NMFS-2022-0119-1330', 'NOAA-NMFS-2022-0119-1331', 'NOAA-NMFS-2022-0119-1332', 'NOAA-NMFS-2022-0119-1333', 'NOAA-NMFS-2022-0119-1334', 'NOAA-NMFS-2022-0119-1335', 'NOAA-NMFS-2022-0119-1336', 'NOAA-NMFS-2022-0119-1337', 'NOAA-NMFS-2022-0119-1338', 'NOAA-NMFS-2022-0119-1339', 'NOAA-NMFS-2022-0119-1340', 'NOAA-NMFS-2022-0119-1341', 'NOAA-NMFS-2022-0119-1342', 'NOAA-NMFS-2022-0119-1343', 'NOAA-NMFS-2022-0119-1344', 'NOAA-NMFS-2022-0119-1345', 'NOAA-NMFS-2022-0119-1346', 'NOAA-NMFS-2022-0119-1347', 'NOAA-NMFS-2022-0119-1348', 'NOAA-NMFS-2022-0119-1349', 'NOAA-NMFS-2022-0119-1350', 'NOAA-NMFS-2022-0119-1351', 'NOAA-NMFS-2022-0119-1352', 'NOAA-NMFS-2022-0119-1353', 'NOAA-NMFS-2022-0119-1354', 'NOAA-NMFS-2022-0119-1355', 'NOAA-NMFS-2022-0119-1356', 'NOAA-NMFS-2022-0119-1357', 'NOAA-NMFS-2022-0119-1358', 'NOAA-NMFS-2022-0119-1359', 'NOAA-NMFS-2022-0119-1360', 'NOAA-NMFS-2022-0119-1361', 'NOAA-NMFS-2022-0119-1362', 'NOAA-NMFS-2022-0119-1363', 'NOAA-NMFS-2022-0119-1364', 'NOAA-NMFS-2022-0119-1365', 'NOAA-NMFS-2022-0119-1366', 'NOAA-NMFS-2022-0119-1367', 'NOAA-NMFS-2022-0119-1368', 'NOAA-NMFS-2022-0119-1369', 'NOAA-NMFS-2022-0119-1370', 'NOAA-NMFS-2022-0119-1371', 'NOAA-NMFS-2022-0119-1372', 'NOAA-NMFS-2022-0119-1373', 'NOAA-NMFS-2022-0119-1374', 'NOAA-NMFS-2022-0119-1375', 'NOAA-NMFS-2022-0119-1376', 'NOAA-NMFS-2022-0119-1377', 'NOAA-NMFS-2022-0119-1378', 'NOAA-NMFS-2022-0119-1379', 'NOAA-NMFS-2022-0119-1380', 'NOAA-NMFS-2022-0119-1381', 'NOAA-NMFS-2022-0119-1382', 'NOAA-NMFS-2022-0119-1383', 'NOAA-NMFS-2022-0119-1384', 'NOAA-NMFS-2022-0119-1385', 'NOAA-NMFS-2022-0119-1386', 'NOAA-NMFS-2022-0119-1387', 'NOAA-NMFS-2022-0119-1388', 'NOAA-NMFS-2022-0119-1389', 'NOAA-NMFS-2022-0119-1390', 'NOAA-NMFS-2022-0119-1391', 'NOAA-NMFS-2022-0119-1392', 'NOAA-NMFS-2022-0119-1393', 'NOAA-NMFS-2022-0119-1394', 'NOAA-NMFS-2022-0119-1395', 'NOAA-NMFS-2022-0119-1396', 'NOAA-NMFS-2022-0119-1397', 'NOAA-NMFS-2022-0119-1398', 'NOAA-NMFS-2022-0119-1399', 'NOAA-NMFS-2022-0119-1400', 'NOAA-NMFS-2022-0119-1401', 'NOAA-NMFS-2022-0119-1402', 'NOAA-NMFS-2022-0119-1403', 'NOAA-NMFS-2022-0119-1404', 'NOAA-NMFS-2022-0119-1405', 'NOAA-NMFS-2022-0119-1406', 'NOAA-NMFS-2022-0119-1407', 'NOAA-NMFS-2022-0119-1408', 'NOAA-NMFS-2022-0119-1409', 'NOAA-NMFS-2022-0119-1410', 'NOAA-NMFS-2022-0119-1411', 'NOAA-NMFS-2022-0119-1412', 'NOAA-NMFS-2022-0119-1413', 'NOAA-NMFS-2022-0119-1414', 'NOAA-NMFS-2022-0119-1415', 'NOAA-NMFS-2022-0119-1416', 'NOAA-NMFS-2022-0119-1417', 'NOAA-NMFS-2022-0119-1418', 'NOAA-NMFS-2022-0119-1419', 'NOAA-NMFS-2022-0119-1420', 'NOAA-NMFS-2022-0119-1421', 'NOAA-NMFS-2022-0119-1422', 'NOAA-NMFS-2022-0119-1423', 'NOAA-NMFS-2022-0119-1424', 'NOAA-NMFS-2022-0119-1425', 'NOAA-NMFS-2022-0119-1426', 'NOAA-NMFS-2022-0119-1427', 'NOAA-NMFS-2022-0119-1428', 'NOAA-NMFS-2022-0119-1429', 'NOAA-NMFS-2022-0119-1430', 'NOAA-NMFS-2022-0119-1431', 'NOAA-NMFS-2022-0119-1432', 'NOAA-NMFS-2022-0119-1433', 'NOAA-NMFS-2022-0119-1434', 'NOAA-NMFS-2022-0119-1435', 'NOAA-NMFS-2022-0119-1436', 'NOAA-NMFS-2022-0119-1437', 'NOAA-NMFS-2022-0119-1438', 'NOAA-NMFS-2022-0119-1439', 'NOAA-NMFS-2022-0119-1440', 'NOAA-NMFS-2022-0119-1441', 'NOAA-NMFS-2022-0119-1442', 'NOAA-NMFS-2022-0119-1443', 'NOAA-NMFS-2022-0119-1444', 'NOAA-NMFS-2022-0119-1445', 'NOAA-NMFS-2022-0119-1446', 'NOAA-NMFS-2022-0119-1447', 'NOAA-NMFS-2022-0119-1448', 'NOAA-NMFS-2022-0119-1449', 'NOAA-NMFS-2022-0119-1450', 'NOAA-NMFS-2022-0119-1451', 'NOAA-NMFS-2022-0119-1452', 'NOAA-NMFS-2022-0119-1453', 'NOAA-NMFS-2022-0119-1454', 'NOAA-NMFS-2022-0119-1455', 'NOAA-NMFS-2022-0119-1456', 'NOAA-NMFS-2022-0119-1457', 'NOAA-NMFS-2022-0119-1458', 'NOAA-NMFS-2022-0119-1459', 'NOAA-NMFS-2022-0119-1460', 'NOAA-NMFS-2022-0119-1461', 'NOAA-NMFS-2022-0119-1462', 'NOAA-NMFS-2022-0119-1463', 'NOAA-NMFS-2022-0119-1464', 'NOAA-NMFS-2022-0119-1465', 'NOAA-NMFS-2022-0119-1466', 'NOAA-NMFS-2022-0119-1467', 'NOAA-NMFS-2022-0119-1468', 'NOAA-NMFS-2022-0119-1469', 'NOAA-NMFS-2022-0119-1470', 'NOAA-NMFS-2022-0119-1471', 'NOAA-NMFS-2022-0119-1472', 'NOAA-NMFS-2022-0119-1473', 'NOAA-NMFS-2022-0119-1474', 'NOAA-NMFS-2022-0119-1475', 'NOAA-NMFS-2022-0119-1476', 'NOAA-NMFS-2022-0119-1477', 'NOAA-NMFS-2022-0119-1478', 'NOAA-NMFS-2022-0119-1479', 'NOAA-NMFS-2022-0119-1480', 'NOAA-NMFS-2022-0119-1481', 'NOAA-NMFS-2022-0119-1482', 'NOAA-NMFS-2022-0119-1483', 'NOAA-NMFS-2022-0119-1484', 'NOAA-NMFS-2022-0119-1485', 'NOAA-NMFS-2022-0119-1486', 'NOAA-NMFS-2022-0119-1487', 'NOAA-NMFS-2022-0119-1488', 'NOAA-NMFS-2022-0119-1489', 'NOAA-NMFS-2022-0119-1490', 'NOAA-NMFS-2022-0119-1491', 'NOAA-NMFS-2022-0119-1492', 'NOAA-NMFS-2022-0119-1493', 'NOAA-NMFS-2022-0119-1494', 'NOAA-NMFS-2022-0119-1495', 'NOAA-NMFS-2022-0119-1496', 'NOAA-NMFS-2022-0119-1497', 'NOAA-NMFS-2022-0119-1498', 'NOAA-NMFS-2022-0119-1499', 'NOAA-NMFS-2022-0119-1500', 'NOAA-NMFS-2022-0119-1501', 'NOAA-NMFS-2022-0119-1502', 'NOAA-NMFS-2022-0119-1503', 'NOAA-NMFS-2022-0119-1504', 'NOAA-NMFS-2022-0119-1505', 'NOAA-NMFS-2022-0119-1506', 'NOAA-NMFS-2022-0119-1507', 'NOAA-NMFS-2022-0119-1508', 'NOAA-NMFS-2022-0119-1509', 'NOAA-NMFS-2022-0119-1510', 'NOAA-NMFS-2022-0119-1511', 'NOAA-NMFS-2022-0119-1512', 'NOAA-NMFS-2022-0119-1513', 'NOAA-NMFS-2022-0119-1514', 'NOAA-NMFS-2022-0119-1515', 'NOAA-NMFS-2022-0119-1516', 'NOAA-NMFS-2022-0119-1517', 'NOAA-NMFS-2022-0119-1518', 'NOAA-NMFS-2022-0119-1519', 'NOAA-NMFS-2022-0119-1520', 'NOAA-NMFS-2022-0119-1521', 'NOAA-NMFS-2022-0119-1522', 'NOAA-NMFS-2022-0119-1523', 'NOAA-NMFS-2022-0119-1524', 'NOAA-NMFS-2022-0119-1525', 'NOAA-NMFS-2022-0119-1526', 'NOAA-NMFS-2022-0119-1527', 'NOAA-NMFS-2022-0119-1528', 'NOAA-NMFS-2022-0119-1529', 'NOAA-NMFS-2022-0119-1530', 'NOAA-NMFS-2022-0119-1531', 'NOAA-NMFS-2022-0119-1532', 'NOAA-NMFS-2022-0119-1533', 'NOAA-NMFS-2022-0119-1534', 'NOAA-NMFS-2022-0119-1535', 'NOAA-NMFS-2022-0119-1536', 'NOAA-NMFS-2022-0119-1537', 'NOAA-NMFS-2022-0119-1538', 'NOAA-NMFS-2022-0119-1539', 'NOAA-NMFS-2022-0119-1540', 'NOAA-NMFS-2022-0119-1541', 'NOAA-NMFS-2022-0119-1542', 'NOAA-NMFS-2022-0119-1543', 'NOAA-NMFS-2022-0119-1544', 'NOAA-NMFS-2022-0119-1545', 'NOAA-NMFS-2022-0119-1546', 'NOAA-NMFS-2022-0119-1547', 'NOAA-NMFS-2022-0119-1548', 'NOAA-NMFS-2022-0119-1549', 'NOAA-NMFS-2022-0119-1550', 'NOAA-NMFS-2022-0119-1551', 'NOAA-NMFS-2022-0119-1552', 'NOAA-NMFS-2022-0119-1553', 'NOAA-NMFS-2022-0119-1554', 'NOAA-NMFS-2022-0119-1555', 'NOAA-NMFS-2022-0119-1556', 'NOAA-NMFS-2022-0119-1557', 'NOAA-NMFS-2022-0119-1558', 'NOAA-NMFS-2022-0119-1559', 'NOAA-NMFS-2022-0119-1560', 'NOAA-NMFS-2022-0119-1561', 'NOAA-NMFS-2022-0119-1562', 'NOAA-NMFS-2022-0119-1563', 'NOAA-NMFS-2022-0119-1564', 'NOAA-NMFS-2022-0119-1565', 'NOAA-NMFS-2022-0119-1566', 'NOAA-NMFS-2022-0119-1567', 'NOAA-NMFS-2022-0119-1568', 'NOAA-NMFS-2022-0119-1569', 'NOAA-NMFS-2022-0119-1570', 'NOAA-NMFS-2022-0119-1571', 'NOAA-NMFS-2022-0119-1572', 'NOAA-NMFS-2022-0119-1573', 'NOAA-NMFS-2022-0119-1574', 'NOAA-NMFS-2022-0119-1575', 'NOAA-NMFS-2022-0119-1576', 'NOAA-NMFS-2022-0119-1577', 'NOAA-NMFS-2022-0119-1578', 'NOAA-NMFS-2022-0119-1579', 'NOAA-NMFS-2022-0119-1580', 'NOAA-NMFS-2022-0119-1581', 'NOAA-NMFS-2022-0119-1582', 'NOAA-NMFS-2022-0119-1583', 'NOAA-NMFS-2022-0119-1584', 'NOAA-NMFS-2022-0119-1585', 'NOAA-NMFS-2022-0119-1586', 'NOAA-NMFS-2022-0119-1587', 'NOAA-NMFS-2022-0119-1588', 'NOAA-NMFS-2022-0119-1589', 'NOAA-NMFS-2022-0119-1590', 'NOAA-NMFS-2022-0119-1591', 'NOAA-NMFS-2022-0119-1592', 'NOAA-NMFS-2022-0119-1593', 'NOAA-NMFS-2022-0119-1594', 'NOAA-NMFS-2022-0119-1595', 'NOAA-NMFS-2022-0119-1596', 'NOAA-NMFS-2022-0119-1597', 'NOAA-NMFS-2022-0119-1598', 'NOAA-NMFS-2022-0119-1599', 'NOAA-NMFS-2022-0119-1600', 'NOAA-NMFS-2022-0119-1601', 'NOAA-NMFS-2022-0119-1602', 'NOAA-NMFS-2022-0119-1603', 'NOAA-NMFS-2022-0119-1604', 'NOAA-NMFS-2022-0119-1605', 'NOAA-NMFS-2022-0119-1606', 'NOAA-NMFS-2022-0119-1607', 'NOAA-NMFS-2022-0119-1608', 'NOAA-NMFS-2022-0119-1609', 'NOAA-NMFS-2022-0119-1610', 'NOAA-NMFS-2022-0119-1611', 'NOAA-NMFS-2022-0119-1612', 'NOAA-NMFS-2022-0119-1613', 'NOAA-NMFS-2022-0119-1614', 'NOAA-NMFS-2022-0119-1615', 'NOAA-NMFS-2022-0119-1616', 'NOAA-NMFS-2022-0119-1617', 'NOAA-NMFS-2022-0119-1618', 'NOAA-NMFS-2022-0119-1619', 'NOAA-NMFS-2022-0119-1620', 'NOAA-NMFS-2022-0119-1621', 'NOAA-NMFS-2022-0119-1622', 'NOAA-NMFS-2022-0119-1623', 'NOAA-NMFS-2022-0119-1624', 'NOAA-NMFS-2022-0119-1625', 'NOAA-NMFS-2022-0119-1626', 'NOAA-NMFS-2022-0119-1627', 'NOAA-NMFS-2022-0119-1628', 'NOAA-NMFS-2022-0119-1629', 'NOAA-NMFS-2022-0119-1630', 'NOAA-NMFS-2022-0119-1631', 'NOAA-NMFS-2022-0119-1632', 'NOAA-NMFS-2022-0119-1633', 'NOAA-NMFS-2022-0119-1634', 'NOAA-NMFS-2022-0119-1635', 'NOAA-NMFS-2022-0119-1636', 'NOAA-NMFS-2022-0119-1637', 'NOAA-NMFS-2022-0119-1638', 'NOAA-NMFS-2022-0119-1639', 'NOAA-NMFS-2022-0119-1640', 'NOAA-NMFS-2022-0119-1641', 'NOAA-NMFS-2022-0119-1642', 'NOAA-NMFS-2022-0119-1643', 'NOAA-NMFS-2022-0119-1644', 'NOAA-NMFS-2022-0119-1645', 'NOAA-NMFS-2022-0119-1646', 'NOAA-NMFS-2022-0119-1647', 'NOAA-NMFS-2022-0119-1648', 'NOAA-NMFS-2022-0119-1649', 'NOAA-NMFS-2022-0119-1650', 'NOAA-NMFS-2022-0119-1651', 'NOAA-NMFS-2022-0119-1652', 'NOAA-NMFS-2022-0119-1653', 'NOAA-NMFS-2022-0119-1654', 'NOAA-NMFS-2022-0119-1655', 'NOAA-NMFS-2022-0119-1656', 'NOAA-NMFS-2022-0119-1657', 'NOAA-NMFS-2022-0119-1658', 'NOAA-NMFS-2022-0119-1659', 'NOAA-NMFS-2022-0119-1660', 'NOAA-NMFS-2022-0119-1661', 'NOAA-NMFS-2022-0119-1662', 'NOAA-NMFS-2022-0119-1663', 'NOAA-NMFS-2022-0119-1664', 'NOAA-NMFS-2022-0119-1665', 'NOAA-NMFS-2022-0119-1666', 'NOAA-NMFS-2022-0119-1667', 'NOAA-NMFS-2022-0119-1668', 'NOAA-NMFS-2022-0119-1669', 'NOAA-NMFS-2022-0119-1670', 'NOAA-NMFS-2022-0119-1671', 'NOAA-NMFS-2022-0119-1672', 'NOAA-NMFS-2022-0119-1673', 'NOAA-NMFS-2022-0119-1674', 'NOAA-NMFS-2022-0119-1675', 'NOAA-NMFS-2022-0119-1676', 'NOAA-NMFS-2022-0119-1677', 'NOAA-NMFS-2022-0119-1678', 'NOAA-NMFS-2022-0119-1679', 'NOAA-NMFS-2022-0119-1680', 'NOAA-NMFS-2022-0119-1681', 'NOAA-NMFS-2022-0119-1682', 'NOAA-NMFS-2022-0119-1683', 'NOAA-NMFS-2022-0119-1684', 'NOAA-NMFS-2022-0119-1685', 'NOAA-NMFS-2022-0119-1686', 'NOAA-NMFS-2022-0119-1687', 'NOAA-NMFS-2022-0119-1688', 'NOAA-NMFS-2022-0119-1689', 'NOAA-NMFS-2022-0119-1690', 'NOAA-NMFS-2022-0119-1691', 'NOAA-NMFS-2022-0119-1692', 'NOAA-NMFS-2022-0119-1693', 'NOAA-NMFS-2022-0119-1694', 'NOAA-NMFS-2022-0119-1695', 'NOAA-NMFS-2022-0119-1696', 'NOAA-NMFS-2022-0119-1697', 'NOAA-NMFS-2022-0119-1698', 'NOAA-NMFS-2022-0119-1699', 'NOAA-NMFS-2022-0119-1700', 'NOAA-NMFS-2022-0119-1701', 'NOAA-NMFS-2022-0119-1702', 'NOAA-NMFS-2022-0119-1703', 'NOAA-NMFS-2022-0119-1704', 'NOAA-NMFS-2022-0119-1705', 'NOAA-NMFS-2022-0119-1706', 'NOAA-NMFS-2022-0119-1707', 'NOAA-NMFS-2022-0119-1708', 'NOAA-NMFS-2022-0119-1709', 'NOAA-NMFS-2022-0119-1710', 'NOAA-NMFS-2022-0119-1711', 'NOAA-NMFS-2022-0119-1712', 'NOAA-NMFS-2022-0119-1713', 'NOAA-NMFS-2022-0119-1714', 'NOAA-NMFS-2022-0119-1715', 'NOAA-NMFS-2022-0119-1716', 'NOAA-NMFS-2022-0119-1717', 'NOAA-NMFS-2022-0119-1718', 'NOAA-NMFS-2022-0119-1719', 'NOAA-NMFS-2022-0119-1720', 'NOAA-NMFS-2022-0119-1721', 'NOAA-NMFS-2022-0119-1722', 'NOAA-NMFS-2022-0119-1723', 'NOAA-NMFS-2022-0119-1724', 'NOAA-NMFS-2022-0119-1725', 'NOAA-NMFS-2022-0119-1726', 'NOAA-NMFS-2022-0119-1727', 'NOAA-NMFS-2022-0119-1728', 'NOAA-NMFS-2022-0119-1729', 'NOAA-NMFS-2022-0119-1730', 'NOAA-NMFS-2022-0119-1731', 'NOAA-NMFS-2022-0119-1732', 'NOAA-NMFS-2022-0119-1733', 'NOAA-NMFS-2022-0119-1734', 'NOAA-NMFS-2022-0119-1735', 'NOAA-NMFS-2022-0119-1736', 'NOAA-NMFS-2022-0119-1737', 'NOAA-NMFS-2022-0119-1738', 'NOAA-NMFS-2022-0119-1739', 'NOAA-NMFS-2022-0119-1740', 'NOAA-NMFS-2022-0119-1741', 'NOAA-NMFS-2022-0119-1742', 'NOAA-NMFS-2022-0119-1743', 'NOAA-NMFS-2022-0119-1744', 'NOAA-NMFS-2022-0119-1745', 'NOAA-NMFS-2022-0119-1746', 'NOAA-NMFS-2022-0119-1747', 'NOAA-NMFS-2022-0119-1748', 'NOAA-NMFS-2022-0119-1749', 'NOAA-NMFS-2022-0119-1750', 'NOAA-NMFS-2022-0119-1751', 'NOAA-NMFS-2022-0119-1752', 'NOAA-NMFS-2022-0119-1753', 'NOAA-NMFS-2022-0119-1754', 'NOAA-NMFS-2022-0119-1755', 'NOAA-NMFS-2022-0119-1756', 'NOAA-NMFS-2022-0119-1757', 'NOAA-NMFS-2022-0119-1758', 'NOAA-NMFS-2022-0119-1759', 'NOAA-NMFS-2022-0119-1760', 'NOAA-NMFS-2022-0119-1761', 'NOAA-NMFS-2022-0119-1762', 'NOAA-NMFS-2022-0119-1763', 'NOAA-NMFS-2022-0119-1764', 'NOAA-NMFS-2022-0119-1765', 'NOAA-NMFS-2022-0119-1766', 'NOAA-NMFS-2022-0119-1767', 'NOAA-NMFS-2022-0119-1768', 'NOAA-NMFS-2022-0119-1769', 'NOAA-NMFS-2022-0119-1770', 'NOAA-NMFS-2022-0119-1771', 'NOAA-NMFS-2022-0119-1772', 'NOAA-NMFS-2022-0119-1773', 'NOAA-NMFS-2022-0119-1774', 'NOAA-NMFS-2022-0119-1775', 'NOAA-NMFS-2022-0119-1776', 'NOAA-NMFS-2022-0119-1777', 'NOAA-NMFS-2022-0119-1778', 'NOAA-NMFS-2022-0119-1779', 'NOAA-NMFS-2022-0119-1780', 'NOAA-NMFS-2022-0119-1781', 'NOAA-NMFS-2022-0119-1782', 'NOAA-NMFS-2022-0119-1783', 'NOAA-NMFS-2022-0119-1784', 'NOAA-NMFS-2022-0119-1785', 'NOAA-NMFS-2022-0119-1786', 'NOAA-NMFS-2022-0119-1787', 'NOAA-NMFS-2022-0119-1788', 'NOAA-NMFS-2022-0119-1789', 'NOAA-NMFS-2022-0119-1790', 'NOAA-NMFS-2022-0119-1791', 'NOAA-NMFS-2022-0119-1792', 'NOAA-NMFS-2022-0119-1793', 'NOAA-NMFS-2022-0119-1794', 'NOAA-NMFS-2022-0119-1795', 'NOAA-NMFS-2022-0119-1796', 'NOAA-NMFS-2022-0119-1797', 'NOAA-NMFS-2022-0119-1798', 'NOAA-NMFS-2022-0119-1799', 'NOAA-NMFS-2022-0119-1800', 'NOAA-NMFS-2022-0119-1801', 'NOAA-NMFS-2022-0119-1802', 'NOAA-NMFS-2022-0119-1803', 'NOAA-NMFS-2022-0119-1804', 'NOAA-NMFS-2022-0119-1805', 'NOAA-NMFS-2022-0119-1806', 'NOAA-NMFS-2022-0119-1807', 'NOAA-NMFS-2022-0119-1808', 'NOAA-NMFS-2022-0119-1809', 'NOAA-NMFS-2022-0119-1810', 'NOAA-NMFS-2022-0119-1811', 'NOAA-NMFS-2022-0119-1812', 'NOAA-NMFS-2022-0119-1813', 'NOAA-NMFS-2022-0119-1814', 'NOAA-NMFS-2022-0119-1815', 'NOAA-NMFS-2022-0119-1816', 'NOAA-NMFS-2022-0119-1817', 'NOAA-NMFS-2022-0119-1818', 'NOAA-NMFS-2022-0119-1819', 'NOAA-NMFS-2022-0119-1820', 'NOAA-NMFS-2022-0119-1821', 'NOAA-NMFS-2022-0119-1822', 'NOAA-NMFS-2022-0119-1823', 'NOAA-NMFS-2022-0119-1824', 'NOAA-NMFS-2022-0119-1825', 'NOAA-NMFS-2022-0119-1826', 'NOAA-NMFS-2022-0119-1827', 'NOAA-NMFS-2022-0119-1828', 'NOAA-NMFS-2022-0119-1829', 'NOAA-NMFS-2022-0119-1830', 'NOAA-NMFS-2022-0119-1831', 'NOAA-NMFS-2022-0119-1832', 'NOAA-NMFS-2022-0119-1833', 'NOAA-NMFS-2022-0119-1834', 'NOAA-NMFS-2022-0119-1835', 'NOAA-NMFS-2022-0119-1836', 'NOAA-NMFS-2022-0119-1837', 'NOAA-NMFS-2022-0119-1838', 'NOAA-NMFS-2022-0119-1839', 'NOAA-NMFS-2022-0119-1840', 'NOAA-NMFS-2022-0119-1841', 'NOAA-NMFS-2022-0119-1842', 'NOAA-NMFS-2022-0119-1843', 'NOAA-NMFS-2022-0119-1844', 'NOAA-NMFS-2022-0119-1845', 'NOAA-NMFS-2022-0119-1846', 'NOAA-NMFS-2022-0119-1847', 'NOAA-NMFS-2022-0119-1848', 'NOAA-NMFS-2022-0119-1849', 'NOAA-NMFS-2022-0119-1850', 'NOAA-NMFS-2022-0119-1851', 'NOAA-NMFS-2022-0119-1852', 'NOAA-NMFS-2022-0119-1853', 'NOAA-NMFS-2022-0119-1854', 'NOAA-NMFS-2022-0119-1855', 'NOAA-NMFS-2022-0119-1856', 'NOAA-NMFS-2022-0119-1857', 'NOAA-NMFS-2022-0119-1858', 'NOAA-NMFS-2022-0119-1859', 'NOAA-NMFS-2022-0119-1860', 'NOAA-NMFS-2022-0119-1861', 'NOAA-NMFS-2022-0119-1862', 'NOAA-NMFS-2022-0119-1863', 'NOAA-NMFS-2022-0119-1864', 'NOAA-NMFS-2022-0119-1865', 'NOAA-NMFS-2022-0119-1866', 'NOAA-NMFS-2022-0119-1867', 'NOAA-NMFS-2022-0119-1868', 'NOAA-NMFS-2022-0119-1869', 'NOAA-NMFS-2022-0119-1870', 'NOAA-NMFS-2022-0119-1871', 'NOAA-NMFS-2022-0119-1872', 'NOAA-NMFS-2022-0119-1873', 'NOAA-NMFS-2022-0119-1874', 'NOAA-NMFS-2022-0119-1875', 'NOAA-NMFS-2022-0119-1876', 'NOAA-NMFS-2022-0119-1877', 'NOAA-NMFS-2022-0119-1878', 'NOAA-NMFS-2022-0119-1879', 'NOAA-NMFS-2022-0119-1880', 'NOAA-NMFS-2022-0119-1881', 'NOAA-NMFS-2022-0119-1882', 'NOAA-NMFS-2022-0119-1883', 'NOAA-NMFS-2022-0119-1884', 'NOAA-NMFS-2022-0119-1885', 'NOAA-NMFS-2022-0119-1886', 'NOAA-NMFS-2022-0119-1887', 'NOAA-NMFS-2022-0119-1888', 'NOAA-NMFS-2022-0119-1889', 'NOAA-NMFS-2022-0119-1890', 'NOAA-NMFS-2022-0119-1891', 'NOAA-NMFS-2022-0119-1892', 'NOAA-NMFS-2022-0119-1893', 'NOAA-NMFS-2022-0119-1895', 'NOAA-NMFS-2022-0119-1896', 'NOAA-NMFS-2022-0119-1897', 'NOAA-NMFS-2022-0119-1898', 'NOAA-NMFS-2022-0119-1899', 'NOAA-NMFS-2022-0119-1900', 'NOAA-NMFS-2022-0119-1901', 'NOAA-NMFS-2022-0119-1902', 'NOAA-NMFS-2022-0119-1903', 'NOAA-NMFS-2022-0119-1904', 'NOAA-NMFS-2022-0119-1905', 'NOAA-NMFS-2022-0119-1906', 'NOAA-NMFS-2022-0119-1907', 'NOAA-NMFS-2022-0119-1908', 'NOAA-NMFS-2022-0119-1909', 'NOAA-NMFS-2022-0119-1910', 'NOAA-NMFS-2022-0119-1911', 'NOAA-NMFS-2022-0119-1912', 'NOAA-NMFS-2022-0119-1913', 'NOAA-NMFS-2022-0119-1914', 'NOAA-NMFS-2022-0119-1915', 'NOAA-NMFS-2022-0119-1916', 'NOAA-NMFS-2022-0119-1917', 'NOAA-NMFS-2022-0119-1918', 'NOAA-NMFS-2022-0119-1919', 'NOAA-NMFS-2022-0119-1920', 'NOAA-NMFS-2022-0119-1921', 'NOAA-NMFS-2022-0119-1922', 'NOAA-NMFS-2022-0119-1923', 'NOAA-NMFS-2022-0119-1924', 'NOAA-NMFS-2022-0119-1925', 'NOAA-NMFS-2022-0119-1926', 'NOAA-NMFS-2022-0119-1927', 'NOAA-NMFS-2022-0119-1928', 'NOAA-NMFS-2022-0119-1929', 'NOAA-NMFS-2022-0119-1930', 'NOAA-NMFS-2022-0119-1931', 'NOAA-NMFS-2022-0119-1932', 'NOAA-NMFS-2022-0119-1933', 'NOAA-NMFS-2022-0119-1934', 'NOAA-NMFS-2022-0119-1935', 'NOAA-NMFS-2022-0119-1936', 'NOAA-NMFS-2022-0119-1937', 'NOAA-NMFS-2022-0119-1938', 'NOAA-NMFS-2022-0119-1939', 'NOAA-NMFS-2022-0119-1940', 'NOAA-NMFS-2022-0119-1941', 'NOAA-NMFS-2022-0119-1942', 'NOAA-NMFS-2022-0119-1943', 'NOAA-NMFS-2022-0119-1944', 'NOAA-NMFS-2022-0119-1945', 'NOAA-NMFS-2022-0119-1946', 'NOAA-NMFS-2022-0119-1947', 'NOAA-NMFS-2022-0119-1948', 'NOAA-NMFS-2022-0119-1949', 'NOAA-NMFS-2022-0119-1950', 'NOAA-NMFS-2022-0119-1951', 'NOAA-NMFS-2022-0119-1952', 'NOAA-NMFS-2022-0119-1953', 'NOAA-NMFS-2022-0119-1954', 'NOAA-NMFS-2022-0119-1955', 'NOAA-NMFS-2022-0119-1956', 'NOAA-NMFS-2022-0119-1957', 'NOAA-NMFS-2022-0119-1958', 'NOAA-NMFS-2022-0119-1959', 'NOAA-NMFS-2022-0119-1960', 'NOAA-NMFS-2022-0119-1961', 'NOAA-NMFS-2022-0119-1962', 'NOAA-NMFS-2022-0119-1963', 'NOAA-NMFS-2022-0119-1964', 'NOAA-NMFS-2022-0119-1965', 'NOAA-NMFS-2022-0119-1966', 'NOAA-NMFS-2022-0119-1967', 'NOAA-NMFS-2022-0119-1968', 'NOAA-NMFS-2022-0119-1969', 'NOAA-NMFS-2022-0119-1970', 'NOAA-NMFS-2022-0119-1971', 'NOAA-NMFS-2022-0119-1972', 'NOAA-NMFS-2022-0119-1973', 'NOAA-NMFS-2022-0119-1974', 'NOAA-NMFS-2022-0119-1975', 'NOAA-NMFS-2022-0119-1977', 'NOAA-NMFS-2022-0119-1978', 'NOAA-NMFS-2022-0119-1979', 'NOAA-NMFS-2022-0119-1980', 'NOAA-NMFS-2022-0119-1981', 'NOAA-NMFS-2022-0119-1982', 'NOAA-NMFS-2022-0119-1983', 'NOAA-NMFS-2022-0119-1984', 'NOAA-NMFS-2022-0119-1985', 'NOAA-NMFS-2022-0119-1986', 'NOAA-NMFS-2022-0119-1987', 'NOAA-NMFS-2022-0119-1988', 'NOAA-NMFS-2022-0119-1989', 'NOAA-NMFS-2022-0119-1990', 'NOAA-NMFS-2022-0119-1991', 'NOAA-NMFS-2022-0119-1992', 'NOAA-NMFS-2022-0119-1993', 'NOAA-NMFS-2022-0119-1994', 'NOAA-NMFS-2022-0119-1995', 'NOAA-NMFS-2022-0119-1996', 'NOAA-NMFS-2022-0119-1997', 'NOAA-NMFS-2022-0119-1998', 'NOAA-NMFS-2022-0119-1999', 'NOAA-NMFS-2022-0119-2000', 'NOAA-NMFS-2022-0119-2001', 'NOAA-NMFS-2022-0119-2003', 'NOAA-NMFS-2022-0119-2005', 'NOAA-NMFS-2022-0119-2006', 'NOAA-NMFS-2022-0119-2007', 'NOAA-NMFS-2022-0119-2008', 'NOAA-NMFS-2022-0119-2009', 'NOAA-NMFS-2022-0119-2010', 'NOAA-NMFS-2022-0119-2011', 'NOAA-NMFS-2022-0119-2012', 'NOAA-NMFS-2022-0119-2013', 'NOAA-NMFS-2022-0119-2014', 'NOAA-NMFS-2022-0119-2016', 'NOAA-NMFS-2022-0119-2017', 'NOAA-NMFS-2022-0119-2018', 'NOAA-NMFS-2022-0119-2019', 'NOAA-NMFS-2022-0119-2020', 'NOAA-NMFS-2022-0119-2021', 'NOAA-NMFS-2022-0119-2022', 'NOAA-NMFS-2022-0119-2023', 'NOAA-NMFS-2022-0119-2024', 'NOAA-NMFS-2022-0119-2025', 'NOAA-NMFS-2022-0119-2026', 'NOAA-NMFS-2022-0119-2027', 'NOAA-NMFS-2022-0119-2028', 'NOAA-NMFS-2022-0119-2029', 'NOAA-NMFS-2022-0119-2030', 'NOAA-NMFS-2022-0119-2032', 'NOAA-NMFS-2022-0119-2033', 'NOAA-NMFS-2022-0119-2034', 'NOAA-NMFS-2022-0119-2035', 'NOAA-NMFS-2022-0119-2036', 'NOAA-NMFS-2022-0119-2037', 'NOAA-NMFS-2022-0119-2038', 'NOAA-NMFS-2022-0119-2039', 'NOAA-NMFS-2022-0119-2040', 'NOAA-NMFS-2022-0119-2041', 'NOAA-NMFS-2022-0119-2042', 'NOAA-NMFS-2022-0119-2043', 'NOAA-NMFS-2022-0119-2044', 'NOAA-NMFS-2022-0119-2045', 'NOAA-NMFS-2022-0119-2046', 'NOAA-NMFS-2022-0119-2047', 'NOAA-NMFS-2022-0119-2048', 'NOAA-NMFS-2022-0119-2049', 'NOAA-NMFS-2022-0119-2050', 'NOAA-NMFS-2022-0119-2051', 'NOAA-NMFS-2022-0119-2052', 'NOAA-NMFS-2022-0119-2053', 'NOAA-NMFS-2022-0119-2054', 'NOAA-NMFS-2022-0119-2055', 'NOAA-NMFS-2022-0119-2056', 'NOAA-NMFS-2022-0119-2057', 'NOAA-NMFS-2022-0119-2058', 'NOAA-NMFS-2022-0119-2059', 'NOAA-NMFS-2022-0119-2060', 'NOAA-NMFS-2022-0119-2061', 'NOAA-NMFS-2022-0119-2062', 'NOAA-NMFS-2022-0119-2063', 'NOAA-NMFS-2022-0119-2064', 'NOAA-NMFS-2022-0119-2065', 'NOAA-NMFS-2022-0119-2066', 'NOAA-NMFS-2022-0119-2067', 'NOAA-NMFS-2022-0119-2068', 'NOAA-NMFS-2022-0119-2069', 'NOAA-NMFS-2022-0119-2071', 'NOAA-NMFS-2022-0119-2072', 'NOAA-NMFS-2022-0119-2073', 'NOAA-NMFS-2022-0119-2074', 'NOAA-NMFS-2022-0119-2075', 'NOAA-NMFS-2022-0119-2076', 'NOAA-NMFS-2022-0119-2077', 'NOAA-NMFS-2022-0119-2078', 'NOAA-NMFS-2022-0119-2079', 'NOAA-NMFS-2022-0119-2080', 'NOAA-NMFS-2022-0119-2081', 'NOAA-NMFS-2022-0119-2082', 'NOAA-NMFS-2022-0119-2083', 'NOAA-NMFS-2022-0119-2084', 'NOAA-NMFS-2022-0119-2085', 'NOAA-NMFS-2022-0119-2086', 'NOAA-NMFS-2022-0119-2087', 'NOAA-NMFS-2022-0119-2088', 'NOAA-NMFS-2022-0119-2089', 'NOAA-NMFS-2022-0119-2090', 'NOAA-NMFS-2022-0119-2091', 'NOAA-NMFS-2022-0119-2092', 'NOAA-NMFS-2022-0119-2093', 'NOAA-NMFS-2022-0119-2094', 'NOAA-NMFS-2022-0119-2095', 'NOAA-NMFS-2022-0119-2096', 'NOAA-NMFS-2022-0119-2097', 'NOAA-NMFS-2022-0119-2098', 'NOAA-NMFS-2022-0119-2099', 'NOAA-NMFS-2022-0119-2100', 'NOAA-NMFS-2022-0119-2101', 'NOAA-NMFS-2022-0119-2102', 'NOAA-NMFS-2022-0119-2103', 'NOAA-NMFS-2022-0119-2104', 'NOAA-NMFS-2022-0119-2105', 'NOAA-NMFS-2022-0119-2106', 'NOAA-NMFS-2022-0119-2107', 'NOAA-NMFS-2022-0119-2108', 'NOAA-NMFS-2022-0119-2109', 'NOAA-NMFS-2022-0119-2110', 'NOAA-NMFS-2022-0119-2111', 'NOAA-NMFS-2022-0119-2113', 'NOAA-NMFS-2022-0119-2114', 'NOAA-NMFS-2022-0119-2116', 'NOAA-NMFS-2022-0119-2118', 'NOAA-NMFS-2022-0119-2119', 'NOAA-NMFS-2022-0119-2120', 'NOAA-NMFS-2022-0119-2122', 'NOAA-NMFS-2022-0119-2123', 'NOAA-NMFS-2022-0119-2124', 'NOAA-NMFS-2022-0119-2126', 'NOAA-NMFS-2022-0119-2129', 'NOAA-NMFS-2022-0119-2140', 'NOAA-NMFS-2022-0119-2141', 'NOAA-NMFS-2022-0119-2142', 'NOAA-NMFS-2022-0119-2143', 'NOAA-NMFS-2022-0119-2148', 'NOAA-NMFS-2022-0119-2150', 'NOAA-NMFS-2022-0119-2152', 'NOAA-NMFS-2022-0119-2154', 'NOAA-NMFS-2022-0119-2155', 'NOAA-NMFS-2022-0119-2156', 'NOAA-NMFS-2022-0119-2160', 'NOAA-NMFS-2022-0119-2163', 'NOAA-NMFS-2022-0119-2164', 'NOAA-NMFS-2022-0119-2166', 'NOAA-NMFS-2022-0119-2168', 'NOAA-NMFS-2022-0119-2169', 'NOAA-NMFS-2022-0119-2171', 'NOAA-NMFS-2022-0119-2178', 'NOAA-NMFS-2022-0119-2188', 'NOAA-NMFS-2022-0119-2193', 'NOAA-NMFS-2022-0119-2201', 'NOAA-NMFS-2022-0119-2202', 'NOAA-NMFS-2022-0119-2204']\n",
      "Number of entries referencing  importer of record: 14\n",
      "['NOAA-NMFS-2022-0119-2015', 'NOAA-NMFS-2022-0119-2130', 'NOAA-NMFS-2022-0119-2131', 'NOAA-NMFS-2022-0119-2132', 'NOAA-NMFS-2022-0119-2161', 'NOAA-NMFS-2022-0119-2163', 'NOAA-NMFS-2022-0119-2167', 'NOAA-NMFS-2022-0119-2175', 'NOAA-NMFS-2022-0119-2180', 'NOAA-NMFS-2022-0119-2183', 'NOAA-NMFS-2022-0119-2195', 'NOAA-NMFS-2022-0119-2200', 'NOAA-NMFS-2022-0119-2203', 'NOAA-NMFS-2022-0119-2204']\n",
      "Number of entries referencing  ior: 4\n",
      "['NOAA-NMFS-2022-0119-2015', 'NOAA-NMFS-2022-0119-2130', 'NOAA-NMFS-2022-0119-2195', 'NOAA-NMFS-2022-0119-2200']\n"
     ]
    }
   ],
   "source": [
    "keyword_lookup(df_with_pdf_data, ' reprop')\n",
    "keyword_lookup(df_with_pdf_data, ' forced labor')\n",
    "keyword_lookup(df_with_pdf_data, ' importer of record')\n",
    "keyword_lookup(df_with_pdf_data, ' ior')"
   ]
  },
  {
   "cell_type": "code",
   "execution_count": 15,
   "id": "95f411fc",
   "metadata": {},
   "outputs": [
    {
     "name": "stdout",
     "output_type": "stream",
     "text": [
      "Number of entries referencing  remov: 15\n",
      "['NOAA-NMFS-2022-0119-1619', 'NOAA-NMFS-2022-0119-2004', 'NOAA-NMFS-2022-0119-2115', 'NOAA-NMFS-2022-0119-2153', 'NOAA-NMFS-2022-0119-2163', 'NOAA-NMFS-2022-0119-2165', 'NOAA-NMFS-2022-0119-2166', 'NOAA-NMFS-2022-0119-2171', 'NOAA-NMFS-2022-0119-2186', 'NOAA-NMFS-2022-0119-2194', 'NOAA-NMFS-2022-0119-2199', 'NOAA-NMFS-2022-0119-2200', 'NOAA-NMFS-2022-0119-2201', 'NOAA-NMFS-2022-0119-2202', 'NOAA-NMFS-2022-0119-2204']\n",
      "Number of entries referencing  take off: 0\n",
      "[]\n",
      "Number of entries referencing  eliminat: 19\n",
      "['NOAA-NMFS-2022-0119-2115', 'NOAA-NMFS-2022-0119-2130', 'NOAA-NMFS-2022-0119-2150', 'NOAA-NMFS-2022-0119-2153', 'NOAA-NMFS-2022-0119-2156', 'NOAA-NMFS-2022-0119-2158', 'NOAA-NMFS-2022-0119-2160', 'NOAA-NMFS-2022-0119-2163', 'NOAA-NMFS-2022-0119-2166', 'NOAA-NMFS-2022-0119-2171', 'NOAA-NMFS-2022-0119-2177', 'NOAA-NMFS-2022-0119-2184', 'NOAA-NMFS-2022-0119-2185', 'NOAA-NMFS-2022-0119-2194', 'NOAA-NMFS-2022-0119-2200', 'NOAA-NMFS-2022-0119-2201', 'NOAA-NMFS-2022-0119-2202', 'NOAA-NMFS-2022-0119-2203', 'NOAA-NMFS-2022-0119-2204']\n",
      "Number of entries referencing  shellfish: 6\n",
      "['NOAA-NMFS-2022-0119-2135', 'NOAA-NMFS-2022-0119-2147', 'NOAA-NMFS-2022-0119-2166', 'NOAA-NMFS-2022-0119-2171', 'NOAA-NMFS-2022-0119-2174', 'NOAA-NMFS-2022-0119-2182']\n",
      "Number of entries referencing  aggregated harvest report: 6\n",
      "['NOAA-NMFS-2022-0119-2131', 'NOAA-NMFS-2022-0119-2132', 'NOAA-NMFS-2022-0119-2166', 'NOAA-NMFS-2022-0119-2201', 'NOAA-NMFS-2022-0119-2202', 'NOAA-NMFS-2022-0119-2204']\n",
      "Number of entries referencing  simp form: 4\n",
      "['NOAA-NMFS-2022-0119-2130', 'NOAA-NMFS-2022-0119-2131', 'NOAA-NMFS-2022-0119-2132', 'NOAA-NMFS-2022-0119-2148']\n",
      "Number of entries referencing  form: 29\n",
      "['NOAA-NMFS-2022-0119-1863', 'NOAA-NMFS-2022-0119-2015', 'NOAA-NMFS-2022-0119-2115', 'NOAA-NMFS-2022-0119-2117', 'NOAA-NMFS-2022-0119-2130', 'NOAA-NMFS-2022-0119-2131', 'NOAA-NMFS-2022-0119-2132', 'NOAA-NMFS-2022-0119-2144', 'NOAA-NMFS-2022-0119-2148', 'NOAA-NMFS-2022-0119-2149', 'NOAA-NMFS-2022-0119-2158', 'NOAA-NMFS-2022-0119-2160', 'NOAA-NMFS-2022-0119-2163', 'NOAA-NMFS-2022-0119-2164', 'NOAA-NMFS-2022-0119-2166', 'NOAA-NMFS-2022-0119-2167', 'NOAA-NMFS-2022-0119-2170', 'NOAA-NMFS-2022-0119-2171', 'NOAA-NMFS-2022-0119-2173', 'NOAA-NMFS-2022-0119-2177', 'NOAA-NMFS-2022-0119-2179', 'NOAA-NMFS-2022-0119-2184', 'NOAA-NMFS-2022-0119-2185', 'NOAA-NMFS-2022-0119-2192', 'NOAA-NMFS-2022-0119-2200', 'NOAA-NMFS-2022-0119-2201', 'NOAA-NMFS-2022-0119-2202', 'NOAA-NMFS-2022-0119-2203', 'NOAA-NMFS-2022-0119-2204']\n",
      "Number of entries referencing  ddp: 10\n",
      "['NOAA-NMFS-2022-0119-2015', 'NOAA-NMFS-2022-0119-2130', 'NOAA-NMFS-2022-0119-2159', 'NOAA-NMFS-2022-0119-2161', 'NOAA-NMFS-2022-0119-2167', 'NOAA-NMFS-2022-0119-2175', 'NOAA-NMFS-2022-0119-2176', 'NOAA-NMFS-2022-0119-2180', 'NOAA-NMFS-2022-0119-2200', 'NOAA-NMFS-2022-0119-2203']\n",
      "Number of entries referencing  iftp: 8\n",
      "['NOAA-NMFS-2022-0119-2130', 'NOAA-NMFS-2022-0119-2131', 'NOAA-NMFS-2022-0119-2132', 'NOAA-NMFS-2022-0119-2180', 'NOAA-NMFS-2022-0119-2183', 'NOAA-NMFS-2022-0119-2200', 'NOAA-NMFS-2022-0119-2203', 'NOAA-NMFS-2022-0119-2204']\n",
      "Number of entries referencing  ndaa: 4\n",
      "['NOAA-NMFS-2022-0119-2163', 'NOAA-NMFS-2022-0119-2166', 'NOAA-NMFS-2022-0119-2201', 'NOAA-NMFS-2022-0119-2202']\n",
      "Number of entries referencing  national defense: 4\n",
      "['NOAA-NMFS-2022-0119-2163', 'NOAA-NMFS-2022-0119-2166', 'NOAA-NMFS-2022-0119-2201', 'NOAA-NMFS-2022-0119-2202']\n",
      "Number of entries referencing  magnitsky: 0\n",
      "[]\n"
     ]
    }
   ],
   "source": [
    "\n",
    "keyword_lookup(df_with_pdf_data, ' remov')\n",
    "keyword_lookup(df_with_pdf_data, ' take off')\n",
    "keyword_lookup(df_with_pdf_data, ' eliminat')\n",
    "keyword_lookup(df_with_pdf_data, ' shellfish')\n",
    "keyword_lookup(df_with_pdf_data, ' aggregated harvest report')\n",
    "keyword_lookup(df_with_pdf_data, ' simp form')\n",
    "keyword_lookup(df_with_pdf_data, ' form')\n",
    "keyword_lookup(df_with_pdf_data, ' ddp')\n",
    "keyword_lookup(df_with_pdf_data, ' iftp')\n",
    "keyword_lookup(df_with_pdf_data, ' ndaa')\n",
    "keyword_lookup(df_with_pdf_data, ' national defense')\n",
    "keyword_lookup(df_with_pdf_data, ' magnitsky')\n"
   ]
  },
  {
   "attachments": {},
   "cell_type": "markdown",
   "id": "5a4b5a20",
   "metadata": {},
   "source": [
    "## Further Comment Analysis\n",
    "Many of the documents were identical and appeared to be part of an advocacy campaign from the NRDC."
   ]
  },
  {
   "cell_type": "code",
   "execution_count": 16,
   "id": "85dfa810",
   "metadata": {},
   "outputs": [
    {
     "data": {
      "text/plain": [
       "218"
      ]
     },
     "execution_count": 16,
     "metadata": {},
     "output_type": "execute_result"
    }
   ],
   "source": [
    "len(df_with_pdf_data['CombinedText'].unique())\n",
    "# 218 unique documents at most"
   ]
  },
  {
   "cell_type": "code",
   "execution_count": 17,
   "id": "a145892d",
   "metadata": {},
   "outputs": [
    {
     "data": {
      "text/html": [
       "<div>\n",
       "<style scoped>\n",
       "    .dataframe tbody tr th:only-of-type {\n",
       "        vertical-align: middle;\n",
       "    }\n",
       "\n",
       "    .dataframe tbody tr th {\n",
       "        vertical-align: top;\n",
       "    }\n",
       "\n",
       "    .dataframe thead th {\n",
       "        text-align: right;\n",
       "    }\n",
       "</style>\n",
       "<table border=\"1\" class=\"dataframe\">\n",
       "  <thead>\n",
       "    <tr style=\"text-align: right;\">\n",
       "      <th></th>\n",
       "      <th>index</th>\n",
       "      <th>CombinedText</th>\n",
       "    </tr>\n",
       "  </thead>\n",
       "  <tbody>\n",
       "    <tr>\n",
       "      <th>0</th>\n",
       "      <td>Dear NOAA Administrator Spinrad and NOAA Fishe...</td>\n",
       "      <td>1979</td>\n",
       "    </tr>\n",
       "    <tr>\n",
       "      <th>1</th>\n",
       "      <td>Dear NOAA Administrator Spinrad and NOAA Fishe...</td>\n",
       "      <td>4</td>\n",
       "    </tr>\n",
       "    <tr>\n",
       "      <th>2</th>\n",
       "      <td>Dear NOAA Administrator Spinrad and NOAA Fishe...</td>\n",
       "      <td>2</td>\n",
       "    </tr>\n",
       "    <tr>\n",
       "      <th>3</th>\n",
       "      <td>See attached file(s) April 27, 2023\\nRachael C...</td>\n",
       "      <td>2</td>\n",
       "    </tr>\n",
       "    <tr>\n",
       "      <th>4</th>\n",
       "      <td>See attached file(s) March 22, 2023\\nMs. Racha...</td>\n",
       "      <td>2</td>\n",
       "    </tr>\n",
       "    <tr>\n",
       "      <th>5</th>\n",
       "      <td>Expanding the snapper species to all (currentl...</td>\n",
       "      <td>1</td>\n",
       "    </tr>\n",
       "    <tr>\n",
       "      <th>6</th>\n",
       "      <td>To Whom it May Concern,\\n \\nI am in favor of e...</td>\n",
       "      <td>1</td>\n",
       "    </tr>\n",
       "    <tr>\n",
       "      <th>7</th>\n",
       "      <td>Please make good decisions.\\n\\nDear NOAA Admin...</td>\n",
       "      <td>1</td>\n",
       "    </tr>\n",
       "    <tr>\n",
       "      <th>8</th>\n",
       "      <td>Dear NOAA Administrator Spinrad and NOAA Fishe...</td>\n",
       "      <td>1</td>\n",
       "    </tr>\n",
       "    <tr>\n",
       "      <th>9</th>\n",
       "      <td>Dear NOAA Administrator Spinrad and NOAA Fishe...</td>\n",
       "      <td>1</td>\n",
       "    </tr>\n",
       "  </tbody>\n",
       "</table>\n",
       "</div>"
      ],
      "text/plain": [
       "                                               index  CombinedText\n",
       "0  Dear NOAA Administrator Spinrad and NOAA Fishe...          1979\n",
       "1  Dear NOAA Administrator Spinrad and NOAA Fishe...             4\n",
       "2  Dear NOAA Administrator Spinrad and NOAA Fishe...             2\n",
       "3  See attached file(s) April 27, 2023\\nRachael C...             2\n",
       "4  See attached file(s) March 22, 2023\\nMs. Racha...             2\n",
       "5  Expanding the snapper species to all (currentl...             1\n",
       "6  To Whom it May Concern,\\n \\nI am in favor of e...             1\n",
       "7  Please make good decisions.\\n\\nDear NOAA Admin...             1\n",
       "8  Dear NOAA Administrator Spinrad and NOAA Fishe...             1\n",
       "9  Dear NOAA Administrator Spinrad and NOAA Fishe...             1"
      ]
     },
     "execution_count": 17,
     "metadata": {},
     "output_type": "execute_result"
    }
   ],
   "source": [
    "#count instances of CombinedText in df_with_pdf_data\n",
    "df_with_pdf_data['CombinedText'].value_counts().head(10).reset_index()\n",
    "\n",
    "#This shows 1979 are completely identical."
   ]
  },
  {
   "cell_type": "code",
   "execution_count": 18,
   "id": "c1237c23",
   "metadata": {},
   "outputs": [
    {
     "data": {
      "text/html": [
       "<div>\n",
       "<style scoped>\n",
       "    .dataframe tbody tr th:only-of-type {\n",
       "        vertical-align: middle;\n",
       "    }\n",
       "\n",
       "    .dataframe tbody tr th {\n",
       "        vertical-align: top;\n",
       "    }\n",
       "\n",
       "    .dataframe thead th {\n",
       "        text-align: right;\n",
       "    }\n",
       "</style>\n",
       "<table border=\"1\" class=\"dataframe\">\n",
       "  <thead>\n",
       "    <tr style=\"text-align: right;\">\n",
       "      <th></th>\n",
       "      <th>index</th>\n",
       "      <th>CombinedText</th>\n",
       "    </tr>\n",
       "  </thead>\n",
       "  <tbody>\n",
       "    <tr>\n",
       "      <th>0</th>\n",
       "      <td>Dear NOAA Administrator Spinrad and NOAA Fishe...</td>\n",
       "      <td>2044</td>\n",
       "    </tr>\n",
       "    <tr>\n",
       "      <th>1</th>\n",
       "      <td>Dear NOAA Administrator Spinrad and NOAA Fishe...</td>\n",
       "      <td>2</td>\n",
       "    </tr>\n",
       "    <tr>\n",
       "      <th>2</th>\n",
       "      <td>See attached file(s) March 22, 2023\\nMs. Racha...</td>\n",
       "      <td>2</td>\n",
       "    </tr>\n",
       "    <tr>\n",
       "      <th>3</th>\n",
       "      <td>Dear NOAA Administrator Spinrad and NOAA Fishe...</td>\n",
       "      <td>2</td>\n",
       "    </tr>\n",
       "    <tr>\n",
       "      <th>4</th>\n",
       "      <td>Dear NOAA Administrator Spinrad and NOAA Fishe...</td>\n",
       "      <td>2</td>\n",
       "    </tr>\n",
       "    <tr>\n",
       "      <th>...</th>\n",
       "      <td>...</td>\n",
       "      <td>...</td>\n",
       "    </tr>\n",
       "    <tr>\n",
       "      <th>149</th>\n",
       "      <td>To NOAA Administrator Spinrad and NOAA Fisheri...</td>\n",
       "      <td>1</td>\n",
       "    </tr>\n",
       "    <tr>\n",
       "      <th>150</th>\n",
       "      <td>Dear NOAA Administrator Spinrad and NOAA Fishe...</td>\n",
       "      <td>1</td>\n",
       "    </tr>\n",
       "    <tr>\n",
       "      <th>151</th>\n",
       "      <td>Dear NOAA Administrator Spinrad and NOAA Fishe...</td>\n",
       "      <td>1</td>\n",
       "    </tr>\n",
       "    <tr>\n",
       "      <th>152</th>\n",
       "      <td>Dear NOAA Administrator Spinrad and NOAA Fishe...</td>\n",
       "      <td>1</td>\n",
       "    </tr>\n",
       "    <tr>\n",
       "      <th>153</th>\n",
       "      <td>Please find attached comments from the Souther...</td>\n",
       "      <td>1</td>\n",
       "    </tr>\n",
       "  </tbody>\n",
       "</table>\n",
       "<p>154 rows × 2 columns</p>\n",
       "</div>"
      ],
      "text/plain": [
       "                                                 index  CombinedText\n",
       "0    Dear NOAA Administrator Spinrad and NOAA Fishe...          2044\n",
       "1    Dear NOAA Administrator Spinrad and NOAA Fishe...             2\n",
       "2    See attached file(s) March 22, 2023\\nMs. Racha...             2\n",
       "3    Dear NOAA Administrator Spinrad and NOAA Fishe...             2\n",
       "4    Dear NOAA Administrator Spinrad and NOAA Fishe...             2\n",
       "..                                                 ...           ...\n",
       "149  To NOAA Administrator Spinrad and NOAA Fisheri...             1\n",
       "150  Dear NOAA Administrator Spinrad and NOAA Fishe...             1\n",
       "151  Dear NOAA Administrator Spinrad and NOAA Fishe...             1\n",
       "152  Dear NOAA Administrator Spinrad and NOAA Fishe...             1\n",
       "153  Please find attached comments from the Souther...             1\n",
       "\n",
       "[154 rows x 2 columns]"
      ]
     },
     "execution_count": 18,
     "metadata": {},
     "output_type": "execute_result"
    }
   ],
   "source": [
    "# And 2044 are identical for the first 500 characters\n",
    "df_with_pdf_data['CombinedText'].str[:500].value_counts().head(200).reset_index()"
   ]
  },
  {
   "cell_type": "code",
   "execution_count": 19,
   "id": "4a121833",
   "metadata": {},
   "outputs": [
    {
     "name": "stdout",
     "output_type": "stream",
     "text": [
      "Dear NOAA Administrator Spinrad and NOAA Fisheries Assistant Administrator Coit:\n",
      "\n",
      "The United States needs an effective seafood traceability program to intercept the flow of illegal seafood into our markets. Illegal fishing is a top driver of unsustainable and environmentally harmful fishing practices around the globe, as well as associated human rights abuses in the seafood sector. The newly proposed changes to the Seafood Import Monitoring Program do not go far enough to help end the U.S.'s role in perpetuating human rights abuses and environmental destruction in the seafood industry. \n",
      "\n",
      "Illegal fishing is destroying our oceans. Years of overfishing in nearshore waters have forced boats to go into deeper waters, which makes fishing more expensive. Some fishers will cut costs by fishing with illegal gear, fishing in protected areas, or ignoring catch limits. To save on labor costs, some vessel owners rely on human traffickers, some even kidnapping or drugging workers to get them on the ship and cut off from help. Further, the overseas seafood processing industry is heavily reliant on forced labor.  \n",
      "\n",
      "The U.S. is one of the largest consumers of seafood. Approximately eighty percent of the seafood sold in the U.S. is imported, and as much as a third of the wild-caught seafood sold in the United States each year is illegal or unreported.  \n",
      "\n",
      "The U.S. government has a responsibility to fix these problems, and seafood traceability is an essential step in the fight to end illegal fishing and human rights abuses in the seafood industry. But under NOAA Fisheries’ proposed rule, traceability requirements would apply to only half of seafood imports, leaving massive loopholes that are easy for bad actors to exploit. The proposed rule also fails to sufficiently address labor abuses in seafood supply chains, and it includes no commitment to improve enforcement of traceability requirements. \n",
      "\n",
      "Please revise the Seafood Import Monitoring Program proposed rule to adopt the strongest possible standards for seafood traceability to intercept the flow of illegal seafood into the U.S. and help consumers feel confident the seafood they buy is legally caught and not a product of labor abuses. Thank you for helping to address these environmental and human rights crimes with the seriousness they deserve.\n"
     ]
    }
   ],
   "source": [
    "#Display the most common text\n",
    "default_NOAA_Admin_Text = df_with_pdf_data['CombinedText'].value_counts().head(1).index[0]\n",
    "print(default_NOAA_Admin_Text)"
   ]
  },
  {
   "cell_type": "code",
   "execution_count": 20,
   "id": "20e795e9",
   "metadata": {},
   "outputs": [
    {
     "name": "stdout",
     "output_type": "stream",
     "text": [
      "Distinct Comments matching or likely derived from the form letter: 137\n"
     ]
    }
   ],
   "source": [
    "#combined_text_noaa_admin_list = df_with_pdf_data[df_with_pdf_data['CombinedText'].str.contains('NOAA Administrator Spinrad and NOAA Fisheries Assistant Administrator Coit')]['CombinedText'].unique().tolist()\n",
    "combined_text_noaa_admin_df = df_with_pdf_data[df_with_pdf_data['CombinedText'].str.contains('NOAA Administrator Spinrad and NOAA Fisheries Assistant Administrator Coit')][['DocumentID', 'CombinedText']].groupby('CombinedText')['DocumentID'].apply(list).reset_index()\n",
    "# combined_text_noaa_admin_df to list of tuples\n",
    "combined_text_noaa_admin_list = list(zip(combined_text_noaa_admin_df['CombinedText'].tolist(), combined_text_noaa_admin_df['DocumentID'].tolist()))\n",
    "\n",
    "print(f\"Distinct Comments matching or likely derived from the form letter: {len(combined_text_noaa_admin_list)}\")\n"
   ]
  },
  {
   "cell_type": "code",
   "execution_count": 21,
   "id": "92325d93",
   "metadata": {},
   "outputs": [
    {
     "data": {
      "application/vnd.plotly.v1+json": {
       "config": {
        "plotlyServerURL": "https://plot.ly"
       },
       "data": [
        {
         "alignmentgroup": "True",
         "bingroup": "x",
         "hovertemplate": "variable=0<br>value=%{x}<br>count=%{y}<extra></extra>",
         "legendgroup": "0",
         "marker": {
          "color": "#636efa",
          "pattern": {
           "shape": ""
          }
         },
         "name": "0",
         "offsetgroup": "0",
         "orientation": "v",
         "showlegend": true,
         "type": "histogram",
         "x": [
          0.044,
          0.073,
          0.17,
          0.203,
          0.35,
          0.352,
          0.368,
          0.48,
          0.494,
          0.498,
          0.53,
          0.594,
          0.595,
          0.61,
          0.691,
          0.712,
          0.74,
          0.752,
          0.785,
          0.796,
          0.818,
          0.83,
          0.836,
          0.849,
          0.866,
          0.871,
          0.88,
          0.908,
          0.909,
          0.915,
          0.922,
          0.924,
          0.925,
          0.926,
          0.927,
          0.931,
          0.931,
          0.932,
          0.933,
          0.936,
          0.937,
          0.94,
          0.941,
          0.946,
          0.948,
          0.949,
          0.95,
          0.951,
          0.952,
          0.952,
          0.953,
          0.953,
          0.955,
          0.958,
          0.958,
          0.958,
          0.963,
          0.964,
          0.968,
          0.969,
          0.969,
          0.971,
          0.972,
          0.973,
          0.973,
          0.974,
          0.975,
          0.976,
          0.976,
          0.977,
          0.977,
          0.977,
          0.978,
          0.978,
          0.978,
          0.979,
          0.979,
          0.979,
          0.979,
          0.98,
          0.981,
          0.981,
          0.982,
          0.983,
          0.983,
          0.983,
          0.985,
          0.985,
          0.985,
          0.985,
          0.987,
          0.988,
          0.988,
          0.989,
          0.989,
          0.99,
          0.99,
          0.991,
          0.991,
          0.991,
          0.992,
          0.993,
          0.993,
          0.993,
          0.993,
          0.993,
          0.994,
          0.994,
          0.994,
          0.994,
          0.995,
          0.995,
          0.995,
          0.995,
          0.996,
          0.996,
          0.996,
          0.997,
          0.997,
          0.997,
          0.997,
          0.997,
          0.997,
          0.998,
          0.998,
          0.998,
          0.998,
          0.998,
          0.998,
          0.998,
          0.999,
          0.999,
          0.999,
          1,
          1,
          1,
          1
         ],
         "xaxis": "x",
         "yaxis": "y"
        }
       ],
       "layout": {
        "barmode": "relative",
        "legend": {
         "title": {
          "text": "variable"
         },
         "tracegroupgap": 0
        },
        "margin": {
         "t": 60
        },
        "template": {
         "data": {
          "bar": [
           {
            "error_x": {
             "color": "#2a3f5f"
            },
            "error_y": {
             "color": "#2a3f5f"
            },
            "marker": {
             "line": {
              "color": "#E5ECF6",
              "width": 0.5
             },
             "pattern": {
              "fillmode": "overlay",
              "size": 10,
              "solidity": 0.2
             }
            },
            "type": "bar"
           }
          ],
          "barpolar": [
           {
            "marker": {
             "line": {
              "color": "#E5ECF6",
              "width": 0.5
             },
             "pattern": {
              "fillmode": "overlay",
              "size": 10,
              "solidity": 0.2
             }
            },
            "type": "barpolar"
           }
          ],
          "carpet": [
           {
            "aaxis": {
             "endlinecolor": "#2a3f5f",
             "gridcolor": "white",
             "linecolor": "white",
             "minorgridcolor": "white",
             "startlinecolor": "#2a3f5f"
            },
            "baxis": {
             "endlinecolor": "#2a3f5f",
             "gridcolor": "white",
             "linecolor": "white",
             "minorgridcolor": "white",
             "startlinecolor": "#2a3f5f"
            },
            "type": "carpet"
           }
          ],
          "choropleth": [
           {
            "colorbar": {
             "outlinewidth": 0,
             "ticks": ""
            },
            "type": "choropleth"
           }
          ],
          "contour": [
           {
            "colorbar": {
             "outlinewidth": 0,
             "ticks": ""
            },
            "colorscale": [
             [
              0,
              "#0d0887"
             ],
             [
              0.1111111111111111,
              "#46039f"
             ],
             [
              0.2222222222222222,
              "#7201a8"
             ],
             [
              0.3333333333333333,
              "#9c179e"
             ],
             [
              0.4444444444444444,
              "#bd3786"
             ],
             [
              0.5555555555555556,
              "#d8576b"
             ],
             [
              0.6666666666666666,
              "#ed7953"
             ],
             [
              0.7777777777777778,
              "#fb9f3a"
             ],
             [
              0.8888888888888888,
              "#fdca26"
             ],
             [
              1,
              "#f0f921"
             ]
            ],
            "type": "contour"
           }
          ],
          "contourcarpet": [
           {
            "colorbar": {
             "outlinewidth": 0,
             "ticks": ""
            },
            "type": "contourcarpet"
           }
          ],
          "heatmap": [
           {
            "colorbar": {
             "outlinewidth": 0,
             "ticks": ""
            },
            "colorscale": [
             [
              0,
              "#0d0887"
             ],
             [
              0.1111111111111111,
              "#46039f"
             ],
             [
              0.2222222222222222,
              "#7201a8"
             ],
             [
              0.3333333333333333,
              "#9c179e"
             ],
             [
              0.4444444444444444,
              "#bd3786"
             ],
             [
              0.5555555555555556,
              "#d8576b"
             ],
             [
              0.6666666666666666,
              "#ed7953"
             ],
             [
              0.7777777777777778,
              "#fb9f3a"
             ],
             [
              0.8888888888888888,
              "#fdca26"
             ],
             [
              1,
              "#f0f921"
             ]
            ],
            "type": "heatmap"
           }
          ],
          "heatmapgl": [
           {
            "colorbar": {
             "outlinewidth": 0,
             "ticks": ""
            },
            "colorscale": [
             [
              0,
              "#0d0887"
             ],
             [
              0.1111111111111111,
              "#46039f"
             ],
             [
              0.2222222222222222,
              "#7201a8"
             ],
             [
              0.3333333333333333,
              "#9c179e"
             ],
             [
              0.4444444444444444,
              "#bd3786"
             ],
             [
              0.5555555555555556,
              "#d8576b"
             ],
             [
              0.6666666666666666,
              "#ed7953"
             ],
             [
              0.7777777777777778,
              "#fb9f3a"
             ],
             [
              0.8888888888888888,
              "#fdca26"
             ],
             [
              1,
              "#f0f921"
             ]
            ],
            "type": "heatmapgl"
           }
          ],
          "histogram": [
           {
            "marker": {
             "pattern": {
              "fillmode": "overlay",
              "size": 10,
              "solidity": 0.2
             }
            },
            "type": "histogram"
           }
          ],
          "histogram2d": [
           {
            "colorbar": {
             "outlinewidth": 0,
             "ticks": ""
            },
            "colorscale": [
             [
              0,
              "#0d0887"
             ],
             [
              0.1111111111111111,
              "#46039f"
             ],
             [
              0.2222222222222222,
              "#7201a8"
             ],
             [
              0.3333333333333333,
              "#9c179e"
             ],
             [
              0.4444444444444444,
              "#bd3786"
             ],
             [
              0.5555555555555556,
              "#d8576b"
             ],
             [
              0.6666666666666666,
              "#ed7953"
             ],
             [
              0.7777777777777778,
              "#fb9f3a"
             ],
             [
              0.8888888888888888,
              "#fdca26"
             ],
             [
              1,
              "#f0f921"
             ]
            ],
            "type": "histogram2d"
           }
          ],
          "histogram2dcontour": [
           {
            "colorbar": {
             "outlinewidth": 0,
             "ticks": ""
            },
            "colorscale": [
             [
              0,
              "#0d0887"
             ],
             [
              0.1111111111111111,
              "#46039f"
             ],
             [
              0.2222222222222222,
              "#7201a8"
             ],
             [
              0.3333333333333333,
              "#9c179e"
             ],
             [
              0.4444444444444444,
              "#bd3786"
             ],
             [
              0.5555555555555556,
              "#d8576b"
             ],
             [
              0.6666666666666666,
              "#ed7953"
             ],
             [
              0.7777777777777778,
              "#fb9f3a"
             ],
             [
              0.8888888888888888,
              "#fdca26"
             ],
             [
              1,
              "#f0f921"
             ]
            ],
            "type": "histogram2dcontour"
           }
          ],
          "mesh3d": [
           {
            "colorbar": {
             "outlinewidth": 0,
             "ticks": ""
            },
            "type": "mesh3d"
           }
          ],
          "parcoords": [
           {
            "line": {
             "colorbar": {
              "outlinewidth": 0,
              "ticks": ""
             }
            },
            "type": "parcoords"
           }
          ],
          "pie": [
           {
            "automargin": true,
            "type": "pie"
           }
          ],
          "scatter": [
           {
            "fillpattern": {
             "fillmode": "overlay",
             "size": 10,
             "solidity": 0.2
            },
            "type": "scatter"
           }
          ],
          "scatter3d": [
           {
            "line": {
             "colorbar": {
              "outlinewidth": 0,
              "ticks": ""
             }
            },
            "marker": {
             "colorbar": {
              "outlinewidth": 0,
              "ticks": ""
             }
            },
            "type": "scatter3d"
           }
          ],
          "scattercarpet": [
           {
            "marker": {
             "colorbar": {
              "outlinewidth": 0,
              "ticks": ""
             }
            },
            "type": "scattercarpet"
           }
          ],
          "scattergeo": [
           {
            "marker": {
             "colorbar": {
              "outlinewidth": 0,
              "ticks": ""
             }
            },
            "type": "scattergeo"
           }
          ],
          "scattergl": [
           {
            "marker": {
             "colorbar": {
              "outlinewidth": 0,
              "ticks": ""
             }
            },
            "type": "scattergl"
           }
          ],
          "scattermapbox": [
           {
            "marker": {
             "colorbar": {
              "outlinewidth": 0,
              "ticks": ""
             }
            },
            "type": "scattermapbox"
           }
          ],
          "scatterpolar": [
           {
            "marker": {
             "colorbar": {
              "outlinewidth": 0,
              "ticks": ""
             }
            },
            "type": "scatterpolar"
           }
          ],
          "scatterpolargl": [
           {
            "marker": {
             "colorbar": {
              "outlinewidth": 0,
              "ticks": ""
             }
            },
            "type": "scatterpolargl"
           }
          ],
          "scatterternary": [
           {
            "marker": {
             "colorbar": {
              "outlinewidth": 0,
              "ticks": ""
             }
            },
            "type": "scatterternary"
           }
          ],
          "surface": [
           {
            "colorbar": {
             "outlinewidth": 0,
             "ticks": ""
            },
            "colorscale": [
             [
              0,
              "#0d0887"
             ],
             [
              0.1111111111111111,
              "#46039f"
             ],
             [
              0.2222222222222222,
              "#7201a8"
             ],
             [
              0.3333333333333333,
              "#9c179e"
             ],
             [
              0.4444444444444444,
              "#bd3786"
             ],
             [
              0.5555555555555556,
              "#d8576b"
             ],
             [
              0.6666666666666666,
              "#ed7953"
             ],
             [
              0.7777777777777778,
              "#fb9f3a"
             ],
             [
              0.8888888888888888,
              "#fdca26"
             ],
             [
              1,
              "#f0f921"
             ]
            ],
            "type": "surface"
           }
          ],
          "table": [
           {
            "cells": {
             "fill": {
              "color": "#EBF0F8"
             },
             "line": {
              "color": "white"
             }
            },
            "header": {
             "fill": {
              "color": "#C8D4E3"
             },
             "line": {
              "color": "white"
             }
            },
            "type": "table"
           }
          ]
         },
         "layout": {
          "annotationdefaults": {
           "arrowcolor": "#2a3f5f",
           "arrowhead": 0,
           "arrowwidth": 1
          },
          "autotypenumbers": "strict",
          "coloraxis": {
           "colorbar": {
            "outlinewidth": 0,
            "ticks": ""
           }
          },
          "colorscale": {
           "diverging": [
            [
             0,
             "#8e0152"
            ],
            [
             0.1,
             "#c51b7d"
            ],
            [
             0.2,
             "#de77ae"
            ],
            [
             0.3,
             "#f1b6da"
            ],
            [
             0.4,
             "#fde0ef"
            ],
            [
             0.5,
             "#f7f7f7"
            ],
            [
             0.6,
             "#e6f5d0"
            ],
            [
             0.7,
             "#b8e186"
            ],
            [
             0.8,
             "#7fbc41"
            ],
            [
             0.9,
             "#4d9221"
            ],
            [
             1,
             "#276419"
            ]
           ],
           "sequential": [
            [
             0,
             "#0d0887"
            ],
            [
             0.1111111111111111,
             "#46039f"
            ],
            [
             0.2222222222222222,
             "#7201a8"
            ],
            [
             0.3333333333333333,
             "#9c179e"
            ],
            [
             0.4444444444444444,
             "#bd3786"
            ],
            [
             0.5555555555555556,
             "#d8576b"
            ],
            [
             0.6666666666666666,
             "#ed7953"
            ],
            [
             0.7777777777777778,
             "#fb9f3a"
            ],
            [
             0.8888888888888888,
             "#fdca26"
            ],
            [
             1,
             "#f0f921"
            ]
           ],
           "sequentialminus": [
            [
             0,
             "#0d0887"
            ],
            [
             0.1111111111111111,
             "#46039f"
            ],
            [
             0.2222222222222222,
             "#7201a8"
            ],
            [
             0.3333333333333333,
             "#9c179e"
            ],
            [
             0.4444444444444444,
             "#bd3786"
            ],
            [
             0.5555555555555556,
             "#d8576b"
            ],
            [
             0.6666666666666666,
             "#ed7953"
            ],
            [
             0.7777777777777778,
             "#fb9f3a"
            ],
            [
             0.8888888888888888,
             "#fdca26"
            ],
            [
             1,
             "#f0f921"
            ]
           ]
          },
          "colorway": [
           "#636efa",
           "#EF553B",
           "#00cc96",
           "#ab63fa",
           "#FFA15A",
           "#19d3f3",
           "#FF6692",
           "#B6E880",
           "#FF97FF",
           "#FECB52"
          ],
          "font": {
           "color": "#2a3f5f"
          },
          "geo": {
           "bgcolor": "white",
           "lakecolor": "white",
           "landcolor": "#E5ECF6",
           "showlakes": true,
           "showland": true,
           "subunitcolor": "white"
          },
          "hoverlabel": {
           "align": "left"
          },
          "hovermode": "closest",
          "mapbox": {
           "style": "light"
          },
          "paper_bgcolor": "white",
          "plot_bgcolor": "#E5ECF6",
          "polar": {
           "angularaxis": {
            "gridcolor": "white",
            "linecolor": "white",
            "ticks": ""
           },
           "bgcolor": "#E5ECF6",
           "radialaxis": {
            "gridcolor": "white",
            "linecolor": "white",
            "ticks": ""
           }
          },
          "scene": {
           "xaxis": {
            "backgroundcolor": "#E5ECF6",
            "gridcolor": "white",
            "gridwidth": 2,
            "linecolor": "white",
            "showbackground": true,
            "ticks": "",
            "zerolinecolor": "white"
           },
           "yaxis": {
            "backgroundcolor": "#E5ECF6",
            "gridcolor": "white",
            "gridwidth": 2,
            "linecolor": "white",
            "showbackground": true,
            "ticks": "",
            "zerolinecolor": "white"
           },
           "zaxis": {
            "backgroundcolor": "#E5ECF6",
            "gridcolor": "white",
            "gridwidth": 2,
            "linecolor": "white",
            "showbackground": true,
            "ticks": "",
            "zerolinecolor": "white"
           }
          },
          "shapedefaults": {
           "line": {
            "color": "#2a3f5f"
           }
          },
          "ternary": {
           "aaxis": {
            "gridcolor": "white",
            "linecolor": "white",
            "ticks": ""
           },
           "baxis": {
            "gridcolor": "white",
            "linecolor": "white",
            "ticks": ""
           },
           "bgcolor": "#E5ECF6",
           "caxis": {
            "gridcolor": "white",
            "linecolor": "white",
            "ticks": ""
           }
          },
          "title": {
           "x": 0.05
          },
          "xaxis": {
           "automargin": true,
           "gridcolor": "white",
           "linecolor": "white",
           "ticks": "",
           "title": {
            "standoff": 15
           },
           "zerolinecolor": "white",
           "zerolinewidth": 2
          },
          "yaxis": {
           "automargin": true,
           "gridcolor": "white",
           "linecolor": "white",
           "ticks": "",
           "title": {
            "standoff": 15
           },
           "zerolinecolor": "white",
           "zerolinewidth": 2
          }
         }
        },
        "xaxis": {
         "anchor": "y",
         "domain": [
          0,
          1
         ],
         "title": {
          "text": "value"
         }
        },
        "yaxis": {
         "anchor": "x",
         "domain": [
          0,
          1
         ],
         "title": {
          "text": "count"
         }
        }
       }
      }
     },
     "metadata": {},
     "output_type": "display_data"
    }
   ],
   "source": [
    "#display differences in strings for the first 10 strings in combined_text_noaa_admin_list\n",
    "deltas = sorted([round(SequenceMatcher(None, default_NOAA_Admin_Text, i[0]).ratio(), 3) for i in combined_text_noaa_admin_list])\n",
    "\n",
    "\n",
    "df = px.data.tips()\n",
    "fig = px.histogram(deltas)\n",
    "fig.show()\n",
    "#So the vast majority of unique strings are still very very similar to the default text"
   ]
  },
  {
   "attachments": {},
   "cell_type": "markdown",
   "id": "da348ffe",
   "metadata": {},
   "source": [
    "# Display the text differences for all of the similar comments\n",
    "This section is long and very detailed. CTRL+F for \"END OF COMPARING RELATED COMMENTS\" to skip to the next section"
   ]
  },
  {
   "cell_type": "code",
   "execution_count": 22,
   "id": "b886baa3",
   "metadata": {},
   "outputs": [],
   "source": [
    "bigger_deltas = [i for i in combined_text_noaa_admin_list if SequenceMatcher(None, default_NOAA_Admin_Text, i[0]).ratio() < 0.75]\n",
    "smaller_deltas = [i for i in combined_text_noaa_admin_list if SequenceMatcher(None, default_NOAA_Admin_Text, i[0]).ratio() < 0.95]"
   ]
  },
  {
   "cell_type": "code",
   "execution_count": 23,
   "id": "c68039ae",
   "metadata": {},
   "outputs": [],
   "source": [
    "def render_diff(text1, text2, docids):\n",
    "    diff1 = difflib.HtmlDiff().make_file(text1, text2)\n",
    "    diff_clean = re.sub('nowrap=\"nowrap\"', '', diff1)\n",
    "    diff_clean = re.sub('<table', '<table style=\"table-layout: fixed; width: 100%\"', diff_clean)\n",
    "    diff_clean = re.sub('td.diff_header {text-align:right}', 'td.diff_header {text-align:right; width:1%}', diff_clean)\n",
    "    diff_clean = re.sub('.diff_next {background-color:#c0c0c0}', '.diff_next {background-color:#c0c0c0; width:1%}', diff_clean)\n",
    "    diff_clean = re.sub('<td', '<td style=\"word-wrap: break-word\"', diff_clean)\n",
    "    diff_clean = re.sub('<body>', f'<body><hr /><br /><br /> <p>Comments: {docids}</p>', diff_clean)\n",
    "    return HTML(diff_clean)\n"
   ]
  },
  {
   "cell_type": "code",
   "execution_count": 24,
   "id": "e24ad8fa",
   "metadata": {},
   "outputs": [
    {
     "data": {
      "text/html": [
       "\n",
       "<!DOCTYPE html PUBLIC \"-//W3C//DTD XHTML 1.0 Transitional//EN\"\n",
       "          \"http://www.w3.org/TR/xhtml1/DTD/xhtml1-transitional.dtd\">\n",
       "\n",
       "<html>\n",
       "\n",
       "<head>\n",
       "    <meta http-equiv=\"Content-Type\"\n",
       "          content=\"text/html; charset=utf-8\" />\n",
       "    <title></title>\n",
       "    <style type=\"text/css\">\n",
       "        table.diff {font-family:Courier; border:medium;}\n",
       "        .diff_header {background-color:#e0e0e0}\n",
       "        td.diff_header {text-align:right; width:1%}\n",
       "        .diff_next {background-color:#c0c0c0; width:1%}\n",
       "        .diff_add {background-color:#aaffaa}\n",
       "        .diff_chg {background-color:#ffff77}\n",
       "        .diff_sub {background-color:#ffaaaa}\n",
       "    </style>\n",
       "</head>\n",
       "\n",
       "<body><hr /><br /><br /> <p>Comments: ['NOAA-NMFS-2022-0119-2167']</p>\n",
       "    \n",
       "    <table style=\"table-layout: fixed; width: 100%\" class=\"diff\" id=\"difflib_chg_to0__top\"\n",
       "           cellspacing=\"0\" cellpadding=\"0\" rules=\"groups\" >\n",
       "        <colgroup></colgroup> <colgroup></colgroup> <colgroup></colgroup>\n",
       "        <colgroup></colgroup> <colgroup></colgroup> <colgroup></colgroup>\n",
       "        \n",
       "        <tbody>\n",
       "            <tr><td style=\"word-wrap: break-word\" class=\"diff_next\" id=\"difflib_chg_to0__2\"><a href=\"#difflib_chg_to0__1\">n</a></td><td style=\"word-wrap: break-word\" class=\"diff_header\" id=\"from0_1\">1</td><td style=\"word-wrap: break-word\" >Dear&nbsp;NOAA&nbsp;Administrator&nbsp;Spinrad&nbsp;and&nbsp;NOAA&nbsp;Fisheries&nbsp;Assistant&nbsp;Administrator&nbsp;Coit<span class=\"diff_chg\">:</span></td><td style=\"word-wrap: break-word\" class=\"diff_next\"><a href=\"#difflib_chg_to0__1\">n</a></td><td style=\"word-wrap: break-word\" class=\"diff_header\" id=\"to0_1\">1</td><td style=\"word-wrap: break-word\" >Dear&nbsp;NOAA&nbsp;Administrator&nbsp;Spinrad&nbsp;and&nbsp;NOAA&nbsp;Fisheries&nbsp;Assistant&nbsp;Administrator&nbsp;Coit<span class=\"diff_chg\">,&nbsp;</span></td></tr>\n",
       "            <tr><td style=\"word-wrap: break-word\" class=\"diff_next\" id=\"difflib_chg_to0__3\"></td><td style=\"word-wrap: break-word\" class=\"diff_header\" id=\"from0_2\">2</td><td style=\"word-wrap: break-word\" ></td><td style=\"word-wrap: break-word\" class=\"diff_next\"></td><td style=\"word-wrap: break-word\" class=\"diff_header\" id=\"to0_2\">2</td><td style=\"word-wrap: break-word\" ></td></tr>\n",
       "            <tr><td style=\"word-wrap: break-word\" class=\"diff_next\"><a href=\"#difflib_chg_to0__2\">n</a></td><td style=\"word-wrap: break-word\" class=\"diff_header\" id=\"from0_3\">3</td><td style=\"word-wrap: break-word\" ><span class=\"diff_sub\">The&nbsp;United&nbsp;States&nbsp;needs&nbsp;an&nbsp;effective&nbsp;seafood&nbsp;traceability&nbsp;program&nbsp;to&nbsp;intercept&nbsp;the&nbsp;flow&nbsp;of&nbsp;illegal&nbsp;seafood&nbsp;into&nbsp;our&nbsp;markets.&nbsp;Illegal&nbsp;fishing&nbsp;is&nbsp;a&nbsp;top&nbsp;driver&nbsp;of&nbsp;unsustainable&nbsp;and&nbsp;environmentally&nbsp;harmful&nbsp;fishing&nbsp;practices&nbsp;around&nbsp;the&nbsp;globe,&nbsp;as&nbsp;well&nbsp;as&nbsp;associated&nbsp;human&nbsp;rights&nbsp;abuses&nbsp;in&nbsp;the&nbsp;seafood&nbsp;sector.&nbsp;The&nbsp;newly&nbsp;proposed&nbsp;changes&nbsp;to&nbsp;the&nbsp;Seafood&nbsp;Import&nbsp;Monitoring&nbsp;Program&nbsp;do&nbsp;not&nbsp;go&nbsp;far&nbsp;enough&nbsp;to&nbsp;help&nbsp;end&nbsp;the&nbsp;U.S.'s&nbsp;role&nbsp;in&nbsp;perpetuating&nbsp;human&nbsp;rights&nbsp;abuses&nbsp;and&nbsp;environmental&nbsp;destruction&nbsp;in&nbsp;the&nbsp;seafood&nbsp;industry.&nbsp;</span></td><td style=\"word-wrap: break-word\" class=\"diff_next\"><a href=\"#difflib_chg_to0__2\">n</a></td><td style=\"word-wrap: break-word\" class=\"diff_header\" id=\"to0_3\">3</td><td style=\"word-wrap: break-word\" ><span class=\"diff_add\">The&nbsp;fight&nbsp;to&nbsp;stop&nbsp;unregulated,&nbsp;Illegal,&nbsp;and&nbsp;unreported&nbsp;fishing&nbsp;is&nbsp;extremely&nbsp;important.&nbsp;This&nbsp;catch&nbsp;not&nbsp;only&nbsp;hurts&nbsp;the&nbsp;environment,&nbsp;but&nbsp;hurts&nbsp;businesses&nbsp;and&nbsp;individuals&nbsp;in&nbsp;the&nbsp;US&nbsp;and&nbsp;abroad.&nbsp;&nbsp;</span></td></tr>\n",
       "            <tr><td style=\"word-wrap: break-word\" class=\"diff_next\"></td><td style=\"word-wrap: break-word\" class=\"diff_header\" id=\"from0_4\">4</td><td style=\"word-wrap: break-word\" ></td><td style=\"word-wrap: break-word\" class=\"diff_next\"></td><td style=\"word-wrap: break-word\" class=\"diff_header\" id=\"to0_4\">4</td><td style=\"word-wrap: break-word\" ></td></tr>\n",
       "            <tr><td style=\"word-wrap: break-word\" class=\"diff_next\" id=\"difflib_chg_to0__4\"><a href=\"#difflib_chg_to0__3\">n</a></td><td style=\"word-wrap: break-word\" class=\"diff_header\" id=\"from0_5\">5</td><td style=\"word-wrap: break-word\" ><span class=\"diff_sub\">Illegal&nbsp;fishing&nbsp;is&nbsp;destroying&nbsp;our&nbsp;oceans.&nbsp;Years&nbsp;of&nbsp;overfishing&nbsp;in&nbsp;nearshore&nbsp;waters&nbsp;have&nbsp;forced&nbsp;boats&nbsp;to&nbsp;go&nbsp;into&nbsp;deeper&nbsp;waters,&nbsp;which&nbsp;makes&nbsp;fishing&nbsp;more&nbsp;expensive.&nbsp;Some&nbsp;fishers&nbsp;will&nbsp;cut&nbsp;costs&nbsp;by&nbsp;fishing&nbsp;with&nbsp;illegal&nbsp;gear,&nbsp;fishing&nbsp;in&nbsp;protected&nbsp;areas,&nbsp;or&nbsp;ignoring&nbsp;catch&nbsp;limits.&nbsp;To&nbsp;save&nbsp;on&nbsp;labor&nbsp;costs,&nbsp;some&nbsp;vessel&nbsp;owners&nbsp;rely&nbsp;on&nbsp;human&nbsp;traffickers,&nbsp;some&nbsp;even&nbsp;kidnapping&nbsp;or&nbsp;drugging&nbsp;workers&nbsp;to&nbsp;get&nbsp;them&nbsp;on&nbsp;the&nbsp;ship&nbsp;and&nbsp;cut&nbsp;off&nbsp;from&nbsp;help.&nbsp;Further,&nbsp;the&nbsp;overseas&nbsp;seafood&nbsp;processing&nbsp;industry&nbsp;is&nbsp;heavily&nbsp;reliant&nbsp;on&nbsp;forced&nbsp;labor.&nbsp;&nbsp;</span></td><td style=\"word-wrap: break-word\" class=\"diff_next\"><a href=\"#difflib_chg_to0__3\">n</a></td><td style=\"word-wrap: break-word\" class=\"diff_header\" id=\"to0_5\">5</td><td style=\"word-wrap: break-word\" ><span class=\"diff_add\">However&nbsp;there&nbsp;are&nbsp;few&nbsp;things&nbsp;which&nbsp;need&nbsp;to&nbsp;be&nbsp;addressed&nbsp;in&nbsp;the&nbsp;current&nbsp;system,&nbsp;as&nbsp;well&nbsp;as&nbsp;what&nbsp;has&nbsp;been&nbsp;proposed.&nbsp;</span></td></tr>\n",
       "            <tr><td style=\"word-wrap: break-word\" class=\"diff_next\"></td><td style=\"word-wrap: break-word\" class=\"diff_header\" id=\"from0_6\">6</td><td style=\"word-wrap: break-word\" ></td><td style=\"word-wrap: break-word\" class=\"diff_next\"></td><td style=\"word-wrap: break-word\" class=\"diff_header\" id=\"to0_6\">6</td><td style=\"word-wrap: break-word\" ></td></tr>\n",
       "            <tr><td style=\"word-wrap: break-word\" class=\"diff_next\" id=\"difflib_chg_to0__5\"><a href=\"#difflib_chg_to0__4\">n</a></td><td style=\"word-wrap: break-word\" class=\"diff_header\" id=\"from0_7\">7</td><td style=\"word-wrap: break-word\" ><span class=\"diff_sub\">The&nbsp;U.S.&nbsp;is&nbsp;one&nbsp;of&nbsp;the&nbsp;largest&nbsp;consumers&nbsp;of&nbsp;seafood.&nbsp;Approximately&nbsp;eighty&nbsp;percent&nbsp;of&nbsp;the&nbsp;seafood&nbsp;sold&nbsp;in&nbsp;the&nbsp;U.S.&nbsp;is&nbsp;imported,&nbsp;and&nbsp;as&nbsp;much&nbsp;as&nbsp;a&nbsp;third&nbsp;of&nbsp;the&nbsp;wild-caught&nbsp;seafood&nbsp;sold&nbsp;in&nbsp;the&nbsp;United&nbsp;States&nbsp;each&nbsp;year&nbsp;is&nbsp;illegal&nbsp;or&nbsp;unreported.&nbsp;&nbsp;</span></td><td style=\"word-wrap: break-word\" class=\"diff_next\"><a href=\"#difflib_chg_to0__4\">n</a></td><td style=\"word-wrap: break-word\" class=\"diff_header\" id=\"to0_7\">7</td><td style=\"word-wrap: break-word\" ><span class=\"diff_add\">1.&nbsp;changes&nbsp;to&nbsp;the&nbsp;permit&nbsp;holder&nbsp;regulations</span></td></tr>\n",
       "            <tr><td style=\"word-wrap: break-word\" class=\"diff_next\"></td><td style=\"word-wrap: break-word\" class=\"diff_header\"></td><td style=\"word-wrap: break-word\" ></td><td style=\"word-wrap: break-word\" class=\"diff_next\"></td><td style=\"word-wrap: break-word\" class=\"diff_header\" id=\"to0_8\">8</td><td style=\"word-wrap: break-word\" ><span class=\"diff_add\">-&nbsp;With&nbsp;current&nbsp;regulations,&nbsp;when&nbsp;the&nbsp;CBP&nbsp;Importer&nbsp;of&nbsp;Record&nbsp;is&nbsp;a&nbsp;foreign&nbsp;based&nbsp;entity&nbsp;(in&nbsp;Delivery&nbsp;Duty&nbsp;Paid&nbsp;[DDP]&nbsp;transactions),&nbsp;the&nbsp;NOAA&nbsp;IFT&nbsp;Permit&nbsp;holder&nbsp;is&nbsp;most&nbsp;often&nbsp;a&nbsp;US&nbsp;Company,&nbsp;because&nbsp;NOAA&nbsp;does&nbsp;not&nbsp;allow&nbsp;a&nbsp;foreign&nbsp;entity&nbsp;to&nbsp;hold&nbsp;an&nbsp;IFT&nbsp;Permit.&nbsp;If&nbsp;the&nbsp;proposal&nbsp;passes&nbsp;it&nbsp;will&nbsp;disallow&nbsp;all&nbsp;DDP&nbsp;imports&nbsp;which&nbsp;include&nbsp;any&nbsp;SIMP&nbsp;species.&nbsp;Now...&nbsp;US&nbsp;based&nbsp;Importers&nbsp;of&nbsp;Record&nbsp;will&nbsp;be&nbsp;responsible&nbsp;as&nbsp;the&nbsp;CBP&nbsp;Importer&nbsp;of&nbsp;Record&nbsp;for&nbsp;all&nbsp;these&nbsp;imports,&nbsp;including&nbsp;DDP&nbsp;imports&nbsp;of&nbsp;shrimp&nbsp;which&nbsp;carry&nbsp;hefty&nbsp;Anti-Dumping&nbsp;Duties&nbsp;(ADD).&nbsp;If&nbsp;a&nbsp;US&nbsp;based&nbsp;importer&nbsp;begins&nbsp;importing&nbsp;DDP&nbsp;product&nbsp;it&nbsp;will&nbsp;be&nbsp;required&nbsp;they&nbsp;provide&nbsp;Letters&nbsp;of&nbsp;Credit&nbsp;for&nbsp;a&nbsp;continuous&nbsp;bond&nbsp;with&nbsp;customs,&nbsp;which&nbsp;total&nbsp;millions&nbsp;of&nbsp;dollars&nbsp;in&nbsp;LCs&nbsp;at&nbsp;their&nbsp;bank.&nbsp;The&nbsp;other&nbsp;option&nbsp;would&nbsp;be&nbsp;that&nbsp;foreign&nbsp;based&nbsp;entities&nbsp;make&nbsp;very&nbsp;costly&nbsp;capital&nbsp;investments&nbsp;to&nbsp;open&nbsp;up&nbsp;their&nbsp;own&nbsp;US&nbsp;offices&nbsp;with&nbsp;staff&nbsp;and&nbsp;logistics&nbsp;departments.&nbsp;With&nbsp;this&nbsp;proposal&nbsp;we&nbsp;are&nbsp;opening&nbsp;up&nbsp;a&nbsp;can&nbsp;of&nbsp;economic&nbsp;worms,&nbsp;in&nbsp;already&nbsp;difficult&nbsp;financial&nbsp;times&nbsp;globally.&nbsp;</span></td></tr>\n",
       "            <tr><td style=\"word-wrap: break-word\" class=\"diff_next\"></td><td style=\"word-wrap: break-word\" class=\"diff_header\" id=\"from0_8\">8</td><td style=\"word-wrap: break-word\" ></td><td style=\"word-wrap: break-word\" class=\"diff_next\"></td><td style=\"word-wrap: break-word\" class=\"diff_header\" id=\"to0_9\">9</td><td style=\"word-wrap: break-word\" ></td></tr>\n",
       "            <tr><td style=\"word-wrap: break-word\" class=\"diff_next\"><a href=\"#difflib_chg_to0__5\">n</a></td><td style=\"word-wrap: break-word\" class=\"diff_header\" id=\"from0_9\">9</td><td style=\"word-wrap: break-word\" ><span class=\"diff_sub\">The&nbsp;U.S.&nbsp;government&nbsp;has&nbsp;a&nbsp;responsibility&nbsp;to&nbsp;fix&nbsp;these&nbsp;problems,&nbsp;and&nbsp;seafood&nbsp;traceability&nbsp;is&nbsp;an&nbsp;essential&nbsp;step&nbsp;in&nbsp;the&nbsp;fight&nbsp;to&nbsp;end&nbsp;illegal&nbsp;fishing&nbsp;and&nbsp;human&nbsp;rights&nbsp;abuses&nbsp;in&nbsp;the&nbsp;seafood&nbsp;industry.&nbsp;But&nbsp;under&nbsp;NOAA&nbsp;Fisheries’&nbsp;proposed&nbsp;rule,&nbsp;traceability&nbsp;requirements&nbsp;would&nbsp;apply&nbsp;to&nbsp;only&nbsp;half&nbsp;of&nbsp;seafood&nbsp;imports,&nbsp;leaving&nbsp;massive&nbsp;loopholes&nbsp;that&nbsp;are&nbsp;easy&nbsp;for&nbsp;bad&nbsp;actors&nbsp;to&nbsp;exploit.&nbsp;The&nbsp;proposed&nbsp;rule&nbsp;also&nbsp;fails&nbsp;to&nbsp;sufficiently&nbsp;address&nbsp;labor&nbsp;abuses&nbsp;in&nbsp;seafood&nbsp;supply&nbsp;chains,&nbsp;and&nbsp;it&nbsp;includes&nbsp;no&nbsp;commitment&nbsp;to&nbsp;improve&nbsp;enforcement&nbsp;of&nbsp;traceability&nbsp;requirements.&nbsp;</span></td><td style=\"word-wrap: break-word\" class=\"diff_next\"><a href=\"#difflib_chg_to0__5\">n</a></td><td style=\"word-wrap: break-word\" class=\"diff_header\" id=\"to0_10\">10</td><td style=\"word-wrap: break-word\" ><span class=\"diff_add\">2.&nbsp;If&nbsp;a&nbsp;unified&nbsp;document&nbsp;is&nbsp;required&nbsp;(which&nbsp;I&nbsp;believe&nbsp;it&nbsp;should&nbsp;be),&nbsp;it&nbsp;absolutely&nbsp;needs&nbsp;to&nbsp;be&nbsp;100%&nbsp;digitally&nbsp;readable,&nbsp;so&nbsp;it&nbsp;can&nbsp;be&nbsp;easily&nbsp;uploaded&nbsp;in&nbsp;the&nbsp;ACE&nbsp;system,&nbsp;with&nbsp;out&nbsp;further&nbsp;modification.&nbsp;</span></td></tr>\n",
       "            <tr><td style=\"word-wrap: break-word\" class=\"diff_next\"></td><td style=\"word-wrap: break-word\" class=\"diff_header\" id=\"from0_10\">10</td><td style=\"word-wrap: break-word\" ></td><td style=\"word-wrap: break-word\" class=\"diff_next\"></td><td style=\"word-wrap: break-word\" class=\"diff_header\" id=\"to0_11\">11</td><td style=\"word-wrap: break-word\" ></td></tr>\n",
       "            <tr><td style=\"word-wrap: break-word\" class=\"diff_next\"><a href=\"#difflib_chg_to0__top\">t</a></td><td style=\"word-wrap: break-word\" class=\"diff_header\" id=\"from0_11\">11</td><td style=\"word-wrap: break-word\" ><span class=\"diff_sub\">Please&nbsp;revise&nbsp;the&nbsp;Seafood&nbsp;Import&nbsp;Monitoring&nbsp;Program&nbsp;proposed&nbsp;rule&nbsp;to&nbsp;adopt&nbsp;the&nbsp;strongest&nbsp;possible&nbsp;standards&nbsp;for&nbsp;seafood&nbsp;traceability&nbsp;to&nbsp;intercept&nbsp;the&nbsp;flow&nbsp;of&nbsp;illegal&nbsp;seafood&nbsp;into&nbsp;the&nbsp;U.S.&nbsp;and&nbsp;help&nbsp;consumers&nbsp;feel&nbsp;confident&nbsp;the&nbsp;seafood&nbsp;they&nbsp;buy&nbsp;is&nbsp;legally&nbsp;caught&nbsp;and&nbsp;not&nbsp;a&nbsp;product&nbsp;of&nbsp;labor&nbsp;abuses.&nbsp;Thank&nbsp;you&nbsp;for&nbsp;helping&nbsp;to&nbsp;address&nbsp;these&nbsp;environmental&nbsp;and&nbsp;human&nbsp;rights&nbsp;crimes&nbsp;with&nbsp;the&nbsp;seriousness&nbsp;they&nbsp;deserve.</span></td><td style=\"word-wrap: break-word\" class=\"diff_next\"><a href=\"#difflib_chg_to0__top\">t</a></td><td style=\"word-wrap: break-word\" class=\"diff_header\" id=\"to0_12\">12</td><td style=\"word-wrap: break-word\" ><span class=\"diff_add\">3.&nbsp;Catch&nbsp;Methods&nbsp;</span></td></tr>\n",
       "            <tr><td style=\"word-wrap: break-word\" class=\"diff_next\"></td><td style=\"word-wrap: break-word\" class=\"diff_header\"></td><td style=\"word-wrap: break-word\" ></td><td style=\"word-wrap: break-word\" class=\"diff_next\"></td><td style=\"word-wrap: break-word\" class=\"diff_header\" id=\"to0_13\">13</td><td style=\"word-wrap: break-word\" ><span class=\"diff_add\">catch&nbsp;methods&nbsp;go&nbsp;by&nbsp;various&nbsp;names&nbsp;all&nbsp;over&nbsp;the&nbsp;world,&nbsp;and&nbsp;many&nbsp;are&nbsp;a&nbsp;combination&nbsp;of&nbsp;multiple&nbsp;methods,&nbsp;or&nbsp;the&nbsp;fishing&nbsp;methods&nbsp;used&nbsp;on&nbsp;the&nbsp;vessel&nbsp;to&nbsp;harvest&nbsp;the&nbsp;catch&nbsp;are&nbsp;diverse.&nbsp;&nbsp;The&nbsp;codes&nbsp;for&nbsp;these&nbsp;variety&nbsp;of&nbsp;fishing&nbsp;methods&nbsp;is&nbsp;already&nbsp;available&nbsp;and&nbsp;labeled&nbsp;by&nbsp;FAO,&nbsp;the&nbsp;current&nbsp;SIMP&nbsp;fishing&nbsp;method&nbsp;codes&nbsp;and&nbsp;their&nbsp;SIMP&nbsp;definitions&nbsp;are&nbsp;ambiguous.&nbsp;&nbsp;\"Purse&nbsp;Seine&nbsp;Catching&nbsp;Large&nbsp;Fish\"&nbsp;\"Purse&nbsp;Seine&nbsp;Catching&nbsp;Small&nbsp;Fish.\"&nbsp;At&nbsp;what&nbsp;point&nbsp;does&nbsp;the&nbsp;fish&nbsp;become&nbsp;small,&nbsp;and&nbsp;what&nbsp;point&nbsp;does&nbsp;the&nbsp;fish&nbsp;become&nbsp;large,&nbsp;and&nbsp;if&nbsp;I&nbsp;catch&nbsp;both&nbsp;small&nbsp;and&nbsp;large&nbsp;fish&nbsp;in&nbsp;my&nbsp;seine,&nbsp;but&nbsp;the&nbsp;number&nbsp;of&nbsp;small&nbsp;fish&nbsp;is&nbsp;more&nbsp;than&nbsp;the&nbsp;large&nbsp;fish,&nbsp;but&nbsp;the&nbsp;large&nbsp;fish&nbsp;are&nbsp;more&nbsp;weight&nbsp;than&nbsp;the&nbsp;small&nbsp;fish,&nbsp;but&nbsp;my&nbsp;target&nbsp;catch&nbsp;was&nbsp;the&nbsp;small&nbsp;fish,&nbsp;what&nbsp;type&nbsp;of&nbsp;purse&nbsp;seine&nbsp;am&nbsp;I&nbsp;using.&nbsp;Small&nbsp;fish&nbsp;or&nbsp;large&nbsp;fish.&nbsp;Or&nbsp;is&nbsp;it&nbsp;just&nbsp;determined&nbsp;by&nbsp;the&nbsp;species&nbsp;which&nbsp;is&nbsp;imported.&nbsp;If&nbsp;that&nbsp;is&nbsp;the&nbsp;case,&nbsp;why&nbsp;distinguish&nbsp;from&nbsp;large&nbsp;fish&nbsp;and&nbsp;small&nbsp;fish&nbsp;purse&nbsp;seine&nbsp;when&nbsp;one&nbsp;can&nbsp;just&nbsp;pick&nbsp;\"Purse&nbsp;Seine:&nbsp;Net.\"&nbsp;There&nbsp;are&nbsp;more,&nbsp;but&nbsp;I&nbsp;will&nbsp;stop&nbsp;there,&nbsp;as&nbsp;I&nbsp;don't&nbsp;want&nbsp;to&nbsp;be&nbsp;redundant&nbsp;like&nbsp;the&nbsp;codes.&nbsp;Using&nbsp;the&nbsp;FAO&nbsp;fishing&nbsp;codes&nbsp;solves&nbsp;this&nbsp;issue&nbsp;as&nbsp;the&nbsp;global&nbsp;seafood&nbsp;supply&nbsp;chain&nbsp;is&nbsp;already&nbsp;using&nbsp;it&nbsp;to&nbsp;describe&nbsp;their&nbsp;catch&nbsp;methods.&nbsp;</span></td></tr>\n",
       "            <tr><td style=\"word-wrap: break-word\" class=\"diff_next\"></td><td style=\"word-wrap: break-word\" class=\"diff_header\"></td><td style=\"word-wrap: break-word\" ></td><td style=\"word-wrap: break-word\" class=\"diff_next\"></td><td style=\"word-wrap: break-word\" class=\"diff_header\" id=\"to0_14\">14</td><td style=\"word-wrap: break-word\" ><span class=\"diff_add\">&nbsp;</span></td></tr>\n",
       "            <tr><td style=\"word-wrap: break-word\" class=\"diff_next\"></td><td style=\"word-wrap: break-word\" class=\"diff_header\"></td><td style=\"word-wrap: break-word\" ></td><td style=\"word-wrap: break-word\" class=\"diff_next\"></td><td style=\"word-wrap: break-word\" class=\"diff_header\" id=\"to0_15\">15</td><td style=\"word-wrap: break-word\" ><span class=\"diff_add\">3.&nbsp;SIMP&nbsp;is&nbsp;looking&nbsp;for&nbsp;format&nbsp;of&nbsp;the&nbsp;product&nbsp;landed&nbsp;to&nbsp;determine/calculate&nbsp;the&nbsp;total&nbsp;catch&nbsp;weight&nbsp;landed.</span></td></tr>\n",
       "            <tr><td style=\"word-wrap: break-word\" class=\"diff_next\"></td><td style=\"word-wrap: break-word\" class=\"diff_header\"></td><td style=\"word-wrap: break-word\" ></td><td style=\"word-wrap: break-word\" class=\"diff_next\"></td><td style=\"word-wrap: break-word\" class=\"diff_header\" id=\"to0_16\">16</td><td style=\"word-wrap: break-word\" ><span class=\"diff_add\">-&nbsp;Vessels&nbsp;such&nbsp;as&nbsp;those&nbsp;in&nbsp;Iceland&nbsp;may&nbsp;land&nbsp;a&nbsp;variety&nbsp;of&nbsp;product&nbsp;forms&nbsp;from&nbsp;the&nbsp;catch&nbsp;processed&nbsp;fully,&nbsp;or&nbsp;only&nbsp;partially&nbsp;onboard,&nbsp;and&nbsp;lands&nbsp;these&nbsp;as&nbsp;a&nbsp;single&nbsp;event.</span></td></tr>\n",
       "            <tr><td style=\"word-wrap: break-word\" class=\"diff_next\"></td><td style=\"word-wrap: break-word\" class=\"diff_header\"></td><td style=\"word-wrap: break-word\" ></td><td style=\"word-wrap: break-word\" class=\"diff_next\"></td><td style=\"word-wrap: break-word\" class=\"diff_header\" id=\"to0_17\">17</td><td style=\"word-wrap: break-word\" ><span class=\"diff_add\">-&nbsp;This&nbsp;can&nbsp;include&nbsp;but&nbsp;isn't&nbsp;limited&nbsp;to,&nbsp;liver,&nbsp;Roe,&nbsp;fillets,&nbsp;heads,&nbsp;Offal,&nbsp;or&nbsp;even&nbsp;by&nbsp;product&nbsp;processed&nbsp;into&nbsp;fish&nbsp;meal&nbsp;and&nbsp;fish&nbsp;oil&nbsp;on&nbsp;board.&nbsp;</span></td></tr>\n",
       "            <tr><td style=\"word-wrap: break-word\" class=\"diff_next\"></td><td style=\"word-wrap: break-word\" class=\"diff_header\"></td><td style=\"word-wrap: break-word\" ></td><td style=\"word-wrap: break-word\" class=\"diff_next\"></td><td style=\"word-wrap: break-word\" class=\"diff_header\" id=\"to0_18\">18</td><td style=\"word-wrap: break-word\" ><span class=\"diff_add\">-&nbsp;Example:&nbsp;a&nbsp;vessel&nbsp;landed&nbsp;1,000&nbsp;kg&nbsp;of&nbsp;gutted&nbsp;cod,&nbsp;and&nbsp;50&nbsp;kg&nbsp;of&nbsp;(Liver&nbsp;&amp;&nbsp;Roe&nbsp;&amp;&nbsp;milt).&nbsp;&nbsp;The&nbsp;first&nbsp;receiver&nbsp;only&nbsp;picks&nbsp;up&nbsp;the&nbsp;gutted&nbsp;cod,&nbsp;and&nbsp;then&nbsp;sells&nbsp;it&nbsp;to&nbsp;a&nbsp;processor&nbsp;who&nbsp;cuts&nbsp;it,&nbsp;who&nbsp;then&nbsp;sells&nbsp;it&nbsp;to&nbsp;an&nbsp;exporter&nbsp;FOB&nbsp;the&nbsp;airport&nbsp;receiving&nbsp;dock.&nbsp;</span></td></tr>\n",
       "            <tr><td style=\"word-wrap: break-word\" class=\"diff_next\"></td><td style=\"word-wrap: break-word\" class=\"diff_header\"></td><td style=\"word-wrap: break-word\" ></td><td style=\"word-wrap: break-word\" class=\"diff_next\"></td><td style=\"word-wrap: break-word\" class=\"diff_header\" id=\"to0_19\">19</td><td style=\"word-wrap: break-word\" ><span class=\"diff_add\">-&nbsp;Should&nbsp;the&nbsp;importer&nbsp;report&nbsp;all&nbsp;the&nbsp;product&nbsp;forms&nbsp;landed&nbsp;from&nbsp;the&nbsp;entire&nbsp;catch&nbsp;or&nbsp;just&nbsp;that&nbsp;which&nbsp;the&nbsp;\"first&nbsp;receiver\"&nbsp;picked&nbsp;up&nbsp;from&nbsp;the&nbsp;boat&nbsp;and&nbsp;delivered&nbsp;to&nbsp;the&nbsp;processor?&nbsp;If&nbsp;they&nbsp;report&nbsp;all&nbsp;catch,&nbsp;and&nbsp;mark&nbsp;the&nbsp;\"first&nbsp;receiver\"&nbsp;down&nbsp;on&nbsp;all&nbsp;parts,&nbsp;it&nbsp;would&nbsp;not&nbsp;be&nbsp;true,&nbsp;as&nbsp;the&nbsp;\"first&nbsp;receiver\"&nbsp;did&nbsp;not&nbsp;receive&nbsp;that&nbsp;part&nbsp;of&nbsp;the&nbsp;catch,&nbsp;and&nbsp;it&nbsp;can&nbsp;not&nbsp;be&nbsp;traced&nbsp;back&nbsp;to&nbsp;them&nbsp;from&nbsp;the&nbsp;imported&nbsp;catch.&nbsp;&nbsp;</span></td></tr>\n",
       "            <tr><td style=\"word-wrap: break-word\" class=\"diff_next\"></td><td style=\"word-wrap: break-word\" class=\"diff_header\"></td><td style=\"word-wrap: break-word\" ></td><td style=\"word-wrap: break-word\" class=\"diff_next\"></td><td style=\"word-wrap: break-word\" class=\"diff_header\" id=\"to0_20\">20</td><td style=\"word-wrap: break-word\" ><span class=\"diff_add\">-&nbsp;This&nbsp;needs&nbsp;to&nbsp;be&nbsp;clarified&nbsp;in&nbsp;the&nbsp;document&nbsp;or&nbsp;in&nbsp;the&nbsp;Unified&nbsp;document.&nbsp;Each&nbsp;Landing&nbsp;event&nbsp;can&nbsp;and&nbsp;does&nbsp;have&nbsp;multiple&nbsp;first&nbsp;receivers,&nbsp;all&nbsp;taking&nbsp;different&nbsp;parts&nbsp;of&nbsp;the&nbsp;same&nbsp;catch.&nbsp;&nbsp;</span></td></tr>\n",
       "            <tr><td style=\"word-wrap: break-word\" class=\"diff_next\"></td><td style=\"word-wrap: break-word\" class=\"diff_header\"></td><td style=\"word-wrap: break-word\" ></td><td style=\"word-wrap: break-word\" class=\"diff_next\"></td><td style=\"word-wrap: break-word\" class=\"diff_header\" id=\"to0_21\">21</td><td style=\"word-wrap: break-word\" ><span class=\"diff_add\">&nbsp;</span></td></tr>\n",
       "            <tr><td style=\"word-wrap: break-word\" class=\"diff_next\"></td><td style=\"word-wrap: break-word\" class=\"diff_header\"></td><td style=\"word-wrap: break-word\" ></td><td style=\"word-wrap: break-word\" class=\"diff_next\"></td><td style=\"word-wrap: break-word\" class=\"diff_header\" id=\"to0_22\">22</td><td style=\"word-wrap: break-word\" ><span class=\"diff_add\">4.&nbsp;Education&nbsp;to&nbsp;Exporters&nbsp;and&nbsp;importers&nbsp;in&nbsp;more&nbsp;than&nbsp;just&nbsp;text.&nbsp;&nbsp;There&nbsp;should&nbsp;be&nbsp;video&nbsp;tutorials&nbsp;on&nbsp;how&nbsp;to&nbsp;complete&nbsp;this&nbsp;documentation,&nbsp;under&nbsp;the&nbsp;majority&nbsp;of&nbsp;import&nbsp;scenarios,&nbsp;as&nbsp;well&nbsp;a&nbsp;very&nbsp;clear&nbsp;definitions&nbsp;of&nbsp;the&nbsp;\"First&nbsp;Receiver\"&nbsp;Identity&nbsp;IDs.&nbsp;Many&nbsp;of&nbsp;the&nbsp;failed&nbsp;audits&nbsp;are&nbsp;result&nbsp;of&nbsp;SIMP&nbsp;paperwork&nbsp;being&nbsp;filled&nbsp;out&nbsp;improperly&nbsp;due&nbsp;to&nbsp;a&nbsp;lack&nbsp;of&nbsp;understanding&nbsp;of&nbsp;the&nbsp;definitions.&nbsp;&nbsp;The&nbsp;same&nbsp;is&nbsp;true&nbsp;for&nbsp;the&nbsp;auditors,&nbsp;as&nbsp;they&nbsp;all&nbsp;seems&nbsp;to&nbsp;have&nbsp;various&nbsp;different&nbsp;understandings&nbsp;of&nbsp;how&nbsp;these&nbsp;documents&nbsp;should&nbsp;be&nbsp;completed.&nbsp;&nbsp;</span></td></tr>\n",
       "            <tr><td style=\"word-wrap: break-word\" class=\"diff_next\"></td><td style=\"word-wrap: break-word\" class=\"diff_header\"></td><td style=\"word-wrap: break-word\" ></td><td style=\"word-wrap: break-word\" class=\"diff_next\"></td><td style=\"word-wrap: break-word\" class=\"diff_header\" id=\"to0_23\">23</td><td style=\"word-wrap: break-word\" ><span class=\"diff_add\">&nbsp;</span></td></tr>\n",
       "            <tr><td style=\"word-wrap: break-word\" class=\"diff_next\"></td><td style=\"word-wrap: break-word\" class=\"diff_header\"></td><td style=\"word-wrap: break-word\" ></td><td style=\"word-wrap: break-word\" class=\"diff_next\"></td><td style=\"word-wrap: break-word\" class=\"diff_header\" id=\"to0_24\">24</td><td style=\"word-wrap: break-word\" ><span class=\"diff_add\">5.&nbsp;I&nbsp;want&nbsp;to&nbsp;stress&nbsp;education&nbsp;on&nbsp;the&nbsp;current&nbsp;and&nbsp;new&nbsp;rules,&nbsp;as&nbsp;they&nbsp;directly&nbsp;impact&nbsp;peoples&nbsp;businesses&nbsp;if&nbsp;not&nbsp;performed&nbsp;correctly.&nbsp;&nbsp;The&nbsp;first&nbsp;roll&nbsp;out&nbsp;has&nbsp;been&nbsp;cumbersome&nbsp;for&nbsp;even&nbsp;NOAA&nbsp;auditors.&nbsp;Where&nbsp;there&nbsp;are&nbsp;no&nbsp;good&nbsp;answers&nbsp;for&nbsp;how&nbsp;to&nbsp;complete&nbsp;the&nbsp;documents&nbsp;correctly.&nbsp;</span></td></tr>\n",
       "            <tr><td style=\"word-wrap: break-word\" class=\"diff_next\"></td><td style=\"word-wrap: break-word\" class=\"diff_header\"></td><td style=\"word-wrap: break-word\" ></td><td style=\"word-wrap: break-word\" class=\"diff_next\"></td><td style=\"word-wrap: break-word\" class=\"diff_header\" id=\"to0_25\">25</td><td style=\"word-wrap: break-word\" ><span class=\"diff_add\">&nbsp;</span></td></tr>\n",
       "            <tr><td style=\"word-wrap: break-word\" class=\"diff_next\"></td><td style=\"word-wrap: break-word\" class=\"diff_header\"></td><td style=\"word-wrap: break-word\" ></td><td style=\"word-wrap: break-word\" class=\"diff_next\"></td><td style=\"word-wrap: break-word\" class=\"diff_header\" id=\"to0_26\">26</td><td style=\"word-wrap: break-word\" ><span class=\"diff_add\">Adding&nbsp;more&nbsp;species&nbsp;without&nbsp;fully&nbsp;addressing&nbsp;the&nbsp;knowledge&nbsp;gaps&nbsp;that&nbsp;exist&nbsp;with&nbsp;the&nbsp;current&nbsp;SIMP&nbsp;species&nbsp;is&nbsp;not&nbsp;acceptable.&nbsp;</span></td></tr>\n",
       "            <tr><td style=\"word-wrap: break-word\" class=\"diff_next\"></td><td style=\"word-wrap: break-word\" class=\"diff_header\"></td><td style=\"word-wrap: break-word\" ></td><td style=\"word-wrap: break-word\" class=\"diff_next\"></td><td style=\"word-wrap: break-word\" class=\"diff_header\" id=\"to0_27\">27</td><td style=\"word-wrap: break-word\" ><span class=\"diff_add\">&nbsp;</span></td></tr>\n",
       "        </tbody>\n",
       "    </table>\n",
       "    <table style=\"table-layout: fixed; width: 100%\" class=\"diff\" summary=\"Legends\">\n",
       "        <tr> <th colspan=\"2\"> Legends </th> </tr>\n",
       "        <tr> <td style=\"word-wrap: break-word\"> <table style=\"table-layout: fixed; width: 100%\" border=\"\" summary=\"Colors\">\n",
       "                      <tr><th> Colors </th> </tr>\n",
       "                      <tr><td style=\"word-wrap: break-word\" class=\"diff_add\">&nbsp;Added&nbsp;</td></tr>\n",
       "                      <tr><td style=\"word-wrap: break-word\" class=\"diff_chg\">Changed</td> </tr>\n",
       "                      <tr><td style=\"word-wrap: break-word\" class=\"diff_sub\">Deleted</td> </tr>\n",
       "                  </table></td>\n",
       "             <td style=\"word-wrap: break-word\"> <table style=\"table-layout: fixed; width: 100%\" border=\"\" summary=\"Links\">\n",
       "                      <tr><th colspan=\"2\"> Links </th> </tr>\n",
       "                      <tr><td style=\"word-wrap: break-word\">(f)irst change</td> </tr>\n",
       "                      <tr><td style=\"word-wrap: break-word\">(n)ext change</td> </tr>\n",
       "                      <tr><td style=\"word-wrap: break-word\">(t)op</td> </tr>\n",
       "                  </table></td> </tr>\n",
       "    </table>\n",
       "</body>\n",
       "\n",
       "</html>"
      ],
      "text/plain": [
       "<IPython.core.display.HTML object>"
      ]
     },
     "metadata": {},
     "output_type": "display_data"
    },
    {
     "data": {
      "text/html": [
       "\n",
       "<!DOCTYPE html PUBLIC \"-//W3C//DTD XHTML 1.0 Transitional//EN\"\n",
       "          \"http://www.w3.org/TR/xhtml1/DTD/xhtml1-transitional.dtd\">\n",
       "\n",
       "<html>\n",
       "\n",
       "<head>\n",
       "    <meta http-equiv=\"Content-Type\"\n",
       "          content=\"text/html; charset=utf-8\" />\n",
       "    <title></title>\n",
       "    <style type=\"text/css\">\n",
       "        table.diff {font-family:Courier; border:medium;}\n",
       "        .diff_header {background-color:#e0e0e0}\n",
       "        td.diff_header {text-align:right; width:1%}\n",
       "        .diff_next {background-color:#c0c0c0; width:1%}\n",
       "        .diff_add {background-color:#aaffaa}\n",
       "        .diff_chg {background-color:#ffff77}\n",
       "        .diff_sub {background-color:#ffaaaa}\n",
       "    </style>\n",
       "</head>\n",
       "\n",
       "<body><hr /><br /><br /> <p>Comments: ['NOAA-NMFS-2022-0119-1619']</p>\n",
       "    \n",
       "    <table style=\"table-layout: fixed; width: 100%\" class=\"diff\" id=\"difflib_chg_to1__top\"\n",
       "           cellspacing=\"0\" cellpadding=\"0\" rules=\"groups\" >\n",
       "        <colgroup></colgroup> <colgroup></colgroup> <colgroup></colgroup>\n",
       "        <colgroup></colgroup> <colgroup></colgroup> <colgroup></colgroup>\n",
       "        \n",
       "        <tbody>\n",
       "            <tr><td style=\"word-wrap: break-word\" class=\"diff_next\" id=\"difflib_chg_to1__0\"><a href=\"#difflib_chg_to1__0\">f</a></td><td style=\"word-wrap: break-word\" class=\"diff_header\" id=\"from1_1\">1</td><td style=\"word-wrap: break-word\" >Dear&nbsp;NOAA&nbsp;Administrator&nbsp;Spinrad&nbsp;and&nbsp;NOAA&nbsp;Fisheries&nbsp;Assistant&nbsp;Administrator&nbsp;Coit:</td><td style=\"word-wrap: break-word\" class=\"diff_next\"><a href=\"#difflib_chg_to1__0\">f</a></td><td style=\"word-wrap: break-word\" class=\"diff_header\" id=\"to1_1\">1</td><td style=\"word-wrap: break-word\" >Dear&nbsp;NOAA&nbsp;Administrator&nbsp;Spinrad&nbsp;and&nbsp;NOAA&nbsp;Fisheries&nbsp;Assistant&nbsp;Administrator&nbsp;Coit:</td></tr>\n",
       "            <tr><td style=\"word-wrap: break-word\" class=\"diff_next\"><a href=\"#difflib_chg_to1__top\">t</a></td><td style=\"word-wrap: break-word\" class=\"diff_header\"></td><td style=\"word-wrap: break-word\" ></td><td style=\"word-wrap: break-word\" class=\"diff_next\"><a href=\"#difflib_chg_to1__top\">t</a></td><td style=\"word-wrap: break-word\" class=\"diff_header\" id=\"to1_2\">2</td><td style=\"word-wrap: break-word\" ><span class=\"diff_add\">&nbsp;</span></td></tr>\n",
       "            <tr><td style=\"word-wrap: break-word\" class=\"diff_next\"></td><td style=\"word-wrap: break-word\" class=\"diff_header\"></td><td style=\"word-wrap: break-word\" ></td><td style=\"word-wrap: break-word\" class=\"diff_next\"></td><td style=\"word-wrap: break-word\" class=\"diff_header\" id=\"to1_3\">3</td><td style=\"word-wrap: break-word\" ><span class=\"diff_add\">***Unscrupulous,&nbsp;amoral&nbsp;fishing&nbsp;boat&nbsp;operators&nbsp;on&nbsp;the&nbsp;high&nbsp;seas&nbsp;are&nbsp;ravaging&nbsp;both&nbsp;our&nbsp;ocean&nbsp;environment&nbsp;and&nbsp;the&nbsp;human&nbsp;rights&nbsp;of&nbsp;their&nbsp;effectively&nbsp;captive&nbsp;work&nbsp;force&nbsp;that&nbsp;is&nbsp;tantamount&nbsp;to&nbsp;a&nbsp;slave&nbsp;operation.&nbsp;The&nbsp;international&nbsp;legal&nbsp;system&nbsp;has&nbsp;yet&nbsp;to&nbsp;establish&nbsp;effective&nbsp;laws,&nbsp;enforcement,&nbsp;or&nbsp;deterrents&nbsp;in&nbsp;the&nbsp;vast&nbsp;zone&nbsp;known&nbsp;as&nbsp;the&nbsp;\"High&nbsp;Seas,\"&nbsp;and&nbsp;in&nbsp;this&nbsp;legal&nbsp;limbo,&nbsp;atrocities&nbsp;occur&nbsp;that&nbsp;would&nbsp;never&nbsp;be&nbsp;tolerated&nbsp;in&nbsp;American&nbsp;waters.&nbsp;The&nbsp;fishing&nbsp;operators&nbsp;fly&nbsp;flags&nbsp;of&nbsp;convenience,&nbsp;hop&nbsp;from&nbsp;port&nbsp;to&nbsp;port&nbsp;like&nbsp;pirates&nbsp;of&nbsp;old,&nbsp;and&nbsp;unload&nbsp;their&nbsp;ill-gotten&nbsp;loot&nbsp;into&nbsp;opaque,&nbsp;untraceable&nbsp;seafood&nbsp;supply&nbsp;chains&nbsp;that&nbsp;are&nbsp;typically&nbsp;happy&nbsp;to&nbsp;not&nbsp;inquire&nbsp;too&nbsp;energetically&nbsp;into&nbsp;the&nbsp;provenance&nbsp;of&nbsp;their&nbsp;curiously&nbsp;inexpensive&nbsp;product.</span></td></tr>\n",
       "            <tr><td style=\"word-wrap: break-word\" class=\"diff_next\"></td><td style=\"word-wrap: break-word\" class=\"diff_header\"></td><td style=\"word-wrap: break-word\" ></td><td style=\"word-wrap: break-word\" class=\"diff_next\"></td><td style=\"word-wrap: break-word\" class=\"diff_header\" id=\"to1_4\">4</td><td style=\"word-wrap: break-word\" ><span class=\"diff_add\">&nbsp;</span></td></tr>\n",
       "            <tr><td style=\"word-wrap: break-word\" class=\"diff_next\"></td><td style=\"word-wrap: break-word\" class=\"diff_header\"></td><td style=\"word-wrap: break-word\" ></td><td style=\"word-wrap: break-word\" class=\"diff_next\"></td><td style=\"word-wrap: break-word\" class=\"diff_header\" id=\"to1_5\">5</td><td style=\"word-wrap: break-word\" ><span class=\"diff_add\">This&nbsp;insidious&nbsp;web&nbsp;of&nbsp;the&nbsp;gray&nbsp;market&nbsp;fishing&nbsp;industry&nbsp;places&nbsp;American&nbsp;importers,&nbsp;wholesalers,&nbsp;retailers,&nbsp;and&nbsp;consumers&nbsp;in&nbsp;the&nbsp;morally&nbsp;untenable&nbsp;position&nbsp;of&nbsp;funding&nbsp;crimes&nbsp;against&nbsp;our&nbsp;ocean&nbsp;ecosystem&nbsp;and&nbsp;against&nbsp;the&nbsp;human&nbsp;rights&nbsp;of&nbsp;people&nbsp;tricked&nbsp;or&nbsp;conscripted&nbsp;into&nbsp;medieval&nbsp;working&nbsp;conditions.&nbsp;The&nbsp;world's&nbsp;oceans&nbsp;are&nbsp;coming&nbsp;under&nbsp;increasing,&nbsp;crushing&nbsp;human&nbsp;demand&nbsp;for&nbsp;animal&nbsp;protein,&nbsp;and&nbsp;these&nbsp;rogue&nbsp;fishing&nbsp;operations&nbsp;that&nbsp;push&nbsp;further&nbsp;and&nbsp;deeper&nbsp;into&nbsp;the&nbsp;ungoverned&nbsp;'High&nbsp;Seas'&nbsp;are&nbsp;both&nbsp;a&nbsp;product&nbsp;and&nbsp;self-reinforcing&nbsp;catalyst&nbsp;of&nbsp;this&nbsp;race&nbsp;to&nbsp;the&nbsp;bottom&nbsp;of&nbsp;both&nbsp;our&nbsp;planetary&nbsp;food&nbsp;chain&nbsp;and&nbsp;the&nbsp;dignity&nbsp;of&nbsp;the&nbsp;human&nbsp;workforce&nbsp;involved.&nbsp;I&nbsp;urge&nbsp;you&nbsp;to&nbsp;demand&nbsp;complete&nbsp;provenance&nbsp;for&nbsp;all&nbsp;seafood&nbsp;entering&nbsp;American&nbsp;markets,&nbsp;and&nbsp;to&nbsp;close&nbsp;access&nbsp;to&nbsp;any&nbsp;importer&nbsp;unable&nbsp;or&nbsp;unwilling&nbsp;to&nbsp;document&nbsp;legal&nbsp;operation&nbsp;at&nbsp;every&nbsp;step,&nbsp;to&nbsp;remove&nbsp;the&nbsp;American&nbsp;financial&nbsp;reward&nbsp;that&nbsp;is&nbsp;fueling&nbsp;this&nbsp;moral&nbsp;carnage.***</span></td></tr>\n",
       "            <tr><td style=\"word-wrap: break-word\" class=\"diff_next\"></td><td style=\"word-wrap: break-word\" class=\"diff_header\" id=\"from1_2\">2</td><td style=\"word-wrap: break-word\" ></td><td style=\"word-wrap: break-word\" class=\"diff_next\"></td><td style=\"word-wrap: break-word\" class=\"diff_header\" id=\"to1_6\">6</td><td style=\"word-wrap: break-word\" ></td></tr>\n",
       "            <tr><td style=\"word-wrap: break-word\" class=\"diff_next\"></td><td style=\"word-wrap: break-word\" class=\"diff_header\" id=\"from1_3\">3</td><td style=\"word-wrap: break-word\" >The&nbsp;United&nbsp;States&nbsp;needs&nbsp;an&nbsp;effective&nbsp;seafood&nbsp;traceability&nbsp;program&nbsp;to&nbsp;intercept&nbsp;the&nbsp;flow&nbsp;of&nbsp;illegal&nbsp;seafood&nbsp;into&nbsp;our&nbsp;markets.&nbsp;Illegal&nbsp;fishing&nbsp;is&nbsp;a&nbsp;top&nbsp;driver&nbsp;of&nbsp;unsustainable&nbsp;and&nbsp;environmentally&nbsp;harmful&nbsp;fishing&nbsp;practices&nbsp;around&nbsp;the&nbsp;globe,&nbsp;as&nbsp;well&nbsp;as&nbsp;associated&nbsp;human&nbsp;rights&nbsp;abuses&nbsp;in&nbsp;the&nbsp;seafood&nbsp;sector.&nbsp;The&nbsp;newly&nbsp;proposed&nbsp;changes&nbsp;to&nbsp;the&nbsp;Seafood&nbsp;Import&nbsp;Monitoring&nbsp;Program&nbsp;do&nbsp;not&nbsp;go&nbsp;far&nbsp;enough&nbsp;to&nbsp;help&nbsp;end&nbsp;the&nbsp;U.S.'s&nbsp;role&nbsp;in&nbsp;perpetuating&nbsp;human&nbsp;rights&nbsp;abuses&nbsp;and&nbsp;environmental&nbsp;destruction&nbsp;in&nbsp;the&nbsp;seafood&nbsp;industry.&nbsp;</td><td style=\"word-wrap: break-word\" class=\"diff_next\"></td><td style=\"word-wrap: break-word\" class=\"diff_header\" id=\"to1_7\">7</td><td style=\"word-wrap: break-word\" >The&nbsp;United&nbsp;States&nbsp;needs&nbsp;an&nbsp;effective&nbsp;seafood&nbsp;traceability&nbsp;program&nbsp;to&nbsp;intercept&nbsp;the&nbsp;flow&nbsp;of&nbsp;illegal&nbsp;seafood&nbsp;into&nbsp;our&nbsp;markets.&nbsp;Illegal&nbsp;fishing&nbsp;is&nbsp;a&nbsp;top&nbsp;driver&nbsp;of&nbsp;unsustainable&nbsp;and&nbsp;environmentally&nbsp;harmful&nbsp;fishing&nbsp;practices&nbsp;around&nbsp;the&nbsp;globe,&nbsp;as&nbsp;well&nbsp;as&nbsp;associated&nbsp;human&nbsp;rights&nbsp;abuses&nbsp;in&nbsp;the&nbsp;seafood&nbsp;sector.&nbsp;The&nbsp;newly&nbsp;proposed&nbsp;changes&nbsp;to&nbsp;the&nbsp;Seafood&nbsp;Import&nbsp;Monitoring&nbsp;Program&nbsp;do&nbsp;not&nbsp;go&nbsp;far&nbsp;enough&nbsp;to&nbsp;help&nbsp;end&nbsp;the&nbsp;U.S.'s&nbsp;role&nbsp;in&nbsp;perpetuating&nbsp;human&nbsp;rights&nbsp;abuses&nbsp;and&nbsp;environmental&nbsp;destruction&nbsp;in&nbsp;the&nbsp;seafood&nbsp;industry.&nbsp;</td></tr>\n",
       "            <tr><td style=\"word-wrap: break-word\" class=\"diff_next\"></td><td style=\"word-wrap: break-word\" class=\"diff_header\" id=\"from1_4\">4</td><td style=\"word-wrap: break-word\" ></td><td style=\"word-wrap: break-word\" class=\"diff_next\"></td><td style=\"word-wrap: break-word\" class=\"diff_header\" id=\"to1_8\">8</td><td style=\"word-wrap: break-word\" ></td></tr>\n",
       "            <tr><td style=\"word-wrap: break-word\" class=\"diff_next\"></td><td style=\"word-wrap: break-word\" class=\"diff_header\" id=\"from1_5\">5</td><td style=\"word-wrap: break-word\" >Illegal&nbsp;fishing&nbsp;is&nbsp;destroying&nbsp;our&nbsp;oceans.&nbsp;Years&nbsp;of&nbsp;overfishing&nbsp;in&nbsp;nearshore&nbsp;waters&nbsp;have&nbsp;forced&nbsp;boats&nbsp;to&nbsp;go&nbsp;into&nbsp;deeper&nbsp;waters,&nbsp;which&nbsp;makes&nbsp;fishing&nbsp;more&nbsp;expensive.&nbsp;Some&nbsp;fishers&nbsp;will&nbsp;cut&nbsp;costs&nbsp;by&nbsp;fishing&nbsp;with&nbsp;illegal&nbsp;gear,&nbsp;fishing&nbsp;in&nbsp;protected&nbsp;areas,&nbsp;or&nbsp;ignoring&nbsp;catch&nbsp;limits.&nbsp;To&nbsp;save&nbsp;on&nbsp;labor&nbsp;costs,&nbsp;some&nbsp;vessel&nbsp;owners&nbsp;rely&nbsp;on&nbsp;human&nbsp;traffickers,&nbsp;some&nbsp;even&nbsp;kidnapping&nbsp;or&nbsp;drugging&nbsp;workers&nbsp;to&nbsp;get&nbsp;them&nbsp;on&nbsp;the&nbsp;ship&nbsp;and&nbsp;cut&nbsp;off&nbsp;from&nbsp;help.&nbsp;Further,&nbsp;the&nbsp;overseas&nbsp;seafood&nbsp;processing&nbsp;industry&nbsp;is&nbsp;heavily&nbsp;reliant&nbsp;on&nbsp;forced&nbsp;labor.&nbsp;&nbsp;</td><td style=\"word-wrap: break-word\" class=\"diff_next\"></td><td style=\"word-wrap: break-word\" class=\"diff_header\" id=\"to1_9\">9</td><td style=\"word-wrap: break-word\" >Illegal&nbsp;fishing&nbsp;is&nbsp;destroying&nbsp;our&nbsp;oceans.&nbsp;Years&nbsp;of&nbsp;overfishing&nbsp;in&nbsp;nearshore&nbsp;waters&nbsp;have&nbsp;forced&nbsp;boats&nbsp;to&nbsp;go&nbsp;into&nbsp;deeper&nbsp;waters,&nbsp;which&nbsp;makes&nbsp;fishing&nbsp;more&nbsp;expensive.&nbsp;Some&nbsp;fishers&nbsp;will&nbsp;cut&nbsp;costs&nbsp;by&nbsp;fishing&nbsp;with&nbsp;illegal&nbsp;gear,&nbsp;fishing&nbsp;in&nbsp;protected&nbsp;areas,&nbsp;or&nbsp;ignoring&nbsp;catch&nbsp;limits.&nbsp;To&nbsp;save&nbsp;on&nbsp;labor&nbsp;costs,&nbsp;some&nbsp;vessel&nbsp;owners&nbsp;rely&nbsp;on&nbsp;human&nbsp;traffickers,&nbsp;some&nbsp;even&nbsp;kidnapping&nbsp;or&nbsp;drugging&nbsp;workers&nbsp;to&nbsp;get&nbsp;them&nbsp;on&nbsp;the&nbsp;ship&nbsp;and&nbsp;cut&nbsp;off&nbsp;from&nbsp;help.&nbsp;Further,&nbsp;the&nbsp;overseas&nbsp;seafood&nbsp;processing&nbsp;industry&nbsp;is&nbsp;heavily&nbsp;reliant&nbsp;on&nbsp;forced&nbsp;labor.&nbsp;&nbsp;</td></tr>\n",
       "            <tr><td style=\"word-wrap: break-word\" class=\"diff_next\"></td><td style=\"word-wrap: break-word\" class=\"diff_header\" id=\"from1_6\">6</td><td style=\"word-wrap: break-word\" ></td><td style=\"word-wrap: break-word\" class=\"diff_next\"></td><td style=\"word-wrap: break-word\" class=\"diff_header\" id=\"to1_10\">10</td><td style=\"word-wrap: break-word\" ></td></tr>\n",
       "            <tr><td style=\"word-wrap: break-word\" class=\"diff_next\"></td><td style=\"word-wrap: break-word\" class=\"diff_header\" id=\"from1_7\">7</td><td style=\"word-wrap: break-word\" >The&nbsp;U.S.&nbsp;is&nbsp;one&nbsp;of&nbsp;the&nbsp;largest&nbsp;consumers&nbsp;of&nbsp;seafood.&nbsp;Approximately&nbsp;eighty&nbsp;percent&nbsp;of&nbsp;the&nbsp;seafood&nbsp;sold&nbsp;in&nbsp;the&nbsp;U.S.&nbsp;is&nbsp;imported,&nbsp;and&nbsp;as&nbsp;much&nbsp;as&nbsp;a&nbsp;third&nbsp;of&nbsp;the&nbsp;wild-caught&nbsp;seafood&nbsp;sold&nbsp;in&nbsp;the&nbsp;United&nbsp;States&nbsp;each&nbsp;year&nbsp;is&nbsp;illegal&nbsp;or&nbsp;unreported.&nbsp;&nbsp;</td><td style=\"word-wrap: break-word\" class=\"diff_next\"></td><td style=\"word-wrap: break-word\" class=\"diff_header\" id=\"to1_11\">11</td><td style=\"word-wrap: break-word\" >The&nbsp;U.S.&nbsp;is&nbsp;one&nbsp;of&nbsp;the&nbsp;largest&nbsp;consumers&nbsp;of&nbsp;seafood.&nbsp;Approximately&nbsp;eighty&nbsp;percent&nbsp;of&nbsp;the&nbsp;seafood&nbsp;sold&nbsp;in&nbsp;the&nbsp;U.S.&nbsp;is&nbsp;imported,&nbsp;and&nbsp;as&nbsp;much&nbsp;as&nbsp;a&nbsp;third&nbsp;of&nbsp;the&nbsp;wild-caught&nbsp;seafood&nbsp;sold&nbsp;in&nbsp;the&nbsp;United&nbsp;States&nbsp;each&nbsp;year&nbsp;is&nbsp;illegal&nbsp;or&nbsp;unreported.&nbsp;&nbsp;</td></tr>\n",
       "            <tr><td style=\"word-wrap: break-word\" class=\"diff_next\"></td><td style=\"word-wrap: break-word\" class=\"diff_header\" id=\"from1_8\">8</td><td style=\"word-wrap: break-word\" ></td><td style=\"word-wrap: break-word\" class=\"diff_next\"></td><td style=\"word-wrap: break-word\" class=\"diff_header\" id=\"to1_12\">12</td><td style=\"word-wrap: break-word\" ></td></tr>\n",
       "            <tr><td style=\"word-wrap: break-word\" class=\"diff_next\"></td><td style=\"word-wrap: break-word\" class=\"diff_header\" id=\"from1_9\">9</td><td style=\"word-wrap: break-word\" >The&nbsp;U.S.&nbsp;government&nbsp;has&nbsp;a&nbsp;responsibility&nbsp;to&nbsp;fix&nbsp;these&nbsp;problems,&nbsp;and&nbsp;seafood&nbsp;traceability&nbsp;is&nbsp;an&nbsp;essential&nbsp;step&nbsp;in&nbsp;the&nbsp;fight&nbsp;to&nbsp;end&nbsp;illegal&nbsp;fishing&nbsp;and&nbsp;human&nbsp;rights&nbsp;abuses&nbsp;in&nbsp;the&nbsp;seafood&nbsp;industry.&nbsp;But&nbsp;under&nbsp;NOAA&nbsp;Fisheries’&nbsp;proposed&nbsp;rule,&nbsp;traceability&nbsp;requirements&nbsp;would&nbsp;apply&nbsp;to&nbsp;only&nbsp;half&nbsp;of&nbsp;seafood&nbsp;imports,&nbsp;leaving&nbsp;massive&nbsp;loopholes&nbsp;that&nbsp;are&nbsp;easy&nbsp;for&nbsp;bad&nbsp;actors&nbsp;to&nbsp;exploit.&nbsp;The&nbsp;proposed&nbsp;rule&nbsp;also&nbsp;fails&nbsp;to&nbsp;sufficiently&nbsp;address&nbsp;labor&nbsp;abuses&nbsp;in&nbsp;seafood&nbsp;supply&nbsp;chains,&nbsp;and&nbsp;it&nbsp;includes&nbsp;no&nbsp;commitment&nbsp;to&nbsp;improve&nbsp;enforcement&nbsp;of&nbsp;traceability&nbsp;requirements.&nbsp;</td><td style=\"word-wrap: break-word\" class=\"diff_next\"></td><td style=\"word-wrap: break-word\" class=\"diff_header\" id=\"to1_13\">13</td><td style=\"word-wrap: break-word\" >The&nbsp;U.S.&nbsp;government&nbsp;has&nbsp;a&nbsp;responsibility&nbsp;to&nbsp;fix&nbsp;these&nbsp;problems,&nbsp;and&nbsp;seafood&nbsp;traceability&nbsp;is&nbsp;an&nbsp;essential&nbsp;step&nbsp;in&nbsp;the&nbsp;fight&nbsp;to&nbsp;end&nbsp;illegal&nbsp;fishing&nbsp;and&nbsp;human&nbsp;rights&nbsp;abuses&nbsp;in&nbsp;the&nbsp;seafood&nbsp;industry.&nbsp;But&nbsp;under&nbsp;NOAA&nbsp;Fisheries’&nbsp;proposed&nbsp;rule,&nbsp;traceability&nbsp;requirements&nbsp;would&nbsp;apply&nbsp;to&nbsp;only&nbsp;half&nbsp;of&nbsp;seafood&nbsp;imports,&nbsp;leaving&nbsp;massive&nbsp;loopholes&nbsp;that&nbsp;are&nbsp;easy&nbsp;for&nbsp;bad&nbsp;actors&nbsp;to&nbsp;exploit.&nbsp;The&nbsp;proposed&nbsp;rule&nbsp;also&nbsp;fails&nbsp;to&nbsp;sufficiently&nbsp;address&nbsp;labor&nbsp;abuses&nbsp;in&nbsp;seafood&nbsp;supply&nbsp;chains,&nbsp;and&nbsp;it&nbsp;includes&nbsp;no&nbsp;commitment&nbsp;to&nbsp;improve&nbsp;enforcement&nbsp;of&nbsp;traceability&nbsp;requirements.&nbsp;</td></tr>\n",
       "            <tr><td style=\"word-wrap: break-word\" class=\"diff_next\"></td><td style=\"word-wrap: break-word\" class=\"diff_header\" id=\"from1_10\">10</td><td style=\"word-wrap: break-word\" ></td><td style=\"word-wrap: break-word\" class=\"diff_next\"></td><td style=\"word-wrap: break-word\" class=\"diff_header\" id=\"to1_14\">14</td><td style=\"word-wrap: break-word\" ></td></tr>\n",
       "            <tr><td style=\"word-wrap: break-word\" class=\"diff_next\"></td><td style=\"word-wrap: break-word\" class=\"diff_header\" id=\"from1_11\">11</td><td style=\"word-wrap: break-word\" >Please&nbsp;revise&nbsp;the&nbsp;Seafood&nbsp;Import&nbsp;Monitoring&nbsp;Program&nbsp;proposed&nbsp;rule&nbsp;to&nbsp;adopt&nbsp;the&nbsp;strongest&nbsp;possible&nbsp;standards&nbsp;for&nbsp;seafood&nbsp;traceability&nbsp;to&nbsp;intercept&nbsp;the&nbsp;flow&nbsp;of&nbsp;illegal&nbsp;seafood&nbsp;into&nbsp;the&nbsp;U.S.&nbsp;and&nbsp;help&nbsp;consumers&nbsp;feel&nbsp;confident&nbsp;the&nbsp;seafood&nbsp;they&nbsp;buy&nbsp;is&nbsp;legally&nbsp;caught&nbsp;and&nbsp;not&nbsp;a&nbsp;product&nbsp;of&nbsp;labor&nbsp;abuses.&nbsp;Thank&nbsp;you&nbsp;for&nbsp;helping&nbsp;to&nbsp;address&nbsp;these&nbsp;environmental&nbsp;and&nbsp;human&nbsp;rights&nbsp;crimes&nbsp;with&nbsp;the&nbsp;seriousness&nbsp;they&nbsp;deserve.</td><td style=\"word-wrap: break-word\" class=\"diff_next\"></td><td style=\"word-wrap: break-word\" class=\"diff_header\" id=\"to1_15\">15</td><td style=\"word-wrap: break-word\" >Please&nbsp;revise&nbsp;the&nbsp;Seafood&nbsp;Import&nbsp;Monitoring&nbsp;Program&nbsp;proposed&nbsp;rule&nbsp;to&nbsp;adopt&nbsp;the&nbsp;strongest&nbsp;possible&nbsp;standards&nbsp;for&nbsp;seafood&nbsp;traceability&nbsp;to&nbsp;intercept&nbsp;the&nbsp;flow&nbsp;of&nbsp;illegal&nbsp;seafood&nbsp;into&nbsp;the&nbsp;U.S.&nbsp;and&nbsp;help&nbsp;consumers&nbsp;feel&nbsp;confident&nbsp;the&nbsp;seafood&nbsp;they&nbsp;buy&nbsp;is&nbsp;legally&nbsp;caught&nbsp;and&nbsp;not&nbsp;a&nbsp;product&nbsp;of&nbsp;labor&nbsp;abuses.&nbsp;Thank&nbsp;you&nbsp;for&nbsp;helping&nbsp;to&nbsp;address&nbsp;these&nbsp;environmental&nbsp;and&nbsp;human&nbsp;rights&nbsp;crimes&nbsp;with&nbsp;the&nbsp;seriousness&nbsp;they&nbsp;deserve.</td></tr>\n",
       "        </tbody>\n",
       "    </table>\n",
       "    <table style=\"table-layout: fixed; width: 100%\" class=\"diff\" summary=\"Legends\">\n",
       "        <tr> <th colspan=\"2\"> Legends </th> </tr>\n",
       "        <tr> <td style=\"word-wrap: break-word\"> <table style=\"table-layout: fixed; width: 100%\" border=\"\" summary=\"Colors\">\n",
       "                      <tr><th> Colors </th> </tr>\n",
       "                      <tr><td style=\"word-wrap: break-word\" class=\"diff_add\">&nbsp;Added&nbsp;</td></tr>\n",
       "                      <tr><td style=\"word-wrap: break-word\" class=\"diff_chg\">Changed</td> </tr>\n",
       "                      <tr><td style=\"word-wrap: break-word\" class=\"diff_sub\">Deleted</td> </tr>\n",
       "                  </table></td>\n",
       "             <td style=\"word-wrap: break-word\"> <table style=\"table-layout: fixed; width: 100%\" border=\"\" summary=\"Links\">\n",
       "                      <tr><th colspan=\"2\"> Links </th> </tr>\n",
       "                      <tr><td style=\"word-wrap: break-word\">(f)irst change</td> </tr>\n",
       "                      <tr><td style=\"word-wrap: break-word\">(n)ext change</td> </tr>\n",
       "                      <tr><td style=\"word-wrap: break-word\">(t)op</td> </tr>\n",
       "                  </table></td> </tr>\n",
       "    </table>\n",
       "</body>\n",
       "\n",
       "</html>"
      ],
      "text/plain": [
       "<IPython.core.display.HTML object>"
      ]
     },
     "metadata": {},
     "output_type": "display_data"
    },
    {
     "data": {
      "text/html": [
       "\n",
       "<!DOCTYPE html PUBLIC \"-//W3C//DTD XHTML 1.0 Transitional//EN\"\n",
       "          \"http://www.w3.org/TR/xhtml1/DTD/xhtml1-transitional.dtd\">\n",
       "\n",
       "<html>\n",
       "\n",
       "<head>\n",
       "    <meta http-equiv=\"Content-Type\"\n",
       "          content=\"text/html; charset=utf-8\" />\n",
       "    <title></title>\n",
       "    <style type=\"text/css\">\n",
       "        table.diff {font-family:Courier; border:medium;}\n",
       "        .diff_header {background-color:#e0e0e0}\n",
       "        td.diff_header {text-align:right; width:1%}\n",
       "        .diff_next {background-color:#c0c0c0; width:1%}\n",
       "        .diff_add {background-color:#aaffaa}\n",
       "        .diff_chg {background-color:#ffff77}\n",
       "        .diff_sub {background-color:#ffaaaa}\n",
       "    </style>\n",
       "</head>\n",
       "\n",
       "<body><hr /><br /><br /> <p>Comments: ['NOAA-NMFS-2022-0119-1026']</p>\n",
       "    \n",
       "    <table style=\"table-layout: fixed; width: 100%\" class=\"diff\" id=\"difflib_chg_to2__top\"\n",
       "           cellspacing=\"0\" cellpadding=\"0\" rules=\"groups\" >\n",
       "        <colgroup></colgroup> <colgroup></colgroup> <colgroup></colgroup>\n",
       "        <colgroup></colgroup> <colgroup></colgroup> <colgroup></colgroup>\n",
       "        \n",
       "        <tbody>\n",
       "            <tr><td style=\"word-wrap: break-word\" class=\"diff_next\" id=\"difflib_chg_to2__0\"><a href=\"#difflib_chg_to2__0\">f</a></td><td style=\"word-wrap: break-word\" class=\"diff_header\" id=\"from2_1\">1</td><td style=\"word-wrap: break-word\" >Dear&nbsp;NOAA&nbsp;Administrator&nbsp;Spinrad&nbsp;and&nbsp;NOAA&nbsp;Fisheries&nbsp;Assistant&nbsp;Administrator&nbsp;Coit:</td><td style=\"word-wrap: break-word\" class=\"diff_next\"><a href=\"#difflib_chg_to2__0\">f</a></td><td style=\"word-wrap: break-word\" class=\"diff_header\" id=\"to2_1\">1</td><td style=\"word-wrap: break-word\" >Dear&nbsp;NOAA&nbsp;Administrator&nbsp;Spinrad&nbsp;and&nbsp;NOAA&nbsp;Fisheries&nbsp;Assistant&nbsp;Administrator&nbsp;Coit:</td></tr>\n",
       "            <tr><td style=\"word-wrap: break-word\" class=\"diff_next\"></td><td style=\"word-wrap: break-word\" class=\"diff_header\" id=\"from2_2\">2</td><td style=\"word-wrap: break-word\" ></td><td style=\"word-wrap: break-word\" class=\"diff_next\"></td><td style=\"word-wrap: break-word\" class=\"diff_header\" id=\"to2_2\">2</td><td style=\"word-wrap: break-word\" ></td></tr>\n",
       "            <tr><td style=\"word-wrap: break-word\" class=\"diff_next\"><a href=\"#difflib_chg_to2__top\">t</a></td><td style=\"word-wrap: break-word\" class=\"diff_header\" id=\"from2_3\">3</td><td style=\"word-wrap: break-word\" ><span class=\"diff_sub\">The&nbsp;United&nbsp;States&nbsp;needs&nbsp;an&nbsp;effective&nbsp;seafood&nbsp;traceability&nbsp;program&nbsp;to&nbsp;intercept&nbsp;the&nbsp;flow&nbsp;of&nbsp;illegal&nbsp;seafood&nbsp;into&nbsp;our&nbsp;markets.&nbsp;Illegal&nbsp;fishing&nbsp;is&nbsp;a&nbsp;top&nbsp;driver&nbsp;of&nbsp;unsustainable&nbsp;and&nbsp;environmentally&nbsp;harmful&nbsp;fishing&nbsp;practices&nbsp;around&nbsp;the&nbsp;globe,&nbsp;as&nbsp;well&nbsp;as&nbsp;associated&nbsp;human&nbsp;rights&nbsp;abuses&nbsp;in&nbsp;the&nbsp;seafood&nbsp;sector.&nbsp;The&nbsp;newly&nbsp;proposed&nbsp;changes&nbsp;to&nbsp;the&nbsp;Seafood&nbsp;Import&nbsp;Monitoring&nbsp;Program&nbsp;do&nbsp;not&nbsp;go&nbsp;far&nbsp;enough&nbsp;to&nbsp;help&nbsp;end&nbsp;the&nbsp;U.S.'s&nbsp;role&nbsp;in&nbsp;perpetuating&nbsp;human&nbsp;rights&nbsp;abuses&nbsp;and&nbsp;environmental&nbsp;destruction&nbsp;in&nbsp;the&nbsp;seafood&nbsp;industry.&nbsp;</span></td><td style=\"word-wrap: break-word\" class=\"diff_next\"><a href=\"#difflib_chg_to2__top\">t</a></td><td style=\"word-wrap: break-word\" class=\"diff_header\" id=\"to2_3\">3</td><td style=\"word-wrap: break-word\" ><span class=\"diff_add\">As&nbsp;someone&nbsp;who&nbsp;consumes&nbsp;a&nbsp;lot&nbsp;of&nbsp;seafood&nbsp;and&nbsp;tries&nbsp;to&nbsp;do&nbsp;so&nbsp;in&nbsp;an&nbsp;ethical&nbsp;manner,&nbsp;I&nbsp;am&nbsp;asking&nbsp;NOAA&nbsp;to&nbsp;develop&nbsp;and&nbsp;implement&nbsp;a&nbsp;strong&nbsp;and&nbsp;effective&nbsp;seafood&nbsp;traceability&nbsp;program&nbsp;to&nbsp;intercept&nbsp;the&nbsp;flow&nbsp;of&nbsp;illegal&nbsp;seafood&nbsp;into&nbsp;our&nbsp;markets.&nbsp;Illegal&nbsp;fishing&nbsp;is&nbsp;a&nbsp;top&nbsp;driver&nbsp;of&nbsp;unsustainable&nbsp;and&nbsp;environmentally&nbsp;harmful&nbsp;fishing&nbsp;practices&nbsp;around&nbsp;the&nbsp;globe,&nbsp;as&nbsp;well&nbsp;as&nbsp;associated&nbsp;human&nbsp;rights&nbsp;abuses&nbsp;in&nbsp;the&nbsp;seafood&nbsp;sector.&nbsp;The&nbsp;newly&nbsp;proposed&nbsp;changes&nbsp;to&nbsp;the&nbsp;Seafood&nbsp;Import&nbsp;Monitoring&nbsp;Program&nbsp;do&nbsp;not&nbsp;go&nbsp;far&nbsp;enough&nbsp;to&nbsp;help&nbsp;end&nbsp;the&nbsp;U.S.'s&nbsp;role&nbsp;in&nbsp;perpetuating&nbsp;human&nbsp;rights&nbsp;abuses&nbsp;and&nbsp;environmental&nbsp;destruction&nbsp;in&nbsp;the&nbsp;seafood&nbsp;industry.&nbsp;&nbsp;We&nbsp;must&nbsp;do&nbsp;better.&nbsp;&nbsp;</span></td></tr>\n",
       "            <tr><td style=\"word-wrap: break-word\" class=\"diff_next\"></td><td style=\"word-wrap: break-word\" class=\"diff_header\" id=\"from2_4\">4</td><td style=\"word-wrap: break-word\" ></td><td style=\"word-wrap: break-word\" class=\"diff_next\"></td><td style=\"word-wrap: break-word\" class=\"diff_header\" id=\"to2_4\">4</td><td style=\"word-wrap: break-word\" ></td></tr>\n",
       "            <tr><td style=\"word-wrap: break-word\" class=\"diff_next\"></td><td style=\"word-wrap: break-word\" class=\"diff_header\" id=\"from2_5\">5</td><td style=\"word-wrap: break-word\" >Illegal&nbsp;fishing&nbsp;is&nbsp;destroying&nbsp;our&nbsp;oceans.&nbsp;Years&nbsp;of&nbsp;overfishing&nbsp;in&nbsp;nearshore&nbsp;waters&nbsp;have&nbsp;forced&nbsp;boats&nbsp;to&nbsp;go&nbsp;into&nbsp;deeper&nbsp;waters,&nbsp;which&nbsp;makes&nbsp;fishing&nbsp;more&nbsp;expensive.&nbsp;Some&nbsp;fishers&nbsp;will&nbsp;cut&nbsp;costs&nbsp;by&nbsp;fishing&nbsp;with&nbsp;illegal&nbsp;gear,&nbsp;fishing&nbsp;in&nbsp;protected&nbsp;areas,&nbsp;or&nbsp;ignoring&nbsp;catch&nbsp;limits.&nbsp;To&nbsp;save&nbsp;on&nbsp;labor&nbsp;costs,&nbsp;some&nbsp;vessel&nbsp;owners&nbsp;rely&nbsp;on&nbsp;human&nbsp;traffickers,&nbsp;some&nbsp;even&nbsp;kidnapping&nbsp;or&nbsp;drugging&nbsp;workers&nbsp;to&nbsp;get&nbsp;them&nbsp;on&nbsp;the&nbsp;ship&nbsp;and&nbsp;cut&nbsp;off&nbsp;from&nbsp;help.&nbsp;Further,&nbsp;the&nbsp;overseas&nbsp;seafood&nbsp;processing&nbsp;industry&nbsp;is&nbsp;heavily&nbsp;reliant&nbsp;on&nbsp;forced&nbsp;labor.&nbsp;&nbsp;</td><td style=\"word-wrap: break-word\" class=\"diff_next\"></td><td style=\"word-wrap: break-word\" class=\"diff_header\" id=\"to2_5\">5</td><td style=\"word-wrap: break-word\" >Illegal&nbsp;fishing&nbsp;is&nbsp;destroying&nbsp;our&nbsp;oceans.&nbsp;Years&nbsp;of&nbsp;overfishing&nbsp;in&nbsp;nearshore&nbsp;waters&nbsp;have&nbsp;forced&nbsp;boats&nbsp;to&nbsp;go&nbsp;into&nbsp;deeper&nbsp;waters,&nbsp;which&nbsp;makes&nbsp;fishing&nbsp;more&nbsp;expensive.&nbsp;Some&nbsp;fishers&nbsp;will&nbsp;cut&nbsp;costs&nbsp;by&nbsp;fishing&nbsp;with&nbsp;illegal&nbsp;gear,&nbsp;fishing&nbsp;in&nbsp;protected&nbsp;areas,&nbsp;or&nbsp;ignoring&nbsp;catch&nbsp;limits.&nbsp;To&nbsp;save&nbsp;on&nbsp;labor&nbsp;costs,&nbsp;some&nbsp;vessel&nbsp;owners&nbsp;rely&nbsp;on&nbsp;human&nbsp;traffickers,&nbsp;some&nbsp;even&nbsp;kidnapping&nbsp;or&nbsp;drugging&nbsp;workers&nbsp;to&nbsp;get&nbsp;them&nbsp;on&nbsp;the&nbsp;ship&nbsp;and&nbsp;cut&nbsp;off&nbsp;from&nbsp;help.&nbsp;Further,&nbsp;the&nbsp;overseas&nbsp;seafood&nbsp;processing&nbsp;industry&nbsp;is&nbsp;heavily&nbsp;reliant&nbsp;on&nbsp;forced&nbsp;labor.&nbsp;&nbsp;</td></tr>\n",
       "            <tr><td style=\"word-wrap: break-word\" class=\"diff_next\"></td><td style=\"word-wrap: break-word\" class=\"diff_header\" id=\"from2_6\">6</td><td style=\"word-wrap: break-word\" ></td><td style=\"word-wrap: break-word\" class=\"diff_next\"></td><td style=\"word-wrap: break-word\" class=\"diff_header\" id=\"to2_6\">6</td><td style=\"word-wrap: break-word\" ></td></tr>\n",
       "            <tr><td style=\"word-wrap: break-word\" class=\"diff_next\"></td><td style=\"word-wrap: break-word\" class=\"diff_header\" id=\"from2_7\">7</td><td style=\"word-wrap: break-word\" >The&nbsp;U.S.&nbsp;is&nbsp;one&nbsp;of&nbsp;the&nbsp;largest&nbsp;consumers&nbsp;of&nbsp;seafood.&nbsp;Approximately&nbsp;eighty&nbsp;percent&nbsp;of&nbsp;the&nbsp;seafood&nbsp;sold&nbsp;in&nbsp;the&nbsp;U.S.&nbsp;is&nbsp;imported,&nbsp;and&nbsp;as&nbsp;much&nbsp;as&nbsp;a&nbsp;third&nbsp;of&nbsp;the&nbsp;wild-caught&nbsp;seafood&nbsp;sold&nbsp;in&nbsp;the&nbsp;United&nbsp;States&nbsp;each&nbsp;year&nbsp;is&nbsp;illegal&nbsp;or&nbsp;unreported.&nbsp;&nbsp;</td><td style=\"word-wrap: break-word\" class=\"diff_next\"></td><td style=\"word-wrap: break-word\" class=\"diff_header\" id=\"to2_7\">7</td><td style=\"word-wrap: break-word\" >The&nbsp;U.S.&nbsp;is&nbsp;one&nbsp;of&nbsp;the&nbsp;largest&nbsp;consumers&nbsp;of&nbsp;seafood.&nbsp;Approximately&nbsp;eighty&nbsp;percent&nbsp;of&nbsp;the&nbsp;seafood&nbsp;sold&nbsp;in&nbsp;the&nbsp;U.S.&nbsp;is&nbsp;imported,&nbsp;and&nbsp;as&nbsp;much&nbsp;as&nbsp;a&nbsp;third&nbsp;of&nbsp;the&nbsp;wild-caught&nbsp;seafood&nbsp;sold&nbsp;in&nbsp;the&nbsp;United&nbsp;States&nbsp;each&nbsp;year&nbsp;is&nbsp;illegal&nbsp;or&nbsp;unreported.&nbsp;&nbsp;</td></tr>\n",
       "            <tr><td style=\"word-wrap: break-word\" class=\"diff_next\"></td><td style=\"word-wrap: break-word\" class=\"diff_header\" id=\"from2_8\">8</td><td style=\"word-wrap: break-word\" ></td><td style=\"word-wrap: break-word\" class=\"diff_next\"></td><td style=\"word-wrap: break-word\" class=\"diff_header\" id=\"to2_8\">8</td><td style=\"word-wrap: break-word\" ></td></tr>\n",
       "            <tr><td style=\"word-wrap: break-word\" class=\"diff_next\"></td><td style=\"word-wrap: break-word\" class=\"diff_header\" id=\"from2_9\">9</td><td style=\"word-wrap: break-word\" >The&nbsp;U.S.&nbsp;government&nbsp;has&nbsp;a&nbsp;responsibility&nbsp;to&nbsp;fix&nbsp;these&nbsp;problems,&nbsp;and&nbsp;seafood&nbsp;traceability&nbsp;is&nbsp;an&nbsp;essential&nbsp;step&nbsp;in&nbsp;the&nbsp;fight&nbsp;to&nbsp;end&nbsp;illegal&nbsp;fishing&nbsp;and&nbsp;human&nbsp;rights&nbsp;abuses&nbsp;in&nbsp;the&nbsp;seafood&nbsp;industry.&nbsp;But&nbsp;under&nbsp;NOAA&nbsp;Fisheries’&nbsp;proposed&nbsp;rule,&nbsp;traceability&nbsp;requirements&nbsp;would&nbsp;apply&nbsp;to&nbsp;only&nbsp;half&nbsp;of&nbsp;seafood&nbsp;imports,&nbsp;leaving&nbsp;massive&nbsp;loopholes&nbsp;that&nbsp;are&nbsp;easy&nbsp;for&nbsp;bad&nbsp;actors&nbsp;to&nbsp;exploit.&nbsp;The&nbsp;proposed&nbsp;rule&nbsp;also&nbsp;fails&nbsp;to&nbsp;sufficiently&nbsp;address&nbsp;labor&nbsp;abuses&nbsp;in&nbsp;seafood&nbsp;supply&nbsp;chains,&nbsp;and&nbsp;it&nbsp;includes&nbsp;no&nbsp;commitment&nbsp;to&nbsp;improve&nbsp;enforcement&nbsp;of&nbsp;traceability&nbsp;requirements.&nbsp;</td><td style=\"word-wrap: break-word\" class=\"diff_next\"></td><td style=\"word-wrap: break-word\" class=\"diff_header\" id=\"to2_9\">9</td><td style=\"word-wrap: break-word\" >The&nbsp;U.S.&nbsp;government&nbsp;has&nbsp;a&nbsp;responsibility&nbsp;to&nbsp;fix&nbsp;these&nbsp;problems,&nbsp;and&nbsp;seafood&nbsp;traceability&nbsp;is&nbsp;an&nbsp;essential&nbsp;step&nbsp;in&nbsp;the&nbsp;fight&nbsp;to&nbsp;end&nbsp;illegal&nbsp;fishing&nbsp;and&nbsp;human&nbsp;rights&nbsp;abuses&nbsp;in&nbsp;the&nbsp;seafood&nbsp;industry.&nbsp;But&nbsp;under&nbsp;NOAA&nbsp;Fisheries’&nbsp;proposed&nbsp;rule,&nbsp;traceability&nbsp;requirements&nbsp;would&nbsp;apply&nbsp;to&nbsp;only&nbsp;half&nbsp;of&nbsp;seafood&nbsp;imports,&nbsp;leaving&nbsp;massive&nbsp;loopholes&nbsp;that&nbsp;are&nbsp;easy&nbsp;for&nbsp;bad&nbsp;actors&nbsp;to&nbsp;exploit.&nbsp;The&nbsp;proposed&nbsp;rule&nbsp;also&nbsp;fails&nbsp;to&nbsp;sufficiently&nbsp;address&nbsp;labor&nbsp;abuses&nbsp;in&nbsp;seafood&nbsp;supply&nbsp;chains,&nbsp;and&nbsp;it&nbsp;includes&nbsp;no&nbsp;commitment&nbsp;to&nbsp;improve&nbsp;enforcement&nbsp;of&nbsp;traceability&nbsp;requirements.&nbsp;</td></tr>\n",
       "            <tr><td style=\"word-wrap: break-word\" class=\"diff_next\"></td><td style=\"word-wrap: break-word\" class=\"diff_header\" id=\"from2_10\">10</td><td style=\"word-wrap: break-word\" ></td><td style=\"word-wrap: break-word\" class=\"diff_next\"></td><td style=\"word-wrap: break-word\" class=\"diff_header\" id=\"to2_10\">10</td><td style=\"word-wrap: break-word\" ></td></tr>\n",
       "            <tr><td style=\"word-wrap: break-word\" class=\"diff_next\"></td><td style=\"word-wrap: break-word\" class=\"diff_header\" id=\"from2_11\">11</td><td style=\"word-wrap: break-word\" >Please&nbsp;revise&nbsp;the&nbsp;Seafood&nbsp;Import&nbsp;Monitoring&nbsp;Program&nbsp;proposed&nbsp;rule&nbsp;to&nbsp;adopt&nbsp;the&nbsp;strongest&nbsp;possible&nbsp;standards&nbsp;for&nbsp;seafood&nbsp;traceability&nbsp;to&nbsp;intercept&nbsp;the&nbsp;flow&nbsp;of&nbsp;illegal&nbsp;seafood&nbsp;into&nbsp;the&nbsp;U.S.&nbsp;and&nbsp;help&nbsp;consumers&nbsp;feel&nbsp;confident&nbsp;the&nbsp;seafood&nbsp;they&nbsp;buy&nbsp;is&nbsp;legally&nbsp;caught&nbsp;and&nbsp;not&nbsp;a&nbsp;product&nbsp;of&nbsp;labor&nbsp;abuses.&nbsp;Thank&nbsp;you&nbsp;for&nbsp;helping&nbsp;to&nbsp;address&nbsp;these&nbsp;environmental&nbsp;and&nbsp;human&nbsp;rights&nbsp;crimes&nbsp;with&nbsp;the&nbsp;seriousness&nbsp;they&nbsp;deserve.</td><td style=\"word-wrap: break-word\" class=\"diff_next\"></td><td style=\"word-wrap: break-word\" class=\"diff_header\" id=\"to2_11\">11</td><td style=\"word-wrap: break-word\" >Please&nbsp;revise&nbsp;the&nbsp;Seafood&nbsp;Import&nbsp;Monitoring&nbsp;Program&nbsp;proposed&nbsp;rule&nbsp;to&nbsp;adopt&nbsp;the&nbsp;strongest&nbsp;possible&nbsp;standards&nbsp;for&nbsp;seafood&nbsp;traceability&nbsp;to&nbsp;intercept&nbsp;the&nbsp;flow&nbsp;of&nbsp;illegal&nbsp;seafood&nbsp;into&nbsp;the&nbsp;U.S.&nbsp;and&nbsp;help&nbsp;consumers&nbsp;feel&nbsp;confident&nbsp;the&nbsp;seafood&nbsp;they&nbsp;buy&nbsp;is&nbsp;legally&nbsp;caught&nbsp;and&nbsp;not&nbsp;a&nbsp;product&nbsp;of&nbsp;labor&nbsp;abuses.&nbsp;Thank&nbsp;you&nbsp;for&nbsp;helping&nbsp;to&nbsp;address&nbsp;these&nbsp;environmental&nbsp;and&nbsp;human&nbsp;rights&nbsp;crimes&nbsp;with&nbsp;the&nbsp;seriousness&nbsp;they&nbsp;deserve.</td></tr>\n",
       "        </tbody>\n",
       "    </table>\n",
       "    <table style=\"table-layout: fixed; width: 100%\" class=\"diff\" summary=\"Legends\">\n",
       "        <tr> <th colspan=\"2\"> Legends </th> </tr>\n",
       "        <tr> <td style=\"word-wrap: break-word\"> <table style=\"table-layout: fixed; width: 100%\" border=\"\" summary=\"Colors\">\n",
       "                      <tr><th> Colors </th> </tr>\n",
       "                      <tr><td style=\"word-wrap: break-word\" class=\"diff_add\">&nbsp;Added&nbsp;</td></tr>\n",
       "                      <tr><td style=\"word-wrap: break-word\" class=\"diff_chg\">Changed</td> </tr>\n",
       "                      <tr><td style=\"word-wrap: break-word\" class=\"diff_sub\">Deleted</td> </tr>\n",
       "                  </table></td>\n",
       "             <td style=\"word-wrap: break-word\"> <table style=\"table-layout: fixed; width: 100%\" border=\"\" summary=\"Links\">\n",
       "                      <tr><th colspan=\"2\"> Links </th> </tr>\n",
       "                      <tr><td style=\"word-wrap: break-word\">(f)irst change</td> </tr>\n",
       "                      <tr><td style=\"word-wrap: break-word\">(n)ext change</td> </tr>\n",
       "                      <tr><td style=\"word-wrap: break-word\">(t)op</td> </tr>\n",
       "                  </table></td> </tr>\n",
       "    </table>\n",
       "</body>\n",
       "\n",
       "</html>"
      ],
      "text/plain": [
       "<IPython.core.display.HTML object>"
      ]
     },
     "metadata": {},
     "output_type": "display_data"
    },
    {
     "data": {
      "text/html": [
       "\n",
       "<!DOCTYPE html PUBLIC \"-//W3C//DTD XHTML 1.0 Transitional//EN\"\n",
       "          \"http://www.w3.org/TR/xhtml1/DTD/xhtml1-transitional.dtd\">\n",
       "\n",
       "<html>\n",
       "\n",
       "<head>\n",
       "    <meta http-equiv=\"Content-Type\"\n",
       "          content=\"text/html; charset=utf-8\" />\n",
       "    <title></title>\n",
       "    <style type=\"text/css\">\n",
       "        table.diff {font-family:Courier; border:medium;}\n",
       "        .diff_header {background-color:#e0e0e0}\n",
       "        td.diff_header {text-align:right; width:1%}\n",
       "        .diff_next {background-color:#c0c0c0; width:1%}\n",
       "        .diff_add {background-color:#aaffaa}\n",
       "        .diff_chg {background-color:#ffff77}\n",
       "        .diff_sub {background-color:#ffaaaa}\n",
       "    </style>\n",
       "</head>\n",
       "\n",
       "<body><hr /><br /><br /> <p>Comments: ['NOAA-NMFS-2022-0119-2100']</p>\n",
       "    \n",
       "    <table style=\"table-layout: fixed; width: 100%\" class=\"diff\" id=\"difflib_chg_to3__top\"\n",
       "           cellspacing=\"0\" cellpadding=\"0\" rules=\"groups\" >\n",
       "        <colgroup></colgroup> <colgroup></colgroup> <colgroup></colgroup>\n",
       "        <colgroup></colgroup> <colgroup></colgroup> <colgroup></colgroup>\n",
       "        \n",
       "        <tbody>\n",
       "            <tr><td style=\"word-wrap: break-word\" class=\"diff_next\" id=\"difflib_chg_to3__1\"><a href=\"#difflib_chg_to3__0\">f</a></td><td style=\"word-wrap: break-word\" class=\"diff_header\" id=\"from3_1\">1</td><td style=\"word-wrap: break-word\" >Dear&nbsp;NOAA&nbsp;Administrator&nbsp;Spinrad&nbsp;and&nbsp;NOAA&nbsp;Fisheries&nbsp;Assistant&nbsp;Administrator&nbsp;Coit:</td><td style=\"word-wrap: break-word\" class=\"diff_next\"><a href=\"#difflib_chg_to3__0\">f</a></td><td style=\"word-wrap: break-word\" class=\"diff_header\" id=\"to3_1\">1</td><td style=\"word-wrap: break-word\" >Dear&nbsp;NOAA&nbsp;Administrator&nbsp;Spinrad&nbsp;and&nbsp;NOAA&nbsp;Fisheries&nbsp;Assistant&nbsp;Administrator&nbsp;Coit:</td></tr>\n",
       "            <tr><td style=\"word-wrap: break-word\" class=\"diff_next\" id=\"difflib_chg_to3__2\"></td><td style=\"word-wrap: break-word\" class=\"diff_header\" id=\"from3_2\">2</td><td style=\"word-wrap: break-word\" ></td><td style=\"word-wrap: break-word\" class=\"diff_next\"></td><td style=\"word-wrap: break-word\" class=\"diff_header\" id=\"to3_2\">2</td><td style=\"word-wrap: break-word\" ></td></tr>\n",
       "            <tr><td style=\"word-wrap: break-word\" class=\"diff_next\"><a href=\"#difflib_chg_to3__1\">n</a></td><td style=\"word-wrap: break-word\" class=\"diff_header\" id=\"from3_3\">3</td><td style=\"word-wrap: break-word\" ><span class=\"diff_sub\">The&nbsp;United&nbsp;States&nbsp;needs&nbsp;an&nbsp;effective&nbsp;seafood&nbsp;traceability&nbsp;program&nbsp;to&nbsp;intercept&nbsp;the&nbsp;flow&nbsp;of&nbsp;illegal&nbsp;seafood&nbsp;into&nbsp;our&nbsp;markets.&nbsp;Illegal&nbsp;fishing&nbsp;is&nbsp;a&nbsp;top&nbsp;driver&nbsp;of&nbsp;unsustainable&nbsp;and&nbsp;environmentally&nbsp;harmful&nbsp;fishing&nbsp;practices&nbsp;around&nbsp;the&nbsp;globe,&nbsp;as&nbsp;well&nbsp;as&nbsp;associated&nbsp;human&nbsp;rights&nbsp;abuses&nbsp;in&nbsp;the&nbsp;seafood&nbsp;sector.&nbsp;The&nbsp;newly&nbsp;proposed&nbsp;changes&nbsp;to&nbsp;the&nbsp;Seafood&nbsp;Import&nbsp;Monitoring&nbsp;Program&nbsp;do&nbsp;not&nbsp;go&nbsp;far&nbsp;enough&nbsp;to&nbsp;help&nbsp;end&nbsp;the&nbsp;U.S.'s&nbsp;role&nbsp;in&nbsp;perpetuating&nbsp;human&nbsp;rights&nbsp;abuses&nbsp;and&nbsp;environmental&nbsp;destruction&nbsp;in&nbsp;the&nbsp;seafood&nbsp;industry.&nbsp;</span></td><td style=\"word-wrap: break-word\" class=\"diff_next\"><a href=\"#difflib_chg_to3__1\">n</a></td><td style=\"word-wrap: break-word\" class=\"diff_header\" id=\"to3_3\">3</td><td style=\"word-wrap: break-word\" ><span class=\"diff_add\">Eighty&nbsp;percent&nbsp;of&nbsp;the&nbsp;seafood&nbsp;sold&nbsp;in&nbsp;the&nbsp;United&nbsp;States&nbsp;is&nbsp;imported,&nbsp;making&nbsp;it&nbsp;one&nbsp;of&nbsp;the&nbsp;world’s&nbsp;most&nbsp;influential&nbsp;seafood&nbsp;markets.&nbsp;Nearly&nbsp;a&nbsp;third&nbsp;of&nbsp;the&nbsp;wild-caught&nbsp;seafood&nbsp;sold&nbsp;in&nbsp;the&nbsp;U.S.&nbsp;each&nbsp;year&nbsp;was&nbsp;caught&nbsp;through&nbsp;illegal&nbsp;or&nbsp;unreported&nbsp;practices.</span></td></tr>\n",
       "            <tr><td style=\"word-wrap: break-word\" class=\"diff_next\" id=\"difflib_chg_to3__3\"></td><td style=\"word-wrap: break-word\" class=\"diff_header\" id=\"from3_4\">4</td><td style=\"word-wrap: break-word\" ></td><td style=\"word-wrap: break-word\" class=\"diff_next\"></td><td style=\"word-wrap: break-word\" class=\"diff_header\" id=\"to3_4\">4</td><td style=\"word-wrap: break-word\" ></td></tr>\n",
       "            <tr><td style=\"word-wrap: break-word\" class=\"diff_next\"><a href=\"#difflib_chg_to3__2\">n</a></td><td style=\"word-wrap: break-word\" class=\"diff_header\" id=\"from3_5\">5</td><td style=\"word-wrap: break-word\" ><span class=\"diff_sub\">Illegal&nbsp;fishing&nbsp;is&nbsp;destroying&nbsp;our&nbsp;oceans.&nbsp;Years&nbsp;of&nbsp;overfishing&nbsp;in&nbsp;nearshore&nbsp;waters&nbsp;have&nbsp;forced&nbsp;boats&nbsp;to&nbsp;go&nbsp;into&nbsp;deeper&nbsp;waters,&nbsp;which&nbsp;makes&nbsp;fishing&nbsp;more&nbsp;expensive.&nbsp;Some&nbsp;fishers&nbsp;will&nbsp;cut&nbsp;costs&nbsp;by&nbsp;fishing&nbsp;with&nbsp;illegal&nbsp;gear,&nbsp;fishing&nbsp;in&nbsp;protected&nbsp;areas,&nbsp;or&nbsp;ignoring&nbsp;catch&nbsp;limits.&nbsp;To&nbsp;save&nbsp;on&nbsp;labor&nbsp;costs,&nbsp;some&nbsp;vessel&nbsp;owners&nbsp;rely&nbsp;on&nbsp;human&nbsp;traffickers,&nbsp;some&nbsp;even&nbsp;kidnapping&nbsp;or&nbsp;drugging&nbsp;workers&nbsp;to&nbsp;get&nbsp;them&nbsp;on&nbsp;the&nbsp;ship&nbsp;and&nbsp;cut&nbsp;off&nbsp;from&nbsp;help.&nbsp;Further,&nbsp;the&nbsp;overseas&nbsp;seafood&nbsp;processing&nbsp;industry&nbsp;is&nbsp;heavily&nbsp;reliant&nbsp;on&nbsp;forced&nbsp;labor.&nbsp;&nbsp;</span></td><td style=\"word-wrap: break-word\" class=\"diff_next\"><a href=\"#difflib_chg_to3__2\">n</a></td><td style=\"word-wrap: break-word\" class=\"diff_header\" id=\"to3_5\">5</td><td style=\"word-wrap: break-word\" ><span class=\"diff_add\">Not&nbsp;only&nbsp;does&nbsp;illegal&nbsp;fishing&nbsp;destroy&nbsp;our&nbsp;oceans&nbsp;and&nbsp;deplete&nbsp;fisheries,&nbsp;but&nbsp;it&nbsp;often&nbsp;relies&nbsp;on&nbsp;forced&nbsp;labor&nbsp;and&nbsp;leads&nbsp;to&nbsp;rampant&nbsp;human&nbsp;rights&nbsp;abuses.&nbsp;Because&nbsp;most&nbsp;U.S.&nbsp;seafood&nbsp;is&nbsp;untraceable,&nbsp;U.S.&nbsp;consumers&nbsp;are&nbsp;unwittingly&nbsp;buying&nbsp;fish&nbsp;caught&nbsp;or&nbsp;processed&nbsp;through&nbsp;forced&nbsp;labor&nbsp;or&nbsp;human&nbsp;trafficking.</span></td></tr>\n",
       "            <tr><td style=\"word-wrap: break-word\" class=\"diff_next\" id=\"difflib_chg_to3__4\"></td><td style=\"word-wrap: break-word\" class=\"diff_header\" id=\"from3_6\">6</td><td style=\"word-wrap: break-word\" ></td><td style=\"word-wrap: break-word\" class=\"diff_next\"></td><td style=\"word-wrap: break-word\" class=\"diff_header\" id=\"to3_6\">6</td><td style=\"word-wrap: break-word\" ></td></tr>\n",
       "            <tr><td style=\"word-wrap: break-word\" class=\"diff_next\"><a href=\"#difflib_chg_to3__3\">n</a></td><td style=\"word-wrap: break-word\" class=\"diff_header\" id=\"from3_7\">7</td><td style=\"word-wrap: break-word\" ><span class=\"diff_sub\">The&nbsp;U.S.&nbsp;is&nbsp;one&nbsp;of&nbsp;the&nbsp;largest&nbsp;consumers&nbsp;of&nbsp;seafood.&nbsp;Approximately&nbsp;eighty&nbsp;percent&nbsp;of&nbsp;the&nbsp;seafood&nbsp;sold&nbsp;in&nbsp;the&nbsp;U.S.&nbsp;is&nbsp;imported,&nbsp;and&nbsp;as&nbsp;much&nbsp;as&nbsp;a&nbsp;third&nbsp;of&nbsp;the&nbsp;wild-caught&nbsp;seafood&nbsp;sold&nbsp;in&nbsp;the&nbsp;United&nbsp;States&nbsp;each&nbsp;year&nbsp;is&nbsp;illegal&nbsp;or&nbsp;unreported.&nbsp;&nbsp;</span></td><td style=\"word-wrap: break-word\" class=\"diff_next\"><a href=\"#difflib_chg_to3__3\">n</a></td><td style=\"word-wrap: break-word\" class=\"diff_header\" id=\"to3_7\">7</td><td style=\"word-wrap: break-word\" ><span class=\"diff_add\">The&nbsp;newly&nbsp;proposed&nbsp;changes&nbsp;to&nbsp;the&nbsp;Seafood&nbsp;Import&nbsp;Monitoring&nbsp;Program&nbsp;do&nbsp;not&nbsp;go&nbsp;far&nbsp;enough&nbsp;to&nbsp;stop&nbsp;the&nbsp;U.S.'s&nbsp;role&nbsp;in&nbsp;perpetuating&nbsp;human&nbsp;rights&nbsp;abuses&nbsp;and&nbsp;environmental&nbsp;destruction&nbsp;in&nbsp;the&nbsp;seafood&nbsp;industry.&nbsp;</span></td></tr>\n",
       "            <tr><td style=\"word-wrap: break-word\" class=\"diff_next\"></td><td style=\"word-wrap: break-word\" class=\"diff_header\" id=\"from3_8\">8</td><td style=\"word-wrap: break-word\" ></td><td style=\"word-wrap: break-word\" class=\"diff_next\"></td><td style=\"word-wrap: break-word\" class=\"diff_header\" id=\"to3_8\">8</td><td style=\"word-wrap: break-word\" ></td></tr>\n",
       "            <tr><td style=\"word-wrap: break-word\" class=\"diff_next\"><a href=\"#difflib_chg_to3__4\">n</a></td><td style=\"word-wrap: break-word\" class=\"diff_header\" id=\"from3_9\">9</td><td style=\"word-wrap: break-word\" ><span class=\"diff_sub\">The&nbsp;U.S.&nbsp;government&nbsp;has&nbsp;a&nbsp;responsibility&nbsp;to&nbsp;fix&nbsp;these&nbsp;problems,&nbsp;and&nbsp;seafood&nbsp;traceability&nbsp;is&nbsp;an&nbsp;essential&nbsp;step&nbsp;in&nbsp;the&nbsp;fight&nbsp;to&nbsp;end&nbsp;illegal&nbsp;fishing&nbsp;and&nbsp;human&nbsp;rights&nbsp;abuses&nbsp;in&nbsp;the&nbsp;seafood&nbsp;industry.&nbsp;But&nbsp;under&nbsp;NOAA&nbsp;Fisheries’&nbsp;proposed&nbsp;rule,&nbsp;traceability&nbsp;requirements&nbsp;would&nbsp;apply&nbsp;to&nbsp;only&nbsp;half&nbsp;of&nbsp;seafood&nbsp;imports,&nbsp;leaving&nbsp;massive&nbsp;loopholes&nbsp;that&nbsp;are&nbsp;easy&nbsp;for&nbsp;bad&nbsp;actors&nbsp;to&nbsp;exploit.&nbsp;The&nbsp;proposed&nbsp;rule&nbsp;also&nbsp;fails&nbsp;to&nbsp;sufficiently&nbsp;address&nbsp;labor&nbsp;abuses&nbsp;in&nbsp;seafood&nbsp;supply&nbsp;chains,&nbsp;and&nbsp;it&nbsp;includes&nbsp;no&nbsp;commitment&nbsp;to&nbsp;improve&nbsp;enforcement&nbsp;of&nbsp;traceability&nbsp;requirements.&nbsp;</span></td><td style=\"word-wrap: break-word\" class=\"diff_next\"><a href=\"#difflib_chg_to3__4\">n</a></td><td style=\"word-wrap: break-word\" class=\"diff_header\" id=\"to3_9\">9</td><td style=\"word-wrap: break-word\" ><span class=\"diff_add\">We&nbsp;need&nbsp;an&nbsp;effective&nbsp;seafood&nbsp;traceability&nbsp;program&nbsp;to&nbsp;intercept&nbsp;the&nbsp;flow&nbsp;of&nbsp;illegal&nbsp;seafood&nbsp;into&nbsp;our&nbsp;markets.&nbsp;</span></td></tr>\n",
       "            <tr><td style=\"word-wrap: break-word\" class=\"diff_next\"></td><td style=\"word-wrap: break-word\" class=\"diff_header\" id=\"from3_10\">10</td><td style=\"word-wrap: break-word\" ></td><td style=\"word-wrap: break-word\" class=\"diff_next\"></td><td style=\"word-wrap: break-word\" class=\"diff_header\" id=\"to3_10\">10</td><td style=\"word-wrap: break-word\" ></td></tr>\n",
       "            <tr><td style=\"word-wrap: break-word\" class=\"diff_next\"><a href=\"#difflib_chg_to3__top\">t</a></td><td style=\"word-wrap: break-word\" class=\"diff_header\" id=\"from3_11\">11</td><td style=\"word-wrap: break-word\" ><span class=\"diff_sub\">Please&nbsp;revise&nbsp;the&nbsp;Seafood&nbsp;Import&nbsp;Monitoring&nbsp;Program&nbsp;proposed&nbsp;rule&nbsp;to&nbsp;adopt&nbsp;the&nbsp;strongest&nbsp;possible&nbsp;standards&nbsp;for&nbsp;seafood&nbsp;traceability&nbsp;to&nbsp;intercept&nbsp;the&nbsp;flow&nbsp;of&nbsp;illegal&nbsp;seafood&nbsp;into&nbsp;the&nbsp;U.S.&nbsp;and&nbsp;help&nbsp;consumers&nbsp;feel&nbsp;confident&nbsp;the&nbsp;seafood&nbsp;they&nbsp;buy&nbsp;is&nbsp;legally&nbsp;caught&nbsp;and&nbsp;not&nbsp;a&nbsp;product&nbsp;of&nbsp;labor&nbsp;abuses.&nbsp;Thank&nbsp;you&nbsp;for&nbsp;helping&nbsp;to&nbsp;address&nbsp;these&nbsp;environmental&nbsp;and&nbsp;human&nbsp;rights&nbsp;crimes&nbsp;with&nbsp;the&nbsp;seriousness&nbsp;they&nbsp;deserve.</span></td><td style=\"word-wrap: break-word\" class=\"diff_next\"><a href=\"#difflib_chg_to3__top\">t</a></td><td style=\"word-wrap: break-word\" class=\"diff_header\" id=\"to3_11\">11</td><td style=\"word-wrap: break-word\" ><span class=\"diff_add\">Under&nbsp;NOAA&nbsp;Fisheries’&nbsp;proposed&nbsp;rule,&nbsp;traceability&nbsp;requirements&nbsp;would&nbsp;apply&nbsp;to&nbsp;only&nbsp;half&nbsp;of&nbsp;seafood&nbsp;imports,&nbsp;It&nbsp;leaves&nbsp;loopholes&nbsp;that&nbsp;are&nbsp;easy&nbsp;to&nbsp;exploit.&nbsp;It&nbsp;also&nbsp;does&nbsp;not&nbsp;sufficiently&nbsp;address&nbsp;labor&nbsp;abuses&nbsp;in&nbsp;seafood&nbsp;supply&nbsp;chains.&nbsp;</span></td></tr>\n",
       "            <tr><td style=\"word-wrap: break-word\" class=\"diff_next\"></td><td style=\"word-wrap: break-word\" class=\"diff_header\"></td><td style=\"word-wrap: break-word\" ></td><td style=\"word-wrap: break-word\" class=\"diff_next\"></td><td style=\"word-wrap: break-word\" class=\"diff_header\" id=\"to3_12\">12</td><td style=\"word-wrap: break-word\" ><span class=\"diff_add\">&nbsp;</span></td></tr>\n",
       "            <tr><td style=\"word-wrap: break-word\" class=\"diff_next\"></td><td style=\"word-wrap: break-word\" class=\"diff_header\"></td><td style=\"word-wrap: break-word\" ></td><td style=\"word-wrap: break-word\" class=\"diff_next\"></td><td style=\"word-wrap: break-word\" class=\"diff_header\" id=\"to3_13\">13</td><td style=\"word-wrap: break-word\" ><span class=\"diff_add\">Please&nbsp;strengthen&nbsp;the&nbsp;proposed&nbsp;rules.</span></td></tr>\n",
       "            <tr><td style=\"word-wrap: break-word\" class=\"diff_next\"></td><td style=\"word-wrap: break-word\" class=\"diff_header\"></td><td style=\"word-wrap: break-word\" ></td><td style=\"word-wrap: break-word\" class=\"diff_next\"></td><td style=\"word-wrap: break-word\" class=\"diff_header\" id=\"to3_14\">14</td><td style=\"word-wrap: break-word\" ><span class=\"diff_add\">&nbsp;</span></td></tr>\n",
       "            <tr><td style=\"word-wrap: break-word\" class=\"diff_next\"></td><td style=\"word-wrap: break-word\" class=\"diff_header\"></td><td style=\"word-wrap: break-word\" ></td><td style=\"word-wrap: break-word\" class=\"diff_next\"></td><td style=\"word-wrap: break-word\" class=\"diff_header\" id=\"to3_15\">15</td><td style=\"word-wrap: break-word\" ><span class=\"diff_add\">Thank&nbsp;you</span></td></tr>\n",
       "        </tbody>\n",
       "    </table>\n",
       "    <table style=\"table-layout: fixed; width: 100%\" class=\"diff\" summary=\"Legends\">\n",
       "        <tr> <th colspan=\"2\"> Legends </th> </tr>\n",
       "        <tr> <td style=\"word-wrap: break-word\"> <table style=\"table-layout: fixed; width: 100%\" border=\"\" summary=\"Colors\">\n",
       "                      <tr><th> Colors </th> </tr>\n",
       "                      <tr><td style=\"word-wrap: break-word\" class=\"diff_add\">&nbsp;Added&nbsp;</td></tr>\n",
       "                      <tr><td style=\"word-wrap: break-word\" class=\"diff_chg\">Changed</td> </tr>\n",
       "                      <tr><td style=\"word-wrap: break-word\" class=\"diff_sub\">Deleted</td> </tr>\n",
       "                  </table></td>\n",
       "             <td style=\"word-wrap: break-word\"> <table style=\"table-layout: fixed; width: 100%\" border=\"\" summary=\"Links\">\n",
       "                      <tr><th colspan=\"2\"> Links </th> </tr>\n",
       "                      <tr><td style=\"word-wrap: break-word\">(f)irst change</td> </tr>\n",
       "                      <tr><td style=\"word-wrap: break-word\">(n)ext change</td> </tr>\n",
       "                      <tr><td style=\"word-wrap: break-word\">(t)op</td> </tr>\n",
       "                  </table></td> </tr>\n",
       "    </table>\n",
       "</body>\n",
       "\n",
       "</html>"
      ],
      "text/plain": [
       "<IPython.core.display.HTML object>"
      ]
     },
     "metadata": {},
     "output_type": "display_data"
    },
    {
     "data": {
      "text/html": [
       "\n",
       "<!DOCTYPE html PUBLIC \"-//W3C//DTD XHTML 1.0 Transitional//EN\"\n",
       "          \"http://www.w3.org/TR/xhtml1/DTD/xhtml1-transitional.dtd\">\n",
       "\n",
       "<html>\n",
       "\n",
       "<head>\n",
       "    <meta http-equiv=\"Content-Type\"\n",
       "          content=\"text/html; charset=utf-8\" />\n",
       "    <title></title>\n",
       "    <style type=\"text/css\">\n",
       "        table.diff {font-family:Courier; border:medium;}\n",
       "        .diff_header {background-color:#e0e0e0}\n",
       "        td.diff_header {text-align:right; width:1%}\n",
       "        .diff_next {background-color:#c0c0c0; width:1%}\n",
       "        .diff_add {background-color:#aaffaa}\n",
       "        .diff_chg {background-color:#ffff77}\n",
       "        .diff_sub {background-color:#ffaaaa}\n",
       "    </style>\n",
       "</head>\n",
       "\n",
       "<body><hr /><br /><br /> <p>Comments: ['NOAA-NMFS-2022-0119-0970']</p>\n",
       "    \n",
       "    <table style=\"table-layout: fixed; width: 100%\" class=\"diff\" id=\"difflib_chg_to4__top\"\n",
       "           cellspacing=\"0\" cellpadding=\"0\" rules=\"groups\" >\n",
       "        <colgroup></colgroup> <colgroup></colgroup> <colgroup></colgroup>\n",
       "        <colgroup></colgroup> <colgroup></colgroup> <colgroup></colgroup>\n",
       "        \n",
       "        <tbody>\n",
       "            <tr><td style=\"word-wrap: break-word\" class=\"diff_next\" id=\"difflib_chg_to4__0\"><a href=\"#difflib_chg_to4__0\">f</a></td><td style=\"word-wrap: break-word\" class=\"diff_header\" id=\"from4_1\">1</td><td style=\"word-wrap: break-word\" >Dear&nbsp;NOAA&nbsp;Administrator&nbsp;Spinrad&nbsp;and&nbsp;NOAA&nbsp;Fisheries&nbsp;Assistant&nbsp;Administrator&nbsp;Coit:</td><td style=\"word-wrap: break-word\" class=\"diff_next\"><a href=\"#difflib_chg_to4__0\">f</a></td><td style=\"word-wrap: break-word\" class=\"diff_header\" id=\"to4_1\">1</td><td style=\"word-wrap: break-word\" >Dear&nbsp;NOAA&nbsp;Administrator&nbsp;Spinrad&nbsp;and&nbsp;NOAA&nbsp;Fisheries&nbsp;Assistant&nbsp;Administrator&nbsp;Coit:</td></tr>\n",
       "            <tr><td style=\"word-wrap: break-word\" class=\"diff_next\"><a href=\"#difflib_chg_to4__top\">t</a></td><td style=\"word-wrap: break-word\" class=\"diff_header\"></td><td style=\"word-wrap: break-word\" ></td><td style=\"word-wrap: break-word\" class=\"diff_next\"><a href=\"#difflib_chg_to4__top\">t</a></td><td style=\"word-wrap: break-word\" class=\"diff_header\" id=\"to4_2\">2</td><td style=\"word-wrap: break-word\" ><span class=\"diff_add\">&nbsp;</span></td></tr>\n",
       "            <tr><td style=\"word-wrap: break-word\" class=\"diff_next\"></td><td style=\"word-wrap: break-word\" class=\"diff_header\"></td><td style=\"word-wrap: break-word\" ></td><td style=\"word-wrap: break-word\" class=\"diff_next\"></td><td style=\"word-wrap: break-word\" class=\"diff_header\" id=\"to4_3\">3</td><td style=\"word-wrap: break-word\" ><span class=\"diff_add\">I&nbsp;concur&nbsp;with&nbsp;this&nbsp;message&nbsp;from&nbsp;NRDC&nbsp;and&nbsp;urge&nbsp;the&nbsp;NOAA&nbsp;to&nbsp;do&nbsp;what&nbsp;is&nbsp;necessary&nbsp;to&nbsp;curb&nbsp;illegal&nbsp;fishing&nbsp;and&nbsp;forced&nbsp;labor&nbsp;in&nbsp;the&nbsp;fishing&nbsp;industry.</span></td></tr>\n",
       "            <tr><td style=\"word-wrap: break-word\" class=\"diff_next\"></td><td style=\"word-wrap: break-word\" class=\"diff_header\" id=\"from4_2\">2</td><td style=\"word-wrap: break-word\" ></td><td style=\"word-wrap: break-word\" class=\"diff_next\"></td><td style=\"word-wrap: break-word\" class=\"diff_header\" id=\"to4_4\">4</td><td style=\"word-wrap: break-word\" ></td></tr>\n",
       "            <tr><td style=\"word-wrap: break-word\" class=\"diff_next\"></td><td style=\"word-wrap: break-word\" class=\"diff_header\" id=\"from4_3\">3</td><td style=\"word-wrap: break-word\" >The&nbsp;United&nbsp;States&nbsp;needs&nbsp;an&nbsp;effective&nbsp;seafood&nbsp;traceability&nbsp;program&nbsp;to&nbsp;intercept&nbsp;the&nbsp;flow&nbsp;of&nbsp;illegal&nbsp;seafood&nbsp;into&nbsp;our&nbsp;markets.&nbsp;Illegal&nbsp;fishing&nbsp;is&nbsp;a&nbsp;top&nbsp;driver&nbsp;of&nbsp;unsustainable&nbsp;and&nbsp;environmentally&nbsp;harmful&nbsp;fishing&nbsp;practices&nbsp;around&nbsp;the&nbsp;globe,&nbsp;as&nbsp;well&nbsp;as&nbsp;associated&nbsp;human&nbsp;rights&nbsp;abuses&nbsp;in&nbsp;the&nbsp;seafood&nbsp;sector.&nbsp;The&nbsp;newly&nbsp;proposed&nbsp;changes&nbsp;to&nbsp;the&nbsp;Seafood&nbsp;Import&nbsp;Monitoring&nbsp;Program&nbsp;do&nbsp;not&nbsp;go&nbsp;far&nbsp;enough&nbsp;to&nbsp;help&nbsp;end&nbsp;the&nbsp;U.S.'s&nbsp;role&nbsp;in&nbsp;perpetuating&nbsp;human&nbsp;rights&nbsp;abuses&nbsp;and&nbsp;environmental&nbsp;destruction&nbsp;in&nbsp;the&nbsp;seafood&nbsp;industry.&nbsp;</td><td style=\"word-wrap: break-word\" class=\"diff_next\"></td><td style=\"word-wrap: break-word\" class=\"diff_header\" id=\"to4_5\">5</td><td style=\"word-wrap: break-word\" >The&nbsp;United&nbsp;States&nbsp;needs&nbsp;an&nbsp;effective&nbsp;seafood&nbsp;traceability&nbsp;program&nbsp;to&nbsp;intercept&nbsp;the&nbsp;flow&nbsp;of&nbsp;illegal&nbsp;seafood&nbsp;into&nbsp;our&nbsp;markets.&nbsp;Illegal&nbsp;fishing&nbsp;is&nbsp;a&nbsp;top&nbsp;driver&nbsp;of&nbsp;unsustainable&nbsp;and&nbsp;environmentally&nbsp;harmful&nbsp;fishing&nbsp;practices&nbsp;around&nbsp;the&nbsp;globe,&nbsp;as&nbsp;well&nbsp;as&nbsp;associated&nbsp;human&nbsp;rights&nbsp;abuses&nbsp;in&nbsp;the&nbsp;seafood&nbsp;sector.&nbsp;The&nbsp;newly&nbsp;proposed&nbsp;changes&nbsp;to&nbsp;the&nbsp;Seafood&nbsp;Import&nbsp;Monitoring&nbsp;Program&nbsp;do&nbsp;not&nbsp;go&nbsp;far&nbsp;enough&nbsp;to&nbsp;help&nbsp;end&nbsp;the&nbsp;U.S.'s&nbsp;role&nbsp;in&nbsp;perpetuating&nbsp;human&nbsp;rights&nbsp;abuses&nbsp;and&nbsp;environmental&nbsp;destruction&nbsp;in&nbsp;the&nbsp;seafood&nbsp;industry.&nbsp;</td></tr>\n",
       "            <tr><td style=\"word-wrap: break-word\" class=\"diff_next\"></td><td style=\"word-wrap: break-word\" class=\"diff_header\" id=\"from4_4\">4</td><td style=\"word-wrap: break-word\" ></td><td style=\"word-wrap: break-word\" class=\"diff_next\"></td><td style=\"word-wrap: break-word\" class=\"diff_header\" id=\"to4_6\">6</td><td style=\"word-wrap: break-word\" ></td></tr>\n",
       "            <tr><td style=\"word-wrap: break-word\" class=\"diff_next\"></td><td style=\"word-wrap: break-word\" class=\"diff_header\" id=\"from4_5\">5</td><td style=\"word-wrap: break-word\" >Illegal&nbsp;fishing&nbsp;is&nbsp;destroying&nbsp;our&nbsp;oceans.&nbsp;Years&nbsp;of&nbsp;overfishing&nbsp;in&nbsp;nearshore&nbsp;waters&nbsp;have&nbsp;forced&nbsp;boats&nbsp;to&nbsp;go&nbsp;into&nbsp;deeper&nbsp;waters,&nbsp;which&nbsp;makes&nbsp;fishing&nbsp;more&nbsp;expensive.&nbsp;Some&nbsp;fishers&nbsp;will&nbsp;cut&nbsp;costs&nbsp;by&nbsp;fishing&nbsp;with&nbsp;illegal&nbsp;gear,&nbsp;fishing&nbsp;in&nbsp;protected&nbsp;areas,&nbsp;or&nbsp;ignoring&nbsp;catch&nbsp;limits.&nbsp;To&nbsp;save&nbsp;on&nbsp;labor&nbsp;costs,&nbsp;some&nbsp;vessel&nbsp;owners&nbsp;rely&nbsp;on&nbsp;human&nbsp;traffickers,&nbsp;some&nbsp;even&nbsp;kidnapping&nbsp;or&nbsp;drugging&nbsp;workers&nbsp;to&nbsp;get&nbsp;them&nbsp;on&nbsp;the&nbsp;ship&nbsp;and&nbsp;cut&nbsp;off&nbsp;from&nbsp;help.&nbsp;Further,&nbsp;the&nbsp;overseas&nbsp;seafood&nbsp;processing&nbsp;industry&nbsp;is&nbsp;heavily&nbsp;reliant&nbsp;on&nbsp;forced&nbsp;labor.&nbsp;&nbsp;</td><td style=\"word-wrap: break-word\" class=\"diff_next\"></td><td style=\"word-wrap: break-word\" class=\"diff_header\" id=\"to4_7\">7</td><td style=\"word-wrap: break-word\" >Illegal&nbsp;fishing&nbsp;is&nbsp;destroying&nbsp;our&nbsp;oceans.&nbsp;Years&nbsp;of&nbsp;overfishing&nbsp;in&nbsp;nearshore&nbsp;waters&nbsp;have&nbsp;forced&nbsp;boats&nbsp;to&nbsp;go&nbsp;into&nbsp;deeper&nbsp;waters,&nbsp;which&nbsp;makes&nbsp;fishing&nbsp;more&nbsp;expensive.&nbsp;Some&nbsp;fishers&nbsp;will&nbsp;cut&nbsp;costs&nbsp;by&nbsp;fishing&nbsp;with&nbsp;illegal&nbsp;gear,&nbsp;fishing&nbsp;in&nbsp;protected&nbsp;areas,&nbsp;or&nbsp;ignoring&nbsp;catch&nbsp;limits.&nbsp;To&nbsp;save&nbsp;on&nbsp;labor&nbsp;costs,&nbsp;some&nbsp;vessel&nbsp;owners&nbsp;rely&nbsp;on&nbsp;human&nbsp;traffickers,&nbsp;some&nbsp;even&nbsp;kidnapping&nbsp;or&nbsp;drugging&nbsp;workers&nbsp;to&nbsp;get&nbsp;them&nbsp;on&nbsp;the&nbsp;ship&nbsp;and&nbsp;cut&nbsp;off&nbsp;from&nbsp;help.&nbsp;Further,&nbsp;the&nbsp;overseas&nbsp;seafood&nbsp;processing&nbsp;industry&nbsp;is&nbsp;heavily&nbsp;reliant&nbsp;on&nbsp;forced&nbsp;labor.&nbsp;&nbsp;</td></tr>\n",
       "            <tr><td style=\"word-wrap: break-word\" class=\"diff_next\"></td><td style=\"word-wrap: break-word\" class=\"diff_header\" id=\"from4_6\">6</td><td style=\"word-wrap: break-word\" ></td><td style=\"word-wrap: break-word\" class=\"diff_next\"></td><td style=\"word-wrap: break-word\" class=\"diff_header\" id=\"to4_8\">8</td><td style=\"word-wrap: break-word\" ></td></tr>\n",
       "            <tr><td style=\"word-wrap: break-word\" class=\"diff_next\"></td><td style=\"word-wrap: break-word\" class=\"diff_header\" id=\"from4_7\">7</td><td style=\"word-wrap: break-word\" >The&nbsp;U.S.&nbsp;is&nbsp;one&nbsp;of&nbsp;the&nbsp;largest&nbsp;consumers&nbsp;of&nbsp;seafood.&nbsp;Approximately&nbsp;eighty&nbsp;percent&nbsp;of&nbsp;the&nbsp;seafood&nbsp;sold&nbsp;in&nbsp;the&nbsp;U.S.&nbsp;is&nbsp;imported,&nbsp;and&nbsp;as&nbsp;much&nbsp;as&nbsp;a&nbsp;third&nbsp;of&nbsp;the&nbsp;wild-caught&nbsp;seafood&nbsp;sold&nbsp;in&nbsp;the&nbsp;United&nbsp;States&nbsp;each&nbsp;year&nbsp;is&nbsp;illegal&nbsp;or&nbsp;unreported.&nbsp;&nbsp;</td><td style=\"word-wrap: break-word\" class=\"diff_next\"></td><td style=\"word-wrap: break-word\" class=\"diff_header\" id=\"to4_9\">9</td><td style=\"word-wrap: break-word\" >The&nbsp;U.S.&nbsp;is&nbsp;one&nbsp;of&nbsp;the&nbsp;largest&nbsp;consumers&nbsp;of&nbsp;seafood.&nbsp;Approximately&nbsp;eighty&nbsp;percent&nbsp;of&nbsp;the&nbsp;seafood&nbsp;sold&nbsp;in&nbsp;the&nbsp;U.S.&nbsp;is&nbsp;imported,&nbsp;and&nbsp;as&nbsp;much&nbsp;as&nbsp;a&nbsp;third&nbsp;of&nbsp;the&nbsp;wild-caught&nbsp;seafood&nbsp;sold&nbsp;in&nbsp;the&nbsp;United&nbsp;States&nbsp;each&nbsp;year&nbsp;is&nbsp;illegal&nbsp;or&nbsp;unreported.&nbsp;&nbsp;</td></tr>\n",
       "            <tr><td style=\"word-wrap: break-word\" class=\"diff_next\"></td><td style=\"word-wrap: break-word\" class=\"diff_header\" id=\"from4_8\">8</td><td style=\"word-wrap: break-word\" ></td><td style=\"word-wrap: break-word\" class=\"diff_next\"></td><td style=\"word-wrap: break-word\" class=\"diff_header\" id=\"to4_10\">10</td><td style=\"word-wrap: break-word\" ></td></tr>\n",
       "            <tr><td style=\"word-wrap: break-word\" class=\"diff_next\"></td><td style=\"word-wrap: break-word\" class=\"diff_header\" id=\"from4_9\">9</td><td style=\"word-wrap: break-word\" >The&nbsp;U.S.&nbsp;government&nbsp;has&nbsp;a&nbsp;responsibility&nbsp;to&nbsp;fix&nbsp;these&nbsp;problems,&nbsp;and&nbsp;seafood&nbsp;traceability&nbsp;is&nbsp;an&nbsp;essential&nbsp;step&nbsp;in&nbsp;the&nbsp;fight&nbsp;to&nbsp;end&nbsp;illegal&nbsp;fishing&nbsp;and&nbsp;human&nbsp;rights&nbsp;abuses&nbsp;in&nbsp;the&nbsp;seafood&nbsp;industry.&nbsp;But&nbsp;under&nbsp;NOAA&nbsp;Fisheries’&nbsp;proposed&nbsp;rule,&nbsp;traceability&nbsp;requirements&nbsp;would&nbsp;apply&nbsp;to&nbsp;only&nbsp;half&nbsp;of&nbsp;seafood&nbsp;imports,&nbsp;leaving&nbsp;massive&nbsp;loopholes&nbsp;that&nbsp;are&nbsp;easy&nbsp;for&nbsp;bad&nbsp;actors&nbsp;to&nbsp;exploit.&nbsp;The&nbsp;proposed&nbsp;rule&nbsp;also&nbsp;fails&nbsp;to&nbsp;sufficiently&nbsp;address&nbsp;labor&nbsp;abuses&nbsp;in&nbsp;seafood&nbsp;supply&nbsp;chains,&nbsp;and&nbsp;it&nbsp;includes&nbsp;no&nbsp;commitment&nbsp;to&nbsp;improve&nbsp;enforcement&nbsp;of&nbsp;traceability&nbsp;requirements.&nbsp;</td><td style=\"word-wrap: break-word\" class=\"diff_next\"></td><td style=\"word-wrap: break-word\" class=\"diff_header\" id=\"to4_11\">11</td><td style=\"word-wrap: break-word\" >The&nbsp;U.S.&nbsp;government&nbsp;has&nbsp;a&nbsp;responsibility&nbsp;to&nbsp;fix&nbsp;these&nbsp;problems,&nbsp;and&nbsp;seafood&nbsp;traceability&nbsp;is&nbsp;an&nbsp;essential&nbsp;step&nbsp;in&nbsp;the&nbsp;fight&nbsp;to&nbsp;end&nbsp;illegal&nbsp;fishing&nbsp;and&nbsp;human&nbsp;rights&nbsp;abuses&nbsp;in&nbsp;the&nbsp;seafood&nbsp;industry.&nbsp;But&nbsp;under&nbsp;NOAA&nbsp;Fisheries’&nbsp;proposed&nbsp;rule,&nbsp;traceability&nbsp;requirements&nbsp;would&nbsp;apply&nbsp;to&nbsp;only&nbsp;half&nbsp;of&nbsp;seafood&nbsp;imports,&nbsp;leaving&nbsp;massive&nbsp;loopholes&nbsp;that&nbsp;are&nbsp;easy&nbsp;for&nbsp;bad&nbsp;actors&nbsp;to&nbsp;exploit.&nbsp;The&nbsp;proposed&nbsp;rule&nbsp;also&nbsp;fails&nbsp;to&nbsp;sufficiently&nbsp;address&nbsp;labor&nbsp;abuses&nbsp;in&nbsp;seafood&nbsp;supply&nbsp;chains,&nbsp;and&nbsp;it&nbsp;includes&nbsp;no&nbsp;commitment&nbsp;to&nbsp;improve&nbsp;enforcement&nbsp;of&nbsp;traceability&nbsp;requirements.&nbsp;</td></tr>\n",
       "            <tr><td style=\"word-wrap: break-word\" class=\"diff_next\"></td><td style=\"word-wrap: break-word\" class=\"diff_header\" id=\"from4_10\">10</td><td style=\"word-wrap: break-word\" ></td><td style=\"word-wrap: break-word\" class=\"diff_next\"></td><td style=\"word-wrap: break-word\" class=\"diff_header\" id=\"to4_12\">12</td><td style=\"word-wrap: break-word\" ></td></tr>\n",
       "            <tr><td style=\"word-wrap: break-word\" class=\"diff_next\"></td><td style=\"word-wrap: break-word\" class=\"diff_header\" id=\"from4_11\">11</td><td style=\"word-wrap: break-word\" >Please&nbsp;revise&nbsp;the&nbsp;Seafood&nbsp;Import&nbsp;Monitoring&nbsp;Program&nbsp;proposed&nbsp;rule&nbsp;to&nbsp;adopt&nbsp;the&nbsp;strongest&nbsp;possible&nbsp;standards&nbsp;for&nbsp;seafood&nbsp;traceability&nbsp;to&nbsp;intercept&nbsp;the&nbsp;flow&nbsp;of&nbsp;illegal&nbsp;seafood&nbsp;into&nbsp;the&nbsp;U.S.&nbsp;and&nbsp;help&nbsp;consumers&nbsp;feel&nbsp;confident&nbsp;the&nbsp;seafood&nbsp;they&nbsp;buy&nbsp;is&nbsp;legally&nbsp;caught&nbsp;and&nbsp;not&nbsp;a&nbsp;product&nbsp;of&nbsp;labor&nbsp;abuses.&nbsp;Thank&nbsp;you&nbsp;for&nbsp;helping&nbsp;to&nbsp;address&nbsp;these&nbsp;environmental&nbsp;and&nbsp;human&nbsp;rights&nbsp;crimes&nbsp;with&nbsp;the&nbsp;seriousness&nbsp;they&nbsp;deserve.</td><td style=\"word-wrap: break-word\" class=\"diff_next\"></td><td style=\"word-wrap: break-word\" class=\"diff_header\" id=\"to4_13\">13</td><td style=\"word-wrap: break-word\" >Please&nbsp;revise&nbsp;the&nbsp;Seafood&nbsp;Import&nbsp;Monitoring&nbsp;Program&nbsp;proposed&nbsp;rule&nbsp;to&nbsp;adopt&nbsp;the&nbsp;strongest&nbsp;possible&nbsp;standards&nbsp;for&nbsp;seafood&nbsp;traceability&nbsp;to&nbsp;intercept&nbsp;the&nbsp;flow&nbsp;of&nbsp;illegal&nbsp;seafood&nbsp;into&nbsp;the&nbsp;U.S.&nbsp;and&nbsp;help&nbsp;consumers&nbsp;feel&nbsp;confident&nbsp;the&nbsp;seafood&nbsp;they&nbsp;buy&nbsp;is&nbsp;legally&nbsp;caught&nbsp;and&nbsp;not&nbsp;a&nbsp;product&nbsp;of&nbsp;labor&nbsp;abuses.&nbsp;Thank&nbsp;you&nbsp;for&nbsp;helping&nbsp;to&nbsp;address&nbsp;these&nbsp;environmental&nbsp;and&nbsp;human&nbsp;rights&nbsp;crimes&nbsp;with&nbsp;the&nbsp;seriousness&nbsp;they&nbsp;deserve.</td></tr>\n",
       "        </tbody>\n",
       "    </table>\n",
       "    <table style=\"table-layout: fixed; width: 100%\" class=\"diff\" summary=\"Legends\">\n",
       "        <tr> <th colspan=\"2\"> Legends </th> </tr>\n",
       "        <tr> <td style=\"word-wrap: break-word\"> <table style=\"table-layout: fixed; width: 100%\" border=\"\" summary=\"Colors\">\n",
       "                      <tr><th> Colors </th> </tr>\n",
       "                      <tr><td style=\"word-wrap: break-word\" class=\"diff_add\">&nbsp;Added&nbsp;</td></tr>\n",
       "                      <tr><td style=\"word-wrap: break-word\" class=\"diff_chg\">Changed</td> </tr>\n",
       "                      <tr><td style=\"word-wrap: break-word\" class=\"diff_sub\">Deleted</td> </tr>\n",
       "                  </table></td>\n",
       "             <td style=\"word-wrap: break-word\"> <table style=\"table-layout: fixed; width: 100%\" border=\"\" summary=\"Links\">\n",
       "                      <tr><th colspan=\"2\"> Links </th> </tr>\n",
       "                      <tr><td style=\"word-wrap: break-word\">(f)irst change</td> </tr>\n",
       "                      <tr><td style=\"word-wrap: break-word\">(n)ext change</td> </tr>\n",
       "                      <tr><td style=\"word-wrap: break-word\">(t)op</td> </tr>\n",
       "                  </table></td> </tr>\n",
       "    </table>\n",
       "</body>\n",
       "\n",
       "</html>"
      ],
      "text/plain": [
       "<IPython.core.display.HTML object>"
      ]
     },
     "metadata": {},
     "output_type": "display_data"
    },
    {
     "data": {
      "text/html": [
       "\n",
       "<!DOCTYPE html PUBLIC \"-//W3C//DTD XHTML 1.0 Transitional//EN\"\n",
       "          \"http://www.w3.org/TR/xhtml1/DTD/xhtml1-transitional.dtd\">\n",
       "\n",
       "<html>\n",
       "\n",
       "<head>\n",
       "    <meta http-equiv=\"Content-Type\"\n",
       "          content=\"text/html; charset=utf-8\" />\n",
       "    <title></title>\n",
       "    <style type=\"text/css\">\n",
       "        table.diff {font-family:Courier; border:medium;}\n",
       "        .diff_header {background-color:#e0e0e0}\n",
       "        td.diff_header {text-align:right; width:1%}\n",
       "        .diff_next {background-color:#c0c0c0; width:1%}\n",
       "        .diff_add {background-color:#aaffaa}\n",
       "        .diff_chg {background-color:#ffff77}\n",
       "        .diff_sub {background-color:#ffaaaa}\n",
       "    </style>\n",
       "</head>\n",
       "\n",
       "<body><hr /><br /><br /> <p>Comments: ['NOAA-NMFS-2022-0119-1524']</p>\n",
       "    \n",
       "    <table style=\"table-layout: fixed; width: 100%\" class=\"diff\" id=\"difflib_chg_to5__top\"\n",
       "           cellspacing=\"0\" cellpadding=\"0\" rules=\"groups\" >\n",
       "        <colgroup></colgroup> <colgroup></colgroup> <colgroup></colgroup>\n",
       "        <colgroup></colgroup> <colgroup></colgroup> <colgroup></colgroup>\n",
       "        \n",
       "        <tbody>\n",
       "            <tr><td style=\"word-wrap: break-word\" class=\"diff_next\" id=\"difflib_chg_to5__1\"><a href=\"#difflib_chg_to5__0\">f</a></td><td style=\"word-wrap: break-word\" class=\"diff_header\" id=\"from5_1\">1</td><td style=\"word-wrap: break-word\" >Dear&nbsp;NOAA&nbsp;Administrator&nbsp;Spinrad&nbsp;and&nbsp;NOAA&nbsp;Fisheries&nbsp;Assistant&nbsp;Administrator&nbsp;Coit:</td><td style=\"word-wrap: break-word\" class=\"diff_next\"><a href=\"#difflib_chg_to5__0\">f</a></td><td style=\"word-wrap: break-word\" class=\"diff_header\" id=\"to5_1\">1</td><td style=\"word-wrap: break-word\" >Dear&nbsp;NOAA&nbsp;Administrator&nbsp;Spinrad&nbsp;and&nbsp;NOAA&nbsp;Fisheries&nbsp;Assistant&nbsp;Administrator&nbsp;Coit:</td></tr>\n",
       "            <tr><td style=\"word-wrap: break-word\" class=\"diff_next\" id=\"difflib_chg_to5__2\"></td><td style=\"word-wrap: break-word\" class=\"diff_header\" id=\"from5_2\">2</td><td style=\"word-wrap: break-word\" ></td><td style=\"word-wrap: break-word\" class=\"diff_next\"></td><td style=\"word-wrap: break-word\" class=\"diff_header\" id=\"to5_2\">2</td><td style=\"word-wrap: break-word\" ></td></tr>\n",
       "            <tr><td style=\"word-wrap: break-word\" class=\"diff_next\"><a href=\"#difflib_chg_to5__1\">n</a></td><td style=\"word-wrap: break-word\" class=\"diff_header\" id=\"from5_3\">3</td><td style=\"word-wrap: break-word\" ><span class=\"diff_sub\">The&nbsp;United&nbsp;States&nbsp;needs&nbsp;an&nbsp;effective&nbsp;seafood&nbsp;traceability&nbsp;program&nbsp;to&nbsp;intercept&nbsp;the&nbsp;flow&nbsp;of&nbsp;illegal&nbsp;seafood&nbsp;into&nbsp;our&nbsp;markets.&nbsp;Illegal&nbsp;fishing&nbsp;is&nbsp;a&nbsp;top&nbsp;driver&nbsp;of&nbsp;unsustainable&nbsp;and&nbsp;environmentally&nbsp;harmful&nbsp;fishing&nbsp;practices&nbsp;around&nbsp;the&nbsp;globe,&nbsp;as&nbsp;well&nbsp;as&nbsp;associated&nbsp;human&nbsp;rights&nbsp;abuses&nbsp;in&nbsp;the&nbsp;seafood&nbsp;sector.&nbsp;The&nbsp;newly&nbsp;proposed&nbsp;changes&nbsp;to&nbsp;the&nbsp;Seafood&nbsp;Import&nbsp;Monitoring&nbsp;Program&nbsp;do&nbsp;not&nbsp;go&nbsp;far&nbsp;enough&nbsp;to&nbsp;help&nbsp;end&nbsp;the&nbsp;U.S.'s&nbsp;role&nbsp;in&nbsp;perpetuating&nbsp;human&nbsp;rights&nbsp;abuses&nbsp;and&nbsp;environmental&nbsp;destruction&nbsp;in&nbsp;the&nbsp;seafood&nbsp;industry.&nbsp;</span></td><td style=\"word-wrap: break-word\" class=\"diff_next\"><a href=\"#difflib_chg_to5__1\">n</a></td><td style=\"word-wrap: break-word\" class=\"diff_header\" id=\"to5_3\">3</td><td style=\"word-wrap: break-word\" ><span class=\"diff_add\">In&nbsp;the&nbsp;USA&nbsp;we&nbsp;desperately&nbsp;need&nbsp;an&nbsp;effective&nbsp;seafood&nbsp;traceability&nbsp;program&nbsp;to&nbsp;intercept&nbsp;the&nbsp;flow&nbsp;of&nbsp;illegal&nbsp;seafood&nbsp;into&nbsp;our&nbsp;markets.&nbsp;Illegal&nbsp;fishing&nbsp;is&nbsp;a&nbsp;top&nbsp;driver&nbsp;of&nbsp;unsustainable&nbsp;and&nbsp;environmentally&nbsp;harmful&nbsp;fishing&nbsp;practices&nbsp;around&nbsp;the&nbsp;globe,&nbsp;as&nbsp;well&nbsp;as&nbsp;associated&nbsp;human&nbsp;rights&nbsp;abuses&nbsp;in&nbsp;the&nbsp;seafood&nbsp;sector.&nbsp;The&nbsp;newly&nbsp;proposed&nbsp;changes&nbsp;to&nbsp;the&nbsp;Seafood&nbsp;Import&nbsp;Monitoring&nbsp;Program&nbsp;do&nbsp;not&nbsp;go&nbsp;far&nbsp;enough&nbsp;to&nbsp;help&nbsp;end&nbsp;the&nbsp;U.S.'s&nbsp;role&nbsp;in&nbsp;perpetuating&nbsp;human&nbsp;rights&nbsp;abuses&nbsp;and&nbsp;environmental&nbsp;destruction&nbsp;in&nbsp;the&nbsp;seafood&nbsp;industry.&nbsp;</span></td></tr>\n",
       "            <tr><td style=\"word-wrap: break-word\" class=\"diff_next\" id=\"difflib_chg_to5__3\"></td><td style=\"word-wrap: break-word\" class=\"diff_header\" id=\"from5_4\">4</td><td style=\"word-wrap: break-word\" ></td><td style=\"word-wrap: break-word\" class=\"diff_next\"></td><td style=\"word-wrap: break-word\" class=\"diff_header\" id=\"to5_4\">4</td><td style=\"word-wrap: break-word\" ></td></tr>\n",
       "            <tr><td style=\"word-wrap: break-word\" class=\"diff_next\"><a href=\"#difflib_chg_to5__2\">n</a></td><td style=\"word-wrap: break-word\" class=\"diff_header\" id=\"from5_5\">5</td><td style=\"word-wrap: break-word\" >Illegal&nbsp;fishing&nbsp;is&nbsp;de<span class=\"diff_chg\">stroying&nbsp;our</span>&nbsp;oceans.&nbsp;Years&nbsp;of&nbsp;overfishing&nbsp;in&nbsp;nearshore&nbsp;waters&nbsp;have&nbsp;forced&nbsp;boats&nbsp;to&nbsp;go&nbsp;into&nbsp;deeper&nbsp;waters,&nbsp;which&nbsp;makes&nbsp;fishing&nbsp;more&nbsp;expensive.&nbsp;Some&nbsp;fishers&nbsp;will&nbsp;cut&nbsp;costs&nbsp;by&nbsp;fishing&nbsp;with&nbsp;illegal&nbsp;gear,&nbsp;fishing&nbsp;in&nbsp;protected&nbsp;areas,&nbsp;or&nbsp;ignoring&nbsp;catch&nbsp;limits.&nbsp;To&nbsp;save&nbsp;on&nbsp;labor&nbsp;costs,&nbsp;some&nbsp;vessel&nbsp;owners&nbsp;rely&nbsp;on&nbsp;human&nbsp;traffickers,&nbsp;some&nbsp;even&nbsp;kidnapping&nbsp;or&nbsp;drugging&nbsp;workers&nbsp;to&nbsp;get&nbsp;them&nbsp;on&nbsp;the&nbsp;ship&nbsp;and&nbsp;cut&nbsp;off&nbsp;from&nbsp;help.&nbsp;Further,&nbsp;the&nbsp;overseas&nbsp;seafood&nbsp;processing&nbsp;industry&nbsp;is&nbsp;heavily&nbsp;reliant&nbsp;on&nbsp;forced&nbsp;labor.&nbsp;&nbsp;</td><td style=\"word-wrap: break-word\" class=\"diff_next\"><a href=\"#difflib_chg_to5__2\">n</a></td><td style=\"word-wrap: break-word\" class=\"diff_header\" id=\"to5_5\">5</td><td style=\"word-wrap: break-word\" >Illegal&nbsp;fishing&nbsp;is&nbsp;de<span class=\"diff_chg\">vastating&nbsp;our</span>&nbsp;oceans.&nbsp;Years&nbsp;of&nbsp;overfishing&nbsp;in&nbsp;nearshore&nbsp;waters&nbsp;have&nbsp;forced&nbsp;boats&nbsp;to&nbsp;go&nbsp;into&nbsp;deeper&nbsp;waters,&nbsp;which&nbsp;makes&nbsp;fishing&nbsp;more&nbsp;expensive.&nbsp;Some&nbsp;fishers&nbsp;will&nbsp;cut&nbsp;costs&nbsp;by&nbsp;fishing&nbsp;with&nbsp;illegal&nbsp;gear,&nbsp;fishing&nbsp;in&nbsp;protected&nbsp;areas,&nbsp;or&nbsp;ignoring&nbsp;catch&nbsp;limits.&nbsp;To&nbsp;save&nbsp;on&nbsp;labor&nbsp;costs,&nbsp;some&nbsp;vessel&nbsp;owners&nbsp;rely&nbsp;on&nbsp;human&nbsp;traffickers,&nbsp;some&nbsp;even&nbsp;kidnapping&nbsp;or&nbsp;drugging&nbsp;workers&nbsp;to&nbsp;get&nbsp;them&nbsp;on&nbsp;the&nbsp;ship&nbsp;and&nbsp;cut&nbsp;off&nbsp;from&nbsp;help.&nbsp;Further,&nbsp;the&nbsp;overseas&nbsp;seafood&nbsp;processing&nbsp;industry&nbsp;is&nbsp;heavily&nbsp;reliant&nbsp;on&nbsp;forced&nbsp;labor.&nbsp;&nbsp;</td></tr>\n",
       "            <tr><td style=\"word-wrap: break-word\" class=\"diff_next\" id=\"difflib_chg_to5__4\"></td><td style=\"word-wrap: break-word\" class=\"diff_header\" id=\"from5_6\">6</td><td style=\"word-wrap: break-word\" ></td><td style=\"word-wrap: break-word\" class=\"diff_next\"></td><td style=\"word-wrap: break-word\" class=\"diff_header\" id=\"to5_6\">6</td><td style=\"word-wrap: break-word\" ></td></tr>\n",
       "            <tr><td style=\"word-wrap: break-word\" class=\"diff_next\"><a href=\"#difflib_chg_to5__3\">n</a></td><td style=\"word-wrap: break-word\" class=\"diff_header\" id=\"from5_7\">7</td><td style=\"word-wrap: break-word\" ><span class=\"diff_sub\">The&nbsp;U.S.&nbsp;is&nbsp;one&nbsp;of&nbsp;the&nbsp;largest&nbsp;consumers&nbsp;of&nbsp;seafood.&nbsp;Approximately&nbsp;eighty&nbsp;percent&nbsp;of&nbsp;the&nbsp;seafood&nbsp;sold&nbsp;in&nbsp;the&nbsp;U.S.&nbsp;is&nbsp;imported,&nbsp;and&nbsp;as&nbsp;much&nbsp;as&nbsp;a&nbsp;third&nbsp;of&nbsp;the&nbsp;wild-caught&nbsp;seafood&nbsp;sold&nbsp;in&nbsp;the&nbsp;United&nbsp;States&nbsp;each&nbsp;year&nbsp;is&nbsp;illegal&nbsp;or&nbsp;unreported.&nbsp;&nbsp;</span></td><td style=\"word-wrap: break-word\" class=\"diff_next\"><a href=\"#difflib_chg_to5__3\">n</a></td><td style=\"word-wrap: break-word\" class=\"diff_header\" id=\"to5_7\">7</td><td style=\"word-wrap: break-word\" ><span class=\"diff_add\">The&nbsp;USA&nbsp;is&nbsp;one&nbsp;of&nbsp;the&nbsp;largest&nbsp;consumers&nbsp;of&nbsp;seafood.&nbsp;Approximately&nbsp;80%&nbsp;of&nbsp;the&nbsp;seafood&nbsp;sold&nbsp;in&nbsp;the&nbsp;here&nbsp;is&nbsp;imported,&nbsp;and&nbsp;as&nbsp;much&nbsp;as&nbsp;1/3&nbsp;of&nbsp;the&nbsp;wild-caught&nbsp;seafood&nbsp;sold&nbsp;here&nbsp;each&nbsp;year&nbsp;is&nbsp;illegal&nbsp;or&nbsp;unreported.&nbsp;&nbsp;</span></td></tr>\n",
       "            <tr><td style=\"word-wrap: break-word\" class=\"diff_next\"></td><td style=\"word-wrap: break-word\" class=\"diff_header\" id=\"from5_8\">8</td><td style=\"word-wrap: break-word\" ></td><td style=\"word-wrap: break-word\" class=\"diff_next\"></td><td style=\"word-wrap: break-word\" class=\"diff_header\" id=\"to5_8\">8</td><td style=\"word-wrap: break-word\" ></td></tr>\n",
       "            <tr><td style=\"word-wrap: break-word\" class=\"diff_next\"><a href=\"#difflib_chg_to5__4\">n</a></td><td style=\"word-wrap: break-word\" class=\"diff_header\" id=\"from5_9\">9</td><td style=\"word-wrap: break-word\" ><span class=\"diff_sub\">The&nbsp;U.S.&nbsp;government&nbsp;has&nbsp;a&nbsp;responsibility&nbsp;to&nbsp;fix&nbsp;these&nbsp;problems,&nbsp;and&nbsp;seafood&nbsp;traceability&nbsp;is&nbsp;an&nbsp;essential&nbsp;step&nbsp;in&nbsp;the&nbsp;fight&nbsp;to&nbsp;end&nbsp;illegal&nbsp;fishing&nbsp;and&nbsp;human&nbsp;rights&nbsp;abuses&nbsp;in&nbsp;the&nbsp;seafood&nbsp;industry.&nbsp;But&nbsp;under&nbsp;NOAA&nbsp;Fisheries’&nbsp;proposed&nbsp;rule,&nbsp;traceability&nbsp;requirements&nbsp;would&nbsp;apply&nbsp;to&nbsp;only&nbsp;half&nbsp;of&nbsp;seafood&nbsp;imports,&nbsp;leaving&nbsp;massive&nbsp;loopholes&nbsp;that&nbsp;are&nbsp;easy&nbsp;for&nbsp;bad&nbsp;actors&nbsp;to&nbsp;exploit.&nbsp;The&nbsp;proposed&nbsp;rule&nbsp;also&nbsp;fails&nbsp;to&nbsp;sufficiently&nbsp;address&nbsp;labor&nbsp;abuses&nbsp;in&nbsp;seafood&nbsp;supply&nbsp;chains,&nbsp;and&nbsp;it&nbsp;includes&nbsp;no&nbsp;commitment&nbsp;to&nbsp;improve&nbsp;enforcement&nbsp;of&nbsp;traceability&nbsp;requirements.&nbsp;</span></td><td style=\"word-wrap: break-word\" class=\"diff_next\"><a href=\"#difflib_chg_to5__4\">n</a></td><td style=\"word-wrap: break-word\" class=\"diff_header\" id=\"to5_9\">9</td><td style=\"word-wrap: break-word\" ><span class=\"diff_add\">Our&nbsp;government&nbsp;has&nbsp;a&nbsp;responsibility&nbsp;to&nbsp;fix&nbsp;these&nbsp;problems,&nbsp;and&nbsp;seafood&nbsp;traceability&nbsp;is&nbsp;an&nbsp;essential&nbsp;step&nbsp;in&nbsp;the&nbsp;fight&nbsp;to&nbsp;end&nbsp;illegal&nbsp;fishing&nbsp;and&nbsp;human&nbsp;rights&nbsp;abuses&nbsp;in&nbsp;the&nbsp;seafood&nbsp;industry.&nbsp;But&nbsp;under&nbsp;NOAA&nbsp;Fisheries’&nbsp;proposed&nbsp;rule,&nbsp;traceability&nbsp;requirements&nbsp;would&nbsp;apply&nbsp;to&nbsp;only&nbsp;half&nbsp;of&nbsp;seafood&nbsp;imports,&nbsp;leaving&nbsp;massive&nbsp;loopholes&nbsp;that&nbsp;are&nbsp;easy&nbsp;for&nbsp;bad&nbsp;actors&nbsp;to&nbsp;exploit.&nbsp;The&nbsp;proposed&nbsp;rule&nbsp;also&nbsp;fails&nbsp;to&nbsp;sufficiently&nbsp;address&nbsp;labor&nbsp;abuses&nbsp;in&nbsp;seafood&nbsp;supply&nbsp;chains,&nbsp;and&nbsp;it&nbsp;includes&nbsp;no&nbsp;commitment&nbsp;to&nbsp;improve&nbsp;enforcement&nbsp;of&nbsp;traceability&nbsp;requirements.&nbsp;</span></td></tr>\n",
       "            <tr><td style=\"word-wrap: break-word\" class=\"diff_next\"></td><td style=\"word-wrap: break-word\" class=\"diff_header\" id=\"from5_10\">10</td><td style=\"word-wrap: break-word\" ></td><td style=\"word-wrap: break-word\" class=\"diff_next\"></td><td style=\"word-wrap: break-word\" class=\"diff_header\" id=\"to5_10\">10</td><td style=\"word-wrap: break-word\" ></td></tr>\n",
       "            <tr><td style=\"word-wrap: break-word\" class=\"diff_next\"><a href=\"#difflib_chg_to5__top\">t</a></td><td style=\"word-wrap: break-word\" class=\"diff_header\" id=\"from5_11\">11</td><td style=\"word-wrap: break-word\" >P<span class=\"diff_chg\">lease&nbsp;revise&nbsp;the&nbsp;Seafood&nbsp;Import&nbsp;Monitoring&nbsp;Program&nbsp;proposed&nbsp;rule&nbsp;to&nbsp;adopt&nbsp;the&nbsp;strongest</span>&nbsp;possible&nbsp;standards&nbsp;for&nbsp;seafood&nbsp;traceability&nbsp;to&nbsp;intercept&nbsp;the&nbsp;flow&nbsp;of&nbsp;illegal&nbsp;seafood&nbsp;into&nbsp;the&nbsp;U.S.&nbsp;and&nbsp;help&nbsp;consumers&nbsp;feel&nbsp;confident&nbsp;the&nbsp;seafood&nbsp;they&nbsp;buy&nbsp;is&nbsp;legally&nbsp;caught&nbsp;and&nbsp;not&nbsp;a&nbsp;product&nbsp;of&nbsp;labor&nbsp;abuses.&nbsp;Thank&nbsp;you&nbsp;for&nbsp;helping&nbsp;to&nbsp;address&nbsp;these&nbsp;environmental&nbsp;and&nbsp;human&nbsp;rights&nbsp;crimes&nbsp;with&nbsp;the&nbsp;seriousness&nbsp;they&nbsp;deserve.</td><td style=\"word-wrap: break-word\" class=\"diff_next\"><a href=\"#difflib_chg_to5__top\">t</a></td><td style=\"word-wrap: break-word\" class=\"diff_header\" id=\"to5_11\">11</td><td style=\"word-wrap: break-word\" ><span class=\"diff_add\">I&nbsp;urge&nbsp;you&nbsp;to&nbsp;revise&nbsp;the&nbsp;Seafood&nbsp;Import&nbsp;Monitoring&nbsp;</span>P<span class=\"diff_chg\">rogram&nbsp;proposed&nbsp;rule&nbsp;to&nbsp;adopt&nbsp;the&nbsp;strongest</span>&nbsp;possible&nbsp;standards&nbsp;for&nbsp;seafood&nbsp;traceability&nbsp;to&nbsp;intercept&nbsp;the&nbsp;flow&nbsp;of&nbsp;illegal&nbsp;seafood&nbsp;into&nbsp;the&nbsp;U.S.&nbsp;and&nbsp;help&nbsp;consumers&nbsp;feel&nbsp;confident&nbsp;the&nbsp;seafood&nbsp;they&nbsp;buy&nbsp;is&nbsp;legally&nbsp;caught&nbsp;and&nbsp;not&nbsp;a&nbsp;product&nbsp;of&nbsp;labor&nbsp;abuses.&nbsp;Thank&nbsp;you&nbsp;for&nbsp;helping&nbsp;to&nbsp;address&nbsp;these&nbsp;environmental&nbsp;and&nbsp;human&nbsp;rights&nbsp;crimes&nbsp;with&nbsp;the&nbsp;seriousness&nbsp;they&nbsp;deserve.</td></tr>\n",
       "        </tbody>\n",
       "    </table>\n",
       "    <table style=\"table-layout: fixed; width: 100%\" class=\"diff\" summary=\"Legends\">\n",
       "        <tr> <th colspan=\"2\"> Legends </th> </tr>\n",
       "        <tr> <td style=\"word-wrap: break-word\"> <table style=\"table-layout: fixed; width: 100%\" border=\"\" summary=\"Colors\">\n",
       "                      <tr><th> Colors </th> </tr>\n",
       "                      <tr><td style=\"word-wrap: break-word\" class=\"diff_add\">&nbsp;Added&nbsp;</td></tr>\n",
       "                      <tr><td style=\"word-wrap: break-word\" class=\"diff_chg\">Changed</td> </tr>\n",
       "                      <tr><td style=\"word-wrap: break-word\" class=\"diff_sub\">Deleted</td> </tr>\n",
       "                  </table></td>\n",
       "             <td style=\"word-wrap: break-word\"> <table style=\"table-layout: fixed; width: 100%\" border=\"\" summary=\"Links\">\n",
       "                      <tr><th colspan=\"2\"> Links </th> </tr>\n",
       "                      <tr><td style=\"word-wrap: break-word\">(f)irst change</td> </tr>\n",
       "                      <tr><td style=\"word-wrap: break-word\">(n)ext change</td> </tr>\n",
       "                      <tr><td style=\"word-wrap: break-word\">(t)op</td> </tr>\n",
       "                  </table></td> </tr>\n",
       "    </table>\n",
       "</body>\n",
       "\n",
       "</html>"
      ],
      "text/plain": [
       "<IPython.core.display.HTML object>"
      ]
     },
     "metadata": {},
     "output_type": "display_data"
    },
    {
     "data": {
      "text/html": [
       "\n",
       "<!DOCTYPE html PUBLIC \"-//W3C//DTD XHTML 1.0 Transitional//EN\"\n",
       "          \"http://www.w3.org/TR/xhtml1/DTD/xhtml1-transitional.dtd\">\n",
       "\n",
       "<html>\n",
       "\n",
       "<head>\n",
       "    <meta http-equiv=\"Content-Type\"\n",
       "          content=\"text/html; charset=utf-8\" />\n",
       "    <title></title>\n",
       "    <style type=\"text/css\">\n",
       "        table.diff {font-family:Courier; border:medium;}\n",
       "        .diff_header {background-color:#e0e0e0}\n",
       "        td.diff_header {text-align:right; width:1%}\n",
       "        .diff_next {background-color:#c0c0c0; width:1%}\n",
       "        .diff_add {background-color:#aaffaa}\n",
       "        .diff_chg {background-color:#ffff77}\n",
       "        .diff_sub {background-color:#ffaaaa}\n",
       "    </style>\n",
       "</head>\n",
       "\n",
       "<body><hr /><br /><br /> <p>Comments: ['NOAA-NMFS-2022-0119-0616']</p>\n",
       "    \n",
       "    <table style=\"table-layout: fixed; width: 100%\" class=\"diff\" id=\"difflib_chg_to6__top\"\n",
       "           cellspacing=\"0\" cellpadding=\"0\" rules=\"groups\" >\n",
       "        <colgroup></colgroup> <colgroup></colgroup> <colgroup></colgroup>\n",
       "        <colgroup></colgroup> <colgroup></colgroup> <colgroup></colgroup>\n",
       "        \n",
       "        <tbody>\n",
       "            <tr><td style=\"word-wrap: break-word\" class=\"diff_next\" id=\"difflib_chg_to6__1\"><a href=\"#difflib_chg_to6__0\">f</a></td><td style=\"word-wrap: break-word\" class=\"diff_header\" id=\"from6_1\">1</td><td style=\"word-wrap: break-word\" >Dear&nbsp;NOAA&nbsp;Administrator&nbsp;Spinrad&nbsp;and&nbsp;NOAA&nbsp;Fisheries&nbsp;Assistant&nbsp;Administrator&nbsp;Coit:</td><td style=\"word-wrap: break-word\" class=\"diff_next\"><a href=\"#difflib_chg_to6__0\">f</a></td><td style=\"word-wrap: break-word\" class=\"diff_header\" id=\"to6_1\">1</td><td style=\"word-wrap: break-word\" >Dear&nbsp;NOAA&nbsp;Administrator&nbsp;Spinrad&nbsp;and&nbsp;NOAA&nbsp;Fisheries&nbsp;Assistant&nbsp;Administrator&nbsp;Coit:</td></tr>\n",
       "            <tr><td style=\"word-wrap: break-word\" class=\"diff_next\" id=\"difflib_chg_to6__2\"></td><td style=\"word-wrap: break-word\" class=\"diff_header\" id=\"from6_2\">2</td><td style=\"word-wrap: break-word\" ></td><td style=\"word-wrap: break-word\" class=\"diff_next\"></td><td style=\"word-wrap: break-word\" class=\"diff_header\" id=\"to6_2\">2</td><td style=\"word-wrap: break-word\" ></td></tr>\n",
       "            <tr><td style=\"word-wrap: break-word\" class=\"diff_next\"><a href=\"#difflib_chg_to6__1\">n</a></td><td style=\"word-wrap: break-word\" class=\"diff_header\" id=\"from6_3\">3</td><td style=\"word-wrap: break-word\" ><span class=\"diff_sub\">The&nbsp;United&nbsp;States&nbsp;needs&nbsp;an&nbsp;effective&nbsp;seafood&nbsp;traceability&nbsp;program&nbsp;to&nbsp;intercept&nbsp;the&nbsp;flow&nbsp;of&nbsp;illegal&nbsp;seafood&nbsp;into&nbsp;our&nbsp;markets.&nbsp;Illegal&nbsp;fishing&nbsp;is&nbsp;a&nbsp;top&nbsp;driver&nbsp;of&nbsp;unsustainable&nbsp;and&nbsp;environmentally&nbsp;harmful&nbsp;fishing&nbsp;practices&nbsp;around&nbsp;the&nbsp;globe,&nbsp;as&nbsp;well&nbsp;as&nbsp;associated&nbsp;human&nbsp;rights&nbsp;abuses&nbsp;in&nbsp;the&nbsp;seafood&nbsp;sector.&nbsp;The&nbsp;newly&nbsp;proposed&nbsp;changes&nbsp;to&nbsp;the&nbsp;Seafood&nbsp;Import&nbsp;Monitoring&nbsp;Program&nbsp;do&nbsp;not&nbsp;go&nbsp;far&nbsp;enough&nbsp;to&nbsp;help&nbsp;end&nbsp;the&nbsp;U.S.'s&nbsp;role&nbsp;in&nbsp;perpetuating&nbsp;human&nbsp;rights&nbsp;abuses&nbsp;and&nbsp;environmental&nbsp;destruction&nbsp;in&nbsp;the&nbsp;seafood&nbsp;industry.&nbsp;</span></td><td style=\"word-wrap: break-word\" class=\"diff_next\"><a href=\"#difflib_chg_to6__1\">n</a></td><td style=\"word-wrap: break-word\" class=\"diff_header\" id=\"to6_3\">3</td><td style=\"word-wrap: break-word\" ><span class=\"diff_add\">Please.&nbsp;We&nbsp;need&nbsp;an&nbsp;effective&nbsp;seafood&nbsp;traceability&nbsp;program.The&nbsp;newly&nbsp;proposed&nbsp;changes&nbsp;to&nbsp;the&nbsp;Seafood&nbsp;Import&nbsp;Monitoring&nbsp;Program&nbsp;do&nbsp;not&nbsp;go&nbsp;far&nbsp;enough&nbsp;to&nbsp;help&nbsp;end&nbsp;the&nbsp;U.S.'s&nbsp;role&nbsp;in&nbsp;perpetuating&nbsp;human&nbsp;rights&nbsp;abuses&nbsp;and&nbsp;environmental&nbsp;destruction&nbsp;in&nbsp;the&nbsp;seafood&nbsp;industry.&nbsp;</span></td></tr>\n",
       "            <tr><td style=\"word-wrap: break-word\" class=\"diff_next\"></td><td style=\"word-wrap: break-word\" class=\"diff_header\" id=\"from6_4\">4</td><td style=\"word-wrap: break-word\" ></td><td style=\"word-wrap: break-word\" class=\"diff_next\"></td><td style=\"word-wrap: break-word\" class=\"diff_header\" id=\"to6_4\">4</td><td style=\"word-wrap: break-word\" ></td></tr>\n",
       "            <tr><td style=\"word-wrap: break-word\" class=\"diff_next\"><a href=\"#difflib_chg_to6__2\">n</a></td><td style=\"word-wrap: break-word\" class=\"diff_header\" id=\"from6_5\">5</td><td style=\"word-wrap: break-word\" ><span class=\"diff_sub\">Illegal&nbsp;fishing&nbsp;is&nbsp;destroying&nbsp;our&nbsp;oceans.&nbsp;Years&nbsp;of&nbsp;overfishing&nbsp;in&nbsp;nearshore&nbsp;waters&nbsp;have&nbsp;forced&nbsp;boats&nbsp;to&nbsp;go&nbsp;into&nbsp;deeper&nbsp;waters,&nbsp;which&nbsp;makes&nbsp;fishing&nbsp;more&nbsp;expensive.&nbsp;Some&nbsp;fishers&nbsp;will&nbsp;cut&nbsp;costs&nbsp;by&nbsp;fishing&nbsp;with&nbsp;illegal&nbsp;gear,&nbsp;fishing&nbsp;in&nbsp;protected&nbsp;areas,&nbsp;or&nbsp;ignoring&nbsp;catch&nbsp;limits.&nbsp;To&nbsp;save&nbsp;on&nbsp;labor&nbsp;costs,&nbsp;some&nbsp;vessel&nbsp;owners&nbsp;rely&nbsp;on&nbsp;human&nbsp;traffickers,&nbsp;some&nbsp;even&nbsp;kidnapping&nbsp;or&nbsp;drugging&nbsp;workers&nbsp;to&nbsp;get&nbsp;them&nbsp;on&nbsp;the&nbsp;ship&nbsp;and&nbsp;cut&nbsp;off&nbsp;from&nbsp;help.&nbsp;Further,&nbsp;the&nbsp;overseas&nbsp;seafood&nbsp;processing&nbsp;industry&nbsp;is&nbsp;heavily&nbsp;reliant&nbsp;on&nbsp;forced&nbsp;labor.&nbsp;&nbsp;</span></td><td style=\"word-wrap: break-word\" class=\"diff_next\"><a href=\"#difflib_chg_to6__2\">n</a></td><td style=\"word-wrap: break-word\" class=\"diff_header\"></td><td style=\"word-wrap: break-word\" ></td></tr>\n",
       "            <tr><td style=\"word-wrap: break-word\" class=\"diff_next\"></td><td style=\"word-wrap: break-word\" class=\"diff_header\" id=\"from6_6\">6</td><td style=\"word-wrap: break-word\" ></td><td style=\"word-wrap: break-word\" class=\"diff_next\"></td><td style=\"word-wrap: break-word\" class=\"diff_header\" id=\"to6_5\">5</td><td style=\"word-wrap: break-word\" ></td></tr>\n",
       "            <tr><td style=\"word-wrap: break-word\" class=\"diff_next\"><a href=\"#difflib_chg_to6__top\">t</a></td><td style=\"word-wrap: break-word\" class=\"diff_header\" id=\"from6_7\">7</td><td style=\"word-wrap: break-word\" ><span class=\"diff_sub\">The&nbsp;U.S.&nbsp;is&nbsp;one&nbsp;of&nbsp;the&nbsp;largest&nbsp;consumers&nbsp;of&nbsp;seafood.&nbsp;Approximately&nbsp;eighty&nbsp;percent&nbsp;of&nbsp;the&nbsp;seafood&nbsp;sold&nbsp;in&nbsp;the&nbsp;U.S.&nbsp;is&nbsp;imported,&nbsp;and&nbsp;as&nbsp;much&nbsp;as&nbsp;a&nbsp;third&nbsp;of&nbsp;the&nbsp;wild-caught&nbsp;seafood&nbsp;sold&nbsp;in&nbsp;the&nbsp;United&nbsp;States&nbsp;each&nbsp;year&nbsp;is&nbsp;illegal&nbsp;or&nbsp;unreported.&nbsp;&nbsp;</span></td><td style=\"word-wrap: break-word\" class=\"diff_next\"><a href=\"#difflib_chg_to6__top\">t</a></td><td style=\"word-wrap: break-word\" class=\"diff_header\" id=\"to6_6\">6</td><td style=\"word-wrap: break-word\" ><span class=\"diff_add\">The&nbsp;U.S.&nbsp;government&nbsp;has&nbsp;a&nbsp;responsibility&nbsp;to&nbsp;fix&nbsp;these&nbsp;problems.&nbsp;&nbsp;Please&nbsp;revise&nbsp;the&nbsp;Seafood&nbsp;Import&nbsp;Monitoring&nbsp;Program&nbsp;proposed&nbsp;rule&nbsp;to&nbsp;adopt&nbsp;the&nbsp;strongest&nbsp;possible&nbsp;standards&nbsp;for&nbsp;seafood&nbsp;traceability&nbsp;to&nbsp;intercept&nbsp;the&nbsp;flow&nbsp;of&nbsp;illegal&nbsp;seafood&nbsp;into&nbsp;the&nbsp;U.S.&nbsp;and&nbsp;help&nbsp;us&nbsp;consumers&nbsp;feel&nbsp;confident&nbsp;the&nbsp;seafood&nbsp;we&nbsp;buy&nbsp;is&nbsp;legally&nbsp;caught&nbsp;and&nbsp;not&nbsp;a&nbsp;product&nbsp;of&nbsp;labor&nbsp;abuses.&nbsp;Thank&nbsp;you&nbsp;for&nbsp;helping&nbsp;to&nbsp;address&nbsp;these&nbsp;environmental&nbsp;and&nbsp;human&nbsp;rights&nbsp;crimes&nbsp;with&nbsp;the&nbsp;seriousness&nbsp;they&nbsp;deserve.</span></td></tr>\n",
       "            <tr><td style=\"word-wrap: break-word\" class=\"diff_next\"></td><td style=\"word-wrap: break-word\" class=\"diff_header\" id=\"from6_8\">8</td><td style=\"word-wrap: break-word\" ><span class=\"diff_sub\">&nbsp;</span></td><td style=\"word-wrap: break-word\" class=\"diff_next\"></td><td style=\"word-wrap: break-word\" class=\"diff_header\"></td><td style=\"word-wrap: break-word\" ></td></tr>\n",
       "            <tr><td style=\"word-wrap: break-word\" class=\"diff_next\"></td><td style=\"word-wrap: break-word\" class=\"diff_header\" id=\"from6_9\">9</td><td style=\"word-wrap: break-word\" ><span class=\"diff_sub\">The&nbsp;U.S.&nbsp;government&nbsp;has&nbsp;a&nbsp;responsibility&nbsp;to&nbsp;fix&nbsp;these&nbsp;problems,&nbsp;and&nbsp;seafood&nbsp;traceability&nbsp;is&nbsp;an&nbsp;essential&nbsp;step&nbsp;in&nbsp;the&nbsp;fight&nbsp;to&nbsp;end&nbsp;illegal&nbsp;fishing&nbsp;and&nbsp;human&nbsp;rights&nbsp;abuses&nbsp;in&nbsp;the&nbsp;seafood&nbsp;industry.&nbsp;But&nbsp;under&nbsp;NOAA&nbsp;Fisheries’&nbsp;proposed&nbsp;rule,&nbsp;traceability&nbsp;requirements&nbsp;would&nbsp;apply&nbsp;to&nbsp;only&nbsp;half&nbsp;of&nbsp;seafood&nbsp;imports,&nbsp;leaving&nbsp;massive&nbsp;loopholes&nbsp;that&nbsp;are&nbsp;easy&nbsp;for&nbsp;bad&nbsp;actors&nbsp;to&nbsp;exploit.&nbsp;The&nbsp;proposed&nbsp;rule&nbsp;also&nbsp;fails&nbsp;to&nbsp;sufficiently&nbsp;address&nbsp;labor&nbsp;abuses&nbsp;in&nbsp;seafood&nbsp;supply&nbsp;chains,&nbsp;and&nbsp;it&nbsp;includes&nbsp;no&nbsp;commitment&nbsp;to&nbsp;improve&nbsp;enforcement&nbsp;of&nbsp;traceability&nbsp;requirements.&nbsp;</span></td><td style=\"word-wrap: break-word\" class=\"diff_next\"></td><td style=\"word-wrap: break-word\" class=\"diff_header\"></td><td style=\"word-wrap: break-word\" ></td></tr>\n",
       "            <tr><td style=\"word-wrap: break-word\" class=\"diff_next\"></td><td style=\"word-wrap: break-word\" class=\"diff_header\" id=\"from6_10\">10</td><td style=\"word-wrap: break-word\" ><span class=\"diff_sub\">&nbsp;</span></td><td style=\"word-wrap: break-word\" class=\"diff_next\"></td><td style=\"word-wrap: break-word\" class=\"diff_header\"></td><td style=\"word-wrap: break-word\" ></td></tr>\n",
       "            <tr><td style=\"word-wrap: break-word\" class=\"diff_next\"></td><td style=\"word-wrap: break-word\" class=\"diff_header\" id=\"from6_11\">11</td><td style=\"word-wrap: break-word\" ><span class=\"diff_sub\">Please&nbsp;revise&nbsp;the&nbsp;Seafood&nbsp;Import&nbsp;Monitoring&nbsp;Program&nbsp;proposed&nbsp;rule&nbsp;to&nbsp;adopt&nbsp;the&nbsp;strongest&nbsp;possible&nbsp;standards&nbsp;for&nbsp;seafood&nbsp;traceability&nbsp;to&nbsp;intercept&nbsp;the&nbsp;flow&nbsp;of&nbsp;illegal&nbsp;seafood&nbsp;into&nbsp;the&nbsp;U.S.&nbsp;and&nbsp;help&nbsp;consumers&nbsp;feel&nbsp;confident&nbsp;the&nbsp;seafood&nbsp;they&nbsp;buy&nbsp;is&nbsp;legally&nbsp;caught&nbsp;and&nbsp;not&nbsp;a&nbsp;product&nbsp;of&nbsp;labor&nbsp;abuses.&nbsp;Thank&nbsp;you&nbsp;for&nbsp;helping&nbsp;to&nbsp;address&nbsp;these&nbsp;environmental&nbsp;and&nbsp;human&nbsp;rights&nbsp;crimes&nbsp;with&nbsp;the&nbsp;seriousness&nbsp;they&nbsp;deserve.</span></td><td style=\"word-wrap: break-word\" class=\"diff_next\"></td><td style=\"word-wrap: break-word\" class=\"diff_header\"></td><td style=\"word-wrap: break-word\" ></td></tr>\n",
       "        </tbody>\n",
       "    </table>\n",
       "    <table style=\"table-layout: fixed; width: 100%\" class=\"diff\" summary=\"Legends\">\n",
       "        <tr> <th colspan=\"2\"> Legends </th> </tr>\n",
       "        <tr> <td style=\"word-wrap: break-word\"> <table style=\"table-layout: fixed; width: 100%\" border=\"\" summary=\"Colors\">\n",
       "                      <tr><th> Colors </th> </tr>\n",
       "                      <tr><td style=\"word-wrap: break-word\" class=\"diff_add\">&nbsp;Added&nbsp;</td></tr>\n",
       "                      <tr><td style=\"word-wrap: break-word\" class=\"diff_chg\">Changed</td> </tr>\n",
       "                      <tr><td style=\"word-wrap: break-word\" class=\"diff_sub\">Deleted</td> </tr>\n",
       "                  </table></td>\n",
       "             <td style=\"word-wrap: break-word\"> <table style=\"table-layout: fixed; width: 100%\" border=\"\" summary=\"Links\">\n",
       "                      <tr><th colspan=\"2\"> Links </th> </tr>\n",
       "                      <tr><td style=\"word-wrap: break-word\">(f)irst change</td> </tr>\n",
       "                      <tr><td style=\"word-wrap: break-word\">(n)ext change</td> </tr>\n",
       "                      <tr><td style=\"word-wrap: break-word\">(t)op</td> </tr>\n",
       "                  </table></td> </tr>\n",
       "    </table>\n",
       "</body>\n",
       "\n",
       "</html>"
      ],
      "text/plain": [
       "<IPython.core.display.HTML object>"
      ]
     },
     "metadata": {},
     "output_type": "display_data"
    },
    {
     "data": {
      "text/html": [
       "\n",
       "<!DOCTYPE html PUBLIC \"-//W3C//DTD XHTML 1.0 Transitional//EN\"\n",
       "          \"http://www.w3.org/TR/xhtml1/DTD/xhtml1-transitional.dtd\">\n",
       "\n",
       "<html>\n",
       "\n",
       "<head>\n",
       "    <meta http-equiv=\"Content-Type\"\n",
       "          content=\"text/html; charset=utf-8\" />\n",
       "    <title></title>\n",
       "    <style type=\"text/css\">\n",
       "        table.diff {font-family:Courier; border:medium;}\n",
       "        .diff_header {background-color:#e0e0e0}\n",
       "        td.diff_header {text-align:right; width:1%}\n",
       "        .diff_next {background-color:#c0c0c0; width:1%}\n",
       "        .diff_add {background-color:#aaffaa}\n",
       "        .diff_chg {background-color:#ffff77}\n",
       "        .diff_sub {background-color:#ffaaaa}\n",
       "    </style>\n",
       "</head>\n",
       "\n",
       "<body><hr /><br /><br /> <p>Comments: ['NOAA-NMFS-2022-0119-1308']</p>\n",
       "    \n",
       "    <table style=\"table-layout: fixed; width: 100%\" class=\"diff\" id=\"difflib_chg_to7__top\"\n",
       "           cellspacing=\"0\" cellpadding=\"0\" rules=\"groups\" >\n",
       "        <colgroup></colgroup> <colgroup></colgroup> <colgroup></colgroup>\n",
       "        <colgroup></colgroup> <colgroup></colgroup> <colgroup></colgroup>\n",
       "        \n",
       "        <tbody>\n",
       "            <tr><td style=\"word-wrap: break-word\" class=\"diff_next\" id=\"difflib_chg_to7__0\"><a href=\"#difflib_chg_to7__0\">f</a></td><td style=\"word-wrap: break-word\" class=\"diff_header\" id=\"from7_1\">1</td><td style=\"word-wrap: break-word\" >Dear&nbsp;NOAA&nbsp;Administrator&nbsp;Spinrad&nbsp;and&nbsp;NOAA&nbsp;Fisheries&nbsp;Assistant&nbsp;Administrator&nbsp;Coit:</td><td style=\"word-wrap: break-word\" class=\"diff_next\"><a href=\"#difflib_chg_to7__0\">f</a></td><td style=\"word-wrap: break-word\" class=\"diff_header\" id=\"to7_1\">1</td><td style=\"word-wrap: break-word\" >Dear&nbsp;NOAA&nbsp;Administrator&nbsp;Spinrad&nbsp;and&nbsp;NOAA&nbsp;Fisheries&nbsp;Assistant&nbsp;Administrator&nbsp;Coit:</td></tr>\n",
       "            <tr><td style=\"word-wrap: break-word\" class=\"diff_next\"><a href=\"#difflib_chg_to7__top\">t</a></td><td style=\"word-wrap: break-word\" class=\"diff_header\" id=\"from7_2\">2</td><td style=\"word-wrap: break-word\" ><span class=\"diff_sub\">&nbsp;</span></td><td style=\"word-wrap: break-word\" class=\"diff_next\"><a href=\"#difflib_chg_to7__top\">t</a></td><td style=\"word-wrap: break-word\" class=\"diff_header\"></td><td style=\"word-wrap: break-word\" ></td></tr>\n",
       "            <tr><td style=\"word-wrap: break-word\" class=\"diff_next\"></td><td style=\"word-wrap: break-word\" class=\"diff_header\" id=\"from7_3\">3</td><td style=\"word-wrap: break-word\" ><span class=\"diff_sub\">The&nbsp;United&nbsp;States&nbsp;needs&nbsp;an&nbsp;effective&nbsp;seafood&nbsp;traceability&nbsp;program&nbsp;to&nbsp;intercept&nbsp;the&nbsp;flow&nbsp;of&nbsp;illegal&nbsp;seafood&nbsp;into&nbsp;our&nbsp;markets.&nbsp;Illegal&nbsp;fishing&nbsp;is&nbsp;a&nbsp;top&nbsp;driver&nbsp;of&nbsp;unsustainable&nbsp;and&nbsp;environmentally&nbsp;harmful&nbsp;fishing&nbsp;practices&nbsp;around&nbsp;the&nbsp;globe,&nbsp;as&nbsp;well&nbsp;as&nbsp;associated&nbsp;human&nbsp;rights&nbsp;abuses&nbsp;in&nbsp;the&nbsp;seafood&nbsp;sector.&nbsp;The&nbsp;newly&nbsp;proposed&nbsp;changes&nbsp;to&nbsp;the&nbsp;Seafood&nbsp;Import&nbsp;Monitoring&nbsp;Program&nbsp;do&nbsp;not&nbsp;go&nbsp;far&nbsp;enough&nbsp;to&nbsp;help&nbsp;end&nbsp;the&nbsp;U.S.'s&nbsp;role&nbsp;in&nbsp;perpetuating&nbsp;human&nbsp;rights&nbsp;abuses&nbsp;and&nbsp;environmental&nbsp;destruction&nbsp;in&nbsp;the&nbsp;seafood&nbsp;industry.&nbsp;</span></td><td style=\"word-wrap: break-word\" class=\"diff_next\"></td><td style=\"word-wrap: break-word\" class=\"diff_header\"></td><td style=\"word-wrap: break-word\" ></td></tr>\n",
       "            <tr><td style=\"word-wrap: break-word\" class=\"diff_next\"></td><td style=\"word-wrap: break-word\" class=\"diff_header\" id=\"from7_4\">4</td><td style=\"word-wrap: break-word\" ><span class=\"diff_sub\">&nbsp;</span></td><td style=\"word-wrap: break-word\" class=\"diff_next\"></td><td style=\"word-wrap: break-word\" class=\"diff_header\"></td><td style=\"word-wrap: break-word\" ></td></tr>\n",
       "            <tr><td style=\"word-wrap: break-word\" class=\"diff_next\"></td><td style=\"word-wrap: break-word\" class=\"diff_header\" id=\"from7_5\">5</td><td style=\"word-wrap: break-word\" ><span class=\"diff_sub\">Illegal&nbsp;fishing&nbsp;is&nbsp;destroying&nbsp;our&nbsp;oceans.&nbsp;Years&nbsp;of&nbsp;overfishing&nbsp;in&nbsp;nearshore&nbsp;waters&nbsp;have&nbsp;forced&nbsp;boats&nbsp;to&nbsp;go&nbsp;into&nbsp;deeper&nbsp;waters,&nbsp;which&nbsp;makes&nbsp;fishing&nbsp;more&nbsp;expensive.&nbsp;Some&nbsp;fishers&nbsp;will&nbsp;cut&nbsp;costs&nbsp;by&nbsp;fishing&nbsp;with&nbsp;illegal&nbsp;gear,&nbsp;fishing&nbsp;in&nbsp;protected&nbsp;areas,&nbsp;or&nbsp;ignoring&nbsp;catch&nbsp;limits.&nbsp;To&nbsp;save&nbsp;on&nbsp;labor&nbsp;costs,&nbsp;some&nbsp;vessel&nbsp;owners&nbsp;rely&nbsp;on&nbsp;human&nbsp;traffickers,&nbsp;some&nbsp;even&nbsp;kidnapping&nbsp;or&nbsp;drugging&nbsp;workers&nbsp;to&nbsp;get&nbsp;them&nbsp;on&nbsp;the&nbsp;ship&nbsp;and&nbsp;cut&nbsp;off&nbsp;from&nbsp;help.&nbsp;Further,&nbsp;the&nbsp;overseas&nbsp;seafood&nbsp;processing&nbsp;industry&nbsp;is&nbsp;heavily&nbsp;reliant&nbsp;on&nbsp;forced&nbsp;labor.&nbsp;&nbsp;</span></td><td style=\"word-wrap: break-word\" class=\"diff_next\"></td><td style=\"word-wrap: break-word\" class=\"diff_header\"></td><td style=\"word-wrap: break-word\" ></td></tr>\n",
       "            <tr><td style=\"word-wrap: break-word\" class=\"diff_next\"></td><td style=\"word-wrap: break-word\" class=\"diff_header\" id=\"from7_6\">6</td><td style=\"word-wrap: break-word\" ></td><td style=\"word-wrap: break-word\" class=\"diff_next\"></td><td style=\"word-wrap: break-word\" class=\"diff_header\" id=\"to7_2\">2</td><td style=\"word-wrap: break-word\" ></td></tr>\n",
       "            <tr><td style=\"word-wrap: break-word\" class=\"diff_next\"></td><td style=\"word-wrap: break-word\" class=\"diff_header\" id=\"from7_7\">7</td><td style=\"word-wrap: break-word\" >The&nbsp;U.S.&nbsp;is&nbsp;one&nbsp;of&nbsp;the&nbsp;largest&nbsp;consumers&nbsp;of&nbsp;seafood.&nbsp;Approximately&nbsp;eighty&nbsp;percent&nbsp;of&nbsp;the&nbsp;seafood&nbsp;sold&nbsp;in&nbsp;the&nbsp;U.S.&nbsp;is&nbsp;imported,&nbsp;and&nbsp;as&nbsp;much&nbsp;as&nbsp;a&nbsp;third&nbsp;of&nbsp;the&nbsp;wild-caught&nbsp;seafood&nbsp;sold&nbsp;in&nbsp;the&nbsp;United&nbsp;States&nbsp;each&nbsp;year&nbsp;is&nbsp;illegal&nbsp;or&nbsp;unreported.&nbsp;&nbsp;</td><td style=\"word-wrap: break-word\" class=\"diff_next\"></td><td style=\"word-wrap: break-word\" class=\"diff_header\" id=\"to7_3\">3</td><td style=\"word-wrap: break-word\" >The&nbsp;U.S.&nbsp;is&nbsp;one&nbsp;of&nbsp;the&nbsp;largest&nbsp;consumers&nbsp;of&nbsp;seafood.&nbsp;Approximately&nbsp;eighty&nbsp;percent&nbsp;of&nbsp;the&nbsp;seafood&nbsp;sold&nbsp;in&nbsp;the&nbsp;U.S.&nbsp;is&nbsp;imported,&nbsp;and&nbsp;as&nbsp;much&nbsp;as&nbsp;a&nbsp;third&nbsp;of&nbsp;the&nbsp;wild-caught&nbsp;seafood&nbsp;sold&nbsp;in&nbsp;the&nbsp;United&nbsp;States&nbsp;each&nbsp;year&nbsp;is&nbsp;illegal&nbsp;or&nbsp;unreported.&nbsp;&nbsp;</td></tr>\n",
       "            <tr><td style=\"word-wrap: break-word\" class=\"diff_next\"></td><td style=\"word-wrap: break-word\" class=\"diff_header\" id=\"from7_8\">8</td><td style=\"word-wrap: break-word\" ></td><td style=\"word-wrap: break-word\" class=\"diff_next\"></td><td style=\"word-wrap: break-word\" class=\"diff_header\" id=\"to7_4\">4</td><td style=\"word-wrap: break-word\" ></td></tr>\n",
       "            <tr><td style=\"word-wrap: break-word\" class=\"diff_next\"></td><td style=\"word-wrap: break-word\" class=\"diff_header\" id=\"from7_9\">9</td><td style=\"word-wrap: break-word\" >The&nbsp;U.S.&nbsp;government&nbsp;has&nbsp;a&nbsp;responsibility&nbsp;to&nbsp;fix&nbsp;these&nbsp;problems,&nbsp;and&nbsp;seafood&nbsp;traceability&nbsp;is&nbsp;an&nbsp;essential&nbsp;step&nbsp;in&nbsp;the&nbsp;fight&nbsp;to&nbsp;end&nbsp;illegal&nbsp;fishing&nbsp;and&nbsp;human&nbsp;rights&nbsp;abuses&nbsp;in&nbsp;the&nbsp;seafood&nbsp;industry.&nbsp;But&nbsp;under&nbsp;NOAA&nbsp;Fisheries’&nbsp;proposed&nbsp;rule,&nbsp;traceability&nbsp;requirements&nbsp;would&nbsp;apply&nbsp;to&nbsp;only&nbsp;half&nbsp;of&nbsp;seafood&nbsp;imports,&nbsp;leaving&nbsp;massive&nbsp;loopholes&nbsp;that&nbsp;are&nbsp;easy&nbsp;for&nbsp;bad&nbsp;actors&nbsp;to&nbsp;exploit.&nbsp;The&nbsp;proposed&nbsp;rule&nbsp;also&nbsp;fails&nbsp;to&nbsp;sufficiently&nbsp;address&nbsp;labor&nbsp;abuses&nbsp;in&nbsp;seafood&nbsp;supply&nbsp;chains,&nbsp;and&nbsp;it&nbsp;includes&nbsp;no&nbsp;commitment&nbsp;to&nbsp;improve&nbsp;enforcement&nbsp;of&nbsp;traceability&nbsp;requirements.&nbsp;</td><td style=\"word-wrap: break-word\" class=\"diff_next\"></td><td style=\"word-wrap: break-word\" class=\"diff_header\" id=\"to7_5\">5</td><td style=\"word-wrap: break-word\" >The&nbsp;U.S.&nbsp;government&nbsp;has&nbsp;a&nbsp;responsibility&nbsp;to&nbsp;fix&nbsp;these&nbsp;problems,&nbsp;and&nbsp;seafood&nbsp;traceability&nbsp;is&nbsp;an&nbsp;essential&nbsp;step&nbsp;in&nbsp;the&nbsp;fight&nbsp;to&nbsp;end&nbsp;illegal&nbsp;fishing&nbsp;and&nbsp;human&nbsp;rights&nbsp;abuses&nbsp;in&nbsp;the&nbsp;seafood&nbsp;industry.&nbsp;But&nbsp;under&nbsp;NOAA&nbsp;Fisheries’&nbsp;proposed&nbsp;rule,&nbsp;traceability&nbsp;requirements&nbsp;would&nbsp;apply&nbsp;to&nbsp;only&nbsp;half&nbsp;of&nbsp;seafood&nbsp;imports,&nbsp;leaving&nbsp;massive&nbsp;loopholes&nbsp;that&nbsp;are&nbsp;easy&nbsp;for&nbsp;bad&nbsp;actors&nbsp;to&nbsp;exploit.&nbsp;The&nbsp;proposed&nbsp;rule&nbsp;also&nbsp;fails&nbsp;to&nbsp;sufficiently&nbsp;address&nbsp;labor&nbsp;abuses&nbsp;in&nbsp;seafood&nbsp;supply&nbsp;chains,&nbsp;and&nbsp;it&nbsp;includes&nbsp;no&nbsp;commitment&nbsp;to&nbsp;improve&nbsp;enforcement&nbsp;of&nbsp;traceability&nbsp;requirements.&nbsp;</td></tr>\n",
       "            <tr><td style=\"word-wrap: break-word\" class=\"diff_next\"></td><td style=\"word-wrap: break-word\" class=\"diff_header\" id=\"from7_10\">10</td><td style=\"word-wrap: break-word\" ></td><td style=\"word-wrap: break-word\" class=\"diff_next\"></td><td style=\"word-wrap: break-word\" class=\"diff_header\" id=\"to7_6\">6</td><td style=\"word-wrap: break-word\" ></td></tr>\n",
       "            <tr><td style=\"word-wrap: break-word\" class=\"diff_next\"></td><td style=\"word-wrap: break-word\" class=\"diff_header\" id=\"from7_11\">11</td><td style=\"word-wrap: break-word\" >Please&nbsp;revise&nbsp;the&nbsp;Seafood&nbsp;Import&nbsp;Monitoring&nbsp;Program&nbsp;proposed&nbsp;rule&nbsp;to&nbsp;adopt&nbsp;the&nbsp;strongest&nbsp;possible&nbsp;standards&nbsp;for&nbsp;seafood&nbsp;traceability&nbsp;to&nbsp;intercept&nbsp;the&nbsp;flow&nbsp;of&nbsp;illegal&nbsp;seafood&nbsp;into&nbsp;the&nbsp;U.S.&nbsp;and&nbsp;help&nbsp;consumers&nbsp;feel&nbsp;confident&nbsp;the&nbsp;seafood&nbsp;they&nbsp;buy&nbsp;is&nbsp;legally&nbsp;caught&nbsp;and&nbsp;not&nbsp;a&nbsp;product&nbsp;of&nbsp;labor&nbsp;abuses.&nbsp;Thank&nbsp;you&nbsp;for&nbsp;helping&nbsp;to&nbsp;address&nbsp;these&nbsp;environmental&nbsp;and&nbsp;human&nbsp;rights&nbsp;crimes&nbsp;with&nbsp;the&nbsp;seriousness&nbsp;they&nbsp;deserve.</td><td style=\"word-wrap: break-word\" class=\"diff_next\"></td><td style=\"word-wrap: break-word\" class=\"diff_header\" id=\"to7_7\">7</td><td style=\"word-wrap: break-word\" >Please&nbsp;revise&nbsp;the&nbsp;Seafood&nbsp;Import&nbsp;Monitoring&nbsp;Program&nbsp;proposed&nbsp;rule&nbsp;to&nbsp;adopt&nbsp;the&nbsp;strongest&nbsp;possible&nbsp;standards&nbsp;for&nbsp;seafood&nbsp;traceability&nbsp;to&nbsp;intercept&nbsp;the&nbsp;flow&nbsp;of&nbsp;illegal&nbsp;seafood&nbsp;into&nbsp;the&nbsp;U.S.&nbsp;and&nbsp;help&nbsp;consumers&nbsp;feel&nbsp;confident&nbsp;the&nbsp;seafood&nbsp;they&nbsp;buy&nbsp;is&nbsp;legally&nbsp;caught&nbsp;and&nbsp;not&nbsp;a&nbsp;product&nbsp;of&nbsp;labor&nbsp;abuses.&nbsp;Thank&nbsp;you&nbsp;for&nbsp;helping&nbsp;to&nbsp;address&nbsp;these&nbsp;environmental&nbsp;and&nbsp;human&nbsp;rights&nbsp;crimes&nbsp;with&nbsp;the&nbsp;seriousness&nbsp;they&nbsp;deserve.</td></tr>\n",
       "        </tbody>\n",
       "    </table>\n",
       "    <table style=\"table-layout: fixed; width: 100%\" class=\"diff\" summary=\"Legends\">\n",
       "        <tr> <th colspan=\"2\"> Legends </th> </tr>\n",
       "        <tr> <td style=\"word-wrap: break-word\"> <table style=\"table-layout: fixed; width: 100%\" border=\"\" summary=\"Colors\">\n",
       "                      <tr><th> Colors </th> </tr>\n",
       "                      <tr><td style=\"word-wrap: break-word\" class=\"diff_add\">&nbsp;Added&nbsp;</td></tr>\n",
       "                      <tr><td style=\"word-wrap: break-word\" class=\"diff_chg\">Changed</td> </tr>\n",
       "                      <tr><td style=\"word-wrap: break-word\" class=\"diff_sub\">Deleted</td> </tr>\n",
       "                  </table></td>\n",
       "             <td style=\"word-wrap: break-word\"> <table style=\"table-layout: fixed; width: 100%\" border=\"\" summary=\"Links\">\n",
       "                      <tr><th colspan=\"2\"> Links </th> </tr>\n",
       "                      <tr><td style=\"word-wrap: break-word\">(f)irst change</td> </tr>\n",
       "                      <tr><td style=\"word-wrap: break-word\">(n)ext change</td> </tr>\n",
       "                      <tr><td style=\"word-wrap: break-word\">(t)op</td> </tr>\n",
       "                  </table></td> </tr>\n",
       "    </table>\n",
       "</body>\n",
       "\n",
       "</html>"
      ],
      "text/plain": [
       "<IPython.core.display.HTML object>"
      ]
     },
     "metadata": {},
     "output_type": "display_data"
    },
    {
     "data": {
      "text/html": [
       "\n",
       "<!DOCTYPE html PUBLIC \"-//W3C//DTD XHTML 1.0 Transitional//EN\"\n",
       "          \"http://www.w3.org/TR/xhtml1/DTD/xhtml1-transitional.dtd\">\n",
       "\n",
       "<html>\n",
       "\n",
       "<head>\n",
       "    <meta http-equiv=\"Content-Type\"\n",
       "          content=\"text/html; charset=utf-8\" />\n",
       "    <title></title>\n",
       "    <style type=\"text/css\">\n",
       "        table.diff {font-family:Courier; border:medium;}\n",
       "        .diff_header {background-color:#e0e0e0}\n",
       "        td.diff_header {text-align:right; width:1%}\n",
       "        .diff_next {background-color:#c0c0c0; width:1%}\n",
       "        .diff_add {background-color:#aaffaa}\n",
       "        .diff_chg {background-color:#ffff77}\n",
       "        .diff_sub {background-color:#ffaaaa}\n",
       "    </style>\n",
       "</head>\n",
       "\n",
       "<body><hr /><br /><br /> <p>Comments: ['NOAA-NMFS-2022-0119-0390']</p>\n",
       "    \n",
       "    <table style=\"table-layout: fixed; width: 100%\" class=\"diff\" id=\"difflib_chg_to8__top\"\n",
       "           cellspacing=\"0\" cellpadding=\"0\" rules=\"groups\" >\n",
       "        <colgroup></colgroup> <colgroup></colgroup> <colgroup></colgroup>\n",
       "        <colgroup></colgroup> <colgroup></colgroup> <colgroup></colgroup>\n",
       "        \n",
       "        <tbody>\n",
       "            <tr><td style=\"word-wrap: break-word\" class=\"diff_next\" id=\"difflib_chg_to8__1\"><a href=\"#difflib_chg_to8__0\">f</a></td><td style=\"word-wrap: break-word\" class=\"diff_header\" id=\"from8_1\">1</td><td style=\"word-wrap: break-word\" >Dear&nbsp;NOAA&nbsp;Administrator&nbsp;Spinrad&nbsp;and&nbsp;NOAA&nbsp;Fisheries&nbsp;Assistant&nbsp;Administrator&nbsp;Coit:</td><td style=\"word-wrap: break-word\" class=\"diff_next\"><a href=\"#difflib_chg_to8__0\">f</a></td><td style=\"word-wrap: break-word\" class=\"diff_header\" id=\"to8_1\">1</td><td style=\"word-wrap: break-word\" >Dear&nbsp;NOAA&nbsp;Administrator&nbsp;Spinrad&nbsp;and&nbsp;NOAA&nbsp;Fisheries&nbsp;Assistant&nbsp;Administrator&nbsp;Coit:</td></tr>\n",
       "            <tr><td style=\"word-wrap: break-word\" class=\"diff_next\"></td><td style=\"word-wrap: break-word\" class=\"diff_header\" id=\"from8_2\">2</td><td style=\"word-wrap: break-word\" ></td><td style=\"word-wrap: break-word\" class=\"diff_next\"></td><td style=\"word-wrap: break-word\" class=\"diff_header\" id=\"to8_2\">2</td><td style=\"word-wrap: break-word\" ></td></tr>\n",
       "            <tr><td style=\"word-wrap: break-word\" class=\"diff_next\"><a href=\"#difflib_chg_to8__1\">n</a></td><td style=\"word-wrap: break-word\" class=\"diff_header\" id=\"from8_3\">3</td><td style=\"word-wrap: break-word\" ><span class=\"diff_sub\">The&nbsp;United&nbsp;States&nbsp;needs&nbsp;an&nbsp;effective&nbsp;seafood&nbsp;traceability&nbsp;program&nbsp;to&nbsp;intercept&nbsp;the&nbsp;flow&nbsp;of&nbsp;illegal&nbsp;seafood&nbsp;into&nbsp;our&nbsp;markets.&nbsp;Illegal&nbsp;fishing&nbsp;is&nbsp;a&nbsp;top&nbsp;driver&nbsp;of&nbsp;unsustainable&nbsp;and&nbsp;environmentally&nbsp;harmful&nbsp;fishing&nbsp;practices&nbsp;around&nbsp;the&nbsp;globe,&nbsp;as&nbsp;well&nbsp;as&nbsp;associated&nbsp;human&nbsp;rights&nbsp;abuses&nbsp;in&nbsp;the&nbsp;seafood&nbsp;sector.&nbsp;The&nbsp;newly&nbsp;proposed&nbsp;changes&nbsp;to&nbsp;the&nbsp;Seafood&nbsp;Import&nbsp;Monitoring&nbsp;Program&nbsp;do&nbsp;not&nbsp;go&nbsp;far&nbsp;enough&nbsp;to&nbsp;help&nbsp;end&nbsp;the&nbsp;U.S.'s&nbsp;role&nbsp;in&nbsp;perpetuating&nbsp;human&nbsp;rights&nbsp;abuses&nbsp;and&nbsp;environmental&nbsp;destruction&nbsp;in&nbsp;the&nbsp;seafood&nbsp;industry.&nbsp;</span></td><td style=\"word-wrap: break-word\" class=\"diff_next\"><a href=\"#difflib_chg_to8__1\">n</a></td><td style=\"word-wrap: break-word\" class=\"diff_header\" id=\"to8_3\">3</td><td style=\"word-wrap: break-word\" ><span class=\"diff_add\">The&nbsp;United&nbsp;States&nbsp;needs&nbsp;a&nbsp;traceability&nbsp;program&nbsp;that&nbsp;works&nbsp;for&nbsp;seafood.&nbsp;&nbsp;Such&nbsp;a&nbsp;program&nbsp;could&nbsp;interrupt&nbsp;the&nbsp;flow&nbsp;of&nbsp;illegal&nbsp;seafood&nbsp;into&nbsp;our&nbsp;markets.&nbsp;&nbsp;</span></td></tr>\n",
       "            <tr><td style=\"word-wrap: break-word\" class=\"diff_next\"></td><td style=\"word-wrap: break-word\" class=\"diff_header\" id=\"from8_4\">4</td><td style=\"word-wrap: break-word\" ></td><td style=\"word-wrap: break-word\" class=\"diff_next\"></td><td style=\"word-wrap: break-word\" class=\"diff_header\" id=\"to8_4\">4</td><td style=\"word-wrap: break-word\" ></td></tr>\n",
       "            <tr><td style=\"word-wrap: break-word\" class=\"diff_next\"><a href=\"#difflib_chg_to8__2\">n</a></td><td style=\"word-wrap: break-word\" class=\"diff_header\"></td><td style=\"word-wrap: break-word\" ></td><td style=\"word-wrap: break-word\" class=\"diff_next\"><a href=\"#difflib_chg_to8__2\">n</a></td><td style=\"word-wrap: break-word\" class=\"diff_header\" id=\"to8_5\">5</td><td style=\"word-wrap: break-word\" ><span class=\"diff_add\">Illegal&nbsp;fishing&nbsp;is&nbsp;killing&nbsp;the&nbsp;health&nbsp;of&nbsp;our&nbsp;oceans.&nbsp;&nbsp;It&nbsp;is&nbsp;driving&nbsp;unsustainable&nbsp;and&nbsp;environmentally&nbsp;destructive&nbsp;fishing&nbsp;practices&nbsp;around&nbsp;the&nbsp;globe.&nbsp;&nbsp;Moreover,&nbsp;it&nbsp;uses&nbsp;and&nbsp;abuse&nbsp;the&nbsp;human&nbsp;rights&nbsp;of&nbsp;its&nbsp;workers&nbsp;in&nbsp;the&nbsp;seafood&nbsp;sector.&nbsp;&nbsp;The&nbsp;newly&nbsp;proposed&nbsp;changes&nbsp;to&nbsp;the&nbsp;Seafood&nbsp;Import&nbsp;Monitoring&nbsp;Program&nbsp;do&nbsp;not&nbsp;go&nbsp;nearly&nbsp;far&nbsp;enough&nbsp;to&nbsp;help&nbsp;end&nbsp;the&nbsp;U.S.'s&nbsp;role&nbsp;in&nbsp;allowing/encouraging&nbsp;human&nbsp;rights&nbsp;abuses&nbsp;and&nbsp;environmental&nbsp;destruction&nbsp;in&nbsp;the&nbsp;seafood&nbsp;industry.&nbsp;</span></td></tr>\n",
       "            <tr><td style=\"word-wrap: break-word\" class=\"diff_next\" id=\"difflib_chg_to8__2\"></td><td style=\"word-wrap: break-word\" class=\"diff_header\"></td><td style=\"word-wrap: break-word\" ></td><td style=\"word-wrap: break-word\" class=\"diff_next\"></td><td style=\"word-wrap: break-word\" class=\"diff_header\" id=\"to8_6\">6</td><td style=\"word-wrap: break-word\" ><span class=\"diff_add\">&nbsp;</span></td></tr>\n",
       "            <tr><td style=\"word-wrap: break-word\" class=\"diff_next\"></td><td style=\"word-wrap: break-word\" class=\"diff_header\" id=\"from8_5\">5</td><td style=\"word-wrap: break-word\" >Illegal&nbsp;fishing&nbsp;is&nbsp;destroying&nbsp;our&nbsp;oceans.&nbsp;Years&nbsp;of&nbsp;overfishing&nbsp;in&nbsp;nearshore&nbsp;waters&nbsp;have&nbsp;forced&nbsp;boats&nbsp;to&nbsp;go&nbsp;into&nbsp;deeper&nbsp;waters,&nbsp;which&nbsp;makes&nbsp;fishing&nbsp;more&nbsp;expensive.&nbsp;Some&nbsp;fishers&nbsp;will&nbsp;cut&nbsp;costs&nbsp;by&nbsp;fishing&nbsp;with&nbsp;illegal&nbsp;gear,&nbsp;fishing&nbsp;in&nbsp;protected&nbsp;areas,&nbsp;<span class=\"diff_chg\">or&nbsp;ignoring&nbsp;catch</span>&nbsp;limits.&nbsp;To&nbsp;<span class=\"diff_chg\">save&nbsp;on</span>&nbsp;labor&nbsp;costs,&nbsp;some&nbsp;vessel&nbsp;owners&nbsp;rely&nbsp;on&nbsp;human&nbsp;traffickers,&nbsp;some&nbsp;even&nbsp;kidnapping&nbsp;or&nbsp;drugging&nbsp;workers&nbsp;to&nbsp;get&nbsp;them&nbsp;on&nbsp;the&nbsp;ship&nbsp;and&nbsp;cut&nbsp;off&nbsp;from&nbsp;help.&nbsp;Further,&nbsp;the&nbsp;overseas&nbsp;seafood&nbsp;processing&nbsp;industry&nbsp;is&nbsp;heavily&nbsp;reliant&nbsp;on&nbsp;forced&nbsp;labor.&nbsp;&nbsp;</td><td style=\"word-wrap: break-word\" class=\"diff_next\"></td><td style=\"word-wrap: break-word\" class=\"diff_header\" id=\"to8_7\">7</td><td style=\"word-wrap: break-word\" >Illegal&nbsp;fishing&nbsp;is&nbsp;destroying&nbsp;our&nbsp;oceans.&nbsp;Years&nbsp;of&nbsp;overfishing&nbsp;in&nbsp;nearshore&nbsp;waters&nbsp;have&nbsp;forced&nbsp;boats&nbsp;to&nbsp;go&nbsp;into&nbsp;deeper&nbsp;waters,&nbsp;which&nbsp;makes&nbsp;fishing&nbsp;more&nbsp;expensive.&nbsp;Some&nbsp;fishers&nbsp;will&nbsp;cut&nbsp;costs&nbsp;by&nbsp;fishing&nbsp;with&nbsp;illegal&nbsp;gear,&nbsp;fishing&nbsp;in&nbsp;protected&nbsp;areas,&nbsp;<span class=\"diff_chg\">and&nbsp;ignoring&nbsp;catch</span>&nbsp;limits.&nbsp;<span class=\"diff_add\">&nbsp;</span>To&nbsp;<span class=\"diff_chg\">minimize</span>&nbsp;labor&nbsp;costs,&nbsp;some&nbsp;vessel&nbsp;owners&nbsp;rely&nbsp;on&nbsp;human&nbsp;traffickers,&nbsp;some&nbsp;even&nbsp;kidnapping&nbsp;or&nbsp;drugging&nbsp;workers&nbsp;to&nbsp;get&nbsp;them&nbsp;on&nbsp;the&nbsp;ship&nbsp;and&nbsp;cut&nbsp;off&nbsp;from&nbsp;help.&nbsp;<span class=\"diff_add\">&nbsp;</span>Further,&nbsp;the&nbsp;overseas&nbsp;seafood&nbsp;processing&nbsp;industry&nbsp;is&nbsp;heavily&nbsp;reliant&nbsp;on&nbsp;forced&nbsp;labor.&nbsp;&nbsp;</td></tr>\n",
       "            <tr><td style=\"word-wrap: break-word\" class=\"diff_next\" id=\"difflib_chg_to8__3\"></td><td style=\"word-wrap: break-word\" class=\"diff_header\" id=\"from8_6\">6</td><td style=\"word-wrap: break-word\" ></td><td style=\"word-wrap: break-word\" class=\"diff_next\"></td><td style=\"word-wrap: break-word\" class=\"diff_header\" id=\"to8_8\">8</td><td style=\"word-wrap: break-word\" ></td></tr>\n",
       "            <tr><td style=\"word-wrap: break-word\" class=\"diff_next\"></td><td style=\"word-wrap: break-word\" class=\"diff_header\" id=\"from8_7\">7</td><td style=\"word-wrap: break-word\" >The&nbsp;U.S.&nbsp;is&nbsp;one&nbsp;of&nbsp;the&nbsp;largest&nbsp;consumers&nbsp;of&nbsp;seafood.&nbsp;Approximately&nbsp;eighty&nbsp;percent&nbsp;of&nbsp;the&nbsp;seafood&nbsp;sold&nbsp;in&nbsp;the&nbsp;U.S.&nbsp;is&nbsp;imported,&nbsp;and&nbsp;as&nbsp;much&nbsp;as&nbsp;a&nbsp;third&nbsp;of&nbsp;the&nbsp;wild-caught&nbsp;seafood&nbsp;sold&nbsp;in&nbsp;the&nbsp;United&nbsp;States&nbsp;each&nbsp;year&nbsp;is&nbsp;illegal&nbsp;or&nbsp;unreported.&nbsp;&nbsp;</td><td style=\"word-wrap: break-word\" class=\"diff_next\"></td><td style=\"word-wrap: break-word\" class=\"diff_header\" id=\"to8_9\">9</td><td style=\"word-wrap: break-word\" >The&nbsp;U.S.&nbsp;is&nbsp;one&nbsp;of&nbsp;the&nbsp;largest&nbsp;consumers&nbsp;of&nbsp;seafood.&nbsp;Approximately&nbsp;eighty&nbsp;percent&nbsp;of&nbsp;the&nbsp;seafood&nbsp;sold&nbsp;in&nbsp;the&nbsp;U.S.&nbsp;is&nbsp;imported,&nbsp;and&nbsp;as&nbsp;much&nbsp;as&nbsp;a&nbsp;third&nbsp;of&nbsp;the&nbsp;wild-caught&nbsp;seafood&nbsp;sold&nbsp;in&nbsp;the&nbsp;United&nbsp;States&nbsp;each&nbsp;year&nbsp;is&nbsp;illegal&nbsp;or&nbsp;unreported.&nbsp;&nbsp;</td></tr>\n",
       "            <tr><td style=\"word-wrap: break-word\" class=\"diff_next\"></td><td style=\"word-wrap: break-word\" class=\"diff_header\" id=\"from8_8\">8</td><td style=\"word-wrap: break-word\" ></td><td style=\"word-wrap: break-word\" class=\"diff_next\"></td><td style=\"word-wrap: break-word\" class=\"diff_header\" id=\"to8_10\">10</td><td style=\"word-wrap: break-word\" ></td></tr>\n",
       "            <tr><td style=\"word-wrap: break-word\" class=\"diff_next\"><a href=\"#difflib_chg_to8__3\">n</a></td><td style=\"word-wrap: break-word\" class=\"diff_header\" id=\"from8_9\">9</td><td style=\"word-wrap: break-word\" ><span class=\"diff_sub\">The&nbsp;U.S.&nbsp;government&nbsp;has&nbsp;a&nbsp;responsibility&nbsp;to&nbsp;fix&nbsp;these&nbsp;problems,&nbsp;and&nbsp;seafood&nbsp;traceability&nbsp;is&nbsp;an&nbsp;essential&nbsp;step&nbsp;in&nbsp;the&nbsp;fight&nbsp;to&nbsp;end&nbsp;illegal&nbsp;fishing&nbsp;and&nbsp;human&nbsp;rights&nbsp;abuses&nbsp;in&nbsp;the&nbsp;seafood&nbsp;industry.&nbsp;But&nbsp;under&nbsp;NOAA&nbsp;Fisheries’&nbsp;proposed&nbsp;rule,&nbsp;traceability&nbsp;requirements&nbsp;would&nbsp;apply&nbsp;to&nbsp;only&nbsp;half&nbsp;of&nbsp;seafood&nbsp;imports,&nbsp;leaving&nbsp;massive&nbsp;loopholes&nbsp;that&nbsp;are&nbsp;easy&nbsp;for&nbsp;bad&nbsp;actors&nbsp;to&nbsp;exploit.&nbsp;The&nbsp;proposed&nbsp;rule&nbsp;also&nbsp;fails&nbsp;to&nbsp;sufficiently&nbsp;address&nbsp;labor&nbsp;abuses&nbsp;in&nbsp;seafood&nbsp;supply&nbsp;chains,&nbsp;and&nbsp;it&nbsp;includes&nbsp;no&nbsp;commitment&nbsp;to&nbsp;improve&nbsp;enforcement&nbsp;of&nbsp;traceability&nbsp;requirements.&nbsp;</span></td><td style=\"word-wrap: break-word\" class=\"diff_next\"><a href=\"#difflib_chg_to8__3\">n</a></td><td style=\"word-wrap: break-word\" class=\"diff_header\" id=\"to8_11\">11</td><td style=\"word-wrap: break-word\" ><span class=\"diff_add\">The&nbsp;U.S.&nbsp;government&nbsp;has&nbsp;a&nbsp;responsibility&nbsp;to&nbsp;fix&nbsp;these&nbsp;problems.&nbsp;&nbsp;Seafood&nbsp;traceability&nbsp;is&nbsp;an&nbsp;essential&nbsp;step&nbsp;to&nbsp;stopping&nbsp;illegal&nbsp;fishing&nbsp;and&nbsp;human&nbsp;rights&nbsp;abuses&nbsp;in&nbsp;the&nbsp;seafood&nbsp;industry.&nbsp;&nbsp;But&nbsp;under&nbsp;NOAA&nbsp;Fisheries’&nbsp;proposed&nbsp;rule,&nbsp;traceability&nbsp;requirements&nbsp;would&nbsp;apply&nbsp;to&nbsp;only&nbsp;half&nbsp;of&nbsp;seafood&nbsp;imports,&nbsp;leaving&nbsp;massive&nbsp;loopholes&nbsp;that&nbsp;are&nbsp;easy&nbsp;for&nbsp;bad&nbsp;actors&nbsp;to&nbsp;exploit.&nbsp;&nbsp;The&nbsp;proposed&nbsp;rule&nbsp;fails&nbsp;to&nbsp;sufficiently&nbsp;address&nbsp;labor&nbsp;abuses&nbsp;in&nbsp;seafood&nbsp;supply&nbsp;chains.&nbsp;&nbsp;</span></td></tr>\n",
       "            <tr><td style=\"word-wrap: break-word\" class=\"diff_next\"></td><td style=\"word-wrap: break-word\" class=\"diff_header\" id=\"from8_10\">10</td><td style=\"word-wrap: break-word\" ></td><td style=\"word-wrap: break-word\" class=\"diff_next\"></td><td style=\"word-wrap: break-word\" class=\"diff_header\" id=\"to8_12\">12</td><td style=\"word-wrap: break-word\" ></td></tr>\n",
       "            <tr><td style=\"word-wrap: break-word\" class=\"diff_next\"><a href=\"#difflib_chg_to8__top\">t</a></td><td style=\"word-wrap: break-word\" class=\"diff_header\" id=\"from8_11\">11</td><td style=\"word-wrap: break-word\" ><span class=\"diff_sub\">Please&nbsp;revise&nbsp;the&nbsp;Seafood&nbsp;Import&nbsp;Monitoring&nbsp;Program&nbsp;proposed&nbsp;rule&nbsp;to&nbsp;adopt&nbsp;the&nbsp;strongest&nbsp;possible&nbsp;standards&nbsp;for&nbsp;seafood&nbsp;traceability&nbsp;to&nbsp;intercept&nbsp;the&nbsp;flow&nbsp;of&nbsp;illegal&nbsp;seafood&nbsp;into&nbsp;the&nbsp;U.S.&nbsp;and&nbsp;help&nbsp;consumers&nbsp;feel&nbsp;confident&nbsp;the&nbsp;seafood&nbsp;they&nbsp;buy&nbsp;is&nbsp;legally&nbsp;caught&nbsp;and&nbsp;not&nbsp;a&nbsp;product&nbsp;of&nbsp;labor&nbsp;abuses.&nbsp;Thank&nbsp;you&nbsp;for&nbsp;helping&nbsp;to&nbsp;address&nbsp;these&nbsp;environmental&nbsp;and&nbsp;human&nbsp;rights&nbsp;crimes&nbsp;with&nbsp;the&nbsp;seriousness&nbsp;they&nbsp;deserve.</span></td><td style=\"word-wrap: break-word\" class=\"diff_next\"><a href=\"#difflib_chg_to8__top\">t</a></td><td style=\"word-wrap: break-word\" class=\"diff_header\" id=\"to8_13\">13</td><td style=\"word-wrap: break-word\" ><span class=\"diff_add\">Besides,&nbsp;there&nbsp;is&nbsp;no&nbsp;commitment&nbsp;to&nbsp;improve&nbsp;enforcement&nbsp;of&nbsp;traceability&nbsp;requirements.&nbsp;</span></td></tr>\n",
       "            <tr><td style=\"word-wrap: break-word\" class=\"diff_next\"></td><td style=\"word-wrap: break-word\" class=\"diff_header\"></td><td style=\"word-wrap: break-word\" ></td><td style=\"word-wrap: break-word\" class=\"diff_next\"></td><td style=\"word-wrap: break-word\" class=\"diff_header\" id=\"to8_14\">14</td><td style=\"word-wrap: break-word\" ><span class=\"diff_add\">&nbsp;</span></td></tr>\n",
       "            <tr><td style=\"word-wrap: break-word\" class=\"diff_next\"></td><td style=\"word-wrap: break-word\" class=\"diff_header\"></td><td style=\"word-wrap: break-word\" ></td><td style=\"word-wrap: break-word\" class=\"diff_next\"></td><td style=\"word-wrap: break-word\" class=\"diff_header\" id=\"to8_15\">15</td><td style=\"word-wrap: break-word\" ><span class=\"diff_add\">Please,&nbsp;rework&nbsp;the&nbsp;Seafood&nbsp;Import&nbsp;Monitoring&nbsp;Program&nbsp;proposed&nbsp;rule.&nbsp;&nbsp;Make&nbsp;the&nbsp;strongest&nbsp;possible&nbsp;standards&nbsp;for&nbsp;seafood&nbsp;traceability&nbsp;to&nbsp;intercept&nbsp;the&nbsp;flow&nbsp;of&nbsp;illegal&nbsp;seafood&nbsp;into&nbsp;the&nbsp;U.S.&nbsp;&nbsp;Make&nbsp;consumers&nbsp;know&nbsp;that&nbsp;the&nbsp;seafood&nbsp;they&nbsp;buy&nbsp;is&nbsp;legally&nbsp;caught&nbsp;and&nbsp;not&nbsp;a&nbsp;product&nbsp;of&nbsp;labor/human&nbsp;rights&nbsp;abuses.&nbsp;&nbsp;</span></td></tr>\n",
       "            <tr><td style=\"word-wrap: break-word\" class=\"diff_next\"></td><td style=\"word-wrap: break-word\" class=\"diff_header\"></td><td style=\"word-wrap: break-word\" ></td><td style=\"word-wrap: break-word\" class=\"diff_next\"></td><td style=\"word-wrap: break-word\" class=\"diff_header\" id=\"to8_16\">16</td><td style=\"word-wrap: break-word\" ><span class=\"diff_add\">&nbsp;</span></td></tr>\n",
       "            <tr><td style=\"word-wrap: break-word\" class=\"diff_next\"></td><td style=\"word-wrap: break-word\" class=\"diff_header\"></td><td style=\"word-wrap: break-word\" ></td><td style=\"word-wrap: break-word\" class=\"diff_next\"></td><td style=\"word-wrap: break-word\" class=\"diff_header\" id=\"to8_17\">17</td><td style=\"word-wrap: break-word\" ><span class=\"diff_add\">Thank&nbsp;you&nbsp;for&nbsp;helping&nbsp;to&nbsp;address&nbsp;these&nbsp;environmental&nbsp;and&nbsp;human&nbsp;rights&nbsp;crimes&nbsp;with&nbsp;the&nbsp;seriousness&nbsp;they&nbsp;deserve.</span></td></tr>\n",
       "        </tbody>\n",
       "    </table>\n",
       "    <table style=\"table-layout: fixed; width: 100%\" class=\"diff\" summary=\"Legends\">\n",
       "        <tr> <th colspan=\"2\"> Legends </th> </tr>\n",
       "        <tr> <td style=\"word-wrap: break-word\"> <table style=\"table-layout: fixed; width: 100%\" border=\"\" summary=\"Colors\">\n",
       "                      <tr><th> Colors </th> </tr>\n",
       "                      <tr><td style=\"word-wrap: break-word\" class=\"diff_add\">&nbsp;Added&nbsp;</td></tr>\n",
       "                      <tr><td style=\"word-wrap: break-word\" class=\"diff_chg\">Changed</td> </tr>\n",
       "                      <tr><td style=\"word-wrap: break-word\" class=\"diff_sub\">Deleted</td> </tr>\n",
       "                  </table></td>\n",
       "             <td style=\"word-wrap: break-word\"> <table style=\"table-layout: fixed; width: 100%\" border=\"\" summary=\"Links\">\n",
       "                      <tr><th colspan=\"2\"> Links </th> </tr>\n",
       "                      <tr><td style=\"word-wrap: break-word\">(f)irst change</td> </tr>\n",
       "                      <tr><td style=\"word-wrap: break-word\">(n)ext change</td> </tr>\n",
       "                      <tr><td style=\"word-wrap: break-word\">(t)op</td> </tr>\n",
       "                  </table></td> </tr>\n",
       "    </table>\n",
       "</body>\n",
       "\n",
       "</html>"
      ],
      "text/plain": [
       "<IPython.core.display.HTML object>"
      ]
     },
     "metadata": {},
     "output_type": "display_data"
    },
    {
     "data": {
      "text/html": [
       "\n",
       "<!DOCTYPE html PUBLIC \"-//W3C//DTD XHTML 1.0 Transitional//EN\"\n",
       "          \"http://www.w3.org/TR/xhtml1/DTD/xhtml1-transitional.dtd\">\n",
       "\n",
       "<html>\n",
       "\n",
       "<head>\n",
       "    <meta http-equiv=\"Content-Type\"\n",
       "          content=\"text/html; charset=utf-8\" />\n",
       "    <title></title>\n",
       "    <style type=\"text/css\">\n",
       "        table.diff {font-family:Courier; border:medium;}\n",
       "        .diff_header {background-color:#e0e0e0}\n",
       "        td.diff_header {text-align:right; width:1%}\n",
       "        .diff_next {background-color:#c0c0c0; width:1%}\n",
       "        .diff_add {background-color:#aaffaa}\n",
       "        .diff_chg {background-color:#ffff77}\n",
       "        .diff_sub {background-color:#ffaaaa}\n",
       "    </style>\n",
       "</head>\n",
       "\n",
       "<body><hr /><br /><br /> <p>Comments: ['NOAA-NMFS-2022-0119-0986']</p>\n",
       "    \n",
       "    <table style=\"table-layout: fixed; width: 100%\" class=\"diff\" id=\"difflib_chg_to9__top\"\n",
       "           cellspacing=\"0\" cellpadding=\"0\" rules=\"groups\" >\n",
       "        <colgroup></colgroup> <colgroup></colgroup> <colgroup></colgroup>\n",
       "        <colgroup></colgroup> <colgroup></colgroup> <colgroup></colgroup>\n",
       "        \n",
       "        <tbody>\n",
       "            <tr><td style=\"word-wrap: break-word\" class=\"diff_next\" id=\"difflib_chg_to9__1\"><a href=\"#difflib_chg_to9__0\">f</a></td><td style=\"word-wrap: break-word\" class=\"diff_header\" id=\"from9_1\">1</td><td style=\"word-wrap: break-word\" >Dear&nbsp;NOAA&nbsp;Administrator&nbsp;Spinrad&nbsp;and&nbsp;NOAA&nbsp;Fisheries&nbsp;Assistant&nbsp;Administrator&nbsp;Coit:</td><td style=\"word-wrap: break-word\" class=\"diff_next\"><a href=\"#difflib_chg_to9__0\">f</a></td><td style=\"word-wrap: break-word\" class=\"diff_header\" id=\"to9_1\">1</td><td style=\"word-wrap: break-word\" >Dear&nbsp;NOAA&nbsp;Administrator&nbsp;Spinrad&nbsp;and&nbsp;NOAA&nbsp;Fisheries&nbsp;Assistant&nbsp;Administrator&nbsp;Coit:</td></tr>\n",
       "            <tr><td style=\"word-wrap: break-word\" class=\"diff_next\" id=\"difflib_chg_to9__2\"></td><td style=\"word-wrap: break-word\" class=\"diff_header\" id=\"from9_2\">2</td><td style=\"word-wrap: break-word\" ></td><td style=\"word-wrap: break-word\" class=\"diff_next\"></td><td style=\"word-wrap: break-word\" class=\"diff_header\" id=\"to9_2\">2</td><td style=\"word-wrap: break-word\" ></td></tr>\n",
       "            <tr><td style=\"word-wrap: break-word\" class=\"diff_next\"><a href=\"#difflib_chg_to9__1\">n</a></td><td style=\"word-wrap: break-word\" class=\"diff_header\" id=\"from9_3\">3</td><td style=\"word-wrap: break-word\" ><span class=\"diff_sub\">The&nbsp;United&nbsp;States&nbsp;needs&nbsp;an&nbsp;effective&nbsp;seafood&nbsp;traceability&nbsp;program&nbsp;to&nbsp;intercept&nbsp;the&nbsp;flow&nbsp;of&nbsp;illegal&nbsp;seafood&nbsp;into&nbsp;our&nbsp;markets.&nbsp;Illegal&nbsp;fishing&nbsp;is&nbsp;a&nbsp;top&nbsp;driver&nbsp;of&nbsp;unsustainable&nbsp;and&nbsp;environmentally&nbsp;harmful&nbsp;fishing&nbsp;practices&nbsp;around&nbsp;the&nbsp;globe,&nbsp;as&nbsp;well&nbsp;as&nbsp;associated&nbsp;human&nbsp;rights&nbsp;abuses&nbsp;in&nbsp;the&nbsp;seafood&nbsp;sector.&nbsp;The&nbsp;newly&nbsp;proposed&nbsp;changes&nbsp;to&nbsp;the&nbsp;Seafood&nbsp;Import&nbsp;Monitoring&nbsp;Program&nbsp;do&nbsp;not&nbsp;go&nbsp;far&nbsp;enough&nbsp;to&nbsp;help&nbsp;end&nbsp;the&nbsp;U.S.'s&nbsp;role&nbsp;in&nbsp;perpetuating&nbsp;human&nbsp;rights&nbsp;abuses&nbsp;and&nbsp;environmental&nbsp;destruction&nbsp;in&nbsp;the&nbsp;seafood&nbsp;industry.&nbsp;</span></td><td style=\"word-wrap: break-word\" class=\"diff_next\"><a href=\"#difflib_chg_to9__1\">n</a></td><td style=\"word-wrap: break-word\" class=\"diff_header\" id=\"to9_3\">3</td><td style=\"word-wrap: break-word\" ><span class=\"diff_add\">The&nbsp;United&nbsp;States&nbsp;needs&nbsp;an&nbsp;effective&nbsp;**seafood&nbsp;traceability&nbsp;program&nbsp;to&nbsp;INTERCEPT&nbsp;the&nbsp;flow&nbsp;of&nbsp;illegal&nbsp;seafood&nbsp;into&nbsp;our&nbsp;markets.&nbsp;Illegal&nbsp;fishing&nbsp;is&nbsp;a&nbsp;TOP&nbsp;DRIVER&nbsp;of&nbsp;unsustainable&nbsp;and&nbsp;environmentally&nbsp;harmful&nbsp;fishing&nbsp;practices&nbsp;around&nbsp;the&nbsp;globe,&nbsp;as&nbsp;well&nbsp;as&nbsp;**associated&nbsp;human&nbsp;rights&nbsp;abuses&nbsp;in&nbsp;the&nbsp;seafood&nbsp;sector.&nbsp;***The&nbsp;newly&nbsp;proposed&nbsp;changes&nbsp;to&nbsp;the&nbsp;Seafood&nbsp;Import&nbsp;Monitoring&nbsp;Program&nbsp;do&nbsp;not&nbsp;go&nbsp;far&nbsp;enough&nbsp;to&nbsp;help&nbsp;end&nbsp;the&nbsp;U.S.'s&nbsp;role&nbsp;in&nbsp;perpetuating&nbsp;human&nbsp;rights&nbsp;abuses&nbsp;and&nbsp;environmental&nbsp;destruction&nbsp;in&nbsp;the&nbsp;seafood&nbsp;industry.&nbsp;</span></td></tr>\n",
       "            <tr><td style=\"word-wrap: break-word\" class=\"diff_next\" id=\"difflib_chg_to9__3\"></td><td style=\"word-wrap: break-word\" class=\"diff_header\" id=\"from9_4\">4</td><td style=\"word-wrap: break-word\" ></td><td style=\"word-wrap: break-word\" class=\"diff_next\"></td><td style=\"word-wrap: break-word\" class=\"diff_header\" id=\"to9_4\">4</td><td style=\"word-wrap: break-word\" ></td></tr>\n",
       "            <tr><td style=\"word-wrap: break-word\" class=\"diff_next\"><a href=\"#difflib_chg_to9__2\">n</a></td><td style=\"word-wrap: break-word\" class=\"diff_header\" id=\"from9_5\">5</td><td style=\"word-wrap: break-word\" >Illegal&nbsp;fishing&nbsp;is&nbsp;destroying&nbsp;our&nbsp;oceans.&nbsp;Years&nbsp;of&nbsp;overfishing&nbsp;in&nbsp;nearshore&nbsp;waters&nbsp;have&nbsp;forced&nbsp;boats&nbsp;to&nbsp;go&nbsp;into&nbsp;deeper&nbsp;waters,&nbsp;which&nbsp;makes&nbsp;fishing&nbsp;more&nbsp;expensive.&nbsp;Some&nbsp;fishers&nbsp;will&nbsp;cut&nbsp;costs&nbsp;by&nbsp;fishing&nbsp;with&nbsp;illegal&nbsp;gear,&nbsp;fishing&nbsp;in&nbsp;protected&nbsp;areas,&nbsp;or&nbsp;ignoring&nbsp;catch&nbsp;limits.&nbsp;To&nbsp;save&nbsp;on&nbsp;labor&nbsp;costs,&nbsp;some&nbsp;vessel&nbsp;owners&nbsp;rely&nbsp;on&nbsp;human&nbsp;traffickers,&nbsp;some&nbsp;even&nbsp;kidnapping&nbsp;or&nbsp;drugging&nbsp;workers&nbsp;to&nbsp;get&nbsp;them&nbsp;on&nbsp;the&nbsp;ship&nbsp;and&nbsp;cut&nbsp;off&nbsp;from&nbsp;help.&nbsp;Further,&nbsp;the&nbsp;<span class=\"diff_chg\">overseas&nbsp;seafood&nbsp;processing</span>&nbsp;industry&nbsp;is&nbsp;heavily&nbsp;reliant&nbsp;on&nbsp;forced&nbsp;labor.&nbsp;&nbsp;</td><td style=\"word-wrap: break-word\" class=\"diff_next\"><a href=\"#difflib_chg_to9__2\">n</a></td><td style=\"word-wrap: break-word\" class=\"diff_header\" id=\"to9_5\">5</td><td style=\"word-wrap: break-word\" >Illegal&nbsp;fishing&nbsp;is&nbsp;destroying&nbsp;our&nbsp;oceans.&nbsp;Years&nbsp;of&nbsp;overfishing&nbsp;in&nbsp;nearshore&nbsp;waters&nbsp;have&nbsp;forced&nbsp;boats&nbsp;to&nbsp;go&nbsp;into&nbsp;deeper&nbsp;waters,&nbsp;which&nbsp;makes&nbsp;fishing&nbsp;more&nbsp;expensive.&nbsp;<span class=\"diff_add\">**</span>Some&nbsp;fishers&nbsp;will&nbsp;cut&nbsp;costs&nbsp;by&nbsp;fishing&nbsp;with&nbsp;illegal&nbsp;gear,&nbsp;fishing&nbsp;in&nbsp;protected&nbsp;areas,&nbsp;or&nbsp;ignoring&nbsp;catch&nbsp;limits.&nbsp;To&nbsp;save&nbsp;on&nbsp;labor&nbsp;costs,&nbsp;some&nbsp;vessel&nbsp;owners&nbsp;rely&nbsp;on&nbsp;human&nbsp;traffickers,&nbsp;some&nbsp;even&nbsp;kidnapping&nbsp;or&nbsp;drugging&nbsp;workers&nbsp;to&nbsp;get&nbsp;them&nbsp;on&nbsp;the&nbsp;ship&nbsp;and&nbsp;cut&nbsp;off&nbsp;from&nbsp;help.&nbsp;Further,&nbsp;the&nbsp;<span class=\"diff_chg\">**overseas&nbsp;seafood&nbsp;processing</span>&nbsp;industry&nbsp;is&nbsp;heavily&nbsp;reliant&nbsp;on&nbsp;forced&nbsp;labor.&nbsp;&nbsp;</td></tr>\n",
       "            <tr><td style=\"word-wrap: break-word\" class=\"diff_next\" id=\"difflib_chg_to9__4\"></td><td style=\"word-wrap: break-word\" class=\"diff_header\" id=\"from9_6\">6</td><td style=\"word-wrap: break-word\" ></td><td style=\"word-wrap: break-word\" class=\"diff_next\"></td><td style=\"word-wrap: break-word\" class=\"diff_header\" id=\"to9_6\">6</td><td style=\"word-wrap: break-word\" ></td></tr>\n",
       "            <tr><td style=\"word-wrap: break-word\" class=\"diff_next\"><a href=\"#difflib_chg_to9__3\">n</a></td><td style=\"word-wrap: break-word\" class=\"diff_header\" id=\"from9_7\">7</td><td style=\"word-wrap: break-word\" ><span class=\"diff_sub\">The&nbsp;U.S.&nbsp;is&nbsp;one&nbsp;of&nbsp;the&nbsp;largest&nbsp;consumers&nbsp;of&nbsp;seafood.&nbsp;Approximately&nbsp;eighty&nbsp;percent&nbsp;of&nbsp;the&nbsp;seafood&nbsp;sold&nbsp;in&nbsp;the&nbsp;U.S.&nbsp;is&nbsp;imported,&nbsp;and&nbsp;as&nbsp;much&nbsp;as&nbsp;a&nbsp;third&nbsp;of&nbsp;the&nbsp;wild-caught&nbsp;seafood&nbsp;sold&nbsp;in&nbsp;the&nbsp;United&nbsp;States&nbsp;each&nbsp;year&nbsp;is&nbsp;illegal&nbsp;or&nbsp;unreported.&nbsp;&nbsp;</span></td><td style=\"word-wrap: break-word\" class=\"diff_next\"><a href=\"#difflib_chg_to9__3\">n</a></td><td style=\"word-wrap: break-word\" class=\"diff_header\" id=\"to9_7\">7</td><td style=\"word-wrap: break-word\" ><span class=\"diff_add\">***The&nbsp;U.S.&nbsp;is&nbsp;one&nbsp;of&nbsp;the&nbsp;largest&nbsp;consumers&nbsp;of&nbsp;seafood.&nbsp;Approximately&nbsp;eighty&nbsp;percent&nbsp;of&nbsp;the&nbsp;seafood&nbsp;sold&nbsp;in&nbsp;the&nbsp;U.S.&nbsp;is&nbsp;imported,&nbsp;and&nbsp;AS&nbsp;MUCH&nbsp;AS&nbsp;A&nbsp;THIRD&nbsp;of&nbsp;the&nbsp;wild-caught&nbsp;seafood&nbsp;sold&nbsp;in&nbsp;the&nbsp;United&nbsp;States&nbsp;each&nbsp;year&nbsp;is&nbsp;illegal&nbsp;or&nbsp;unreported.&nbsp;&nbsp;</span></td></tr>\n",
       "            <tr><td style=\"word-wrap: break-word\" class=\"diff_next\"></td><td style=\"word-wrap: break-word\" class=\"diff_header\" id=\"from9_8\">8</td><td style=\"word-wrap: break-word\" ></td><td style=\"word-wrap: break-word\" class=\"diff_next\"></td><td style=\"word-wrap: break-word\" class=\"diff_header\" id=\"to9_8\">8</td><td style=\"word-wrap: break-word\" ></td></tr>\n",
       "            <tr><td style=\"word-wrap: break-word\" class=\"diff_next\"><a href=\"#difflib_chg_to9__4\">n</a></td><td style=\"word-wrap: break-word\" class=\"diff_header\" id=\"from9_9\">9</td><td style=\"word-wrap: break-word\" ><span class=\"diff_sub\">The&nbsp;U.S.&nbsp;government&nbsp;has&nbsp;a&nbsp;responsibility&nbsp;to&nbsp;fix&nbsp;these&nbsp;problems,&nbsp;and&nbsp;seafood&nbsp;traceability&nbsp;is&nbsp;an&nbsp;essential&nbsp;step&nbsp;in&nbsp;the&nbsp;fight&nbsp;to&nbsp;end&nbsp;illegal&nbsp;fishing&nbsp;and&nbsp;human&nbsp;rights&nbsp;abuses&nbsp;in&nbsp;the&nbsp;seafood&nbsp;industry.&nbsp;But&nbsp;under&nbsp;NOAA&nbsp;Fisheries’&nbsp;proposed&nbsp;rule,&nbsp;traceability&nbsp;requirements&nbsp;would&nbsp;apply&nbsp;to&nbsp;only&nbsp;half&nbsp;of&nbsp;seafood&nbsp;imports,&nbsp;leaving&nbsp;massive&nbsp;loopholes&nbsp;that&nbsp;are&nbsp;easy&nbsp;for&nbsp;bad&nbsp;actors&nbsp;to&nbsp;exploit.&nbsp;The&nbsp;proposed&nbsp;rule&nbsp;also&nbsp;fails&nbsp;to&nbsp;sufficiently&nbsp;address&nbsp;labor&nbsp;abuses&nbsp;in&nbsp;seafood&nbsp;supply&nbsp;chains,&nbsp;and&nbsp;it&nbsp;includes&nbsp;no&nbsp;commitment&nbsp;to&nbsp;improve&nbsp;enforcement&nbsp;of&nbsp;traceability&nbsp;requirements.&nbsp;</span></td><td style=\"word-wrap: break-word\" class=\"diff_next\"><a href=\"#difflib_chg_to9__4\">n</a></td><td style=\"word-wrap: break-word\" class=\"diff_header\" id=\"to9_9\">9</td><td style=\"word-wrap: break-word\" ><span class=\"diff_add\">The&nbsp;U.S.&nbsp;government&nbsp;has&nbsp;a&nbsp;responsibility&nbsp;to&nbsp;fix&nbsp;these&nbsp;problems,&nbsp;and&nbsp;SEAFOOD&nbsp;TRACEABILITY&nbsp;&nbsp;is&nbsp;an&nbsp;essential&nbsp;step&nbsp;in&nbsp;the&nbsp;fight&nbsp;to&nbsp;end&nbsp;illegal&nbsp;fishing&nbsp;and&nbsp;human&nbsp;rights&nbsp;abuses&nbsp;in&nbsp;the&nbsp;seafood&nbsp;industry.&nbsp;But&nbsp;under&nbsp;NOAA&nbsp;Fisheries’&nbsp;proposed&nbsp;rule,&nbsp;traceability&nbsp;requirements&nbsp;would&nbsp;apply&nbsp;to&nbsp;only&nbsp;half&nbsp;of&nbsp;seafood&nbsp;imports,&nbsp;leaving&nbsp;massive&nbsp;LOOPHOLES&nbsp;that&nbsp;are&nbsp;easy&nbsp;for&nbsp;bad&nbsp;actors&nbsp;to&nbsp;exploit.&nbsp;The&nbsp;proposed&nbsp;rule&nbsp;also&nbsp;fails&nbsp;to&nbsp;sufficiently&nbsp;address&nbsp;LABOR&nbsp;ABUSES&nbsp;in&nbsp;seafood&nbsp;supply&nbsp;chains,&nbsp;and&nbsp;it&nbsp;includes&nbsp;no&nbsp;commitment&nbsp;to&nbsp;improve&nbsp;enforcement&nbsp;of&nbsp;traceability&nbsp;requirements.&nbsp;</span></td></tr>\n",
       "            <tr><td style=\"word-wrap: break-word\" class=\"diff_next\"></td><td style=\"word-wrap: break-word\" class=\"diff_header\" id=\"from9_10\">10</td><td style=\"word-wrap: break-word\" ></td><td style=\"word-wrap: break-word\" class=\"diff_next\"></td><td style=\"word-wrap: break-word\" class=\"diff_header\" id=\"to9_10\">10</td><td style=\"word-wrap: break-word\" ></td></tr>\n",
       "            <tr><td style=\"word-wrap: break-word\" class=\"diff_next\"><a href=\"#difflib_chg_to9__top\">t</a></td><td style=\"word-wrap: break-word\" class=\"diff_header\" id=\"from9_11\">11</td><td style=\"word-wrap: break-word\" ><span class=\"diff_sub\">Please&nbsp;revise&nbsp;the&nbsp;Seafood&nbsp;Import&nbsp;Monitoring&nbsp;Program&nbsp;proposed&nbsp;rule&nbsp;to&nbsp;adopt&nbsp;the&nbsp;strongest&nbsp;possible&nbsp;standards&nbsp;for&nbsp;seafood&nbsp;traceability&nbsp;to&nbsp;intercept&nbsp;the&nbsp;flow&nbsp;of&nbsp;illegal&nbsp;seafood&nbsp;into&nbsp;the&nbsp;U.S.&nbsp;and&nbsp;help&nbsp;consumers&nbsp;feel&nbsp;confident&nbsp;the&nbsp;seafood&nbsp;they&nbsp;buy&nbsp;is&nbsp;legally&nbsp;caught&nbsp;and&nbsp;not&nbsp;a&nbsp;product&nbsp;of&nbsp;labor&nbsp;abuses.&nbsp;Thank&nbsp;you&nbsp;for&nbsp;helping&nbsp;to&nbsp;address&nbsp;these&nbsp;environmental&nbsp;and&nbsp;human&nbsp;rights&nbsp;crimes&nbsp;with&nbsp;the&nbsp;seriousness&nbsp;they&nbsp;deserve.</span></td><td style=\"word-wrap: break-word\" class=\"diff_next\"><a href=\"#difflib_chg_to9__top\">t</a></td><td style=\"word-wrap: break-word\" class=\"diff_header\" id=\"to9_11\">11</td><td style=\"word-wrap: break-word\" ><span class=\"diff_add\">Please&nbsp;REVISE&nbsp;the&nbsp;Seafood&nbsp;Import&nbsp;Monitoring&nbsp;Program&nbsp;proposed&nbsp;rule&nbsp;to&nbsp;adopt&nbsp;the&nbsp;strongest&nbsp;possible&nbsp;standards&nbsp;for&nbsp;seafood&nbsp;traceability&nbsp;to&nbsp;intercept&nbsp;the&nbsp;flow&nbsp;of&nbsp;illegal&nbsp;seafood&nbsp;into&nbsp;the&nbsp;U.S.&nbsp;and&nbsp;help&nbsp;consumers&nbsp;feel&nbsp;confident&nbsp;the&nbsp;seafood&nbsp;they&nbsp;buy&nbsp;is&nbsp;legally&nbsp;caught&nbsp;and&nbsp;not&nbsp;a&nbsp;product&nbsp;of&nbsp;labor&nbsp;abuses.&nbsp;THANK&nbsp;YOU&nbsp;for&nbsp;helping&nbsp;to&nbsp;address&nbsp;these&nbsp;environmental&nbsp;and&nbsp;human&nbsp;rights&nbsp;crimes&nbsp;with&nbsp;the&nbsp;seriousness&nbsp;they&nbsp;deserve.</span></td></tr>\n",
       "        </tbody>\n",
       "    </table>\n",
       "    <table style=\"table-layout: fixed; width: 100%\" class=\"diff\" summary=\"Legends\">\n",
       "        <tr> <th colspan=\"2\"> Legends </th> </tr>\n",
       "        <tr> <td style=\"word-wrap: break-word\"> <table style=\"table-layout: fixed; width: 100%\" border=\"\" summary=\"Colors\">\n",
       "                      <tr><th> Colors </th> </tr>\n",
       "                      <tr><td style=\"word-wrap: break-word\" class=\"diff_add\">&nbsp;Added&nbsp;</td></tr>\n",
       "                      <tr><td style=\"word-wrap: break-word\" class=\"diff_chg\">Changed</td> </tr>\n",
       "                      <tr><td style=\"word-wrap: break-word\" class=\"diff_sub\">Deleted</td> </tr>\n",
       "                  </table></td>\n",
       "             <td style=\"word-wrap: break-word\"> <table style=\"table-layout: fixed; width: 100%\" border=\"\" summary=\"Links\">\n",
       "                      <tr><th colspan=\"2\"> Links </th> </tr>\n",
       "                      <tr><td style=\"word-wrap: break-word\">(f)irst change</td> </tr>\n",
       "                      <tr><td style=\"word-wrap: break-word\">(n)ext change</td> </tr>\n",
       "                      <tr><td style=\"word-wrap: break-word\">(t)op</td> </tr>\n",
       "                  </table></td> </tr>\n",
       "    </table>\n",
       "</body>\n",
       "\n",
       "</html>"
      ],
      "text/plain": [
       "<IPython.core.display.HTML object>"
      ]
     },
     "metadata": {},
     "output_type": "display_data"
    },
    {
     "data": {
      "text/html": [
       "\n",
       "<!DOCTYPE html PUBLIC \"-//W3C//DTD XHTML 1.0 Transitional//EN\"\n",
       "          \"http://www.w3.org/TR/xhtml1/DTD/xhtml1-transitional.dtd\">\n",
       "\n",
       "<html>\n",
       "\n",
       "<head>\n",
       "    <meta http-equiv=\"Content-Type\"\n",
       "          content=\"text/html; charset=utf-8\" />\n",
       "    <title></title>\n",
       "    <style type=\"text/css\">\n",
       "        table.diff {font-family:Courier; border:medium;}\n",
       "        .diff_header {background-color:#e0e0e0}\n",
       "        td.diff_header {text-align:right; width:1%}\n",
       "        .diff_next {background-color:#c0c0c0; width:1%}\n",
       "        .diff_add {background-color:#aaffaa}\n",
       "        .diff_chg {background-color:#ffff77}\n",
       "        .diff_sub {background-color:#ffaaaa}\n",
       "    </style>\n",
       "</head>\n",
       "\n",
       "<body><hr /><br /><br /> <p>Comments: ['NOAA-NMFS-2022-0119-1575']</p>\n",
       "    \n",
       "    <table style=\"table-layout: fixed; width: 100%\" class=\"diff\" id=\"difflib_chg_to10__top\"\n",
       "           cellspacing=\"0\" cellpadding=\"0\" rules=\"groups\" >\n",
       "        <colgroup></colgroup> <colgroup></colgroup> <colgroup></colgroup>\n",
       "        <colgroup></colgroup> <colgroup></colgroup> <colgroup></colgroup>\n",
       "        \n",
       "        <tbody>\n",
       "            <tr><td style=\"word-wrap: break-word\" class=\"diff_next\" id=\"difflib_chg_to10__1\"><a href=\"#difflib_chg_to10__0\">f</a></td><td style=\"word-wrap: break-word\" class=\"diff_header\" id=\"from10_1\">1</td><td style=\"word-wrap: break-word\" >Dear&nbsp;NOAA&nbsp;Administrator&nbsp;Spinrad&nbsp;and&nbsp;NOAA&nbsp;Fisheries&nbsp;Assistant&nbsp;Administrator&nbsp;Coit:</td><td style=\"word-wrap: break-word\" class=\"diff_next\"><a href=\"#difflib_chg_to10__0\">f</a></td><td style=\"word-wrap: break-word\" class=\"diff_header\" id=\"to10_1\">1</td><td style=\"word-wrap: break-word\" >Dear&nbsp;NOAA&nbsp;Administrator&nbsp;Spinrad&nbsp;and&nbsp;NOAA&nbsp;Fisheries&nbsp;Assistant&nbsp;Administrator&nbsp;Coit:</td></tr>\n",
       "            <tr><td style=\"word-wrap: break-word\" class=\"diff_next\" id=\"difflib_chg_to10__2\"></td><td style=\"word-wrap: break-word\" class=\"diff_header\" id=\"from10_2\">2</td><td style=\"word-wrap: break-word\" ></td><td style=\"word-wrap: break-word\" class=\"diff_next\"></td><td style=\"word-wrap: break-word\" class=\"diff_header\" id=\"to10_2\">2</td><td style=\"word-wrap: break-word\" ></td></tr>\n",
       "            <tr><td style=\"word-wrap: break-word\" class=\"diff_next\"><a href=\"#difflib_chg_to10__1\">n</a></td><td style=\"word-wrap: break-word\" class=\"diff_header\" id=\"from10_3\">3</td><td style=\"word-wrap: break-word\" ><span class=\"diff_sub\">The&nbsp;United&nbsp;States&nbsp;needs&nbsp;an&nbsp;effective&nbsp;seafood&nbsp;traceability&nbsp;program&nbsp;to&nbsp;intercept&nbsp;the&nbsp;flow&nbsp;of&nbsp;illegal&nbsp;seafood&nbsp;into&nbsp;our&nbsp;markets.&nbsp;Illegal&nbsp;fishing&nbsp;is&nbsp;a&nbsp;top&nbsp;driver&nbsp;of&nbsp;unsustainable&nbsp;and&nbsp;environmentally&nbsp;harmful&nbsp;fishing&nbsp;practices&nbsp;around&nbsp;the&nbsp;globe,&nbsp;as&nbsp;well&nbsp;as&nbsp;associated&nbsp;human&nbsp;rights&nbsp;abuses&nbsp;in&nbsp;the&nbsp;seafood&nbsp;sector.&nbsp;The&nbsp;newly&nbsp;proposed&nbsp;changes&nbsp;to&nbsp;the&nbsp;Seafood&nbsp;Import&nbsp;Monitoring&nbsp;Program&nbsp;do&nbsp;not&nbsp;go&nbsp;far&nbsp;enough&nbsp;to&nbsp;help&nbsp;end&nbsp;the&nbsp;U.S.'s&nbsp;role&nbsp;in&nbsp;perpetuating&nbsp;human&nbsp;rights&nbsp;abuses&nbsp;and&nbsp;environmental&nbsp;destruction&nbsp;in&nbsp;the&nbsp;seafood&nbsp;industry.&nbsp;</span></td><td style=\"word-wrap: break-word\" class=\"diff_next\"><a href=\"#difflib_chg_to10__1\">n</a></td><td style=\"word-wrap: break-word\" class=\"diff_header\" id=\"to10_3\">3</td><td style=\"word-wrap: break-word\" ><span class=\"diff_add\">The&nbsp;United&nbsp;States&nbsp;needs&nbsp;an&nbsp;effective&nbsp;seafood&nbsp;traceability&nbsp;program&nbsp;to&nbsp;intercept&nbsp;the&nbsp;flow&nbsp;of&nbsp;illegal&nbsp;seafood&nbsp;into&nbsp;our&nbsp;markets.&nbsp;</span></td></tr>\n",
       "            <tr><td style=\"word-wrap: break-word\" class=\"diff_next\" id=\"difflib_chg_to10__3\"></td><td style=\"word-wrap: break-word\" class=\"diff_header\" id=\"from10_4\">4</td><td style=\"word-wrap: break-word\" ></td><td style=\"word-wrap: break-word\" class=\"diff_next\"></td><td style=\"word-wrap: break-word\" class=\"diff_header\" id=\"to10_4\">4</td><td style=\"word-wrap: break-word\" ></td></tr>\n",
       "            <tr><td style=\"word-wrap: break-word\" class=\"diff_next\"><a href=\"#difflib_chg_to10__2\">n</a></td><td style=\"word-wrap: break-word\" class=\"diff_header\" id=\"from10_5\">5</td><td style=\"word-wrap: break-word\" ><span class=\"diff_sub\">Illegal&nbsp;fishing&nbsp;is&nbsp;destroying&nbsp;our&nbsp;oceans.&nbsp;Years&nbsp;of&nbsp;overfishing&nbsp;in&nbsp;nearshore&nbsp;waters&nbsp;have&nbsp;forced&nbsp;boats&nbsp;to&nbsp;go&nbsp;into&nbsp;deeper&nbsp;waters,&nbsp;which&nbsp;makes&nbsp;fishing&nbsp;more&nbsp;expensive.&nbsp;Some&nbsp;fishers&nbsp;will&nbsp;cut&nbsp;costs&nbsp;by&nbsp;fishing&nbsp;with&nbsp;illegal&nbsp;gear,&nbsp;fishing&nbsp;in&nbsp;protected&nbsp;areas,&nbsp;or&nbsp;ignoring&nbsp;catch&nbsp;limits.&nbsp;To&nbsp;save&nbsp;on&nbsp;labor&nbsp;costs,&nbsp;some&nbsp;vessel&nbsp;owners&nbsp;rely&nbsp;on&nbsp;human&nbsp;traffickers,&nbsp;some&nbsp;even&nbsp;kidnapping&nbsp;or&nbsp;drugging&nbsp;workers&nbsp;to&nbsp;get&nbsp;them&nbsp;on&nbsp;the&nbsp;ship&nbsp;and&nbsp;cut&nbsp;off&nbsp;from&nbsp;help.&nbsp;Further,&nbsp;the&nbsp;overseas&nbsp;seafood&nbsp;processing&nbsp;industry&nbsp;is&nbsp;heavily&nbsp;reliant&nbsp;on&nbsp;forced&nbsp;labor.&nbsp;&nbsp;</span></td><td style=\"word-wrap: break-word\" class=\"diff_next\"><a href=\"#difflib_chg_to10__2\">n</a></td><td style=\"word-wrap: break-word\" class=\"diff_header\" id=\"to10_5\">5</td><td style=\"word-wrap: break-word\" ><span class=\"diff_add\">Illegal&nbsp;fishing&nbsp;is&nbsp;a&nbsp;top&nbsp;driver&nbsp;of&nbsp;unsustainable&nbsp;and&nbsp;environmentally&nbsp;harmful&nbsp;fishing&nbsp;practices&nbsp;around&nbsp;the&nbsp;globe,&nbsp;as&nbsp;well&nbsp;as&nbsp;associated&nbsp;human&nbsp;rights&nbsp;abuses&nbsp;in&nbsp;the&nbsp;seafood&nbsp;sector.&nbsp;</span></td></tr>\n",
       "            <tr><td style=\"word-wrap: break-word\" class=\"diff_next\" id=\"difflib_chg_to10__4\"></td><td style=\"word-wrap: break-word\" class=\"diff_header\" id=\"from10_6\">6</td><td style=\"word-wrap: break-word\" ></td><td style=\"word-wrap: break-word\" class=\"diff_next\"></td><td style=\"word-wrap: break-word\" class=\"diff_header\" id=\"to10_6\">6</td><td style=\"word-wrap: break-word\" ></td></tr>\n",
       "            <tr><td style=\"word-wrap: break-word\" class=\"diff_next\"><a href=\"#difflib_chg_to10__3\">n</a></td><td style=\"word-wrap: break-word\" class=\"diff_header\" id=\"from10_7\">7</td><td style=\"word-wrap: break-word\" ><span class=\"diff_sub\">The&nbsp;U.S.&nbsp;is&nbsp;one&nbsp;of&nbsp;the&nbsp;largest&nbsp;consumers&nbsp;of&nbsp;seafood.&nbsp;Approximately&nbsp;eighty&nbsp;percent&nbsp;of&nbsp;the&nbsp;seafood&nbsp;sold&nbsp;in&nbsp;the&nbsp;U.S.&nbsp;is&nbsp;imported,&nbsp;and&nbsp;as&nbsp;much&nbsp;as&nbsp;a&nbsp;third&nbsp;of&nbsp;the&nbsp;wild-caught&nbsp;seafood&nbsp;sold&nbsp;in&nbsp;the&nbsp;United&nbsp;States&nbsp;each&nbsp;year&nbsp;is&nbsp;illegal&nbsp;or&nbsp;unreported.&nbsp;&nbsp;</span></td><td style=\"word-wrap: break-word\" class=\"diff_next\"><a href=\"#difflib_chg_to10__3\">n</a></td><td style=\"word-wrap: break-word\" class=\"diff_header\" id=\"to10_7\">7</td><td style=\"word-wrap: break-word\" ><span class=\"diff_add\">The&nbsp;newly&nbsp;proposed&nbsp;changes&nbsp;to&nbsp;the&nbsp;Seafood&nbsp;Import&nbsp;Monitoring&nbsp;Program&nbsp;do&nbsp;not&nbsp;go&nbsp;far&nbsp;enough&nbsp;to&nbsp;help&nbsp;end&nbsp;the&nbsp;U.S.'s&nbsp;role&nbsp;in&nbsp;perpetuating&nbsp;human&nbsp;rights&nbsp;abuses&nbsp;and&nbsp;environmental&nbsp;destruction&nbsp;in&nbsp;the&nbsp;seafood&nbsp;industry.&nbsp;</span></td></tr>\n",
       "            <tr><td style=\"word-wrap: break-word\" class=\"diff_next\"></td><td style=\"word-wrap: break-word\" class=\"diff_header\" id=\"from10_8\">8</td><td style=\"word-wrap: break-word\" ></td><td style=\"word-wrap: break-word\" class=\"diff_next\"></td><td style=\"word-wrap: break-word\" class=\"diff_header\" id=\"to10_8\">8</td><td style=\"word-wrap: break-word\" ></td></tr>\n",
       "            <tr><td style=\"word-wrap: break-word\" class=\"diff_next\"><a href=\"#difflib_chg_to10__4\">n</a></td><td style=\"word-wrap: break-word\" class=\"diff_header\" id=\"from10_9\">9</td><td style=\"word-wrap: break-word\" ><span class=\"diff_sub\">The&nbsp;U.S.&nbsp;government&nbsp;has&nbsp;a&nbsp;responsibility&nbsp;to&nbsp;fix&nbsp;these&nbsp;problems,&nbsp;and&nbsp;seafood&nbsp;traceability&nbsp;is&nbsp;an&nbsp;essential&nbsp;step&nbsp;in&nbsp;the&nbsp;fight&nbsp;to&nbsp;end&nbsp;illegal&nbsp;fishing&nbsp;and&nbsp;human&nbsp;rights&nbsp;abuses&nbsp;in&nbsp;the&nbsp;seafood&nbsp;industry.&nbsp;But&nbsp;under&nbsp;NOAA&nbsp;Fisheries’&nbsp;proposed&nbsp;rule,&nbsp;traceability&nbsp;requirements&nbsp;would&nbsp;apply&nbsp;to&nbsp;only&nbsp;half&nbsp;of&nbsp;seafood&nbsp;imports,&nbsp;leaving&nbsp;massive&nbsp;loopholes&nbsp;that&nbsp;are&nbsp;easy&nbsp;for&nbsp;bad&nbsp;actors&nbsp;to&nbsp;exploit.&nbsp;The&nbsp;proposed&nbsp;rule&nbsp;also&nbsp;fails&nbsp;to&nbsp;sufficiently&nbsp;address&nbsp;labor&nbsp;abuses&nbsp;in&nbsp;seafood&nbsp;supply&nbsp;chains,&nbsp;and&nbsp;it&nbsp;includes&nbsp;no&nbsp;commitment&nbsp;to&nbsp;improve&nbsp;enforcement&nbsp;of&nbsp;traceability&nbsp;requirements.&nbsp;</span></td><td style=\"word-wrap: break-word\" class=\"diff_next\"><a href=\"#difflib_chg_to10__4\">n</a></td><td style=\"word-wrap: break-word\" class=\"diff_header\" id=\"to10_9\">9</td><td style=\"word-wrap: break-word\" ><span class=\"diff_add\">Illegal&nbsp;fishing&nbsp;is&nbsp;destroying&nbsp;our&nbsp;oceans.&nbsp;Years&nbsp;of&nbsp;overfishing&nbsp;in&nbsp;nearshore&nbsp;waters&nbsp;have&nbsp;forced&nbsp;boats&nbsp;to&nbsp;go&nbsp;into&nbsp;deeper&nbsp;waters,&nbsp;which&nbsp;makes&nbsp;fishing&nbsp;more&nbsp;expensive.&nbsp;Some&nbsp;fishers&nbsp;will&nbsp;cut&nbsp;costs&nbsp;by&nbsp;fishing&nbsp;with&nbsp;illegal&nbsp;gear,&nbsp;fishing&nbsp;in&nbsp;protected&nbsp;areas,&nbsp;or&nbsp;ignoring&nbsp;catch&nbsp;limits.&nbsp;</span></td></tr>\n",
       "            <tr><td style=\"word-wrap: break-word\" class=\"diff_next\"></td><td style=\"word-wrap: break-word\" class=\"diff_header\" id=\"from10_10\">10</td><td style=\"word-wrap: break-word\" ></td><td style=\"word-wrap: break-word\" class=\"diff_next\"></td><td style=\"word-wrap: break-word\" class=\"diff_header\" id=\"to10_10\">10</td><td style=\"word-wrap: break-word\" ></td></tr>\n",
       "            <tr><td style=\"word-wrap: break-word\" class=\"diff_next\"><a href=\"#difflib_chg_to10__top\">t</a></td><td style=\"word-wrap: break-word\" class=\"diff_header\" id=\"from10_11\">11</td><td style=\"word-wrap: break-word\" ><span class=\"diff_sub\">Please&nbsp;revise&nbsp;the&nbsp;Seafood&nbsp;Import&nbsp;Monitoring&nbsp;Program&nbsp;proposed&nbsp;rule&nbsp;to&nbsp;adopt&nbsp;the&nbsp;strongest&nbsp;possible&nbsp;standards&nbsp;for&nbsp;seafood&nbsp;traceability&nbsp;to&nbsp;intercept&nbsp;the&nbsp;flow&nbsp;of&nbsp;illegal&nbsp;seafood&nbsp;into&nbsp;the&nbsp;U.S.&nbsp;and&nbsp;help&nbsp;consumers&nbsp;feel&nbsp;confident&nbsp;the&nbsp;seafood&nbsp;they&nbsp;buy&nbsp;is&nbsp;legally&nbsp;caught&nbsp;and&nbsp;not&nbsp;a&nbsp;product&nbsp;of&nbsp;labor&nbsp;abuses.&nbsp;Thank&nbsp;you&nbsp;for&nbsp;helping&nbsp;to&nbsp;address&nbsp;these&nbsp;environmental&nbsp;and&nbsp;human&nbsp;rights&nbsp;crimes&nbsp;with&nbsp;the&nbsp;seriousness&nbsp;they&nbsp;deserve.</span></td><td style=\"word-wrap: break-word\" class=\"diff_next\"><a href=\"#difflib_chg_to10__top\">t</a></td><td style=\"word-wrap: break-word\" class=\"diff_header\" id=\"to10_11\">11</td><td style=\"word-wrap: break-word\" ><span class=\"diff_add\">To&nbsp;save&nbsp;on&nbsp;labor&nbsp;costs,&nbsp;some&nbsp;vessel&nbsp;owners&nbsp;rely&nbsp;on&nbsp;human&nbsp;traffickers,&nbsp;some&nbsp;even&nbsp;kidnapping&nbsp;or&nbsp;drugging&nbsp;workers&nbsp;to&nbsp;get&nbsp;them&nbsp;on&nbsp;the&nbsp;ship&nbsp;and&nbsp;cut&nbsp;off&nbsp;from&nbsp;help.&nbsp;Further,&nbsp;the&nbsp;overseas&nbsp;seafood&nbsp;processing&nbsp;industry&nbsp;is&nbsp;heavily&nbsp;reliant&nbsp;on&nbsp;forced&nbsp;labor.&nbsp;&nbsp;</span></td></tr>\n",
       "            <tr><td style=\"word-wrap: break-word\" class=\"diff_next\"></td><td style=\"word-wrap: break-word\" class=\"diff_header\"></td><td style=\"word-wrap: break-word\" ></td><td style=\"word-wrap: break-word\" class=\"diff_next\"></td><td style=\"word-wrap: break-word\" class=\"diff_header\" id=\"to10_12\">12</td><td style=\"word-wrap: break-word\" ><span class=\"diff_add\">&nbsp;</span></td></tr>\n",
       "            <tr><td style=\"word-wrap: break-word\" class=\"diff_next\"></td><td style=\"word-wrap: break-word\" class=\"diff_header\"></td><td style=\"word-wrap: break-word\" ></td><td style=\"word-wrap: break-word\" class=\"diff_next\"></td><td style=\"word-wrap: break-word\" class=\"diff_header\" id=\"to10_13\">13</td><td style=\"word-wrap: break-word\" ><span class=\"diff_add\">The&nbsp;U.S.&nbsp;is&nbsp;one&nbsp;of&nbsp;the&nbsp;largest&nbsp;consumers&nbsp;of&nbsp;seafood.&nbsp;Approximately&nbsp;80%&nbsp;of&nbsp;the&nbsp;seafood&nbsp;sold&nbsp;in&nbsp;the&nbsp;U.S.&nbsp;is&nbsp;imported,&nbsp;and&nbsp;as&nbsp;much&nbsp;as&nbsp;a&nbsp;third&nbsp;of&nbsp;the&nbsp;wild-caught&nbsp;seafood&nbsp;sold&nbsp;in&nbsp;the&nbsp;United&nbsp;States&nbsp;each&nbsp;year&nbsp;is&nbsp;illegal&nbsp;or&nbsp;unreported.&nbsp;&nbsp;</span></td></tr>\n",
       "            <tr><td style=\"word-wrap: break-word\" class=\"diff_next\"></td><td style=\"word-wrap: break-word\" class=\"diff_header\"></td><td style=\"word-wrap: break-word\" ></td><td style=\"word-wrap: break-word\" class=\"diff_next\"></td><td style=\"word-wrap: break-word\" class=\"diff_header\" id=\"to10_14\">14</td><td style=\"word-wrap: break-word\" ><span class=\"diff_add\">&nbsp;</span></td></tr>\n",
       "            <tr><td style=\"word-wrap: break-word\" class=\"diff_next\"></td><td style=\"word-wrap: break-word\" class=\"diff_header\"></td><td style=\"word-wrap: break-word\" ></td><td style=\"word-wrap: break-word\" class=\"diff_next\"></td><td style=\"word-wrap: break-word\" class=\"diff_header\" id=\"to10_15\">15</td><td style=\"word-wrap: break-word\" ><span class=\"diff_add\">The&nbsp;U.S.&nbsp;government&nbsp;has&nbsp;a&nbsp;responsibility&nbsp;to&nbsp;fix&nbsp;these&nbsp;problems,&nbsp;and&nbsp;seafood&nbsp;traceability&nbsp;is&nbsp;an&nbsp;essential&nbsp;step&nbsp;in&nbsp;the&nbsp;fight&nbsp;to&nbsp;end&nbsp;illegal&nbsp;fishing&nbsp;and&nbsp;human&nbsp;rights&nbsp;abuses&nbsp;in&nbsp;the&nbsp;seafood&nbsp;industry.&nbsp;</span></td></tr>\n",
       "            <tr><td style=\"word-wrap: break-word\" class=\"diff_next\"></td><td style=\"word-wrap: break-word\" class=\"diff_header\"></td><td style=\"word-wrap: break-word\" ></td><td style=\"word-wrap: break-word\" class=\"diff_next\"></td><td style=\"word-wrap: break-word\" class=\"diff_header\" id=\"to10_16\">16</td><td style=\"word-wrap: break-word\" ><span class=\"diff_add\">&nbsp;</span></td></tr>\n",
       "            <tr><td style=\"word-wrap: break-word\" class=\"diff_next\"></td><td style=\"word-wrap: break-word\" class=\"diff_header\"></td><td style=\"word-wrap: break-word\" ></td><td style=\"word-wrap: break-word\" class=\"diff_next\"></td><td style=\"word-wrap: break-word\" class=\"diff_header\" id=\"to10_17\">17</td><td style=\"word-wrap: break-word\" ><span class=\"diff_add\">However,&nbsp;under&nbsp;NOAA&nbsp;Fisheries’&nbsp;proposed&nbsp;rule,&nbsp;traceability&nbsp;requirements&nbsp;would&nbsp;apply&nbsp;to&nbsp;only&nbsp;half&nbsp;of&nbsp;seafood&nbsp;imports,&nbsp;leaving&nbsp;massive&nbsp;loopholes&nbsp;that&nbsp;are&nbsp;easy&nbsp;for&nbsp;bad&nbsp;actors&nbsp;to&nbsp;exploit.&nbsp;The&nbsp;proposed&nbsp;rule&nbsp;also&nbsp;fails&nbsp;to&nbsp;sufficiently&nbsp;address&nbsp;labor&nbsp;abuses&nbsp;in&nbsp;seafood&nbsp;supply&nbsp;chains,&nbsp;and&nbsp;it&nbsp;includes&nbsp;no&nbsp;commitment&nbsp;to&nbsp;improve&nbsp;enforcement&nbsp;of&nbsp;traceability&nbsp;requirements.&nbsp;</span></td></tr>\n",
       "            <tr><td style=\"word-wrap: break-word\" class=\"diff_next\"></td><td style=\"word-wrap: break-word\" class=\"diff_header\"></td><td style=\"word-wrap: break-word\" ></td><td style=\"word-wrap: break-word\" class=\"diff_next\"></td><td style=\"word-wrap: break-word\" class=\"diff_header\" id=\"to10_18\">18</td><td style=\"word-wrap: break-word\" ><span class=\"diff_add\">&nbsp;</span></td></tr>\n",
       "            <tr><td style=\"word-wrap: break-word\" class=\"diff_next\"></td><td style=\"word-wrap: break-word\" class=\"diff_header\"></td><td style=\"word-wrap: break-word\" ></td><td style=\"word-wrap: break-word\" class=\"diff_next\"></td><td style=\"word-wrap: break-word\" class=\"diff_header\" id=\"to10_19\">19</td><td style=\"word-wrap: break-word\" ><span class=\"diff_add\">Please&nbsp;revise&nbsp;the&nbsp;Seafood&nbsp;Import&nbsp;Monitoring&nbsp;Program&nbsp;proposed&nbsp;rule&nbsp;to&nbsp;adopt&nbsp;the&nbsp;strongest&nbsp;possible&nbsp;standards&nbsp;for&nbsp;seafood&nbsp;traceability&nbsp;–&nbsp;to&nbsp;intercept&nbsp;the&nbsp;flow&nbsp;of&nbsp;illegal&nbsp;seafood&nbsp;into&nbsp;the&nbsp;U.S.,&nbsp;and&nbsp;help&nbsp;consumers&nbsp;feel&nbsp;confident&nbsp;that&nbsp;the&nbsp;seafood&nbsp;they&nbsp;buy&nbsp;is&nbsp;legally&nbsp;caught,&nbsp;and&nbsp;not&nbsp;a&nbsp;product&nbsp;of&nbsp;labor&nbsp;abuses.&nbsp;</span></td></tr>\n",
       "            <tr><td style=\"word-wrap: break-word\" class=\"diff_next\"></td><td style=\"word-wrap: break-word\" class=\"diff_header\"></td><td style=\"word-wrap: break-word\" ></td><td style=\"word-wrap: break-word\" class=\"diff_next\"></td><td style=\"word-wrap: break-word\" class=\"diff_header\" id=\"to10_20\">20</td><td style=\"word-wrap: break-word\" ><span class=\"diff_add\">&nbsp;</span></td></tr>\n",
       "            <tr><td style=\"word-wrap: break-word\" class=\"diff_next\"></td><td style=\"word-wrap: break-word\" class=\"diff_header\"></td><td style=\"word-wrap: break-word\" ></td><td style=\"word-wrap: break-word\" class=\"diff_next\"></td><td style=\"word-wrap: break-word\" class=\"diff_header\" id=\"to10_21\">21</td><td style=\"word-wrap: break-word\" ><span class=\"diff_add\">Thank&nbsp;you&nbsp;for&nbsp;helping&nbsp;to&nbsp;address&nbsp;these&nbsp;environmental&nbsp;and&nbsp;human&nbsp;rights&nbsp;crimes&nbsp;with&nbsp;the&nbsp;seriousness&nbsp;they&nbsp;deserve.&nbsp;</span></td></tr>\n",
       "            <tr><td style=\"word-wrap: break-word\" class=\"diff_next\"></td><td style=\"word-wrap: break-word\" class=\"diff_header\"></td><td style=\"word-wrap: break-word\" ></td><td style=\"word-wrap: break-word\" class=\"diff_next\"></td><td style=\"word-wrap: break-word\" class=\"diff_header\" id=\"to10_22\">22</td><td style=\"word-wrap: break-word\" ><span class=\"diff_add\">&nbsp;</span></td></tr>\n",
       "            <tr><td style=\"word-wrap: break-word\" class=\"diff_next\"></td><td style=\"word-wrap: break-word\" class=\"diff_header\"></td><td style=\"word-wrap: break-word\" ></td><td style=\"word-wrap: break-word\" class=\"diff_next\"></td><td style=\"word-wrap: break-word\" class=\"diff_header\" id=\"to10_23\">23</td><td style=\"word-wrap: break-word\" ><span class=\"diff_add\">Again,&nbsp;thank&nbsp;you&nbsp;–&nbsp;for&nbsp;your&nbsp;time,&nbsp;and&nbsp;for&nbsp;your&nbsp;thoughtful&nbsp;consideration&nbsp;of&nbsp;this&nbsp;critically&nbsp;important&nbsp;issue.</span></td></tr>\n",
       "        </tbody>\n",
       "    </table>\n",
       "    <table style=\"table-layout: fixed; width: 100%\" class=\"diff\" summary=\"Legends\">\n",
       "        <tr> <th colspan=\"2\"> Legends </th> </tr>\n",
       "        <tr> <td style=\"word-wrap: break-word\"> <table style=\"table-layout: fixed; width: 100%\" border=\"\" summary=\"Colors\">\n",
       "                      <tr><th> Colors </th> </tr>\n",
       "                      <tr><td style=\"word-wrap: break-word\" class=\"diff_add\">&nbsp;Added&nbsp;</td></tr>\n",
       "                      <tr><td style=\"word-wrap: break-word\" class=\"diff_chg\">Changed</td> </tr>\n",
       "                      <tr><td style=\"word-wrap: break-word\" class=\"diff_sub\">Deleted</td> </tr>\n",
       "                  </table></td>\n",
       "             <td style=\"word-wrap: break-word\"> <table style=\"table-layout: fixed; width: 100%\" border=\"\" summary=\"Links\">\n",
       "                      <tr><th colspan=\"2\"> Links </th> </tr>\n",
       "                      <tr><td style=\"word-wrap: break-word\">(f)irst change</td> </tr>\n",
       "                      <tr><td style=\"word-wrap: break-word\">(n)ext change</td> </tr>\n",
       "                      <tr><td style=\"word-wrap: break-word\">(t)op</td> </tr>\n",
       "                  </table></td> </tr>\n",
       "    </table>\n",
       "</body>\n",
       "\n",
       "</html>"
      ],
      "text/plain": [
       "<IPython.core.display.HTML object>"
      ]
     },
     "metadata": {},
     "output_type": "display_data"
    },
    {
     "data": {
      "text/html": [
       "\n",
       "<!DOCTYPE html PUBLIC \"-//W3C//DTD XHTML 1.0 Transitional//EN\"\n",
       "          \"http://www.w3.org/TR/xhtml1/DTD/xhtml1-transitional.dtd\">\n",
       "\n",
       "<html>\n",
       "\n",
       "<head>\n",
       "    <meta http-equiv=\"Content-Type\"\n",
       "          content=\"text/html; charset=utf-8\" />\n",
       "    <title></title>\n",
       "    <style type=\"text/css\">\n",
       "        table.diff {font-family:Courier; border:medium;}\n",
       "        .diff_header {background-color:#e0e0e0}\n",
       "        td.diff_header {text-align:right; width:1%}\n",
       "        .diff_next {background-color:#c0c0c0; width:1%}\n",
       "        .diff_add {background-color:#aaffaa}\n",
       "        .diff_chg {background-color:#ffff77}\n",
       "        .diff_sub {background-color:#ffaaaa}\n",
       "    </style>\n",
       "</head>\n",
       "\n",
       "<body><hr /><br /><br /> <p>Comments: ['NOAA-NMFS-2022-0119-0923']</p>\n",
       "    \n",
       "    <table style=\"table-layout: fixed; width: 100%\" class=\"diff\" id=\"difflib_chg_to11__top\"\n",
       "           cellspacing=\"0\" cellpadding=\"0\" rules=\"groups\" >\n",
       "        <colgroup></colgroup> <colgroup></colgroup> <colgroup></colgroup>\n",
       "        <colgroup></colgroup> <colgroup></colgroup> <colgroup></colgroup>\n",
       "        \n",
       "        <tbody>\n",
       "            <tr><td style=\"word-wrap: break-word\" class=\"diff_next\" id=\"difflib_chg_to11__1\"><a href=\"#difflib_chg_to11__0\">f</a></td><td style=\"word-wrap: break-word\" class=\"diff_header\" id=\"from11_1\">1</td><td style=\"word-wrap: break-word\" >Dear&nbsp;NOAA&nbsp;Administrator&nbsp;Spinrad&nbsp;and&nbsp;NOAA&nbsp;Fisheries&nbsp;Assistant&nbsp;Administrator&nbsp;Coit:</td><td style=\"word-wrap: break-word\" class=\"diff_next\"><a href=\"#difflib_chg_to11__0\">f</a></td><td style=\"word-wrap: break-word\" class=\"diff_header\" id=\"to11_1\">1</td><td style=\"word-wrap: break-word\" >Dear&nbsp;NOAA&nbsp;Administrator&nbsp;Spinrad&nbsp;and&nbsp;NOAA&nbsp;Fisheries&nbsp;Assistant&nbsp;Administrator&nbsp;Coit:</td></tr>\n",
       "            <tr><td style=\"word-wrap: break-word\" class=\"diff_next\" id=\"difflib_chg_to11__2\"></td><td style=\"word-wrap: break-word\" class=\"diff_header\" id=\"from11_2\">2</td><td style=\"word-wrap: break-word\" ></td><td style=\"word-wrap: break-word\" class=\"diff_next\"></td><td style=\"word-wrap: break-word\" class=\"diff_header\" id=\"to11_2\">2</td><td style=\"word-wrap: break-word\" ></td></tr>\n",
       "            <tr><td style=\"word-wrap: break-word\" class=\"diff_next\"><a href=\"#difflib_chg_to11__1\">n</a></td><td style=\"word-wrap: break-word\" class=\"diff_header\" id=\"from11_3\">3</td><td style=\"word-wrap: break-word\" ><span class=\"diff_sub\">The&nbsp;United&nbsp;States&nbsp;needs&nbsp;an&nbsp;effective&nbsp;seafood&nbsp;traceability&nbsp;program&nbsp;to&nbsp;intercept&nbsp;the&nbsp;flow&nbsp;of&nbsp;illegal&nbsp;seafood&nbsp;into&nbsp;our&nbsp;markets.&nbsp;Illegal&nbsp;fishing&nbsp;is&nbsp;a&nbsp;top&nbsp;driver&nbsp;of&nbsp;unsustainable&nbsp;and&nbsp;environmentally&nbsp;harmful&nbsp;fishing&nbsp;practices&nbsp;around&nbsp;the&nbsp;globe,&nbsp;as&nbsp;well&nbsp;as&nbsp;associated&nbsp;human&nbsp;rights&nbsp;abuses&nbsp;in&nbsp;the&nbsp;seafood&nbsp;sector.&nbsp;The&nbsp;newly&nbsp;proposed&nbsp;changes&nbsp;to&nbsp;the&nbsp;Seafood&nbsp;Import&nbsp;Monitoring&nbsp;Program&nbsp;do&nbsp;not&nbsp;go&nbsp;far&nbsp;enough&nbsp;to&nbsp;help&nbsp;end&nbsp;the&nbsp;U.S.'s&nbsp;role&nbsp;in&nbsp;perpetuating&nbsp;human&nbsp;rights&nbsp;abuses&nbsp;and&nbsp;environmental&nbsp;destruction&nbsp;in&nbsp;the&nbsp;seafood&nbsp;industry.&nbsp;</span></td><td style=\"word-wrap: break-word\" class=\"diff_next\"><a href=\"#difflib_chg_to11__1\">n</a></td><td style=\"word-wrap: break-word\" class=\"diff_header\" id=\"to11_3\">3</td><td style=\"word-wrap: break-word\" ><span class=\"diff_add\">The&nbsp;United&nbsp;States&nbsp;needs&nbsp;an&nbsp;effective&nbsp;seafood&nbsp;traceability&nbsp;program&nbsp;to&nbsp;intercept&nbsp;the&nbsp;flow&nbsp;of&nbsp;illegal&nbsp;seafood&nbsp;into&nbsp;our&nbsp;markets.&nbsp;</span></td></tr>\n",
       "            <tr><td style=\"word-wrap: break-word\" class=\"diff_next\" id=\"difflib_chg_to11__3\"></td><td style=\"word-wrap: break-word\" class=\"diff_header\" id=\"from11_4\">4</td><td style=\"word-wrap: break-word\" ></td><td style=\"word-wrap: break-word\" class=\"diff_next\"></td><td style=\"word-wrap: break-word\" class=\"diff_header\" id=\"to11_4\">4</td><td style=\"word-wrap: break-word\" ></td></tr>\n",
       "            <tr><td style=\"word-wrap: break-word\" class=\"diff_next\"><a href=\"#difflib_chg_to11__2\">n</a></td><td style=\"word-wrap: break-word\" class=\"diff_header\" id=\"from11_5\">5</td><td style=\"word-wrap: break-word\" ><span class=\"diff_sub\">Illegal&nbsp;fishing&nbsp;is&nbsp;destroying&nbsp;our&nbsp;oceans.&nbsp;Years&nbsp;of&nbsp;overfishing&nbsp;in&nbsp;nearshore&nbsp;waters&nbsp;have&nbsp;forced&nbsp;boats&nbsp;to&nbsp;go&nbsp;into&nbsp;deeper&nbsp;waters,&nbsp;which&nbsp;makes&nbsp;fishing&nbsp;more&nbsp;expensive.&nbsp;Some&nbsp;fishers&nbsp;will&nbsp;cut&nbsp;costs&nbsp;by&nbsp;fishing&nbsp;with&nbsp;illegal&nbsp;gear,&nbsp;fishing&nbsp;in&nbsp;protected&nbsp;areas,&nbsp;or&nbsp;ignoring&nbsp;catch&nbsp;limits.&nbsp;To&nbsp;save&nbsp;on&nbsp;labor&nbsp;costs,&nbsp;some&nbsp;vessel&nbsp;owners&nbsp;rely&nbsp;on&nbsp;human&nbsp;traffickers,&nbsp;some&nbsp;even&nbsp;kidnapping&nbsp;or&nbsp;drugging&nbsp;workers&nbsp;to&nbsp;get&nbsp;them&nbsp;on&nbsp;the&nbsp;ship&nbsp;and&nbsp;cut&nbsp;off&nbsp;from&nbsp;help.&nbsp;Further,&nbsp;the&nbsp;overseas&nbsp;seafood&nbsp;processing&nbsp;industry&nbsp;is&nbsp;heavily&nbsp;reliant&nbsp;on&nbsp;forced&nbsp;labor.&nbsp;&nbsp;</span></td><td style=\"word-wrap: break-word\" class=\"diff_next\"><a href=\"#difflib_chg_to11__2\">n</a></td><td style=\"word-wrap: break-word\" class=\"diff_header\" id=\"to11_5\">5</td><td style=\"word-wrap: break-word\" ><span class=\"diff_add\">Illegal&nbsp;fishing&nbsp;is&nbsp;a&nbsp;top&nbsp;driver&nbsp;of&nbsp;unsustainable&nbsp;and&nbsp;environmentally&nbsp;harmful&nbsp;fishing&nbsp;practices&nbsp;around&nbsp;the&nbsp;globe.&nbsp;However,&nbsp;the&nbsp;newly&nbsp;proposed&nbsp;changes&nbsp;to&nbsp;the&nbsp;Seafood&nbsp;Import&nbsp;Monitoring&nbsp;Program&nbsp;do&nbsp;not&nbsp;go&nbsp;far&nbsp;enough&nbsp;to&nbsp;help&nbsp;end&nbsp;the&nbsp;U.S.'s&nbsp;role&nbsp;in&nbsp;perpetuating&nbsp;human&nbsp;rights&nbsp;abuses&nbsp;and&nbsp;environmental&nbsp;destruction&nbsp;in&nbsp;the&nbsp;seafood&nbsp;industry.&nbsp;</span></td></tr>\n",
       "            <tr><td style=\"word-wrap: break-word\" class=\"diff_next\" id=\"difflib_chg_to11__4\"></td><td style=\"word-wrap: break-word\" class=\"diff_header\" id=\"from11_6\">6</td><td style=\"word-wrap: break-word\" ></td><td style=\"word-wrap: break-word\" class=\"diff_next\"></td><td style=\"word-wrap: break-word\" class=\"diff_header\" id=\"to11_6\">6</td><td style=\"word-wrap: break-word\" ></td></tr>\n",
       "            <tr><td style=\"word-wrap: break-word\" class=\"diff_next\"><a href=\"#difflib_chg_to11__3\">n</a></td><td style=\"word-wrap: break-word\" class=\"diff_header\" id=\"from11_7\">7</td><td style=\"word-wrap: break-word\" ><span class=\"diff_sub\">The&nbsp;U.S.&nbsp;is&nbsp;one&nbsp;of&nbsp;the&nbsp;largest&nbsp;consumers&nbsp;of&nbsp;seafood.&nbsp;Approximately&nbsp;eighty&nbsp;percent&nbsp;of&nbsp;the&nbsp;seafood&nbsp;sold&nbsp;in&nbsp;the&nbsp;U.S.&nbsp;is&nbsp;imported,&nbsp;and&nbsp;as&nbsp;much&nbsp;as&nbsp;a&nbsp;third&nbsp;of&nbsp;the&nbsp;wild-caught&nbsp;seafood&nbsp;sold&nbsp;in&nbsp;the&nbsp;United&nbsp;States&nbsp;each&nbsp;year&nbsp;is&nbsp;illegal&nbsp;or&nbsp;unreported.&nbsp;&nbsp;</span></td><td style=\"word-wrap: break-word\" class=\"diff_next\"><a href=\"#difflib_chg_to11__3\">n</a></td><td style=\"word-wrap: break-word\" class=\"diff_header\" id=\"to11_7\">7</td><td style=\"word-wrap: break-word\" ><span class=\"diff_add\">Illegal&nbsp;fishing&nbsp;is&nbsp;destroying&nbsp;our&nbsp;oceans.&nbsp;</span></td></tr>\n",
       "            <tr><td style=\"word-wrap: break-word\" class=\"diff_next\"></td><td style=\"word-wrap: break-word\" class=\"diff_header\" id=\"from11_8\">8</td><td style=\"word-wrap: break-word\" ></td><td style=\"word-wrap: break-word\" class=\"diff_next\"></td><td style=\"word-wrap: break-word\" class=\"diff_header\" id=\"to11_8\">8</td><td style=\"word-wrap: break-word\" ></td></tr>\n",
       "            <tr><td style=\"word-wrap: break-word\" class=\"diff_next\"><a href=\"#difflib_chg_to11__4\">n</a></td><td style=\"word-wrap: break-word\" class=\"diff_header\" id=\"from11_9\">9</td><td style=\"word-wrap: break-word\" ><span class=\"diff_sub\">The&nbsp;U.S.&nbsp;government&nbsp;has&nbsp;a&nbsp;responsibility&nbsp;to&nbsp;fix&nbsp;these&nbsp;problems,&nbsp;and&nbsp;seafood&nbsp;traceability&nbsp;is&nbsp;an&nbsp;essential&nbsp;step&nbsp;in&nbsp;the&nbsp;fight&nbsp;to&nbsp;end&nbsp;illegal&nbsp;fishing&nbsp;and&nbsp;human&nbsp;rights&nbsp;abuses&nbsp;in&nbsp;the&nbsp;seafood&nbsp;industry.&nbsp;But&nbsp;under&nbsp;NOAA&nbsp;Fisheries’&nbsp;proposed&nbsp;rule,&nbsp;traceability&nbsp;requirements&nbsp;would&nbsp;apply&nbsp;to&nbsp;only&nbsp;half&nbsp;of&nbsp;seafood&nbsp;imports,&nbsp;leaving&nbsp;massive&nbsp;loopholes&nbsp;that&nbsp;are&nbsp;easy&nbsp;for&nbsp;bad&nbsp;actors&nbsp;to&nbsp;exploit.&nbsp;The&nbsp;proposed&nbsp;rule&nbsp;also&nbsp;fails&nbsp;to&nbsp;sufficiently&nbsp;address&nbsp;labor&nbsp;abuses&nbsp;in&nbsp;seafood&nbsp;supply&nbsp;chains,&nbsp;and&nbsp;it&nbsp;includes&nbsp;no&nbsp;commitment&nbsp;to&nbsp;improve&nbsp;enforcement&nbsp;of&nbsp;traceability&nbsp;requirements.&nbsp;</span></td><td style=\"word-wrap: break-word\" class=\"diff_next\"><a href=\"#difflib_chg_to11__4\">n</a></td><td style=\"word-wrap: break-word\" class=\"diff_header\" id=\"to11_9\">9</td><td style=\"word-wrap: break-word\" ><span class=\"diff_add\">Years&nbsp;of&nbsp;overfishing&nbsp;in&nbsp;nearshore&nbsp;waters&nbsp;have&nbsp;forced&nbsp;boats&nbsp;to&nbsp;go&nbsp;into&nbsp;deeper&nbsp;waters,&nbsp;which&nbsp;makes&nbsp;fishing&nbsp;more&nbsp;expensive.&nbsp;Some&nbsp;fishers&nbsp;will&nbsp;cut&nbsp;costs&nbsp;by&nbsp;fishing&nbsp;with&nbsp;illegal&nbsp;gear,&nbsp;fishing&nbsp;in&nbsp;protected&nbsp;areas,&nbsp;or&nbsp;ignoring&nbsp;catch&nbsp;limits.&nbsp;To&nbsp;save&nbsp;on&nbsp;labor&nbsp;costs,&nbsp;some&nbsp;vessel&nbsp;owners&nbsp;rely&nbsp;on&nbsp;human&nbsp;traffickers.&nbsp;Further,&nbsp;the&nbsp;overseas&nbsp;seafood&nbsp;processing&nbsp;industry&nbsp;is&nbsp;heavily&nbsp;reliant&nbsp;on&nbsp;forced&nbsp;labor.&nbsp;&nbsp;</span></td></tr>\n",
       "            <tr><td style=\"word-wrap: break-word\" class=\"diff_next\"></td><td style=\"word-wrap: break-word\" class=\"diff_header\" id=\"from11_10\">10</td><td style=\"word-wrap: break-word\" ></td><td style=\"word-wrap: break-word\" class=\"diff_next\"></td><td style=\"word-wrap: break-word\" class=\"diff_header\" id=\"to11_10\">10</td><td style=\"word-wrap: break-word\" ></td></tr>\n",
       "            <tr><td style=\"word-wrap: break-word\" class=\"diff_next\"><a href=\"#difflib_chg_to11__top\">t</a></td><td style=\"word-wrap: break-word\" class=\"diff_header\" id=\"from11_11\">11</td><td style=\"word-wrap: break-word\" ><span class=\"diff_sub\">Please&nbsp;revise&nbsp;the&nbsp;Seafood&nbsp;Import&nbsp;Monitoring&nbsp;Program&nbsp;proposed&nbsp;rule&nbsp;to&nbsp;adopt&nbsp;the&nbsp;strongest&nbsp;possible&nbsp;standards&nbsp;for&nbsp;seafood&nbsp;traceability&nbsp;to&nbsp;intercept&nbsp;the&nbsp;flow&nbsp;of&nbsp;illegal&nbsp;seafood&nbsp;into&nbsp;the&nbsp;U.S.&nbsp;and&nbsp;help&nbsp;consumers&nbsp;feel&nbsp;confident&nbsp;the&nbsp;seafood&nbsp;they&nbsp;buy&nbsp;is&nbsp;legally&nbsp;caught&nbsp;and&nbsp;not&nbsp;a&nbsp;product&nbsp;of&nbsp;labor&nbsp;abuses.&nbsp;Thank&nbsp;you&nbsp;for&nbsp;helping&nbsp;to&nbsp;address&nbsp;these&nbsp;environmental&nbsp;and&nbsp;human&nbsp;rights&nbsp;crimes&nbsp;with&nbsp;the&nbsp;seriousness&nbsp;they&nbsp;deserve.</span></td><td style=\"word-wrap: break-word\" class=\"diff_next\"><a href=\"#difflib_chg_to11__top\">t</a></td><td style=\"word-wrap: break-word\" class=\"diff_header\" id=\"to11_11\">11</td><td style=\"word-wrap: break-word\" ><span class=\"diff_add\">The&nbsp;U.S.&nbsp;is&nbsp;one&nbsp;of&nbsp;the&nbsp;largest&nbsp;consumers&nbsp;of&nbsp;seafood.&nbsp;Approximately&nbsp;eighty&nbsp;percent&nbsp;of&nbsp;the&nbsp;seafood&nbsp;sold&nbsp;in&nbsp;the&nbsp;U.S.&nbsp;is&nbsp;imported,&nbsp;and&nbsp;as&nbsp;much&nbsp;as&nbsp;a&nbsp;third&nbsp;of&nbsp;the&nbsp;wild-caught&nbsp;seafood&nbsp;sold&nbsp;in&nbsp;the&nbsp;United&nbsp;States&nbsp;each&nbsp;year&nbsp;is&nbsp;illegal&nbsp;or&nbsp;unreported!&nbsp;&nbsp;</span></td></tr>\n",
       "            <tr><td style=\"word-wrap: break-word\" class=\"diff_next\"></td><td style=\"word-wrap: break-word\" class=\"diff_header\"></td><td style=\"word-wrap: break-word\" ></td><td style=\"word-wrap: break-word\" class=\"diff_next\"></td><td style=\"word-wrap: break-word\" class=\"diff_header\" id=\"to11_12\">12</td><td style=\"word-wrap: break-word\" ><span class=\"diff_add\">&nbsp;</span></td></tr>\n",
       "            <tr><td style=\"word-wrap: break-word\" class=\"diff_next\"></td><td style=\"word-wrap: break-word\" class=\"diff_header\"></td><td style=\"word-wrap: break-word\" ></td><td style=\"word-wrap: break-word\" class=\"diff_next\"></td><td style=\"word-wrap: break-word\" class=\"diff_header\" id=\"to11_13\">13</td><td style=\"word-wrap: break-word\" ><span class=\"diff_add\">The&nbsp;U.S.&nbsp;government&nbsp;has&nbsp;a&nbsp;responsibility&nbsp;to&nbsp;fix&nbsp;these&nbsp;problems,&nbsp;and&nbsp;seafood&nbsp;traceability&nbsp;is&nbsp;an&nbsp;essential&nbsp;step&nbsp;in&nbsp;the&nbsp;fight&nbsp;to&nbsp;end&nbsp;illegal&nbsp;fishing&nbsp;and&nbsp;human&nbsp;rights&nbsp;abuses&nbsp;in&nbsp;the&nbsp;seafood&nbsp;industry.&nbsp;</span></td></tr>\n",
       "            <tr><td style=\"word-wrap: break-word\" class=\"diff_next\"></td><td style=\"word-wrap: break-word\" class=\"diff_header\"></td><td style=\"word-wrap: break-word\" ></td><td style=\"word-wrap: break-word\" class=\"diff_next\"></td><td style=\"word-wrap: break-word\" class=\"diff_header\" id=\"to11_14\">14</td><td style=\"word-wrap: break-word\" ><span class=\"diff_add\">&nbsp;</span></td></tr>\n",
       "            <tr><td style=\"word-wrap: break-word\" class=\"diff_next\"></td><td style=\"word-wrap: break-word\" class=\"diff_header\"></td><td style=\"word-wrap: break-word\" ></td><td style=\"word-wrap: break-word\" class=\"diff_next\"></td><td style=\"word-wrap: break-word\" class=\"diff_header\" id=\"to11_15\">15</td><td style=\"word-wrap: break-word\" ><span class=\"diff_add\">Unfortunately,&nbsp;under&nbsp;NOAA&nbsp;Fisheries’&nbsp;proposed&nbsp;rule,&nbsp;traceability&nbsp;requirements&nbsp;would&nbsp;apply&nbsp;to&nbsp;only&nbsp;half&nbsp;of&nbsp;seafood&nbsp;imports,&nbsp;leaving&nbsp;massive&nbsp;loopholes&nbsp;that&nbsp;are&nbsp;easy&nbsp;for&nbsp;bad&nbsp;actors&nbsp;to&nbsp;exploit.&nbsp;</span></td></tr>\n",
       "            <tr><td style=\"word-wrap: break-word\" class=\"diff_next\"></td><td style=\"word-wrap: break-word\" class=\"diff_header\"></td><td style=\"word-wrap: break-word\" ></td><td style=\"word-wrap: break-word\" class=\"diff_next\"></td><td style=\"word-wrap: break-word\" class=\"diff_header\" id=\"to11_16\">16</td><td style=\"word-wrap: break-word\" ><span class=\"diff_add\">&nbsp;</span></td></tr>\n",
       "            <tr><td style=\"word-wrap: break-word\" class=\"diff_next\"></td><td style=\"word-wrap: break-word\" class=\"diff_header\"></td><td style=\"word-wrap: break-word\" ></td><td style=\"word-wrap: break-word\" class=\"diff_next\"></td><td style=\"word-wrap: break-word\" class=\"diff_header\" id=\"to11_17\">17</td><td style=\"word-wrap: break-word\" ><span class=\"diff_add\">Please&nbsp;revise&nbsp;the&nbsp;Seafood&nbsp;Import&nbsp;Monitoring&nbsp;Program&nbsp;proposed&nbsp;rule&nbsp;to&nbsp;adopt&nbsp;the&nbsp;strongest&nbsp;possible&nbsp;standards&nbsp;for&nbsp;seafood&nbsp;traceability&nbsp;to&nbsp;intercept&nbsp;the&nbsp;flow&nbsp;of&nbsp;illegal&nbsp;seafood&nbsp;into&nbsp;the&nbsp;U.S.</span></td></tr>\n",
       "        </tbody>\n",
       "    </table>\n",
       "    <table style=\"table-layout: fixed; width: 100%\" class=\"diff\" summary=\"Legends\">\n",
       "        <tr> <th colspan=\"2\"> Legends </th> </tr>\n",
       "        <tr> <td style=\"word-wrap: break-word\"> <table style=\"table-layout: fixed; width: 100%\" border=\"\" summary=\"Colors\">\n",
       "                      <tr><th> Colors </th> </tr>\n",
       "                      <tr><td style=\"word-wrap: break-word\" class=\"diff_add\">&nbsp;Added&nbsp;</td></tr>\n",
       "                      <tr><td style=\"word-wrap: break-word\" class=\"diff_chg\">Changed</td> </tr>\n",
       "                      <tr><td style=\"word-wrap: break-word\" class=\"diff_sub\">Deleted</td> </tr>\n",
       "                  </table></td>\n",
       "             <td style=\"word-wrap: break-word\"> <table style=\"table-layout: fixed; width: 100%\" border=\"\" summary=\"Links\">\n",
       "                      <tr><th colspan=\"2\"> Links </th> </tr>\n",
       "                      <tr><td style=\"word-wrap: break-word\">(f)irst change</td> </tr>\n",
       "                      <tr><td style=\"word-wrap: break-word\">(n)ext change</td> </tr>\n",
       "                      <tr><td style=\"word-wrap: break-word\">(t)op</td> </tr>\n",
       "                  </table></td> </tr>\n",
       "    </table>\n",
       "</body>\n",
       "\n",
       "</html>"
      ],
      "text/plain": [
       "<IPython.core.display.HTML object>"
      ]
     },
     "metadata": {},
     "output_type": "display_data"
    },
    {
     "data": {
      "text/html": [
       "\n",
       "<!DOCTYPE html PUBLIC \"-//W3C//DTD XHTML 1.0 Transitional//EN\"\n",
       "          \"http://www.w3.org/TR/xhtml1/DTD/xhtml1-transitional.dtd\">\n",
       "\n",
       "<html>\n",
       "\n",
       "<head>\n",
       "    <meta http-equiv=\"Content-Type\"\n",
       "          content=\"text/html; charset=utf-8\" />\n",
       "    <title></title>\n",
       "    <style type=\"text/css\">\n",
       "        table.diff {font-family:Courier; border:medium;}\n",
       "        .diff_header {background-color:#e0e0e0}\n",
       "        td.diff_header {text-align:right; width:1%}\n",
       "        .diff_next {background-color:#c0c0c0; width:1%}\n",
       "        .diff_add {background-color:#aaffaa}\n",
       "        .diff_chg {background-color:#ffff77}\n",
       "        .diff_sub {background-color:#ffaaaa}\n",
       "    </style>\n",
       "</head>\n",
       "\n",
       "<body><hr /><br /><br /> <p>Comments: ['NOAA-NMFS-2022-0119-1136']</p>\n",
       "    \n",
       "    <table style=\"table-layout: fixed; width: 100%\" class=\"diff\" id=\"difflib_chg_to12__top\"\n",
       "           cellspacing=\"0\" cellpadding=\"0\" rules=\"groups\" >\n",
       "        <colgroup></colgroup> <colgroup></colgroup> <colgroup></colgroup>\n",
       "        <colgroup></colgroup> <colgroup></colgroup> <colgroup></colgroup>\n",
       "        \n",
       "        <tbody>\n",
       "            <tr><td style=\"word-wrap: break-word\" class=\"diff_next\" id=\"difflib_chg_to12__0\"><a href=\"#difflib_chg_to12__0\">f</a></td><td style=\"word-wrap: break-word\" class=\"diff_header\" id=\"from12_1\">1</td><td style=\"word-wrap: break-word\" >Dear&nbsp;NOAA&nbsp;Administrator&nbsp;Spinrad&nbsp;and&nbsp;NOAA&nbsp;Fisheries&nbsp;Assistant&nbsp;Administrator&nbsp;Coit:</td><td style=\"word-wrap: break-word\" class=\"diff_next\"><a href=\"#difflib_chg_to12__0\">f</a></td><td style=\"word-wrap: break-word\" class=\"diff_header\" id=\"to12_1\">1</td><td style=\"word-wrap: break-word\" >Dear&nbsp;NOAA&nbsp;Administrator&nbsp;Spinrad&nbsp;and&nbsp;NOAA&nbsp;Fisheries&nbsp;Assistant&nbsp;Administrator&nbsp;Coit:</td></tr>\n",
       "            <tr><td style=\"word-wrap: break-word\" class=\"diff_next\"></td><td style=\"word-wrap: break-word\" class=\"diff_header\" id=\"from12_2\">2</td><td style=\"word-wrap: break-word\" ></td><td style=\"word-wrap: break-word\" class=\"diff_next\"></td><td style=\"word-wrap: break-word\" class=\"diff_header\" id=\"to12_2\">2</td><td style=\"word-wrap: break-word\" ></td></tr>\n",
       "            <tr><td style=\"word-wrap: break-word\" class=\"diff_next\"><a href=\"#difflib_chg_to12__top\">t</a></td><td style=\"word-wrap: break-word\" class=\"diff_header\" id=\"from12_3\">3</td><td style=\"word-wrap: break-word\" >The&nbsp;United&nbsp;States&nbsp;needs&nbsp;an&nbsp;effective&nbsp;seafood&nbsp;traceability&nbsp;program&nbsp;to&nbsp;intercept&nbsp;the&nbsp;flow&nbsp;of&nbsp;illegal&nbsp;seafood&nbsp;into&nbsp;our&nbsp;markets.&nbsp;Illegal&nbsp;fishing&nbsp;is&nbsp;a&nbsp;top&nbsp;driver&nbsp;of&nbsp;unsustainable&nbsp;and&nbsp;environmentally&nbsp;harmful&nbsp;fishing&nbsp;practices&nbsp;around&nbsp;the&nbsp;globe,&nbsp;as&nbsp;well&nbsp;as&nbsp;associated&nbsp;human&nbsp;rights&nbsp;abuses&nbsp;in&nbsp;the&nbsp;seafood&nbsp;sector.&nbsp;The&nbsp;newly&nbsp;proposed&nbsp;changes&nbsp;to&nbsp;the&nbsp;Seafood&nbsp;Import&nbsp;Monitoring&nbsp;Program&nbsp;do&nbsp;not&nbsp;go&nbsp;far&nbsp;enough&nbsp;to&nbsp;help&nbsp;end&nbsp;the&nbsp;U.S.'s&nbsp;role&nbsp;in&nbsp;perpetuating&nbsp;human&nbsp;rights&nbsp;abuses&nbsp;and&nbsp;environmental&nbsp;destruction&nbsp;in&nbsp;the&nbsp;seafood&nbsp;industry.<span class=\"diff_sub\">&nbsp;</span></td><td style=\"word-wrap: break-word\" class=\"diff_next\"><a href=\"#difflib_chg_to12__top\">t</a></td><td style=\"word-wrap: break-word\" class=\"diff_header\" id=\"to12_3\">3</td><td style=\"word-wrap: break-word\" >The&nbsp;United&nbsp;States&nbsp;needs&nbsp;an&nbsp;effective&nbsp;seafood&nbsp;traceability&nbsp;program&nbsp;to&nbsp;intercept&nbsp;the&nbsp;flow&nbsp;of&nbsp;illegal&nbsp;seafood&nbsp;into&nbsp;our&nbsp;markets.&nbsp;Illegal&nbsp;fishing&nbsp;is&nbsp;a&nbsp;top&nbsp;driver&nbsp;of&nbsp;unsustainable&nbsp;and&nbsp;environmentally&nbsp;harmful&nbsp;fishing&nbsp;practices&nbsp;around&nbsp;the&nbsp;globe,&nbsp;as&nbsp;well&nbsp;as&nbsp;associated&nbsp;human&nbsp;rights&nbsp;abuses&nbsp;in&nbsp;the&nbsp;seafood&nbsp;sector.&nbsp;The&nbsp;newly&nbsp;proposed&nbsp;changes&nbsp;to&nbsp;the&nbsp;Seafood&nbsp;Import&nbsp;Monitoring&nbsp;Program&nbsp;do&nbsp;not&nbsp;go&nbsp;far&nbsp;enough&nbsp;to&nbsp;help&nbsp;end&nbsp;the&nbsp;U.S.'s&nbsp;role&nbsp;in&nbsp;perpetuating&nbsp;human&nbsp;rights&nbsp;abuses&nbsp;and&nbsp;environmental&nbsp;destruction&nbsp;in&nbsp;the&nbsp;seafood&nbsp;industry.</td></tr>\n",
       "            <tr><td style=\"word-wrap: break-word\" class=\"diff_next\"></td><td style=\"word-wrap: break-word\" class=\"diff_header\" id=\"from12_4\">4</td><td style=\"word-wrap: break-word\" ><span class=\"diff_sub\">&nbsp;</span></td><td style=\"word-wrap: break-word\" class=\"diff_next\"></td><td style=\"word-wrap: break-word\" class=\"diff_header\"></td><td style=\"word-wrap: break-word\" ></td></tr>\n",
       "            <tr><td style=\"word-wrap: break-word\" class=\"diff_next\"></td><td style=\"word-wrap: break-word\" class=\"diff_header\" id=\"from12_5\">5</td><td style=\"word-wrap: break-word\" ><span class=\"diff_sub\">Illegal&nbsp;fishing&nbsp;is&nbsp;destroying&nbsp;our&nbsp;oceans.&nbsp;Years&nbsp;of&nbsp;overfishing&nbsp;in&nbsp;nearshore&nbsp;waters&nbsp;have&nbsp;forced&nbsp;boats&nbsp;to&nbsp;go&nbsp;into&nbsp;deeper&nbsp;waters,&nbsp;which&nbsp;makes&nbsp;fishing&nbsp;more&nbsp;expensive.&nbsp;Some&nbsp;fishers&nbsp;will&nbsp;cut&nbsp;costs&nbsp;by&nbsp;fishing&nbsp;with&nbsp;illegal&nbsp;gear,&nbsp;fishing&nbsp;in&nbsp;protected&nbsp;areas,&nbsp;or&nbsp;ignoring&nbsp;catch&nbsp;limits.&nbsp;To&nbsp;save&nbsp;on&nbsp;labor&nbsp;costs,&nbsp;some&nbsp;vessel&nbsp;owners&nbsp;rely&nbsp;on&nbsp;human&nbsp;traffickers,&nbsp;some&nbsp;even&nbsp;kidnapping&nbsp;or&nbsp;drugging&nbsp;workers&nbsp;to&nbsp;get&nbsp;them&nbsp;on&nbsp;the&nbsp;ship&nbsp;and&nbsp;cut&nbsp;off&nbsp;from&nbsp;help.&nbsp;Further,&nbsp;the&nbsp;overseas&nbsp;seafood&nbsp;processing&nbsp;industry&nbsp;is&nbsp;heavily&nbsp;reliant&nbsp;on&nbsp;forced&nbsp;labor.&nbsp;&nbsp;</span></td><td style=\"word-wrap: break-word\" class=\"diff_next\"></td><td style=\"word-wrap: break-word\" class=\"diff_header\"></td><td style=\"word-wrap: break-word\" ></td></tr>\n",
       "            <tr><td style=\"word-wrap: break-word\" class=\"diff_next\"></td><td style=\"word-wrap: break-word\" class=\"diff_header\" id=\"from12_6\">6</td><td style=\"word-wrap: break-word\" ><span class=\"diff_sub\">&nbsp;</span></td><td style=\"word-wrap: break-word\" class=\"diff_next\"></td><td style=\"word-wrap: break-word\" class=\"diff_header\"></td><td style=\"word-wrap: break-word\" ></td></tr>\n",
       "            <tr><td style=\"word-wrap: break-word\" class=\"diff_next\"></td><td style=\"word-wrap: break-word\" class=\"diff_header\" id=\"from12_7\">7</td><td style=\"word-wrap: break-word\" ><span class=\"diff_sub\">The&nbsp;U.S.&nbsp;is&nbsp;one&nbsp;of&nbsp;the&nbsp;largest&nbsp;consumers&nbsp;of&nbsp;seafood.&nbsp;Approximately&nbsp;eighty&nbsp;percent&nbsp;of&nbsp;the&nbsp;seafood&nbsp;sold&nbsp;in&nbsp;the&nbsp;U.S.&nbsp;is&nbsp;imported,&nbsp;and&nbsp;as&nbsp;much&nbsp;as&nbsp;a&nbsp;third&nbsp;of&nbsp;the&nbsp;wild-caught&nbsp;seafood&nbsp;sold&nbsp;in&nbsp;the&nbsp;United&nbsp;States&nbsp;each&nbsp;year&nbsp;is&nbsp;illegal&nbsp;or&nbsp;unreported.&nbsp;&nbsp;</span></td><td style=\"word-wrap: break-word\" class=\"diff_next\"></td><td style=\"word-wrap: break-word\" class=\"diff_header\"></td><td style=\"word-wrap: break-word\" ></td></tr>\n",
       "            <tr><td style=\"word-wrap: break-word\" class=\"diff_next\"></td><td style=\"word-wrap: break-word\" class=\"diff_header\" id=\"from12_8\">8</td><td style=\"word-wrap: break-word\" ><span class=\"diff_sub\">&nbsp;</span></td><td style=\"word-wrap: break-word\" class=\"diff_next\"></td><td style=\"word-wrap: break-word\" class=\"diff_header\"></td><td style=\"word-wrap: break-word\" ></td></tr>\n",
       "            <tr><td style=\"word-wrap: break-word\" class=\"diff_next\"></td><td style=\"word-wrap: break-word\" class=\"diff_header\" id=\"from12_9\">9</td><td style=\"word-wrap: break-word\" ><span class=\"diff_sub\">The&nbsp;U.S.&nbsp;government&nbsp;has&nbsp;a&nbsp;responsibility&nbsp;to&nbsp;fix&nbsp;these&nbsp;problems,&nbsp;and&nbsp;seafood&nbsp;traceability&nbsp;is&nbsp;an&nbsp;essential&nbsp;step&nbsp;in&nbsp;the&nbsp;fight&nbsp;to&nbsp;end&nbsp;illegal&nbsp;fishing&nbsp;and&nbsp;human&nbsp;rights&nbsp;abuses&nbsp;in&nbsp;the&nbsp;seafood&nbsp;industry.&nbsp;But&nbsp;under&nbsp;NOAA&nbsp;Fisheries’&nbsp;proposed&nbsp;rule,&nbsp;traceability&nbsp;requirements&nbsp;would&nbsp;apply&nbsp;to&nbsp;only&nbsp;half&nbsp;of&nbsp;seafood&nbsp;imports,&nbsp;leaving&nbsp;massive&nbsp;loopholes&nbsp;that&nbsp;are&nbsp;easy&nbsp;for&nbsp;bad&nbsp;actors&nbsp;to&nbsp;exploit.&nbsp;The&nbsp;proposed&nbsp;rule&nbsp;also&nbsp;fails&nbsp;to&nbsp;sufficiently&nbsp;address&nbsp;labor&nbsp;abuses&nbsp;in&nbsp;seafood&nbsp;supply&nbsp;chains,&nbsp;and&nbsp;it&nbsp;includes&nbsp;no&nbsp;commitment&nbsp;to&nbsp;improve&nbsp;enforcement&nbsp;of&nbsp;traceability&nbsp;requirements.&nbsp;</span></td><td style=\"word-wrap: break-word\" class=\"diff_next\"></td><td style=\"word-wrap: break-word\" class=\"diff_header\"></td><td style=\"word-wrap: break-word\" ></td></tr>\n",
       "            <tr><td style=\"word-wrap: break-word\" class=\"diff_next\"></td><td style=\"word-wrap: break-word\" class=\"diff_header\" id=\"from12_10\">10</td><td style=\"word-wrap: break-word\" ></td><td style=\"word-wrap: break-word\" class=\"diff_next\"></td><td style=\"word-wrap: break-word\" class=\"diff_header\" id=\"to12_4\">4</td><td style=\"word-wrap: break-word\" ></td></tr>\n",
       "            <tr><td style=\"word-wrap: break-word\" class=\"diff_next\"></td><td style=\"word-wrap: break-word\" class=\"diff_header\" id=\"from12_11\">11</td><td style=\"word-wrap: break-word\" >Please&nbsp;revise&nbsp;the&nbsp;Seafood&nbsp;Import&nbsp;Monitoring&nbsp;Program&nbsp;proposed&nbsp;rule&nbsp;to&nbsp;adopt&nbsp;the&nbsp;strongest&nbsp;possible&nbsp;standards&nbsp;for&nbsp;seafood&nbsp;traceability&nbsp;to&nbsp;intercept&nbsp;the&nbsp;flow&nbsp;of&nbsp;illegal&nbsp;seafood&nbsp;into&nbsp;the&nbsp;U.S.&nbsp;and&nbsp;help&nbsp;consumers&nbsp;feel&nbsp;confident&nbsp;the&nbsp;seafood&nbsp;they&nbsp;buy&nbsp;is&nbsp;legally&nbsp;caught&nbsp;and&nbsp;not&nbsp;a&nbsp;product&nbsp;of&nbsp;labor&nbsp;abuses.&nbsp;Thank&nbsp;you&nbsp;for&nbsp;helping&nbsp;to&nbsp;address&nbsp;these&nbsp;environmental&nbsp;and&nbsp;human&nbsp;rights&nbsp;crimes&nbsp;with&nbsp;the&nbsp;seriousness&nbsp;they&nbsp;deserve.</td><td style=\"word-wrap: break-word\" class=\"diff_next\"></td><td style=\"word-wrap: break-word\" class=\"diff_header\" id=\"to12_5\">5</td><td style=\"word-wrap: break-word\" >Please&nbsp;revise&nbsp;the&nbsp;Seafood&nbsp;Import&nbsp;Monitoring&nbsp;Program&nbsp;proposed&nbsp;rule&nbsp;to&nbsp;adopt&nbsp;the&nbsp;strongest&nbsp;possible&nbsp;standards&nbsp;for&nbsp;seafood&nbsp;traceability&nbsp;to&nbsp;intercept&nbsp;the&nbsp;flow&nbsp;of&nbsp;illegal&nbsp;seafood&nbsp;into&nbsp;the&nbsp;U.S.&nbsp;and&nbsp;help&nbsp;consumers&nbsp;feel&nbsp;confident&nbsp;the&nbsp;seafood&nbsp;they&nbsp;buy&nbsp;is&nbsp;legally&nbsp;caught&nbsp;and&nbsp;not&nbsp;a&nbsp;product&nbsp;of&nbsp;labor&nbsp;abuses.&nbsp;Thank&nbsp;you&nbsp;for&nbsp;helping&nbsp;to&nbsp;address&nbsp;these&nbsp;environmental&nbsp;and&nbsp;human&nbsp;rights&nbsp;crimes&nbsp;with&nbsp;the&nbsp;seriousness&nbsp;they&nbsp;deserve.</td></tr>\n",
       "        </tbody>\n",
       "    </table>\n",
       "    <table style=\"table-layout: fixed; width: 100%\" class=\"diff\" summary=\"Legends\">\n",
       "        <tr> <th colspan=\"2\"> Legends </th> </tr>\n",
       "        <tr> <td style=\"word-wrap: break-word\"> <table style=\"table-layout: fixed; width: 100%\" border=\"\" summary=\"Colors\">\n",
       "                      <tr><th> Colors </th> </tr>\n",
       "                      <tr><td style=\"word-wrap: break-word\" class=\"diff_add\">&nbsp;Added&nbsp;</td></tr>\n",
       "                      <tr><td style=\"word-wrap: break-word\" class=\"diff_chg\">Changed</td> </tr>\n",
       "                      <tr><td style=\"word-wrap: break-word\" class=\"diff_sub\">Deleted</td> </tr>\n",
       "                  </table></td>\n",
       "             <td style=\"word-wrap: break-word\"> <table style=\"table-layout: fixed; width: 100%\" border=\"\" summary=\"Links\">\n",
       "                      <tr><th colspan=\"2\"> Links </th> </tr>\n",
       "                      <tr><td style=\"word-wrap: break-word\">(f)irst change</td> </tr>\n",
       "                      <tr><td style=\"word-wrap: break-word\">(n)ext change</td> </tr>\n",
       "                      <tr><td style=\"word-wrap: break-word\">(t)op</td> </tr>\n",
       "                  </table></td> </tr>\n",
       "    </table>\n",
       "</body>\n",
       "\n",
       "</html>"
      ],
      "text/plain": [
       "<IPython.core.display.HTML object>"
      ]
     },
     "metadata": {},
     "output_type": "display_data"
    },
    {
     "data": {
      "text/html": [
       "\n",
       "<!DOCTYPE html PUBLIC \"-//W3C//DTD XHTML 1.0 Transitional//EN\"\n",
       "          \"http://www.w3.org/TR/xhtml1/DTD/xhtml1-transitional.dtd\">\n",
       "\n",
       "<html>\n",
       "\n",
       "<head>\n",
       "    <meta http-equiv=\"Content-Type\"\n",
       "          content=\"text/html; charset=utf-8\" />\n",
       "    <title></title>\n",
       "    <style type=\"text/css\">\n",
       "        table.diff {font-family:Courier; border:medium;}\n",
       "        .diff_header {background-color:#e0e0e0}\n",
       "        td.diff_header {text-align:right; width:1%}\n",
       "        .diff_next {background-color:#c0c0c0; width:1%}\n",
       "        .diff_add {background-color:#aaffaa}\n",
       "        .diff_chg {background-color:#ffff77}\n",
       "        .diff_sub {background-color:#ffaaaa}\n",
       "    </style>\n",
       "</head>\n",
       "\n",
       "<body><hr /><br /><br /> <p>Comments: ['NOAA-NMFS-2022-0119-1088']</p>\n",
       "    \n",
       "    <table style=\"table-layout: fixed; width: 100%\" class=\"diff\" id=\"difflib_chg_to13__top\"\n",
       "           cellspacing=\"0\" cellpadding=\"0\" rules=\"groups\" >\n",
       "        <colgroup></colgroup> <colgroup></colgroup> <colgroup></colgroup>\n",
       "        <colgroup></colgroup> <colgroup></colgroup> <colgroup></colgroup>\n",
       "        \n",
       "        <tbody>\n",
       "            <tr><td style=\"word-wrap: break-word\" class=\"diff_next\"><a href=\"#difflib_chg_to13__0\">f</a></td><td style=\"word-wrap: break-word\" class=\"diff_header\" id=\"from13_1\">1</td><td style=\"word-wrap: break-word\" >Dear&nbsp;NOAA&nbsp;Administrator&nbsp;Spinrad&nbsp;and&nbsp;NOAA&nbsp;Fisheries&nbsp;Assistant&nbsp;Administrator&nbsp;Coit:</td><td style=\"word-wrap: break-word\" class=\"diff_next\"><a href=\"#difflib_chg_to13__0\">f</a></td><td style=\"word-wrap: break-word\" class=\"diff_header\" id=\"to13_1\">1</td><td style=\"word-wrap: break-word\" >Dear&nbsp;NOAA&nbsp;Administrator&nbsp;Spinrad&nbsp;and&nbsp;NOAA&nbsp;Fisheries&nbsp;Assistant&nbsp;Administrator&nbsp;Coit:</td></tr>\n",
       "            <tr><td style=\"word-wrap: break-word\" class=\"diff_next\" id=\"difflib_chg_to13__0\"></td><td style=\"word-wrap: break-word\" class=\"diff_header\" id=\"from13_2\">2</td><td style=\"word-wrap: break-word\" ></td><td style=\"word-wrap: break-word\" class=\"diff_next\"></td><td style=\"word-wrap: break-word\" class=\"diff_header\" id=\"to13_2\">2</td><td style=\"word-wrap: break-word\" ></td></tr>\n",
       "            <tr><td style=\"word-wrap: break-word\" class=\"diff_next\"></td><td style=\"word-wrap: break-word\" class=\"diff_header\" id=\"from13_3\">3</td><td style=\"word-wrap: break-word\" >The&nbsp;United&nbsp;States&nbsp;needs&nbsp;an&nbsp;effective&nbsp;seafood&nbsp;traceability&nbsp;program&nbsp;to&nbsp;intercept&nbsp;the&nbsp;flow&nbsp;of&nbsp;illegal&nbsp;seafood&nbsp;into&nbsp;our&nbsp;markets.&nbsp;Illegal&nbsp;fishing&nbsp;is&nbsp;a&nbsp;top&nbsp;driver&nbsp;of&nbsp;unsustainable&nbsp;and&nbsp;environmentally&nbsp;harmful&nbsp;fishing&nbsp;practices&nbsp;around&nbsp;the&nbsp;globe,&nbsp;as&nbsp;well&nbsp;as&nbsp;associated&nbsp;human&nbsp;rights&nbsp;abuses&nbsp;in&nbsp;the&nbsp;seafood&nbsp;sector.&nbsp;The&nbsp;newly&nbsp;proposed&nbsp;changes&nbsp;to&nbsp;the&nbsp;Seafood&nbsp;Import&nbsp;Monitoring&nbsp;Program&nbsp;do&nbsp;not&nbsp;go&nbsp;far&nbsp;enough&nbsp;to&nbsp;help&nbsp;end&nbsp;the&nbsp;U.S.'s&nbsp;role&nbsp;in&nbsp;perpetuating&nbsp;human&nbsp;rights&nbsp;abuses&nbsp;and&nbsp;environmental&nbsp;destruction&nbsp;in&nbsp;the&nbsp;seafood&nbsp;industry.&nbsp;</td><td style=\"word-wrap: break-word\" class=\"diff_next\"></td><td style=\"word-wrap: break-word\" class=\"diff_header\" id=\"to13_3\">3</td><td style=\"word-wrap: break-word\" >The&nbsp;United&nbsp;States&nbsp;needs&nbsp;an&nbsp;effective&nbsp;seafood&nbsp;traceability&nbsp;program&nbsp;to&nbsp;intercept&nbsp;the&nbsp;flow&nbsp;of&nbsp;illegal&nbsp;seafood&nbsp;into&nbsp;our&nbsp;markets.&nbsp;Illegal&nbsp;fishing&nbsp;is&nbsp;a&nbsp;top&nbsp;driver&nbsp;of&nbsp;unsustainable&nbsp;and&nbsp;environmentally&nbsp;harmful&nbsp;fishing&nbsp;practices&nbsp;around&nbsp;the&nbsp;globe,&nbsp;as&nbsp;well&nbsp;as&nbsp;associated&nbsp;human&nbsp;rights&nbsp;abuses&nbsp;in&nbsp;the&nbsp;seafood&nbsp;sector.&nbsp;The&nbsp;newly&nbsp;proposed&nbsp;changes&nbsp;to&nbsp;the&nbsp;Seafood&nbsp;Import&nbsp;Monitoring&nbsp;Program&nbsp;do&nbsp;not&nbsp;go&nbsp;far&nbsp;enough&nbsp;to&nbsp;help&nbsp;end&nbsp;the&nbsp;U.S.'s&nbsp;role&nbsp;in&nbsp;perpetuating&nbsp;human&nbsp;rights&nbsp;abuses&nbsp;and&nbsp;environmental&nbsp;destruction&nbsp;in&nbsp;the&nbsp;seafood&nbsp;industry.&nbsp;</td></tr>\n",
       "            <tr><td style=\"word-wrap: break-word\" class=\"diff_next\"></td><td style=\"word-wrap: break-word\" class=\"diff_header\" id=\"from13_4\">4</td><td style=\"word-wrap: break-word\" ></td><td style=\"word-wrap: break-word\" class=\"diff_next\"></td><td style=\"word-wrap: break-word\" class=\"diff_header\" id=\"to13_4\">4</td><td style=\"word-wrap: break-word\" ></td></tr>\n",
       "            <tr><td style=\"word-wrap: break-word\" class=\"diff_next\" id=\"difflib_chg_to13__1\"></td><td style=\"word-wrap: break-word\" class=\"diff_header\" id=\"from13_5\">5</td><td style=\"word-wrap: break-word\" >Illegal&nbsp;fishing&nbsp;is&nbsp;destroying&nbsp;our&nbsp;oceans.&nbsp;Years&nbsp;of&nbsp;overfishing&nbsp;in&nbsp;nearshore&nbsp;waters&nbsp;have&nbsp;forced&nbsp;boats&nbsp;to&nbsp;go&nbsp;into&nbsp;deeper&nbsp;waters,&nbsp;which&nbsp;makes&nbsp;fishing&nbsp;more&nbsp;expensive.&nbsp;Some&nbsp;fishers&nbsp;will&nbsp;cut&nbsp;costs&nbsp;by&nbsp;fishing&nbsp;with&nbsp;illegal&nbsp;gear,&nbsp;fishing&nbsp;in&nbsp;protected&nbsp;areas,&nbsp;or&nbsp;ignoring&nbsp;catch&nbsp;limits.&nbsp;To&nbsp;save&nbsp;on&nbsp;labor&nbsp;costs,&nbsp;some&nbsp;vessel&nbsp;owners&nbsp;rely&nbsp;on&nbsp;human&nbsp;traffickers,&nbsp;some&nbsp;even&nbsp;kidnapping&nbsp;or&nbsp;drugging&nbsp;workers&nbsp;to&nbsp;get&nbsp;them&nbsp;on&nbsp;the&nbsp;ship&nbsp;and&nbsp;cut&nbsp;off&nbsp;from&nbsp;help.&nbsp;Further,&nbsp;the&nbsp;overseas&nbsp;seafood&nbsp;processing&nbsp;industry&nbsp;is&nbsp;heavily&nbsp;reliant&nbsp;on&nbsp;forced&nbsp;labor.&nbsp;&nbsp;</td><td style=\"word-wrap: break-word\" class=\"diff_next\"></td><td style=\"word-wrap: break-word\" class=\"diff_header\" id=\"to13_5\">5</td><td style=\"word-wrap: break-word\" >Illegal&nbsp;fishing&nbsp;is&nbsp;destroying&nbsp;our&nbsp;oceans.&nbsp;Years&nbsp;of&nbsp;overfishing&nbsp;in&nbsp;nearshore&nbsp;waters&nbsp;have&nbsp;forced&nbsp;boats&nbsp;to&nbsp;go&nbsp;into&nbsp;deeper&nbsp;waters,&nbsp;which&nbsp;makes&nbsp;fishing&nbsp;more&nbsp;expensive.&nbsp;Some&nbsp;fishers&nbsp;will&nbsp;cut&nbsp;costs&nbsp;by&nbsp;fishing&nbsp;with&nbsp;illegal&nbsp;gear,&nbsp;fishing&nbsp;in&nbsp;protected&nbsp;areas,&nbsp;or&nbsp;ignoring&nbsp;catch&nbsp;limits.&nbsp;To&nbsp;save&nbsp;on&nbsp;labor&nbsp;costs,&nbsp;some&nbsp;vessel&nbsp;owners&nbsp;rely&nbsp;on&nbsp;human&nbsp;traffickers,&nbsp;some&nbsp;even&nbsp;kidnapping&nbsp;or&nbsp;drugging&nbsp;workers&nbsp;to&nbsp;get&nbsp;them&nbsp;on&nbsp;the&nbsp;ship&nbsp;and&nbsp;cut&nbsp;off&nbsp;from&nbsp;help.&nbsp;Further,&nbsp;the&nbsp;overseas&nbsp;seafood&nbsp;processing&nbsp;industry&nbsp;is&nbsp;heavily&nbsp;reliant&nbsp;on&nbsp;forced&nbsp;labor.&nbsp;&nbsp;</td></tr>\n",
       "            <tr><td style=\"word-wrap: break-word\" class=\"diff_next\"></td><td style=\"word-wrap: break-word\" class=\"diff_header\" id=\"from13_6\">6</td><td style=\"word-wrap: break-word\" ></td><td style=\"word-wrap: break-word\" class=\"diff_next\"></td><td style=\"word-wrap: break-word\" class=\"diff_header\" id=\"to13_6\">6</td><td style=\"word-wrap: break-word\" ></td></tr>\n",
       "            <tr><td style=\"word-wrap: break-word\" class=\"diff_next\"><a href=\"#difflib_chg_to13__1\">n</a></td><td style=\"word-wrap: break-word\" class=\"diff_header\" id=\"from13_7\">7</td><td style=\"word-wrap: break-word\" ><span class=\"diff_sub\">The&nbsp;U.S.&nbsp;is&nbsp;one&nbsp;of&nbsp;the&nbsp;largest&nbsp;consumers&nbsp;of&nbsp;seafood.&nbsp;Approximately&nbsp;eighty&nbsp;percent&nbsp;of&nbsp;the&nbsp;seafood&nbsp;sold&nbsp;in&nbsp;the&nbsp;U.S.&nbsp;is&nbsp;imported,&nbsp;and&nbsp;as&nbsp;much&nbsp;as&nbsp;a&nbsp;third&nbsp;of&nbsp;the&nbsp;wild-caught&nbsp;seafood&nbsp;sold&nbsp;in&nbsp;the&nbsp;United&nbsp;States&nbsp;each&nbsp;year&nbsp;is&nbsp;illegal&nbsp;or&nbsp;unreported.&nbsp;&nbsp;</span></td><td style=\"word-wrap: break-word\" class=\"diff_next\"><a href=\"#difflib_chg_to13__1\">n</a></td><td style=\"word-wrap: break-word\" class=\"diff_header\" id=\"to13_7\">7</td><td style=\"word-wrap: break-word\" ><span class=\"diff_add\">As&nbsp;one&nbsp;of&nbsp;the&nbsp;largest&nbsp;consumers&nbsp;of&nbsp;seafood,&nbsp;approximately&nbsp;80%&nbsp;of&nbsp;the&nbsp;seafood&nbsp;sold&nbsp;in&nbsp;the&nbsp;U.S.&nbsp;is&nbsp;imported,&nbsp;and&nbsp;as&nbsp;much&nbsp;as&nbsp;a&nbsp;third&nbsp;of&nbsp;the&nbsp;wild-caught&nbsp;seafood&nbsp;sold&nbsp;in&nbsp;the&nbsp;USA&nbsp;each&nbsp;year&nbsp;is&nbsp;illegal&nbsp;or&nbsp;unreported!&nbsp;&nbsp;</span></td></tr>\n",
       "            <tr><td style=\"word-wrap: break-word\" class=\"diff_next\"></td><td style=\"word-wrap: break-word\" class=\"diff_header\"></td><td style=\"word-wrap: break-word\" ></td><td style=\"word-wrap: break-word\" class=\"diff_next\"></td><td style=\"word-wrap: break-word\" class=\"diff_header\" id=\"to13_8\">8</td><td style=\"word-wrap: break-word\" ><span class=\"diff_add\">Our&nbsp;government&nbsp;must&nbsp;take&nbsp;corrective&nbsp;action,&nbsp;and&nbsp;seafood&nbsp;traceability&nbsp;is&nbsp;an&nbsp;essential&nbsp;step&nbsp;in&nbsp;the&nbsp;fight&nbsp;to&nbsp;end&nbsp;illegal&nbsp;fishing&nbsp;and&nbsp;human&nbsp;rights&nbsp;abuses&nbsp;in&nbsp;this&nbsp;industry.&nbsp;But&nbsp;under&nbsp;NOAA&nbsp;Fisheries’&nbsp;proposed&nbsp;rule,&nbsp;traceability&nbsp;requirements&nbsp;would&nbsp;apply&nbsp;to&nbsp;only&nbsp;50%&nbsp;of&nbsp;seafood&nbsp;imports,&nbsp;leaving&nbsp;massive&nbsp;loopholes&nbsp;that&nbsp;are&nbsp;easy&nbsp;for&nbsp;bad&nbsp;actors&nbsp;to&nbsp;exploit.&nbsp;A&nbsp;ruling&nbsp;that&nbsp;fails&nbsp;to&nbsp;concretely&nbsp;address&nbsp;labor&nbsp;abuses&nbsp;in&nbsp;seafood&nbsp;supply&nbsp;chains&nbsp;and&nbsp;which&nbsp;includes&nbsp;no&nbsp;commitment&nbsp;to&nbsp;improve&nbsp;enforcement&nbsp;of&nbsp;traceability&nbsp;requirements&nbsp;has&nbsp;no&nbsp;\"real&nbsp;teeth.\"</span></td></tr>\n",
       "            <tr><td style=\"word-wrap: break-word\" class=\"diff_next\"></td><td style=\"word-wrap: break-word\" class=\"diff_header\" id=\"from13_8\">8</td><td style=\"word-wrap: break-word\" ></td><td style=\"word-wrap: break-word\" class=\"diff_next\"></td><td style=\"word-wrap: break-word\" class=\"diff_header\" id=\"to13_9\">9</td><td style=\"word-wrap: break-word\" ></td></tr>\n",
       "            <tr><td style=\"word-wrap: break-word\" class=\"diff_next\"><a href=\"#difflib_chg_to13__top\">t</a></td><td style=\"word-wrap: break-word\" class=\"diff_header\" id=\"from13_9\">9</td><td style=\"word-wrap: break-word\" ><span class=\"diff_sub\">The&nbsp;U.S.&nbsp;government&nbsp;has&nbsp;a&nbsp;responsibility&nbsp;to&nbsp;fix&nbsp;these&nbsp;problems,&nbsp;and&nbsp;seafood&nbsp;traceability&nbsp;is&nbsp;an&nbsp;essential&nbsp;step&nbsp;in&nbsp;the&nbsp;fight&nbsp;to&nbsp;end&nbsp;illegal&nbsp;fishing&nbsp;and&nbsp;human&nbsp;rights&nbsp;abuses&nbsp;in&nbsp;the&nbsp;seafood&nbsp;industry.&nbsp;But&nbsp;under&nbsp;NOAA&nbsp;Fisheries’&nbsp;proposed&nbsp;rule,&nbsp;traceability&nbsp;requirements&nbsp;would&nbsp;apply&nbsp;to&nbsp;only&nbsp;half&nbsp;of&nbsp;seafood&nbsp;imports,&nbsp;leaving&nbsp;massive&nbsp;loopholes&nbsp;that&nbsp;are&nbsp;easy&nbsp;for&nbsp;bad&nbsp;actors&nbsp;to&nbsp;exploit.&nbsp;The&nbsp;proposed&nbsp;rule&nbsp;also&nbsp;fails&nbsp;to&nbsp;sufficiently&nbsp;address&nbsp;labor&nbsp;abuses&nbsp;in&nbsp;seafood&nbsp;supply&nbsp;chains,&nbsp;and&nbsp;it&nbsp;includes&nbsp;no&nbsp;commitment&nbsp;to&nbsp;improve&nbsp;enforcement&nbsp;of&nbsp;traceability&nbsp;requirements.&nbsp;</span></td><td style=\"word-wrap: break-word\" class=\"diff_next\"><a href=\"#difflib_chg_to13__top\">t</a></td><td style=\"word-wrap: break-word\" class=\"diff_header\"></td><td style=\"word-wrap: break-word\" ></td></tr>\n",
       "            <tr><td style=\"word-wrap: break-word\" class=\"diff_next\"></td><td style=\"word-wrap: break-word\" class=\"diff_header\" id=\"from13_10\">10</td><td style=\"word-wrap: break-word\" ><span class=\"diff_sub\">&nbsp;</span></td><td style=\"word-wrap: break-word\" class=\"diff_next\"></td><td style=\"word-wrap: break-word\" class=\"diff_header\"></td><td style=\"word-wrap: break-word\" ></td></tr>\n",
       "            <tr><td style=\"word-wrap: break-word\" class=\"diff_next\"></td><td style=\"word-wrap: break-word\" class=\"diff_header\" id=\"from13_11\">11</td><td style=\"word-wrap: break-word\" >Please&nbsp;revise&nbsp;the&nbsp;Seafood&nbsp;Import&nbsp;Monitoring&nbsp;Program&nbsp;proposed&nbsp;rule&nbsp;to&nbsp;adopt&nbsp;the&nbsp;strongest&nbsp;possible&nbsp;standards&nbsp;for&nbsp;seafood&nbsp;traceability&nbsp;to&nbsp;intercept&nbsp;the&nbsp;flow&nbsp;of&nbsp;illegal&nbsp;seafood&nbsp;into&nbsp;the&nbsp;U.S.&nbsp;<span class=\"diff_chg\">and&nbsp;help&nbsp;consumers&nbsp;feel&nbsp;confident&nbsp;the&nbsp;seafood&nbsp;they</span>&nbsp;buy&nbsp;is&nbsp;legally&nbsp;caught&nbsp;and&nbsp;not&nbsp;a&nbsp;product&nbsp;of&nbsp;labor&nbsp;abuses.&nbsp;Thank&nbsp;you&nbsp;for&nbsp;helping&nbsp;to&nbsp;address&nbsp;these&nbsp;environmental&nbsp;and&nbsp;human&nbsp;rights&nbsp;crimes&nbsp;with&nbsp;the&nbsp;seriousness&nbsp;they&nbsp;deserve.</td><td style=\"word-wrap: break-word\" class=\"diff_next\"></td><td style=\"word-wrap: break-word\" class=\"diff_header\" id=\"to13_10\">10</td><td style=\"word-wrap: break-word\" >Please&nbsp;revise&nbsp;the&nbsp;Seafood&nbsp;Import&nbsp;Monitoring&nbsp;Program&nbsp;proposed&nbsp;rule&nbsp;to&nbsp;adopt&nbsp;the&nbsp;strongest&nbsp;possible&nbsp;standards&nbsp;for&nbsp;seafood&nbsp;traceability&nbsp;to&nbsp;intercept&nbsp;the&nbsp;flow&nbsp;of&nbsp;illegal&nbsp;seafood&nbsp;into&nbsp;the&nbsp;U.S.&nbsp;<span class=\"diff_chg\">&nbsp;&nbsp;Insure&nbsp;that&nbsp;USA&nbsp;consumers&nbsp;feel&nbsp;confident&nbsp;that&nbsp;the&nbsp;seafood&nbsp;they</span>&nbsp;buy&nbsp;is&nbsp;legally&nbsp;caught&nbsp;and&nbsp;not&nbsp;a&nbsp;product&nbsp;of&nbsp;labor&nbsp;abuses.&nbsp;Thank&nbsp;you&nbsp;for&nbsp;helping&nbsp;to&nbsp;address&nbsp;these&nbsp;environmental&nbsp;and&nbsp;human&nbsp;rights&nbsp;crimes&nbsp;with&nbsp;the&nbsp;seriousness&nbsp;they&nbsp;deserve.</td></tr>\n",
       "        </tbody>\n",
       "    </table>\n",
       "    <table style=\"table-layout: fixed; width: 100%\" class=\"diff\" summary=\"Legends\">\n",
       "        <tr> <th colspan=\"2\"> Legends </th> </tr>\n",
       "        <tr> <td style=\"word-wrap: break-word\"> <table style=\"table-layout: fixed; width: 100%\" border=\"\" summary=\"Colors\">\n",
       "                      <tr><th> Colors </th> </tr>\n",
       "                      <tr><td style=\"word-wrap: break-word\" class=\"diff_add\">&nbsp;Added&nbsp;</td></tr>\n",
       "                      <tr><td style=\"word-wrap: break-word\" class=\"diff_chg\">Changed</td> </tr>\n",
       "                      <tr><td style=\"word-wrap: break-word\" class=\"diff_sub\">Deleted</td> </tr>\n",
       "                  </table></td>\n",
       "             <td style=\"word-wrap: break-word\"> <table style=\"table-layout: fixed; width: 100%\" border=\"\" summary=\"Links\">\n",
       "                      <tr><th colspan=\"2\"> Links </th> </tr>\n",
       "                      <tr><td style=\"word-wrap: break-word\">(f)irst change</td> </tr>\n",
       "                      <tr><td style=\"word-wrap: break-word\">(n)ext change</td> </tr>\n",
       "                      <tr><td style=\"word-wrap: break-word\">(t)op</td> </tr>\n",
       "                  </table></td> </tr>\n",
       "    </table>\n",
       "</body>\n",
       "\n",
       "</html>"
      ],
      "text/plain": [
       "<IPython.core.display.HTML object>"
      ]
     },
     "metadata": {},
     "output_type": "display_data"
    },
    {
     "data": {
      "text/html": [
       "\n",
       "<!DOCTYPE html PUBLIC \"-//W3C//DTD XHTML 1.0 Transitional//EN\"\n",
       "          \"http://www.w3.org/TR/xhtml1/DTD/xhtml1-transitional.dtd\">\n",
       "\n",
       "<html>\n",
       "\n",
       "<head>\n",
       "    <meta http-equiv=\"Content-Type\"\n",
       "          content=\"text/html; charset=utf-8\" />\n",
       "    <title></title>\n",
       "    <style type=\"text/css\">\n",
       "        table.diff {font-family:Courier; border:medium;}\n",
       "        .diff_header {background-color:#e0e0e0}\n",
       "        td.diff_header {text-align:right; width:1%}\n",
       "        .diff_next {background-color:#c0c0c0; width:1%}\n",
       "        .diff_add {background-color:#aaffaa}\n",
       "        .diff_chg {background-color:#ffff77}\n",
       "        .diff_sub {background-color:#ffaaaa}\n",
       "    </style>\n",
       "</head>\n",
       "\n",
       "<body><hr /><br /><br /> <p>Comments: ['NOAA-NMFS-2022-0119-1483']</p>\n",
       "    \n",
       "    <table style=\"table-layout: fixed; width: 100%\" class=\"diff\" id=\"difflib_chg_to14__top\"\n",
       "           cellspacing=\"0\" cellpadding=\"0\" rules=\"groups\" >\n",
       "        <colgroup></colgroup> <colgroup></colgroup> <colgroup></colgroup>\n",
       "        <colgroup></colgroup> <colgroup></colgroup> <colgroup></colgroup>\n",
       "        \n",
       "        <tbody>\n",
       "            <tr><td style=\"word-wrap: break-word\" class=\"diff_next\" id=\"difflib_chg_to14__1\"><a href=\"#difflib_chg_to14__0\">f</a></td><td style=\"word-wrap: break-word\" class=\"diff_header\" id=\"from14_1\">1</td><td style=\"word-wrap: break-word\" >Dear&nbsp;NOAA&nbsp;Administrator&nbsp;Spinrad&nbsp;and&nbsp;NOAA&nbsp;Fisheries&nbsp;Assistant&nbsp;Administrator&nbsp;Coit:</td><td style=\"word-wrap: break-word\" class=\"diff_next\"><a href=\"#difflib_chg_to14__0\">f</a></td><td style=\"word-wrap: break-word\" class=\"diff_header\" id=\"to14_1\">1</td><td style=\"word-wrap: break-word\" >Dear&nbsp;NOAA&nbsp;Administrator&nbsp;Spinrad&nbsp;and&nbsp;NOAA&nbsp;Fisheries&nbsp;Assistant&nbsp;Administrator&nbsp;Coit:</td></tr>\n",
       "            <tr><td style=\"word-wrap: break-word\" class=\"diff_next\" id=\"difflib_chg_to14__2\"></td><td style=\"word-wrap: break-word\" class=\"diff_header\" id=\"from14_2\">2</td><td style=\"word-wrap: break-word\" ></td><td style=\"word-wrap: break-word\" class=\"diff_next\"></td><td style=\"word-wrap: break-word\" class=\"diff_header\" id=\"to14_2\">2</td><td style=\"word-wrap: break-word\" ></td></tr>\n",
       "            <tr><td style=\"word-wrap: break-word\" class=\"diff_next\"><a href=\"#difflib_chg_to14__1\">n</a></td><td style=\"word-wrap: break-word\" class=\"diff_header\" id=\"from14_3\">3</td><td style=\"word-wrap: break-word\" ><span class=\"diff_sub\">The&nbsp;United&nbsp;States&nbsp;needs&nbsp;an&nbsp;effective&nbsp;seafood&nbsp;traceability&nbsp;program&nbsp;to&nbsp;intercept&nbsp;the&nbsp;flow&nbsp;of&nbsp;illegal&nbsp;seafood&nbsp;into&nbsp;our&nbsp;markets.&nbsp;Illegal&nbsp;fishing&nbsp;is&nbsp;a&nbsp;top&nbsp;driver&nbsp;of&nbsp;unsustainable&nbsp;and&nbsp;environmentally&nbsp;harmful&nbsp;fishing&nbsp;practices&nbsp;around&nbsp;the&nbsp;globe,&nbsp;as&nbsp;well&nbsp;as&nbsp;associated&nbsp;human&nbsp;rights&nbsp;abuses&nbsp;in&nbsp;the&nbsp;seafood&nbsp;sector.&nbsp;The&nbsp;newly&nbsp;proposed&nbsp;changes&nbsp;to&nbsp;the&nbsp;Seafood&nbsp;Import&nbsp;Monitoring&nbsp;Program&nbsp;do&nbsp;not&nbsp;go&nbsp;far&nbsp;enough&nbsp;to&nbsp;help&nbsp;end&nbsp;the&nbsp;U.S.'s&nbsp;role&nbsp;in&nbsp;perpetuating&nbsp;human&nbsp;rights&nbsp;abuses&nbsp;and&nbsp;environmental&nbsp;destruction&nbsp;in&nbsp;the&nbsp;seafood&nbsp;industry.&nbsp;</span></td><td style=\"word-wrap: break-word\" class=\"diff_next\"><a href=\"#difflib_chg_to14__1\">n</a></td><td style=\"word-wrap: break-word\" class=\"diff_header\" id=\"to14_3\">3</td><td style=\"word-wrap: break-word\" ><span class=\"diff_add\">The&nbsp;United&nbsp;States&nbsp;urgently&nbsp;&nbsp;needs&nbsp;an&nbsp;effective&nbsp;seafood&nbsp;traceability&nbsp;program&nbsp;to&nbsp;end&nbsp;the&nbsp;flow&nbsp;of&nbsp;illegal&nbsp;seafood&nbsp;into&nbsp;our&nbsp;markets.&nbsp;</span></td></tr>\n",
       "            <tr><td style=\"word-wrap: break-word\" class=\"diff_next\" id=\"difflib_chg_to14__3\"></td><td style=\"word-wrap: break-word\" class=\"diff_header\" id=\"from14_4\">4</td><td style=\"word-wrap: break-word\" ></td><td style=\"word-wrap: break-word\" class=\"diff_next\"></td><td style=\"word-wrap: break-word\" class=\"diff_header\" id=\"to14_4\">4</td><td style=\"word-wrap: break-word\" ></td></tr>\n",
       "            <tr><td style=\"word-wrap: break-word\" class=\"diff_next\"><a href=\"#difflib_chg_to14__2\">n</a></td><td style=\"word-wrap: break-word\" class=\"diff_header\" id=\"from14_5\">5</td><td style=\"word-wrap: break-word\" ><span class=\"diff_sub\">Illegal&nbsp;fishing&nbsp;is&nbsp;destroying&nbsp;our&nbsp;oceans.&nbsp;Years&nbsp;of&nbsp;overfishing&nbsp;in&nbsp;nearshore&nbsp;waters&nbsp;have&nbsp;forced&nbsp;boats&nbsp;to&nbsp;go&nbsp;into&nbsp;deeper&nbsp;waters,&nbsp;which&nbsp;makes&nbsp;fishing&nbsp;more&nbsp;expensive.&nbsp;Some&nbsp;fishers&nbsp;will&nbsp;cut&nbsp;costs&nbsp;by&nbsp;fishing&nbsp;with&nbsp;illegal&nbsp;gear,&nbsp;fishing&nbsp;in&nbsp;protected&nbsp;areas,&nbsp;or&nbsp;ignoring&nbsp;catch&nbsp;limits.&nbsp;To&nbsp;save&nbsp;on&nbsp;labor&nbsp;costs,&nbsp;some&nbsp;vessel&nbsp;owners&nbsp;rely&nbsp;on&nbsp;human&nbsp;traffickers,&nbsp;some&nbsp;even&nbsp;kidnapping&nbsp;or&nbsp;drugging&nbsp;workers&nbsp;to&nbsp;get&nbsp;them&nbsp;on&nbsp;the&nbsp;ship&nbsp;and&nbsp;cut&nbsp;off&nbsp;from&nbsp;help.&nbsp;Further,&nbsp;the&nbsp;overseas&nbsp;seafood&nbsp;processing&nbsp;industry&nbsp;is&nbsp;heavily&nbsp;reliant&nbsp;on&nbsp;forced&nbsp;labor.&nbsp;&nbsp;</span></td><td style=\"word-wrap: break-word\" class=\"diff_next\"><a href=\"#difflib_chg_to14__2\">n</a></td><td style=\"word-wrap: break-word\" class=\"diff_header\" id=\"to14_5\">5</td><td style=\"word-wrap: break-word\" ><span class=\"diff_add\">Illegal&nbsp;fishing&nbsp;is&nbsp;a&nbsp;primary&nbsp;malefactor&nbsp;and&nbsp;protagonist&nbsp;of&nbsp;unsustainable&nbsp;and&nbsp;environmentally&nbsp;harmful&nbsp;fishing&nbsp;practices&nbsp;around&nbsp;the&nbsp;globe,&nbsp;as&nbsp;well&nbsp;as&nbsp;associated&nbsp;and&nbsp;unconscionable&nbsp;human&nbsp;rights&nbsp;abuses&nbsp;in&nbsp;the&nbsp;seafood&nbsp;sector.&nbsp;</span></td></tr>\n",
       "            <tr><td style=\"word-wrap: break-word\" class=\"diff_next\" id=\"difflib_chg_to14__4\"></td><td style=\"word-wrap: break-word\" class=\"diff_header\" id=\"from14_6\">6</td><td style=\"word-wrap: break-word\" ></td><td style=\"word-wrap: break-word\" class=\"diff_next\"></td><td style=\"word-wrap: break-word\" class=\"diff_header\" id=\"to14_6\">6</td><td style=\"word-wrap: break-word\" ></td></tr>\n",
       "            <tr><td style=\"word-wrap: break-word\" class=\"diff_next\"><a href=\"#difflib_chg_to14__3\">n</a></td><td style=\"word-wrap: break-word\" class=\"diff_header\" id=\"from14_7\">7</td><td style=\"word-wrap: break-word\" ><span class=\"diff_sub\">The&nbsp;U.S.&nbsp;is&nbsp;one&nbsp;of&nbsp;the&nbsp;largest&nbsp;consumers&nbsp;of&nbsp;seafood.&nbsp;Approximately&nbsp;eighty&nbsp;percent&nbsp;of&nbsp;the&nbsp;seafood&nbsp;sold&nbsp;in&nbsp;the&nbsp;U.S.&nbsp;is&nbsp;imported,&nbsp;and&nbsp;as&nbsp;much&nbsp;as&nbsp;a&nbsp;third&nbsp;of&nbsp;the&nbsp;wild-caught&nbsp;seafood&nbsp;sold&nbsp;in&nbsp;the&nbsp;United&nbsp;States&nbsp;each&nbsp;year&nbsp;is&nbsp;illegal&nbsp;or&nbsp;unreported.&nbsp;&nbsp;</span></td><td style=\"word-wrap: break-word\" class=\"diff_next\"><a href=\"#difflib_chg_to14__3\">n</a></td><td style=\"word-wrap: break-word\" class=\"diff_header\" id=\"to14_7\">7</td><td style=\"word-wrap: break-word\" ><span class=\"diff_add\">The&nbsp;newly&nbsp;proposed&nbsp;changes&nbsp;to&nbsp;the&nbsp;Seafood&nbsp;Import&nbsp;Monitoring&nbsp;Program&nbsp;do&nbsp;not&nbsp;go&nbsp;far&nbsp;enough&nbsp;to&nbsp;help&nbsp;end&nbsp;the&nbsp;U.S.'s&nbsp;acquiesce&nbsp;with,&nbsp;tolerance&nbsp;of&nbsp;–&nbsp;and&nbsp;thus&nbsp;complicity&nbsp;with&nbsp;–&nbsp;the&nbsp;perpetuation&nbsp;of&nbsp;human&nbsp;rights&nbsp;abuses&nbsp;and&nbsp;environmental&nbsp;destruction&nbsp;in&nbsp;the&nbsp;seafood&nbsp;industry.&nbsp;</span></td></tr>\n",
       "            <tr><td style=\"word-wrap: break-word\" class=\"diff_next\"></td><td style=\"word-wrap: break-word\" class=\"diff_header\" id=\"from14_8\">8</td><td style=\"word-wrap: break-word\" ></td><td style=\"word-wrap: break-word\" class=\"diff_next\"></td><td style=\"word-wrap: break-word\" class=\"diff_header\" id=\"to14_8\">8</td><td style=\"word-wrap: break-word\" ></td></tr>\n",
       "            <tr><td style=\"word-wrap: break-word\" class=\"diff_next\"><a href=\"#difflib_chg_to14__4\">n</a></td><td style=\"word-wrap: break-word\" class=\"diff_header\" id=\"from14_9\">9</td><td style=\"word-wrap: break-word\" ><span class=\"diff_sub\">The&nbsp;U.S.&nbsp;government&nbsp;has&nbsp;a&nbsp;responsibility&nbsp;to&nbsp;fix&nbsp;these&nbsp;problems,&nbsp;and&nbsp;seafood&nbsp;traceability&nbsp;is&nbsp;an&nbsp;essential&nbsp;step&nbsp;in&nbsp;the&nbsp;fight&nbsp;to&nbsp;end&nbsp;illegal&nbsp;fishing&nbsp;and&nbsp;human&nbsp;rights&nbsp;abuses&nbsp;in&nbsp;the&nbsp;seafood&nbsp;industry.&nbsp;But&nbsp;under&nbsp;NOAA&nbsp;Fisheries’&nbsp;proposed&nbsp;rule,&nbsp;traceability&nbsp;requirements&nbsp;would&nbsp;apply&nbsp;to&nbsp;only&nbsp;half&nbsp;of&nbsp;seafood&nbsp;imports,&nbsp;leaving&nbsp;massive&nbsp;loopholes&nbsp;that&nbsp;are&nbsp;easy&nbsp;for&nbsp;bad&nbsp;actors&nbsp;to&nbsp;exploit.&nbsp;The&nbsp;proposed&nbsp;rule&nbsp;also&nbsp;fails&nbsp;to&nbsp;sufficiently&nbsp;address&nbsp;labor&nbsp;abuses&nbsp;in&nbsp;seafood&nbsp;supply&nbsp;chains,&nbsp;and&nbsp;it&nbsp;includes&nbsp;no&nbsp;commitment&nbsp;to&nbsp;improve&nbsp;enforcement&nbsp;of&nbsp;traceability&nbsp;requirements.&nbsp;</span></td><td style=\"word-wrap: break-word\" class=\"diff_next\"><a href=\"#difflib_chg_to14__4\">n</a></td><td style=\"word-wrap: break-word\" class=\"diff_header\" id=\"to14_9\">9</td><td style=\"word-wrap: break-word\" ><span class=\"diff_add\">Illegal&nbsp;fishing&nbsp;is&nbsp;degrading&nbsp;and&nbsp;progressively&nbsp;destroying&nbsp;all&nbsp;the&nbsp;world’s&nbsp;oceans.&nbsp;</span></td></tr>\n",
       "            <tr><td style=\"word-wrap: break-word\" class=\"diff_next\"></td><td style=\"word-wrap: break-word\" class=\"diff_header\" id=\"from14_10\">10</td><td style=\"word-wrap: break-word\" ></td><td style=\"word-wrap: break-word\" class=\"diff_next\"></td><td style=\"word-wrap: break-word\" class=\"diff_header\" id=\"to14_10\">10</td><td style=\"word-wrap: break-word\" ></td></tr>\n",
       "            <tr><td style=\"word-wrap: break-word\" class=\"diff_next\"><a href=\"#difflib_chg_to14__top\">t</a></td><td style=\"word-wrap: break-word\" class=\"diff_header\" id=\"from14_11\">11</td><td style=\"word-wrap: break-word\" ><span class=\"diff_sub\">Please&nbsp;revise&nbsp;the&nbsp;Seafood&nbsp;Import&nbsp;Monitoring&nbsp;Program&nbsp;proposed&nbsp;rule&nbsp;to&nbsp;adopt&nbsp;the&nbsp;strongest&nbsp;possible&nbsp;standards&nbsp;for&nbsp;seafood&nbsp;traceability&nbsp;to&nbsp;intercept&nbsp;the&nbsp;flow&nbsp;of&nbsp;illegal&nbsp;seafood&nbsp;into&nbsp;the&nbsp;U.S.&nbsp;and&nbsp;help&nbsp;consumers&nbsp;feel&nbsp;confident&nbsp;the&nbsp;seafood&nbsp;they&nbsp;buy&nbsp;is&nbsp;legally&nbsp;caught&nbsp;and&nbsp;not&nbsp;a&nbsp;product&nbsp;of&nbsp;labor&nbsp;abuses.&nbsp;Thank&nbsp;you&nbsp;for&nbsp;helping&nbsp;to&nbsp;address&nbsp;these&nbsp;environmental&nbsp;and&nbsp;human&nbsp;rights&nbsp;crimes&nbsp;with&nbsp;the&nbsp;seriousness&nbsp;they&nbsp;deserve.</span></td><td style=\"word-wrap: break-word\" class=\"diff_next\"><a href=\"#difflib_chg_to14__top\">t</a></td><td style=\"word-wrap: break-word\" class=\"diff_header\" id=\"to14_11\">11</td><td style=\"word-wrap: break-word\" ><span class=\"diff_add\">Years&nbsp;of&nbsp;overfishing&nbsp;in&nbsp;nearshore&nbsp;waters&nbsp;have&nbsp;forced&nbsp;boats&nbsp;to&nbsp;go&nbsp;into&nbsp;deeper&nbsp;waters,&nbsp;which&nbsp;makes&nbsp;fishing&nbsp;more&nbsp;expensive.&nbsp;Some&nbsp;fishers&nbsp;will&nbsp;seek&nbsp;to&nbsp;cut&nbsp;operational&nbsp;costs&nbsp;by&nbsp;fishing&nbsp;with&nbsp;illegal&nbsp;gear;&nbsp;fishing&nbsp;in&nbsp;protected&nbsp;areas;&nbsp;or&nbsp;ignoring&nbsp;catch&nbsp;limits.&nbsp;</span></td></tr>\n",
       "            <tr><td style=\"word-wrap: break-word\" class=\"diff_next\"></td><td style=\"word-wrap: break-word\" class=\"diff_header\"></td><td style=\"word-wrap: break-word\" ></td><td style=\"word-wrap: break-word\" class=\"diff_next\"></td><td style=\"word-wrap: break-word\" class=\"diff_header\" id=\"to14_12\">12</td><td style=\"word-wrap: break-word\" ><span class=\"diff_add\">&nbsp;</span></td></tr>\n",
       "            <tr><td style=\"word-wrap: break-word\" class=\"diff_next\"></td><td style=\"word-wrap: break-word\" class=\"diff_header\"></td><td style=\"word-wrap: break-word\" ></td><td style=\"word-wrap: break-word\" class=\"diff_next\"></td><td style=\"word-wrap: break-word\" class=\"diff_header\" id=\"to14_13\">13</td><td style=\"word-wrap: break-word\" ><span class=\"diff_add\">Similarly,&nbsp;to&nbsp;minimise&nbsp;labor&nbsp;costs,&nbsp;some&nbsp;unscrupulous&nbsp;vessel&nbsp;owners&nbsp;rely&nbsp;on&nbsp;human&nbsp;traffickers,&nbsp;or&nbsp;themselves&nbsp;even&nbsp;routinely&nbsp;crew&nbsp;by&nbsp;kidnapping&nbsp;or&nbsp;drugging&nbsp;workers&nbsp;to&nbsp;get&nbsp;them&nbsp;on&nbsp;the&nbsp;ship&nbsp;and&nbsp;so&nbsp;cut&nbsp;off&nbsp;from&nbsp;help:&nbsp;overworked&nbsp;with&nbsp;brutal&nbsp;disregard&nbsp;and&nbsp;paid&nbsp;a&nbsp;pittance&nbsp;for&nbsp;their&nbsp;service.</span></td></tr>\n",
       "            <tr><td style=\"word-wrap: break-word\" class=\"diff_next\"></td><td style=\"word-wrap: break-word\" class=\"diff_header\"></td><td style=\"word-wrap: break-word\" ></td><td style=\"word-wrap: break-word\" class=\"diff_next\"></td><td style=\"word-wrap: break-word\" class=\"diff_header\" id=\"to14_14\">14</td><td style=\"word-wrap: break-word\" ><span class=\"diff_add\">&nbsp;</span></td></tr>\n",
       "            <tr><td style=\"word-wrap: break-word\" class=\"diff_next\"></td><td style=\"word-wrap: break-word\" class=\"diff_header\"></td><td style=\"word-wrap: break-word\" ></td><td style=\"word-wrap: break-word\" class=\"diff_next\"></td><td style=\"word-wrap: break-word\" class=\"diff_header\" id=\"to14_15\">15</td><td style=\"word-wrap: break-word\" ><span class=\"diff_add\">Similarly,&nbsp;the&nbsp;overseas&nbsp;seafood&nbsp;processing&nbsp;industry&nbsp;is&nbsp;heavily&nbsp;reliant&nbsp;on&nbsp;forced&nbsp;labor.&nbsp;&nbsp;</span></td></tr>\n",
       "            <tr><td style=\"word-wrap: break-word\" class=\"diff_next\"></td><td style=\"word-wrap: break-word\" class=\"diff_header\"></td><td style=\"word-wrap: break-word\" ></td><td style=\"word-wrap: break-word\" class=\"diff_next\"></td><td style=\"word-wrap: break-word\" class=\"diff_header\" id=\"to14_16\">16</td><td style=\"word-wrap: break-word\" ><span class=\"diff_add\">&nbsp;</span></td></tr>\n",
       "            <tr><td style=\"word-wrap: break-word\" class=\"diff_next\"></td><td style=\"word-wrap: break-word\" class=\"diff_header\"></td><td style=\"word-wrap: break-word\" ></td><td style=\"word-wrap: break-word\" class=\"diff_next\"></td><td style=\"word-wrap: break-word\" class=\"diff_header\" id=\"to14_17\">17</td><td style=\"word-wrap: break-word\" ><span class=\"diff_add\">The&nbsp;U.S.&nbsp;is&nbsp;one&nbsp;of&nbsp;the&nbsp;largest&nbsp;consumers&nbsp;of&nbsp;seafood.&nbsp;Approximately&nbsp;eighty&nbsp;percent&nbsp;of&nbsp;the&nbsp;seafood&nbsp;sold&nbsp;in&nbsp;the&nbsp;U.S.&nbsp;is&nbsp;imported.</span></td></tr>\n",
       "            <tr><td style=\"word-wrap: break-word\" class=\"diff_next\"></td><td style=\"word-wrap: break-word\" class=\"diff_header\"></td><td style=\"word-wrap: break-word\" ></td><td style=\"word-wrap: break-word\" class=\"diff_next\"></td><td style=\"word-wrap: break-word\" class=\"diff_header\" id=\"to14_18\">18</td><td style=\"word-wrap: break-word\" ><span class=\"diff_add\">&nbsp;</span></td></tr>\n",
       "            <tr><td style=\"word-wrap: break-word\" class=\"diff_next\"></td><td style=\"word-wrap: break-word\" class=\"diff_header\"></td><td style=\"word-wrap: break-word\" ></td><td style=\"word-wrap: break-word\" class=\"diff_next\"></td><td style=\"word-wrap: break-word\" class=\"diff_header\" id=\"to14_19\">19</td><td style=\"word-wrap: break-word\" ><span class=\"diff_add\">Appallingly,&nbsp;as&nbsp;much&nbsp;as&nbsp;a&nbsp;third&nbsp;of&nbsp;the&nbsp;wild-caught&nbsp;seafood&nbsp;sold&nbsp;in&nbsp;the&nbsp;United&nbsp;States&nbsp;each&nbsp;year&nbsp;is&nbsp;illegal&nbsp;or&nbsp;unreported.&nbsp;&nbsp;</span></td></tr>\n",
       "            <tr><td style=\"word-wrap: break-word\" class=\"diff_next\"></td><td style=\"word-wrap: break-word\" class=\"diff_header\"></td><td style=\"word-wrap: break-word\" ></td><td style=\"word-wrap: break-word\" class=\"diff_next\"></td><td style=\"word-wrap: break-word\" class=\"diff_header\" id=\"to14_20\">20</td><td style=\"word-wrap: break-word\" ><span class=\"diff_add\">&nbsp;</span></td></tr>\n",
       "            <tr><td style=\"word-wrap: break-word\" class=\"diff_next\"></td><td style=\"word-wrap: break-word\" class=\"diff_header\"></td><td style=\"word-wrap: break-word\" ></td><td style=\"word-wrap: break-word\" class=\"diff_next\"></td><td style=\"word-wrap: break-word\" class=\"diff_header\" id=\"to14_21\">21</td><td style=\"word-wrap: break-word\" ><span class=\"diff_add\">The&nbsp;U.S.&nbsp;government&nbsp;has&nbsp;a&nbsp;responsibility&nbsp;to&nbsp;fix&nbsp;these&nbsp;problems,&nbsp;and&nbsp;seafood&nbsp;traceability&nbsp;is&nbsp;an&nbsp;essential&nbsp;step&nbsp;in&nbsp;the&nbsp;fight&nbsp;to&nbsp;end&nbsp;illegal&nbsp;fishing&nbsp;and&nbsp;human&nbsp;rights&nbsp;abuses&nbsp;in&nbsp;the&nbsp;seafood&nbsp;industry.&nbsp;</span></td></tr>\n",
       "            <tr><td style=\"word-wrap: break-word\" class=\"diff_next\"></td><td style=\"word-wrap: break-word\" class=\"diff_header\"></td><td style=\"word-wrap: break-word\" ></td><td style=\"word-wrap: break-word\" class=\"diff_next\"></td><td style=\"word-wrap: break-word\" class=\"diff_header\" id=\"to14_22\">22</td><td style=\"word-wrap: break-word\" ><span class=\"diff_add\">&nbsp;</span></td></tr>\n",
       "            <tr><td style=\"word-wrap: break-word\" class=\"diff_next\"></td><td style=\"word-wrap: break-word\" class=\"diff_header\"></td><td style=\"word-wrap: break-word\" ></td><td style=\"word-wrap: break-word\" class=\"diff_next\"></td><td style=\"word-wrap: break-word\" class=\"diff_header\" id=\"to14_23\">23</td><td style=\"word-wrap: break-word\" ><span class=\"diff_add\">It&nbsp;is&nbsp;therefore&nbsp;disappointing,&nbsp;to&nbsp;say&nbsp;the&nbsp;least,&nbsp;that&nbsp;under&nbsp;NOAA&nbsp;Fisheries’&nbsp;proposed&nbsp;rule,&nbsp;traceability&nbsp;requirements&nbsp;would&nbsp;apply&nbsp;to&nbsp;only&nbsp;half&nbsp;of&nbsp;seafood&nbsp;imports,&nbsp;leaving&nbsp;massive&nbsp;loopholes&nbsp;that&nbsp;are&nbsp;easy&nbsp;for&nbsp;the&nbsp;unscrupulous&nbsp;and&nbsp;the&nbsp;downright&nbsp;criminous&nbsp;to&nbsp;exploit.&nbsp;</span></td></tr>\n",
       "            <tr><td style=\"word-wrap: break-word\" class=\"diff_next\"></td><td style=\"word-wrap: break-word\" class=\"diff_header\"></td><td style=\"word-wrap: break-word\" ></td><td style=\"word-wrap: break-word\" class=\"diff_next\"></td><td style=\"word-wrap: break-word\" class=\"diff_header\" id=\"to14_24\">24</td><td style=\"word-wrap: break-word\" ><span class=\"diff_add\">&nbsp;</span></td></tr>\n",
       "            <tr><td style=\"word-wrap: break-word\" class=\"diff_next\"></td><td style=\"word-wrap: break-word\" class=\"diff_header\"></td><td style=\"word-wrap: break-word\" ></td><td style=\"word-wrap: break-word\" class=\"diff_next\"></td><td style=\"word-wrap: break-word\" class=\"diff_header\" id=\"to14_25\">25</td><td style=\"word-wrap: break-word\" ><span class=\"diff_add\">The&nbsp;proposed&nbsp;rule&nbsp;is&nbsp;also&nbsp;inadequate&nbsp;top&nbsp;effectively&nbsp;address&nbsp;labor&nbsp;abuses&nbsp;in&nbsp;seafood&nbsp;supply&nbsp;chains,&nbsp;and&nbsp;it&nbsp;includes&nbsp;no&nbsp;commitment&nbsp;to&nbsp;improve&nbsp;enforcement&nbsp;of&nbsp;traceability&nbsp;requirements.&nbsp;</span></td></tr>\n",
       "            <tr><td style=\"word-wrap: break-word\" class=\"diff_next\"></td><td style=\"word-wrap: break-word\" class=\"diff_header\"></td><td style=\"word-wrap: break-word\" ></td><td style=\"word-wrap: break-word\" class=\"diff_next\"></td><td style=\"word-wrap: break-word\" class=\"diff_header\" id=\"to14_26\">26</td><td style=\"word-wrap: break-word\" ><span class=\"diff_add\">&nbsp;</span></td></tr>\n",
       "            <tr><td style=\"word-wrap: break-word\" class=\"diff_next\"></td><td style=\"word-wrap: break-word\" class=\"diff_header\"></td><td style=\"word-wrap: break-word\" ></td><td style=\"word-wrap: break-word\" class=\"diff_next\"></td><td style=\"word-wrap: break-word\" class=\"diff_header\" id=\"to14_27\">27</td><td style=\"word-wrap: break-word\" ><span class=\"diff_add\">I&nbsp;urge&nbsp;you&nbsp;to&nbsp;reconsider&nbsp;and&nbsp;revise&nbsp;the&nbsp;Seafood&nbsp;Import&nbsp;Monitoring&nbsp;Program&nbsp;proposed&nbsp;rule&nbsp;to&nbsp;adopt&nbsp;the&nbsp;strongest&nbsp;possible&nbsp;standards&nbsp;for&nbsp;seafood&nbsp;traceability;&nbsp;measures&nbsp;which&nbsp;are&nbsp;essential&nbsp;to&nbsp;turn&nbsp;off&nbsp;the&nbsp;flow&nbsp;of&nbsp;illegal&nbsp;seafood&nbsp;into&nbsp;the&nbsp;U.S.&nbsp;-&nbsp;and&nbsp;to&nbsp;enable&nbsp;consumers&nbsp;to&nbsp;feel&nbsp;confident&nbsp;the&nbsp;seafood&nbsp;they&nbsp;buy&nbsp;is&nbsp;legally&nbsp;caught&nbsp;and&nbsp;not&nbsp;a&nbsp;product&nbsp;of&nbsp;labor&nbsp;abuses.&nbsp;</span></td></tr>\n",
       "            <tr><td style=\"word-wrap: break-word\" class=\"diff_next\"></td><td style=\"word-wrap: break-word\" class=\"diff_header\"></td><td style=\"word-wrap: break-word\" ></td><td style=\"word-wrap: break-word\" class=\"diff_next\"></td><td style=\"word-wrap: break-word\" class=\"diff_header\" id=\"to14_28\">28</td><td style=\"word-wrap: break-word\" ><span class=\"diff_add\">&nbsp;</span></td></tr>\n",
       "            <tr><td style=\"word-wrap: break-word\" class=\"diff_next\"></td><td style=\"word-wrap: break-word\" class=\"diff_header\"></td><td style=\"word-wrap: break-word\" ></td><td style=\"word-wrap: break-word\" class=\"diff_next\"></td><td style=\"word-wrap: break-word\" class=\"diff_header\" id=\"to14_29\">29</td><td style=\"word-wrap: break-word\" ><span class=\"diff_add\">Thank&nbsp;you&nbsp;for&nbsp;your&nbsp;time,&nbsp;consideration&nbsp;–&nbsp;and&nbsp;appropriately&nbsp;effective&nbsp;action.</span></td></tr>\n",
       "        </tbody>\n",
       "    </table>\n",
       "    <table style=\"table-layout: fixed; width: 100%\" class=\"diff\" summary=\"Legends\">\n",
       "        <tr> <th colspan=\"2\"> Legends </th> </tr>\n",
       "        <tr> <td style=\"word-wrap: break-word\"> <table style=\"table-layout: fixed; width: 100%\" border=\"\" summary=\"Colors\">\n",
       "                      <tr><th> Colors </th> </tr>\n",
       "                      <tr><td style=\"word-wrap: break-word\" class=\"diff_add\">&nbsp;Added&nbsp;</td></tr>\n",
       "                      <tr><td style=\"word-wrap: break-word\" class=\"diff_chg\">Changed</td> </tr>\n",
       "                      <tr><td style=\"word-wrap: break-word\" class=\"diff_sub\">Deleted</td> </tr>\n",
       "                  </table></td>\n",
       "             <td style=\"word-wrap: break-word\"> <table style=\"table-layout: fixed; width: 100%\" border=\"\" summary=\"Links\">\n",
       "                      <tr><th colspan=\"2\"> Links </th> </tr>\n",
       "                      <tr><td style=\"word-wrap: break-word\">(f)irst change</td> </tr>\n",
       "                      <tr><td style=\"word-wrap: break-word\">(n)ext change</td> </tr>\n",
       "                      <tr><td style=\"word-wrap: break-word\">(t)op</td> </tr>\n",
       "                  </table></td> </tr>\n",
       "    </table>\n",
       "</body>\n",
       "\n",
       "</html>"
      ],
      "text/plain": [
       "<IPython.core.display.HTML object>"
      ]
     },
     "metadata": {},
     "output_type": "display_data"
    },
    {
     "data": {
      "text/html": [
       "\n",
       "<!DOCTYPE html PUBLIC \"-//W3C//DTD XHTML 1.0 Transitional//EN\"\n",
       "          \"http://www.w3.org/TR/xhtml1/DTD/xhtml1-transitional.dtd\">\n",
       "\n",
       "<html>\n",
       "\n",
       "<head>\n",
       "    <meta http-equiv=\"Content-Type\"\n",
       "          content=\"text/html; charset=utf-8\" />\n",
       "    <title></title>\n",
       "    <style type=\"text/css\">\n",
       "        table.diff {font-family:Courier; border:medium;}\n",
       "        .diff_header {background-color:#e0e0e0}\n",
       "        td.diff_header {text-align:right; width:1%}\n",
       "        .diff_next {background-color:#c0c0c0; width:1%}\n",
       "        .diff_add {background-color:#aaffaa}\n",
       "        .diff_chg {background-color:#ffff77}\n",
       "        .diff_sub {background-color:#ffaaaa}\n",
       "    </style>\n",
       "</head>\n",
       "\n",
       "<body><hr /><br /><br /> <p>Comments: ['NOAA-NMFS-2022-0119-1485']</p>\n",
       "    \n",
       "    <table style=\"table-layout: fixed; width: 100%\" class=\"diff\" id=\"difflib_chg_to15__top\"\n",
       "           cellspacing=\"0\" cellpadding=\"0\" rules=\"groups\" >\n",
       "        <colgroup></colgroup> <colgroup></colgroup> <colgroup></colgroup>\n",
       "        <colgroup></colgroup> <colgroup></colgroup> <colgroup></colgroup>\n",
       "        \n",
       "        <tbody>\n",
       "            <tr><td style=\"word-wrap: break-word\" class=\"diff_next\" id=\"difflib_chg_to15__1\"><a href=\"#difflib_chg_to15__0\">f</a></td><td style=\"word-wrap: break-word\" class=\"diff_header\" id=\"from15_1\">1</td><td style=\"word-wrap: break-word\" >Dear&nbsp;NOAA&nbsp;Administrator&nbsp;Spinrad&nbsp;and&nbsp;NOAA&nbsp;Fisheries&nbsp;Assistant&nbsp;Administrator&nbsp;Coit:</td><td style=\"word-wrap: break-word\" class=\"diff_next\"><a href=\"#difflib_chg_to15__0\">f</a></td><td style=\"word-wrap: break-word\" class=\"diff_header\" id=\"to15_1\">1</td><td style=\"word-wrap: break-word\" >Dear&nbsp;NOAA&nbsp;Administrator&nbsp;Spinrad&nbsp;and&nbsp;NOAA&nbsp;Fisheries&nbsp;Assistant&nbsp;Administrator&nbsp;Coit:</td></tr>\n",
       "            <tr><td style=\"word-wrap: break-word\" class=\"diff_next\" id=\"difflib_chg_to15__2\"></td><td style=\"word-wrap: break-word\" class=\"diff_header\" id=\"from15_2\">2</td><td style=\"word-wrap: break-word\" ></td><td style=\"word-wrap: break-word\" class=\"diff_next\"></td><td style=\"word-wrap: break-word\" class=\"diff_header\" id=\"to15_2\">2</td><td style=\"word-wrap: break-word\" ></td></tr>\n",
       "            <tr><td style=\"word-wrap: break-word\" class=\"diff_next\"><a href=\"#difflib_chg_to15__1\">n</a></td><td style=\"word-wrap: break-word\" class=\"diff_header\" id=\"from15_3\">3</td><td style=\"word-wrap: break-word\" ><span class=\"diff_sub\">The&nbsp;United&nbsp;States&nbsp;needs&nbsp;an&nbsp;effective&nbsp;seafood&nbsp;traceability&nbsp;program&nbsp;to&nbsp;intercept&nbsp;the&nbsp;flow&nbsp;of&nbsp;illegal&nbsp;seafood&nbsp;into&nbsp;our&nbsp;markets.&nbsp;Illegal&nbsp;fishing&nbsp;is&nbsp;a&nbsp;top&nbsp;driver&nbsp;of&nbsp;unsustainable&nbsp;and&nbsp;environmentally&nbsp;harmful&nbsp;fishing&nbsp;practices&nbsp;around&nbsp;the&nbsp;globe,&nbsp;as&nbsp;well&nbsp;as&nbsp;associated&nbsp;human&nbsp;rights&nbsp;abuses&nbsp;in&nbsp;the&nbsp;seafood&nbsp;sector.&nbsp;The&nbsp;newly&nbsp;proposed&nbsp;changes&nbsp;to&nbsp;the&nbsp;Seafood&nbsp;Import&nbsp;Monitoring&nbsp;Program&nbsp;do&nbsp;not&nbsp;go&nbsp;far&nbsp;enough&nbsp;to&nbsp;help&nbsp;end&nbsp;the&nbsp;U.S.'s&nbsp;role&nbsp;in&nbsp;perpetuating&nbsp;human&nbsp;rights&nbsp;abuses&nbsp;and&nbsp;environmental&nbsp;destruction&nbsp;in&nbsp;the&nbsp;seafood&nbsp;industry.&nbsp;</span></td><td style=\"word-wrap: break-word\" class=\"diff_next\"><a href=\"#difflib_chg_to15__1\">n</a></td><td style=\"word-wrap: break-word\" class=\"diff_header\" id=\"to15_3\">3</td><td style=\"word-wrap: break-word\" ><span class=\"diff_add\">The&nbsp;United&nbsp;States&nbsp;urgently&nbsp;&nbsp;needs&nbsp;an&nbsp;effective&nbsp;seafood&nbsp;traceability&nbsp;program&nbsp;to&nbsp;end&nbsp;the&nbsp;flow&nbsp;of&nbsp;illegal&nbsp;seafood&nbsp;into&nbsp;our&nbsp;markets.&nbsp;</span></td></tr>\n",
       "            <tr><td style=\"word-wrap: break-word\" class=\"diff_next\" id=\"difflib_chg_to15__3\"></td><td style=\"word-wrap: break-word\" class=\"diff_header\" id=\"from15_4\">4</td><td style=\"word-wrap: break-word\" ></td><td style=\"word-wrap: break-word\" class=\"diff_next\"></td><td style=\"word-wrap: break-word\" class=\"diff_header\" id=\"to15_4\">4</td><td style=\"word-wrap: break-word\" ></td></tr>\n",
       "            <tr><td style=\"word-wrap: break-word\" class=\"diff_next\"><a href=\"#difflib_chg_to15__2\">n</a></td><td style=\"word-wrap: break-word\" class=\"diff_header\" id=\"from15_5\">5</td><td style=\"word-wrap: break-word\" ><span class=\"diff_sub\">Illegal&nbsp;fishing&nbsp;is&nbsp;destroying&nbsp;our&nbsp;oceans.&nbsp;Years&nbsp;of&nbsp;overfishing&nbsp;in&nbsp;nearshore&nbsp;waters&nbsp;have&nbsp;forced&nbsp;boats&nbsp;to&nbsp;go&nbsp;into&nbsp;deeper&nbsp;waters,&nbsp;which&nbsp;makes&nbsp;fishing&nbsp;more&nbsp;expensive.&nbsp;Some&nbsp;fishers&nbsp;will&nbsp;cut&nbsp;costs&nbsp;by&nbsp;fishing&nbsp;with&nbsp;illegal&nbsp;gear,&nbsp;fishing&nbsp;in&nbsp;protected&nbsp;areas,&nbsp;or&nbsp;ignoring&nbsp;catch&nbsp;limits.&nbsp;To&nbsp;save&nbsp;on&nbsp;labor&nbsp;costs,&nbsp;some&nbsp;vessel&nbsp;owners&nbsp;rely&nbsp;on&nbsp;human&nbsp;traffickers,&nbsp;some&nbsp;even&nbsp;kidnapping&nbsp;or&nbsp;drugging&nbsp;workers&nbsp;to&nbsp;get&nbsp;them&nbsp;on&nbsp;the&nbsp;ship&nbsp;and&nbsp;cut&nbsp;off&nbsp;from&nbsp;help.&nbsp;Further,&nbsp;the&nbsp;overseas&nbsp;seafood&nbsp;processing&nbsp;industry&nbsp;is&nbsp;heavily&nbsp;reliant&nbsp;on&nbsp;forced&nbsp;labor.&nbsp;&nbsp;</span></td><td style=\"word-wrap: break-word\" class=\"diff_next\"><a href=\"#difflib_chg_to15__2\">n</a></td><td style=\"word-wrap: break-word\" class=\"diff_header\" id=\"to15_5\">5</td><td style=\"word-wrap: break-word\" ><span class=\"diff_add\">Illegal&nbsp;fishing&nbsp;is&nbsp;a&nbsp;primary&nbsp;malefactor&nbsp;and&nbsp;protagonist&nbsp;of&nbsp;unsustainable&nbsp;and&nbsp;environmentally&nbsp;harmful&nbsp;fishing&nbsp;practices&nbsp;around&nbsp;the&nbsp;globe,&nbsp;as&nbsp;well&nbsp;as&nbsp;associated&nbsp;and&nbsp;unconscionable&nbsp;human&nbsp;rights&nbsp;abuses&nbsp;in&nbsp;the&nbsp;seafood&nbsp;sector.&nbsp;</span></td></tr>\n",
       "            <tr><td style=\"word-wrap: break-word\" class=\"diff_next\" id=\"difflib_chg_to15__4\"></td><td style=\"word-wrap: break-word\" class=\"diff_header\" id=\"from15_6\">6</td><td style=\"word-wrap: break-word\" ></td><td style=\"word-wrap: break-word\" class=\"diff_next\"></td><td style=\"word-wrap: break-word\" class=\"diff_header\" id=\"to15_6\">6</td><td style=\"word-wrap: break-word\" ></td></tr>\n",
       "            <tr><td style=\"word-wrap: break-word\" class=\"diff_next\"><a href=\"#difflib_chg_to15__3\">n</a></td><td style=\"word-wrap: break-word\" class=\"diff_header\" id=\"from15_7\">7</td><td style=\"word-wrap: break-word\" ><span class=\"diff_sub\">The&nbsp;U.S.&nbsp;is&nbsp;one&nbsp;of&nbsp;the&nbsp;largest&nbsp;consumers&nbsp;of&nbsp;seafood.&nbsp;Approximately&nbsp;eighty&nbsp;percent&nbsp;of&nbsp;the&nbsp;seafood&nbsp;sold&nbsp;in&nbsp;the&nbsp;U.S.&nbsp;is&nbsp;imported,&nbsp;and&nbsp;as&nbsp;much&nbsp;as&nbsp;a&nbsp;third&nbsp;of&nbsp;the&nbsp;wild-caught&nbsp;seafood&nbsp;sold&nbsp;in&nbsp;the&nbsp;United&nbsp;States&nbsp;each&nbsp;year&nbsp;is&nbsp;illegal&nbsp;or&nbsp;unreported.&nbsp;&nbsp;</span></td><td style=\"word-wrap: break-word\" class=\"diff_next\"><a href=\"#difflib_chg_to15__3\">n</a></td><td style=\"word-wrap: break-word\" class=\"diff_header\" id=\"to15_7\">7</td><td style=\"word-wrap: break-word\" ><span class=\"diff_add\">The&nbsp;newly&nbsp;proposed&nbsp;changes&nbsp;to&nbsp;the&nbsp;Seafood&nbsp;Import&nbsp;Monitoring&nbsp;Program&nbsp;do&nbsp;not&nbsp;go&nbsp;far&nbsp;enough&nbsp;to&nbsp;help&nbsp;end&nbsp;the&nbsp;U.S.'s&nbsp;acquiesce&nbsp;with,&nbsp;tolerance&nbsp;of&nbsp;–&nbsp;and&nbsp;thus&nbsp;complicity&nbsp;with&nbsp;–&nbsp;the&nbsp;perpetuation&nbsp;of&nbsp;human&nbsp;rights&nbsp;abuses&nbsp;and&nbsp;environmental&nbsp;destruction&nbsp;in&nbsp;the&nbsp;seafood&nbsp;industry.&nbsp;</span></td></tr>\n",
       "            <tr><td style=\"word-wrap: break-word\" class=\"diff_next\"></td><td style=\"word-wrap: break-word\" class=\"diff_header\" id=\"from15_8\">8</td><td style=\"word-wrap: break-word\" ></td><td style=\"word-wrap: break-word\" class=\"diff_next\"></td><td style=\"word-wrap: break-word\" class=\"diff_header\" id=\"to15_8\">8</td><td style=\"word-wrap: break-word\" ></td></tr>\n",
       "            <tr><td style=\"word-wrap: break-word\" class=\"diff_next\"><a href=\"#difflib_chg_to15__4\">n</a></td><td style=\"word-wrap: break-word\" class=\"diff_header\" id=\"from15_9\">9</td><td style=\"word-wrap: break-word\" ><span class=\"diff_sub\">The&nbsp;U.S.&nbsp;government&nbsp;has&nbsp;a&nbsp;responsibility&nbsp;to&nbsp;fix&nbsp;these&nbsp;problems,&nbsp;and&nbsp;seafood&nbsp;traceability&nbsp;is&nbsp;an&nbsp;essential&nbsp;step&nbsp;in&nbsp;the&nbsp;fight&nbsp;to&nbsp;end&nbsp;illegal&nbsp;fishing&nbsp;and&nbsp;human&nbsp;rights&nbsp;abuses&nbsp;in&nbsp;the&nbsp;seafood&nbsp;industry.&nbsp;But&nbsp;under&nbsp;NOAA&nbsp;Fisheries’&nbsp;proposed&nbsp;rule,&nbsp;traceability&nbsp;requirements&nbsp;would&nbsp;apply&nbsp;to&nbsp;only&nbsp;half&nbsp;of&nbsp;seafood&nbsp;imports,&nbsp;leaving&nbsp;massive&nbsp;loopholes&nbsp;that&nbsp;are&nbsp;easy&nbsp;for&nbsp;bad&nbsp;actors&nbsp;to&nbsp;exploit.&nbsp;The&nbsp;proposed&nbsp;rule&nbsp;also&nbsp;fails&nbsp;to&nbsp;sufficiently&nbsp;address&nbsp;labor&nbsp;abuses&nbsp;in&nbsp;seafood&nbsp;supply&nbsp;chains,&nbsp;and&nbsp;it&nbsp;includes&nbsp;no&nbsp;commitment&nbsp;to&nbsp;improve&nbsp;enforcement&nbsp;of&nbsp;traceability&nbsp;requirements.&nbsp;</span></td><td style=\"word-wrap: break-word\" class=\"diff_next\"><a href=\"#difflib_chg_to15__4\">n</a></td><td style=\"word-wrap: break-word\" class=\"diff_header\" id=\"to15_9\">9</td><td style=\"word-wrap: break-word\" ><span class=\"diff_add\">Illegal&nbsp;fishing&nbsp;is&nbsp;degrading&nbsp;and&nbsp;progressively&nbsp;destroying&nbsp;all&nbsp;the&nbsp;world’s&nbsp;oceans.&nbsp;</span></td></tr>\n",
       "            <tr><td style=\"word-wrap: break-word\" class=\"diff_next\"></td><td style=\"word-wrap: break-word\" class=\"diff_header\" id=\"from15_10\">10</td><td style=\"word-wrap: break-word\" ></td><td style=\"word-wrap: break-word\" class=\"diff_next\"></td><td style=\"word-wrap: break-word\" class=\"diff_header\" id=\"to15_10\">10</td><td style=\"word-wrap: break-word\" ></td></tr>\n",
       "            <tr><td style=\"word-wrap: break-word\" class=\"diff_next\"><a href=\"#difflib_chg_to15__top\">t</a></td><td style=\"word-wrap: break-word\" class=\"diff_header\" id=\"from15_11\">11</td><td style=\"word-wrap: break-word\" ><span class=\"diff_sub\">Please&nbsp;revise&nbsp;the&nbsp;Seafood&nbsp;Import&nbsp;Monitoring&nbsp;Program&nbsp;proposed&nbsp;rule&nbsp;to&nbsp;adopt&nbsp;the&nbsp;strongest&nbsp;possible&nbsp;standards&nbsp;for&nbsp;seafood&nbsp;traceability&nbsp;to&nbsp;intercept&nbsp;the&nbsp;flow&nbsp;of&nbsp;illegal&nbsp;seafood&nbsp;into&nbsp;the&nbsp;U.S.&nbsp;and&nbsp;help&nbsp;consumers&nbsp;feel&nbsp;confident&nbsp;the&nbsp;seafood&nbsp;they&nbsp;buy&nbsp;is&nbsp;legally&nbsp;caught&nbsp;and&nbsp;not&nbsp;a&nbsp;product&nbsp;of&nbsp;labor&nbsp;abuses.&nbsp;Thank&nbsp;you&nbsp;for&nbsp;helping&nbsp;to&nbsp;address&nbsp;these&nbsp;environmental&nbsp;and&nbsp;human&nbsp;rights&nbsp;crimes&nbsp;with&nbsp;the&nbsp;seriousness&nbsp;they&nbsp;deserve.</span></td><td style=\"word-wrap: break-word\" class=\"diff_next\"><a href=\"#difflib_chg_to15__top\">t</a></td><td style=\"word-wrap: break-word\" class=\"diff_header\" id=\"to15_11\">11</td><td style=\"word-wrap: break-word\" ><span class=\"diff_add\">Years&nbsp;of&nbsp;overfishing&nbsp;in&nbsp;nearshore&nbsp;waters&nbsp;have&nbsp;forced&nbsp;boats&nbsp;to&nbsp;go&nbsp;into&nbsp;deeper&nbsp;waters,&nbsp;which&nbsp;makes&nbsp;fishing&nbsp;more&nbsp;expensive.&nbsp;Some&nbsp;fishers&nbsp;will&nbsp;seek&nbsp;to&nbsp;cut&nbsp;operational&nbsp;costs&nbsp;by&nbsp;fishing&nbsp;with&nbsp;illegal&nbsp;gear;&nbsp;fishing&nbsp;in&nbsp;protected&nbsp;areas;&nbsp;or&nbsp;ignoring&nbsp;catch&nbsp;limits.&nbsp;</span></td></tr>\n",
       "            <tr><td style=\"word-wrap: break-word\" class=\"diff_next\"></td><td style=\"word-wrap: break-word\" class=\"diff_header\"></td><td style=\"word-wrap: break-word\" ></td><td style=\"word-wrap: break-word\" class=\"diff_next\"></td><td style=\"word-wrap: break-word\" class=\"diff_header\" id=\"to15_12\">12</td><td style=\"word-wrap: break-word\" ><span class=\"diff_add\">&nbsp;</span></td></tr>\n",
       "            <tr><td style=\"word-wrap: break-word\" class=\"diff_next\"></td><td style=\"word-wrap: break-word\" class=\"diff_header\"></td><td style=\"word-wrap: break-word\" ></td><td style=\"word-wrap: break-word\" class=\"diff_next\"></td><td style=\"word-wrap: break-word\" class=\"diff_header\" id=\"to15_13\">13</td><td style=\"word-wrap: break-word\" ><span class=\"diff_add\">Similarly,&nbsp;to&nbsp;minimise&nbsp;labor&nbsp;costs,&nbsp;some&nbsp;unscrupulous&nbsp;vessel&nbsp;owners&nbsp;rely&nbsp;on&nbsp;human&nbsp;traffickers,&nbsp;or&nbsp;themselves&nbsp;even&nbsp;routinely&nbsp;crew&nbsp;by&nbsp;kidnapping&nbsp;or&nbsp;drugging&nbsp;workers&nbsp;to&nbsp;get&nbsp;them&nbsp;on&nbsp;the&nbsp;ship&nbsp;and&nbsp;so&nbsp;cut&nbsp;off&nbsp;from&nbsp;help:&nbsp;overworked&nbsp;with&nbsp;brutal&nbsp;disregard&nbsp;and&nbsp;paid&nbsp;a&nbsp;pittance&nbsp;for&nbsp;their&nbsp;service.</span></td></tr>\n",
       "            <tr><td style=\"word-wrap: break-word\" class=\"diff_next\"></td><td style=\"word-wrap: break-word\" class=\"diff_header\"></td><td style=\"word-wrap: break-word\" ></td><td style=\"word-wrap: break-word\" class=\"diff_next\"></td><td style=\"word-wrap: break-word\" class=\"diff_header\" id=\"to15_14\">14</td><td style=\"word-wrap: break-word\" ><span class=\"diff_add\">&nbsp;</span></td></tr>\n",
       "            <tr><td style=\"word-wrap: break-word\" class=\"diff_next\"></td><td style=\"word-wrap: break-word\" class=\"diff_header\"></td><td style=\"word-wrap: break-word\" ></td><td style=\"word-wrap: break-word\" class=\"diff_next\"></td><td style=\"word-wrap: break-word\" class=\"diff_header\" id=\"to15_15\">15</td><td style=\"word-wrap: break-word\" ><span class=\"diff_add\">Similarly,&nbsp;the&nbsp;overseas&nbsp;seafood&nbsp;processing&nbsp;industry&nbsp;is&nbsp;heavily&nbsp;reliant&nbsp;on&nbsp;forced&nbsp;labor.&nbsp;&nbsp;</span></td></tr>\n",
       "            <tr><td style=\"word-wrap: break-word\" class=\"diff_next\"></td><td style=\"word-wrap: break-word\" class=\"diff_header\"></td><td style=\"word-wrap: break-word\" ></td><td style=\"word-wrap: break-word\" class=\"diff_next\"></td><td style=\"word-wrap: break-word\" class=\"diff_header\" id=\"to15_16\">16</td><td style=\"word-wrap: break-word\" ><span class=\"diff_add\">&nbsp;</span></td></tr>\n",
       "            <tr><td style=\"word-wrap: break-word\" class=\"diff_next\"></td><td style=\"word-wrap: break-word\" class=\"diff_header\"></td><td style=\"word-wrap: break-word\" ></td><td style=\"word-wrap: break-word\" class=\"diff_next\"></td><td style=\"word-wrap: break-word\" class=\"diff_header\" id=\"to15_17\">17</td><td style=\"word-wrap: break-word\" ><span class=\"diff_add\">The&nbsp;U.S.&nbsp;is&nbsp;one&nbsp;of&nbsp;the&nbsp;largest&nbsp;consumers&nbsp;of&nbsp;seafood.&nbsp;Approximately&nbsp;eighty&nbsp;percent&nbsp;of&nbsp;the&nbsp;seafood&nbsp;sold&nbsp;in&nbsp;the&nbsp;U.S.&nbsp;is&nbsp;imported.</span></td></tr>\n",
       "            <tr><td style=\"word-wrap: break-word\" class=\"diff_next\"></td><td style=\"word-wrap: break-word\" class=\"diff_header\"></td><td style=\"word-wrap: break-word\" ></td><td style=\"word-wrap: break-word\" class=\"diff_next\"></td><td style=\"word-wrap: break-word\" class=\"diff_header\" id=\"to15_18\">18</td><td style=\"word-wrap: break-word\" ><span class=\"diff_add\">&nbsp;</span></td></tr>\n",
       "            <tr><td style=\"word-wrap: break-word\" class=\"diff_next\"></td><td style=\"word-wrap: break-word\" class=\"diff_header\"></td><td style=\"word-wrap: break-word\" ></td><td style=\"word-wrap: break-word\" class=\"diff_next\"></td><td style=\"word-wrap: break-word\" class=\"diff_header\" id=\"to15_19\">19</td><td style=\"word-wrap: break-word\" ><span class=\"diff_add\">Appallingly,&nbsp;as&nbsp;much&nbsp;as&nbsp;a&nbsp;third&nbsp;of&nbsp;the&nbsp;wild-caught&nbsp;seafood&nbsp;sold&nbsp;in&nbsp;the&nbsp;United&nbsp;States&nbsp;each&nbsp;year&nbsp;is&nbsp;illegal&nbsp;or&nbsp;unreported.&nbsp;&nbsp;</span></td></tr>\n",
       "            <tr><td style=\"word-wrap: break-word\" class=\"diff_next\"></td><td style=\"word-wrap: break-word\" class=\"diff_header\"></td><td style=\"word-wrap: break-word\" ></td><td style=\"word-wrap: break-word\" class=\"diff_next\"></td><td style=\"word-wrap: break-word\" class=\"diff_header\" id=\"to15_20\">20</td><td style=\"word-wrap: break-word\" ><span class=\"diff_add\">&nbsp;</span></td></tr>\n",
       "            <tr><td style=\"word-wrap: break-word\" class=\"diff_next\"></td><td style=\"word-wrap: break-word\" class=\"diff_header\"></td><td style=\"word-wrap: break-word\" ></td><td style=\"word-wrap: break-word\" class=\"diff_next\"></td><td style=\"word-wrap: break-word\" class=\"diff_header\" id=\"to15_21\">21</td><td style=\"word-wrap: break-word\" ><span class=\"diff_add\">The&nbsp;U.S.&nbsp;government&nbsp;has&nbsp;a&nbsp;responsibility&nbsp;to&nbsp;fix&nbsp;these&nbsp;problems,&nbsp;and&nbsp;seafood&nbsp;traceability&nbsp;is&nbsp;an&nbsp;essential&nbsp;step&nbsp;in&nbsp;the&nbsp;fight&nbsp;to&nbsp;end&nbsp;illegal&nbsp;fishing&nbsp;and&nbsp;human&nbsp;rights&nbsp;abuses&nbsp;in&nbsp;the&nbsp;seafood&nbsp;industry.&nbsp;</span></td></tr>\n",
       "            <tr><td style=\"word-wrap: break-word\" class=\"diff_next\"></td><td style=\"word-wrap: break-word\" class=\"diff_header\"></td><td style=\"word-wrap: break-word\" ></td><td style=\"word-wrap: break-word\" class=\"diff_next\"></td><td style=\"word-wrap: break-word\" class=\"diff_header\" id=\"to15_22\">22</td><td style=\"word-wrap: break-word\" ><span class=\"diff_add\">&nbsp;</span></td></tr>\n",
       "            <tr><td style=\"word-wrap: break-word\" class=\"diff_next\"></td><td style=\"word-wrap: break-word\" class=\"diff_header\"></td><td style=\"word-wrap: break-word\" ></td><td style=\"word-wrap: break-word\" class=\"diff_next\"></td><td style=\"word-wrap: break-word\" class=\"diff_header\" id=\"to15_23\">23</td><td style=\"word-wrap: break-word\" ><span class=\"diff_add\">It&nbsp;is&nbsp;therefore&nbsp;disappointing,&nbsp;to&nbsp;say&nbsp;the&nbsp;least,&nbsp;that&nbsp;under&nbsp;NOAA&nbsp;Fisheries’&nbsp;proposed&nbsp;rule,&nbsp;traceability&nbsp;requirements&nbsp;would&nbsp;apply&nbsp;to&nbsp;only&nbsp;half&nbsp;of&nbsp;seafood&nbsp;imports,&nbsp;leaving&nbsp;massive&nbsp;loopholes&nbsp;that&nbsp;are&nbsp;easy&nbsp;for&nbsp;the&nbsp;unscrupulous&nbsp;and&nbsp;the&nbsp;downright&nbsp;criminous&nbsp;to&nbsp;exploit.&nbsp;</span></td></tr>\n",
       "            <tr><td style=\"word-wrap: break-word\" class=\"diff_next\"></td><td style=\"word-wrap: break-word\" class=\"diff_header\"></td><td style=\"word-wrap: break-word\" ></td><td style=\"word-wrap: break-word\" class=\"diff_next\"></td><td style=\"word-wrap: break-word\" class=\"diff_header\" id=\"to15_24\">24</td><td style=\"word-wrap: break-word\" ><span class=\"diff_add\">&nbsp;</span></td></tr>\n",
       "            <tr><td style=\"word-wrap: break-word\" class=\"diff_next\"></td><td style=\"word-wrap: break-word\" class=\"diff_header\"></td><td style=\"word-wrap: break-word\" ></td><td style=\"word-wrap: break-word\" class=\"diff_next\"></td><td style=\"word-wrap: break-word\" class=\"diff_header\" id=\"to15_25\">25</td><td style=\"word-wrap: break-word\" ><span class=\"diff_add\">The&nbsp;proposed&nbsp;rule&nbsp;is&nbsp;also&nbsp;inadequate&nbsp;top&nbsp;effectively&nbsp;address&nbsp;labor&nbsp;abuses&nbsp;in&nbsp;seafood&nbsp;supply&nbsp;chains,&nbsp;and&nbsp;it&nbsp;includes&nbsp;no&nbsp;commitment&nbsp;to&nbsp;improve&nbsp;enforcement&nbsp;of&nbsp;traceability&nbsp;requirements.&nbsp;</span></td></tr>\n",
       "            <tr><td style=\"word-wrap: break-word\" class=\"diff_next\"></td><td style=\"word-wrap: break-word\" class=\"diff_header\"></td><td style=\"word-wrap: break-word\" ></td><td style=\"word-wrap: break-word\" class=\"diff_next\"></td><td style=\"word-wrap: break-word\" class=\"diff_header\" id=\"to15_26\">26</td><td style=\"word-wrap: break-word\" ><span class=\"diff_add\">&nbsp;</span></td></tr>\n",
       "            <tr><td style=\"word-wrap: break-word\" class=\"diff_next\"></td><td style=\"word-wrap: break-word\" class=\"diff_header\"></td><td style=\"word-wrap: break-word\" ></td><td style=\"word-wrap: break-word\" class=\"diff_next\"></td><td style=\"word-wrap: break-word\" class=\"diff_header\" id=\"to15_27\">27</td><td style=\"word-wrap: break-word\" ><span class=\"diff_add\">I&nbsp;urge&nbsp;you&nbsp;to&nbsp;reconsider&nbsp;and&nbsp;revise&nbsp;the&nbsp;Seafood&nbsp;Import&nbsp;Monitoring&nbsp;Program&nbsp;proposed&nbsp;rule&nbsp;to&nbsp;adopt&nbsp;the&nbsp;strongest&nbsp;possible&nbsp;standards&nbsp;for&nbsp;seafood&nbsp;traceability;&nbsp;measures&nbsp;which&nbsp;are&nbsp;essential&nbsp;to&nbsp;turn&nbsp;off&nbsp;the&nbsp;flow&nbsp;of&nbsp;illegal&nbsp;seafood&nbsp;into&nbsp;the&nbsp;U.S.&nbsp;-&nbsp;and&nbsp;to&nbsp;enable&nbsp;consumers&nbsp;to&nbsp;feel&nbsp;confident&nbsp;the&nbsp;seafood&nbsp;they&nbsp;buy&nbsp;is&nbsp;legally&nbsp;caught&nbsp;and&nbsp;not&nbsp;a&nbsp;product&nbsp;of&nbsp;labor&nbsp;abuses.&nbsp;</span></td></tr>\n",
       "            <tr><td style=\"word-wrap: break-word\" class=\"diff_next\"></td><td style=\"word-wrap: break-word\" class=\"diff_header\"></td><td style=\"word-wrap: break-word\" ></td><td style=\"word-wrap: break-word\" class=\"diff_next\"></td><td style=\"word-wrap: break-word\" class=\"diff_header\" id=\"to15_28\">28</td><td style=\"word-wrap: break-word\" ><span class=\"diff_add\">&nbsp;</span></td></tr>\n",
       "            <tr><td style=\"word-wrap: break-word\" class=\"diff_next\"></td><td style=\"word-wrap: break-word\" class=\"diff_header\"></td><td style=\"word-wrap: break-word\" ></td><td style=\"word-wrap: break-word\" class=\"diff_next\"></td><td style=\"word-wrap: break-word\" class=\"diff_header\" id=\"to15_29\">29</td><td style=\"word-wrap: break-word\" ><span class=\"diff_add\">Thank&nbsp;you&nbsp;for&nbsp;your&nbsp;time,&nbsp;consideration&nbsp;–&nbsp;and&nbsp;appropriately&nbsp;strong,&nbsp;effective&nbsp;action.</span></td></tr>\n",
       "        </tbody>\n",
       "    </table>\n",
       "    <table style=\"table-layout: fixed; width: 100%\" class=\"diff\" summary=\"Legends\">\n",
       "        <tr> <th colspan=\"2\"> Legends </th> </tr>\n",
       "        <tr> <td style=\"word-wrap: break-word\"> <table style=\"table-layout: fixed; width: 100%\" border=\"\" summary=\"Colors\">\n",
       "                      <tr><th> Colors </th> </tr>\n",
       "                      <tr><td style=\"word-wrap: break-word\" class=\"diff_add\">&nbsp;Added&nbsp;</td></tr>\n",
       "                      <tr><td style=\"word-wrap: break-word\" class=\"diff_chg\">Changed</td> </tr>\n",
       "                      <tr><td style=\"word-wrap: break-word\" class=\"diff_sub\">Deleted</td> </tr>\n",
       "                  </table></td>\n",
       "             <td style=\"word-wrap: break-word\"> <table style=\"table-layout: fixed; width: 100%\" border=\"\" summary=\"Links\">\n",
       "                      <tr><th colspan=\"2\"> Links </th> </tr>\n",
       "                      <tr><td style=\"word-wrap: break-word\">(f)irst change</td> </tr>\n",
       "                      <tr><td style=\"word-wrap: break-word\">(n)ext change</td> </tr>\n",
       "                      <tr><td style=\"word-wrap: break-word\">(t)op</td> </tr>\n",
       "                  </table></td> </tr>\n",
       "    </table>\n",
       "</body>\n",
       "\n",
       "</html>"
      ],
      "text/plain": [
       "<IPython.core.display.HTML object>"
      ]
     },
     "metadata": {},
     "output_type": "display_data"
    },
    {
     "data": {
      "text/html": [
       "\n",
       "<!DOCTYPE html PUBLIC \"-//W3C//DTD XHTML 1.0 Transitional//EN\"\n",
       "          \"http://www.w3.org/TR/xhtml1/DTD/xhtml1-transitional.dtd\">\n",
       "\n",
       "<html>\n",
       "\n",
       "<head>\n",
       "    <meta http-equiv=\"Content-Type\"\n",
       "          content=\"text/html; charset=utf-8\" />\n",
       "    <title></title>\n",
       "    <style type=\"text/css\">\n",
       "        table.diff {font-family:Courier; border:medium;}\n",
       "        .diff_header {background-color:#e0e0e0}\n",
       "        td.diff_header {text-align:right; width:1%}\n",
       "        .diff_next {background-color:#c0c0c0; width:1%}\n",
       "        .diff_add {background-color:#aaffaa}\n",
       "        .diff_chg {background-color:#ffff77}\n",
       "        .diff_sub {background-color:#ffaaaa}\n",
       "    </style>\n",
       "</head>\n",
       "\n",
       "<body><hr /><br /><br /> <p>Comments: ['NOAA-NMFS-2022-0119-2156']</p>\n",
       "    \n",
       "    <table style=\"table-layout: fixed; width: 100%\" class=\"diff\" id=\"difflib_chg_to16__top\"\n",
       "           cellspacing=\"0\" cellpadding=\"0\" rules=\"groups\" >\n",
       "        <colgroup></colgroup> <colgroup></colgroup> <colgroup></colgroup>\n",
       "        <colgroup></colgroup> <colgroup></colgroup> <colgroup></colgroup>\n",
       "        \n",
       "        <tbody>\n",
       "            <tr><td style=\"word-wrap: break-word\" class=\"diff_next\" id=\"difflib_chg_to16__0\"><a href=\"#difflib_chg_to16__1\">n</a></td><td style=\"word-wrap: break-word\" class=\"diff_header\"></td><td style=\"word-wrap: break-word\" ></td><td style=\"word-wrap: break-word\" class=\"diff_next\"><a href=\"#difflib_chg_to16__1\">n</a></td><td style=\"word-wrap: break-word\" class=\"diff_header\" id=\"to16_1\">1</td><td style=\"word-wrap: break-word\" ><span class=\"diff_add\">See&nbsp;attached&nbsp;file(s)&nbsp;Tuesday,&nbsp;March&nbsp;28,&nbsp;2023</span></td></tr>\n",
       "            <tr><td style=\"word-wrap: break-word\" class=\"diff_next\"></td><td style=\"word-wrap: break-word\" class=\"diff_header\"></td><td style=\"word-wrap: break-word\" ></td><td style=\"word-wrap: break-word\" class=\"diff_next\"></td><td style=\"word-wrap: break-word\" class=\"diff_header\" id=\"to16_2\">2</td><td style=\"word-wrap: break-word\" ><span class=\"diff_add\">Rachael&nbsp;Confair</span></td></tr>\n",
       "            <tr><td style=\"word-wrap: break-word\" class=\"diff_next\"></td><td style=\"word-wrap: break-word\" class=\"diff_header\"></td><td style=\"word-wrap: break-word\" ></td><td style=\"word-wrap: break-word\" class=\"diff_next\"></td><td style=\"word-wrap: break-word\" class=\"diff_header\" id=\"to16_3\">3</td><td style=\"word-wrap: break-word\" ><span class=\"diff_add\">Office&nbsp;of&nbsp;International&nbsp;Affairs,&nbsp;Trade,&nbsp;and&nbsp;Commerce</span></td></tr>\n",
       "            <tr><td style=\"word-wrap: break-word\" class=\"diff_next\"></td><td style=\"word-wrap: break-word\" class=\"diff_header\"></td><td style=\"word-wrap: break-word\" ></td><td style=\"word-wrap: break-word\" class=\"diff_next\"></td><td style=\"word-wrap: break-word\" class=\"diff_header\" id=\"to16_4\">4</td><td style=\"word-wrap: break-word\" ><span class=\"diff_add\">National&nbsp;Marine&nbsp;Fisheries&nbsp;Service</span></td></tr>\n",
       "            <tr><td style=\"word-wrap: break-word\" class=\"diff_next\"></td><td style=\"word-wrap: break-word\" class=\"diff_header\"></td><td style=\"word-wrap: break-word\" ></td><td style=\"word-wrap: break-word\" class=\"diff_next\"></td><td style=\"word-wrap: break-word\" class=\"diff_header\" id=\"to16_5\">5</td><td style=\"word-wrap: break-word\" ><span class=\"diff_add\">1315&nbsp;East-West&nbsp;Highway&nbsp;(F/IS5)</span></td></tr>\n",
       "            <tr><td style=\"word-wrap: break-word\" class=\"diff_next\" id=\"difflib_chg_to16__1\"></td><td style=\"word-wrap: break-word\" class=\"diff_header\"></td><td style=\"word-wrap: break-word\" ></td><td style=\"word-wrap: break-word\" class=\"diff_next\"></td><td style=\"word-wrap: break-word\" class=\"diff_header\" id=\"to16_6\">6</td><td style=\"word-wrap: break-word\" ><span class=\"diff_add\">Silver&nbsp;Spring,&nbsp;MD&nbsp;20910</span></td></tr>\n",
       "            <tr><td style=\"word-wrap: break-word\" class=\"diff_next\"></td><td style=\"word-wrap: break-word\" class=\"diff_header\"></td><td style=\"word-wrap: break-word\" ></td><td style=\"word-wrap: break-word\" class=\"diff_next\"></td><td style=\"word-wrap: break-word\" class=\"diff_header\" id=\"to16_7\">7</td><td style=\"word-wrap: break-word\" ><span class=\"diff_add\">Subject:&nbsp;End&nbsp;Illegal&nbsp;Fishing&nbsp;and&nbsp;Forced&nbsp;Labor&nbsp;--&nbsp;Magnuson-Stevens&nbsp;Fishery</span></td></tr>\n",
       "            <tr><td style=\"word-wrap: break-word\" class=\"diff_next\"></td><td style=\"word-wrap: break-word\" class=\"diff_header\"></td><td style=\"word-wrap: break-word\" ></td><td style=\"word-wrap: break-word\" class=\"diff_next\"></td><td style=\"word-wrap: break-word\" class=\"diff_header\" id=\"to16_8\">8</td><td style=\"word-wrap: break-word\" ><span class=\"diff_add\">Conservation&nbsp;and&nbsp;Management&nbsp;Act:&nbsp;Seafood&nbsp;Import&nbsp;Monitoring&nbsp;Program&nbsp;(Document&nbsp;ID:</span></td></tr>\n",
       "            <tr><td style=\"word-wrap: break-word\" class=\"diff_next\"></td><td style=\"word-wrap: break-word\" class=\"diff_header\"></td><td style=\"word-wrap: break-word\" ></td><td style=\"word-wrap: break-word\" class=\"diff_next\"></td><td style=\"word-wrap: break-word\" class=\"diff_header\" id=\"to16_9\">9</td><td style=\"word-wrap: break-word\" ><span class=\"diff_add\">NOAA-NMFS-2022-0119-0001)</span></td></tr>\n",
       "            <tr><td style=\"word-wrap: break-word\" class=\"diff_next\"></td><td style=\"word-wrap: break-word\" class=\"diff_header\" id=\"from16_1\">1</td><td style=\"word-wrap: break-word\" >Dear&nbsp;NOAA&nbsp;Administrator&nbsp;Spinrad&nbsp;and&nbsp;NOAA&nbsp;Fisheries&nbsp;Assistant&nbsp;Administrator&nbsp;Coit:</td><td style=\"word-wrap: break-word\" class=\"diff_next\"></td><td style=\"word-wrap: break-word\" class=\"diff_header\" id=\"to16_10\">10</td><td style=\"word-wrap: break-word\" >Dear&nbsp;NOAA&nbsp;Administrator&nbsp;Spinrad&nbsp;and&nbsp;NOAA&nbsp;Fisheries&nbsp;Assistant&nbsp;Administrator&nbsp;Coit:</td></tr>\n",
       "            <tr><td style=\"word-wrap: break-word\" class=\"diff_next\"><a href=\"#difflib_chg_to16__top\">t</a></td><td style=\"word-wrap: break-word\" class=\"diff_header\" id=\"from16_2\">2</td><td style=\"word-wrap: break-word\" ><span class=\"diff_sub\">&nbsp;</span></td><td style=\"word-wrap: break-word\" class=\"diff_next\"><a href=\"#difflib_chg_to16__top\">t</a></td><td style=\"word-wrap: break-word\" class=\"diff_header\" id=\"to16_11\">11</td><td style=\"word-wrap: break-word\" ><span class=\"diff_add\">The&nbsp;United&nbsp;States&nbsp;needs&nbsp;an&nbsp;effective&nbsp;seafood&nbsp;traceability&nbsp;program&nbsp;to&nbsp;intercept&nbsp;the&nbsp;flow</span></td></tr>\n",
       "            <tr><td style=\"word-wrap: break-word\" class=\"diff_next\"></td><td style=\"word-wrap: break-word\" class=\"diff_header\" id=\"from16_3\">3</td><td style=\"word-wrap: break-word\" ><span class=\"diff_sub\">The&nbsp;United&nbsp;States&nbsp;needs&nbsp;an&nbsp;effective&nbsp;seafood&nbsp;traceability&nbsp;program&nbsp;to&nbsp;intercept&nbsp;the&nbsp;flow&nbsp;of&nbsp;illegal&nbsp;seafood&nbsp;into&nbsp;our&nbsp;markets.&nbsp;Illegal&nbsp;fishing&nbsp;is&nbsp;a&nbsp;top&nbsp;driver&nbsp;of&nbsp;unsustainable&nbsp;and&nbsp;environmentally&nbsp;harmful&nbsp;fishing&nbsp;practices&nbsp;around&nbsp;the&nbsp;globe,&nbsp;as&nbsp;well&nbsp;as&nbsp;associated&nbsp;human&nbsp;rights&nbsp;abuses&nbsp;in&nbsp;the&nbsp;seafood&nbsp;sector.&nbsp;The&nbsp;newly&nbsp;proposed&nbsp;changes&nbsp;to&nbsp;the&nbsp;Seafood&nbsp;Import&nbsp;Monitoring&nbsp;Program&nbsp;do&nbsp;not&nbsp;go&nbsp;far&nbsp;enough&nbsp;to&nbsp;help&nbsp;end&nbsp;the&nbsp;U.S.'s&nbsp;role&nbsp;in&nbsp;perpetuating&nbsp;human&nbsp;rights&nbsp;abuses&nbsp;and&nbsp;environmental&nbsp;destruction&nbsp;in&nbsp;the&nbsp;seafood&nbsp;industry.&nbsp;</span></td><td style=\"word-wrap: break-word\" class=\"diff_next\"></td><td style=\"word-wrap: break-word\" class=\"diff_header\" id=\"to16_12\">12</td><td style=\"word-wrap: break-word\" ><span class=\"diff_add\">of&nbsp;illegal&nbsp;seafood&nbsp;into&nbsp;our&nbsp;markets.&nbsp;Illegal&nbsp;fishing&nbsp;is&nbsp;a&nbsp;top&nbsp;driver&nbsp;of&nbsp;unsustainable&nbsp;and</span></td></tr>\n",
       "            <tr><td style=\"word-wrap: break-word\" class=\"diff_next\"></td><td style=\"word-wrap: break-word\" class=\"diff_header\" id=\"from16_4\">4</td><td style=\"word-wrap: break-word\" ><span class=\"diff_sub\">&nbsp;</span></td><td style=\"word-wrap: break-word\" class=\"diff_next\"></td><td style=\"word-wrap: break-word\" class=\"diff_header\" id=\"to16_13\">13</td><td style=\"word-wrap: break-word\" ><span class=\"diff_add\">environmentally&nbsp;harmful&nbsp;fishing&nbsp;practices&nbsp;around&nbsp;the&nbsp;globe,&nbsp;as&nbsp;well&nbsp;as&nbsp;associated</span></td></tr>\n",
       "            <tr><td style=\"word-wrap: break-word\" class=\"diff_next\"></td><td style=\"word-wrap: break-word\" class=\"diff_header\" id=\"from16_5\">5</td><td style=\"word-wrap: break-word\" ><span class=\"diff_sub\">Illegal&nbsp;fishing&nbsp;is&nbsp;destroying&nbsp;our&nbsp;oceans.&nbsp;Years&nbsp;of&nbsp;overfishing&nbsp;in&nbsp;nearshore&nbsp;waters&nbsp;have&nbsp;forced&nbsp;boats&nbsp;to&nbsp;go&nbsp;into&nbsp;deeper&nbsp;waters,&nbsp;which&nbsp;makes&nbsp;fishing&nbsp;more&nbsp;expensive.&nbsp;Some&nbsp;fishers&nbsp;will&nbsp;cut&nbsp;costs&nbsp;by&nbsp;fishing&nbsp;with&nbsp;illegal&nbsp;gear,&nbsp;fishing&nbsp;in&nbsp;protected&nbsp;areas,&nbsp;or&nbsp;ignoring&nbsp;catch&nbsp;limits.&nbsp;To&nbsp;save&nbsp;on&nbsp;labor&nbsp;costs,&nbsp;some&nbsp;vessel&nbsp;owners&nbsp;rely&nbsp;on&nbsp;human&nbsp;traffickers,&nbsp;some&nbsp;even&nbsp;kidnapping&nbsp;or&nbsp;drugging&nbsp;workers&nbsp;to&nbsp;get&nbsp;them&nbsp;on&nbsp;the&nbsp;ship&nbsp;and&nbsp;cut&nbsp;off&nbsp;from&nbsp;help.&nbsp;Further,&nbsp;the&nbsp;overseas&nbsp;seafood&nbsp;processing&nbsp;industry&nbsp;is&nbsp;heavily&nbsp;reliant&nbsp;on&nbsp;forced&nbsp;labor.&nbsp;&nbsp;</span></td><td style=\"word-wrap: break-word\" class=\"diff_next\"></td><td style=\"word-wrap: break-word\" class=\"diff_header\" id=\"to16_14\">14</td><td style=\"word-wrap: break-word\" ><span class=\"diff_add\">human&nbsp;rights&nbsp;abuses&nbsp;in&nbsp;the&nbsp;seafood&nbsp;sector.&nbsp;Disappointingly,&nbsp;the&nbsp;newly&nbsp;proposed</span></td></tr>\n",
       "            <tr><td style=\"word-wrap: break-word\" class=\"diff_next\"></td><td style=\"word-wrap: break-word\" class=\"diff_header\" id=\"from16_6\">6</td><td style=\"word-wrap: break-word\" ><span class=\"diff_sub\">&nbsp;</span></td><td style=\"word-wrap: break-word\" class=\"diff_next\"></td><td style=\"word-wrap: break-word\" class=\"diff_header\" id=\"to16_15\">15</td><td style=\"word-wrap: break-word\" ><span class=\"diff_add\">changes&nbsp;to&nbsp;the&nbsp;Seafood&nbsp;Import&nbsp;Monitoring&nbsp;Program&nbsp;(SIMP)&nbsp;do&nbsp;not&nbsp;go&nbsp;far&nbsp;enough&nbsp;to&nbsp;help</span></td></tr>\n",
       "            <tr><td style=\"word-wrap: break-word\" class=\"diff_next\"></td><td style=\"word-wrap: break-word\" class=\"diff_header\" id=\"from16_7\">7</td><td style=\"word-wrap: break-word\" ><span class=\"diff_sub\">The&nbsp;U.S.&nbsp;is&nbsp;one&nbsp;of&nbsp;the&nbsp;largest&nbsp;consumers&nbsp;of&nbsp;seafood.&nbsp;Approximately&nbsp;eighty&nbsp;percent&nbsp;of&nbsp;the&nbsp;seafood&nbsp;sold&nbsp;in&nbsp;the&nbsp;U.S.&nbsp;is&nbsp;imported,&nbsp;and&nbsp;as&nbsp;much&nbsp;as&nbsp;a&nbsp;third&nbsp;of&nbsp;the&nbsp;wild-caught&nbsp;seafood&nbsp;sold&nbsp;in&nbsp;the&nbsp;United&nbsp;States&nbsp;each&nbsp;year&nbsp;is&nbsp;illegal&nbsp;or&nbsp;unreported.&nbsp;&nbsp;</span></td><td style=\"word-wrap: break-word\" class=\"diff_next\"></td><td style=\"word-wrap: break-word\" class=\"diff_header\" id=\"to16_16\">16</td><td style=\"word-wrap: break-word\" ><span class=\"diff_add\">end&nbsp;the&nbsp;U.S.'s&nbsp;role&nbsp;in&nbsp;perpetuating&nbsp;human&nbsp;rights&nbsp;abuses&nbsp;and&nbsp;environmental&nbsp;destruction</span></td></tr>\n",
       "            <tr><td style=\"word-wrap: break-word\" class=\"diff_next\"></td><td style=\"word-wrap: break-word\" class=\"diff_header\" id=\"from16_8\">8</td><td style=\"word-wrap: break-word\" ><span class=\"diff_sub\">&nbsp;</span></td><td style=\"word-wrap: break-word\" class=\"diff_next\"></td><td style=\"word-wrap: break-word\" class=\"diff_header\" id=\"to16_17\">17</td><td style=\"word-wrap: break-word\" ><span class=\"diff_add\">in&nbsp;the&nbsp;seafood&nbsp;industry.</span></td></tr>\n",
       "            <tr><td style=\"word-wrap: break-word\" class=\"diff_next\"></td><td style=\"word-wrap: break-word\" class=\"diff_header\" id=\"from16_9\">9</td><td style=\"word-wrap: break-word\" ><span class=\"diff_sub\">The&nbsp;U.S.&nbsp;government&nbsp;has&nbsp;a&nbsp;responsibility&nbsp;to&nbsp;fix&nbsp;these&nbsp;problems,&nbsp;and&nbsp;seafood&nbsp;traceability&nbsp;is&nbsp;an&nbsp;essential&nbsp;step&nbsp;in&nbsp;the&nbsp;fight&nbsp;to&nbsp;end&nbsp;illegal&nbsp;fishing&nbsp;and&nbsp;human&nbsp;rights&nbsp;abuses&nbsp;in&nbsp;the&nbsp;seafood&nbsp;industry.&nbsp;But&nbsp;under&nbsp;NOAA&nbsp;Fisheries’&nbsp;proposed&nbsp;rule,&nbsp;traceability&nbsp;requirements&nbsp;would&nbsp;apply&nbsp;to&nbsp;only&nbsp;half&nbsp;of&nbsp;seafood&nbsp;imports,&nbsp;leaving&nbsp;massive&nbsp;loopholes&nbsp;that&nbsp;are&nbsp;easy&nbsp;for&nbsp;bad&nbsp;actors&nbsp;to&nbsp;exploit.&nbsp;The&nbsp;proposed&nbsp;rule&nbsp;also&nbsp;fails&nbsp;to&nbsp;sufficiently&nbsp;address&nbsp;labor&nbsp;abuses&nbsp;in&nbsp;seafood&nbsp;supply&nbsp;chains,&nbsp;and&nbsp;it&nbsp;includes&nbsp;no&nbsp;commitment&nbsp;to&nbsp;improve&nbsp;enforcement&nbsp;of&nbsp;traceability&nbsp;requirements.&nbsp;</span></td><td style=\"word-wrap: break-word\" class=\"diff_next\"></td><td style=\"word-wrap: break-word\" class=\"diff_header\" id=\"to16_18\">18</td><td style=\"word-wrap: break-word\" ><span class=\"diff_add\">“It&nbsp;is&nbsp;horrifying&nbsp;that&nbsp;we&nbsp;have&nbsp;to&nbsp;fight&nbsp;our&nbsp;own&nbsp;government&nbsp;to&nbsp;save&nbsp;the&nbsp;environment.”</span></td></tr>\n",
       "            <tr><td style=\"word-wrap: break-word\" class=\"diff_next\"></td><td style=\"word-wrap: break-word\" class=\"diff_header\" id=\"from16_10\">10</td><td style=\"word-wrap: break-word\" ><span class=\"diff_sub\">&nbsp;</span></td><td style=\"word-wrap: break-word\" class=\"diff_next\"></td><td style=\"word-wrap: break-word\" class=\"diff_header\" id=\"to16_19\">19</td><td style=\"word-wrap: break-word\" ><span class=\"diff_add\">--&nbsp;Ansel&nbsp;Adams</span></td></tr>\n",
       "            <tr><td style=\"word-wrap: break-word\" class=\"diff_next\"></td><td style=\"word-wrap: break-word\" class=\"diff_header\" id=\"from16_11\">11</td><td style=\"word-wrap: break-word\" ><span class=\"diff_sub\">Please&nbsp;revise&nbsp;the&nbsp;Seafood&nbsp;Import&nbsp;Monitoring&nbsp;Program&nbsp;proposed&nbsp;rule&nbsp;to&nbsp;adopt&nbsp;the&nbsp;strongest&nbsp;possible&nbsp;standards&nbsp;for&nbsp;seafood&nbsp;traceability&nbsp;to&nbsp;intercept&nbsp;the&nbsp;flow&nbsp;of&nbsp;illegal&nbsp;seafood&nbsp;into&nbsp;the&nbsp;U.S.&nbsp;and&nbsp;help&nbsp;consumers&nbsp;feel&nbsp;confident&nbsp;the&nbsp;seafood&nbsp;they&nbsp;buy&nbsp;is&nbsp;legally&nbsp;caught&nbsp;and&nbsp;not&nbsp;a&nbsp;product&nbsp;of&nbsp;labor&nbsp;abuses.&nbsp;Thank&nbsp;you&nbsp;for&nbsp;helping&nbsp;to&nbsp;address&nbsp;these&nbsp;environmental&nbsp;and&nbsp;human&nbsp;rights&nbsp;crimes&nbsp;with&nbsp;the&nbsp;seriousness&nbsp;they&nbsp;deserve.</span></td><td style=\"word-wrap: break-word\" class=\"diff_next\"></td><td style=\"word-wrap: break-word\" class=\"diff_header\" id=\"to16_20\">20</td><td style=\"word-wrap: break-word\" ><span class=\"diff_add\">Illegal&nbsp;fishing&nbsp;is&nbsp;destroying&nbsp;our&nbsp;oceans.&nbsp;Years&nbsp;of&nbsp;overfishing&nbsp;in&nbsp;nearshore&nbsp;waters&nbsp;have</span></td></tr>\n",
       "            <tr><td style=\"word-wrap: break-word\" class=\"diff_next\"></td><td style=\"word-wrap: break-word\" class=\"diff_header\"></td><td style=\"word-wrap: break-word\" ></td><td style=\"word-wrap: break-word\" class=\"diff_next\"></td><td style=\"word-wrap: break-word\" class=\"diff_header\" id=\"to16_21\">21</td><td style=\"word-wrap: break-word\" ><span class=\"diff_add\">forced&nbsp;boats&nbsp;to&nbsp;go&nbsp;into&nbsp;deeper&nbsp;waters,&nbsp;which&nbsp;makes&nbsp;fishing&nbsp;more&nbsp;expensive.&nbsp;Some</span></td></tr>\n",
       "            <tr><td style=\"word-wrap: break-word\" class=\"diff_next\"></td><td style=\"word-wrap: break-word\" class=\"diff_header\"></td><td style=\"word-wrap: break-word\" ></td><td style=\"word-wrap: break-word\" class=\"diff_next\"></td><td style=\"word-wrap: break-word\" class=\"diff_header\" id=\"to16_22\">22</td><td style=\"word-wrap: break-word\" ><span class=\"diff_add\">fishers&nbsp;will&nbsp;cut&nbsp;costs&nbsp;by&nbsp;fishing&nbsp;with&nbsp;illegal&nbsp;gear,&nbsp;fishing&nbsp;in&nbsp;protected&nbsp;areas,&nbsp;or&nbsp;ignoring</span></td></tr>\n",
       "            <tr><td style=\"word-wrap: break-word\" class=\"diff_next\"></td><td style=\"word-wrap: break-word\" class=\"diff_header\"></td><td style=\"word-wrap: break-word\" ></td><td style=\"word-wrap: break-word\" class=\"diff_next\"></td><td style=\"word-wrap: break-word\" class=\"diff_header\" id=\"to16_23\">23</td><td style=\"word-wrap: break-word\" ><span class=\"diff_add\">catch&nbsp;limits.&nbsp;To&nbsp;save&nbsp;on&nbsp;labor&nbsp;costs,&nbsp;some&nbsp;vessel&nbsp;owners&nbsp;rely&nbsp;on&nbsp;human&nbsp;traffickers,</span></td></tr>\n",
       "            <tr><td style=\"word-wrap: break-word\" class=\"diff_next\"></td><td style=\"word-wrap: break-word\" class=\"diff_header\"></td><td style=\"word-wrap: break-word\" ></td><td style=\"word-wrap: break-word\" class=\"diff_next\"></td><td style=\"word-wrap: break-word\" class=\"diff_header\" id=\"to16_24\">24</td><td style=\"word-wrap: break-word\" ><span class=\"diff_add\">some&nbsp;even&nbsp;kidnapping&nbsp;or&nbsp;drugging&nbsp;workers&nbsp;to&nbsp;get&nbsp;them&nbsp;on&nbsp;the&nbsp;ship&nbsp;and&nbsp;cut&nbsp;off&nbsp;from</span></td></tr>\n",
       "            <tr><td style=\"word-wrap: break-word\" class=\"diff_next\"></td><td style=\"word-wrap: break-word\" class=\"diff_header\"></td><td style=\"word-wrap: break-word\" ></td><td style=\"word-wrap: break-word\" class=\"diff_next\"></td><td style=\"word-wrap: break-word\" class=\"diff_header\" id=\"to16_25\">25</td><td style=\"word-wrap: break-word\" ><span class=\"diff_add\">help.&nbsp;Further,&nbsp;the&nbsp;overseas&nbsp;seafood&nbsp;processing&nbsp;industry&nbsp;is&nbsp;heavily&nbsp;reliant&nbsp;on&nbsp;forced</span></td></tr>\n",
       "            <tr><td style=\"word-wrap: break-word\" class=\"diff_next\"></td><td style=\"word-wrap: break-word\" class=\"diff_header\"></td><td style=\"word-wrap: break-word\" ></td><td style=\"word-wrap: break-word\" class=\"diff_next\"></td><td style=\"word-wrap: break-word\" class=\"diff_header\" id=\"to16_26\">26</td><td style=\"word-wrap: break-word\" ><span class=\"diff_add\">labor.</span></td></tr>\n",
       "            <tr><td style=\"word-wrap: break-word\" class=\"diff_next\"></td><td style=\"word-wrap: break-word\" class=\"diff_header\"></td><td style=\"word-wrap: break-word\" ></td><td style=\"word-wrap: break-word\" class=\"diff_next\"></td><td style=\"word-wrap: break-word\" class=\"diff_header\" id=\"to16_27\">27</td><td style=\"word-wrap: break-word\" ><span class=\"diff_add\">I&nbsp;strongly&nbsp;encourage&nbsp;the&nbsp;National&nbsp;Marine&nbsp;Fisheries&nbsp;Service&nbsp;(NMFS)&nbsp;to&nbsp;expand&nbsp;and</span></td></tr>\n",
       "            <tr><td style=\"word-wrap: break-word\" class=\"diff_next\"></td><td style=\"word-wrap: break-word\" class=\"diff_header\"></td><td style=\"word-wrap: break-word\" ></td><td style=\"word-wrap: break-word\" class=\"diff_next\"></td><td style=\"word-wrap: break-word\" class=\"diff_header\" id=\"to16_28\">28</td><td style=\"word-wrap: break-word\" ><span class=\"diff_add\">improve&nbsp;the&nbsp;Seafood&nbsp;Import&nbsp;Monitoring&nbsp;Program.&nbsp;The&nbsp;NMFS&nbsp;must&nbsp;expand&nbsp;SIMP&nbsp;to&nbsp;all</span></td></tr>\n",
       "            <tr><td style=\"word-wrap: break-word\" class=\"diff_next\"></td><td style=\"word-wrap: break-word\" class=\"diff_header\"></td><td style=\"word-wrap: break-word\" ></td><td style=\"word-wrap: break-word\" class=\"diff_next\"></td><td style=\"word-wrap: break-word\" class=\"diff_header\" id=\"to16_29\">29</td><td style=\"word-wrap: break-word\" ><span class=\"diff_add\">seafood&nbsp;to&nbsp;ensure&nbsp;the&nbsp;United&nbsp;States&nbsp;is&nbsp;only&nbsp;importing&nbsp;seafood&nbsp;that&nbsp;is&nbsp;safe,&nbsp;legally</span></td></tr>\n",
       "            <tr><td style=\"word-wrap: break-word\" class=\"diff_next\"></td><td style=\"word-wrap: break-word\" class=\"diff_header\"></td><td style=\"word-wrap: break-word\" ></td><td style=\"word-wrap: break-word\" class=\"diff_next\"></td><td style=\"word-wrap: break-word\" class=\"diff_header\" id=\"to16_30\">30</td><td style=\"word-wrap: break-word\" ><span class=\"diff_add\">caught,&nbsp;responsibly&nbsp;sourced,&nbsp;and&nbsp;honestly&nbsp;labeled.&nbsp;The&nbsp;U.S.&nbsp;is&nbsp;one&nbsp;of&nbsp;the&nbsp;world’s</span></td></tr>\n",
       "            <tr><td style=\"word-wrap: break-word\" class=\"diff_next\"></td><td style=\"word-wrap: break-word\" class=\"diff_header\"></td><td style=\"word-wrap: break-word\" ></td><td style=\"word-wrap: break-word\" class=\"diff_next\"></td><td style=\"word-wrap: break-word\" class=\"diff_header\" id=\"to16_31\">31</td><td style=\"word-wrap: break-word\" ><span class=\"diff_add\">largest&nbsp;seafood&nbsp;importing&nbsp;countries.&nbsp;Up&nbsp;to&nbsp;85%&nbsp;of&nbsp;the&nbsp;seafood&nbsp;consumed&nbsp;in&nbsp;the&nbsp;United</span></td></tr>\n",
       "            <tr><td style=\"word-wrap: break-word\" class=\"diff_next\"></td><td style=\"word-wrap: break-word\" class=\"diff_header\"></td><td style=\"word-wrap: break-word\" ></td><td style=\"word-wrap: break-word\" class=\"diff_next\"></td><td style=\"word-wrap: break-word\" class=\"diff_header\" id=\"to16_32\">32</td><td style=\"word-wrap: break-word\" ><span class=\"diff_add\">States&nbsp;is&nbsp;imported,&nbsp;and&nbsp;as&nbsp;much&nbsp;as&nbsp;a&nbsp;third&nbsp;of&nbsp;the&nbsp;wild-caught&nbsp;seafood&nbsp;sold&nbsp;in&nbsp;the&nbsp;United</span></td></tr>\n",
       "            <tr><td style=\"word-wrap: break-word\" class=\"diff_next\"></td><td style=\"word-wrap: break-word\" class=\"diff_header\"></td><td style=\"word-wrap: break-word\" ></td><td style=\"word-wrap: break-word\" class=\"diff_next\"></td><td style=\"word-wrap: break-word\" class=\"diff_header\" id=\"to16_33\">33</td><td style=\"word-wrap: break-word\" ><span class=\"diff_add\">States&nbsp;each&nbsp;year&nbsp;is&nbsp;illegal&nbsp;or&nbsp;unreported.&nbsp;The&nbsp;federal&nbsp;government&nbsp;has&nbsp;a&nbsp;responsibility&nbsp;to</span></td></tr>\n",
       "            <tr><td style=\"word-wrap: break-word\" class=\"diff_next\"></td><td style=\"word-wrap: break-word\" class=\"diff_header\"></td><td style=\"word-wrap: break-word\" ></td><td style=\"word-wrap: break-word\" class=\"diff_next\"></td><td style=\"word-wrap: break-word\" class=\"diff_header\" id=\"to16_34\">34</td><td style=\"word-wrap: break-word\" ><span class=\"diff_add\">ensure&nbsp;that&nbsp;the&nbsp;seafood&nbsp;products&nbsp;reaching&nbsp;our&nbsp;plates&nbsp;are&nbsp;not&nbsp;sourced&nbsp;from&nbsp;illegal,</span></td></tr>\n",
       "            <tr><td style=\"word-wrap: break-word\" class=\"diff_next\"></td><td style=\"word-wrap: break-word\" class=\"diff_header\"></td><td style=\"word-wrap: break-word\" ></td><td style=\"word-wrap: break-word\" class=\"diff_next\"></td><td style=\"word-wrap: break-word\" class=\"diff_header\" id=\"to16_35\">35</td><td style=\"word-wrap: break-word\" ><span class=\"diff_add\">unreported,&nbsp;and&nbsp;unregulated&nbsp;(IUU)&nbsp;fishing&nbsp;or&nbsp;products&nbsp;of&nbsp;forced&nbsp;labor.&nbsp;In&nbsp;2019&nbsp;alone,&nbsp;the</span></td></tr>\n",
       "            <tr><td style=\"word-wrap: break-word\" class=\"diff_next\"></td><td style=\"word-wrap: break-word\" class=\"diff_header\"></td><td style=\"word-wrap: break-word\" ></td><td style=\"word-wrap: break-word\" class=\"diff_next\"></td><td style=\"word-wrap: break-word\" class=\"diff_header\" id=\"to16_36\">36</td><td style=\"word-wrap: break-word\" ><span class=\"diff_add\">U.S.&nbsp;imported&nbsp;$2.4&nbsp;billion&nbsp;worth&nbsp;of&nbsp;seafood&nbsp;that&nbsp;were&nbsp;products&nbsp;of&nbsp;IUU&nbsp;fishing.&nbsp;Globally,</span></td></tr>\n",
       "            <tr><td style=\"word-wrap: break-word\" class=\"diff_next\"></td><td style=\"word-wrap: break-word\" class=\"diff_header\"></td><td style=\"word-wrap: break-word\" ></td><td style=\"word-wrap: break-word\" class=\"diff_next\"></td><td style=\"word-wrap: break-word\" class=\"diff_header\" id=\"to16_37\">37</td><td style=\"word-wrap: break-word\" ><span class=\"diff_add\">IUU&nbsp;fishing&nbsp;is&nbsp;estimated&nbsp;to&nbsp;cause&nbsp;economic&nbsp;losses&nbsp;of&nbsp;$25&nbsp;billion&nbsp;to&nbsp;$50&nbsp;billion&nbsp;per&nbsp;year.</span></td></tr>\n",
       "            <tr><td style=\"word-wrap: break-word\" class=\"diff_next\"></td><td style=\"word-wrap: break-word\" class=\"diff_header\"></td><td style=\"word-wrap: break-word\" ></td><td style=\"word-wrap: break-word\" class=\"diff_next\"></td><td style=\"word-wrap: break-word\" class=\"diff_header\" id=\"to16_38\">38</td><td style=\"word-wrap: break-word\" ><span class=\"diff_add\">IUU&nbsp;fishing&nbsp;is&nbsp;a&nbsp;threat&nbsp;to&nbsp;the&nbsp;health&nbsp;of&nbsp;the&nbsp;oceans&nbsp;and&nbsp;fisheries,&nbsp;the&nbsp;livelihoods&nbsp;of&nbsp;honest</span></td></tr>\n",
       "            <tr><td style=\"word-wrap: break-word\" class=\"diff_next\"></td><td style=\"word-wrap: break-word\" class=\"diff_header\"></td><td style=\"word-wrap: break-word\" ></td><td style=\"word-wrap: break-word\" class=\"diff_next\"></td><td style=\"word-wrap: break-word\" class=\"diff_header\" id=\"to16_39\">39</td><td style=\"word-wrap: break-word\" ><span class=\"diff_add\">fishers,&nbsp;national&nbsp;security,&nbsp;and&nbsp;global&nbsp;food&nbsp;security.</span></td></tr>\n",
       "            <tr><td style=\"word-wrap: break-word\" class=\"diff_next\"></td><td style=\"word-wrap: break-word\" class=\"diff_header\"></td><td style=\"word-wrap: break-word\" ></td><td style=\"word-wrap: break-word\" class=\"diff_next\"></td><td style=\"word-wrap: break-word\" class=\"diff_header\" id=\"to16_40\">40</td><td style=\"word-wrap: break-word\" ><span class=\"diff_add\">“As&nbsp;we&nbsp;peer&nbsp;into&nbsp;society’s&nbsp;future,&nbsp;we—you&nbsp;and&nbsp;I,&nbsp;and&nbsp;our&nbsp;government—must&nbsp;avoid</span></td></tr>\n",
       "            <tr><td style=\"word-wrap: break-word\" class=\"diff_next\"></td><td style=\"word-wrap: break-word\" class=\"diff_header\"></td><td style=\"word-wrap: break-word\" ></td><td style=\"word-wrap: break-word\" class=\"diff_next\"></td><td style=\"word-wrap: break-word\" class=\"diff_header\" id=\"to16_41\">41</td><td style=\"word-wrap: break-word\" ><span class=\"diff_add\">the&nbsp;impulse&nbsp;to&nbsp;live&nbsp;only&nbsp;for&nbsp;today,&nbsp;plundering&nbsp;for&nbsp;our&nbsp;own&nbsp;ease&nbsp;and&nbsp;convenience&nbsp;the</span></td></tr>\n",
       "            <tr><td style=\"word-wrap: break-word\" class=\"diff_next\"></td><td style=\"word-wrap: break-word\" class=\"diff_header\"></td><td style=\"word-wrap: break-word\" ></td><td style=\"word-wrap: break-word\" class=\"diff_next\"></td><td style=\"word-wrap: break-word\" class=\"diff_header\" id=\"to16_42\">42</td><td style=\"word-wrap: break-word\" ><span class=\"diff_add\">precious&nbsp;resources&nbsp;of&nbsp;tomorrow.&nbsp;We&nbsp;cannot&nbsp;mortgage&nbsp;the&nbsp;material&nbsp;assets&nbsp;of&nbsp;our</span></td></tr>\n",
       "            <tr><td style=\"word-wrap: break-word\" class=\"diff_next\"></td><td style=\"word-wrap: break-word\" class=\"diff_header\"></td><td style=\"word-wrap: break-word\" ></td><td style=\"word-wrap: break-word\" class=\"diff_next\"></td><td style=\"word-wrap: break-word\" class=\"diff_header\" id=\"to16_43\">43</td><td style=\"word-wrap: break-word\" ><span class=\"diff_add\">grandchildren&nbsp;without&nbsp;risking&nbsp;the&nbsp;loss&nbsp;also&nbsp;of&nbsp;their&nbsp;political&nbsp;and&nbsp;spiritual&nbsp;heritage.&nbsp;We</span></td></tr>\n",
       "            <tr><td style=\"word-wrap: break-word\" class=\"diff_next\"></td><td style=\"word-wrap: break-word\" class=\"diff_header\"></td><td style=\"word-wrap: break-word\" ></td><td style=\"word-wrap: break-word\" class=\"diff_next\"></td><td style=\"word-wrap: break-word\" class=\"diff_header\" id=\"to16_44\">44</td><td style=\"word-wrap: break-word\" ><span class=\"diff_add\">want&nbsp;democracy&nbsp;to&nbsp;survive&nbsp;for&nbsp;all&nbsp;generations&nbsp;to&nbsp;come,&nbsp;not&nbsp;to&nbsp;become&nbsp;the&nbsp;insolvent</span></td></tr>\n",
       "            <tr><td style=\"word-wrap: break-word\" class=\"diff_next\"></td><td style=\"word-wrap: break-word\" class=\"diff_header\"></td><td style=\"word-wrap: break-word\" ></td><td style=\"word-wrap: break-word\" class=\"diff_next\"></td><td style=\"word-wrap: break-word\" class=\"diff_header\" id=\"to16_45\">45</td><td style=\"word-wrap: break-word\" ><span class=\"diff_add\">phantom&nbsp;of&nbsp;tomorrow.”</span></td></tr>\n",
       "            <tr><td style=\"word-wrap: break-word\" class=\"diff_next\"></td><td style=\"word-wrap: break-word\" class=\"diff_header\"></td><td style=\"word-wrap: break-word\" ></td><td style=\"word-wrap: break-word\" class=\"diff_next\"></td><td style=\"word-wrap: break-word\" class=\"diff_header\" id=\"to16_46\">46</td><td style=\"word-wrap: break-word\" ><span class=\"diff_add\">--&nbsp;Dwight&nbsp;D.&nbsp;Eisenhower</span></td></tr>\n",
       "            <tr><td style=\"word-wrap: break-word\" class=\"diff_next\"></td><td style=\"word-wrap: break-word\" class=\"diff_header\"></td><td style=\"word-wrap: break-word\" ></td><td style=\"word-wrap: break-word\" class=\"diff_next\"></td><td style=\"word-wrap: break-word\" class=\"diff_header\" id=\"to16_47\">47</td><td style=\"word-wrap: break-word\" ><span class=\"diff_add\">SIMP&nbsp;requires&nbsp;catch&nbsp;documentation&nbsp;for&nbsp;covered&nbsp;species&nbsp;and&nbsp;traceability&nbsp;from&nbsp;the&nbsp;boat</span></td></tr>\n",
       "            <tr><td style=\"word-wrap: break-word\" class=\"diff_next\"></td><td style=\"word-wrap: break-word\" class=\"diff_header\"></td><td style=\"word-wrap: break-word\" ></td><td style=\"word-wrap: break-word\" class=\"diff_next\"></td><td style=\"word-wrap: break-word\" class=\"diff_header\" id=\"to16_48\">48</td><td style=\"word-wrap: break-word\" ><span class=\"diff_add\">(or&nbsp;aquaculture&nbsp;farm)&nbsp;to&nbsp;the&nbsp;U.S.&nbsp;border.&nbsp;SIMP&nbsp;reporting&nbsp;requirements&nbsp;include&nbsp;the</span></td></tr>\n",
       "            <tr><td style=\"word-wrap: break-word\" class=\"diff_next\"></td><td style=\"word-wrap: break-word\" class=\"diff_header\"></td><td style=\"word-wrap: break-word\" ></td><td style=\"word-wrap: break-word\" class=\"diff_next\"></td><td style=\"word-wrap: break-word\" class=\"diff_header\" id=\"to16_49\">49</td><td style=\"word-wrap: break-word\" ><span class=\"diff_add\">following:&nbsp;species&nbsp;of&nbsp;fish;&nbsp;where,&nbsp;when,&nbsp;and&nbsp;how&nbsp;it&nbsp;was&nbsp;caught;&nbsp;and&nbsp;who&nbsp;caught&nbsp;it.&nbsp;The</span></td></tr>\n",
       "            <tr><td style=\"word-wrap: break-word\" class=\"diff_next\"></td><td style=\"word-wrap: break-word\" class=\"diff_header\"></td><td style=\"word-wrap: break-word\" ></td><td style=\"word-wrap: break-word\" class=\"diff_next\"></td><td style=\"word-wrap: break-word\" class=\"diff_header\" id=\"to16_50\">50</td><td style=\"word-wrap: break-word\" ><span class=\"diff_add\">NMFS’s&nbsp;proposed&nbsp;rule&nbsp;to&nbsp;expand&nbsp;and&nbsp;improve&nbsp;SIMP&nbsp;has&nbsp;the&nbsp;potential&nbsp;to&nbsp;improve</span></td></tr>\n",
       "            <tr><td style=\"word-wrap: break-word\" class=\"diff_next\"></td><td style=\"word-wrap: break-word\" class=\"diff_header\"></td><td style=\"word-wrap: break-word\" ></td><td style=\"word-wrap: break-word\" class=\"diff_next\"></td><td style=\"word-wrap: break-word\" class=\"diff_header\" id=\"to16_51\">51</td><td style=\"word-wrap: break-word\" ><span class=\"diff_add\">traceability&nbsp;of&nbsp;our&nbsp;seafood&nbsp;through&nbsp;global&nbsp;supply&nbsp;chains&nbsp;and&nbsp;protect&nbsp;American</span></td></tr>\n",
       "            <tr><td style=\"word-wrap: break-word\" class=\"diff_next\"></td><td style=\"word-wrap: break-word\" class=\"diff_header\"></td><td style=\"word-wrap: break-word\" ></td><td style=\"word-wrap: break-word\" class=\"diff_next\"></td><td style=\"word-wrap: break-word\" class=\"diff_header\" id=\"to16_52\">52</td><td style=\"word-wrap: break-word\" ><span class=\"diff_add\">consumers&nbsp;and&nbsp;fishers,&nbsp;but&nbsp;only&nbsp;if&nbsp;it&nbsp;is&nbsp;expanded&nbsp;further&nbsp;to&nbsp;include&nbsp;all&nbsp;seafood&nbsp;imports.</span></td></tr>\n",
       "            <tr><td style=\"word-wrap: break-word\" class=\"diff_next\"></td><td style=\"word-wrap: break-word\" class=\"diff_header\"></td><td style=\"word-wrap: break-word\" ></td><td style=\"word-wrap: break-word\" class=\"diff_next\"></td><td style=\"word-wrap: break-word\" class=\"diff_header\" id=\"to16_53\">53</td><td style=\"word-wrap: break-word\" ><span class=\"diff_add\">Unfortunately,&nbsp;under&nbsp;the&nbsp;NMFS’&nbsp;proposed&nbsp;rule,&nbsp;traceability&nbsp;requirements&nbsp;would&nbsp;apply&nbsp;to</span></td></tr>\n",
       "            <tr><td style=\"word-wrap: break-word\" class=\"diff_next\"></td><td style=\"word-wrap: break-word\" class=\"diff_header\"></td><td style=\"word-wrap: break-word\" ></td><td style=\"word-wrap: break-word\" class=\"diff_next\"></td><td style=\"word-wrap: break-word\" class=\"diff_header\" id=\"to16_54\">54</td><td style=\"word-wrap: break-word\" ><span class=\"diff_add\">only&nbsp;half&nbsp;of&nbsp;seafood&nbsp;imports,&nbsp;leaving&nbsp;massive&nbsp;loopholes&nbsp;that&nbsp;are&nbsp;easy&nbsp;for&nbsp;bad&nbsp;actors&nbsp;to</span></td></tr>\n",
       "            <tr><td style=\"word-wrap: break-word\" class=\"diff_next\"></td><td style=\"word-wrap: break-word\" class=\"diff_header\"></td><td style=\"word-wrap: break-word\" ></td><td style=\"word-wrap: break-word\" class=\"diff_next\"></td><td style=\"word-wrap: break-word\" class=\"diff_header\" id=\"to16_55\">55</td><td style=\"word-wrap: break-word\" ><span class=\"diff_add\">exploit.&nbsp;The&nbsp;proposed&nbsp;rule&nbsp;also&nbsp;fails&nbsp;to&nbsp;sufficiently&nbsp;address&nbsp;labor&nbsp;abuses&nbsp;in&nbsp;seafood</span></td></tr>\n",
       "            <tr><td style=\"word-wrap: break-word\" class=\"diff_next\"></td><td style=\"word-wrap: break-word\" class=\"diff_header\"></td><td style=\"word-wrap: break-word\" ></td><td style=\"word-wrap: break-word\" class=\"diff_next\"></td><td style=\"word-wrap: break-word\" class=\"diff_header\" id=\"to16_56\">56</td><td style=\"word-wrap: break-word\" ><span class=\"diff_add\">supply&nbsp;chains,&nbsp;and&nbsp;it&nbsp;includes&nbsp;no&nbsp;commitment&nbsp;to&nbsp;improve&nbsp;enforcement&nbsp;of&nbsp;traceability</span></td></tr>\n",
       "            <tr><td style=\"word-wrap: break-word\" class=\"diff_next\"></td><td style=\"word-wrap: break-word\" class=\"diff_header\"></td><td style=\"word-wrap: break-word\" ></td><td style=\"word-wrap: break-word\" class=\"diff_next\"></td><td style=\"word-wrap: break-word\" class=\"diff_header\" id=\"to16_57\">57</td><td style=\"word-wrap: break-word\" ><span class=\"diff_add\">requirements.</span></td></tr>\n",
       "            <tr><td style=\"word-wrap: break-word\" class=\"diff_next\"></td><td style=\"word-wrap: break-word\" class=\"diff_header\"></td><td style=\"word-wrap: break-word\" ></td><td style=\"word-wrap: break-word\" class=\"diff_next\"></td><td style=\"word-wrap: break-word\" class=\"diff_header\" id=\"to16_58\">58</td><td style=\"word-wrap: break-word\" ><span class=\"diff_add\">The&nbsp;NMFS&nbsp;must&nbsp;commit&nbsp;to&nbsp;a&nbsp;transparent&nbsp;timeline&nbsp;to&nbsp;expand&nbsp;SIMP&nbsp;to&nbsp;all&nbsp;seafood</span></td></tr>\n",
       "            <tr><td style=\"word-wrap: break-word\" class=\"diff_next\"></td><td style=\"word-wrap: break-word\" class=\"diff_header\"></td><td style=\"word-wrap: break-word\" ></td><td style=\"word-wrap: break-word\" class=\"diff_next\"></td><td style=\"word-wrap: break-word\" class=\"diff_header\" id=\"to16_59\">59</td><td style=\"word-wrap: break-word\" ><span class=\"diff_add\">imports.&nbsp;Currently,&nbsp;SIMP&nbsp;applies&nbsp;only&nbsp;to&nbsp;13&nbsp;types&nbsp;of&nbsp;seafood&nbsp;deemed&nbsp;at&nbsp;risk&nbsp;of&nbsp;IUU</span></td></tr>\n",
       "            <tr><td style=\"word-wrap: break-word\" class=\"diff_next\"></td><td style=\"word-wrap: break-word\" class=\"diff_header\"></td><td style=\"word-wrap: break-word\" ></td><td style=\"word-wrap: break-word\" class=\"diff_next\"></td><td style=\"word-wrap: break-word\" class=\"diff_header\" id=\"to16_60\">60</td><td style=\"word-wrap: break-word\" ><span class=\"diff_add\">fishing&nbsp;and&nbsp;seafood&nbsp;fraud,&nbsp;representing&nbsp;approximately&nbsp;40%&nbsp;of&nbsp;U.S.&nbsp;imports&nbsp;by&nbsp;value&nbsp;and</span></td></tr>\n",
       "            <tr><td style=\"word-wrap: break-word\" class=\"diff_next\"></td><td style=\"word-wrap: break-word\" class=\"diff_header\"></td><td style=\"word-wrap: break-word\" ></td><td style=\"word-wrap: break-word\" class=\"diff_next\"></td><td style=\"word-wrap: break-word\" class=\"diff_header\" id=\"to16_61\">61</td><td style=\"word-wrap: break-word\" ><span class=\"diff_add\">volume.&nbsp;The&nbsp;proposed&nbsp;additional&nbsp;seafood&nbsp;products&nbsp;would&nbsp;include&nbsp;additional&nbsp;tuna&nbsp;and</span></td></tr>\n",
       "            <tr><td style=\"word-wrap: break-word\" class=\"diff_next\"></td><td style=\"word-wrap: break-word\" class=\"diff_header\"></td><td style=\"word-wrap: break-word\" ></td><td style=\"word-wrap: break-word\" class=\"diff_next\"></td><td style=\"word-wrap: break-word\" class=\"diff_header\" id=\"to16_62\">62</td><td style=\"word-wrap: break-word\" ><span class=\"diff_add\">snapper&nbsp;species,&nbsp;cuttlefish,&nbsp;squid,&nbsp;octopuses,&nbsp;eels,&nbsp;queen&nbsp;conch,&nbsp;and&nbsp;Caribbean&nbsp;spiny</span></td></tr>\n",
       "            <tr><td style=\"word-wrap: break-word\" class=\"diff_next\"></td><td style=\"word-wrap: break-word\" class=\"diff_header\"></td><td style=\"word-wrap: break-word\" ></td><td style=\"word-wrap: break-word\" class=\"diff_next\"></td><td style=\"word-wrap: break-word\" class=\"diff_header\" id=\"to16_63\">63</td><td style=\"word-wrap: break-word\" ><span class=\"diff_add\">lobster,&nbsp;with&nbsp;the&nbsp;possibility&nbsp;of&nbsp;including&nbsp;all&nbsp;conch&nbsp;and&nbsp;spiny&nbsp;lobster&nbsp;species.&nbsp;However,</span></td></tr>\n",
       "            <tr><td style=\"word-wrap: break-word\" class=\"diff_next\"></td><td style=\"word-wrap: break-word\" class=\"diff_header\"></td><td style=\"word-wrap: break-word\" ></td><td style=\"word-wrap: break-word\" class=\"diff_next\"></td><td style=\"word-wrap: break-word\" class=\"diff_header\" id=\"to16_64\">64</td><td style=\"word-wrap: break-word\" ><span class=\"diff_add\">this&nbsp;is&nbsp;less&nbsp;than&nbsp;a&nbsp;4–8%&nbsp;increase&nbsp;in&nbsp;the&nbsp;amount&nbsp;of&nbsp;seafood&nbsp;imports&nbsp;into&nbsp;the&nbsp;U.S.&nbsp;by</span></td></tr>\n",
       "            <tr><td style=\"word-wrap: break-word\" class=\"diff_next\"></td><td style=\"word-wrap: break-word\" class=\"diff_header\"></td><td style=\"word-wrap: break-word\" ></td><td style=\"word-wrap: break-word\" class=\"diff_next\"></td><td style=\"word-wrap: break-word\" class=\"diff_header\" id=\"to16_65\">65</td><td style=\"word-wrap: break-word\" ><span class=\"diff_add\">volume,&nbsp;meaning&nbsp;more&nbsp;than&nbsp;50%&nbsp;of&nbsp;seafood&nbsp;imports&nbsp;would&nbsp;still&nbsp;not&nbsp;be&nbsp;covered&nbsp;by&nbsp;these</span></td></tr>\n",
       "            <tr><td style=\"word-wrap: break-word\" class=\"diff_next\"></td><td style=\"word-wrap: break-word\" class=\"diff_header\"></td><td style=\"word-wrap: break-word\" ></td><td style=\"word-wrap: break-word\" class=\"diff_next\"></td><td style=\"word-wrap: break-word\" class=\"diff_header\" id=\"to16_66\">66</td><td style=\"word-wrap: break-word\" ><span class=\"diff_add\">safeguards.</span></td></tr>\n",
       "            <tr><td style=\"word-wrap: break-word\" class=\"diff_next\"></td><td style=\"word-wrap: break-word\" class=\"diff_header\"></td><td style=\"word-wrap: break-word\" ></td><td style=\"word-wrap: break-word\" class=\"diff_next\"></td><td style=\"word-wrap: break-word\" class=\"diff_header\" id=\"to16_67\">67</td><td style=\"word-wrap: break-word\" ><span class=\"diff_add\">In&nbsp;addition&nbsp;to&nbsp;expanding&nbsp;SIMP&nbsp;to&nbsp;include&nbsp;all&nbsp;seafood&nbsp;imports,&nbsp;the&nbsp;program&nbsp;should&nbsp;not</span></td></tr>\n",
       "            <tr><td style=\"word-wrap: break-word\" class=\"diff_next\"></td><td style=\"word-wrap: break-word\" class=\"diff_header\"></td><td style=\"word-wrap: break-word\" ></td><td style=\"word-wrap: break-word\" class=\"diff_next\"></td><td style=\"word-wrap: break-word\" class=\"diff_header\" id=\"to16_68\">68</td><td style=\"word-wrap: break-word\" ><span class=\"diff_add\">operate&nbsp;in&nbsp;a&nbsp;vacuum.&nbsp;The&nbsp;NMFS&nbsp;should&nbsp;align&nbsp;key&nbsp;data&nbsp;elements&nbsp;(KDE)&nbsp;and&nbsp;critical</span></td></tr>\n",
       "            <tr><td style=\"word-wrap: break-word\" class=\"diff_next\"></td><td style=\"word-wrap: break-word\" class=\"diff_header\"></td><td style=\"word-wrap: break-word\" ></td><td style=\"word-wrap: break-word\" class=\"diff_next\"></td><td style=\"word-wrap: break-word\" class=\"diff_header\" id=\"to16_69\">69</td><td style=\"word-wrap: break-word\" ><span class=\"diff_add\">tracking&nbsp;events&nbsp;(CTE)&nbsp;(where&nbsp;appropriate)&nbsp;with&nbsp;the&nbsp;FDA’s&nbsp;Food&nbsp;Traceability&nbsp;List.&nbsp;The</span></td></tr>\n",
       "            <tr><td style=\"word-wrap: break-word\" class=\"diff_next\"></td><td style=\"word-wrap: break-word\" class=\"diff_header\"></td><td style=\"word-wrap: break-word\" ></td><td style=\"word-wrap: break-word\" class=\"diff_next\"></td><td style=\"word-wrap: break-word\" class=\"diff_header\" id=\"to16_70\">70</td><td style=\"word-wrap: break-word\" ><span class=\"diff_add\">NMFS&nbsp;should&nbsp;also&nbsp;look&nbsp;to&nbsp;international&nbsp;best&nbsp;practices&nbsp;to&nbsp;align&nbsp;and&nbsp;harmonize&nbsp;these</span></td></tr>\n",
       "            <tr><td style=\"word-wrap: break-word\" class=\"diff_next\"></td><td style=\"word-wrap: break-word\" class=\"diff_header\"></td><td style=\"word-wrap: break-word\" ></td><td style=\"word-wrap: break-word\" class=\"diff_next\"></td><td style=\"word-wrap: break-word\" class=\"diff_header\" id=\"to16_71\">71</td><td style=\"word-wrap: break-word\" ><span class=\"diff_add\">KDEs&nbsp;and&nbsp;CTEs&nbsp;across&nbsp;other&nbsp;import&nbsp;control&nbsp;programs&nbsp;to&nbsp;provide&nbsp;consistency&nbsp;to&nbsp;industry</span></td></tr>\n",
       "            <tr><td style=\"word-wrap: break-word\" class=\"diff_next\"></td><td style=\"word-wrap: break-word\" class=\"diff_header\"></td><td style=\"word-wrap: break-word\" ></td><td style=\"word-wrap: break-word\" class=\"diff_next\"></td><td style=\"word-wrap: break-word\" class=\"diff_header\" id=\"to16_72\">72</td><td style=\"word-wrap: break-word\" ><span class=\"diff_add\">who&nbsp;must&nbsp;comply&nbsp;with&nbsp;different&nbsp;catch&nbsp;documentation&nbsp;requirements&nbsp;for&nbsp;each&nbsp;country.</span></td></tr>\n",
       "            <tr><td style=\"word-wrap: break-word\" class=\"diff_next\"></td><td style=\"word-wrap: break-word\" class=\"diff_header\"></td><td style=\"word-wrap: break-word\" ></td><td style=\"word-wrap: break-word\" class=\"diff_next\"></td><td style=\"word-wrap: break-word\" class=\"diff_header\" id=\"to16_73\">73</td><td style=\"word-wrap: break-word\" ><span class=\"diff_add\">IUU&nbsp;fishing&nbsp;is&nbsp;also&nbsp;linked&nbsp;to&nbsp;transnational&nbsp;crimes&nbsp;like&nbsp;human&nbsp;trafficking&nbsp;and&nbsp;forced&nbsp;labor.</span></td></tr>\n",
       "            <tr><td style=\"word-wrap: break-word\" class=\"diff_next\"></td><td style=\"word-wrap: break-word\" class=\"diff_header\"></td><td style=\"word-wrap: break-word\" ></td><td style=\"word-wrap: break-word\" class=\"diff_next\"></td><td style=\"word-wrap: break-word\" class=\"diff_header\" id=\"to16_74\">74</td><td style=\"word-wrap: break-word\" ><span class=\"diff_add\">Lack&nbsp;of&nbsp;oversight&nbsp;and&nbsp;enforcement&nbsp;in&nbsp;the&nbsp;global&nbsp;seafood&nbsp;sector&nbsp;has&nbsp;fostered&nbsp;conditions</span></td></tr>\n",
       "            <tr><td style=\"word-wrap: break-word\" class=\"diff_next\"></td><td style=\"word-wrap: break-word\" class=\"diff_header\"></td><td style=\"word-wrap: break-word\" ></td><td style=\"word-wrap: break-word\" class=\"diff_next\"></td><td style=\"word-wrap: break-word\" class=\"diff_header\" id=\"to16_75\">75</td><td style=\"word-wrap: break-word\" ><span class=\"diff_add\">in&nbsp;which&nbsp;crew&nbsp;members&nbsp;remain&nbsp;on&nbsp;vessels&nbsp;for&nbsp;prolonged&nbsp;periods&nbsp;of&nbsp;time&nbsp;and&nbsp;are</span></td></tr>\n",
       "            <tr><td style=\"word-wrap: break-word\" class=\"diff_next\"></td><td style=\"word-wrap: break-word\" class=\"diff_header\"></td><td style=\"word-wrap: break-word\" ></td><td style=\"word-wrap: break-word\" class=\"diff_next\"></td><td style=\"word-wrap: break-word\" class=\"diff_header\" id=\"to16_76\">76</td><td style=\"word-wrap: break-word\" ><span class=\"diff_add\">subjected&nbsp;to&nbsp;debt&nbsp;bondage,&nbsp;inhumane&nbsp;working&nbsp;conditions,&nbsp;and&nbsp;severe&nbsp;abuse.&nbsp;Forced</span></td></tr>\n",
       "            <tr><td style=\"word-wrap: break-word\" class=\"diff_next\"></td><td style=\"word-wrap: break-word\" class=\"diff_header\"></td><td style=\"word-wrap: break-word\" ></td><td style=\"word-wrap: break-word\" class=\"diff_next\"></td><td style=\"word-wrap: break-word\" class=\"diff_header\" id=\"to16_77\">77</td><td style=\"word-wrap: break-word\" ><span class=\"diff_add\">labor&nbsp;is&nbsp;also&nbsp;found&nbsp;in&nbsp;seafood&nbsp;processing&nbsp;facilities&nbsp;in&nbsp;a&nbsp;number&nbsp;of&nbsp;countries.&nbsp;While&nbsp;this</span></td></tr>\n",
       "            <tr><td style=\"word-wrap: break-word\" class=\"diff_next\"></td><td style=\"word-wrap: break-word\" class=\"diff_header\"></td><td style=\"word-wrap: break-word\" ></td><td style=\"word-wrap: break-word\" class=\"diff_next\"></td><td style=\"word-wrap: break-word\" class=\"diff_header\" id=\"to16_78\">78</td><td style=\"word-wrap: break-word\" ><span class=\"diff_add\">rule&nbsp;recognizes&nbsp;that&nbsp;forced&nbsp;labor&nbsp;and&nbsp;human&nbsp;rights&nbsp;abuses&nbsp;are&nbsp;problematic&nbsp;in&nbsp;many</span></td></tr>\n",
       "            <tr><td style=\"word-wrap: break-word\" class=\"diff_next\"></td><td style=\"word-wrap: break-word\" class=\"diff_header\"></td><td style=\"word-wrap: break-word\" ></td><td style=\"word-wrap: break-word\" class=\"diff_next\"></td><td style=\"word-wrap: break-word\" class=\"diff_header\" id=\"to16_79\">79</td><td style=\"word-wrap: break-word\" ><span class=\"diff_add\">seafood&nbsp;supply&nbsp;chains,&nbsp;it&nbsp;fails&nbsp;to&nbsp;use&nbsp;this&nbsp;information&nbsp;to&nbsp;expand&nbsp;SIMP&nbsp;to&nbsp;species&nbsp;at&nbsp;high</span></td></tr>\n",
       "            <tr><td style=\"word-wrap: break-word\" class=\"diff_next\"></td><td style=\"word-wrap: break-word\" class=\"diff_header\"></td><td style=\"word-wrap: break-word\" ></td><td style=\"word-wrap: break-word\" class=\"diff_next\"></td><td style=\"word-wrap: break-word\" class=\"diff_header\" id=\"to16_80\">80</td><td style=\"word-wrap: break-word\" ><span class=\"diff_add\">risk&nbsp;of&nbsp;forced&nbsp;labor.&nbsp;Because&nbsp;IUU&nbsp;fishing&nbsp;and&nbsp;forced&nbsp;labor&nbsp;are&nbsp;inextricably&nbsp;linked,&nbsp;they</span></td></tr>\n",
       "            <tr><td style=\"word-wrap: break-word\" class=\"diff_next\"></td><td style=\"word-wrap: break-word\" class=\"diff_header\"></td><td style=\"word-wrap: break-word\" ></td><td style=\"word-wrap: break-word\" class=\"diff_next\"></td><td style=\"word-wrap: break-word\" class=\"diff_header\" id=\"to16_81\">81</td><td style=\"word-wrap: break-word\" ><span class=\"diff_add\">must&nbsp;be&nbsp;tackled&nbsp;together,&nbsp;using&nbsp;a&nbsp;whole-of-government&nbsp;approach.&nbsp;The&nbsp;NMFS&nbsp;should</span></td></tr>\n",
       "            <tr><td style=\"word-wrap: break-word\" class=\"diff_next\"></td><td style=\"word-wrap: break-word\" class=\"diff_header\"></td><td style=\"word-wrap: break-word\" ></td><td style=\"word-wrap: break-word\" class=\"diff_next\"></td><td style=\"word-wrap: break-word\" class=\"diff_header\" id=\"to16_82\">82</td><td style=\"word-wrap: break-word\" ><span class=\"diff_add\">build&nbsp;mechanisms&nbsp;into&nbsp;SIMP&nbsp;to&nbsp;address&nbsp;forced&nbsp;labor&nbsp;and&nbsp;other&nbsp;human&nbsp;rights&nbsp;abuses.</span></td></tr>\n",
       "            <tr><td style=\"word-wrap: break-word\" class=\"diff_next\"></td><td style=\"word-wrap: break-word\" class=\"diff_header\"></td><td style=\"word-wrap: break-word\" ></td><td style=\"word-wrap: break-word\" class=\"diff_next\"></td><td style=\"word-wrap: break-word\" class=\"diff_header\" id=\"to16_83\">83</td><td style=\"word-wrap: break-word\" ><span class=\"diff_add\">The&nbsp;U.S.’s&nbsp;high&nbsp;demand&nbsp;for&nbsp;seafood&nbsp;combined&nbsp;with&nbsp;SIMP’s&nbsp;limitations&nbsp;allow&nbsp;seafood</span></td></tr>\n",
       "            <tr><td style=\"word-wrap: break-word\" class=\"diff_next\"></td><td style=\"word-wrap: break-word\" class=\"diff_header\"></td><td style=\"word-wrap: break-word\" ></td><td style=\"word-wrap: break-word\" class=\"diff_next\"></td><td style=\"word-wrap: break-word\" class=\"diff_header\" id=\"to16_84\">84</td><td style=\"word-wrap: break-word\" ><span class=\"diff_add\">sourced&nbsp;from&nbsp;illegal&nbsp;activity&nbsp;to&nbsp;flood&nbsp;the&nbsp;U.S.&nbsp;market,&nbsp;driving&nbsp;economic&nbsp;and&nbsp;ecological</span></td></tr>\n",
       "            <tr><td style=\"word-wrap: break-word\" class=\"diff_next\"></td><td style=\"word-wrap: break-word\" class=\"diff_header\"></td><td style=\"word-wrap: break-word\" ></td><td style=\"word-wrap: break-word\" class=\"diff_next\"></td><td style=\"word-wrap: break-word\" class=\"diff_header\" id=\"to16_85\">85</td><td style=\"word-wrap: break-word\" ><span class=\"diff_add\">loss&nbsp;around&nbsp;the&nbsp;world.&nbsp;The&nbsp;lack&nbsp;of&nbsp;visibility&nbsp;and&nbsp;traceability&nbsp;allows&nbsp;illegally&nbsp;sourced&nbsp;or</span></td></tr>\n",
       "            <tr><td style=\"word-wrap: break-word\" class=\"diff_next\"></td><td style=\"word-wrap: break-word\" class=\"diff_header\"></td><td style=\"word-wrap: break-word\" ></td><td style=\"word-wrap: break-word\" class=\"diff_next\"></td><td style=\"word-wrap: break-word\" class=\"diff_header\" id=\"to16_86\">86</td><td style=\"word-wrap: break-word\" ><span class=\"diff_add\">mislabeled&nbsp;products&nbsp;to&nbsp;enter&nbsp;the&nbsp;legal&nbsp;supply&nbsp;chain.&nbsp;Requiring&nbsp;transparency&nbsp;and</span></td></tr>\n",
       "            <tr><td style=\"word-wrap: break-word\" class=\"diff_next\"></td><td style=\"word-wrap: break-word\" class=\"diff_header\"></td><td style=\"word-wrap: break-word\" ></td><td style=\"word-wrap: break-word\" class=\"diff_next\"></td><td style=\"word-wrap: break-word\" class=\"diff_header\" id=\"to16_87\">87</td><td style=\"word-wrap: break-word\" ><span class=\"diff_add\">traceability&nbsp;at&nbsp;every&nbsp;step&nbsp;of&nbsp;the&nbsp;seafood&nbsp;supply&nbsp;chain&nbsp;provides&nbsp;the&nbsp;NMFS&nbsp;and&nbsp;Customs</span></td></tr>\n",
       "            <tr><td style=\"word-wrap: break-word\" class=\"diff_next\"></td><td style=\"word-wrap: break-word\" class=\"diff_header\"></td><td style=\"word-wrap: break-word\" ></td><td style=\"word-wrap: break-word\" class=\"diff_next\"></td><td style=\"word-wrap: break-word\" class=\"diff_header\" id=\"to16_88\">88</td><td style=\"word-wrap: break-word\" ><span class=\"diff_add\">with&nbsp;important&nbsp;tools&nbsp;toward&nbsp;combating&nbsp;these&nbsp;problems.&nbsp;This&nbsp;is&nbsp;essential&nbsp;to&nbsp;monitor</span></td></tr>\n",
       "            <tr><td style=\"word-wrap: break-word\" class=\"diff_next\"></td><td style=\"word-wrap: break-word\" class=\"diff_header\"></td><td style=\"word-wrap: break-word\" ></td><td style=\"word-wrap: break-word\" class=\"diff_next\"></td><td style=\"word-wrap: break-word\" class=\"diff_header\" id=\"to16_89\">89</td><td style=\"word-wrap: break-word\" ><span class=\"diff_add\">fishing,&nbsp;identify&nbsp;suspicious&nbsp;activities,&nbsp;eliminate&nbsp;illegal&nbsp;fishing,&nbsp;and&nbsp;restore&nbsp;healthy</span></td></tr>\n",
       "            <tr><td style=\"word-wrap: break-word\" class=\"diff_next\"></td><td style=\"word-wrap: break-word\" class=\"diff_header\"></td><td style=\"word-wrap: break-word\" ></td><td style=\"word-wrap: break-word\" class=\"diff_next\"></td><td style=\"word-wrap: break-word\" class=\"diff_header\" id=\"to16_90\">90</td><td style=\"word-wrap: break-word\" ><span class=\"diff_add\">fisheries.</span></td></tr>\n",
       "            <tr><td style=\"word-wrap: break-word\" class=\"diff_next\"></td><td style=\"word-wrap: break-word\" class=\"diff_header\"></td><td style=\"word-wrap: break-word\" ></td><td style=\"word-wrap: break-word\" class=\"diff_next\"></td><td style=\"word-wrap: break-word\" class=\"diff_header\" id=\"to16_91\">91</td><td style=\"word-wrap: break-word\" ><span class=\"diff_add\">“Our&nbsp;duty&nbsp;to&nbsp;the&nbsp;whole,&nbsp;including&nbsp;to&nbsp;the&nbsp;unborn&nbsp;generations,&nbsp;bids&nbsp;us&nbsp;to&nbsp;restrain&nbsp;an</span></td></tr>\n",
       "            <tr><td style=\"word-wrap: break-word\" class=\"diff_next\"></td><td style=\"word-wrap: break-word\" class=\"diff_header\"></td><td style=\"word-wrap: break-word\" ></td><td style=\"word-wrap: break-word\" class=\"diff_next\"></td><td style=\"word-wrap: break-word\" class=\"diff_header\" id=\"to16_92\">92</td><td style=\"word-wrap: break-word\" ><span class=\"diff_add\">unprincipled&nbsp;present-day&nbsp;minority&nbsp;from&nbsp;wasting&nbsp;the&nbsp;heritage&nbsp;of&nbsp;these&nbsp;unborn</span></td></tr>\n",
       "            <tr><td style=\"word-wrap: break-word\" class=\"diff_next\"></td><td style=\"word-wrap: break-word\" class=\"diff_header\"></td><td style=\"word-wrap: break-word\" ></td><td style=\"word-wrap: break-word\" class=\"diff_next\"></td><td style=\"word-wrap: break-word\" class=\"diff_header\" id=\"to16_93\">93</td><td style=\"word-wrap: break-word\" ><span class=\"diff_add\">generations.&nbsp;The&nbsp;movement&nbsp;for&nbsp;the&nbsp;conservation&nbsp;of&nbsp;wildlife&nbsp;and&nbsp;the&nbsp;larger&nbsp;movement</span></td></tr>\n",
       "            <tr><td style=\"word-wrap: break-word\" class=\"diff_next\"></td><td style=\"word-wrap: break-word\" class=\"diff_header\"></td><td style=\"word-wrap: break-word\" ></td><td style=\"word-wrap: break-word\" class=\"diff_next\"></td><td style=\"word-wrap: break-word\" class=\"diff_header\" id=\"to16_94\">94</td><td style=\"word-wrap: break-word\" ><span class=\"diff_add\">for&nbsp;the&nbsp;conservation&nbsp;of&nbsp;all&nbsp;our&nbsp;natural&nbsp;resources&nbsp;are&nbsp;essentially&nbsp;democratic&nbsp;in&nbsp;spirit,</span></td></tr>\n",
       "            <tr><td style=\"word-wrap: break-word\" class=\"diff_next\"></td><td style=\"word-wrap: break-word\" class=\"diff_header\"></td><td style=\"word-wrap: break-word\" ></td><td style=\"word-wrap: break-word\" class=\"diff_next\"></td><td style=\"word-wrap: break-word\" class=\"diff_header\" id=\"to16_95\">95</td><td style=\"word-wrap: break-word\" ><span class=\"diff_add\">purpose&nbsp;and&nbsp;method.”</span></td></tr>\n",
       "            <tr><td style=\"word-wrap: break-word\" class=\"diff_next\"></td><td style=\"word-wrap: break-word\" class=\"diff_header\"></td><td style=\"word-wrap: break-word\" ></td><td style=\"word-wrap: break-word\" class=\"diff_next\"></td><td style=\"word-wrap: break-word\" class=\"diff_header\" id=\"to16_96\">96</td><td style=\"word-wrap: break-word\" ><span class=\"diff_add\">--&nbsp;Theodore&nbsp;Roosevelt</span></td></tr>\n",
       "            <tr><td style=\"word-wrap: break-word\" class=\"diff_next\"></td><td style=\"word-wrap: break-word\" class=\"diff_header\"></td><td style=\"word-wrap: break-word\" ></td><td style=\"word-wrap: break-word\" class=\"diff_next\"></td><td style=\"word-wrap: break-word\" class=\"diff_header\" id=\"to16_97\">97</td><td style=\"word-wrap: break-word\" ><span class=\"diff_add\">As&nbsp;a&nbsp;seafood&nbsp;consumer,&nbsp;I&nbsp;want&nbsp;to&nbsp;be&nbsp;assured&nbsp;that&nbsp;my&nbsp;seafood&nbsp;is&nbsp;safe,&nbsp;legally&nbsp;caught,</span></td></tr>\n",
       "            <tr><td style=\"word-wrap: break-word\" class=\"diff_next\"></td><td style=\"word-wrap: break-word\" class=\"diff_header\"></td><td style=\"word-wrap: break-word\" ></td><td style=\"word-wrap: break-word\" class=\"diff_next\"></td><td style=\"word-wrap: break-word\" class=\"diff_header\" id=\"to16_98\">98</td><td style=\"word-wrap: break-word\" ><span class=\"diff_add\">responsibly&nbsp;sourced,&nbsp;and&nbsp;honestly&nbsp;labeled,&nbsp;and&nbsp;produced&nbsp;without&nbsp;the&nbsp;use&nbsp;of&nbsp;forced</span></td></tr>\n",
       "            <tr><td style=\"word-wrap: break-word\" class=\"diff_next\"></td><td style=\"word-wrap: break-word\" class=\"diff_header\"></td><td style=\"word-wrap: break-word\" ></td><td style=\"word-wrap: break-word\" class=\"diff_next\"></td><td style=\"word-wrap: break-word\" class=\"diff_header\" id=\"to16_99\">99</td><td style=\"word-wrap: break-word\" ><span class=\"diff_add\">labor.&nbsp;Requiring&nbsp;all&nbsp;seafood&nbsp;imports&nbsp;be&nbsp;subject&nbsp;to&nbsp;robust&nbsp;catch&nbsp;documentation&nbsp;and</span></td></tr>\n",
       "            <tr><td style=\"word-wrap: break-word\" class=\"diff_next\"></td><td style=\"word-wrap: break-word\" class=\"diff_header\"></td><td style=\"word-wrap: break-word\" ></td><td style=\"word-wrap: break-word\" class=\"diff_next\"></td><td style=\"word-wrap: break-word\" class=\"diff_header\" id=\"to16_100\">100</td><td style=\"word-wrap: break-word\" ><span class=\"diff_add\">traceability&nbsp;from&nbsp;boat&nbsp;to&nbsp;plate&nbsp;would&nbsp;provide&nbsp;me&nbsp;with&nbsp;more&nbsp;confidence&nbsp;in&nbsp;the&nbsp;seafood&nbsp;I</span></td></tr>\n",
       "            <tr><td style=\"word-wrap: break-word\" class=\"diff_next\"></td><td style=\"word-wrap: break-word\" class=\"diff_header\"></td><td style=\"word-wrap: break-word\" ></td><td style=\"word-wrap: break-word\" class=\"diff_next\"></td><td style=\"word-wrap: break-word\" class=\"diff_header\" id=\"to16_101\">101</td><td style=\"word-wrap: break-word\" ><span class=\"diff_add\">eat.&nbsp;I&nbsp;urge&nbsp;the&nbsp;NMFS&nbsp;to&nbsp;expand&nbsp;the&nbsp;Seafood&nbsp;Import&nbsp;Monitoring&nbsp;Program&nbsp;to&nbsp;cover&nbsp;all</span></td></tr>\n",
       "            <tr><td style=\"word-wrap: break-word\" class=\"diff_next\"></td><td style=\"word-wrap: break-word\" class=\"diff_header\"></td><td style=\"word-wrap: break-word\" ></td><td style=\"word-wrap: break-word\" class=\"diff_next\"></td><td style=\"word-wrap: break-word\" class=\"diff_header\" id=\"to16_102\">102</td><td style=\"word-wrap: break-word\" ><span class=\"diff_add\">seafood.&nbsp;Please&nbsp;revise&nbsp;the&nbsp;Seafood&nbsp;Import&nbsp;Monitoring&nbsp;Program&nbsp;proposed&nbsp;rule&nbsp;to&nbsp;adopt</span></td></tr>\n",
       "            <tr><td style=\"word-wrap: break-word\" class=\"diff_next\"></td><td style=\"word-wrap: break-word\" class=\"diff_header\"></td><td style=\"word-wrap: break-word\" ></td><td style=\"word-wrap: break-word\" class=\"diff_next\"></td><td style=\"word-wrap: break-word\" class=\"diff_header\" id=\"to16_103\">103</td><td style=\"word-wrap: break-word\" ><span class=\"diff_add\">the&nbsp;strongest&nbsp;possible&nbsp;standards&nbsp;for&nbsp;seafood&nbsp;traceability&nbsp;to&nbsp;intercept&nbsp;the&nbsp;flow&nbsp;of&nbsp;illegal</span></td></tr>\n",
       "            <tr><td style=\"word-wrap: break-word\" class=\"diff_next\"></td><td style=\"word-wrap: break-word\" class=\"diff_header\"></td><td style=\"word-wrap: break-word\" ></td><td style=\"word-wrap: break-word\" class=\"diff_next\"></td><td style=\"word-wrap: break-word\" class=\"diff_header\" id=\"to16_104\">104</td><td style=\"word-wrap: break-word\" ><span class=\"diff_add\">seafood&nbsp;into&nbsp;the&nbsp;U.S.&nbsp;and&nbsp;to&nbsp;help&nbsp;consumers&nbsp;feel&nbsp;confident&nbsp;the&nbsp;seafood&nbsp;they&nbsp;buy&nbsp;is</span></td></tr>\n",
       "            <tr><td style=\"word-wrap: break-word\" class=\"diff_next\"></td><td style=\"word-wrap: break-word\" class=\"diff_header\"></td><td style=\"word-wrap: break-word\" ></td><td style=\"word-wrap: break-word\" class=\"diff_next\"></td><td style=\"word-wrap: break-word\" class=\"diff_header\" id=\"to16_105\">105</td><td style=\"word-wrap: break-word\" ><span class=\"diff_add\">legally&nbsp;caught&nbsp;and&nbsp;not&nbsp;a&nbsp;product&nbsp;of&nbsp;labor&nbsp;abuses.&nbsp;Thank&nbsp;you&nbsp;for&nbsp;helping&nbsp;to&nbsp;address</span></td></tr>\n",
       "            <tr><td style=\"word-wrap: break-word\" class=\"diff_next\"></td><td style=\"word-wrap: break-word\" class=\"diff_header\"></td><td style=\"word-wrap: break-word\" ></td><td style=\"word-wrap: break-word\" class=\"diff_next\"></td><td style=\"word-wrap: break-word\" class=\"diff_header\" id=\"to16_106\">106</td><td style=\"word-wrap: break-word\" ><span class=\"diff_add\">these&nbsp;environmental&nbsp;and&nbsp;human&nbsp;rights&nbsp;crimes&nbsp;with&nbsp;the&nbsp;seriousness&nbsp;they&nbsp;deserve.</span></td></tr>\n",
       "            <tr><td style=\"word-wrap: break-word\" class=\"diff_next\"></td><td style=\"word-wrap: break-word\" class=\"diff_header\"></td><td style=\"word-wrap: break-word\" ></td><td style=\"word-wrap: break-word\" class=\"diff_next\"></td><td style=\"word-wrap: break-word\" class=\"diff_header\" id=\"to16_107\">107</td><td style=\"word-wrap: break-word\" ><span class=\"diff_add\">“A&nbsp;thing&nbsp;is&nbsp;right&nbsp;when&nbsp;it&nbsp;tends&nbsp;to&nbsp;preserve&nbsp;the&nbsp;integrity,&nbsp;stability,&nbsp;and&nbsp;beauty&nbsp;of&nbsp;the</span></td></tr>\n",
       "            <tr><td style=\"word-wrap: break-word\" class=\"diff_next\"></td><td style=\"word-wrap: break-word\" class=\"diff_header\"></td><td style=\"word-wrap: break-word\" ></td><td style=\"word-wrap: break-word\" class=\"diff_next\"></td><td style=\"word-wrap: break-word\" class=\"diff_header\" id=\"to16_108\">108</td><td style=\"word-wrap: break-word\" ><span class=\"diff_add\">biotic&nbsp;community.&nbsp;It&nbsp;is&nbsp;wrong&nbsp;when&nbsp;it&nbsp;tends&nbsp;otherwise.”</span></td></tr>\n",
       "            <tr><td style=\"word-wrap: break-word\" class=\"diff_next\"></td><td style=\"word-wrap: break-word\" class=\"diff_header\"></td><td style=\"word-wrap: break-word\" ></td><td style=\"word-wrap: break-word\" class=\"diff_next\"></td><td style=\"word-wrap: break-word\" class=\"diff_header\" id=\"to16_109\">109</td><td style=\"word-wrap: break-word\" ><span class=\"diff_add\">--&nbsp;Aldo&nbsp;Leopold</span></td></tr>\n",
       "            <tr><td style=\"word-wrap: break-word\" class=\"diff_next\"></td><td style=\"word-wrap: break-word\" class=\"diff_header\"></td><td style=\"word-wrap: break-word\" ></td><td style=\"word-wrap: break-word\" class=\"diff_next\"></td><td style=\"word-wrap: break-word\" class=\"diff_header\" id=\"to16_110\">110</td><td style=\"word-wrap: break-word\" ><span class=\"diff_add\">Thank&nbsp;you&nbsp;for&nbsp;your&nbsp;consideration&nbsp;of&nbsp;my&nbsp;comments.&nbsp;Please&nbsp;do&nbsp;NOT&nbsp;add&nbsp;my&nbsp;name&nbsp;to</span></td></tr>\n",
       "            <tr><td style=\"word-wrap: break-word\" class=\"diff_next\"></td><td style=\"word-wrap: break-word\" class=\"diff_header\"></td><td style=\"word-wrap: break-word\" ></td><td style=\"word-wrap: break-word\" class=\"diff_next\"></td><td style=\"word-wrap: break-word\" class=\"diff_header\" id=\"to16_111\">111</td><td style=\"word-wrap: break-word\" ><span class=\"diff_add\">your&nbsp;mailing&nbsp;list.&nbsp;I&nbsp;will&nbsp;learn&nbsp;about&nbsp;future&nbsp;developments&nbsp;on&nbsp;this&nbsp;issue&nbsp;from&nbsp;other&nbsp;sources.</span></td></tr>\n",
       "            <tr><td style=\"word-wrap: break-word\" class=\"diff_next\"></td><td style=\"word-wrap: break-word\" class=\"diff_header\"></td><td style=\"word-wrap: break-word\" ></td><td style=\"word-wrap: break-word\" class=\"diff_next\"></td><td style=\"word-wrap: break-word\" class=\"diff_header\" id=\"to16_112\">112</td><td style=\"word-wrap: break-word\" ><span class=\"diff_add\">Sincerely,</span></td></tr>\n",
       "            <tr><td style=\"word-wrap: break-word\" class=\"diff_next\"></td><td style=\"word-wrap: break-word\" class=\"diff_header\"></td><td style=\"word-wrap: break-word\" ></td><td style=\"word-wrap: break-word\" class=\"diff_next\"></td><td style=\"word-wrap: break-word\" class=\"diff_header\" id=\"to16_113\">113</td><td style=\"word-wrap: break-word\" ><span class=\"diff_add\">Christopher&nbsp;Lish</span></td></tr>\n",
       "            <tr><td style=\"word-wrap: break-word\" class=\"diff_next\"></td><td style=\"word-wrap: break-word\" class=\"diff_header\"></td><td style=\"word-wrap: break-word\" ></td><td style=\"word-wrap: break-word\" class=\"diff_next\"></td><td style=\"word-wrap: break-word\" class=\"diff_header\" id=\"to16_114\">114</td><td style=\"word-wrap: break-word\" ><span class=\"diff_add\">San&nbsp;Rafael,&nbsp;CA</span></td></tr>\n",
       "        </tbody>\n",
       "    </table>\n",
       "    <table style=\"table-layout: fixed; width: 100%\" class=\"diff\" summary=\"Legends\">\n",
       "        <tr> <th colspan=\"2\"> Legends </th> </tr>\n",
       "        <tr> <td style=\"word-wrap: break-word\"> <table style=\"table-layout: fixed; width: 100%\" border=\"\" summary=\"Colors\">\n",
       "                      <tr><th> Colors </th> </tr>\n",
       "                      <tr><td style=\"word-wrap: break-word\" class=\"diff_add\">&nbsp;Added&nbsp;</td></tr>\n",
       "                      <tr><td style=\"word-wrap: break-word\" class=\"diff_chg\">Changed</td> </tr>\n",
       "                      <tr><td style=\"word-wrap: break-word\" class=\"diff_sub\">Deleted</td> </tr>\n",
       "                  </table></td>\n",
       "             <td style=\"word-wrap: break-word\"> <table style=\"table-layout: fixed; width: 100%\" border=\"\" summary=\"Links\">\n",
       "                      <tr><th colspan=\"2\"> Links </th> </tr>\n",
       "                      <tr><td style=\"word-wrap: break-word\">(f)irst change</td> </tr>\n",
       "                      <tr><td style=\"word-wrap: break-word\">(n)ext change</td> </tr>\n",
       "                      <tr><td style=\"word-wrap: break-word\">(t)op</td> </tr>\n",
       "                  </table></td> </tr>\n",
       "    </table>\n",
       "</body>\n",
       "\n",
       "</html>"
      ],
      "text/plain": [
       "<IPython.core.display.HTML object>"
      ]
     },
     "metadata": {},
     "output_type": "display_data"
    }
   ],
   "source": [
    "for i in bigger_deltas:\n",
    "    display(render_diff(default_NOAA_Admin_Text.split('\\n'),i[0].split('\\n'),i[1])) "
   ]
  },
  {
   "cell_type": "code",
   "execution_count": 25,
   "id": "bafc64e9",
   "metadata": {},
   "outputs": [
    {
     "ename": "AttributeError",
     "evalue": "'tuple' object has no attribute 'split'",
     "output_type": "error",
     "traceback": [
      "\u001b[0;31m---------------------------------------------------------------------------\u001b[0m",
      "\u001b[0;31mAttributeError\u001b[0m                            Traceback (most recent call last)",
      "Cell \u001b[0;32mIn[25], line 2\u001b[0m\n\u001b[1;32m      1\u001b[0m \u001b[39mfor\u001b[39;00m i \u001b[39min\u001b[39;00m smaller_deltas[\u001b[39m0\u001b[39m:\u001b[39m4\u001b[39m]:\n\u001b[0;32m----> 2\u001b[0m     display(render_diff(default_NOAA_Admin_Text\u001b[39m.\u001b[39msplit(\u001b[39m'\u001b[39m\u001b[39m\\n\u001b[39;00m\u001b[39m'\u001b[39m),i\u001b[39m.\u001b[39;49msplit(\u001b[39m'\u001b[39m\u001b[39m\\n\u001b[39;00m\u001b[39m'\u001b[39m))) \n",
      "\u001b[0;31mAttributeError\u001b[0m: 'tuple' object has no attribute 'split'"
     ]
    }
   ],
   "source": [
    "for i in smaller_deltas[0:4]:\n",
    "    display(render_diff(default_NOAA_Admin_Text.split('\\n'),i[0].split('\\n'),i[1]))  "
   ]
  },
  {
   "attachments": {},
   "cell_type": "markdown",
   "id": "3c8d2d7f",
   "metadata": {},
   "source": [
    "### END OF COMPARING RELATED COMMENTS"
   ]
  },
  {
   "attachments": {},
   "cell_type": "markdown",
   "id": "637d1c1c",
   "metadata": {},
   "source": [
    "### When were the comments received?"
   ]
  },
  {
   "cell_type": "code",
   "execution_count": null,
   "id": "4f840781",
   "metadata": {},
   "outputs": [],
   "source": [
    "common_comments = df_with_pdf_data[df_with_pdf_data['CombinedText'].str.contains('NOAA Administrator Spinrad and NOAA Fisheries Assistant Administrator Coit')]\n",
    "common_comments[['Authors', 'Title', 'StateProvince', 'Country', 'GovernmentAgency', 'ReceivedDate', 'PostedDate', 'AuthorDate', 'FirstName', 'LastName']]\n",
    "# convert PostedDate to datetime\n",
    "common_comments['PostedDate'] = pd.to_datetime(common_comments['PostedDate'])\n",
    "common_comments['ReceivedDate'] = pd.to_datetime(common_comments['ReceivedDate'])\n",
    "#bar chart of ReceivedDate rounded to nearest week\n",
    "df_with_pdf_data['PostedDate'] = pd.to_datetime(df_with_pdf_data['PostedDate'])\n",
    "df_with_pdf_data['ReceivedDate'] = pd.to_datetime(df_with_pdf_data['ReceivedDate'])\n",
    "df_with_pdf_data['ReceivedDate'].groupby(df_with_pdf_data[\"ReceivedDate\"].dt.floor('7D').dt.date).count().plot(kind='bar')"
   ]
  },
  {
   "attachments": {},
   "cell_type": "markdown",
   "id": "0c7fb845",
   "metadata": {},
   "source": [
    "## Comment Posting Timeliness"
   ]
  },
  {
   "cell_type": "code",
   "execution_count": null,
   "id": "811915c4",
   "metadata": {},
   "outputs": [],
   "source": [
    "# convert PostedDate to datetime\n",
    "df_with_pdf_data['PostedDate'] = pd.to_datetime(df_with_pdf_data['PostedDate'])\n",
    "df_with_pdf_data['ReceivedDate'] = pd.to_datetime(df_with_pdf_data['ReceivedDate'])\n",
    "# difference in dates between ReceivedDate and PostedDate\n",
    "df_with_pdf_data['ReceivedToPostedDelta'] = (df_with_pdf_data['PostedDate'] - df_with_pdf_data['ReceivedDate']).dt.days\n",
    "#convert timedelta to number of days and plot histogram\n",
    "(df_with_pdf_data['PostedDate'] - df_with_pdf_data['ReceivedDate']).dt.days.hist(bins=100)"
   ]
  },
  {
   "cell_type": "code",
   "execution_count": null,
   "id": "1f6c2769",
   "metadata": {},
   "outputs": [],
   "source": [
    "len(df_with_pdf_data[df_with_pdf_data['ReceivedToPostedDelta'] < 5]) / len(df_with_pdf_data)"
   ]
  },
  {
   "attachments": {},
   "cell_type": "markdown",
   "id": "1462f4de",
   "metadata": {},
   "source": [
    "#### 97.6% of comments are posted within 5 days of being received"
   ]
  },
  {
   "attachments": {},
   "cell_type": "markdown",
   "id": "3ccfd460",
   "metadata": {},
   "source": [
    "### The Remainder of Comments"
   ]
  },
  {
   "cell_type": "code",
   "execution_count": null,
   "id": "237c771f",
   "metadata": {},
   "outputs": [],
   "source": [
    "unique_entries = df_with_pdf_data[~df_with_pdf_data['CombinedText'].str.contains('NOAA Administrator Spinrad')]\n",
    "print(f'Unique comments: {len(unique_entries)}')\n",
    "unique_entries.head(10)\n"
   ]
  },
  {
   "cell_type": "code",
   "execution_count": null,
   "id": "5454170d",
   "metadata": {},
   "outputs": [],
   "source": [
    "unique_entries['ReceivedDate'].groupby(unique_entries[\"ReceivedDate\"].dt.floor('7D').dt.date).count().plot(kind='bar')"
   ]
  },
  {
   "attachments": {},
   "cell_type": "markdown",
   "id": "a3157225",
   "metadata": {},
   "source": [
    "There were meaningful surges in comments at the initial end of the comment period(before the extension) and then at the true end of the comment period(after the extension)."
   ]
  },
  {
   "cell_type": "code",
   "execution_count": null,
   "id": "e0e5f378",
   "metadata": {},
   "outputs": [],
   "source": [
    "', '.join(unique_entries['DocumentID'].to_list())"
   ]
  },
  {
   "attachments": {},
   "cell_type": "markdown",
   "id": "304d75c0",
   "metadata": {},
   "source": [
    "There were many comments on SIMP but relatively few with distinct input, much less actionable changes to the proposed rule. Eel inclusion in SIMP was one of the most common themes"
   ]
  },
  {
   "cell_type": "markdown",
   "id": "3711ee7d",
   "metadata": {},
   "source": []
  }
 ],
 "metadata": {
  "kernelspec": {
   "display_name": "Python 3 (ipykernel)",
   "language": "python",
   "name": "python3"
  },
  "language_info": {
   "codemirror_mode": {
    "name": "ipython",
    "version": 3
   },
   "file_extension": ".py",
   "mimetype": "text/x-python",
   "name": "python",
   "nbconvert_exporter": "python",
   "pygments_lexer": "ipython3",
   "version": "3.9.6"
  }
 },
 "nbformat": 4,
 "nbformat_minor": 5
}
