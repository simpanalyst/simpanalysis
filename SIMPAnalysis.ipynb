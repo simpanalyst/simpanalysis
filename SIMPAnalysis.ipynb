{
 "cells": [
  {
   "attachments": {},
   "cell_type": "markdown",
   "id": "0ad79bae",
   "metadata": {},
   "source": [
    "# SIMP Rule Comment Analysis\n",
    "This document analyzes all of the public comments on the SIMP Rule: https://www.regulations.gov/document/NOAA-NMFS-2022-0119-0001\n",
    "\n",
    "The comments were obtained via the bulk download here: https://www.regulations.gov/bulkdownload\n",
    "\n",
    "The code was generated with the help of Github's Copilot AI to automate some of the data processing and analysis"
   ]
  },
  {
   "cell_type": "code",
   "execution_count": 1,
   "id": "f45684b5-0186-4e90-a9a7-8ba577d08c29",
   "metadata": {},
   "outputs": [
    {
     "name": "stdout",
     "output_type": "stream",
     "text": [
      "Requirement already satisfied: python-docx in /opt/homebrew/lib/python3.9/site-packages (0.8.11)\n",
      "Requirement already satisfied: lxml>=2.3.2 in /opt/homebrew/lib/python3.9/site-packages (from python-docx) (4.9.2)\n",
      "\u001b[33mWARNING: You are using pip version 21.1.3; however, version 23.1.2 is available.\n",
      "You should consider upgrading via the '/opt/homebrew/opt/python@3.9/bin/python3.9 -m pip install --upgrade pip' command.\u001b[0m\n"
     ]
    },
    {
     "name": "stderr",
     "output_type": "stream",
     "text": [
      "/var/folders/z4/2zbdnnm52zgfstckz8b80mv80000gn/T/ipykernel_1537/3706466374.py:10: DeprecationWarning: Importing display from IPython.core.display is deprecated since IPython 7.14, please import from IPython display\n",
      "  from IPython.core.display import display, HTML\n"
     ]
    }
   ],
   "source": [
    "#import and initialize libraries\n",
    "import pandas as pd\n",
    "import re\n",
    "import plotly\n",
    "from difflib import SequenceMatcher\n",
    "import plotly.express as px\n",
    "!pip3 install python-docx\n",
    "import docx\n",
    "import os\n",
    "import difflib\n",
    "from IPython.core.display import display, HTML\n",
    "import matplotlib.pyplot as plt\n",
    "\n",
    "plt.style.use('ggplot')\n"
   ]
  },
  {
   "cell_type": "code",
   "execution_count": 2,
   "id": "03b13627-5d99-4ab5-bd3a-1478088cf966",
   "metadata": {},
   "outputs": [
    {
     "name": "stdout",
     "output_type": "stream",
     "text": [
      "2202\n"
     ]
    }
   ],
   "source": [
    "#Read in the public comments\n",
    "df = pd.read_csv('04May2023SIMPComments.csv')\n",
    "print(len(df))"
   ]
  },
  {
   "cell_type": "code",
   "execution_count": 3,
   "id": "f5d14491-d20e-4e4a-87ef-5606eb4be284",
   "metadata": {},
   "outputs": [
    {
     "data": {
      "text/html": [
       "<div>\n",
       "<style scoped>\n",
       "    .dataframe tbody tr th:only-of-type {\n",
       "        vertical-align: middle;\n",
       "    }\n",
       "\n",
       "    .dataframe tbody tr th {\n",
       "        vertical-align: top;\n",
       "    }\n",
       "\n",
       "    .dataframe thead th {\n",
       "        text-align: right;\n",
       "    }\n",
       "</style>\n",
       "<table border=\"1\" class=\"dataframe\">\n",
       "  <thead>\n",
       "    <tr style=\"text-align: right;\">\n",
       "      <th></th>\n",
       "      <th>Document ID</th>\n",
       "      <th>Agency ID</th>\n",
       "      <th>Docket ID</th>\n",
       "      <th>Tracking Number</th>\n",
       "      <th>Document Type</th>\n",
       "      <th>Posted Date</th>\n",
       "      <th>Is Withdrawn?</th>\n",
       "      <th>Federal Register Number</th>\n",
       "      <th>FR Citation</th>\n",
       "      <th>Title</th>\n",
       "      <th>...</th>\n",
       "      <th>Government Agency</th>\n",
       "      <th>Government Agency Type</th>\n",
       "      <th>Comment</th>\n",
       "      <th>Category</th>\n",
       "      <th>Restrict Reason Type</th>\n",
       "      <th>Restrict Reason</th>\n",
       "      <th>Reason Withdrawn</th>\n",
       "      <th>Content Files</th>\n",
       "      <th>Attachment Files</th>\n",
       "      <th>Display Properties (Name, Label, Tooltip)</th>\n",
       "    </tr>\n",
       "  </thead>\n",
       "  <tbody>\n",
       "    <tr>\n",
       "      <th>0</th>\n",
       "      <td>NOAA-NMFS-2022-0119-0001</td>\n",
       "      <td>NOAA</td>\n",
       "      <td>NOAA-NMFS-2022-0119</td>\n",
       "      <td>NaN</td>\n",
       "      <td>Proposed Rule</td>\n",
       "      <td>2022-12-28T05:00Z</td>\n",
       "      <td>False</td>\n",
       "      <td>2022-27741</td>\n",
       "      <td>NaN</td>\n",
       "      <td>Magnuson-Stevens Fishery Conservation and Mana...</td>\n",
       "      <td>...</td>\n",
       "      <td>NaN</td>\n",
       "      <td>NaN</td>\n",
       "      <td>NaN</td>\n",
       "      <td>NaN</td>\n",
       "      <td>NaN</td>\n",
       "      <td>NaN</td>\n",
       "      <td>NaN</td>\n",
       "      <td>https://downloads.regulations.gov/NOAA-NMFS-20...</td>\n",
       "      <td>NaN</td>\n",
       "      <td>pageCount, Page Count, Number of pages In the ...</td>\n",
       "    </tr>\n",
       "    <tr>\n",
       "      <th>1</th>\n",
       "      <td>NOAA-NMFS-2022-0119-0002</td>\n",
       "      <td>NOAA</td>\n",
       "      <td>NOAA-NMFS-2022-0119</td>\n",
       "      <td>lcj-jtiv-eyjs</td>\n",
       "      <td>Public Submission</td>\n",
       "      <td>2023-01-20T05:00Z</td>\n",
       "      <td>False</td>\n",
       "      <td>NaN</td>\n",
       "      <td>NaN</td>\n",
       "      <td>Comment from Brown, Julie</td>\n",
       "      <td>...</td>\n",
       "      <td>NaN</td>\n",
       "      <td>NaN</td>\n",
       "      <td>We should expand SIMP to ALL imported species</td>\n",
       "      <td>NaN</td>\n",
       "      <td>NaN</td>\n",
       "      <td>NaN</td>\n",
       "      <td>NaN</td>\n",
       "      <td>NaN</td>\n",
       "      <td>NaN</td>\n",
       "      <td>pageCount, Page Count, Number of pages In the ...</td>\n",
       "    </tr>\n",
       "    <tr>\n",
       "      <th>2</th>\n",
       "      <td>NOAA-NMFS-2022-0119-0003</td>\n",
       "      <td>NOAA</td>\n",
       "      <td>NOAA-NMFS-2022-0119</td>\n",
       "      <td>lcr-zzpi-2xed</td>\n",
       "      <td>Public Submission</td>\n",
       "      <td>2023-01-20T05:00Z</td>\n",
       "      <td>False</td>\n",
       "      <td>NaN</td>\n",
       "      <td>NaN</td>\n",
       "      <td>Comment from Wilson, Ann</td>\n",
       "      <td>...</td>\n",
       "      <td>NaN</td>\n",
       "      <td>NaN</td>\n",
       "      <td>Ann M Wilson, NRES 520 UWSP\\n\\nAs a current gr...</td>\n",
       "      <td>NaN</td>\n",
       "      <td>NaN</td>\n",
       "      <td>NaN</td>\n",
       "      <td>NaN</td>\n",
       "      <td>NaN</td>\n",
       "      <td>NaN</td>\n",
       "      <td>pageCount, Page Count, Number of pages In the ...</td>\n",
       "    </tr>\n",
       "    <tr>\n",
       "      <th>3</th>\n",
       "      <td>NOAA-NMFS-2022-0119-0004</td>\n",
       "      <td>NOAA</td>\n",
       "      <td>NOAA-NMFS-2022-0119</td>\n",
       "      <td>lda-lwj0-6q7p</td>\n",
       "      <td>Public Submission</td>\n",
       "      <td>2023-02-02T05:00Z</td>\n",
       "      <td>False</td>\n",
       "      <td>NaN</td>\n",
       "      <td>NaN</td>\n",
       "      <td>Comment from Anonymous</td>\n",
       "      <td>...</td>\n",
       "      <td>NaN</td>\n",
       "      <td>NaN</td>\n",
       "      <td>I am excited to see the inclusion of eels on t...</td>\n",
       "      <td>NaN</td>\n",
       "      <td>NaN</td>\n",
       "      <td>NaN</td>\n",
       "      <td>NaN</td>\n",
       "      <td>NaN</td>\n",
       "      <td>NaN</td>\n",
       "      <td>pageCount, Page Count, Number of pages In the ...</td>\n",
       "    </tr>\n",
       "    <tr>\n",
       "      <th>4</th>\n",
       "      <td>NOAA-NMFS-2022-0119-0005</td>\n",
       "      <td>NOAA</td>\n",
       "      <td>NOAA-NMFS-2022-0119</td>\n",
       "      <td>ldk-z0yd-46w8</td>\n",
       "      <td>Public Submission</td>\n",
       "      <td>2023-02-02T05:00Z</td>\n",
       "      <td>False</td>\n",
       "      <td>NaN</td>\n",
       "      <td>NaN</td>\n",
       "      <td>Comment from Weinmann, Marie</td>\n",
       "      <td>...</td>\n",
       "      <td>NaN</td>\n",
       "      <td>NaN</td>\n",
       "      <td>Dear NOAA Administrator Spinrad and NOAA Fishe...</td>\n",
       "      <td>NaN</td>\n",
       "      <td>NaN</td>\n",
       "      <td>NaN</td>\n",
       "      <td>NaN</td>\n",
       "      <td>NaN</td>\n",
       "      <td>NaN</td>\n",
       "      <td>pageCount, Page Count, Number of pages In the ...</td>\n",
       "    </tr>\n",
       "  </tbody>\n",
       "</table>\n",
       "<p>5 rows × 60 columns</p>\n",
       "</div>"
      ],
      "text/plain": [
       "                Document ID Agency ID            Docket ID Tracking Number  \\\n",
       "0  NOAA-NMFS-2022-0119-0001      NOAA  NOAA-NMFS-2022-0119             NaN   \n",
       "1  NOAA-NMFS-2022-0119-0002      NOAA  NOAA-NMFS-2022-0119   lcj-jtiv-eyjs   \n",
       "2  NOAA-NMFS-2022-0119-0003      NOAA  NOAA-NMFS-2022-0119   lcr-zzpi-2xed   \n",
       "3  NOAA-NMFS-2022-0119-0004      NOAA  NOAA-NMFS-2022-0119   lda-lwj0-6q7p   \n",
       "4  NOAA-NMFS-2022-0119-0005      NOAA  NOAA-NMFS-2022-0119   ldk-z0yd-46w8   \n",
       "\n",
       "       Document Type        Posted Date  Is Withdrawn?  \\\n",
       "0      Proposed Rule  2022-12-28T05:00Z          False   \n",
       "1  Public Submission  2023-01-20T05:00Z          False   \n",
       "2  Public Submission  2023-01-20T05:00Z          False   \n",
       "3  Public Submission  2023-02-02T05:00Z          False   \n",
       "4  Public Submission  2023-02-02T05:00Z          False   \n",
       "\n",
       "  Federal Register Number  FR Citation  \\\n",
       "0              2022-27741          NaN   \n",
       "1                     NaN          NaN   \n",
       "2                     NaN          NaN   \n",
       "3                     NaN          NaN   \n",
       "4                     NaN          NaN   \n",
       "\n",
       "                                               Title  ... Government Agency  \\\n",
       "0  Magnuson-Stevens Fishery Conservation and Mana...  ...               NaN   \n",
       "1                          Comment from Brown, Julie  ...               NaN   \n",
       "2                           Comment from Wilson, Ann  ...               NaN   \n",
       "3                             Comment from Anonymous  ...               NaN   \n",
       "4                       Comment from Weinmann, Marie  ...               NaN   \n",
       "\n",
       "  Government Agency Type                                            Comment  \\\n",
       "0                    NaN                                                NaN   \n",
       "1                    NaN      We should expand SIMP to ALL imported species   \n",
       "2                    NaN  Ann M Wilson, NRES 520 UWSP\\n\\nAs a current gr...   \n",
       "3                    NaN  I am excited to see the inclusion of eels on t...   \n",
       "4                    NaN  Dear NOAA Administrator Spinrad and NOAA Fishe...   \n",
       "\n",
       "  Category  Restrict Reason Type  Restrict Reason  Reason Withdrawn  \\\n",
       "0      NaN                   NaN              NaN               NaN   \n",
       "1      NaN                   NaN              NaN               NaN   \n",
       "2      NaN                   NaN              NaN               NaN   \n",
       "3      NaN                   NaN              NaN               NaN   \n",
       "4      NaN                   NaN              NaN               NaN   \n",
       "\n",
       "                                       Content Files  Attachment Files  \\\n",
       "0  https://downloads.regulations.gov/NOAA-NMFS-20...               NaN   \n",
       "1                                                NaN               NaN   \n",
       "2                                                NaN               NaN   \n",
       "3                                                NaN               NaN   \n",
       "4                                                NaN               NaN   \n",
       "\n",
       "           Display Properties (Name, Label, Tooltip)  \n",
       "0  pageCount, Page Count, Number of pages In the ...  \n",
       "1  pageCount, Page Count, Number of pages In the ...  \n",
       "2  pageCount, Page Count, Number of pages In the ...  \n",
       "3  pageCount, Page Count, Number of pages In the ...  \n",
       "4  pageCount, Page Count, Number of pages In the ...  \n",
       "\n",
       "[5 rows x 60 columns]"
      ]
     },
     "execution_count": 3,
     "metadata": {},
     "output_type": "execute_result"
    }
   ],
   "source": [
    "df.head()"
   ]
  },
  {
   "cell_type": "code",
   "execution_count": 4,
   "id": "0ee2b84c",
   "metadata": {},
   "outputs": [
    {
     "name": "stderr",
     "output_type": "stream",
     "text": [
      "/var/folders/z4/2zbdnnm52zgfstckz8b80mv80000gn/T/ipykernel_1537/3170508180.py:2: FutureWarning: The default value of regex will change from True to False in a future version.\n",
      "  df.columns = df.columns.str.replace('[^a-zA-Z]', '')\n"
     ]
    },
    {
     "data": {
      "text/plain": [
       "Index(['DocumentID', 'AgencyID', 'DocketID', 'TrackingNumber', 'DocumentType',\n",
       "       'PostedDate', 'IsWithdrawn', 'FederalRegisterNumber', 'FRCitation',\n",
       "       'Title', 'CommentStartDate', 'CommentDueDate', 'AllowLateComments',\n",
       "       'CommentonDocumentID', 'EffectiveDate', 'ImplementationDate',\n",
       "       'PostmarkDate', 'ReceivedDate', 'AuthorDate', 'RelatedRINs', 'Authors',\n",
       "       'CFR', 'Abstract', 'LegacyID', 'Media', 'DocumentSubtype',\n",
       "       'ExhibitLocation', 'ExhibitType', 'AdditionalField', 'AdditionalField',\n",
       "       'Topics', 'DuplicateComments', 'OMBPRAApprovalNumber', 'PageCount',\n",
       "       'PageLength', 'PaperWidth', 'SpecialInstructions', 'SourceCitation',\n",
       "       'StartEndPage', 'Subject', 'FirstName', 'LastName', 'City',\n",
       "       'StateProvince', 'ZipPostalCode', 'Country', 'OrganizationName',\n",
       "       'SubmitterRepresentative', 'RepresentativesAddress',\n",
       "       'RepresentativesCityStateZip', 'GovernmentAgency',\n",
       "       'GovernmentAgencyType', 'Comment', 'Category', 'RestrictReasonType',\n",
       "       'RestrictReason', 'ReasonWithdrawn', 'ContentFiles', 'AttachmentFiles',\n",
       "       'DisplayPropertiesNameLabelTooltip'],\n",
       "      dtype='object')"
      ]
     },
     "execution_count": 4,
     "metadata": {},
     "output_type": "execute_result"
    }
   ],
   "source": [
    "# remove all non-letter characters from column names\n",
    "df.columns = df.columns.str.replace('[^a-zA-Z]', '')\n",
    "df.columns"
   ]
  },
  {
   "cell_type": "code",
   "execution_count": 5,
   "id": "9fd15cdf",
   "metadata": {},
   "outputs": [
    {
     "name": "stdout",
     "output_type": "stream",
     "text": [
      "https://downloads.regulations.gov/NOAA-NMFS-2022-0119-2015/attachment_1.png\n",
      "https://downloads.regulations.gov/NOAA-NMFS-2022-0119-2115/attachment_1.pdf\n",
      "https://downloads.regulations.gov/NOAA-NMFS-2022-0119-2117/attachment_1.pdf\n",
      "https://downloads.regulations.gov/NOAA-NMFS-2022-0119-2130/attachment_1.pdf\n",
      "https://downloads.regulations.gov/NOAA-NMFS-2022-0119-2131/attachment_1.pdf\n",
      "https://downloads.regulations.gov/NOAA-NMFS-2022-0119-2132/attachment_1.pdf\n",
      "https://downloads.regulations.gov/NOAA-NMFS-2022-0119-2133/attachment_1.pdf\n",
      "https://downloads.regulations.gov/NOAA-NMFS-2022-0119-2138/attachment_1.pdf\n",
      "https://downloads.regulations.gov/NOAA-NMFS-2022-0119-2144/attachment_1.pdf\n",
      "https://downloads.regulations.gov/NOAA-NMFS-2022-0119-2146/attachment_1.pdf\n",
      "https://downloads.regulations.gov/NOAA-NMFS-2022-0119-2148/attachment_1.pdf\n",
      "https://downloads.regulations.gov/NOAA-NMFS-2022-0119-2149/attachment_1.pdf\n",
      "https://downloads.regulations.gov/NOAA-NMFS-2022-0119-2149/attachment_1.docx\n",
      "https://downloads.regulations.gov/NOAA-NMFS-2022-0119-2150/attachment_1.pdf\n",
      "https://downloads.regulations.gov/NOAA-NMFS-2022-0119-2151/attachment_1.pdf\n",
      "https://downloads.regulations.gov/NOAA-NMFS-2022-0119-2156/attachment_1.pdf\n",
      "https://downloads.regulations.gov/NOAA-NMFS-2022-0119-2157/attachment_2.pdf\n",
      "https://downloads.regulations.gov/NOAA-NMFS-2022-0119-2158/attachment_1.docx\n",
      "https://downloads.regulations.gov/NOAA-NMFS-2022-0119-2158/attachment_1.pdf\n",
      "https://downloads.regulations.gov/NOAA-NMFS-2022-0119-2160/attachment_1.pdf\n",
      "https://downloads.regulations.gov/NOAA-NMFS-2022-0119-2163/attachment_1.pdf\n",
      "https://downloads.regulations.gov/NOAA-NMFS-2022-0119-2164/attachment_1.pdf\n",
      "https://downloads.regulations.gov/NOAA-NMFS-2022-0119-2166/attachment_1.pdf\n",
      "https://downloads.regulations.gov/NOAA-NMFS-2022-0119-2168/attachment_1.pdf\n",
      "https://downloads.regulations.gov/NOAA-NMFS-2022-0119-2170/attachment_1.pdf\n",
      "https://downloads.regulations.gov/NOAA-NMFS-2022-0119-2171/attachment_1.pdf\n",
      "https://downloads.regulations.gov/NOAA-NMFS-2022-0119-2175/attachment_1.pdf\n",
      "https://downloads.regulations.gov/NOAA-NMFS-2022-0119-2177/attachment_1.docx\n",
      "https://downloads.regulations.gov/NOAA-NMFS-2022-0119-2177/attachment_1.pdf\n",
      "https://downloads.regulations.gov/NOAA-NMFS-2022-0119-2179/attachment_1.pptx\n",
      "https://downloads.regulations.gov/NOAA-NMFS-2022-0119-2179/attachment_1.pdf\n",
      "https://downloads.regulations.gov/NOAA-NMFS-2022-0119-2180/attachment_2.pdf\n",
      "https://downloads.regulations.gov/NOAA-NMFS-2022-0119-2180/attachment_1.pdf\n",
      "https://downloads.regulations.gov/NOAA-NMFS-2022-0119-2182/attachment_1.pdf\n",
      "https://downloads.regulations.gov/NOAA-NMFS-2022-0119-2184/attachment_1.pdf\n",
      "https://downloads.regulations.gov/NOAA-NMFS-2022-0119-2185/attachment_1.pdf\n",
      "https://downloads.regulations.gov/NOAA-NMFS-2022-0119-2186/attachment_1.pdf\n",
      "https://downloads.regulations.gov/NOAA-NMFS-2022-0119-2187/attachment_1.pdf\n",
      "https://downloads.regulations.gov/NOAA-NMFS-2022-0119-2188/attachment_1.pdf\n",
      "https://downloads.regulations.gov/NOAA-NMFS-2022-0119-2189/attachment_1.pdf\n",
      "https://downloads.regulations.gov/NOAA-NMFS-2022-0119-2190/attachment_1.pdf\n",
      "https://downloads.regulations.gov/NOAA-NMFS-2022-0119-2191/attachment_1.pdf\n",
      "https://downloads.regulations.gov/NOAA-NMFS-2022-0119-2192/attachment_1.pdf\n",
      "https://downloads.regulations.gov/NOAA-NMFS-2022-0119-2193/attachment_1.pdf\n",
      "https://downloads.regulations.gov/NOAA-NMFS-2022-0119-2194/attachment_1.pdf\n",
      "https://downloads.regulations.gov/NOAA-NMFS-2022-0119-2195/attachment_1.pdf\n",
      "https://downloads.regulations.gov/NOAA-NMFS-2022-0119-2196/attachment_1.pdf\n",
      "https://downloads.regulations.gov/NOAA-NMFS-2022-0119-2197/attachment_1.pdf\n",
      "https://downloads.regulations.gov/NOAA-NMFS-2022-0119-2198/attachment_1.pdf\n",
      "https://downloads.regulations.gov/NOAA-NMFS-2022-0119-2199/attachment_1.pdf\n",
      "https://downloads.regulations.gov/NOAA-NMFS-2022-0119-2200/attachment_1.pdf\n",
      "https://downloads.regulations.gov/NOAA-NMFS-2022-0119-2201/attachment_1.pdf\n",
      "https://downloads.regulations.gov/NOAA-NMFS-2022-0119-2202/attachment_1.pdf\n",
      "https://downloads.regulations.gov/NOAA-NMFS-2022-0119-2204/attachment_1.pdf\n"
     ]
    }
   ],
   "source": [
    "# download all files from internet listed in ContentFiles column\n",
    "import urllib.request\n",
    "import os\n",
    "for l in df['AttachmentFiles'].unique().tolist():\n",
    "    #cast l to string\n",
    "    l = str(l)\n",
    "    if l != 'nan':\n",
    "        for f in l.split(','):\n",
    "            if not os.path.isfile(f):\n",
    "                print(f)\n",
    "                urllib.request.urlretrieve(f, ''.join(f.split('/')[-2:]).replace('^a-zA-Z0-9]', ''))"
   ]
  },
  {
   "cell_type": "code",
   "execution_count": 6,
   "id": "eb881609",
   "metadata": {},
   "outputs": [
    {
     "data": {
      "text/plain": [
       "[None,\n",
       " 'NOAA-NMFS-2022-0119-2015',\n",
       " 'NOAA-NMFS-2022-0119-2115',\n",
       " 'NOAA-NMFS-2022-0119-2117',\n",
       " 'NOAA-NMFS-2022-0119-2130',\n",
       " 'NOAA-NMFS-2022-0119-2131',\n",
       " 'NOAA-NMFS-2022-0119-2132',\n",
       " 'NOAA-NMFS-2022-0119-2133',\n",
       " 'NOAA-NMFS-2022-0119-2138',\n",
       " 'NOAA-NMFS-2022-0119-2144',\n",
       " 'NOAA-NMFS-2022-0119-2146',\n",
       " 'NOAA-NMFS-2022-0119-2148',\n",
       " 'NOAA-NMFS-2022-0119-2149',\n",
       " 'NOAA-NMFS-2022-0119-2150',\n",
       " 'NOAA-NMFS-2022-0119-2151',\n",
       " 'NOAA-NMFS-2022-0119-2156',\n",
       " 'NOAA-NMFS-2022-0119-2157',\n",
       " 'NOAA-NMFS-2022-0119-2158',\n",
       " 'NOAA-NMFS-2022-0119-2160',\n",
       " 'NOAA-NMFS-2022-0119-2163',\n",
       " 'NOAA-NMFS-2022-0119-2164',\n",
       " 'NOAA-NMFS-2022-0119-2166',\n",
       " 'NOAA-NMFS-2022-0119-2168',\n",
       " 'NOAA-NMFS-2022-0119-2170',\n",
       " 'NOAA-NMFS-2022-0119-2171',\n",
       " 'NOAA-NMFS-2022-0119-2175',\n",
       " 'NOAA-NMFS-2022-0119-2177',\n",
       " 'NOAA-NMFS-2022-0119-2179',\n",
       " 'NOAA-NMFS-2022-0119-2180',\n",
       " 'NOAA-NMFS-2022-0119-2182',\n",
       " 'NOAA-NMFS-2022-0119-2184',\n",
       " 'NOAA-NMFS-2022-0119-2185',\n",
       " 'NOAA-NMFS-2022-0119-2186',\n",
       " 'NOAA-NMFS-2022-0119-2187',\n",
       " 'NOAA-NMFS-2022-0119-2188',\n",
       " 'NOAA-NMFS-2022-0119-2189',\n",
       " 'NOAA-NMFS-2022-0119-2190',\n",
       " 'NOAA-NMFS-2022-0119-2191',\n",
       " 'NOAA-NMFS-2022-0119-2192',\n",
       " 'NOAA-NMFS-2022-0119-2193',\n",
       " 'NOAA-NMFS-2022-0119-2194',\n",
       " 'NOAA-NMFS-2022-0119-2195',\n",
       " 'NOAA-NMFS-2022-0119-2196',\n",
       " 'NOAA-NMFS-2022-0119-2197',\n",
       " 'NOAA-NMFS-2022-0119-2198',\n",
       " 'NOAA-NMFS-2022-0119-2199',\n",
       " 'NOAA-NMFS-2022-0119-2200',\n",
       " 'NOAA-NMFS-2022-0119-2201',\n",
       " 'NOAA-NMFS-2022-0119-2202',\n",
       " 'NOAA-NMFS-2022-0119-2204']"
      ]
     },
     "execution_count": 6,
     "metadata": {},
     "output_type": "execute_result"
    }
   ],
   "source": [
    "df['AttachmentFiles'].apply(lambda x:   str(x).split('/')[-2] if '/' in str(x) else None ).unique().tolist()"
   ]
  },
  {
   "cell_type": "code",
   "execution_count": 7,
   "id": "7e296c58",
   "metadata": {},
   "outputs": [
    {
     "name": "stdout",
     "output_type": "stream",
     "text": [
      "NOAA-NMFS-2022-0119-2171 22\n",
      "NOAA-NMFS-2022-0119-2202 15\n",
      "NOAA-NMFS-2022-0119-2115 21\n",
      "NOAA-NMFS-2022-0119-2166 12\n",
      "NOAA-NMFS-2022-0119-2204 29\n",
      "NOAA-NMFS-2022-0119-2163 26\n",
      "NOAA-NMFS-2022-0119-2201 15\n",
      "NOAA-NMFS-2022-0119-2185 13\n",
      "NOAA-NMFS-2022-0119-2157attachment_2 18\n",
      "NOAA-NMFS-2022-0119-2184 13\n",
      "NOAA-NMFS-2022-0119-2200 15\n",
      "NOAA-NMFS-2022-0119-2117 45\n",
      "NOAA-NMFS-2022-0119-2150 323\n"
     ]
    }
   ],
   "source": [
    "#open files in this folder and extract text\n",
    "import pdfplumber\n",
    "import os\n",
    "pdf_text_dict = {}\n",
    "for f in os.listdir():\n",
    "    if f.endswith('.pdf'):\n",
    "        with pdfplumber.open(f) as pdf:\n",
    "            # get filename of f\n",
    "            filename = f.split('.')[0].replace('attachment_1', '')\n",
    "            if len(pdf.pages) > 10:\n",
    "                print(filename, len(pdf.pages))\n",
    "            pdf_text_dict[filename] = '\\n'.join([page.extract_text() for page in pdf.pages[0:20]])\n",
    "\n"
   ]
  },
  {
   "cell_type": "code",
   "execution_count": 8,
   "id": "176a5e78",
   "metadata": {},
   "outputs": [
    {
     "data": {
      "text/html": [
       "<div>\n",
       "<style scoped>\n",
       "    .dataframe tbody tr th:only-of-type {\n",
       "        vertical-align: middle;\n",
       "    }\n",
       "\n",
       "    .dataframe tbody tr th {\n",
       "        vertical-align: top;\n",
       "    }\n",
       "\n",
       "    .dataframe thead th {\n",
       "        text-align: right;\n",
       "    }\n",
       "</style>\n",
       "<table border=\"1\" class=\"dataframe\">\n",
       "  <thead>\n",
       "    <tr style=\"text-align: right;\">\n",
       "      <th></th>\n",
       "      <th>DocumentID</th>\n",
       "      <th>AgencyID</th>\n",
       "      <th>DocketID</th>\n",
       "      <th>TrackingNumber</th>\n",
       "      <th>DocumentType</th>\n",
       "      <th>PostedDate</th>\n",
       "      <th>IsWithdrawn</th>\n",
       "      <th>FederalRegisterNumber</th>\n",
       "      <th>FRCitation</th>\n",
       "      <th>Title</th>\n",
       "      <th>...</th>\n",
       "      <th>GovernmentAgencyType</th>\n",
       "      <th>Comment</th>\n",
       "      <th>Category</th>\n",
       "      <th>RestrictReasonType</th>\n",
       "      <th>RestrictReason</th>\n",
       "      <th>ReasonWithdrawn</th>\n",
       "      <th>ContentFiles</th>\n",
       "      <th>AttachmentFiles</th>\n",
       "      <th>DisplayPropertiesNameLabelTooltip</th>\n",
       "      <th>pdf_text</th>\n",
       "    </tr>\n",
       "  </thead>\n",
       "  <tbody>\n",
       "    <tr>\n",
       "      <th>0</th>\n",
       "      <td>NOAA-NMFS-2022-0119-0001</td>\n",
       "      <td>NOAA</td>\n",
       "      <td>NOAA-NMFS-2022-0119</td>\n",
       "      <td>NaN</td>\n",
       "      <td>Proposed Rule</td>\n",
       "      <td>2022-12-28T05:00Z</td>\n",
       "      <td>False</td>\n",
       "      <td>2022-27741</td>\n",
       "      <td>NaN</td>\n",
       "      <td>Magnuson-Stevens Fishery Conservation and Mana...</td>\n",
       "      <td>...</td>\n",
       "      <td>NaN</td>\n",
       "      <td>NaN</td>\n",
       "      <td>NaN</td>\n",
       "      <td>NaN</td>\n",
       "      <td>NaN</td>\n",
       "      <td>NaN</td>\n",
       "      <td>https://downloads.regulations.gov/NOAA-NMFS-20...</td>\n",
       "      <td>NaN</td>\n",
       "      <td>pageCount, Page Count, Number of pages In the ...</td>\n",
       "      <td>NaN</td>\n",
       "    </tr>\n",
       "    <tr>\n",
       "      <th>1</th>\n",
       "      <td>NOAA-NMFS-2022-0119-0002</td>\n",
       "      <td>NOAA</td>\n",
       "      <td>NOAA-NMFS-2022-0119</td>\n",
       "      <td>lcj-jtiv-eyjs</td>\n",
       "      <td>Public Submission</td>\n",
       "      <td>2023-01-20T05:00Z</td>\n",
       "      <td>False</td>\n",
       "      <td>NaN</td>\n",
       "      <td>NaN</td>\n",
       "      <td>Comment from Brown, Julie</td>\n",
       "      <td>...</td>\n",
       "      <td>NaN</td>\n",
       "      <td>We should expand SIMP to ALL imported species</td>\n",
       "      <td>NaN</td>\n",
       "      <td>NaN</td>\n",
       "      <td>NaN</td>\n",
       "      <td>NaN</td>\n",
       "      <td>NaN</td>\n",
       "      <td>NaN</td>\n",
       "      <td>pageCount, Page Count, Number of pages In the ...</td>\n",
       "      <td>NaN</td>\n",
       "    </tr>\n",
       "    <tr>\n",
       "      <th>2</th>\n",
       "      <td>NOAA-NMFS-2022-0119-0003</td>\n",
       "      <td>NOAA</td>\n",
       "      <td>NOAA-NMFS-2022-0119</td>\n",
       "      <td>lcr-zzpi-2xed</td>\n",
       "      <td>Public Submission</td>\n",
       "      <td>2023-01-20T05:00Z</td>\n",
       "      <td>False</td>\n",
       "      <td>NaN</td>\n",
       "      <td>NaN</td>\n",
       "      <td>Comment from Wilson, Ann</td>\n",
       "      <td>...</td>\n",
       "      <td>NaN</td>\n",
       "      <td>Ann M Wilson, NRES 520 UWSP\\n\\nAs a current gr...</td>\n",
       "      <td>NaN</td>\n",
       "      <td>NaN</td>\n",
       "      <td>NaN</td>\n",
       "      <td>NaN</td>\n",
       "      <td>NaN</td>\n",
       "      <td>NaN</td>\n",
       "      <td>pageCount, Page Count, Number of pages In the ...</td>\n",
       "      <td>NaN</td>\n",
       "    </tr>\n",
       "    <tr>\n",
       "      <th>3</th>\n",
       "      <td>NOAA-NMFS-2022-0119-0004</td>\n",
       "      <td>NOAA</td>\n",
       "      <td>NOAA-NMFS-2022-0119</td>\n",
       "      <td>lda-lwj0-6q7p</td>\n",
       "      <td>Public Submission</td>\n",
       "      <td>2023-02-02T05:00Z</td>\n",
       "      <td>False</td>\n",
       "      <td>NaN</td>\n",
       "      <td>NaN</td>\n",
       "      <td>Comment from Anonymous</td>\n",
       "      <td>...</td>\n",
       "      <td>NaN</td>\n",
       "      <td>I am excited to see the inclusion of eels on t...</td>\n",
       "      <td>NaN</td>\n",
       "      <td>NaN</td>\n",
       "      <td>NaN</td>\n",
       "      <td>NaN</td>\n",
       "      <td>NaN</td>\n",
       "      <td>NaN</td>\n",
       "      <td>pageCount, Page Count, Number of pages In the ...</td>\n",
       "      <td>NaN</td>\n",
       "    </tr>\n",
       "    <tr>\n",
       "      <th>4</th>\n",
       "      <td>NOAA-NMFS-2022-0119-0005</td>\n",
       "      <td>NOAA</td>\n",
       "      <td>NOAA-NMFS-2022-0119</td>\n",
       "      <td>ldk-z0yd-46w8</td>\n",
       "      <td>Public Submission</td>\n",
       "      <td>2023-02-02T05:00Z</td>\n",
       "      <td>False</td>\n",
       "      <td>NaN</td>\n",
       "      <td>NaN</td>\n",
       "      <td>Comment from Weinmann, Marie</td>\n",
       "      <td>...</td>\n",
       "      <td>NaN</td>\n",
       "      <td>Dear NOAA Administrator Spinrad and NOAA Fishe...</td>\n",
       "      <td>NaN</td>\n",
       "      <td>NaN</td>\n",
       "      <td>NaN</td>\n",
       "      <td>NaN</td>\n",
       "      <td>NaN</td>\n",
       "      <td>NaN</td>\n",
       "      <td>pageCount, Page Count, Number of pages In the ...</td>\n",
       "      <td>NaN</td>\n",
       "    </tr>\n",
       "    <tr>\n",
       "      <th>...</th>\n",
       "      <td>...</td>\n",
       "      <td>...</td>\n",
       "      <td>...</td>\n",
       "      <td>...</td>\n",
       "      <td>...</td>\n",
       "      <td>...</td>\n",
       "      <td>...</td>\n",
       "      <td>...</td>\n",
       "      <td>...</td>\n",
       "      <td>...</td>\n",
       "      <td>...</td>\n",
       "      <td>...</td>\n",
       "      <td>...</td>\n",
       "      <td>...</td>\n",
       "      <td>...</td>\n",
       "      <td>...</td>\n",
       "      <td>...</td>\n",
       "      <td>...</td>\n",
       "      <td>...</td>\n",
       "      <td>...</td>\n",
       "      <td>...</td>\n",
       "    </tr>\n",
       "    <tr>\n",
       "      <th>2197</th>\n",
       "      <td>NOAA-NMFS-2022-0119-2200</td>\n",
       "      <td>NOAA</td>\n",
       "      <td>NOAA-NMFS-2022-0119</td>\n",
       "      <td>lgz-w9zq-b8i3</td>\n",
       "      <td>Public Submission</td>\n",
       "      <td>2023-05-01T04:00Z</td>\n",
       "      <td>False</td>\n",
       "      <td>NaN</td>\n",
       "      <td>NaN</td>\n",
       "      <td>Comment from National Fisheries Institute</td>\n",
       "      <td>...</td>\n",
       "      <td>NaN</td>\n",
       "      <td>Please see attached comments from the National...</td>\n",
       "      <td>NaN</td>\n",
       "      <td>NaN</td>\n",
       "      <td>NaN</td>\n",
       "      <td>NaN</td>\n",
       "      <td>NaN</td>\n",
       "      <td>https://downloads.regulations.gov/NOAA-NMFS-20...</td>\n",
       "      <td>pageCount, Page Count, Number of pages In the ...</td>\n",
       "      <td>April 27, 2023\\nMs. Janet Coit\\nAssistant Admi...</td>\n",
       "    </tr>\n",
       "    <tr>\n",
       "      <th>2198</th>\n",
       "      <td>NOAA-NMFS-2022-0119-2201</td>\n",
       "      <td>NOAA</td>\n",
       "      <td>NOAA-NMFS-2022-0119</td>\n",
       "      <td>lgz-sbpt-z168</td>\n",
       "      <td>Public Submission</td>\n",
       "      <td>2023-05-02T04:00Z</td>\n",
       "      <td>False</td>\n",
       "      <td>NaN</td>\n",
       "      <td>NaN</td>\n",
       "      <td>Comment from NRDC</td>\n",
       "      <td>...</td>\n",
       "      <td>NaN</td>\n",
       "      <td>See attached file(s)</td>\n",
       "      <td>NaN</td>\n",
       "      <td>NaN</td>\n",
       "      <td>NaN</td>\n",
       "      <td>NaN</td>\n",
       "      <td>NaN</td>\n",
       "      <td>https://downloads.regulations.gov/NOAA-NMFS-20...</td>\n",
       "      <td>pageCount, Page Count, Number of pages In the ...</td>\n",
       "      <td>April 27, 2023\\nRachael Confair\\nTrade Monitor...</td>\n",
       "    </tr>\n",
       "    <tr>\n",
       "      <th>2199</th>\n",
       "      <td>NOAA-NMFS-2022-0119-2202</td>\n",
       "      <td>NOAA</td>\n",
       "      <td>NOAA-NMFS-2022-0119</td>\n",
       "      <td>lgz-spv1-1q5g</td>\n",
       "      <td>Public Submission</td>\n",
       "      <td>2023-05-02T04:00Z</td>\n",
       "      <td>False</td>\n",
       "      <td>NaN</td>\n",
       "      <td>NaN</td>\n",
       "      <td>Comment from NRDC</td>\n",
       "      <td>...</td>\n",
       "      <td>NaN</td>\n",
       "      <td>See attached file(s)</td>\n",
       "      <td>NaN</td>\n",
       "      <td>NaN</td>\n",
       "      <td>NaN</td>\n",
       "      <td>NaN</td>\n",
       "      <td>NaN</td>\n",
       "      <td>https://downloads.regulations.gov/NOAA-NMFS-20...</td>\n",
       "      <td>pageCount, Page Count, Number of pages In the ...</td>\n",
       "      <td>April 27, 2023\\nRachael Confair\\nTrade Monitor...</td>\n",
       "    </tr>\n",
       "    <tr>\n",
       "      <th>2200</th>\n",
       "      <td>NOAA-NMFS-2022-0119-2203</td>\n",
       "      <td>NOAA</td>\n",
       "      <td>NOAA-NMFS-2022-0119</td>\n",
       "      <td>lgz-adhc-v1eh</td>\n",
       "      <td>Public Submission</td>\n",
       "      <td>2023-05-02T04:00Z</td>\n",
       "      <td>False</td>\n",
       "      <td>NaN</td>\n",
       "      <td>NaN</td>\n",
       "      <td>Comment from Southwind Foods LLC dba Great Ame...</td>\n",
       "      <td>...</td>\n",
       "      <td>NaN</td>\n",
       "      <td>My comments are in regards to the IFTP holder ...</td>\n",
       "      <td>NaN</td>\n",
       "      <td>NaN</td>\n",
       "      <td>NaN</td>\n",
       "      <td>NaN</td>\n",
       "      <td>NaN</td>\n",
       "      <td>NaN</td>\n",
       "      <td>pageCount, Page Count, Number of pages In the ...</td>\n",
       "      <td>NaN</td>\n",
       "    </tr>\n",
       "    <tr>\n",
       "      <th>2201</th>\n",
       "      <td>NOAA-NMFS-2022-0119-2204</td>\n",
       "      <td>NOAA</td>\n",
       "      <td>NOAA-NMFS-2022-0119</td>\n",
       "      <td>lgz-grfd-bj7t</td>\n",
       "      <td>Public Submission</td>\n",
       "      <td>2023-05-02T04:00Z</td>\n",
       "      <td>False</td>\n",
       "      <td>NaN</td>\n",
       "      <td>NaN</td>\n",
       "      <td>Comment from Southern Shrimp Alliance</td>\n",
       "      <td>...</td>\n",
       "      <td>NaN</td>\n",
       "      <td>Please find attached comments from the Souther...</td>\n",
       "      <td>NaN</td>\n",
       "      <td>NaN</td>\n",
       "      <td>NaN</td>\n",
       "      <td>NaN</td>\n",
       "      <td>NaN</td>\n",
       "      <td>https://downloads.regulations.gov/NOAA-NMFS-20...</td>\n",
       "      <td>pageCount, Page Count, Number of pages In the ...</td>\n",
       "      <td>Southern Shrimp Alliance\\nP.O. Box 1577 Tarpon...</td>\n",
       "    </tr>\n",
       "  </tbody>\n",
       "</table>\n",
       "<p>2202 rows × 61 columns</p>\n",
       "</div>"
      ],
      "text/plain": [
       "                    DocumentID AgencyID             DocketID TrackingNumber  \\\n",
       "0     NOAA-NMFS-2022-0119-0001     NOAA  NOAA-NMFS-2022-0119            NaN   \n",
       "1     NOAA-NMFS-2022-0119-0002     NOAA  NOAA-NMFS-2022-0119  lcj-jtiv-eyjs   \n",
       "2     NOAA-NMFS-2022-0119-0003     NOAA  NOAA-NMFS-2022-0119  lcr-zzpi-2xed   \n",
       "3     NOAA-NMFS-2022-0119-0004     NOAA  NOAA-NMFS-2022-0119  lda-lwj0-6q7p   \n",
       "4     NOAA-NMFS-2022-0119-0005     NOAA  NOAA-NMFS-2022-0119  ldk-z0yd-46w8   \n",
       "...                        ...      ...                  ...            ...   \n",
       "2197  NOAA-NMFS-2022-0119-2200     NOAA  NOAA-NMFS-2022-0119  lgz-w9zq-b8i3   \n",
       "2198  NOAA-NMFS-2022-0119-2201     NOAA  NOAA-NMFS-2022-0119  lgz-sbpt-z168   \n",
       "2199  NOAA-NMFS-2022-0119-2202     NOAA  NOAA-NMFS-2022-0119  lgz-spv1-1q5g   \n",
       "2200  NOAA-NMFS-2022-0119-2203     NOAA  NOAA-NMFS-2022-0119  lgz-adhc-v1eh   \n",
       "2201  NOAA-NMFS-2022-0119-2204     NOAA  NOAA-NMFS-2022-0119  lgz-grfd-bj7t   \n",
       "\n",
       "           DocumentType         PostedDate  IsWithdrawn FederalRegisterNumber  \\\n",
       "0         Proposed Rule  2022-12-28T05:00Z        False            2022-27741   \n",
       "1     Public Submission  2023-01-20T05:00Z        False                   NaN   \n",
       "2     Public Submission  2023-01-20T05:00Z        False                   NaN   \n",
       "3     Public Submission  2023-02-02T05:00Z        False                   NaN   \n",
       "4     Public Submission  2023-02-02T05:00Z        False                   NaN   \n",
       "...                 ...                ...          ...                   ...   \n",
       "2197  Public Submission  2023-05-01T04:00Z        False                   NaN   \n",
       "2198  Public Submission  2023-05-02T04:00Z        False                   NaN   \n",
       "2199  Public Submission  2023-05-02T04:00Z        False                   NaN   \n",
       "2200  Public Submission  2023-05-02T04:00Z        False                   NaN   \n",
       "2201  Public Submission  2023-05-02T04:00Z        False                   NaN   \n",
       "\n",
       "      FRCitation                                              Title  ...  \\\n",
       "0            NaN  Magnuson-Stevens Fishery Conservation and Mana...  ...   \n",
       "1            NaN                          Comment from Brown, Julie  ...   \n",
       "2            NaN                           Comment from Wilson, Ann  ...   \n",
       "3            NaN                             Comment from Anonymous  ...   \n",
       "4            NaN                       Comment from Weinmann, Marie  ...   \n",
       "...          ...                                                ...  ...   \n",
       "2197         NaN          Comment from National Fisheries Institute  ...   \n",
       "2198         NaN                                  Comment from NRDC  ...   \n",
       "2199         NaN                                  Comment from NRDC  ...   \n",
       "2200         NaN  Comment from Southwind Foods LLC dba Great Ame...  ...   \n",
       "2201         NaN              Comment from Southern Shrimp Alliance  ...   \n",
       "\n",
       "     GovernmentAgencyType                                            Comment  \\\n",
       "0                     NaN                                                NaN   \n",
       "1                     NaN      We should expand SIMP to ALL imported species   \n",
       "2                     NaN  Ann M Wilson, NRES 520 UWSP\\n\\nAs a current gr...   \n",
       "3                     NaN  I am excited to see the inclusion of eels on t...   \n",
       "4                     NaN  Dear NOAA Administrator Spinrad and NOAA Fishe...   \n",
       "...                   ...                                                ...   \n",
       "2197                  NaN  Please see attached comments from the National...   \n",
       "2198                  NaN                               See attached file(s)   \n",
       "2199                  NaN                               See attached file(s)   \n",
       "2200                  NaN  My comments are in regards to the IFTP holder ...   \n",
       "2201                  NaN  Please find attached comments from the Souther...   \n",
       "\n",
       "      Category RestrictReasonType  RestrictReason  ReasonWithdrawn  \\\n",
       "0          NaN                NaN             NaN              NaN   \n",
       "1          NaN                NaN             NaN              NaN   \n",
       "2          NaN                NaN             NaN              NaN   \n",
       "3          NaN                NaN             NaN              NaN   \n",
       "4          NaN                NaN             NaN              NaN   \n",
       "...        ...                ...             ...              ...   \n",
       "2197       NaN                NaN             NaN              NaN   \n",
       "2198       NaN                NaN             NaN              NaN   \n",
       "2199       NaN                NaN             NaN              NaN   \n",
       "2200       NaN                NaN             NaN              NaN   \n",
       "2201       NaN                NaN             NaN              NaN   \n",
       "\n",
       "                                           ContentFiles  \\\n",
       "0     https://downloads.regulations.gov/NOAA-NMFS-20...   \n",
       "1                                                   NaN   \n",
       "2                                                   NaN   \n",
       "3                                                   NaN   \n",
       "4                                                   NaN   \n",
       "...                                                 ...   \n",
       "2197                                                NaN   \n",
       "2198                                                NaN   \n",
       "2199                                                NaN   \n",
       "2200                                                NaN   \n",
       "2201                                                NaN   \n",
       "\n",
       "                                        AttachmentFiles  \\\n",
       "0                                                   NaN   \n",
       "1                                                   NaN   \n",
       "2                                                   NaN   \n",
       "3                                                   NaN   \n",
       "4                                                   NaN   \n",
       "...                                                 ...   \n",
       "2197  https://downloads.regulations.gov/NOAA-NMFS-20...   \n",
       "2198  https://downloads.regulations.gov/NOAA-NMFS-20...   \n",
       "2199  https://downloads.regulations.gov/NOAA-NMFS-20...   \n",
       "2200                                                NaN   \n",
       "2201  https://downloads.regulations.gov/NOAA-NMFS-20...   \n",
       "\n",
       "                      DisplayPropertiesNameLabelTooltip  \\\n",
       "0     pageCount, Page Count, Number of pages In the ...   \n",
       "1     pageCount, Page Count, Number of pages In the ...   \n",
       "2     pageCount, Page Count, Number of pages In the ...   \n",
       "3     pageCount, Page Count, Number of pages In the ...   \n",
       "4     pageCount, Page Count, Number of pages In the ...   \n",
       "...                                                 ...   \n",
       "2197  pageCount, Page Count, Number of pages In the ...   \n",
       "2198  pageCount, Page Count, Number of pages In the ...   \n",
       "2199  pageCount, Page Count, Number of pages In the ...   \n",
       "2200  pageCount, Page Count, Number of pages In the ...   \n",
       "2201  pageCount, Page Count, Number of pages In the ...   \n",
       "\n",
       "                                               pdf_text  \n",
       "0                                                   NaN  \n",
       "1                                                   NaN  \n",
       "2                                                   NaN  \n",
       "3                                                   NaN  \n",
       "4                                                   NaN  \n",
       "...                                                 ...  \n",
       "2197  April 27, 2023\\nMs. Janet Coit\\nAssistant Admi...  \n",
       "2198  April 27, 2023\\nRachael Confair\\nTrade Monitor...  \n",
       "2199  April 27, 2023\\nRachael Confair\\nTrade Monitor...  \n",
       "2200                                                NaN  \n",
       "2201  Southern Shrimp Alliance\\nP.O. Box 1577 Tarpon...  \n",
       "\n",
       "[2202 rows x 61 columns]"
      ]
     },
     "execution_count": 8,
     "metadata": {},
     "output_type": "execute_result"
    }
   ],
   "source": [
    "# create dataframe from pdf_text_dict\n",
    "pdf_text_df = pd.DataFrame.from_dict(pdf_text_dict, orient='index')\n",
    "#join pdf_text_df to df on index \n",
    "df_with_pdf_data = df.set_index('DocumentID').join(pdf_text_df, how='left').reset_index()\n",
    "df_with_pdf_data = df_with_pdf_data.rename(columns={0: 'pdf_text'})\n",
    "df_with_pdf_data"
   ]
  },
  {
   "cell_type": "code",
   "execution_count": 9,
   "id": "da96fa58",
   "metadata": {},
   "outputs": [],
   "source": [
    "#extract text from docx files\n",
    "\n",
    "docx_text_dict = {}\n",
    "for f in os.listdir():\n",
    "    if f.endswith('.docx'):\n",
    "        doc = docx.Document(f)\n",
    "        # get filename of f\n",
    "        filename = f.split('.')[0].replace('attachment_1', '')\n",
    "        docx_text_dict[filename] = '\\n'.join([p.text for p in doc.paragraphs])"
   ]
  },
  {
   "cell_type": "code",
   "execution_count": 10,
   "id": "36a3b62e",
   "metadata": {},
   "outputs": [],
   "source": [
    "#Create a single column with the unified text for each comment for analysis\n",
    "def combine_comment_text(row):\n",
    "    if str(row['Comment']) != 'nan' and str(row['pdf_text']) != 'nan':\n",
    "        return row['Comment'] + ' ' + row['pdf_text']\n",
    "    elif str(row['pdf_text']) != 'nan':\n",
    "        return row['pdf_text']\n",
    "    elif str(row['Comment']) != 'nan':\n",
    "        return row['Comment']\n",
    "    else:\n",
    "        return 'UnknownText'\n",
    "df_with_pdf_data['CombinedText'] = df_with_pdf_data.apply(combine_comment_text, axis=1)"
   ]
  },
  {
   "cell_type": "code",
   "execution_count": 35,
   "id": "919c9f32",
   "metadata": {},
   "outputs": [
    {
     "name": "stdout",
     "output_type": "stream",
     "text": [
      "Number of entries referencing eels: 11\n"
     ]
    },
    {
     "data": {
      "text/plain": [
       "['NOAA-NMFS-2022-0119-0003',\n",
       " 'NOAA-NMFS-2022-0119-0004',\n",
       " 'NOAA-NMFS-2022-0119-2134',\n",
       " 'NOAA-NMFS-2022-0119-2136',\n",
       " 'NOAA-NMFS-2022-0119-2137',\n",
       " 'NOAA-NMFS-2022-0119-2150',\n",
       " 'NOAA-NMFS-2022-0119-2156',\n",
       " 'NOAA-NMFS-2022-0119-2163',\n",
       " 'NOAA-NMFS-2022-0119-2166',\n",
       " 'NOAA-NMFS-2022-0119-2195',\n",
       " 'NOAA-NMFS-2022-0119-2200']"
      ]
     },
     "execution_count": 35,
     "metadata": {},
     "output_type": "execute_result"
    }
   ],
   "source": [
    "print(f\"Number of entries referencing eels: {len(df_with_pdf_data[df_with_pdf_data['CombinedText'].str.contains(' eel')])}\")\n",
    "df_with_pdf_data[df_with_pdf_data['CombinedText'].str.contains(' eel')]['DocumentID'].to_list()"
   ]
  },
  {
   "attachments": {},
   "cell_type": "markdown",
   "id": "5a4b5a20",
   "metadata": {},
   "source": [
    "## Further Comment Analysis\n",
    "Many of the documents were identical and appeared to be part of an advocacy campaign from the NRDC."
   ]
  },
  {
   "cell_type": "code",
   "execution_count": 38,
   "id": "85dfa810",
   "metadata": {},
   "outputs": [
    {
     "data": {
      "text/plain": [
       "218"
      ]
     },
     "execution_count": 38,
     "metadata": {},
     "output_type": "execute_result"
    }
   ],
   "source": [
    "len(df_with_pdf_data['CombinedText'].unique())\n",
    "# 218 unique documents at most"
   ]
  },
  {
   "cell_type": "code",
   "execution_count": 39,
   "id": "a145892d",
   "metadata": {},
   "outputs": [
    {
     "data": {
      "text/html": [
       "<div>\n",
       "<style scoped>\n",
       "    .dataframe tbody tr th:only-of-type {\n",
       "        vertical-align: middle;\n",
       "    }\n",
       "\n",
       "    .dataframe tbody tr th {\n",
       "        vertical-align: top;\n",
       "    }\n",
       "\n",
       "    .dataframe thead th {\n",
       "        text-align: right;\n",
       "    }\n",
       "</style>\n",
       "<table border=\"1\" class=\"dataframe\">\n",
       "  <thead>\n",
       "    <tr style=\"text-align: right;\">\n",
       "      <th></th>\n",
       "      <th>index</th>\n",
       "      <th>CombinedText</th>\n",
       "    </tr>\n",
       "  </thead>\n",
       "  <tbody>\n",
       "    <tr>\n",
       "      <th>0</th>\n",
       "      <td>Dear NOAA Administrator Spinrad and NOAA Fishe...</td>\n",
       "      <td>1979</td>\n",
       "    </tr>\n",
       "    <tr>\n",
       "      <th>1</th>\n",
       "      <td>Dear NOAA Administrator Spinrad and NOAA Fishe...</td>\n",
       "      <td>4</td>\n",
       "    </tr>\n",
       "    <tr>\n",
       "      <th>2</th>\n",
       "      <td>Dear NOAA Administrator Spinrad and NOAA Fishe...</td>\n",
       "      <td>2</td>\n",
       "    </tr>\n",
       "    <tr>\n",
       "      <th>3</th>\n",
       "      <td>See attached file(s) April 27, 2023\\nRachael C...</td>\n",
       "      <td>2</td>\n",
       "    </tr>\n",
       "    <tr>\n",
       "      <th>4</th>\n",
       "      <td>See attached file(s) March 22, 2023\\nMs. Racha...</td>\n",
       "      <td>2</td>\n",
       "    </tr>\n",
       "    <tr>\n",
       "      <th>5</th>\n",
       "      <td>Expanding the snapper species to all (currentl...</td>\n",
       "      <td>1</td>\n",
       "    </tr>\n",
       "    <tr>\n",
       "      <th>6</th>\n",
       "      <td>To Whom it May Concern,\\n \\nI am in favor of e...</td>\n",
       "      <td>1</td>\n",
       "    </tr>\n",
       "    <tr>\n",
       "      <th>7</th>\n",
       "      <td>Please make good decisions.\\n\\nDear NOAA Admin...</td>\n",
       "      <td>1</td>\n",
       "    </tr>\n",
       "    <tr>\n",
       "      <th>8</th>\n",
       "      <td>Dear NOAA Administrator Spinrad and NOAA Fishe...</td>\n",
       "      <td>1</td>\n",
       "    </tr>\n",
       "    <tr>\n",
       "      <th>9</th>\n",
       "      <td>Dear NOAA Administrator Spinrad and NOAA Fishe...</td>\n",
       "      <td>1</td>\n",
       "    </tr>\n",
       "  </tbody>\n",
       "</table>\n",
       "</div>"
      ],
      "text/plain": [
       "                                               index  CombinedText\n",
       "0  Dear NOAA Administrator Spinrad and NOAA Fishe...          1979\n",
       "1  Dear NOAA Administrator Spinrad and NOAA Fishe...             4\n",
       "2  Dear NOAA Administrator Spinrad and NOAA Fishe...             2\n",
       "3  See attached file(s) April 27, 2023\\nRachael C...             2\n",
       "4  See attached file(s) March 22, 2023\\nMs. Racha...             2\n",
       "5  Expanding the snapper species to all (currentl...             1\n",
       "6  To Whom it May Concern,\\n \\nI am in favor of e...             1\n",
       "7  Please make good decisions.\\n\\nDear NOAA Admin...             1\n",
       "8  Dear NOAA Administrator Spinrad and NOAA Fishe...             1\n",
       "9  Dear NOAA Administrator Spinrad and NOAA Fishe...             1"
      ]
     },
     "execution_count": 39,
     "metadata": {},
     "output_type": "execute_result"
    }
   ],
   "source": [
    "#count instances of CombinedText in df_with_pdf_data\n",
    "df_with_pdf_data['CombinedText'].value_counts().head(10).reset_index()\n",
    "\n",
    "#This shows 1979 are completely identical."
   ]
  },
  {
   "cell_type": "code",
   "execution_count": 40,
   "id": "c1237c23",
   "metadata": {},
   "outputs": [
    {
     "data": {
      "text/html": [
       "<div>\n",
       "<style scoped>\n",
       "    .dataframe tbody tr th:only-of-type {\n",
       "        vertical-align: middle;\n",
       "    }\n",
       "\n",
       "    .dataframe tbody tr th {\n",
       "        vertical-align: top;\n",
       "    }\n",
       "\n",
       "    .dataframe thead th {\n",
       "        text-align: right;\n",
       "    }\n",
       "</style>\n",
       "<table border=\"1\" class=\"dataframe\">\n",
       "  <thead>\n",
       "    <tr style=\"text-align: right;\">\n",
       "      <th></th>\n",
       "      <th>index</th>\n",
       "      <th>CombinedText</th>\n",
       "    </tr>\n",
       "  </thead>\n",
       "  <tbody>\n",
       "    <tr>\n",
       "      <th>0</th>\n",
       "      <td>Dear NOAA Administrator Spinrad and NOAA Fishe...</td>\n",
       "      <td>2044</td>\n",
       "    </tr>\n",
       "    <tr>\n",
       "      <th>1</th>\n",
       "      <td>Dear NOAA Administrator Spinrad and NOAA Fishe...</td>\n",
       "      <td>2</td>\n",
       "    </tr>\n",
       "    <tr>\n",
       "      <th>2</th>\n",
       "      <td>See attached file(s) March 22, 2023\\nMs. Racha...</td>\n",
       "      <td>2</td>\n",
       "    </tr>\n",
       "    <tr>\n",
       "      <th>3</th>\n",
       "      <td>Dear NOAA Administrator Spinrad and NOAA Fishe...</td>\n",
       "      <td>2</td>\n",
       "    </tr>\n",
       "    <tr>\n",
       "      <th>4</th>\n",
       "      <td>Dear NOAA Administrator Spinrad and NOAA Fishe...</td>\n",
       "      <td>2</td>\n",
       "    </tr>\n",
       "    <tr>\n",
       "      <th>...</th>\n",
       "      <td>...</td>\n",
       "      <td>...</td>\n",
       "    </tr>\n",
       "    <tr>\n",
       "      <th>149</th>\n",
       "      <td>To NOAA Administrator Spinrad and NOAA Fisheri...</td>\n",
       "      <td>1</td>\n",
       "    </tr>\n",
       "    <tr>\n",
       "      <th>150</th>\n",
       "      <td>Dear NOAA Administrator Spinrad and NOAA Fishe...</td>\n",
       "      <td>1</td>\n",
       "    </tr>\n",
       "    <tr>\n",
       "      <th>151</th>\n",
       "      <td>Dear NOAA Administrator Spinrad and NOAA Fishe...</td>\n",
       "      <td>1</td>\n",
       "    </tr>\n",
       "    <tr>\n",
       "      <th>152</th>\n",
       "      <td>Dear NOAA Administrator Spinrad and NOAA Fishe...</td>\n",
       "      <td>1</td>\n",
       "    </tr>\n",
       "    <tr>\n",
       "      <th>153</th>\n",
       "      <td>Please find attached comments from the Souther...</td>\n",
       "      <td>1</td>\n",
       "    </tr>\n",
       "  </tbody>\n",
       "</table>\n",
       "<p>154 rows × 2 columns</p>\n",
       "</div>"
      ],
      "text/plain": [
       "                                                 index  CombinedText\n",
       "0    Dear NOAA Administrator Spinrad and NOAA Fishe...          2044\n",
       "1    Dear NOAA Administrator Spinrad and NOAA Fishe...             2\n",
       "2    See attached file(s) March 22, 2023\\nMs. Racha...             2\n",
       "3    Dear NOAA Administrator Spinrad and NOAA Fishe...             2\n",
       "4    Dear NOAA Administrator Spinrad and NOAA Fishe...             2\n",
       "..                                                 ...           ...\n",
       "149  To NOAA Administrator Spinrad and NOAA Fisheri...             1\n",
       "150  Dear NOAA Administrator Spinrad and NOAA Fishe...             1\n",
       "151  Dear NOAA Administrator Spinrad and NOAA Fishe...             1\n",
       "152  Dear NOAA Administrator Spinrad and NOAA Fishe...             1\n",
       "153  Please find attached comments from the Souther...             1\n",
       "\n",
       "[154 rows x 2 columns]"
      ]
     },
     "execution_count": 40,
     "metadata": {},
     "output_type": "execute_result"
    }
   ],
   "source": [
    "# And 2044 are identical for the first 500 characters\n",
    "df_with_pdf_data['CombinedText'].str[:500].value_counts().head(200).reset_index()"
   ]
  },
  {
   "cell_type": "code",
   "execution_count": 41,
   "id": "4a121833",
   "metadata": {},
   "outputs": [
    {
     "name": "stdout",
     "output_type": "stream",
     "text": [
      "Dear NOAA Administrator Spinrad and NOAA Fisheries Assistant Administrator Coit:\n",
      "\n",
      "The United States needs an effective seafood traceability program to intercept the flow of illegal seafood into our markets. Illegal fishing is a top driver of unsustainable and environmentally harmful fishing practices around the globe, as well as associated human rights abuses in the seafood sector. The newly proposed changes to the Seafood Import Monitoring Program do not go far enough to help end the U.S.'s role in perpetuating human rights abuses and environmental destruction in the seafood industry. \n",
      "\n",
      "Illegal fishing is destroying our oceans. Years of overfishing in nearshore waters have forced boats to go into deeper waters, which makes fishing more expensive. Some fishers will cut costs by fishing with illegal gear, fishing in protected areas, or ignoring catch limits. To save on labor costs, some vessel owners rely on human traffickers, some even kidnapping or drugging workers to get them on the ship and cut off from help. Further, the overseas seafood processing industry is heavily reliant on forced labor.  \n",
      "\n",
      "The U.S. is one of the largest consumers of seafood. Approximately eighty percent of the seafood sold in the U.S. is imported, and as much as a third of the wild-caught seafood sold in the United States each year is illegal or unreported.  \n",
      "\n",
      "The U.S. government has a responsibility to fix these problems, and seafood traceability is an essential step in the fight to end illegal fishing and human rights abuses in the seafood industry. But under NOAA Fisheries’ proposed rule, traceability requirements would apply to only half of seafood imports, leaving massive loopholes that are easy for bad actors to exploit. The proposed rule also fails to sufficiently address labor abuses in seafood supply chains, and it includes no commitment to improve enforcement of traceability requirements. \n",
      "\n",
      "Please revise the Seafood Import Monitoring Program proposed rule to adopt the strongest possible standards for seafood traceability to intercept the flow of illegal seafood into the U.S. and help consumers feel confident the seafood they buy is legally caught and not a product of labor abuses. Thank you for helping to address these environmental and human rights crimes with the seriousness they deserve.\n"
     ]
    }
   ],
   "source": [
    "#Display the most common text\n",
    "default_NOAA_Admin_Text = df_with_pdf_data['CombinedText'].value_counts().head(1).index[0]\n",
    "print(default_NOAA_Admin_Text)"
   ]
  },
  {
   "cell_type": "code",
   "execution_count": 42,
   "id": "20e795e9",
   "metadata": {},
   "outputs": [
    {
     "name": "stdout",
     "output_type": "stream",
     "text": [
      "Distinct comments matching or likely derived from the form letter: 137\n"
     ]
    }
   ],
   "source": [
    "combined_text_noaa_admin_list = df_with_pdf_data[df_with_pdf_data['CombinedText'].str.contains('NOAA Administrator Spinrad and NOAA Fisheries Assistant Administrator Coit')]['CombinedText'].unique().tolist()\n",
    "print(f\"Distinct comments matching or likely derived from the form letter: {len(combined_text_noaa_admin_list)}\")"
   ]
  },
  {
   "cell_type": "code",
   "execution_count": 43,
   "id": "92325d93",
   "metadata": {},
   "outputs": [
    {
     "data": {
      "application/vnd.plotly.v1+json": {
       "config": {
        "plotlyServerURL": "https://plot.ly"
       },
       "data": [
        {
         "alignmentgroup": "True",
         "bingroup": "x",
         "hovertemplate": "variable=0<br>value=%{x}<br>count=%{y}<extra></extra>",
         "legendgroup": "0",
         "marker": {
          "color": "#636efa",
          "pattern": {
           "shape": ""
          }
         },
         "name": "0",
         "offsetgroup": "0",
         "orientation": "v",
         "showlegend": true,
         "type": "histogram",
         "x": [
          0.044,
          0.073,
          0.17,
          0.203,
          0.35,
          0.352,
          0.368,
          0.48,
          0.494,
          0.498,
          0.53,
          0.594,
          0.595,
          0.61,
          0.691,
          0.712,
          0.74,
          0.752,
          0.785,
          0.796,
          0.818,
          0.83,
          0.836,
          0.849,
          0.866,
          0.871,
          0.88,
          0.908,
          0.909,
          0.915,
          0.922,
          0.924,
          0.925,
          0.926,
          0.927,
          0.931,
          0.931,
          0.932,
          0.933,
          0.936,
          0.937,
          0.94,
          0.941,
          0.946,
          0.948,
          0.949,
          0.95,
          0.951,
          0.952,
          0.952,
          0.953,
          0.953,
          0.955,
          0.958,
          0.958,
          0.958,
          0.963,
          0.964,
          0.968,
          0.969,
          0.969,
          0.971,
          0.972,
          0.973,
          0.973,
          0.974,
          0.975,
          0.976,
          0.976,
          0.977,
          0.977,
          0.977,
          0.978,
          0.978,
          0.978,
          0.979,
          0.979,
          0.979,
          0.979,
          0.98,
          0.981,
          0.981,
          0.982,
          0.983,
          0.983,
          0.983,
          0.985,
          0.985,
          0.985,
          0.985,
          0.987,
          0.988,
          0.988,
          0.989,
          0.989,
          0.99,
          0.99,
          0.991,
          0.991,
          0.991,
          0.992,
          0.993,
          0.993,
          0.993,
          0.993,
          0.993,
          0.994,
          0.994,
          0.994,
          0.994,
          0.995,
          0.995,
          0.995,
          0.995,
          0.996,
          0.996,
          0.996,
          0.997,
          0.997,
          0.997,
          0.997,
          0.997,
          0.997,
          0.998,
          0.998,
          0.998,
          0.998,
          0.998,
          0.998,
          0.998,
          0.999,
          0.999,
          0.999,
          1,
          1,
          1,
          1
         ],
         "xaxis": "x",
         "yaxis": "y"
        }
       ],
       "layout": {
        "barmode": "relative",
        "legend": {
         "title": {
          "text": "variable"
         },
         "tracegroupgap": 0
        },
        "margin": {
         "t": 60
        },
        "template": {
         "data": {
          "bar": [
           {
            "error_x": {
             "color": "#2a3f5f"
            },
            "error_y": {
             "color": "#2a3f5f"
            },
            "marker": {
             "line": {
              "color": "#E5ECF6",
              "width": 0.5
             },
             "pattern": {
              "fillmode": "overlay",
              "size": 10,
              "solidity": 0.2
             }
            },
            "type": "bar"
           }
          ],
          "barpolar": [
           {
            "marker": {
             "line": {
              "color": "#E5ECF6",
              "width": 0.5
             },
             "pattern": {
              "fillmode": "overlay",
              "size": 10,
              "solidity": 0.2
             }
            },
            "type": "barpolar"
           }
          ],
          "carpet": [
           {
            "aaxis": {
             "endlinecolor": "#2a3f5f",
             "gridcolor": "white",
             "linecolor": "white",
             "minorgridcolor": "white",
             "startlinecolor": "#2a3f5f"
            },
            "baxis": {
             "endlinecolor": "#2a3f5f",
             "gridcolor": "white",
             "linecolor": "white",
             "minorgridcolor": "white",
             "startlinecolor": "#2a3f5f"
            },
            "type": "carpet"
           }
          ],
          "choropleth": [
           {
            "colorbar": {
             "outlinewidth": 0,
             "ticks": ""
            },
            "type": "choropleth"
           }
          ],
          "contour": [
           {
            "colorbar": {
             "outlinewidth": 0,
             "ticks": ""
            },
            "colorscale": [
             [
              0,
              "#0d0887"
             ],
             [
              0.1111111111111111,
              "#46039f"
             ],
             [
              0.2222222222222222,
              "#7201a8"
             ],
             [
              0.3333333333333333,
              "#9c179e"
             ],
             [
              0.4444444444444444,
              "#bd3786"
             ],
             [
              0.5555555555555556,
              "#d8576b"
             ],
             [
              0.6666666666666666,
              "#ed7953"
             ],
             [
              0.7777777777777778,
              "#fb9f3a"
             ],
             [
              0.8888888888888888,
              "#fdca26"
             ],
             [
              1,
              "#f0f921"
             ]
            ],
            "type": "contour"
           }
          ],
          "contourcarpet": [
           {
            "colorbar": {
             "outlinewidth": 0,
             "ticks": ""
            },
            "type": "contourcarpet"
           }
          ],
          "heatmap": [
           {
            "colorbar": {
             "outlinewidth": 0,
             "ticks": ""
            },
            "colorscale": [
             [
              0,
              "#0d0887"
             ],
             [
              0.1111111111111111,
              "#46039f"
             ],
             [
              0.2222222222222222,
              "#7201a8"
             ],
             [
              0.3333333333333333,
              "#9c179e"
             ],
             [
              0.4444444444444444,
              "#bd3786"
             ],
             [
              0.5555555555555556,
              "#d8576b"
             ],
             [
              0.6666666666666666,
              "#ed7953"
             ],
             [
              0.7777777777777778,
              "#fb9f3a"
             ],
             [
              0.8888888888888888,
              "#fdca26"
             ],
             [
              1,
              "#f0f921"
             ]
            ],
            "type": "heatmap"
           }
          ],
          "heatmapgl": [
           {
            "colorbar": {
             "outlinewidth": 0,
             "ticks": ""
            },
            "colorscale": [
             [
              0,
              "#0d0887"
             ],
             [
              0.1111111111111111,
              "#46039f"
             ],
             [
              0.2222222222222222,
              "#7201a8"
             ],
             [
              0.3333333333333333,
              "#9c179e"
             ],
             [
              0.4444444444444444,
              "#bd3786"
             ],
             [
              0.5555555555555556,
              "#d8576b"
             ],
             [
              0.6666666666666666,
              "#ed7953"
             ],
             [
              0.7777777777777778,
              "#fb9f3a"
             ],
             [
              0.8888888888888888,
              "#fdca26"
             ],
             [
              1,
              "#f0f921"
             ]
            ],
            "type": "heatmapgl"
           }
          ],
          "histogram": [
           {
            "marker": {
             "pattern": {
              "fillmode": "overlay",
              "size": 10,
              "solidity": 0.2
             }
            },
            "type": "histogram"
           }
          ],
          "histogram2d": [
           {
            "colorbar": {
             "outlinewidth": 0,
             "ticks": ""
            },
            "colorscale": [
             [
              0,
              "#0d0887"
             ],
             [
              0.1111111111111111,
              "#46039f"
             ],
             [
              0.2222222222222222,
              "#7201a8"
             ],
             [
              0.3333333333333333,
              "#9c179e"
             ],
             [
              0.4444444444444444,
              "#bd3786"
             ],
             [
              0.5555555555555556,
              "#d8576b"
             ],
             [
              0.6666666666666666,
              "#ed7953"
             ],
             [
              0.7777777777777778,
              "#fb9f3a"
             ],
             [
              0.8888888888888888,
              "#fdca26"
             ],
             [
              1,
              "#f0f921"
             ]
            ],
            "type": "histogram2d"
           }
          ],
          "histogram2dcontour": [
           {
            "colorbar": {
             "outlinewidth": 0,
             "ticks": ""
            },
            "colorscale": [
             [
              0,
              "#0d0887"
             ],
             [
              0.1111111111111111,
              "#46039f"
             ],
             [
              0.2222222222222222,
              "#7201a8"
             ],
             [
              0.3333333333333333,
              "#9c179e"
             ],
             [
              0.4444444444444444,
              "#bd3786"
             ],
             [
              0.5555555555555556,
              "#d8576b"
             ],
             [
              0.6666666666666666,
              "#ed7953"
             ],
             [
              0.7777777777777778,
              "#fb9f3a"
             ],
             [
              0.8888888888888888,
              "#fdca26"
             ],
             [
              1,
              "#f0f921"
             ]
            ],
            "type": "histogram2dcontour"
           }
          ],
          "mesh3d": [
           {
            "colorbar": {
             "outlinewidth": 0,
             "ticks": ""
            },
            "type": "mesh3d"
           }
          ],
          "parcoords": [
           {
            "line": {
             "colorbar": {
              "outlinewidth": 0,
              "ticks": ""
             }
            },
            "type": "parcoords"
           }
          ],
          "pie": [
           {
            "automargin": true,
            "type": "pie"
           }
          ],
          "scatter": [
           {
            "fillpattern": {
             "fillmode": "overlay",
             "size": 10,
             "solidity": 0.2
            },
            "type": "scatter"
           }
          ],
          "scatter3d": [
           {
            "line": {
             "colorbar": {
              "outlinewidth": 0,
              "ticks": ""
             }
            },
            "marker": {
             "colorbar": {
              "outlinewidth": 0,
              "ticks": ""
             }
            },
            "type": "scatter3d"
           }
          ],
          "scattercarpet": [
           {
            "marker": {
             "colorbar": {
              "outlinewidth": 0,
              "ticks": ""
             }
            },
            "type": "scattercarpet"
           }
          ],
          "scattergeo": [
           {
            "marker": {
             "colorbar": {
              "outlinewidth": 0,
              "ticks": ""
             }
            },
            "type": "scattergeo"
           }
          ],
          "scattergl": [
           {
            "marker": {
             "colorbar": {
              "outlinewidth": 0,
              "ticks": ""
             }
            },
            "type": "scattergl"
           }
          ],
          "scattermapbox": [
           {
            "marker": {
             "colorbar": {
              "outlinewidth": 0,
              "ticks": ""
             }
            },
            "type": "scattermapbox"
           }
          ],
          "scatterpolar": [
           {
            "marker": {
             "colorbar": {
              "outlinewidth": 0,
              "ticks": ""
             }
            },
            "type": "scatterpolar"
           }
          ],
          "scatterpolargl": [
           {
            "marker": {
             "colorbar": {
              "outlinewidth": 0,
              "ticks": ""
             }
            },
            "type": "scatterpolargl"
           }
          ],
          "scatterternary": [
           {
            "marker": {
             "colorbar": {
              "outlinewidth": 0,
              "ticks": ""
             }
            },
            "type": "scatterternary"
           }
          ],
          "surface": [
           {
            "colorbar": {
             "outlinewidth": 0,
             "ticks": ""
            },
            "colorscale": [
             [
              0,
              "#0d0887"
             ],
             [
              0.1111111111111111,
              "#46039f"
             ],
             [
              0.2222222222222222,
              "#7201a8"
             ],
             [
              0.3333333333333333,
              "#9c179e"
             ],
             [
              0.4444444444444444,
              "#bd3786"
             ],
             [
              0.5555555555555556,
              "#d8576b"
             ],
             [
              0.6666666666666666,
              "#ed7953"
             ],
             [
              0.7777777777777778,
              "#fb9f3a"
             ],
             [
              0.8888888888888888,
              "#fdca26"
             ],
             [
              1,
              "#f0f921"
             ]
            ],
            "type": "surface"
           }
          ],
          "table": [
           {
            "cells": {
             "fill": {
              "color": "#EBF0F8"
             },
             "line": {
              "color": "white"
             }
            },
            "header": {
             "fill": {
              "color": "#C8D4E3"
             },
             "line": {
              "color": "white"
             }
            },
            "type": "table"
           }
          ]
         },
         "layout": {
          "annotationdefaults": {
           "arrowcolor": "#2a3f5f",
           "arrowhead": 0,
           "arrowwidth": 1
          },
          "autotypenumbers": "strict",
          "coloraxis": {
           "colorbar": {
            "outlinewidth": 0,
            "ticks": ""
           }
          },
          "colorscale": {
           "diverging": [
            [
             0,
             "#8e0152"
            ],
            [
             0.1,
             "#c51b7d"
            ],
            [
             0.2,
             "#de77ae"
            ],
            [
             0.3,
             "#f1b6da"
            ],
            [
             0.4,
             "#fde0ef"
            ],
            [
             0.5,
             "#f7f7f7"
            ],
            [
             0.6,
             "#e6f5d0"
            ],
            [
             0.7,
             "#b8e186"
            ],
            [
             0.8,
             "#7fbc41"
            ],
            [
             0.9,
             "#4d9221"
            ],
            [
             1,
             "#276419"
            ]
           ],
           "sequential": [
            [
             0,
             "#0d0887"
            ],
            [
             0.1111111111111111,
             "#46039f"
            ],
            [
             0.2222222222222222,
             "#7201a8"
            ],
            [
             0.3333333333333333,
             "#9c179e"
            ],
            [
             0.4444444444444444,
             "#bd3786"
            ],
            [
             0.5555555555555556,
             "#d8576b"
            ],
            [
             0.6666666666666666,
             "#ed7953"
            ],
            [
             0.7777777777777778,
             "#fb9f3a"
            ],
            [
             0.8888888888888888,
             "#fdca26"
            ],
            [
             1,
             "#f0f921"
            ]
           ],
           "sequentialminus": [
            [
             0,
             "#0d0887"
            ],
            [
             0.1111111111111111,
             "#46039f"
            ],
            [
             0.2222222222222222,
             "#7201a8"
            ],
            [
             0.3333333333333333,
             "#9c179e"
            ],
            [
             0.4444444444444444,
             "#bd3786"
            ],
            [
             0.5555555555555556,
             "#d8576b"
            ],
            [
             0.6666666666666666,
             "#ed7953"
            ],
            [
             0.7777777777777778,
             "#fb9f3a"
            ],
            [
             0.8888888888888888,
             "#fdca26"
            ],
            [
             1,
             "#f0f921"
            ]
           ]
          },
          "colorway": [
           "#636efa",
           "#EF553B",
           "#00cc96",
           "#ab63fa",
           "#FFA15A",
           "#19d3f3",
           "#FF6692",
           "#B6E880",
           "#FF97FF",
           "#FECB52"
          ],
          "font": {
           "color": "#2a3f5f"
          },
          "geo": {
           "bgcolor": "white",
           "lakecolor": "white",
           "landcolor": "#E5ECF6",
           "showlakes": true,
           "showland": true,
           "subunitcolor": "white"
          },
          "hoverlabel": {
           "align": "left"
          },
          "hovermode": "closest",
          "mapbox": {
           "style": "light"
          },
          "paper_bgcolor": "white",
          "plot_bgcolor": "#E5ECF6",
          "polar": {
           "angularaxis": {
            "gridcolor": "white",
            "linecolor": "white",
            "ticks": ""
           },
           "bgcolor": "#E5ECF6",
           "radialaxis": {
            "gridcolor": "white",
            "linecolor": "white",
            "ticks": ""
           }
          },
          "scene": {
           "xaxis": {
            "backgroundcolor": "#E5ECF6",
            "gridcolor": "white",
            "gridwidth": 2,
            "linecolor": "white",
            "showbackground": true,
            "ticks": "",
            "zerolinecolor": "white"
           },
           "yaxis": {
            "backgroundcolor": "#E5ECF6",
            "gridcolor": "white",
            "gridwidth": 2,
            "linecolor": "white",
            "showbackground": true,
            "ticks": "",
            "zerolinecolor": "white"
           },
           "zaxis": {
            "backgroundcolor": "#E5ECF6",
            "gridcolor": "white",
            "gridwidth": 2,
            "linecolor": "white",
            "showbackground": true,
            "ticks": "",
            "zerolinecolor": "white"
           }
          },
          "shapedefaults": {
           "line": {
            "color": "#2a3f5f"
           }
          },
          "ternary": {
           "aaxis": {
            "gridcolor": "white",
            "linecolor": "white",
            "ticks": ""
           },
           "baxis": {
            "gridcolor": "white",
            "linecolor": "white",
            "ticks": ""
           },
           "bgcolor": "#E5ECF6",
           "caxis": {
            "gridcolor": "white",
            "linecolor": "white",
            "ticks": ""
           }
          },
          "title": {
           "x": 0.05
          },
          "xaxis": {
           "automargin": true,
           "gridcolor": "white",
           "linecolor": "white",
           "ticks": "",
           "title": {
            "standoff": 15
           },
           "zerolinecolor": "white",
           "zerolinewidth": 2
          },
          "yaxis": {
           "automargin": true,
           "gridcolor": "white",
           "linecolor": "white",
           "ticks": "",
           "title": {
            "standoff": 15
           },
           "zerolinecolor": "white",
           "zerolinewidth": 2
          }
         }
        },
        "xaxis": {
         "anchor": "y",
         "domain": [
          0,
          1
         ],
         "title": {
          "text": "value"
         }
        },
        "yaxis": {
         "anchor": "x",
         "domain": [
          0,
          1
         ],
         "title": {
          "text": "count"
         }
        }
       }
      }
     },
     "metadata": {},
     "output_type": "display_data"
    }
   ],
   "source": [
    "#display differences in strings for the first 10 strings in combined_text_noaa_admin_list\n",
    "deltas = sorted([round(SequenceMatcher(None, default_NOAA_Admin_Text, i).ratio(), 3) for i in combined_text_noaa_admin_list])\n",
    "\n",
    "\n",
    "df = px.data.tips()\n",
    "fig = px.histogram(deltas)\n",
    "fig.show()\n",
    "#So the vast majority of unique strings are still very very similar to the default text"
   ]
  },
  {
   "attachments": {},
   "cell_type": "markdown",
   "id": "da348ffe",
   "metadata": {},
   "source": [
    "# Display the text differences for all of the similar comments\n",
    "This section is long and very detailed. CTRL+F for \"END OF COMPARING RELATED COMMENTS\" to skip to the next section"
   ]
  },
  {
   "cell_type": "code",
   "execution_count": 21,
   "id": "b886baa3",
   "metadata": {},
   "outputs": [],
   "source": [
    "bigger_deltas = [i for i in combined_text_noaa_admin_list if SequenceMatcher(None, default_NOAA_Admin_Text, i).ratio() < 0.8]\n",
    "smaller_deltas = [i for i in combined_text_noaa_admin_list if SequenceMatcher(None, default_NOAA_Admin_Text, i).ratio() < 0.95]"
   ]
  },
  {
   "cell_type": "code",
   "execution_count": 22,
   "id": "c68039ae",
   "metadata": {},
   "outputs": [],
   "source": [
    "def render_diff(text1, text2):\n",
    "    diff1 = difflib.HtmlDiff().make_file(text1, text2)\n",
    "    diff_clean = re.sub('nowrap=\"nowrap\"', '', diff1)\n",
    "    diff_clean = re.sub('<table', '<table style=\"table-layout: fixed; width: 100%\"', diff_clean)\n",
    "    diff_clean = re.sub('td.diff_header {text-align:right}', 'td.diff_header {text-align:right; width:1%}', diff_clean)\n",
    "    diff_clean = re.sub('.diff_next {background-color:#c0c0c0}', '.diff_next {background-color:#c0c0c0; width:1%}', diff_clean)\n",
    "    diff_clean = re.sub('<td', '<td style=\"word-wrap: break-word\"', diff_clean)\n",
    "    return HTML(diff_clean)\n"
   ]
  },
  {
   "cell_type": "code",
   "execution_count": 23,
   "id": "e24ad8fa",
   "metadata": {},
   "outputs": [
    {
     "data": {
      "text/html": [
       "\n",
       "<!DOCTYPE html PUBLIC \"-//W3C//DTD XHTML 1.0 Transitional//EN\"\n",
       "          \"http://www.w3.org/TR/xhtml1/DTD/xhtml1-transitional.dtd\">\n",
       "\n",
       "<html>\n",
       "\n",
       "<head>\n",
       "    <meta http-equiv=\"Content-Type\"\n",
       "          content=\"text/html; charset=utf-8\" />\n",
       "    <title></title>\n",
       "    <style type=\"text/css\">\n",
       "        table.diff {font-family:Courier; border:medium;}\n",
       "        .diff_header {background-color:#e0e0e0}\n",
       "        td.diff_header {text-align:right; width:1%}\n",
       "        .diff_next {background-color:#c0c0c0; width:1%}\n",
       "        .diff_add {background-color:#aaffaa}\n",
       "        .diff_chg {background-color:#ffff77}\n",
       "        .diff_sub {background-color:#ffaaaa}\n",
       "    </style>\n",
       "</head>\n",
       "\n",
       "<body>\n",
       "    \n",
       "    <table style=\"table-layout: fixed; width: 100%\" class=\"diff\" id=\"difflib_chg_to0__top\"\n",
       "           cellspacing=\"0\" cellpadding=\"0\" rules=\"groups\" >\n",
       "        <colgroup></colgroup> <colgroup></colgroup> <colgroup></colgroup>\n",
       "        <colgroup></colgroup> <colgroup></colgroup> <colgroup></colgroup>\n",
       "        \n",
       "        <tbody>\n",
       "            <tr><td style=\"word-wrap: break-word\" class=\"diff_next\" id=\"difflib_chg_to0__1\"><a href=\"#difflib_chg_to0__0\">f</a></td><td style=\"word-wrap: break-word\" class=\"diff_header\" id=\"from0_1\">1</td><td style=\"word-wrap: break-word\" >Dear&nbsp;NOAA&nbsp;Administrator&nbsp;Spinrad&nbsp;and&nbsp;NOAA&nbsp;Fisheries&nbsp;Assistant&nbsp;Administrator&nbsp;Coit:</td><td style=\"word-wrap: break-word\" class=\"diff_next\"><a href=\"#difflib_chg_to0__0\">f</a></td><td style=\"word-wrap: break-word\" class=\"diff_header\" id=\"to0_1\">1</td><td style=\"word-wrap: break-word\" >Dear&nbsp;NOAA&nbsp;Administrator&nbsp;Spinrad&nbsp;and&nbsp;NOAA&nbsp;Fisheries&nbsp;Assistant&nbsp;Administrator&nbsp;Coit:</td></tr>\n",
       "            <tr><td style=\"word-wrap: break-word\" class=\"diff_next\" id=\"difflib_chg_to0__2\"></td><td style=\"word-wrap: break-word\" class=\"diff_header\" id=\"from0_2\">2</td><td style=\"word-wrap: break-word\" ></td><td style=\"word-wrap: break-word\" class=\"diff_next\"></td><td style=\"word-wrap: break-word\" class=\"diff_header\" id=\"to0_2\">2</td><td style=\"word-wrap: break-word\" ></td></tr>\n",
       "            <tr><td style=\"word-wrap: break-word\" class=\"diff_next\"><a href=\"#difflib_chg_to0__1\">n</a></td><td style=\"word-wrap: break-word\" class=\"diff_header\" id=\"from0_3\">3</td><td style=\"word-wrap: break-word\" ><span class=\"diff_sub\">The&nbsp;United&nbsp;States&nbsp;needs&nbsp;an&nbsp;effective&nbsp;seafood&nbsp;traceability&nbsp;program&nbsp;to&nbsp;intercept&nbsp;the&nbsp;flow&nbsp;of&nbsp;illegal&nbsp;seafood&nbsp;into&nbsp;our&nbsp;markets.&nbsp;Illegal&nbsp;fishing&nbsp;is&nbsp;a&nbsp;top&nbsp;driver&nbsp;of&nbsp;unsustainable&nbsp;and&nbsp;environmentally&nbsp;harmful&nbsp;fishing&nbsp;practices&nbsp;around&nbsp;the&nbsp;globe,&nbsp;as&nbsp;well&nbsp;as&nbsp;associated&nbsp;human&nbsp;rights&nbsp;abuses&nbsp;in&nbsp;the&nbsp;seafood&nbsp;sector.&nbsp;The&nbsp;newly&nbsp;proposed&nbsp;changes&nbsp;to&nbsp;the&nbsp;Seafood&nbsp;Import&nbsp;Monitoring&nbsp;Program&nbsp;do&nbsp;not&nbsp;go&nbsp;far&nbsp;enough&nbsp;to&nbsp;help&nbsp;end&nbsp;the&nbsp;U.S.'s&nbsp;role&nbsp;in&nbsp;perpetuating&nbsp;human&nbsp;rights&nbsp;abuses&nbsp;and&nbsp;environmental&nbsp;destruction&nbsp;in&nbsp;the&nbsp;seafood&nbsp;industry.&nbsp;</span></td><td style=\"word-wrap: break-word\" class=\"diff_next\"><a href=\"#difflib_chg_to0__1\">n</a></td><td style=\"word-wrap: break-word\" class=\"diff_header\" id=\"to0_3\">3</td><td style=\"word-wrap: break-word\" ><span class=\"diff_add\">It&nbsp;seems&nbsp;clear&nbsp;that&nbsp;the&nbsp;United&nbsp;States&nbsp;must&nbsp;adopt&nbsp;an&nbsp;effective&nbsp;seafood&nbsp;traceability&nbsp;program&nbsp;to&nbsp;intercept&nbsp;the&nbsp;illegal&nbsp;seafood&nbsp;going&nbsp;into&nbsp;our&nbsp;markets.&nbsp;Illegal&nbsp;fishing&nbsp;is&nbsp;a&nbsp;MAJOR&nbsp;cause&nbsp;of&nbsp;unsustainable&nbsp;and&nbsp;environmentally&nbsp;destructive&nbsp;fishing&nbsp;practices&nbsp;around&nbsp;the&nbsp;globe,&nbsp;as&nbsp;well&nbsp;as&nbsp;associated&nbsp;human&nbsp;rights&nbsp;abuses&nbsp;in&nbsp;the&nbsp;seafood&nbsp;sector.&nbsp;The&nbsp;newly&nbsp;proposed&nbsp;changes&nbsp;to&nbsp;the&nbsp;Seafood&nbsp;Import&nbsp;Monitoring&nbsp;Program&nbsp;are&nbsp;not&nbsp;sufficient&nbsp;to&nbsp;help&nbsp;end&nbsp;the&nbsp;U.S.'s&nbsp;role&nbsp;in&nbsp;perpetuating&nbsp;human&nbsp;rights&nbsp;abuses&nbsp;and&nbsp;environmental&nbsp;destruction&nbsp;in&nbsp;the&nbsp;seafood&nbsp;industry.&nbsp;</span></td></tr>\n",
       "            <tr><td style=\"word-wrap: break-word\" class=\"diff_next\" id=\"difflib_chg_to0__3\"></td><td style=\"word-wrap: break-word\" class=\"diff_header\" id=\"from0_4\">4</td><td style=\"word-wrap: break-word\" ></td><td style=\"word-wrap: break-word\" class=\"diff_next\"></td><td style=\"word-wrap: break-word\" class=\"diff_header\" id=\"to0_4\">4</td><td style=\"word-wrap: break-word\" ></td></tr>\n",
       "            <tr><td style=\"word-wrap: break-word\" class=\"diff_next\"><a href=\"#difflib_chg_to0__2\">n</a></td><td style=\"word-wrap: break-word\" class=\"diff_header\" id=\"from0_5\">5</td><td style=\"word-wrap: break-word\" >Illegal&nbsp;fishing&nbsp;is&nbsp;<span class=\"diff_chg\">destroying&nbsp;our</span>&nbsp;oceans.&nbsp;Years&nbsp;of&nbsp;overfishing&nbsp;in&nbsp;nearshore&nbsp;waters&nbsp;have&nbsp;forced&nbsp;boats&nbsp;to&nbsp;go&nbsp;into&nbsp;deeper&nbsp;waters,&nbsp;which&nbsp;makes&nbsp;fishing&nbsp;more&nbsp;expensive.&nbsp;Some&nbsp;fishers&nbsp;will&nbsp;cut&nbsp;costs&nbsp;by&nbsp;fishing&nbsp;with&nbsp;illegal&nbsp;gear,&nbsp;fishing&nbsp;in&nbsp;protected&nbsp;areas,&nbsp;or&nbsp;ignoring&nbsp;catch&nbsp;limits.&nbsp;To&nbsp;save&nbsp;on&nbsp;labor&nbsp;costs,&nbsp;some&nbsp;vessel&nbsp;owners&nbsp;rely&nbsp;on&nbsp;human&nbsp;traffickers,&nbsp;some&nbsp;even&nbsp;kidnapping&nbsp;or&nbsp;drugging&nbsp;workers&nbsp;to&nbsp;get&nbsp;them&nbsp;on&nbsp;the&nbsp;ship&nbsp;and&nbsp;cut&nbsp;off&nbsp;from&nbsp;help.&nbsp;Further,&nbsp;the&nbsp;overseas&nbsp;seafood&nbsp;processing&nbsp;industry&nbsp;is&nbsp;heavily&nbsp;reliant&nbsp;on&nbsp;forced&nbsp;labor.&nbsp;&nbsp;</td><td style=\"word-wrap: break-word\" class=\"diff_next\"><a href=\"#difflib_chg_to0__2\">n</a></td><td style=\"word-wrap: break-word\" class=\"diff_header\" id=\"to0_5\">5</td><td style=\"word-wrap: break-word\" >Illegal&nbsp;fishing&nbsp;is&nbsp;<span class=\"diff_chg\">DEVASTATING&nbsp;our</span>&nbsp;oceans.&nbsp;Years&nbsp;of&nbsp;overfishing&nbsp;in&nbsp;nearshore&nbsp;waters&nbsp;have&nbsp;forced&nbsp;boats&nbsp;to&nbsp;go&nbsp;into&nbsp;deeper&nbsp;waters,&nbsp;which&nbsp;makes&nbsp;fishing&nbsp;more&nbsp;expensive.&nbsp;Some&nbsp;fishers&nbsp;will&nbsp;cut&nbsp;costs&nbsp;by&nbsp;fishing&nbsp;with&nbsp;illegal&nbsp;gear,&nbsp;fishing&nbsp;in&nbsp;protected&nbsp;areas,&nbsp;or&nbsp;ignoring&nbsp;catch&nbsp;limits.&nbsp;To&nbsp;save&nbsp;on&nbsp;labor&nbsp;costs,&nbsp;some&nbsp;vessel&nbsp;owners&nbsp;rely&nbsp;on&nbsp;human&nbsp;traffickers,&nbsp;some&nbsp;even&nbsp;kidnapping&nbsp;or&nbsp;drugging&nbsp;workers&nbsp;to&nbsp;get&nbsp;them&nbsp;on&nbsp;the&nbsp;ship&nbsp;and&nbsp;cut&nbsp;off&nbsp;from&nbsp;help.&nbsp;Further,&nbsp;the&nbsp;overseas&nbsp;seafood&nbsp;processing&nbsp;industry&nbsp;is&nbsp;heavily&nbsp;reliant&nbsp;on&nbsp;forced&nbsp;labor.&nbsp;&nbsp;</td></tr>\n",
       "            <tr><td style=\"word-wrap: break-word\" class=\"diff_next\" id=\"difflib_chg_to0__4\"></td><td style=\"word-wrap: break-word\" class=\"diff_header\" id=\"from0_6\">6</td><td style=\"word-wrap: break-word\" ></td><td style=\"word-wrap: break-word\" class=\"diff_next\"></td><td style=\"word-wrap: break-word\" class=\"diff_header\" id=\"to0_6\">6</td><td style=\"word-wrap: break-word\" ></td></tr>\n",
       "            <tr><td style=\"word-wrap: break-word\" class=\"diff_next\"><a href=\"#difflib_chg_to0__3\">n</a></td><td style=\"word-wrap: break-word\" class=\"diff_header\" id=\"from0_7\">7</td><td style=\"word-wrap: break-word\" ><span class=\"diff_sub\">The&nbsp;U.S.&nbsp;is&nbsp;one&nbsp;of&nbsp;the&nbsp;largest&nbsp;consumers&nbsp;of&nbsp;seafood.&nbsp;Approximately&nbsp;eighty&nbsp;percent&nbsp;of&nbsp;the&nbsp;seafood&nbsp;sold&nbsp;in&nbsp;the&nbsp;U.S.&nbsp;is&nbsp;imported,&nbsp;and&nbsp;as&nbsp;much&nbsp;as&nbsp;a&nbsp;third&nbsp;of&nbsp;the&nbsp;wild-caught&nbsp;seafood&nbsp;sold&nbsp;in&nbsp;the&nbsp;United&nbsp;States&nbsp;each&nbsp;year&nbsp;is&nbsp;illegal&nbsp;or&nbsp;unreported.&nbsp;&nbsp;</span></td><td style=\"word-wrap: break-word\" class=\"diff_next\"><a href=\"#difflib_chg_to0__3\">n</a></td><td style=\"word-wrap: break-word\" class=\"diff_header\" id=\"to0_7\">7</td><td style=\"word-wrap: break-word\" ><span class=\"diff_add\">The&nbsp;U.S.&nbsp;is&nbsp;one&nbsp;of&nbsp;the&nbsp;largest&nbsp;consumers&nbsp;of&nbsp;seafood.&nbsp;Apparently&nbsp;80%&nbsp;of&nbsp;the&nbsp;seafood&nbsp;sold&nbsp;in&nbsp;the&nbsp;U.S.&nbsp;is&nbsp;imported,&nbsp;and&nbsp;as&nbsp;much&nbsp;as&nbsp;a&nbsp;third&nbsp;of&nbsp;the&nbsp;wild-caught&nbsp;seafood&nbsp;sold&nbsp;in&nbsp;the&nbsp;United&nbsp;States&nbsp;each&nbsp;year&nbsp;is&nbsp;illegal&nbsp;or&nbsp;unreported.&nbsp;&nbsp;</span></td></tr>\n",
       "            <tr><td style=\"word-wrap: break-word\" class=\"diff_next\"></td><td style=\"word-wrap: break-word\" class=\"diff_header\" id=\"from0_8\">8</td><td style=\"word-wrap: break-word\" ></td><td style=\"word-wrap: break-word\" class=\"diff_next\"></td><td style=\"word-wrap: break-word\" class=\"diff_header\" id=\"to0_8\">8</td><td style=\"word-wrap: break-word\" ></td></tr>\n",
       "            <tr><td style=\"word-wrap: break-word\" class=\"diff_next\"><a href=\"#difflib_chg_to0__4\">n</a></td><td style=\"word-wrap: break-word\" class=\"diff_header\" id=\"from0_9\">9</td><td style=\"word-wrap: break-word\" >The&nbsp;U.S.&nbsp;government&nbsp;<span class=\"diff_chg\">has&nbsp;a&nbsp;responsibility&nbsp;to</span>&nbsp;fix&nbsp;these&nbsp;problems,&nbsp;and&nbsp;seafood&nbsp;traceability&nbsp;is&nbsp;an&nbsp;<span class=\"diff_chg\">essential&nbsp;step&nbsp;in&nbsp;the</span>&nbsp;fight&nbsp;to&nbsp;end&nbsp;illegal&nbsp;fishing&nbsp;and&nbsp;human&nbsp;rights&nbsp;abuses&nbsp;in&nbsp;the&nbsp;seafood&nbsp;industry.&nbsp;But&nbsp;under&nbsp;NOAA&nbsp;Fisheries’&nbsp;proposed&nbsp;rule,&nbsp;traceability&nbsp;requirements&nbsp;would&nbsp;apply&nbsp;to&nbsp;only&nbsp;half&nbsp;of&nbsp;seafood&nbsp;imports,&nbsp;leaving&nbsp;massive&nbsp;loopholes&nbsp;that&nbsp;are&nbsp;easy&nbsp;for&nbsp;bad&nbsp;actors&nbsp;to&nbsp;exploit.&nbsp;The&nbsp;proposed&nbsp;rule&nbsp;also&nbsp;fails&nbsp;to&nbsp;sufficiently&nbsp;address&nbsp;labor&nbsp;abuses&nbsp;in&nbsp;seafood&nbsp;supply&nbsp;chains,&nbsp;and&nbsp;it&nbsp;includes&nbsp;no&nbsp;commitment&nbsp;to&nbsp;improve&nbsp;enforcement&nbsp;of&nbsp;traceability&nbsp;requirements.&nbsp;</td><td style=\"word-wrap: break-word\" class=\"diff_next\"><a href=\"#difflib_chg_to0__4\">n</a></td><td style=\"word-wrap: break-word\" class=\"diff_header\" id=\"to0_9\">9</td><td style=\"word-wrap: break-word\" >The&nbsp;U.S.&nbsp;government&nbsp;<span class=\"diff_chg\">MUST</span>&nbsp;fix&nbsp;these&nbsp;problems,&nbsp;and&nbsp;seafood&nbsp;traceability&nbsp;is&nbsp;an&nbsp;<span class=\"diff_chg\">CRITICAL&nbsp;step&nbsp;in&nbsp;the</span>&nbsp;fight&nbsp;to&nbsp;end&nbsp;illegal&nbsp;fishing&nbsp;and&nbsp;human&nbsp;rights&nbsp;abuses&nbsp;in&nbsp;the&nbsp;seafood&nbsp;industry.&nbsp;But&nbsp;under&nbsp;NOAA&nbsp;Fisheries’&nbsp;proposed&nbsp;rule,&nbsp;traceability&nbsp;requirements&nbsp;would&nbsp;apply&nbsp;to&nbsp;only&nbsp;half&nbsp;of&nbsp;seafood&nbsp;imports,&nbsp;leaving&nbsp;massive&nbsp;loopholes&nbsp;that&nbsp;are&nbsp;easy&nbsp;for&nbsp;bad&nbsp;actors&nbsp;to&nbsp;exploit.&nbsp;The&nbsp;proposed&nbsp;rule&nbsp;also&nbsp;fails&nbsp;to&nbsp;sufficiently&nbsp;address&nbsp;labor&nbsp;abuses&nbsp;in&nbsp;seafood&nbsp;supply&nbsp;chains,&nbsp;and&nbsp;it&nbsp;includes&nbsp;no&nbsp;commitment&nbsp;to&nbsp;improve&nbsp;enforcement&nbsp;of&nbsp;traceability&nbsp;requirements.&nbsp;</td></tr>\n",
       "            <tr><td style=\"word-wrap: break-word\" class=\"diff_next\"></td><td style=\"word-wrap: break-word\" class=\"diff_header\" id=\"from0_10\">10</td><td style=\"word-wrap: break-word\" ></td><td style=\"word-wrap: break-word\" class=\"diff_next\"></td><td style=\"word-wrap: break-word\" class=\"diff_header\" id=\"to0_10\">10</td><td style=\"word-wrap: break-word\" ></td></tr>\n",
       "            <tr><td style=\"word-wrap: break-word\" class=\"diff_next\"><a href=\"#difflib_chg_to0__top\">t</a></td><td style=\"word-wrap: break-word\" class=\"diff_header\" id=\"from0_11\">11</td><td style=\"word-wrap: break-word\" >Please&nbsp;revise&nbsp;the&nbsp;Seafood&nbsp;Import&nbsp;Monitoring&nbsp;Program&nbsp;proposed&nbsp;rule&nbsp;to&nbsp;adopt&nbsp;the&nbsp;strongest&nbsp;possible&nbsp;standards&nbsp;for&nbsp;seafood&nbsp;traceability&nbsp;to&nbsp;intercept&nbsp;the&nbsp;flow&nbsp;of&nbsp;illegal&nbsp;seafood&nbsp;into&nbsp;the&nbsp;U.S.&nbsp;and&nbsp;help&nbsp;consumers&nbsp;feel&nbsp;confident&nbsp;the&nbsp;seafood&nbsp;they&nbsp;buy&nbsp;is&nbsp;legally&nbsp;caught&nbsp;and&nbsp;not&nbsp;a&nbsp;product&nbsp;of&nbsp;labor&nbsp;abuses.&nbsp;<span class=\"diff_sub\">Thank&nbsp;you&nbsp;for&nbsp;helping&nbsp;to&nbsp;address&nbsp;these&nbsp;environmental&nbsp;and&nbsp;human&nbsp;rights&nbsp;crimes&nbsp;with&nbsp;the&nbsp;seriousness&nbsp;they&nbsp;deserve.</span></td><td style=\"word-wrap: break-word\" class=\"diff_next\"><a href=\"#difflib_chg_to0__top\">t</a></td><td style=\"word-wrap: break-word\" class=\"diff_header\" id=\"to0_11\">11</td><td style=\"word-wrap: break-word\" >Please&nbsp;revise&nbsp;the&nbsp;Seafood&nbsp;Import&nbsp;Monitoring&nbsp;Program&nbsp;proposed&nbsp;rule&nbsp;to&nbsp;adopt&nbsp;the&nbsp;strongest&nbsp;possible&nbsp;standards&nbsp;for&nbsp;seafood&nbsp;traceability&nbsp;to&nbsp;intercept&nbsp;the&nbsp;flow&nbsp;of&nbsp;illegal&nbsp;seafood&nbsp;into&nbsp;the&nbsp;U.S.&nbsp;and&nbsp;help&nbsp;consumers&nbsp;feel&nbsp;confident&nbsp;the&nbsp;seafood&nbsp;they&nbsp;buy&nbsp;is&nbsp;legally&nbsp;caught&nbsp;and&nbsp;not&nbsp;a&nbsp;product&nbsp;of&nbsp;labor&nbsp;abuses.&nbsp;</td></tr>\n",
       "            <tr><td style=\"word-wrap: break-word\" class=\"diff_next\"></td><td style=\"word-wrap: break-word\" class=\"diff_header\"></td><td style=\"word-wrap: break-word\" ></td><td style=\"word-wrap: break-word\" class=\"diff_next\"></td><td style=\"word-wrap: break-word\" class=\"diff_header\" id=\"to0_12\">12</td><td style=\"word-wrap: break-word\" ><span class=\"diff_add\">&nbsp;</span></td></tr>\n",
       "            <tr><td style=\"word-wrap: break-word\" class=\"diff_next\"></td><td style=\"word-wrap: break-word\" class=\"diff_header\"></td><td style=\"word-wrap: break-word\" ></td><td style=\"word-wrap: break-word\" class=\"diff_next\"></td><td style=\"word-wrap: break-word\" class=\"diff_header\" id=\"to0_13\">13</td><td style=\"word-wrap: break-word\" ><span class=\"diff_add\">Thank&nbsp;you&nbsp;for&nbsp;helping&nbsp;to&nbsp;address&nbsp;these&nbsp;environmental&nbsp;and&nbsp;human&nbsp;rights&nbsp;crimes&nbsp;with&nbsp;the&nbsp;seriousness&nbsp;they&nbsp;deserve.</span></td></tr>\n",
       "        </tbody>\n",
       "    </table>\n",
       "    <table style=\"table-layout: fixed; width: 100%\" class=\"diff\" summary=\"Legends\">\n",
       "        <tr> <th colspan=\"2\"> Legends </th> </tr>\n",
       "        <tr> <td style=\"word-wrap: break-word\"> <table style=\"table-layout: fixed; width: 100%\" border=\"\" summary=\"Colors\">\n",
       "                      <tr><th> Colors </th> </tr>\n",
       "                      <tr><td style=\"word-wrap: break-word\" class=\"diff_add\">&nbsp;Added&nbsp;</td></tr>\n",
       "                      <tr><td style=\"word-wrap: break-word\" class=\"diff_chg\">Changed</td> </tr>\n",
       "                      <tr><td style=\"word-wrap: break-word\" class=\"diff_sub\">Deleted</td> </tr>\n",
       "                  </table></td>\n",
       "             <td style=\"word-wrap: break-word\"> <table style=\"table-layout: fixed; width: 100%\" border=\"\" summary=\"Links\">\n",
       "                      <tr><th colspan=\"2\"> Links </th> </tr>\n",
       "                      <tr><td style=\"word-wrap: break-word\">(f)irst change</td> </tr>\n",
       "                      <tr><td style=\"word-wrap: break-word\">(n)ext change</td> </tr>\n",
       "                      <tr><td style=\"word-wrap: break-word\">(t)op</td> </tr>\n",
       "                  </table></td> </tr>\n",
       "    </table>\n",
       "</body>\n",
       "\n",
       "</html>"
      ],
      "text/plain": [
       "<IPython.core.display.HTML object>"
      ]
     },
     "metadata": {},
     "output_type": "display_data"
    },
    {
     "data": {
      "text/html": [
       "\n",
       "<!DOCTYPE html PUBLIC \"-//W3C//DTD XHTML 1.0 Transitional//EN\"\n",
       "          \"http://www.w3.org/TR/xhtml1/DTD/xhtml1-transitional.dtd\">\n",
       "\n",
       "<html>\n",
       "\n",
       "<head>\n",
       "    <meta http-equiv=\"Content-Type\"\n",
       "          content=\"text/html; charset=utf-8\" />\n",
       "    <title></title>\n",
       "    <style type=\"text/css\">\n",
       "        table.diff {font-family:Courier; border:medium;}\n",
       "        .diff_header {background-color:#e0e0e0}\n",
       "        td.diff_header {text-align:right; width:1%}\n",
       "        .diff_next {background-color:#c0c0c0; width:1%}\n",
       "        .diff_add {background-color:#aaffaa}\n",
       "        .diff_chg {background-color:#ffff77}\n",
       "        .diff_sub {background-color:#ffaaaa}\n",
       "    </style>\n",
       "</head>\n",
       "\n",
       "<body>\n",
       "    \n",
       "    <table style=\"table-layout: fixed; width: 100%\" class=\"diff\" id=\"difflib_chg_to1__top\"\n",
       "           cellspacing=\"0\" cellpadding=\"0\" rules=\"groups\" >\n",
       "        <colgroup></colgroup> <colgroup></colgroup> <colgroup></colgroup>\n",
       "        <colgroup></colgroup> <colgroup></colgroup> <colgroup></colgroup>\n",
       "        \n",
       "        <tbody>\n",
       "            <tr><td style=\"word-wrap: break-word\" class=\"diff_next\" id=\"difflib_chg_to1__1\"><a href=\"#difflib_chg_to1__0\">f</a></td><td style=\"word-wrap: break-word\" class=\"diff_header\" id=\"from1_1\">1</td><td style=\"word-wrap: break-word\" >Dear&nbsp;NOAA&nbsp;Administrator&nbsp;Spinrad&nbsp;and&nbsp;NOAA&nbsp;Fisheries&nbsp;Assistant&nbsp;Administrator&nbsp;Coit:</td><td style=\"word-wrap: break-word\" class=\"diff_next\"><a href=\"#difflib_chg_to1__0\">f</a></td><td style=\"word-wrap: break-word\" class=\"diff_header\" id=\"to1_1\">1</td><td style=\"word-wrap: break-word\" >Dear&nbsp;NOAA&nbsp;Administrator&nbsp;Spinrad&nbsp;and&nbsp;NOAA&nbsp;Fisheries&nbsp;Assistant&nbsp;Administrator&nbsp;Coit:</td></tr>\n",
       "            <tr><td style=\"word-wrap: break-word\" class=\"diff_next\"></td><td style=\"word-wrap: break-word\" class=\"diff_header\" id=\"from1_2\">2</td><td style=\"word-wrap: break-word\" ></td><td style=\"word-wrap: break-word\" class=\"diff_next\"></td><td style=\"word-wrap: break-word\" class=\"diff_header\" id=\"to1_2\">2</td><td style=\"word-wrap: break-word\" ></td></tr>\n",
       "            <tr><td style=\"word-wrap: break-word\" class=\"diff_next\"><a href=\"#difflib_chg_to1__1\">n</a></td><td style=\"word-wrap: break-word\" class=\"diff_header\" id=\"from1_3\">3</td><td style=\"word-wrap: break-word\" ><span class=\"diff_sub\">The&nbsp;United&nbsp;States&nbsp;needs&nbsp;an&nbsp;effective&nbsp;seafood&nbsp;traceability&nbsp;program&nbsp;to&nbsp;intercept&nbsp;the&nbsp;flow&nbsp;of&nbsp;illegal&nbsp;seafood&nbsp;into&nbsp;our&nbsp;markets.&nbsp;Illegal&nbsp;fishing&nbsp;is&nbsp;a&nbsp;top&nbsp;driver&nbsp;of&nbsp;unsustainable&nbsp;and&nbsp;environmentally&nbsp;harmful&nbsp;fishing&nbsp;practices&nbsp;around&nbsp;the&nbsp;globe,&nbsp;as&nbsp;well&nbsp;as&nbsp;associated&nbsp;human&nbsp;rights&nbsp;abuses&nbsp;in&nbsp;the&nbsp;seafood&nbsp;sector.&nbsp;The&nbsp;newly&nbsp;proposed&nbsp;changes&nbsp;to&nbsp;the&nbsp;Seafood&nbsp;Import&nbsp;Monitoring&nbsp;Program&nbsp;do&nbsp;not&nbsp;go&nbsp;far&nbsp;enough&nbsp;to&nbsp;help&nbsp;end&nbsp;the&nbsp;U.S.'s&nbsp;role&nbsp;in&nbsp;perpetuating&nbsp;human&nbsp;rights&nbsp;abuses&nbsp;and&nbsp;environmental&nbsp;destruction&nbsp;in&nbsp;the&nbsp;seafood&nbsp;industry.&nbsp;</span></td><td style=\"word-wrap: break-word\" class=\"diff_next\"><a href=\"#difflib_chg_to1__1\">n</a></td><td style=\"word-wrap: break-word\" class=\"diff_header\" id=\"to1_3\">3</td><td style=\"word-wrap: break-word\" ><span class=\"diff_add\">The&nbsp;United&nbsp;States&nbsp;needs&nbsp;a&nbsp;traceability&nbsp;program&nbsp;that&nbsp;works&nbsp;for&nbsp;seafood.&nbsp;&nbsp;Such&nbsp;a&nbsp;program&nbsp;could&nbsp;interrupt&nbsp;the&nbsp;flow&nbsp;of&nbsp;illegal&nbsp;seafood&nbsp;into&nbsp;our&nbsp;markets.&nbsp;&nbsp;</span></td></tr>\n",
       "            <tr><td style=\"word-wrap: break-word\" class=\"diff_next\"></td><td style=\"word-wrap: break-word\" class=\"diff_header\" id=\"from1_4\">4</td><td style=\"word-wrap: break-word\" ></td><td style=\"word-wrap: break-word\" class=\"diff_next\"></td><td style=\"word-wrap: break-word\" class=\"diff_header\" id=\"to1_4\">4</td><td style=\"word-wrap: break-word\" ></td></tr>\n",
       "            <tr><td style=\"word-wrap: break-word\" class=\"diff_next\"><a href=\"#difflib_chg_to1__2\">n</a></td><td style=\"word-wrap: break-word\" class=\"diff_header\"></td><td style=\"word-wrap: break-word\" ></td><td style=\"word-wrap: break-word\" class=\"diff_next\"><a href=\"#difflib_chg_to1__2\">n</a></td><td style=\"word-wrap: break-word\" class=\"diff_header\" id=\"to1_5\">5</td><td style=\"word-wrap: break-word\" ><span class=\"diff_add\">Illegal&nbsp;fishing&nbsp;is&nbsp;killing&nbsp;the&nbsp;health&nbsp;of&nbsp;our&nbsp;oceans.&nbsp;&nbsp;It&nbsp;is&nbsp;driving&nbsp;unsustainable&nbsp;and&nbsp;environmentally&nbsp;destructive&nbsp;fishing&nbsp;practices&nbsp;around&nbsp;the&nbsp;globe.&nbsp;&nbsp;Moreover,&nbsp;it&nbsp;uses&nbsp;and&nbsp;abuse&nbsp;the&nbsp;human&nbsp;rights&nbsp;of&nbsp;its&nbsp;workers&nbsp;in&nbsp;the&nbsp;seafood&nbsp;sector.&nbsp;&nbsp;The&nbsp;newly&nbsp;proposed&nbsp;changes&nbsp;to&nbsp;the&nbsp;Seafood&nbsp;Import&nbsp;Monitoring&nbsp;Program&nbsp;do&nbsp;not&nbsp;go&nbsp;nearly&nbsp;far&nbsp;enough&nbsp;to&nbsp;help&nbsp;end&nbsp;the&nbsp;U.S.'s&nbsp;role&nbsp;in&nbsp;allowing/encouraging&nbsp;human&nbsp;rights&nbsp;abuses&nbsp;and&nbsp;environmental&nbsp;destruction&nbsp;in&nbsp;the&nbsp;seafood&nbsp;industry.&nbsp;</span></td></tr>\n",
       "            <tr><td style=\"word-wrap: break-word\" class=\"diff_next\" id=\"difflib_chg_to1__2\"></td><td style=\"word-wrap: break-word\" class=\"diff_header\"></td><td style=\"word-wrap: break-word\" ></td><td style=\"word-wrap: break-word\" class=\"diff_next\"></td><td style=\"word-wrap: break-word\" class=\"diff_header\" id=\"to1_6\">6</td><td style=\"word-wrap: break-word\" ><span class=\"diff_add\">&nbsp;</span></td></tr>\n",
       "            <tr><td style=\"word-wrap: break-word\" class=\"diff_next\"></td><td style=\"word-wrap: break-word\" class=\"diff_header\" id=\"from1_5\">5</td><td style=\"word-wrap: break-word\" >Illegal&nbsp;fishing&nbsp;is&nbsp;destroying&nbsp;our&nbsp;oceans.&nbsp;Years&nbsp;of&nbsp;overfishing&nbsp;in&nbsp;nearshore&nbsp;waters&nbsp;have&nbsp;forced&nbsp;boats&nbsp;to&nbsp;go&nbsp;into&nbsp;deeper&nbsp;waters,&nbsp;which&nbsp;makes&nbsp;fishing&nbsp;more&nbsp;expensive.&nbsp;Some&nbsp;fishers&nbsp;will&nbsp;cut&nbsp;costs&nbsp;by&nbsp;fishing&nbsp;with&nbsp;illegal&nbsp;gear,&nbsp;fishing&nbsp;in&nbsp;protected&nbsp;areas,&nbsp;<span class=\"diff_chg\">or&nbsp;ignoring&nbsp;catch</span>&nbsp;limits.&nbsp;To&nbsp;<span class=\"diff_chg\">save&nbsp;on</span>&nbsp;labor&nbsp;costs,&nbsp;some&nbsp;vessel&nbsp;owners&nbsp;rely&nbsp;on&nbsp;human&nbsp;traffickers,&nbsp;some&nbsp;even&nbsp;kidnapping&nbsp;or&nbsp;drugging&nbsp;workers&nbsp;to&nbsp;get&nbsp;them&nbsp;on&nbsp;the&nbsp;ship&nbsp;and&nbsp;cut&nbsp;off&nbsp;from&nbsp;help.&nbsp;Further,&nbsp;the&nbsp;overseas&nbsp;seafood&nbsp;processing&nbsp;industry&nbsp;is&nbsp;heavily&nbsp;reliant&nbsp;on&nbsp;forced&nbsp;labor.&nbsp;&nbsp;</td><td style=\"word-wrap: break-word\" class=\"diff_next\"></td><td style=\"word-wrap: break-word\" class=\"diff_header\" id=\"to1_7\">7</td><td style=\"word-wrap: break-word\" >Illegal&nbsp;fishing&nbsp;is&nbsp;destroying&nbsp;our&nbsp;oceans.&nbsp;Years&nbsp;of&nbsp;overfishing&nbsp;in&nbsp;nearshore&nbsp;waters&nbsp;have&nbsp;forced&nbsp;boats&nbsp;to&nbsp;go&nbsp;into&nbsp;deeper&nbsp;waters,&nbsp;which&nbsp;makes&nbsp;fishing&nbsp;more&nbsp;expensive.&nbsp;Some&nbsp;fishers&nbsp;will&nbsp;cut&nbsp;costs&nbsp;by&nbsp;fishing&nbsp;with&nbsp;illegal&nbsp;gear,&nbsp;fishing&nbsp;in&nbsp;protected&nbsp;areas,&nbsp;<span class=\"diff_chg\">and&nbsp;ignoring&nbsp;catch</span>&nbsp;limits.&nbsp;<span class=\"diff_add\">&nbsp;</span>To&nbsp;<span class=\"diff_chg\">minimize</span>&nbsp;labor&nbsp;costs,&nbsp;some&nbsp;vessel&nbsp;owners&nbsp;rely&nbsp;on&nbsp;human&nbsp;traffickers,&nbsp;some&nbsp;even&nbsp;kidnapping&nbsp;or&nbsp;drugging&nbsp;workers&nbsp;to&nbsp;get&nbsp;them&nbsp;on&nbsp;the&nbsp;ship&nbsp;and&nbsp;cut&nbsp;off&nbsp;from&nbsp;help.&nbsp;<span class=\"diff_add\">&nbsp;</span>Further,&nbsp;the&nbsp;overseas&nbsp;seafood&nbsp;processing&nbsp;industry&nbsp;is&nbsp;heavily&nbsp;reliant&nbsp;on&nbsp;forced&nbsp;labor.&nbsp;&nbsp;</td></tr>\n",
       "            <tr><td style=\"word-wrap: break-word\" class=\"diff_next\" id=\"difflib_chg_to1__3\"></td><td style=\"word-wrap: break-word\" class=\"diff_header\" id=\"from1_6\">6</td><td style=\"word-wrap: break-word\" ></td><td style=\"word-wrap: break-word\" class=\"diff_next\"></td><td style=\"word-wrap: break-word\" class=\"diff_header\" id=\"to1_8\">8</td><td style=\"word-wrap: break-word\" ></td></tr>\n",
       "            <tr><td style=\"word-wrap: break-word\" class=\"diff_next\"></td><td style=\"word-wrap: break-word\" class=\"diff_header\" id=\"from1_7\">7</td><td style=\"word-wrap: break-word\" >The&nbsp;U.S.&nbsp;is&nbsp;one&nbsp;of&nbsp;the&nbsp;largest&nbsp;consumers&nbsp;of&nbsp;seafood.&nbsp;Approximately&nbsp;eighty&nbsp;percent&nbsp;of&nbsp;the&nbsp;seafood&nbsp;sold&nbsp;in&nbsp;the&nbsp;U.S.&nbsp;is&nbsp;imported,&nbsp;and&nbsp;as&nbsp;much&nbsp;as&nbsp;a&nbsp;third&nbsp;of&nbsp;the&nbsp;wild-caught&nbsp;seafood&nbsp;sold&nbsp;in&nbsp;the&nbsp;United&nbsp;States&nbsp;each&nbsp;year&nbsp;is&nbsp;illegal&nbsp;or&nbsp;unreported.&nbsp;&nbsp;</td><td style=\"word-wrap: break-word\" class=\"diff_next\"></td><td style=\"word-wrap: break-word\" class=\"diff_header\" id=\"to1_9\">9</td><td style=\"word-wrap: break-word\" >The&nbsp;U.S.&nbsp;is&nbsp;one&nbsp;of&nbsp;the&nbsp;largest&nbsp;consumers&nbsp;of&nbsp;seafood.&nbsp;Approximately&nbsp;eighty&nbsp;percent&nbsp;of&nbsp;the&nbsp;seafood&nbsp;sold&nbsp;in&nbsp;the&nbsp;U.S.&nbsp;is&nbsp;imported,&nbsp;and&nbsp;as&nbsp;much&nbsp;as&nbsp;a&nbsp;third&nbsp;of&nbsp;the&nbsp;wild-caught&nbsp;seafood&nbsp;sold&nbsp;in&nbsp;the&nbsp;United&nbsp;States&nbsp;each&nbsp;year&nbsp;is&nbsp;illegal&nbsp;or&nbsp;unreported.&nbsp;&nbsp;</td></tr>\n",
       "            <tr><td style=\"word-wrap: break-word\" class=\"diff_next\"></td><td style=\"word-wrap: break-word\" class=\"diff_header\" id=\"from1_8\">8</td><td style=\"word-wrap: break-word\" ></td><td style=\"word-wrap: break-word\" class=\"diff_next\"></td><td style=\"word-wrap: break-word\" class=\"diff_header\" id=\"to1_10\">10</td><td style=\"word-wrap: break-word\" ></td></tr>\n",
       "            <tr><td style=\"word-wrap: break-word\" class=\"diff_next\"><a href=\"#difflib_chg_to1__3\">n</a></td><td style=\"word-wrap: break-word\" class=\"diff_header\" id=\"from1_9\">9</td><td style=\"word-wrap: break-word\" ><span class=\"diff_sub\">The&nbsp;U.S.&nbsp;government&nbsp;has&nbsp;a&nbsp;responsibility&nbsp;to&nbsp;fix&nbsp;these&nbsp;problems,&nbsp;and&nbsp;seafood&nbsp;traceability&nbsp;is&nbsp;an&nbsp;essential&nbsp;step&nbsp;in&nbsp;the&nbsp;fight&nbsp;to&nbsp;end&nbsp;illegal&nbsp;fishing&nbsp;and&nbsp;human&nbsp;rights&nbsp;abuses&nbsp;in&nbsp;the&nbsp;seafood&nbsp;industry.&nbsp;But&nbsp;under&nbsp;NOAA&nbsp;Fisheries’&nbsp;proposed&nbsp;rule,&nbsp;traceability&nbsp;requirements&nbsp;would&nbsp;apply&nbsp;to&nbsp;only&nbsp;half&nbsp;of&nbsp;seafood&nbsp;imports,&nbsp;leaving&nbsp;massive&nbsp;loopholes&nbsp;that&nbsp;are&nbsp;easy&nbsp;for&nbsp;bad&nbsp;actors&nbsp;to&nbsp;exploit.&nbsp;The&nbsp;proposed&nbsp;rule&nbsp;also&nbsp;fails&nbsp;to&nbsp;sufficiently&nbsp;address&nbsp;labor&nbsp;abuses&nbsp;in&nbsp;seafood&nbsp;supply&nbsp;chains,&nbsp;and&nbsp;it&nbsp;includes&nbsp;no&nbsp;commitment&nbsp;to&nbsp;improve&nbsp;enforcement&nbsp;of&nbsp;traceability&nbsp;requirements.&nbsp;</span></td><td style=\"word-wrap: break-word\" class=\"diff_next\"><a href=\"#difflib_chg_to1__3\">n</a></td><td style=\"word-wrap: break-word\" class=\"diff_header\" id=\"to1_11\">11</td><td style=\"word-wrap: break-word\" ><span class=\"diff_add\">The&nbsp;U.S.&nbsp;government&nbsp;has&nbsp;a&nbsp;responsibility&nbsp;to&nbsp;fix&nbsp;these&nbsp;problems.&nbsp;&nbsp;Seafood&nbsp;traceability&nbsp;is&nbsp;an&nbsp;essential&nbsp;step&nbsp;to&nbsp;stopping&nbsp;illegal&nbsp;fishing&nbsp;and&nbsp;human&nbsp;rights&nbsp;abuses&nbsp;in&nbsp;the&nbsp;seafood&nbsp;industry.&nbsp;&nbsp;But&nbsp;under&nbsp;NOAA&nbsp;Fisheries’&nbsp;proposed&nbsp;rule,&nbsp;traceability&nbsp;requirements&nbsp;would&nbsp;apply&nbsp;to&nbsp;only&nbsp;half&nbsp;of&nbsp;seafood&nbsp;imports,&nbsp;leaving&nbsp;massive&nbsp;loopholes&nbsp;that&nbsp;are&nbsp;easy&nbsp;for&nbsp;bad&nbsp;actors&nbsp;to&nbsp;exploit.&nbsp;&nbsp;The&nbsp;proposed&nbsp;rule&nbsp;fails&nbsp;to&nbsp;sufficiently&nbsp;address&nbsp;labor&nbsp;abuses&nbsp;in&nbsp;seafood&nbsp;supply&nbsp;chains.&nbsp;&nbsp;</span></td></tr>\n",
       "            <tr><td style=\"word-wrap: break-word\" class=\"diff_next\"></td><td style=\"word-wrap: break-word\" class=\"diff_header\" id=\"from1_10\">10</td><td style=\"word-wrap: break-word\" ></td><td style=\"word-wrap: break-word\" class=\"diff_next\"></td><td style=\"word-wrap: break-word\" class=\"diff_header\" id=\"to1_12\">12</td><td style=\"word-wrap: break-word\" ></td></tr>\n",
       "            <tr><td style=\"word-wrap: break-word\" class=\"diff_next\"><a href=\"#difflib_chg_to1__top\">t</a></td><td style=\"word-wrap: break-word\" class=\"diff_header\" id=\"from1_11\">11</td><td style=\"word-wrap: break-word\" ><span class=\"diff_sub\">Please&nbsp;revise&nbsp;the&nbsp;Seafood&nbsp;Import&nbsp;Monitoring&nbsp;Program&nbsp;proposed&nbsp;rule&nbsp;to&nbsp;adopt&nbsp;the&nbsp;strongest&nbsp;possible&nbsp;standards&nbsp;for&nbsp;seafood&nbsp;traceability&nbsp;to&nbsp;intercept&nbsp;the&nbsp;flow&nbsp;of&nbsp;illegal&nbsp;seafood&nbsp;into&nbsp;the&nbsp;U.S.&nbsp;and&nbsp;help&nbsp;consumers&nbsp;feel&nbsp;confident&nbsp;the&nbsp;seafood&nbsp;they&nbsp;buy&nbsp;is&nbsp;legally&nbsp;caught&nbsp;and&nbsp;not&nbsp;a&nbsp;product&nbsp;of&nbsp;labor&nbsp;abuses.&nbsp;Thank&nbsp;you&nbsp;for&nbsp;helping&nbsp;to&nbsp;address&nbsp;these&nbsp;environmental&nbsp;and&nbsp;human&nbsp;rights&nbsp;crimes&nbsp;with&nbsp;the&nbsp;seriousness&nbsp;they&nbsp;deserve.</span></td><td style=\"word-wrap: break-word\" class=\"diff_next\"><a href=\"#difflib_chg_to1__top\">t</a></td><td style=\"word-wrap: break-word\" class=\"diff_header\" id=\"to1_13\">13</td><td style=\"word-wrap: break-word\" ><span class=\"diff_add\">Besides,&nbsp;there&nbsp;is&nbsp;no&nbsp;commitment&nbsp;to&nbsp;improve&nbsp;enforcement&nbsp;of&nbsp;traceability&nbsp;requirements.&nbsp;</span></td></tr>\n",
       "            <tr><td style=\"word-wrap: break-word\" class=\"diff_next\"></td><td style=\"word-wrap: break-word\" class=\"diff_header\"></td><td style=\"word-wrap: break-word\" ></td><td style=\"word-wrap: break-word\" class=\"diff_next\"></td><td style=\"word-wrap: break-word\" class=\"diff_header\" id=\"to1_14\">14</td><td style=\"word-wrap: break-word\" ><span class=\"diff_add\">&nbsp;</span></td></tr>\n",
       "            <tr><td style=\"word-wrap: break-word\" class=\"diff_next\"></td><td style=\"word-wrap: break-word\" class=\"diff_header\"></td><td style=\"word-wrap: break-word\" ></td><td style=\"word-wrap: break-word\" class=\"diff_next\"></td><td style=\"word-wrap: break-word\" class=\"diff_header\" id=\"to1_15\">15</td><td style=\"word-wrap: break-word\" ><span class=\"diff_add\">Please,&nbsp;rework&nbsp;the&nbsp;Seafood&nbsp;Import&nbsp;Monitoring&nbsp;Program&nbsp;proposed&nbsp;rule.&nbsp;&nbsp;Make&nbsp;the&nbsp;strongest&nbsp;possible&nbsp;standards&nbsp;for&nbsp;seafood&nbsp;traceability&nbsp;to&nbsp;intercept&nbsp;the&nbsp;flow&nbsp;of&nbsp;illegal&nbsp;seafood&nbsp;into&nbsp;the&nbsp;U.S.&nbsp;&nbsp;Make&nbsp;consumers&nbsp;know&nbsp;that&nbsp;the&nbsp;seafood&nbsp;they&nbsp;buy&nbsp;is&nbsp;legally&nbsp;caught&nbsp;and&nbsp;not&nbsp;a&nbsp;product&nbsp;of&nbsp;labor/human&nbsp;rights&nbsp;abuses.&nbsp;&nbsp;</span></td></tr>\n",
       "            <tr><td style=\"word-wrap: break-word\" class=\"diff_next\"></td><td style=\"word-wrap: break-word\" class=\"diff_header\"></td><td style=\"word-wrap: break-word\" ></td><td style=\"word-wrap: break-word\" class=\"diff_next\"></td><td style=\"word-wrap: break-word\" class=\"diff_header\" id=\"to1_16\">16</td><td style=\"word-wrap: break-word\" ><span class=\"diff_add\">&nbsp;</span></td></tr>\n",
       "            <tr><td style=\"word-wrap: break-word\" class=\"diff_next\"></td><td style=\"word-wrap: break-word\" class=\"diff_header\"></td><td style=\"word-wrap: break-word\" ></td><td style=\"word-wrap: break-word\" class=\"diff_next\"></td><td style=\"word-wrap: break-word\" class=\"diff_header\" id=\"to1_17\">17</td><td style=\"word-wrap: break-word\" ><span class=\"diff_add\">Thank&nbsp;you&nbsp;for&nbsp;helping&nbsp;to&nbsp;address&nbsp;these&nbsp;environmental&nbsp;and&nbsp;human&nbsp;rights&nbsp;crimes&nbsp;with&nbsp;the&nbsp;seriousness&nbsp;they&nbsp;deserve.</span></td></tr>\n",
       "        </tbody>\n",
       "    </table>\n",
       "    <table style=\"table-layout: fixed; width: 100%\" class=\"diff\" summary=\"Legends\">\n",
       "        <tr> <th colspan=\"2\"> Legends </th> </tr>\n",
       "        <tr> <td style=\"word-wrap: break-word\"> <table style=\"table-layout: fixed; width: 100%\" border=\"\" summary=\"Colors\">\n",
       "                      <tr><th> Colors </th> </tr>\n",
       "                      <tr><td style=\"word-wrap: break-word\" class=\"diff_add\">&nbsp;Added&nbsp;</td></tr>\n",
       "                      <tr><td style=\"word-wrap: break-word\" class=\"diff_chg\">Changed</td> </tr>\n",
       "                      <tr><td style=\"word-wrap: break-word\" class=\"diff_sub\">Deleted</td> </tr>\n",
       "                  </table></td>\n",
       "             <td style=\"word-wrap: break-word\"> <table style=\"table-layout: fixed; width: 100%\" border=\"\" summary=\"Links\">\n",
       "                      <tr><th colspan=\"2\"> Links </th> </tr>\n",
       "                      <tr><td style=\"word-wrap: break-word\">(f)irst change</td> </tr>\n",
       "                      <tr><td style=\"word-wrap: break-word\">(n)ext change</td> </tr>\n",
       "                      <tr><td style=\"word-wrap: break-word\">(t)op</td> </tr>\n",
       "                  </table></td> </tr>\n",
       "    </table>\n",
       "</body>\n",
       "\n",
       "</html>"
      ],
      "text/plain": [
       "<IPython.core.display.HTML object>"
      ]
     },
     "metadata": {},
     "output_type": "display_data"
    },
    {
     "data": {
      "text/html": [
       "\n",
       "<!DOCTYPE html PUBLIC \"-//W3C//DTD XHTML 1.0 Transitional//EN\"\n",
       "          \"http://www.w3.org/TR/xhtml1/DTD/xhtml1-transitional.dtd\">\n",
       "\n",
       "<html>\n",
       "\n",
       "<head>\n",
       "    <meta http-equiv=\"Content-Type\"\n",
       "          content=\"text/html; charset=utf-8\" />\n",
       "    <title></title>\n",
       "    <style type=\"text/css\">\n",
       "        table.diff {font-family:Courier; border:medium;}\n",
       "        .diff_header {background-color:#e0e0e0}\n",
       "        td.diff_header {text-align:right; width:1%}\n",
       "        .diff_next {background-color:#c0c0c0; width:1%}\n",
       "        .diff_add {background-color:#aaffaa}\n",
       "        .diff_chg {background-color:#ffff77}\n",
       "        .diff_sub {background-color:#ffaaaa}\n",
       "    </style>\n",
       "</head>\n",
       "\n",
       "<body>\n",
       "    \n",
       "    <table style=\"table-layout: fixed; width: 100%\" class=\"diff\" id=\"difflib_chg_to2__top\"\n",
       "           cellspacing=\"0\" cellpadding=\"0\" rules=\"groups\" >\n",
       "        <colgroup></colgroup> <colgroup></colgroup> <colgroup></colgroup>\n",
       "        <colgroup></colgroup> <colgroup></colgroup> <colgroup></colgroup>\n",
       "        \n",
       "        <tbody>\n",
       "            <tr><td style=\"word-wrap: break-word\" class=\"diff_next\" id=\"difflib_chg_to2__1\"><a href=\"#difflib_chg_to2__0\">f</a></td><td style=\"word-wrap: break-word\" class=\"diff_header\" id=\"from2_1\">1</td><td style=\"word-wrap: break-word\" >Dear&nbsp;NOAA&nbsp;Administrator&nbsp;Spinrad&nbsp;and&nbsp;NOAA&nbsp;Fisheries&nbsp;Assistant&nbsp;Administrator&nbsp;Coit:</td><td style=\"word-wrap: break-word\" class=\"diff_next\"><a href=\"#difflib_chg_to2__0\">f</a></td><td style=\"word-wrap: break-word\" class=\"diff_header\" id=\"to2_1\">1</td><td style=\"word-wrap: break-word\" >Dear&nbsp;NOAA&nbsp;Administrator&nbsp;Spinrad&nbsp;and&nbsp;NOAA&nbsp;Fisheries&nbsp;Assistant&nbsp;Administrator&nbsp;Coit:</td></tr>\n",
       "            <tr><td style=\"word-wrap: break-word\" class=\"diff_next\" id=\"difflib_chg_to2__2\"></td><td style=\"word-wrap: break-word\" class=\"diff_header\" id=\"from2_2\">2</td><td style=\"word-wrap: break-word\" ></td><td style=\"word-wrap: break-word\" class=\"diff_next\"></td><td style=\"word-wrap: break-word\" class=\"diff_header\" id=\"to2_2\">2</td><td style=\"word-wrap: break-word\" ></td></tr>\n",
       "            <tr><td style=\"word-wrap: break-word\" class=\"diff_next\"><a href=\"#difflib_chg_to2__1\">n</a></td><td style=\"word-wrap: break-word\" class=\"diff_header\" id=\"from2_3\">3</td><td style=\"word-wrap: break-word\" ><span class=\"diff_sub\">The&nbsp;United&nbsp;States&nbsp;needs&nbsp;an&nbsp;effective&nbsp;seafood&nbsp;traceability&nbsp;program&nbsp;to&nbsp;intercept&nbsp;the&nbsp;flow&nbsp;of&nbsp;illegal&nbsp;seafood&nbsp;into&nbsp;our&nbsp;markets.&nbsp;Illegal&nbsp;fishing&nbsp;is&nbsp;a&nbsp;top&nbsp;driver&nbsp;of&nbsp;unsustainable&nbsp;and&nbsp;environmentally&nbsp;harmful&nbsp;fishing&nbsp;practices&nbsp;around&nbsp;the&nbsp;globe,&nbsp;as&nbsp;well&nbsp;as&nbsp;associated&nbsp;human&nbsp;rights&nbsp;abuses&nbsp;in&nbsp;the&nbsp;seafood&nbsp;sector.&nbsp;The&nbsp;newly&nbsp;proposed&nbsp;changes&nbsp;to&nbsp;the&nbsp;Seafood&nbsp;Import&nbsp;Monitoring&nbsp;Program&nbsp;do&nbsp;not&nbsp;go&nbsp;far&nbsp;enough&nbsp;to&nbsp;help&nbsp;end&nbsp;the&nbsp;U.S.'s&nbsp;role&nbsp;in&nbsp;perpetuating&nbsp;human&nbsp;rights&nbsp;abuses&nbsp;and&nbsp;environmental&nbsp;destruction&nbsp;in&nbsp;the&nbsp;seafood&nbsp;industry.&nbsp;</span></td><td style=\"word-wrap: break-word\" class=\"diff_next\"><a href=\"#difflib_chg_to2__1\">n</a></td><td style=\"word-wrap: break-word\" class=\"diff_header\" id=\"to2_3\">3</td><td style=\"word-wrap: break-word\" ><span class=\"diff_add\">Please.&nbsp;We&nbsp;need&nbsp;an&nbsp;effective&nbsp;seafood&nbsp;traceability&nbsp;program.The&nbsp;newly&nbsp;proposed&nbsp;changes&nbsp;to&nbsp;the&nbsp;Seafood&nbsp;Import&nbsp;Monitoring&nbsp;Program&nbsp;do&nbsp;not&nbsp;go&nbsp;far&nbsp;enough&nbsp;to&nbsp;help&nbsp;end&nbsp;the&nbsp;U.S.'s&nbsp;role&nbsp;in&nbsp;perpetuating&nbsp;human&nbsp;rights&nbsp;abuses&nbsp;and&nbsp;environmental&nbsp;destruction&nbsp;in&nbsp;the&nbsp;seafood&nbsp;industry.&nbsp;</span></td></tr>\n",
       "            <tr><td style=\"word-wrap: break-word\" class=\"diff_next\"></td><td style=\"word-wrap: break-word\" class=\"diff_header\" id=\"from2_4\">4</td><td style=\"word-wrap: break-word\" ></td><td style=\"word-wrap: break-word\" class=\"diff_next\"></td><td style=\"word-wrap: break-word\" class=\"diff_header\" id=\"to2_4\">4</td><td style=\"word-wrap: break-word\" ></td></tr>\n",
       "            <tr><td style=\"word-wrap: break-word\" class=\"diff_next\"><a href=\"#difflib_chg_to2__2\">n</a></td><td style=\"word-wrap: break-word\" class=\"diff_header\" id=\"from2_5\">5</td><td style=\"word-wrap: break-word\" ><span class=\"diff_sub\">Illegal&nbsp;fishing&nbsp;is&nbsp;destroying&nbsp;our&nbsp;oceans.&nbsp;Years&nbsp;of&nbsp;overfishing&nbsp;in&nbsp;nearshore&nbsp;waters&nbsp;have&nbsp;forced&nbsp;boats&nbsp;to&nbsp;go&nbsp;into&nbsp;deeper&nbsp;waters,&nbsp;which&nbsp;makes&nbsp;fishing&nbsp;more&nbsp;expensive.&nbsp;Some&nbsp;fishers&nbsp;will&nbsp;cut&nbsp;costs&nbsp;by&nbsp;fishing&nbsp;with&nbsp;illegal&nbsp;gear,&nbsp;fishing&nbsp;in&nbsp;protected&nbsp;areas,&nbsp;or&nbsp;ignoring&nbsp;catch&nbsp;limits.&nbsp;To&nbsp;save&nbsp;on&nbsp;labor&nbsp;costs,&nbsp;some&nbsp;vessel&nbsp;owners&nbsp;rely&nbsp;on&nbsp;human&nbsp;traffickers,&nbsp;some&nbsp;even&nbsp;kidnapping&nbsp;or&nbsp;drugging&nbsp;workers&nbsp;to&nbsp;get&nbsp;them&nbsp;on&nbsp;the&nbsp;ship&nbsp;and&nbsp;cut&nbsp;off&nbsp;from&nbsp;help.&nbsp;Further,&nbsp;the&nbsp;overseas&nbsp;seafood&nbsp;processing&nbsp;industry&nbsp;is&nbsp;heavily&nbsp;reliant&nbsp;on&nbsp;forced&nbsp;labor.&nbsp;&nbsp;</span></td><td style=\"word-wrap: break-word\" class=\"diff_next\"><a href=\"#difflib_chg_to2__2\">n</a></td><td style=\"word-wrap: break-word\" class=\"diff_header\"></td><td style=\"word-wrap: break-word\" ></td></tr>\n",
       "            <tr><td style=\"word-wrap: break-word\" class=\"diff_next\"></td><td style=\"word-wrap: break-word\" class=\"diff_header\" id=\"from2_6\">6</td><td style=\"word-wrap: break-word\" ></td><td style=\"word-wrap: break-word\" class=\"diff_next\"></td><td style=\"word-wrap: break-word\" class=\"diff_header\" id=\"to2_5\">5</td><td style=\"word-wrap: break-word\" ></td></tr>\n",
       "            <tr><td style=\"word-wrap: break-word\" class=\"diff_next\"><a href=\"#difflib_chg_to2__top\">t</a></td><td style=\"word-wrap: break-word\" class=\"diff_header\" id=\"from2_7\">7</td><td style=\"word-wrap: break-word\" ><span class=\"diff_sub\">The&nbsp;U.S.&nbsp;is&nbsp;one&nbsp;of&nbsp;the&nbsp;largest&nbsp;consumers&nbsp;of&nbsp;seafood.&nbsp;Approximately&nbsp;eighty&nbsp;percent&nbsp;of&nbsp;the&nbsp;seafood&nbsp;sold&nbsp;in&nbsp;the&nbsp;U.S.&nbsp;is&nbsp;imported,&nbsp;and&nbsp;as&nbsp;much&nbsp;as&nbsp;a&nbsp;third&nbsp;of&nbsp;the&nbsp;wild-caught&nbsp;seafood&nbsp;sold&nbsp;in&nbsp;the&nbsp;United&nbsp;States&nbsp;each&nbsp;year&nbsp;is&nbsp;illegal&nbsp;or&nbsp;unreported.&nbsp;&nbsp;</span></td><td style=\"word-wrap: break-word\" class=\"diff_next\"><a href=\"#difflib_chg_to2__top\">t</a></td><td style=\"word-wrap: break-word\" class=\"diff_header\" id=\"to2_6\">6</td><td style=\"word-wrap: break-word\" ><span class=\"diff_add\">The&nbsp;U.S.&nbsp;government&nbsp;has&nbsp;a&nbsp;responsibility&nbsp;to&nbsp;fix&nbsp;these&nbsp;problems.&nbsp;&nbsp;Please&nbsp;revise&nbsp;the&nbsp;Seafood&nbsp;Import&nbsp;Monitoring&nbsp;Program&nbsp;proposed&nbsp;rule&nbsp;to&nbsp;adopt&nbsp;the&nbsp;strongest&nbsp;possible&nbsp;standards&nbsp;for&nbsp;seafood&nbsp;traceability&nbsp;to&nbsp;intercept&nbsp;the&nbsp;flow&nbsp;of&nbsp;illegal&nbsp;seafood&nbsp;into&nbsp;the&nbsp;U.S.&nbsp;and&nbsp;help&nbsp;us&nbsp;consumers&nbsp;feel&nbsp;confident&nbsp;the&nbsp;seafood&nbsp;we&nbsp;buy&nbsp;is&nbsp;legally&nbsp;caught&nbsp;and&nbsp;not&nbsp;a&nbsp;product&nbsp;of&nbsp;labor&nbsp;abuses.&nbsp;Thank&nbsp;you&nbsp;for&nbsp;helping&nbsp;to&nbsp;address&nbsp;these&nbsp;environmental&nbsp;and&nbsp;human&nbsp;rights&nbsp;crimes&nbsp;with&nbsp;the&nbsp;seriousness&nbsp;they&nbsp;deserve.</span></td></tr>\n",
       "            <tr><td style=\"word-wrap: break-word\" class=\"diff_next\"></td><td style=\"word-wrap: break-word\" class=\"diff_header\" id=\"from2_8\">8</td><td style=\"word-wrap: break-word\" ><span class=\"diff_sub\">&nbsp;</span></td><td style=\"word-wrap: break-word\" class=\"diff_next\"></td><td style=\"word-wrap: break-word\" class=\"diff_header\"></td><td style=\"word-wrap: break-word\" ></td></tr>\n",
       "            <tr><td style=\"word-wrap: break-word\" class=\"diff_next\"></td><td style=\"word-wrap: break-word\" class=\"diff_header\" id=\"from2_9\">9</td><td style=\"word-wrap: break-word\" ><span class=\"diff_sub\">The&nbsp;U.S.&nbsp;government&nbsp;has&nbsp;a&nbsp;responsibility&nbsp;to&nbsp;fix&nbsp;these&nbsp;problems,&nbsp;and&nbsp;seafood&nbsp;traceability&nbsp;is&nbsp;an&nbsp;essential&nbsp;step&nbsp;in&nbsp;the&nbsp;fight&nbsp;to&nbsp;end&nbsp;illegal&nbsp;fishing&nbsp;and&nbsp;human&nbsp;rights&nbsp;abuses&nbsp;in&nbsp;the&nbsp;seafood&nbsp;industry.&nbsp;But&nbsp;under&nbsp;NOAA&nbsp;Fisheries’&nbsp;proposed&nbsp;rule,&nbsp;traceability&nbsp;requirements&nbsp;would&nbsp;apply&nbsp;to&nbsp;only&nbsp;half&nbsp;of&nbsp;seafood&nbsp;imports,&nbsp;leaving&nbsp;massive&nbsp;loopholes&nbsp;that&nbsp;are&nbsp;easy&nbsp;for&nbsp;bad&nbsp;actors&nbsp;to&nbsp;exploit.&nbsp;The&nbsp;proposed&nbsp;rule&nbsp;also&nbsp;fails&nbsp;to&nbsp;sufficiently&nbsp;address&nbsp;labor&nbsp;abuses&nbsp;in&nbsp;seafood&nbsp;supply&nbsp;chains,&nbsp;and&nbsp;it&nbsp;includes&nbsp;no&nbsp;commitment&nbsp;to&nbsp;improve&nbsp;enforcement&nbsp;of&nbsp;traceability&nbsp;requirements.&nbsp;</span></td><td style=\"word-wrap: break-word\" class=\"diff_next\"></td><td style=\"word-wrap: break-word\" class=\"diff_header\"></td><td style=\"word-wrap: break-word\" ></td></tr>\n",
       "            <tr><td style=\"word-wrap: break-word\" class=\"diff_next\"></td><td style=\"word-wrap: break-word\" class=\"diff_header\" id=\"from2_10\">10</td><td style=\"word-wrap: break-word\" ><span class=\"diff_sub\">&nbsp;</span></td><td style=\"word-wrap: break-word\" class=\"diff_next\"></td><td style=\"word-wrap: break-word\" class=\"diff_header\"></td><td style=\"word-wrap: break-word\" ></td></tr>\n",
       "            <tr><td style=\"word-wrap: break-word\" class=\"diff_next\"></td><td style=\"word-wrap: break-word\" class=\"diff_header\" id=\"from2_11\">11</td><td style=\"word-wrap: break-word\" ><span class=\"diff_sub\">Please&nbsp;revise&nbsp;the&nbsp;Seafood&nbsp;Import&nbsp;Monitoring&nbsp;Program&nbsp;proposed&nbsp;rule&nbsp;to&nbsp;adopt&nbsp;the&nbsp;strongest&nbsp;possible&nbsp;standards&nbsp;for&nbsp;seafood&nbsp;traceability&nbsp;to&nbsp;intercept&nbsp;the&nbsp;flow&nbsp;of&nbsp;illegal&nbsp;seafood&nbsp;into&nbsp;the&nbsp;U.S.&nbsp;and&nbsp;help&nbsp;consumers&nbsp;feel&nbsp;confident&nbsp;the&nbsp;seafood&nbsp;they&nbsp;buy&nbsp;is&nbsp;legally&nbsp;caught&nbsp;and&nbsp;not&nbsp;a&nbsp;product&nbsp;of&nbsp;labor&nbsp;abuses.&nbsp;Thank&nbsp;you&nbsp;for&nbsp;helping&nbsp;to&nbsp;address&nbsp;these&nbsp;environmental&nbsp;and&nbsp;human&nbsp;rights&nbsp;crimes&nbsp;with&nbsp;the&nbsp;seriousness&nbsp;they&nbsp;deserve.</span></td><td style=\"word-wrap: break-word\" class=\"diff_next\"></td><td style=\"word-wrap: break-word\" class=\"diff_header\"></td><td style=\"word-wrap: break-word\" ></td></tr>\n",
       "        </tbody>\n",
       "    </table>\n",
       "    <table style=\"table-layout: fixed; width: 100%\" class=\"diff\" summary=\"Legends\">\n",
       "        <tr> <th colspan=\"2\"> Legends </th> </tr>\n",
       "        <tr> <td style=\"word-wrap: break-word\"> <table style=\"table-layout: fixed; width: 100%\" border=\"\" summary=\"Colors\">\n",
       "                      <tr><th> Colors </th> </tr>\n",
       "                      <tr><td style=\"word-wrap: break-word\" class=\"diff_add\">&nbsp;Added&nbsp;</td></tr>\n",
       "                      <tr><td style=\"word-wrap: break-word\" class=\"diff_chg\">Changed</td> </tr>\n",
       "                      <tr><td style=\"word-wrap: break-word\" class=\"diff_sub\">Deleted</td> </tr>\n",
       "                  </table></td>\n",
       "             <td style=\"word-wrap: break-word\"> <table style=\"table-layout: fixed; width: 100%\" border=\"\" summary=\"Links\">\n",
       "                      <tr><th colspan=\"2\"> Links </th> </tr>\n",
       "                      <tr><td style=\"word-wrap: break-word\">(f)irst change</td> </tr>\n",
       "                      <tr><td style=\"word-wrap: break-word\">(n)ext change</td> </tr>\n",
       "                      <tr><td style=\"word-wrap: break-word\">(t)op</td> </tr>\n",
       "                  </table></td> </tr>\n",
       "    </table>\n",
       "</body>\n",
       "\n",
       "</html>"
      ],
      "text/plain": [
       "<IPython.core.display.HTML object>"
      ]
     },
     "metadata": {},
     "output_type": "display_data"
    },
    {
     "data": {
      "text/html": [
       "\n",
       "<!DOCTYPE html PUBLIC \"-//W3C//DTD XHTML 1.0 Transitional//EN\"\n",
       "          \"http://www.w3.org/TR/xhtml1/DTD/xhtml1-transitional.dtd\">\n",
       "\n",
       "<html>\n",
       "\n",
       "<head>\n",
       "    <meta http-equiv=\"Content-Type\"\n",
       "          content=\"text/html; charset=utf-8\" />\n",
       "    <title></title>\n",
       "    <style type=\"text/css\">\n",
       "        table.diff {font-family:Courier; border:medium;}\n",
       "        .diff_header {background-color:#e0e0e0}\n",
       "        td.diff_header {text-align:right; width:1%}\n",
       "        .diff_next {background-color:#c0c0c0; width:1%}\n",
       "        .diff_add {background-color:#aaffaa}\n",
       "        .diff_chg {background-color:#ffff77}\n",
       "        .diff_sub {background-color:#ffaaaa}\n",
       "    </style>\n",
       "</head>\n",
       "\n",
       "<body>\n",
       "    \n",
       "    <table style=\"table-layout: fixed; width: 100%\" class=\"diff\" id=\"difflib_chg_to3__top\"\n",
       "           cellspacing=\"0\" cellpadding=\"0\" rules=\"groups\" >\n",
       "        <colgroup></colgroup> <colgroup></colgroup> <colgroup></colgroup>\n",
       "        <colgroup></colgroup> <colgroup></colgroup> <colgroup></colgroup>\n",
       "        \n",
       "        <tbody>\n",
       "            <tr><td style=\"word-wrap: break-word\" class=\"diff_next\" id=\"difflib_chg_to3__1\"><a href=\"#difflib_chg_to3__0\">f</a></td><td style=\"word-wrap: break-word\" class=\"diff_header\" id=\"from3_1\">1</td><td style=\"word-wrap: break-word\" >Dear&nbsp;NOAA&nbsp;Administrator&nbsp;Spinrad&nbsp;and&nbsp;NOAA&nbsp;Fisheries&nbsp;Assistant&nbsp;Administrator&nbsp;Coit:</td><td style=\"word-wrap: break-word\" class=\"diff_next\"><a href=\"#difflib_chg_to3__0\">f</a></td><td style=\"word-wrap: break-word\" class=\"diff_header\" id=\"to3_1\">1</td><td style=\"word-wrap: break-word\" >Dear&nbsp;NOAA&nbsp;Administrator&nbsp;Spinrad&nbsp;and&nbsp;NOAA&nbsp;Fisheries&nbsp;Assistant&nbsp;Administrator&nbsp;Coit:</td></tr>\n",
       "            <tr><td style=\"word-wrap: break-word\" class=\"diff_next\" id=\"difflib_chg_to3__2\"></td><td style=\"word-wrap: break-word\" class=\"diff_header\" id=\"from3_2\">2</td><td style=\"word-wrap: break-word\" ></td><td style=\"word-wrap: break-word\" class=\"diff_next\"></td><td style=\"word-wrap: break-word\" class=\"diff_header\" id=\"to3_2\">2</td><td style=\"word-wrap: break-word\" ></td></tr>\n",
       "            <tr><td style=\"word-wrap: break-word\" class=\"diff_next\"><a href=\"#difflib_chg_to3__1\">n</a></td><td style=\"word-wrap: break-word\" class=\"diff_header\" id=\"from3_3\">3</td><td style=\"word-wrap: break-word\" ><span class=\"diff_sub\">The&nbsp;United&nbsp;States&nbsp;needs&nbsp;an&nbsp;effective&nbsp;seafood&nbsp;traceability&nbsp;program&nbsp;to&nbsp;intercept&nbsp;the&nbsp;flow&nbsp;of&nbsp;illegal&nbsp;seafood&nbsp;into&nbsp;our&nbsp;markets.&nbsp;Illegal&nbsp;fishing&nbsp;is&nbsp;a&nbsp;top&nbsp;driver&nbsp;of&nbsp;unsustainable&nbsp;and&nbsp;environmentally&nbsp;harmful&nbsp;fishing&nbsp;practices&nbsp;around&nbsp;the&nbsp;globe,&nbsp;as&nbsp;well&nbsp;as&nbsp;associated&nbsp;human&nbsp;rights&nbsp;abuses&nbsp;in&nbsp;the&nbsp;seafood&nbsp;sector.&nbsp;The&nbsp;newly&nbsp;proposed&nbsp;changes&nbsp;to&nbsp;the&nbsp;Seafood&nbsp;Import&nbsp;Monitoring&nbsp;Program&nbsp;do&nbsp;not&nbsp;go&nbsp;far&nbsp;enough&nbsp;to&nbsp;help&nbsp;end&nbsp;the&nbsp;U.S.'s&nbsp;role&nbsp;in&nbsp;perpetuating&nbsp;human&nbsp;rights&nbsp;abuses&nbsp;and&nbsp;environmental&nbsp;destruction&nbsp;in&nbsp;the&nbsp;seafood&nbsp;industry.&nbsp;</span></td><td style=\"word-wrap: break-word\" class=\"diff_next\"><a href=\"#difflib_chg_to3__1\">n</a></td><td style=\"word-wrap: break-word\" class=\"diff_header\" id=\"to3_3\">3</td><td style=\"word-wrap: break-word\" ><span class=\"diff_add\">The&nbsp;United&nbsp;States&nbsp;needs&nbsp;an&nbsp;effective&nbsp;seafood&nbsp;traceability&nbsp;program&nbsp;to&nbsp;intercept&nbsp;the&nbsp;flow&nbsp;of&nbsp;illegal&nbsp;seafood&nbsp;into&nbsp;our&nbsp;markets.&nbsp;</span></td></tr>\n",
       "            <tr><td style=\"word-wrap: break-word\" class=\"diff_next\" id=\"difflib_chg_to3__3\"></td><td style=\"word-wrap: break-word\" class=\"diff_header\" id=\"from3_4\">4</td><td style=\"word-wrap: break-word\" ></td><td style=\"word-wrap: break-word\" class=\"diff_next\"></td><td style=\"word-wrap: break-word\" class=\"diff_header\" id=\"to3_4\">4</td><td style=\"word-wrap: break-word\" ></td></tr>\n",
       "            <tr><td style=\"word-wrap: break-word\" class=\"diff_next\"><a href=\"#difflib_chg_to3__2\">n</a></td><td style=\"word-wrap: break-word\" class=\"diff_header\" id=\"from3_5\">5</td><td style=\"word-wrap: break-word\" ><span class=\"diff_sub\">Illegal&nbsp;fishing&nbsp;is&nbsp;destroying&nbsp;our&nbsp;oceans.&nbsp;Years&nbsp;of&nbsp;overfishing&nbsp;in&nbsp;nearshore&nbsp;waters&nbsp;have&nbsp;forced&nbsp;boats&nbsp;to&nbsp;go&nbsp;into&nbsp;deeper&nbsp;waters,&nbsp;which&nbsp;makes&nbsp;fishing&nbsp;more&nbsp;expensive.&nbsp;Some&nbsp;fishers&nbsp;will&nbsp;cut&nbsp;costs&nbsp;by&nbsp;fishing&nbsp;with&nbsp;illegal&nbsp;gear,&nbsp;fishing&nbsp;in&nbsp;protected&nbsp;areas,&nbsp;or&nbsp;ignoring&nbsp;catch&nbsp;limits.&nbsp;To&nbsp;save&nbsp;on&nbsp;labor&nbsp;costs,&nbsp;some&nbsp;vessel&nbsp;owners&nbsp;rely&nbsp;on&nbsp;human&nbsp;traffickers,&nbsp;some&nbsp;even&nbsp;kidnapping&nbsp;or&nbsp;drugging&nbsp;workers&nbsp;to&nbsp;get&nbsp;them&nbsp;on&nbsp;the&nbsp;ship&nbsp;and&nbsp;cut&nbsp;off&nbsp;from&nbsp;help.&nbsp;Further,&nbsp;the&nbsp;overseas&nbsp;seafood&nbsp;processing&nbsp;industry&nbsp;is&nbsp;heavily&nbsp;reliant&nbsp;on&nbsp;forced&nbsp;labor.&nbsp;&nbsp;</span></td><td style=\"word-wrap: break-word\" class=\"diff_next\"><a href=\"#difflib_chg_to3__2\">n</a></td><td style=\"word-wrap: break-word\" class=\"diff_header\" id=\"to3_5\">5</td><td style=\"word-wrap: break-word\" ><span class=\"diff_add\">Illegal&nbsp;fishing&nbsp;is&nbsp;a&nbsp;top&nbsp;driver&nbsp;of&nbsp;unsustainable&nbsp;and&nbsp;environmentally&nbsp;harmful&nbsp;fishing&nbsp;practices&nbsp;around&nbsp;the&nbsp;globe.&nbsp;However,&nbsp;the&nbsp;newly&nbsp;proposed&nbsp;changes&nbsp;to&nbsp;the&nbsp;Seafood&nbsp;Import&nbsp;Monitoring&nbsp;Program&nbsp;do&nbsp;not&nbsp;go&nbsp;far&nbsp;enough&nbsp;to&nbsp;help&nbsp;end&nbsp;the&nbsp;U.S.'s&nbsp;role&nbsp;in&nbsp;perpetuating&nbsp;human&nbsp;rights&nbsp;abuses&nbsp;and&nbsp;environmental&nbsp;destruction&nbsp;in&nbsp;the&nbsp;seafood&nbsp;industry.&nbsp;</span></td></tr>\n",
       "            <tr><td style=\"word-wrap: break-word\" class=\"diff_next\" id=\"difflib_chg_to3__4\"></td><td style=\"word-wrap: break-word\" class=\"diff_header\" id=\"from3_6\">6</td><td style=\"word-wrap: break-word\" ></td><td style=\"word-wrap: break-word\" class=\"diff_next\"></td><td style=\"word-wrap: break-word\" class=\"diff_header\" id=\"to3_6\">6</td><td style=\"word-wrap: break-word\" ></td></tr>\n",
       "            <tr><td style=\"word-wrap: break-word\" class=\"diff_next\"><a href=\"#difflib_chg_to3__3\">n</a></td><td style=\"word-wrap: break-word\" class=\"diff_header\" id=\"from3_7\">7</td><td style=\"word-wrap: break-word\" ><span class=\"diff_sub\">The&nbsp;U.S.&nbsp;is&nbsp;one&nbsp;of&nbsp;the&nbsp;largest&nbsp;consumers&nbsp;of&nbsp;seafood.&nbsp;Approximately&nbsp;eighty&nbsp;percent&nbsp;of&nbsp;the&nbsp;seafood&nbsp;sold&nbsp;in&nbsp;the&nbsp;U.S.&nbsp;is&nbsp;imported,&nbsp;and&nbsp;as&nbsp;much&nbsp;as&nbsp;a&nbsp;third&nbsp;of&nbsp;the&nbsp;wild-caught&nbsp;seafood&nbsp;sold&nbsp;in&nbsp;the&nbsp;United&nbsp;States&nbsp;each&nbsp;year&nbsp;is&nbsp;illegal&nbsp;or&nbsp;unreported.&nbsp;&nbsp;</span></td><td style=\"word-wrap: break-word\" class=\"diff_next\"><a href=\"#difflib_chg_to3__3\">n</a></td><td style=\"word-wrap: break-word\" class=\"diff_header\" id=\"to3_7\">7</td><td style=\"word-wrap: break-word\" ><span class=\"diff_add\">Illegal&nbsp;fishing&nbsp;is&nbsp;destroying&nbsp;our&nbsp;oceans.&nbsp;</span></td></tr>\n",
       "            <tr><td style=\"word-wrap: break-word\" class=\"diff_next\"></td><td style=\"word-wrap: break-word\" class=\"diff_header\" id=\"from3_8\">8</td><td style=\"word-wrap: break-word\" ></td><td style=\"word-wrap: break-word\" class=\"diff_next\"></td><td style=\"word-wrap: break-word\" class=\"diff_header\" id=\"to3_8\">8</td><td style=\"word-wrap: break-word\" ></td></tr>\n",
       "            <tr><td style=\"word-wrap: break-word\" class=\"diff_next\"><a href=\"#difflib_chg_to3__4\">n</a></td><td style=\"word-wrap: break-word\" class=\"diff_header\" id=\"from3_9\">9</td><td style=\"word-wrap: break-word\" ><span class=\"diff_sub\">The&nbsp;U.S.&nbsp;government&nbsp;has&nbsp;a&nbsp;responsibility&nbsp;to&nbsp;fix&nbsp;these&nbsp;problems,&nbsp;and&nbsp;seafood&nbsp;traceability&nbsp;is&nbsp;an&nbsp;essential&nbsp;step&nbsp;in&nbsp;the&nbsp;fight&nbsp;to&nbsp;end&nbsp;illegal&nbsp;fishing&nbsp;and&nbsp;human&nbsp;rights&nbsp;abuses&nbsp;in&nbsp;the&nbsp;seafood&nbsp;industry.&nbsp;But&nbsp;under&nbsp;NOAA&nbsp;Fisheries’&nbsp;proposed&nbsp;rule,&nbsp;traceability&nbsp;requirements&nbsp;would&nbsp;apply&nbsp;to&nbsp;only&nbsp;half&nbsp;of&nbsp;seafood&nbsp;imports,&nbsp;leaving&nbsp;massive&nbsp;loopholes&nbsp;that&nbsp;are&nbsp;easy&nbsp;for&nbsp;bad&nbsp;actors&nbsp;to&nbsp;exploit.&nbsp;The&nbsp;proposed&nbsp;rule&nbsp;also&nbsp;fails&nbsp;to&nbsp;sufficiently&nbsp;address&nbsp;labor&nbsp;abuses&nbsp;in&nbsp;seafood&nbsp;supply&nbsp;chains,&nbsp;and&nbsp;it&nbsp;includes&nbsp;no&nbsp;commitment&nbsp;to&nbsp;improve&nbsp;enforcement&nbsp;of&nbsp;traceability&nbsp;requirements.&nbsp;</span></td><td style=\"word-wrap: break-word\" class=\"diff_next\"><a href=\"#difflib_chg_to3__4\">n</a></td><td style=\"word-wrap: break-word\" class=\"diff_header\" id=\"to3_9\">9</td><td style=\"word-wrap: break-word\" ><span class=\"diff_add\">Years&nbsp;of&nbsp;overfishing&nbsp;in&nbsp;nearshore&nbsp;waters&nbsp;have&nbsp;forced&nbsp;boats&nbsp;to&nbsp;go&nbsp;into&nbsp;deeper&nbsp;waters,&nbsp;which&nbsp;makes&nbsp;fishing&nbsp;more&nbsp;expensive.&nbsp;Some&nbsp;fishers&nbsp;will&nbsp;cut&nbsp;costs&nbsp;by&nbsp;fishing&nbsp;with&nbsp;illegal&nbsp;gear,&nbsp;fishing&nbsp;in&nbsp;protected&nbsp;areas,&nbsp;or&nbsp;ignoring&nbsp;catch&nbsp;limits.&nbsp;To&nbsp;save&nbsp;on&nbsp;labor&nbsp;costs,&nbsp;some&nbsp;vessel&nbsp;owners&nbsp;rely&nbsp;on&nbsp;human&nbsp;traffickers.&nbsp;Further,&nbsp;the&nbsp;overseas&nbsp;seafood&nbsp;processing&nbsp;industry&nbsp;is&nbsp;heavily&nbsp;reliant&nbsp;on&nbsp;forced&nbsp;labor.&nbsp;&nbsp;</span></td></tr>\n",
       "            <tr><td style=\"word-wrap: break-word\" class=\"diff_next\"></td><td style=\"word-wrap: break-word\" class=\"diff_header\" id=\"from3_10\">10</td><td style=\"word-wrap: break-word\" ></td><td style=\"word-wrap: break-word\" class=\"diff_next\"></td><td style=\"word-wrap: break-word\" class=\"diff_header\" id=\"to3_10\">10</td><td style=\"word-wrap: break-word\" ></td></tr>\n",
       "            <tr><td style=\"word-wrap: break-word\" class=\"diff_next\"><a href=\"#difflib_chg_to3__top\">t</a></td><td style=\"word-wrap: break-word\" class=\"diff_header\" id=\"from3_11\">11</td><td style=\"word-wrap: break-word\" ><span class=\"diff_sub\">Please&nbsp;revise&nbsp;the&nbsp;Seafood&nbsp;Import&nbsp;Monitoring&nbsp;Program&nbsp;proposed&nbsp;rule&nbsp;to&nbsp;adopt&nbsp;the&nbsp;strongest&nbsp;possible&nbsp;standards&nbsp;for&nbsp;seafood&nbsp;traceability&nbsp;to&nbsp;intercept&nbsp;the&nbsp;flow&nbsp;of&nbsp;illegal&nbsp;seafood&nbsp;into&nbsp;the&nbsp;U.S.&nbsp;and&nbsp;help&nbsp;consumers&nbsp;feel&nbsp;confident&nbsp;the&nbsp;seafood&nbsp;they&nbsp;buy&nbsp;is&nbsp;legally&nbsp;caught&nbsp;and&nbsp;not&nbsp;a&nbsp;product&nbsp;of&nbsp;labor&nbsp;abuses.&nbsp;Thank&nbsp;you&nbsp;for&nbsp;helping&nbsp;to&nbsp;address&nbsp;these&nbsp;environmental&nbsp;and&nbsp;human&nbsp;rights&nbsp;crimes&nbsp;with&nbsp;the&nbsp;seriousness&nbsp;they&nbsp;deserve.</span></td><td style=\"word-wrap: break-word\" class=\"diff_next\"><a href=\"#difflib_chg_to3__top\">t</a></td><td style=\"word-wrap: break-word\" class=\"diff_header\" id=\"to3_11\">11</td><td style=\"word-wrap: break-word\" ><span class=\"diff_add\">The&nbsp;U.S.&nbsp;is&nbsp;one&nbsp;of&nbsp;the&nbsp;largest&nbsp;consumers&nbsp;of&nbsp;seafood.&nbsp;Approximately&nbsp;eighty&nbsp;percent&nbsp;of&nbsp;the&nbsp;seafood&nbsp;sold&nbsp;in&nbsp;the&nbsp;U.S.&nbsp;is&nbsp;imported,&nbsp;and&nbsp;as&nbsp;much&nbsp;as&nbsp;a&nbsp;third&nbsp;of&nbsp;the&nbsp;wild-caught&nbsp;seafood&nbsp;sold&nbsp;in&nbsp;the&nbsp;United&nbsp;States&nbsp;each&nbsp;year&nbsp;is&nbsp;illegal&nbsp;or&nbsp;unreported!&nbsp;&nbsp;</span></td></tr>\n",
       "            <tr><td style=\"word-wrap: break-word\" class=\"diff_next\"></td><td style=\"word-wrap: break-word\" class=\"diff_header\"></td><td style=\"word-wrap: break-word\" ></td><td style=\"word-wrap: break-word\" class=\"diff_next\"></td><td style=\"word-wrap: break-word\" class=\"diff_header\" id=\"to3_12\">12</td><td style=\"word-wrap: break-word\" ><span class=\"diff_add\">&nbsp;</span></td></tr>\n",
       "            <tr><td style=\"word-wrap: break-word\" class=\"diff_next\"></td><td style=\"word-wrap: break-word\" class=\"diff_header\"></td><td style=\"word-wrap: break-word\" ></td><td style=\"word-wrap: break-word\" class=\"diff_next\"></td><td style=\"word-wrap: break-word\" class=\"diff_header\" id=\"to3_13\">13</td><td style=\"word-wrap: break-word\" ><span class=\"diff_add\">The&nbsp;U.S.&nbsp;government&nbsp;has&nbsp;a&nbsp;responsibility&nbsp;to&nbsp;fix&nbsp;these&nbsp;problems,&nbsp;and&nbsp;seafood&nbsp;traceability&nbsp;is&nbsp;an&nbsp;essential&nbsp;step&nbsp;in&nbsp;the&nbsp;fight&nbsp;to&nbsp;end&nbsp;illegal&nbsp;fishing&nbsp;and&nbsp;human&nbsp;rights&nbsp;abuses&nbsp;in&nbsp;the&nbsp;seafood&nbsp;industry.&nbsp;</span></td></tr>\n",
       "            <tr><td style=\"word-wrap: break-word\" class=\"diff_next\"></td><td style=\"word-wrap: break-word\" class=\"diff_header\"></td><td style=\"word-wrap: break-word\" ></td><td style=\"word-wrap: break-word\" class=\"diff_next\"></td><td style=\"word-wrap: break-word\" class=\"diff_header\" id=\"to3_14\">14</td><td style=\"word-wrap: break-word\" ><span class=\"diff_add\">&nbsp;</span></td></tr>\n",
       "            <tr><td style=\"word-wrap: break-word\" class=\"diff_next\"></td><td style=\"word-wrap: break-word\" class=\"diff_header\"></td><td style=\"word-wrap: break-word\" ></td><td style=\"word-wrap: break-word\" class=\"diff_next\"></td><td style=\"word-wrap: break-word\" class=\"diff_header\" id=\"to3_15\">15</td><td style=\"word-wrap: break-word\" ><span class=\"diff_add\">Unfortunately,&nbsp;under&nbsp;NOAA&nbsp;Fisheries’&nbsp;proposed&nbsp;rule,&nbsp;traceability&nbsp;requirements&nbsp;would&nbsp;apply&nbsp;to&nbsp;only&nbsp;half&nbsp;of&nbsp;seafood&nbsp;imports,&nbsp;leaving&nbsp;massive&nbsp;loopholes&nbsp;that&nbsp;are&nbsp;easy&nbsp;for&nbsp;bad&nbsp;actors&nbsp;to&nbsp;exploit.&nbsp;</span></td></tr>\n",
       "            <tr><td style=\"word-wrap: break-word\" class=\"diff_next\"></td><td style=\"word-wrap: break-word\" class=\"diff_header\"></td><td style=\"word-wrap: break-word\" ></td><td style=\"word-wrap: break-word\" class=\"diff_next\"></td><td style=\"word-wrap: break-word\" class=\"diff_header\" id=\"to3_16\">16</td><td style=\"word-wrap: break-word\" ><span class=\"diff_add\">&nbsp;</span></td></tr>\n",
       "            <tr><td style=\"word-wrap: break-word\" class=\"diff_next\"></td><td style=\"word-wrap: break-word\" class=\"diff_header\"></td><td style=\"word-wrap: break-word\" ></td><td style=\"word-wrap: break-word\" class=\"diff_next\"></td><td style=\"word-wrap: break-word\" class=\"diff_header\" id=\"to3_17\">17</td><td style=\"word-wrap: break-word\" ><span class=\"diff_add\">Please&nbsp;revise&nbsp;the&nbsp;Seafood&nbsp;Import&nbsp;Monitoring&nbsp;Program&nbsp;proposed&nbsp;rule&nbsp;to&nbsp;adopt&nbsp;the&nbsp;strongest&nbsp;possible&nbsp;standards&nbsp;for&nbsp;seafood&nbsp;traceability&nbsp;to&nbsp;intercept&nbsp;the&nbsp;flow&nbsp;of&nbsp;illegal&nbsp;seafood&nbsp;into&nbsp;the&nbsp;U.S.</span></td></tr>\n",
       "        </tbody>\n",
       "    </table>\n",
       "    <table style=\"table-layout: fixed; width: 100%\" class=\"diff\" summary=\"Legends\">\n",
       "        <tr> <th colspan=\"2\"> Legends </th> </tr>\n",
       "        <tr> <td style=\"word-wrap: break-word\"> <table style=\"table-layout: fixed; width: 100%\" border=\"\" summary=\"Colors\">\n",
       "                      <tr><th> Colors </th> </tr>\n",
       "                      <tr><td style=\"word-wrap: break-word\" class=\"diff_add\">&nbsp;Added&nbsp;</td></tr>\n",
       "                      <tr><td style=\"word-wrap: break-word\" class=\"diff_chg\">Changed</td> </tr>\n",
       "                      <tr><td style=\"word-wrap: break-word\" class=\"diff_sub\">Deleted</td> </tr>\n",
       "                  </table></td>\n",
       "             <td style=\"word-wrap: break-word\"> <table style=\"table-layout: fixed; width: 100%\" border=\"\" summary=\"Links\">\n",
       "                      <tr><th colspan=\"2\"> Links </th> </tr>\n",
       "                      <tr><td style=\"word-wrap: break-word\">(f)irst change</td> </tr>\n",
       "                      <tr><td style=\"word-wrap: break-word\">(n)ext change</td> </tr>\n",
       "                      <tr><td style=\"word-wrap: break-word\">(t)op</td> </tr>\n",
       "                  </table></td> </tr>\n",
       "    </table>\n",
       "</body>\n",
       "\n",
       "</html>"
      ],
      "text/plain": [
       "<IPython.core.display.HTML object>"
      ]
     },
     "metadata": {},
     "output_type": "display_data"
    },
    {
     "data": {
      "text/html": [
       "\n",
       "<!DOCTYPE html PUBLIC \"-//W3C//DTD XHTML 1.0 Transitional//EN\"\n",
       "          \"http://www.w3.org/TR/xhtml1/DTD/xhtml1-transitional.dtd\">\n",
       "\n",
       "<html>\n",
       "\n",
       "<head>\n",
       "    <meta http-equiv=\"Content-Type\"\n",
       "          content=\"text/html; charset=utf-8\" />\n",
       "    <title></title>\n",
       "    <style type=\"text/css\">\n",
       "        table.diff {font-family:Courier; border:medium;}\n",
       "        .diff_header {background-color:#e0e0e0}\n",
       "        td.diff_header {text-align:right; width:1%}\n",
       "        .diff_next {background-color:#c0c0c0; width:1%}\n",
       "        .diff_add {background-color:#aaffaa}\n",
       "        .diff_chg {background-color:#ffff77}\n",
       "        .diff_sub {background-color:#ffaaaa}\n",
       "    </style>\n",
       "</head>\n",
       "\n",
       "<body>\n",
       "    \n",
       "    <table style=\"table-layout: fixed; width: 100%\" class=\"diff\" id=\"difflib_chg_to4__top\"\n",
       "           cellspacing=\"0\" cellpadding=\"0\" rules=\"groups\" >\n",
       "        <colgroup></colgroup> <colgroup></colgroup> <colgroup></colgroup>\n",
       "        <colgroup></colgroup> <colgroup></colgroup> <colgroup></colgroup>\n",
       "        \n",
       "        <tbody>\n",
       "            <tr><td style=\"word-wrap: break-word\" class=\"diff_next\" id=\"difflib_chg_to4__0\"><a href=\"#difflib_chg_to4__0\">f</a></td><td style=\"word-wrap: break-word\" class=\"diff_header\" id=\"from4_1\">1</td><td style=\"word-wrap: break-word\" >Dear&nbsp;NOAA&nbsp;Administrator&nbsp;Spinrad&nbsp;and&nbsp;NOAA&nbsp;Fisheries&nbsp;Assistant&nbsp;Administrator&nbsp;Coit:</td><td style=\"word-wrap: break-word\" class=\"diff_next\"><a href=\"#difflib_chg_to4__0\">f</a></td><td style=\"word-wrap: break-word\" class=\"diff_header\" id=\"to4_1\">1</td><td style=\"word-wrap: break-word\" >Dear&nbsp;NOAA&nbsp;Administrator&nbsp;Spinrad&nbsp;and&nbsp;NOAA&nbsp;Fisheries&nbsp;Assistant&nbsp;Administrator&nbsp;Coit:</td></tr>\n",
       "            <tr><td style=\"word-wrap: break-word\" class=\"diff_next\"><a href=\"#difflib_chg_to4__top\">t</a></td><td style=\"word-wrap: break-word\" class=\"diff_header\"></td><td style=\"word-wrap: break-word\" ></td><td style=\"word-wrap: break-word\" class=\"diff_next\"><a href=\"#difflib_chg_to4__top\">t</a></td><td style=\"word-wrap: break-word\" class=\"diff_header\" id=\"to4_2\">2</td><td style=\"word-wrap: break-word\" ><span class=\"diff_add\">&nbsp;</span></td></tr>\n",
       "            <tr><td style=\"word-wrap: break-word\" class=\"diff_next\"></td><td style=\"word-wrap: break-word\" class=\"diff_header\"></td><td style=\"word-wrap: break-word\" ></td><td style=\"word-wrap: break-word\" class=\"diff_next\"></td><td style=\"word-wrap: break-word\" class=\"diff_header\" id=\"to4_3\">3</td><td style=\"word-wrap: break-word\" ><span class=\"diff_add\">I&nbsp;concur&nbsp;with&nbsp;this&nbsp;message&nbsp;from&nbsp;NRDC&nbsp;and&nbsp;urge&nbsp;the&nbsp;NOAA&nbsp;to&nbsp;do&nbsp;what&nbsp;is&nbsp;necessary&nbsp;to&nbsp;curb&nbsp;illegal&nbsp;fishing&nbsp;and&nbsp;forced&nbsp;labor&nbsp;in&nbsp;the&nbsp;fishing&nbsp;industry.</span></td></tr>\n",
       "            <tr><td style=\"word-wrap: break-word\" class=\"diff_next\"></td><td style=\"word-wrap: break-word\" class=\"diff_header\" id=\"from4_2\">2</td><td style=\"word-wrap: break-word\" ></td><td style=\"word-wrap: break-word\" class=\"diff_next\"></td><td style=\"word-wrap: break-word\" class=\"diff_header\" id=\"to4_4\">4</td><td style=\"word-wrap: break-word\" ></td></tr>\n",
       "            <tr><td style=\"word-wrap: break-word\" class=\"diff_next\"></td><td style=\"word-wrap: break-word\" class=\"diff_header\" id=\"from4_3\">3</td><td style=\"word-wrap: break-word\" >The&nbsp;United&nbsp;States&nbsp;needs&nbsp;an&nbsp;effective&nbsp;seafood&nbsp;traceability&nbsp;program&nbsp;to&nbsp;intercept&nbsp;the&nbsp;flow&nbsp;of&nbsp;illegal&nbsp;seafood&nbsp;into&nbsp;our&nbsp;markets.&nbsp;Illegal&nbsp;fishing&nbsp;is&nbsp;a&nbsp;top&nbsp;driver&nbsp;of&nbsp;unsustainable&nbsp;and&nbsp;environmentally&nbsp;harmful&nbsp;fishing&nbsp;practices&nbsp;around&nbsp;the&nbsp;globe,&nbsp;as&nbsp;well&nbsp;as&nbsp;associated&nbsp;human&nbsp;rights&nbsp;abuses&nbsp;in&nbsp;the&nbsp;seafood&nbsp;sector.&nbsp;The&nbsp;newly&nbsp;proposed&nbsp;changes&nbsp;to&nbsp;the&nbsp;Seafood&nbsp;Import&nbsp;Monitoring&nbsp;Program&nbsp;do&nbsp;not&nbsp;go&nbsp;far&nbsp;enough&nbsp;to&nbsp;help&nbsp;end&nbsp;the&nbsp;U.S.'s&nbsp;role&nbsp;in&nbsp;perpetuating&nbsp;human&nbsp;rights&nbsp;abuses&nbsp;and&nbsp;environmental&nbsp;destruction&nbsp;in&nbsp;the&nbsp;seafood&nbsp;industry.&nbsp;</td><td style=\"word-wrap: break-word\" class=\"diff_next\"></td><td style=\"word-wrap: break-word\" class=\"diff_header\" id=\"to4_5\">5</td><td style=\"word-wrap: break-word\" >The&nbsp;United&nbsp;States&nbsp;needs&nbsp;an&nbsp;effective&nbsp;seafood&nbsp;traceability&nbsp;program&nbsp;to&nbsp;intercept&nbsp;the&nbsp;flow&nbsp;of&nbsp;illegal&nbsp;seafood&nbsp;into&nbsp;our&nbsp;markets.&nbsp;Illegal&nbsp;fishing&nbsp;is&nbsp;a&nbsp;top&nbsp;driver&nbsp;of&nbsp;unsustainable&nbsp;and&nbsp;environmentally&nbsp;harmful&nbsp;fishing&nbsp;practices&nbsp;around&nbsp;the&nbsp;globe,&nbsp;as&nbsp;well&nbsp;as&nbsp;associated&nbsp;human&nbsp;rights&nbsp;abuses&nbsp;in&nbsp;the&nbsp;seafood&nbsp;sector.&nbsp;The&nbsp;newly&nbsp;proposed&nbsp;changes&nbsp;to&nbsp;the&nbsp;Seafood&nbsp;Import&nbsp;Monitoring&nbsp;Program&nbsp;do&nbsp;not&nbsp;go&nbsp;far&nbsp;enough&nbsp;to&nbsp;help&nbsp;end&nbsp;the&nbsp;U.S.'s&nbsp;role&nbsp;in&nbsp;perpetuating&nbsp;human&nbsp;rights&nbsp;abuses&nbsp;and&nbsp;environmental&nbsp;destruction&nbsp;in&nbsp;the&nbsp;seafood&nbsp;industry.&nbsp;</td></tr>\n",
       "            <tr><td style=\"word-wrap: break-word\" class=\"diff_next\"></td><td style=\"word-wrap: break-word\" class=\"diff_header\" id=\"from4_4\">4</td><td style=\"word-wrap: break-word\" ></td><td style=\"word-wrap: break-word\" class=\"diff_next\"></td><td style=\"word-wrap: break-word\" class=\"diff_header\" id=\"to4_6\">6</td><td style=\"word-wrap: break-word\" ></td></tr>\n",
       "            <tr><td style=\"word-wrap: break-word\" class=\"diff_next\"></td><td style=\"word-wrap: break-word\" class=\"diff_header\" id=\"from4_5\">5</td><td style=\"word-wrap: break-word\" >Illegal&nbsp;fishing&nbsp;is&nbsp;destroying&nbsp;our&nbsp;oceans.&nbsp;Years&nbsp;of&nbsp;overfishing&nbsp;in&nbsp;nearshore&nbsp;waters&nbsp;have&nbsp;forced&nbsp;boats&nbsp;to&nbsp;go&nbsp;into&nbsp;deeper&nbsp;waters,&nbsp;which&nbsp;makes&nbsp;fishing&nbsp;more&nbsp;expensive.&nbsp;Some&nbsp;fishers&nbsp;will&nbsp;cut&nbsp;costs&nbsp;by&nbsp;fishing&nbsp;with&nbsp;illegal&nbsp;gear,&nbsp;fishing&nbsp;in&nbsp;protected&nbsp;areas,&nbsp;or&nbsp;ignoring&nbsp;catch&nbsp;limits.&nbsp;To&nbsp;save&nbsp;on&nbsp;labor&nbsp;costs,&nbsp;some&nbsp;vessel&nbsp;owners&nbsp;rely&nbsp;on&nbsp;human&nbsp;traffickers,&nbsp;some&nbsp;even&nbsp;kidnapping&nbsp;or&nbsp;drugging&nbsp;workers&nbsp;to&nbsp;get&nbsp;them&nbsp;on&nbsp;the&nbsp;ship&nbsp;and&nbsp;cut&nbsp;off&nbsp;from&nbsp;help.&nbsp;Further,&nbsp;the&nbsp;overseas&nbsp;seafood&nbsp;processing&nbsp;industry&nbsp;is&nbsp;heavily&nbsp;reliant&nbsp;on&nbsp;forced&nbsp;labor.&nbsp;&nbsp;</td><td style=\"word-wrap: break-word\" class=\"diff_next\"></td><td style=\"word-wrap: break-word\" class=\"diff_header\" id=\"to4_7\">7</td><td style=\"word-wrap: break-word\" >Illegal&nbsp;fishing&nbsp;is&nbsp;destroying&nbsp;our&nbsp;oceans.&nbsp;Years&nbsp;of&nbsp;overfishing&nbsp;in&nbsp;nearshore&nbsp;waters&nbsp;have&nbsp;forced&nbsp;boats&nbsp;to&nbsp;go&nbsp;into&nbsp;deeper&nbsp;waters,&nbsp;which&nbsp;makes&nbsp;fishing&nbsp;more&nbsp;expensive.&nbsp;Some&nbsp;fishers&nbsp;will&nbsp;cut&nbsp;costs&nbsp;by&nbsp;fishing&nbsp;with&nbsp;illegal&nbsp;gear,&nbsp;fishing&nbsp;in&nbsp;protected&nbsp;areas,&nbsp;or&nbsp;ignoring&nbsp;catch&nbsp;limits.&nbsp;To&nbsp;save&nbsp;on&nbsp;labor&nbsp;costs,&nbsp;some&nbsp;vessel&nbsp;owners&nbsp;rely&nbsp;on&nbsp;human&nbsp;traffickers,&nbsp;some&nbsp;even&nbsp;kidnapping&nbsp;or&nbsp;drugging&nbsp;workers&nbsp;to&nbsp;get&nbsp;them&nbsp;on&nbsp;the&nbsp;ship&nbsp;and&nbsp;cut&nbsp;off&nbsp;from&nbsp;help.&nbsp;Further,&nbsp;the&nbsp;overseas&nbsp;seafood&nbsp;processing&nbsp;industry&nbsp;is&nbsp;heavily&nbsp;reliant&nbsp;on&nbsp;forced&nbsp;labor.&nbsp;&nbsp;</td></tr>\n",
       "            <tr><td style=\"word-wrap: break-word\" class=\"diff_next\"></td><td style=\"word-wrap: break-word\" class=\"diff_header\" id=\"from4_6\">6</td><td style=\"word-wrap: break-word\" ></td><td style=\"word-wrap: break-word\" class=\"diff_next\"></td><td style=\"word-wrap: break-word\" class=\"diff_header\" id=\"to4_8\">8</td><td style=\"word-wrap: break-word\" ></td></tr>\n",
       "            <tr><td style=\"word-wrap: break-word\" class=\"diff_next\"></td><td style=\"word-wrap: break-word\" class=\"diff_header\" id=\"from4_7\">7</td><td style=\"word-wrap: break-word\" >The&nbsp;U.S.&nbsp;is&nbsp;one&nbsp;of&nbsp;the&nbsp;largest&nbsp;consumers&nbsp;of&nbsp;seafood.&nbsp;Approximately&nbsp;eighty&nbsp;percent&nbsp;of&nbsp;the&nbsp;seafood&nbsp;sold&nbsp;in&nbsp;the&nbsp;U.S.&nbsp;is&nbsp;imported,&nbsp;and&nbsp;as&nbsp;much&nbsp;as&nbsp;a&nbsp;third&nbsp;of&nbsp;the&nbsp;wild-caught&nbsp;seafood&nbsp;sold&nbsp;in&nbsp;the&nbsp;United&nbsp;States&nbsp;each&nbsp;year&nbsp;is&nbsp;illegal&nbsp;or&nbsp;unreported.&nbsp;&nbsp;</td><td style=\"word-wrap: break-word\" class=\"diff_next\"></td><td style=\"word-wrap: break-word\" class=\"diff_header\" id=\"to4_9\">9</td><td style=\"word-wrap: break-word\" >The&nbsp;U.S.&nbsp;is&nbsp;one&nbsp;of&nbsp;the&nbsp;largest&nbsp;consumers&nbsp;of&nbsp;seafood.&nbsp;Approximately&nbsp;eighty&nbsp;percent&nbsp;of&nbsp;the&nbsp;seafood&nbsp;sold&nbsp;in&nbsp;the&nbsp;U.S.&nbsp;is&nbsp;imported,&nbsp;and&nbsp;as&nbsp;much&nbsp;as&nbsp;a&nbsp;third&nbsp;of&nbsp;the&nbsp;wild-caught&nbsp;seafood&nbsp;sold&nbsp;in&nbsp;the&nbsp;United&nbsp;States&nbsp;each&nbsp;year&nbsp;is&nbsp;illegal&nbsp;or&nbsp;unreported.&nbsp;&nbsp;</td></tr>\n",
       "            <tr><td style=\"word-wrap: break-word\" class=\"diff_next\"></td><td style=\"word-wrap: break-word\" class=\"diff_header\" id=\"from4_8\">8</td><td style=\"word-wrap: break-word\" ></td><td style=\"word-wrap: break-word\" class=\"diff_next\"></td><td style=\"word-wrap: break-word\" class=\"diff_header\" id=\"to4_10\">10</td><td style=\"word-wrap: break-word\" ></td></tr>\n",
       "            <tr><td style=\"word-wrap: break-word\" class=\"diff_next\"></td><td style=\"word-wrap: break-word\" class=\"diff_header\" id=\"from4_9\">9</td><td style=\"word-wrap: break-word\" >The&nbsp;U.S.&nbsp;government&nbsp;has&nbsp;a&nbsp;responsibility&nbsp;to&nbsp;fix&nbsp;these&nbsp;problems,&nbsp;and&nbsp;seafood&nbsp;traceability&nbsp;is&nbsp;an&nbsp;essential&nbsp;step&nbsp;in&nbsp;the&nbsp;fight&nbsp;to&nbsp;end&nbsp;illegal&nbsp;fishing&nbsp;and&nbsp;human&nbsp;rights&nbsp;abuses&nbsp;in&nbsp;the&nbsp;seafood&nbsp;industry.&nbsp;But&nbsp;under&nbsp;NOAA&nbsp;Fisheries’&nbsp;proposed&nbsp;rule,&nbsp;traceability&nbsp;requirements&nbsp;would&nbsp;apply&nbsp;to&nbsp;only&nbsp;half&nbsp;of&nbsp;seafood&nbsp;imports,&nbsp;leaving&nbsp;massive&nbsp;loopholes&nbsp;that&nbsp;are&nbsp;easy&nbsp;for&nbsp;bad&nbsp;actors&nbsp;to&nbsp;exploit.&nbsp;The&nbsp;proposed&nbsp;rule&nbsp;also&nbsp;fails&nbsp;to&nbsp;sufficiently&nbsp;address&nbsp;labor&nbsp;abuses&nbsp;in&nbsp;seafood&nbsp;supply&nbsp;chains,&nbsp;and&nbsp;it&nbsp;includes&nbsp;no&nbsp;commitment&nbsp;to&nbsp;improve&nbsp;enforcement&nbsp;of&nbsp;traceability&nbsp;requirements.&nbsp;</td><td style=\"word-wrap: break-word\" class=\"diff_next\"></td><td style=\"word-wrap: break-word\" class=\"diff_header\" id=\"to4_11\">11</td><td style=\"word-wrap: break-word\" >The&nbsp;U.S.&nbsp;government&nbsp;has&nbsp;a&nbsp;responsibility&nbsp;to&nbsp;fix&nbsp;these&nbsp;problems,&nbsp;and&nbsp;seafood&nbsp;traceability&nbsp;is&nbsp;an&nbsp;essential&nbsp;step&nbsp;in&nbsp;the&nbsp;fight&nbsp;to&nbsp;end&nbsp;illegal&nbsp;fishing&nbsp;and&nbsp;human&nbsp;rights&nbsp;abuses&nbsp;in&nbsp;the&nbsp;seafood&nbsp;industry.&nbsp;But&nbsp;under&nbsp;NOAA&nbsp;Fisheries’&nbsp;proposed&nbsp;rule,&nbsp;traceability&nbsp;requirements&nbsp;would&nbsp;apply&nbsp;to&nbsp;only&nbsp;half&nbsp;of&nbsp;seafood&nbsp;imports,&nbsp;leaving&nbsp;massive&nbsp;loopholes&nbsp;that&nbsp;are&nbsp;easy&nbsp;for&nbsp;bad&nbsp;actors&nbsp;to&nbsp;exploit.&nbsp;The&nbsp;proposed&nbsp;rule&nbsp;also&nbsp;fails&nbsp;to&nbsp;sufficiently&nbsp;address&nbsp;labor&nbsp;abuses&nbsp;in&nbsp;seafood&nbsp;supply&nbsp;chains,&nbsp;and&nbsp;it&nbsp;includes&nbsp;no&nbsp;commitment&nbsp;to&nbsp;improve&nbsp;enforcement&nbsp;of&nbsp;traceability&nbsp;requirements.&nbsp;</td></tr>\n",
       "            <tr><td style=\"word-wrap: break-word\" class=\"diff_next\"></td><td style=\"word-wrap: break-word\" class=\"diff_header\" id=\"from4_10\">10</td><td style=\"word-wrap: break-word\" ></td><td style=\"word-wrap: break-word\" class=\"diff_next\"></td><td style=\"word-wrap: break-word\" class=\"diff_header\" id=\"to4_12\">12</td><td style=\"word-wrap: break-word\" ></td></tr>\n",
       "            <tr><td style=\"word-wrap: break-word\" class=\"diff_next\"></td><td style=\"word-wrap: break-word\" class=\"diff_header\" id=\"from4_11\">11</td><td style=\"word-wrap: break-word\" >Please&nbsp;revise&nbsp;the&nbsp;Seafood&nbsp;Import&nbsp;Monitoring&nbsp;Program&nbsp;proposed&nbsp;rule&nbsp;to&nbsp;adopt&nbsp;the&nbsp;strongest&nbsp;possible&nbsp;standards&nbsp;for&nbsp;seafood&nbsp;traceability&nbsp;to&nbsp;intercept&nbsp;the&nbsp;flow&nbsp;of&nbsp;illegal&nbsp;seafood&nbsp;into&nbsp;the&nbsp;U.S.&nbsp;and&nbsp;help&nbsp;consumers&nbsp;feel&nbsp;confident&nbsp;the&nbsp;seafood&nbsp;they&nbsp;buy&nbsp;is&nbsp;legally&nbsp;caught&nbsp;and&nbsp;not&nbsp;a&nbsp;product&nbsp;of&nbsp;labor&nbsp;abuses.&nbsp;Thank&nbsp;you&nbsp;for&nbsp;helping&nbsp;to&nbsp;address&nbsp;these&nbsp;environmental&nbsp;and&nbsp;human&nbsp;rights&nbsp;crimes&nbsp;with&nbsp;the&nbsp;seriousness&nbsp;they&nbsp;deserve.</td><td style=\"word-wrap: break-word\" class=\"diff_next\"></td><td style=\"word-wrap: break-word\" class=\"diff_header\" id=\"to4_13\">13</td><td style=\"word-wrap: break-word\" >Please&nbsp;revise&nbsp;the&nbsp;Seafood&nbsp;Import&nbsp;Monitoring&nbsp;Program&nbsp;proposed&nbsp;rule&nbsp;to&nbsp;adopt&nbsp;the&nbsp;strongest&nbsp;possible&nbsp;standards&nbsp;for&nbsp;seafood&nbsp;traceability&nbsp;to&nbsp;intercept&nbsp;the&nbsp;flow&nbsp;of&nbsp;illegal&nbsp;seafood&nbsp;into&nbsp;the&nbsp;U.S.&nbsp;and&nbsp;help&nbsp;consumers&nbsp;feel&nbsp;confident&nbsp;the&nbsp;seafood&nbsp;they&nbsp;buy&nbsp;is&nbsp;legally&nbsp;caught&nbsp;and&nbsp;not&nbsp;a&nbsp;product&nbsp;of&nbsp;labor&nbsp;abuses.&nbsp;Thank&nbsp;you&nbsp;for&nbsp;helping&nbsp;to&nbsp;address&nbsp;these&nbsp;environmental&nbsp;and&nbsp;human&nbsp;rights&nbsp;crimes&nbsp;with&nbsp;the&nbsp;seriousness&nbsp;they&nbsp;deserve.</td></tr>\n",
       "        </tbody>\n",
       "    </table>\n",
       "    <table style=\"table-layout: fixed; width: 100%\" class=\"diff\" summary=\"Legends\">\n",
       "        <tr> <th colspan=\"2\"> Legends </th> </tr>\n",
       "        <tr> <td style=\"word-wrap: break-word\"> <table style=\"table-layout: fixed; width: 100%\" border=\"\" summary=\"Colors\">\n",
       "                      <tr><th> Colors </th> </tr>\n",
       "                      <tr><td style=\"word-wrap: break-word\" class=\"diff_add\">&nbsp;Added&nbsp;</td></tr>\n",
       "                      <tr><td style=\"word-wrap: break-word\" class=\"diff_chg\">Changed</td> </tr>\n",
       "                      <tr><td style=\"word-wrap: break-word\" class=\"diff_sub\">Deleted</td> </tr>\n",
       "                  </table></td>\n",
       "             <td style=\"word-wrap: break-word\"> <table style=\"table-layout: fixed; width: 100%\" border=\"\" summary=\"Links\">\n",
       "                      <tr><th colspan=\"2\"> Links </th> </tr>\n",
       "                      <tr><td style=\"word-wrap: break-word\">(f)irst change</td> </tr>\n",
       "                      <tr><td style=\"word-wrap: break-word\">(n)ext change</td> </tr>\n",
       "                      <tr><td style=\"word-wrap: break-word\">(t)op</td> </tr>\n",
       "                  </table></td> </tr>\n",
       "    </table>\n",
       "</body>\n",
       "\n",
       "</html>"
      ],
      "text/plain": [
       "<IPython.core.display.HTML object>"
      ]
     },
     "metadata": {},
     "output_type": "display_data"
    },
    {
     "data": {
      "text/html": [
       "\n",
       "<!DOCTYPE html PUBLIC \"-//W3C//DTD XHTML 1.0 Transitional//EN\"\n",
       "          \"http://www.w3.org/TR/xhtml1/DTD/xhtml1-transitional.dtd\">\n",
       "\n",
       "<html>\n",
       "\n",
       "<head>\n",
       "    <meta http-equiv=\"Content-Type\"\n",
       "          content=\"text/html; charset=utf-8\" />\n",
       "    <title></title>\n",
       "    <style type=\"text/css\">\n",
       "        table.diff {font-family:Courier; border:medium;}\n",
       "        .diff_header {background-color:#e0e0e0}\n",
       "        td.diff_header {text-align:right; width:1%}\n",
       "        .diff_next {background-color:#c0c0c0; width:1%}\n",
       "        .diff_add {background-color:#aaffaa}\n",
       "        .diff_chg {background-color:#ffff77}\n",
       "        .diff_sub {background-color:#ffaaaa}\n",
       "    </style>\n",
       "</head>\n",
       "\n",
       "<body>\n",
       "    \n",
       "    <table style=\"table-layout: fixed; width: 100%\" class=\"diff\" id=\"difflib_chg_to5__top\"\n",
       "           cellspacing=\"0\" cellpadding=\"0\" rules=\"groups\" >\n",
       "        <colgroup></colgroup> <colgroup></colgroup> <colgroup></colgroup>\n",
       "        <colgroup></colgroup> <colgroup></colgroup> <colgroup></colgroup>\n",
       "        \n",
       "        <tbody>\n",
       "            <tr><td style=\"word-wrap: break-word\" class=\"diff_next\" id=\"difflib_chg_to5__1\"><a href=\"#difflib_chg_to5__0\">f</a></td><td style=\"word-wrap: break-word\" class=\"diff_header\" id=\"from5_1\">1</td><td style=\"word-wrap: break-word\" >Dear&nbsp;NOAA&nbsp;Administrator&nbsp;Spinrad&nbsp;and&nbsp;NOAA&nbsp;Fisheries&nbsp;Assistant&nbsp;Administrator&nbsp;Coit:</td><td style=\"word-wrap: break-word\" class=\"diff_next\"><a href=\"#difflib_chg_to5__0\">f</a></td><td style=\"word-wrap: break-word\" class=\"diff_header\" id=\"to5_1\">1</td><td style=\"word-wrap: break-word\" >Dear&nbsp;NOAA&nbsp;Administrator&nbsp;Spinrad&nbsp;and&nbsp;NOAA&nbsp;Fisheries&nbsp;Assistant&nbsp;Administrator&nbsp;Coit:</td></tr>\n",
       "            <tr><td style=\"word-wrap: break-word\" class=\"diff_next\" id=\"difflib_chg_to5__2\"></td><td style=\"word-wrap: break-word\" class=\"diff_header\" id=\"from5_2\">2</td><td style=\"word-wrap: break-word\" ></td><td style=\"word-wrap: break-word\" class=\"diff_next\"></td><td style=\"word-wrap: break-word\" class=\"diff_header\" id=\"to5_2\">2</td><td style=\"word-wrap: break-word\" ></td></tr>\n",
       "            <tr><td style=\"word-wrap: break-word\" class=\"diff_next\"><a href=\"#difflib_chg_to5__1\">n</a></td><td style=\"word-wrap: break-word\" class=\"diff_header\" id=\"from5_3\">3</td><td style=\"word-wrap: break-word\" ><span class=\"diff_sub\">The&nbsp;United&nbsp;States&nbsp;needs&nbsp;an&nbsp;effective&nbsp;seafood&nbsp;traceability&nbsp;program&nbsp;to&nbsp;intercept&nbsp;the&nbsp;flow&nbsp;of&nbsp;illegal&nbsp;seafood&nbsp;into&nbsp;our&nbsp;markets.&nbsp;Illegal&nbsp;fishing&nbsp;is&nbsp;a&nbsp;top&nbsp;driver&nbsp;of&nbsp;unsustainable&nbsp;and&nbsp;environmentally&nbsp;harmful&nbsp;fishing&nbsp;practices&nbsp;around&nbsp;the&nbsp;globe,&nbsp;as&nbsp;well&nbsp;as&nbsp;associated&nbsp;human&nbsp;rights&nbsp;abuses&nbsp;in&nbsp;the&nbsp;seafood&nbsp;sector.&nbsp;The&nbsp;newly&nbsp;proposed&nbsp;changes&nbsp;to&nbsp;the&nbsp;Seafood&nbsp;Import&nbsp;Monitoring&nbsp;Program&nbsp;do&nbsp;not&nbsp;go&nbsp;far&nbsp;enough&nbsp;to&nbsp;help&nbsp;end&nbsp;the&nbsp;U.S.'s&nbsp;role&nbsp;in&nbsp;perpetuating&nbsp;human&nbsp;rights&nbsp;abuses&nbsp;and&nbsp;environmental&nbsp;destruction&nbsp;in&nbsp;the&nbsp;seafood&nbsp;industry.&nbsp;</span></td><td style=\"word-wrap: break-word\" class=\"diff_next\"><a href=\"#difflib_chg_to5__1\">n</a></td><td style=\"word-wrap: break-word\" class=\"diff_header\" id=\"to5_3\">3</td><td style=\"word-wrap: break-word\" ><span class=\"diff_add\">The&nbsp;United&nbsp;States&nbsp;needs&nbsp;an&nbsp;effective&nbsp;**seafood&nbsp;traceability&nbsp;program&nbsp;to&nbsp;INTERCEPT&nbsp;the&nbsp;flow&nbsp;of&nbsp;illegal&nbsp;seafood&nbsp;into&nbsp;our&nbsp;markets.&nbsp;Illegal&nbsp;fishing&nbsp;is&nbsp;a&nbsp;TOP&nbsp;DRIVER&nbsp;of&nbsp;unsustainable&nbsp;and&nbsp;environmentally&nbsp;harmful&nbsp;fishing&nbsp;practices&nbsp;around&nbsp;the&nbsp;globe,&nbsp;as&nbsp;well&nbsp;as&nbsp;**associated&nbsp;human&nbsp;rights&nbsp;abuses&nbsp;in&nbsp;the&nbsp;seafood&nbsp;sector.&nbsp;***The&nbsp;newly&nbsp;proposed&nbsp;changes&nbsp;to&nbsp;the&nbsp;Seafood&nbsp;Import&nbsp;Monitoring&nbsp;Program&nbsp;do&nbsp;not&nbsp;go&nbsp;far&nbsp;enough&nbsp;to&nbsp;help&nbsp;end&nbsp;the&nbsp;U.S.'s&nbsp;role&nbsp;in&nbsp;perpetuating&nbsp;human&nbsp;rights&nbsp;abuses&nbsp;and&nbsp;environmental&nbsp;destruction&nbsp;in&nbsp;the&nbsp;seafood&nbsp;industry.&nbsp;</span></td></tr>\n",
       "            <tr><td style=\"word-wrap: break-word\" class=\"diff_next\" id=\"difflib_chg_to5__3\"></td><td style=\"word-wrap: break-word\" class=\"diff_header\" id=\"from5_4\">4</td><td style=\"word-wrap: break-word\" ></td><td style=\"word-wrap: break-word\" class=\"diff_next\"></td><td style=\"word-wrap: break-word\" class=\"diff_header\" id=\"to5_4\">4</td><td style=\"word-wrap: break-word\" ></td></tr>\n",
       "            <tr><td style=\"word-wrap: break-word\" class=\"diff_next\"><a href=\"#difflib_chg_to5__2\">n</a></td><td style=\"word-wrap: break-word\" class=\"diff_header\" id=\"from5_5\">5</td><td style=\"word-wrap: break-word\" >Illegal&nbsp;fishing&nbsp;is&nbsp;destroying&nbsp;our&nbsp;oceans.&nbsp;Years&nbsp;of&nbsp;overfishing&nbsp;in&nbsp;nearshore&nbsp;waters&nbsp;have&nbsp;forced&nbsp;boats&nbsp;to&nbsp;go&nbsp;into&nbsp;deeper&nbsp;waters,&nbsp;which&nbsp;makes&nbsp;fishing&nbsp;more&nbsp;expensive.&nbsp;Some&nbsp;fishers&nbsp;will&nbsp;cut&nbsp;costs&nbsp;by&nbsp;fishing&nbsp;with&nbsp;illegal&nbsp;gear,&nbsp;fishing&nbsp;in&nbsp;protected&nbsp;areas,&nbsp;or&nbsp;ignoring&nbsp;catch&nbsp;limits.&nbsp;To&nbsp;save&nbsp;on&nbsp;labor&nbsp;costs,&nbsp;some&nbsp;vessel&nbsp;owners&nbsp;rely&nbsp;on&nbsp;human&nbsp;traffickers,&nbsp;some&nbsp;even&nbsp;kidnapping&nbsp;or&nbsp;drugging&nbsp;workers&nbsp;to&nbsp;get&nbsp;them&nbsp;on&nbsp;the&nbsp;ship&nbsp;and&nbsp;cut&nbsp;off&nbsp;from&nbsp;help.&nbsp;Further,&nbsp;the&nbsp;<span class=\"diff_chg\">overseas&nbsp;seafood&nbsp;processing</span>&nbsp;industry&nbsp;is&nbsp;heavily&nbsp;reliant&nbsp;on&nbsp;forced&nbsp;labor.&nbsp;&nbsp;</td><td style=\"word-wrap: break-word\" class=\"diff_next\"><a href=\"#difflib_chg_to5__2\">n</a></td><td style=\"word-wrap: break-word\" class=\"diff_header\" id=\"to5_5\">5</td><td style=\"word-wrap: break-word\" >Illegal&nbsp;fishing&nbsp;is&nbsp;destroying&nbsp;our&nbsp;oceans.&nbsp;Years&nbsp;of&nbsp;overfishing&nbsp;in&nbsp;nearshore&nbsp;waters&nbsp;have&nbsp;forced&nbsp;boats&nbsp;to&nbsp;go&nbsp;into&nbsp;deeper&nbsp;waters,&nbsp;which&nbsp;makes&nbsp;fishing&nbsp;more&nbsp;expensive.&nbsp;<span class=\"diff_add\">**</span>Some&nbsp;fishers&nbsp;will&nbsp;cut&nbsp;costs&nbsp;by&nbsp;fishing&nbsp;with&nbsp;illegal&nbsp;gear,&nbsp;fishing&nbsp;in&nbsp;protected&nbsp;areas,&nbsp;or&nbsp;ignoring&nbsp;catch&nbsp;limits.&nbsp;To&nbsp;save&nbsp;on&nbsp;labor&nbsp;costs,&nbsp;some&nbsp;vessel&nbsp;owners&nbsp;rely&nbsp;on&nbsp;human&nbsp;traffickers,&nbsp;some&nbsp;even&nbsp;kidnapping&nbsp;or&nbsp;drugging&nbsp;workers&nbsp;to&nbsp;get&nbsp;them&nbsp;on&nbsp;the&nbsp;ship&nbsp;and&nbsp;cut&nbsp;off&nbsp;from&nbsp;help.&nbsp;Further,&nbsp;the&nbsp;<span class=\"diff_chg\">**overseas&nbsp;seafood&nbsp;processing</span>&nbsp;industry&nbsp;is&nbsp;heavily&nbsp;reliant&nbsp;on&nbsp;forced&nbsp;labor.&nbsp;&nbsp;</td></tr>\n",
       "            <tr><td style=\"word-wrap: break-word\" class=\"diff_next\" id=\"difflib_chg_to5__4\"></td><td style=\"word-wrap: break-word\" class=\"diff_header\" id=\"from5_6\">6</td><td style=\"word-wrap: break-word\" ></td><td style=\"word-wrap: break-word\" class=\"diff_next\"></td><td style=\"word-wrap: break-word\" class=\"diff_header\" id=\"to5_6\">6</td><td style=\"word-wrap: break-word\" ></td></tr>\n",
       "            <tr><td style=\"word-wrap: break-word\" class=\"diff_next\"><a href=\"#difflib_chg_to5__3\">n</a></td><td style=\"word-wrap: break-word\" class=\"diff_header\" id=\"from5_7\">7</td><td style=\"word-wrap: break-word\" ><span class=\"diff_sub\">The&nbsp;U.S.&nbsp;is&nbsp;one&nbsp;of&nbsp;the&nbsp;largest&nbsp;consumers&nbsp;of&nbsp;seafood.&nbsp;Approximately&nbsp;eighty&nbsp;percent&nbsp;of&nbsp;the&nbsp;seafood&nbsp;sold&nbsp;in&nbsp;the&nbsp;U.S.&nbsp;is&nbsp;imported,&nbsp;and&nbsp;as&nbsp;much&nbsp;as&nbsp;a&nbsp;third&nbsp;of&nbsp;the&nbsp;wild-caught&nbsp;seafood&nbsp;sold&nbsp;in&nbsp;the&nbsp;United&nbsp;States&nbsp;each&nbsp;year&nbsp;is&nbsp;illegal&nbsp;or&nbsp;unreported.&nbsp;&nbsp;</span></td><td style=\"word-wrap: break-word\" class=\"diff_next\"><a href=\"#difflib_chg_to5__3\">n</a></td><td style=\"word-wrap: break-word\" class=\"diff_header\" id=\"to5_7\">7</td><td style=\"word-wrap: break-word\" ><span class=\"diff_add\">***The&nbsp;U.S.&nbsp;is&nbsp;one&nbsp;of&nbsp;the&nbsp;largest&nbsp;consumers&nbsp;of&nbsp;seafood.&nbsp;Approximately&nbsp;eighty&nbsp;percent&nbsp;of&nbsp;the&nbsp;seafood&nbsp;sold&nbsp;in&nbsp;the&nbsp;U.S.&nbsp;is&nbsp;imported,&nbsp;and&nbsp;AS&nbsp;MUCH&nbsp;AS&nbsp;A&nbsp;THIRD&nbsp;of&nbsp;the&nbsp;wild-caught&nbsp;seafood&nbsp;sold&nbsp;in&nbsp;the&nbsp;United&nbsp;States&nbsp;each&nbsp;year&nbsp;is&nbsp;illegal&nbsp;or&nbsp;unreported.&nbsp;&nbsp;</span></td></tr>\n",
       "            <tr><td style=\"word-wrap: break-word\" class=\"diff_next\"></td><td style=\"word-wrap: break-word\" class=\"diff_header\" id=\"from5_8\">8</td><td style=\"word-wrap: break-word\" ></td><td style=\"word-wrap: break-word\" class=\"diff_next\"></td><td style=\"word-wrap: break-word\" class=\"diff_header\" id=\"to5_8\">8</td><td style=\"word-wrap: break-word\" ></td></tr>\n",
       "            <tr><td style=\"word-wrap: break-word\" class=\"diff_next\"><a href=\"#difflib_chg_to5__4\">n</a></td><td style=\"word-wrap: break-word\" class=\"diff_header\" id=\"from5_9\">9</td><td style=\"word-wrap: break-word\" ><span class=\"diff_sub\">The&nbsp;U.S.&nbsp;government&nbsp;has&nbsp;a&nbsp;responsibility&nbsp;to&nbsp;fix&nbsp;these&nbsp;problems,&nbsp;and&nbsp;seafood&nbsp;traceability&nbsp;is&nbsp;an&nbsp;essential&nbsp;step&nbsp;in&nbsp;the&nbsp;fight&nbsp;to&nbsp;end&nbsp;illegal&nbsp;fishing&nbsp;and&nbsp;human&nbsp;rights&nbsp;abuses&nbsp;in&nbsp;the&nbsp;seafood&nbsp;industry.&nbsp;But&nbsp;under&nbsp;NOAA&nbsp;Fisheries’&nbsp;proposed&nbsp;rule,&nbsp;traceability&nbsp;requirements&nbsp;would&nbsp;apply&nbsp;to&nbsp;only&nbsp;half&nbsp;of&nbsp;seafood&nbsp;imports,&nbsp;leaving&nbsp;massive&nbsp;loopholes&nbsp;that&nbsp;are&nbsp;easy&nbsp;for&nbsp;bad&nbsp;actors&nbsp;to&nbsp;exploit.&nbsp;The&nbsp;proposed&nbsp;rule&nbsp;also&nbsp;fails&nbsp;to&nbsp;sufficiently&nbsp;address&nbsp;labor&nbsp;abuses&nbsp;in&nbsp;seafood&nbsp;supply&nbsp;chains,&nbsp;and&nbsp;it&nbsp;includes&nbsp;no&nbsp;commitment&nbsp;to&nbsp;improve&nbsp;enforcement&nbsp;of&nbsp;traceability&nbsp;requirements.&nbsp;</span></td><td style=\"word-wrap: break-word\" class=\"diff_next\"><a href=\"#difflib_chg_to5__4\">n</a></td><td style=\"word-wrap: break-word\" class=\"diff_header\" id=\"to5_9\">9</td><td style=\"word-wrap: break-word\" ><span class=\"diff_add\">The&nbsp;U.S.&nbsp;government&nbsp;has&nbsp;a&nbsp;responsibility&nbsp;to&nbsp;fix&nbsp;these&nbsp;problems,&nbsp;and&nbsp;SEAFOOD&nbsp;TRACEABILITY&nbsp;&nbsp;is&nbsp;an&nbsp;essential&nbsp;step&nbsp;in&nbsp;the&nbsp;fight&nbsp;to&nbsp;end&nbsp;illegal&nbsp;fishing&nbsp;and&nbsp;human&nbsp;rights&nbsp;abuses&nbsp;in&nbsp;the&nbsp;seafood&nbsp;industry.&nbsp;But&nbsp;under&nbsp;NOAA&nbsp;Fisheries’&nbsp;proposed&nbsp;rule,&nbsp;traceability&nbsp;requirements&nbsp;would&nbsp;apply&nbsp;to&nbsp;only&nbsp;half&nbsp;of&nbsp;seafood&nbsp;imports,&nbsp;leaving&nbsp;massive&nbsp;LOOPHOLES&nbsp;that&nbsp;are&nbsp;easy&nbsp;for&nbsp;bad&nbsp;actors&nbsp;to&nbsp;exploit.&nbsp;The&nbsp;proposed&nbsp;rule&nbsp;also&nbsp;fails&nbsp;to&nbsp;sufficiently&nbsp;address&nbsp;LABOR&nbsp;ABUSES&nbsp;in&nbsp;seafood&nbsp;supply&nbsp;chains,&nbsp;and&nbsp;it&nbsp;includes&nbsp;no&nbsp;commitment&nbsp;to&nbsp;improve&nbsp;enforcement&nbsp;of&nbsp;traceability&nbsp;requirements.&nbsp;</span></td></tr>\n",
       "            <tr><td style=\"word-wrap: break-word\" class=\"diff_next\"></td><td style=\"word-wrap: break-word\" class=\"diff_header\" id=\"from5_10\">10</td><td style=\"word-wrap: break-word\" ></td><td style=\"word-wrap: break-word\" class=\"diff_next\"></td><td style=\"word-wrap: break-word\" class=\"diff_header\" id=\"to5_10\">10</td><td style=\"word-wrap: break-word\" ></td></tr>\n",
       "            <tr><td style=\"word-wrap: break-word\" class=\"diff_next\"><a href=\"#difflib_chg_to5__top\">t</a></td><td style=\"word-wrap: break-word\" class=\"diff_header\" id=\"from5_11\">11</td><td style=\"word-wrap: break-word\" ><span class=\"diff_sub\">Please&nbsp;revise&nbsp;the&nbsp;Seafood&nbsp;Import&nbsp;Monitoring&nbsp;Program&nbsp;proposed&nbsp;rule&nbsp;to&nbsp;adopt&nbsp;the&nbsp;strongest&nbsp;possible&nbsp;standards&nbsp;for&nbsp;seafood&nbsp;traceability&nbsp;to&nbsp;intercept&nbsp;the&nbsp;flow&nbsp;of&nbsp;illegal&nbsp;seafood&nbsp;into&nbsp;the&nbsp;U.S.&nbsp;and&nbsp;help&nbsp;consumers&nbsp;feel&nbsp;confident&nbsp;the&nbsp;seafood&nbsp;they&nbsp;buy&nbsp;is&nbsp;legally&nbsp;caught&nbsp;and&nbsp;not&nbsp;a&nbsp;product&nbsp;of&nbsp;labor&nbsp;abuses.&nbsp;Thank&nbsp;you&nbsp;for&nbsp;helping&nbsp;to&nbsp;address&nbsp;these&nbsp;environmental&nbsp;and&nbsp;human&nbsp;rights&nbsp;crimes&nbsp;with&nbsp;the&nbsp;seriousness&nbsp;they&nbsp;deserve.</span></td><td style=\"word-wrap: break-word\" class=\"diff_next\"><a href=\"#difflib_chg_to5__top\">t</a></td><td style=\"word-wrap: break-word\" class=\"diff_header\" id=\"to5_11\">11</td><td style=\"word-wrap: break-word\" ><span class=\"diff_add\">Please&nbsp;REVISE&nbsp;the&nbsp;Seafood&nbsp;Import&nbsp;Monitoring&nbsp;Program&nbsp;proposed&nbsp;rule&nbsp;to&nbsp;adopt&nbsp;the&nbsp;strongest&nbsp;possible&nbsp;standards&nbsp;for&nbsp;seafood&nbsp;traceability&nbsp;to&nbsp;intercept&nbsp;the&nbsp;flow&nbsp;of&nbsp;illegal&nbsp;seafood&nbsp;into&nbsp;the&nbsp;U.S.&nbsp;and&nbsp;help&nbsp;consumers&nbsp;feel&nbsp;confident&nbsp;the&nbsp;seafood&nbsp;they&nbsp;buy&nbsp;is&nbsp;legally&nbsp;caught&nbsp;and&nbsp;not&nbsp;a&nbsp;product&nbsp;of&nbsp;labor&nbsp;abuses.&nbsp;THANK&nbsp;YOU&nbsp;for&nbsp;helping&nbsp;to&nbsp;address&nbsp;these&nbsp;environmental&nbsp;and&nbsp;human&nbsp;rights&nbsp;crimes&nbsp;with&nbsp;the&nbsp;seriousness&nbsp;they&nbsp;deserve.</span></td></tr>\n",
       "        </tbody>\n",
       "    </table>\n",
       "    <table style=\"table-layout: fixed; width: 100%\" class=\"diff\" summary=\"Legends\">\n",
       "        <tr> <th colspan=\"2\"> Legends </th> </tr>\n",
       "        <tr> <td style=\"word-wrap: break-word\"> <table style=\"table-layout: fixed; width: 100%\" border=\"\" summary=\"Colors\">\n",
       "                      <tr><th> Colors </th> </tr>\n",
       "                      <tr><td style=\"word-wrap: break-word\" class=\"diff_add\">&nbsp;Added&nbsp;</td></tr>\n",
       "                      <tr><td style=\"word-wrap: break-word\" class=\"diff_chg\">Changed</td> </tr>\n",
       "                      <tr><td style=\"word-wrap: break-word\" class=\"diff_sub\">Deleted</td> </tr>\n",
       "                  </table></td>\n",
       "             <td style=\"word-wrap: break-word\"> <table style=\"table-layout: fixed; width: 100%\" border=\"\" summary=\"Links\">\n",
       "                      <tr><th colspan=\"2\"> Links </th> </tr>\n",
       "                      <tr><td style=\"word-wrap: break-word\">(f)irst change</td> </tr>\n",
       "                      <tr><td style=\"word-wrap: break-word\">(n)ext change</td> </tr>\n",
       "                      <tr><td style=\"word-wrap: break-word\">(t)op</td> </tr>\n",
       "                  </table></td> </tr>\n",
       "    </table>\n",
       "</body>\n",
       "\n",
       "</html>"
      ],
      "text/plain": [
       "<IPython.core.display.HTML object>"
      ]
     },
     "metadata": {},
     "output_type": "display_data"
    },
    {
     "data": {
      "text/html": [
       "\n",
       "<!DOCTYPE html PUBLIC \"-//W3C//DTD XHTML 1.0 Transitional//EN\"\n",
       "          \"http://www.w3.org/TR/xhtml1/DTD/xhtml1-transitional.dtd\">\n",
       "\n",
       "<html>\n",
       "\n",
       "<head>\n",
       "    <meta http-equiv=\"Content-Type\"\n",
       "          content=\"text/html; charset=utf-8\" />\n",
       "    <title></title>\n",
       "    <style type=\"text/css\">\n",
       "        table.diff {font-family:Courier; border:medium;}\n",
       "        .diff_header {background-color:#e0e0e0}\n",
       "        td.diff_header {text-align:right; width:1%}\n",
       "        .diff_next {background-color:#c0c0c0; width:1%}\n",
       "        .diff_add {background-color:#aaffaa}\n",
       "        .diff_chg {background-color:#ffff77}\n",
       "        .diff_sub {background-color:#ffaaaa}\n",
       "    </style>\n",
       "</head>\n",
       "\n",
       "<body>\n",
       "    \n",
       "    <table style=\"table-layout: fixed; width: 100%\" class=\"diff\" id=\"difflib_chg_to6__top\"\n",
       "           cellspacing=\"0\" cellpadding=\"0\" rules=\"groups\" >\n",
       "        <colgroup></colgroup> <colgroup></colgroup> <colgroup></colgroup>\n",
       "        <colgroup></colgroup> <colgroup></colgroup> <colgroup></colgroup>\n",
       "        \n",
       "        <tbody>\n",
       "            <tr><td style=\"word-wrap: break-word\" class=\"diff_next\" id=\"difflib_chg_to6__0\"><a href=\"#difflib_chg_to6__0\">f</a></td><td style=\"word-wrap: break-word\" class=\"diff_header\" id=\"from6_1\">1</td><td style=\"word-wrap: break-word\" >Dear&nbsp;NOAA&nbsp;Administrator&nbsp;Spinrad&nbsp;and&nbsp;NOAA&nbsp;Fisheries&nbsp;Assistant&nbsp;Administrator&nbsp;Coit:</td><td style=\"word-wrap: break-word\" class=\"diff_next\"><a href=\"#difflib_chg_to6__0\">f</a></td><td style=\"word-wrap: break-word\" class=\"diff_header\" id=\"to6_1\">1</td><td style=\"word-wrap: break-word\" >Dear&nbsp;NOAA&nbsp;Administrator&nbsp;Spinrad&nbsp;and&nbsp;NOAA&nbsp;Fisheries&nbsp;Assistant&nbsp;Administrator&nbsp;Coit:</td></tr>\n",
       "            <tr><td style=\"word-wrap: break-word\" class=\"diff_next\"></td><td style=\"word-wrap: break-word\" class=\"diff_header\" id=\"from6_2\">2</td><td style=\"word-wrap: break-word\" ></td><td style=\"word-wrap: break-word\" class=\"diff_next\"></td><td style=\"word-wrap: break-word\" class=\"diff_header\" id=\"to6_2\">2</td><td style=\"word-wrap: break-word\" ></td></tr>\n",
       "            <tr><td style=\"word-wrap: break-word\" class=\"diff_next\"><a href=\"#difflib_chg_to6__top\">t</a></td><td style=\"word-wrap: break-word\" class=\"diff_header\" id=\"from6_3\">3</td><td style=\"word-wrap: break-word\" ><span class=\"diff_sub\">The&nbsp;United&nbsp;States&nbsp;needs&nbsp;an&nbsp;effective&nbsp;seafood&nbsp;traceability&nbsp;program&nbsp;to&nbsp;intercept&nbsp;the&nbsp;flow&nbsp;of&nbsp;illegal&nbsp;seafood&nbsp;into&nbsp;our&nbsp;markets.&nbsp;Illegal&nbsp;fishing&nbsp;is&nbsp;a&nbsp;top&nbsp;driver&nbsp;of&nbsp;unsustainable&nbsp;and&nbsp;environmentally&nbsp;harmful&nbsp;fishing&nbsp;practices&nbsp;around&nbsp;the&nbsp;globe,&nbsp;as&nbsp;well&nbsp;as&nbsp;associated&nbsp;human&nbsp;rights&nbsp;abuses&nbsp;in&nbsp;the&nbsp;seafood&nbsp;sector.&nbsp;The&nbsp;newly&nbsp;proposed&nbsp;changes&nbsp;to&nbsp;the&nbsp;Seafood&nbsp;Import&nbsp;Monitoring&nbsp;Program&nbsp;do&nbsp;not&nbsp;go&nbsp;far&nbsp;enough&nbsp;to&nbsp;help&nbsp;end&nbsp;the&nbsp;U.S.'s&nbsp;role&nbsp;in&nbsp;perpetuating&nbsp;human&nbsp;rights&nbsp;abuses&nbsp;and&nbsp;environmental&nbsp;destruction&nbsp;in&nbsp;the&nbsp;seafood&nbsp;industry.&nbsp;</span></td><td style=\"word-wrap: break-word\" class=\"diff_next\"><a href=\"#difflib_chg_to6__top\">t</a></td><td style=\"word-wrap: break-word\" class=\"diff_header\" id=\"to6_3\">3</td><td style=\"word-wrap: break-word\" ><span class=\"diff_add\">As&nbsp;someone&nbsp;who&nbsp;consumes&nbsp;a&nbsp;lot&nbsp;of&nbsp;seafood&nbsp;and&nbsp;tries&nbsp;to&nbsp;do&nbsp;so&nbsp;in&nbsp;an&nbsp;ethical&nbsp;manner,&nbsp;I&nbsp;am&nbsp;asking&nbsp;NOAA&nbsp;to&nbsp;develop&nbsp;and&nbsp;implement&nbsp;a&nbsp;strong&nbsp;and&nbsp;effective&nbsp;seafood&nbsp;traceability&nbsp;program&nbsp;to&nbsp;intercept&nbsp;the&nbsp;flow&nbsp;of&nbsp;illegal&nbsp;seafood&nbsp;into&nbsp;our&nbsp;markets.&nbsp;Illegal&nbsp;fishing&nbsp;is&nbsp;a&nbsp;top&nbsp;driver&nbsp;of&nbsp;unsustainable&nbsp;and&nbsp;environmentally&nbsp;harmful&nbsp;fishing&nbsp;practices&nbsp;around&nbsp;the&nbsp;globe,&nbsp;as&nbsp;well&nbsp;as&nbsp;associated&nbsp;human&nbsp;rights&nbsp;abuses&nbsp;in&nbsp;the&nbsp;seafood&nbsp;sector.&nbsp;The&nbsp;newly&nbsp;proposed&nbsp;changes&nbsp;to&nbsp;the&nbsp;Seafood&nbsp;Import&nbsp;Monitoring&nbsp;Program&nbsp;do&nbsp;not&nbsp;go&nbsp;far&nbsp;enough&nbsp;to&nbsp;help&nbsp;end&nbsp;the&nbsp;U.S.'s&nbsp;role&nbsp;in&nbsp;perpetuating&nbsp;human&nbsp;rights&nbsp;abuses&nbsp;and&nbsp;environmental&nbsp;destruction&nbsp;in&nbsp;the&nbsp;seafood&nbsp;industry.&nbsp;&nbsp;We&nbsp;must&nbsp;do&nbsp;better.&nbsp;&nbsp;</span></td></tr>\n",
       "            <tr><td style=\"word-wrap: break-word\" class=\"diff_next\"></td><td style=\"word-wrap: break-word\" class=\"diff_header\" id=\"from6_4\">4</td><td style=\"word-wrap: break-word\" ></td><td style=\"word-wrap: break-word\" class=\"diff_next\"></td><td style=\"word-wrap: break-word\" class=\"diff_header\" id=\"to6_4\">4</td><td style=\"word-wrap: break-word\" ></td></tr>\n",
       "            <tr><td style=\"word-wrap: break-word\" class=\"diff_next\"></td><td style=\"word-wrap: break-word\" class=\"diff_header\" id=\"from6_5\">5</td><td style=\"word-wrap: break-word\" >Illegal&nbsp;fishing&nbsp;is&nbsp;destroying&nbsp;our&nbsp;oceans.&nbsp;Years&nbsp;of&nbsp;overfishing&nbsp;in&nbsp;nearshore&nbsp;waters&nbsp;have&nbsp;forced&nbsp;boats&nbsp;to&nbsp;go&nbsp;into&nbsp;deeper&nbsp;waters,&nbsp;which&nbsp;makes&nbsp;fishing&nbsp;more&nbsp;expensive.&nbsp;Some&nbsp;fishers&nbsp;will&nbsp;cut&nbsp;costs&nbsp;by&nbsp;fishing&nbsp;with&nbsp;illegal&nbsp;gear,&nbsp;fishing&nbsp;in&nbsp;protected&nbsp;areas,&nbsp;or&nbsp;ignoring&nbsp;catch&nbsp;limits.&nbsp;To&nbsp;save&nbsp;on&nbsp;labor&nbsp;costs,&nbsp;some&nbsp;vessel&nbsp;owners&nbsp;rely&nbsp;on&nbsp;human&nbsp;traffickers,&nbsp;some&nbsp;even&nbsp;kidnapping&nbsp;or&nbsp;drugging&nbsp;workers&nbsp;to&nbsp;get&nbsp;them&nbsp;on&nbsp;the&nbsp;ship&nbsp;and&nbsp;cut&nbsp;off&nbsp;from&nbsp;help.&nbsp;Further,&nbsp;the&nbsp;overseas&nbsp;seafood&nbsp;processing&nbsp;industry&nbsp;is&nbsp;heavily&nbsp;reliant&nbsp;on&nbsp;forced&nbsp;labor.&nbsp;&nbsp;</td><td style=\"word-wrap: break-word\" class=\"diff_next\"></td><td style=\"word-wrap: break-word\" class=\"diff_header\" id=\"to6_5\">5</td><td style=\"word-wrap: break-word\" >Illegal&nbsp;fishing&nbsp;is&nbsp;destroying&nbsp;our&nbsp;oceans.&nbsp;Years&nbsp;of&nbsp;overfishing&nbsp;in&nbsp;nearshore&nbsp;waters&nbsp;have&nbsp;forced&nbsp;boats&nbsp;to&nbsp;go&nbsp;into&nbsp;deeper&nbsp;waters,&nbsp;which&nbsp;makes&nbsp;fishing&nbsp;more&nbsp;expensive.&nbsp;Some&nbsp;fishers&nbsp;will&nbsp;cut&nbsp;costs&nbsp;by&nbsp;fishing&nbsp;with&nbsp;illegal&nbsp;gear,&nbsp;fishing&nbsp;in&nbsp;protected&nbsp;areas,&nbsp;or&nbsp;ignoring&nbsp;catch&nbsp;limits.&nbsp;To&nbsp;save&nbsp;on&nbsp;labor&nbsp;costs,&nbsp;some&nbsp;vessel&nbsp;owners&nbsp;rely&nbsp;on&nbsp;human&nbsp;traffickers,&nbsp;some&nbsp;even&nbsp;kidnapping&nbsp;or&nbsp;drugging&nbsp;workers&nbsp;to&nbsp;get&nbsp;them&nbsp;on&nbsp;the&nbsp;ship&nbsp;and&nbsp;cut&nbsp;off&nbsp;from&nbsp;help.&nbsp;Further,&nbsp;the&nbsp;overseas&nbsp;seafood&nbsp;processing&nbsp;industry&nbsp;is&nbsp;heavily&nbsp;reliant&nbsp;on&nbsp;forced&nbsp;labor.&nbsp;&nbsp;</td></tr>\n",
       "            <tr><td style=\"word-wrap: break-word\" class=\"diff_next\"></td><td style=\"word-wrap: break-word\" class=\"diff_header\" id=\"from6_6\">6</td><td style=\"word-wrap: break-word\" ></td><td style=\"word-wrap: break-word\" class=\"diff_next\"></td><td style=\"word-wrap: break-word\" class=\"diff_header\" id=\"to6_6\">6</td><td style=\"word-wrap: break-word\" ></td></tr>\n",
       "            <tr><td style=\"word-wrap: break-word\" class=\"diff_next\"></td><td style=\"word-wrap: break-word\" class=\"diff_header\" id=\"from6_7\">7</td><td style=\"word-wrap: break-word\" >The&nbsp;U.S.&nbsp;is&nbsp;one&nbsp;of&nbsp;the&nbsp;largest&nbsp;consumers&nbsp;of&nbsp;seafood.&nbsp;Approximately&nbsp;eighty&nbsp;percent&nbsp;of&nbsp;the&nbsp;seafood&nbsp;sold&nbsp;in&nbsp;the&nbsp;U.S.&nbsp;is&nbsp;imported,&nbsp;and&nbsp;as&nbsp;much&nbsp;as&nbsp;a&nbsp;third&nbsp;of&nbsp;the&nbsp;wild-caught&nbsp;seafood&nbsp;sold&nbsp;in&nbsp;the&nbsp;United&nbsp;States&nbsp;each&nbsp;year&nbsp;is&nbsp;illegal&nbsp;or&nbsp;unreported.&nbsp;&nbsp;</td><td style=\"word-wrap: break-word\" class=\"diff_next\"></td><td style=\"word-wrap: break-word\" class=\"diff_header\" id=\"to6_7\">7</td><td style=\"word-wrap: break-word\" >The&nbsp;U.S.&nbsp;is&nbsp;one&nbsp;of&nbsp;the&nbsp;largest&nbsp;consumers&nbsp;of&nbsp;seafood.&nbsp;Approximately&nbsp;eighty&nbsp;percent&nbsp;of&nbsp;the&nbsp;seafood&nbsp;sold&nbsp;in&nbsp;the&nbsp;U.S.&nbsp;is&nbsp;imported,&nbsp;and&nbsp;as&nbsp;much&nbsp;as&nbsp;a&nbsp;third&nbsp;of&nbsp;the&nbsp;wild-caught&nbsp;seafood&nbsp;sold&nbsp;in&nbsp;the&nbsp;United&nbsp;States&nbsp;each&nbsp;year&nbsp;is&nbsp;illegal&nbsp;or&nbsp;unreported.&nbsp;&nbsp;</td></tr>\n",
       "            <tr><td style=\"word-wrap: break-word\" class=\"diff_next\"></td><td style=\"word-wrap: break-word\" class=\"diff_header\" id=\"from6_8\">8</td><td style=\"word-wrap: break-word\" ></td><td style=\"word-wrap: break-word\" class=\"diff_next\"></td><td style=\"word-wrap: break-word\" class=\"diff_header\" id=\"to6_8\">8</td><td style=\"word-wrap: break-word\" ></td></tr>\n",
       "            <tr><td style=\"word-wrap: break-word\" class=\"diff_next\"></td><td style=\"word-wrap: break-word\" class=\"diff_header\" id=\"from6_9\">9</td><td style=\"word-wrap: break-word\" >The&nbsp;U.S.&nbsp;government&nbsp;has&nbsp;a&nbsp;responsibility&nbsp;to&nbsp;fix&nbsp;these&nbsp;problems,&nbsp;and&nbsp;seafood&nbsp;traceability&nbsp;is&nbsp;an&nbsp;essential&nbsp;step&nbsp;in&nbsp;the&nbsp;fight&nbsp;to&nbsp;end&nbsp;illegal&nbsp;fishing&nbsp;and&nbsp;human&nbsp;rights&nbsp;abuses&nbsp;in&nbsp;the&nbsp;seafood&nbsp;industry.&nbsp;But&nbsp;under&nbsp;NOAA&nbsp;Fisheries’&nbsp;proposed&nbsp;rule,&nbsp;traceability&nbsp;requirements&nbsp;would&nbsp;apply&nbsp;to&nbsp;only&nbsp;half&nbsp;of&nbsp;seafood&nbsp;imports,&nbsp;leaving&nbsp;massive&nbsp;loopholes&nbsp;that&nbsp;are&nbsp;easy&nbsp;for&nbsp;bad&nbsp;actors&nbsp;to&nbsp;exploit.&nbsp;The&nbsp;proposed&nbsp;rule&nbsp;also&nbsp;fails&nbsp;to&nbsp;sufficiently&nbsp;address&nbsp;labor&nbsp;abuses&nbsp;in&nbsp;seafood&nbsp;supply&nbsp;chains,&nbsp;and&nbsp;it&nbsp;includes&nbsp;no&nbsp;commitment&nbsp;to&nbsp;improve&nbsp;enforcement&nbsp;of&nbsp;traceability&nbsp;requirements.&nbsp;</td><td style=\"word-wrap: break-word\" class=\"diff_next\"></td><td style=\"word-wrap: break-word\" class=\"diff_header\" id=\"to6_9\">9</td><td style=\"word-wrap: break-word\" >The&nbsp;U.S.&nbsp;government&nbsp;has&nbsp;a&nbsp;responsibility&nbsp;to&nbsp;fix&nbsp;these&nbsp;problems,&nbsp;and&nbsp;seafood&nbsp;traceability&nbsp;is&nbsp;an&nbsp;essential&nbsp;step&nbsp;in&nbsp;the&nbsp;fight&nbsp;to&nbsp;end&nbsp;illegal&nbsp;fishing&nbsp;and&nbsp;human&nbsp;rights&nbsp;abuses&nbsp;in&nbsp;the&nbsp;seafood&nbsp;industry.&nbsp;But&nbsp;under&nbsp;NOAA&nbsp;Fisheries’&nbsp;proposed&nbsp;rule,&nbsp;traceability&nbsp;requirements&nbsp;would&nbsp;apply&nbsp;to&nbsp;only&nbsp;half&nbsp;of&nbsp;seafood&nbsp;imports,&nbsp;leaving&nbsp;massive&nbsp;loopholes&nbsp;that&nbsp;are&nbsp;easy&nbsp;for&nbsp;bad&nbsp;actors&nbsp;to&nbsp;exploit.&nbsp;The&nbsp;proposed&nbsp;rule&nbsp;also&nbsp;fails&nbsp;to&nbsp;sufficiently&nbsp;address&nbsp;labor&nbsp;abuses&nbsp;in&nbsp;seafood&nbsp;supply&nbsp;chains,&nbsp;and&nbsp;it&nbsp;includes&nbsp;no&nbsp;commitment&nbsp;to&nbsp;improve&nbsp;enforcement&nbsp;of&nbsp;traceability&nbsp;requirements.&nbsp;</td></tr>\n",
       "            <tr><td style=\"word-wrap: break-word\" class=\"diff_next\"></td><td style=\"word-wrap: break-word\" class=\"diff_header\" id=\"from6_10\">10</td><td style=\"word-wrap: break-word\" ></td><td style=\"word-wrap: break-word\" class=\"diff_next\"></td><td style=\"word-wrap: break-word\" class=\"diff_header\" id=\"to6_10\">10</td><td style=\"word-wrap: break-word\" ></td></tr>\n",
       "            <tr><td style=\"word-wrap: break-word\" class=\"diff_next\"></td><td style=\"word-wrap: break-word\" class=\"diff_header\" id=\"from6_11\">11</td><td style=\"word-wrap: break-word\" >Please&nbsp;revise&nbsp;the&nbsp;Seafood&nbsp;Import&nbsp;Monitoring&nbsp;Program&nbsp;proposed&nbsp;rule&nbsp;to&nbsp;adopt&nbsp;the&nbsp;strongest&nbsp;possible&nbsp;standards&nbsp;for&nbsp;seafood&nbsp;traceability&nbsp;to&nbsp;intercept&nbsp;the&nbsp;flow&nbsp;of&nbsp;illegal&nbsp;seafood&nbsp;into&nbsp;the&nbsp;U.S.&nbsp;and&nbsp;help&nbsp;consumers&nbsp;feel&nbsp;confident&nbsp;the&nbsp;seafood&nbsp;they&nbsp;buy&nbsp;is&nbsp;legally&nbsp;caught&nbsp;and&nbsp;not&nbsp;a&nbsp;product&nbsp;of&nbsp;labor&nbsp;abuses.&nbsp;Thank&nbsp;you&nbsp;for&nbsp;helping&nbsp;to&nbsp;address&nbsp;these&nbsp;environmental&nbsp;and&nbsp;human&nbsp;rights&nbsp;crimes&nbsp;with&nbsp;the&nbsp;seriousness&nbsp;they&nbsp;deserve.</td><td style=\"word-wrap: break-word\" class=\"diff_next\"></td><td style=\"word-wrap: break-word\" class=\"diff_header\" id=\"to6_11\">11</td><td style=\"word-wrap: break-word\" >Please&nbsp;revise&nbsp;the&nbsp;Seafood&nbsp;Import&nbsp;Monitoring&nbsp;Program&nbsp;proposed&nbsp;rule&nbsp;to&nbsp;adopt&nbsp;the&nbsp;strongest&nbsp;possible&nbsp;standards&nbsp;for&nbsp;seafood&nbsp;traceability&nbsp;to&nbsp;intercept&nbsp;the&nbsp;flow&nbsp;of&nbsp;illegal&nbsp;seafood&nbsp;into&nbsp;the&nbsp;U.S.&nbsp;and&nbsp;help&nbsp;consumers&nbsp;feel&nbsp;confident&nbsp;the&nbsp;seafood&nbsp;they&nbsp;buy&nbsp;is&nbsp;legally&nbsp;caught&nbsp;and&nbsp;not&nbsp;a&nbsp;product&nbsp;of&nbsp;labor&nbsp;abuses.&nbsp;Thank&nbsp;you&nbsp;for&nbsp;helping&nbsp;to&nbsp;address&nbsp;these&nbsp;environmental&nbsp;and&nbsp;human&nbsp;rights&nbsp;crimes&nbsp;with&nbsp;the&nbsp;seriousness&nbsp;they&nbsp;deserve.</td></tr>\n",
       "        </tbody>\n",
       "    </table>\n",
       "    <table style=\"table-layout: fixed; width: 100%\" class=\"diff\" summary=\"Legends\">\n",
       "        <tr> <th colspan=\"2\"> Legends </th> </tr>\n",
       "        <tr> <td style=\"word-wrap: break-word\"> <table style=\"table-layout: fixed; width: 100%\" border=\"\" summary=\"Colors\">\n",
       "                      <tr><th> Colors </th> </tr>\n",
       "                      <tr><td style=\"word-wrap: break-word\" class=\"diff_add\">&nbsp;Added&nbsp;</td></tr>\n",
       "                      <tr><td style=\"word-wrap: break-word\" class=\"diff_chg\">Changed</td> </tr>\n",
       "                      <tr><td style=\"word-wrap: break-word\" class=\"diff_sub\">Deleted</td> </tr>\n",
       "                  </table></td>\n",
       "             <td style=\"word-wrap: break-word\"> <table style=\"table-layout: fixed; width: 100%\" border=\"\" summary=\"Links\">\n",
       "                      <tr><th colspan=\"2\"> Links </th> </tr>\n",
       "                      <tr><td style=\"word-wrap: break-word\">(f)irst change</td> </tr>\n",
       "                      <tr><td style=\"word-wrap: break-word\">(n)ext change</td> </tr>\n",
       "                      <tr><td style=\"word-wrap: break-word\">(t)op</td> </tr>\n",
       "                  </table></td> </tr>\n",
       "    </table>\n",
       "</body>\n",
       "\n",
       "</html>"
      ],
      "text/plain": [
       "<IPython.core.display.HTML object>"
      ]
     },
     "metadata": {},
     "output_type": "display_data"
    },
    {
     "data": {
      "text/html": [
       "\n",
       "<!DOCTYPE html PUBLIC \"-//W3C//DTD XHTML 1.0 Transitional//EN\"\n",
       "          \"http://www.w3.org/TR/xhtml1/DTD/xhtml1-transitional.dtd\">\n",
       "\n",
       "<html>\n",
       "\n",
       "<head>\n",
       "    <meta http-equiv=\"Content-Type\"\n",
       "          content=\"text/html; charset=utf-8\" />\n",
       "    <title></title>\n",
       "    <style type=\"text/css\">\n",
       "        table.diff {font-family:Courier; border:medium;}\n",
       "        .diff_header {background-color:#e0e0e0}\n",
       "        td.diff_header {text-align:right; width:1%}\n",
       "        .diff_next {background-color:#c0c0c0; width:1%}\n",
       "        .diff_add {background-color:#aaffaa}\n",
       "        .diff_chg {background-color:#ffff77}\n",
       "        .diff_sub {background-color:#ffaaaa}\n",
       "    </style>\n",
       "</head>\n",
       "\n",
       "<body>\n",
       "    \n",
       "    <table style=\"table-layout: fixed; width: 100%\" class=\"diff\" id=\"difflib_chg_to7__top\"\n",
       "           cellspacing=\"0\" cellpadding=\"0\" rules=\"groups\" >\n",
       "        <colgroup></colgroup> <colgroup></colgroup> <colgroup></colgroup>\n",
       "        <colgroup></colgroup> <colgroup></colgroup> <colgroup></colgroup>\n",
       "        \n",
       "        <tbody>\n",
       "            <tr><td style=\"word-wrap: break-word\" class=\"diff_next\"><a href=\"#difflib_chg_to7__0\">f</a></td><td style=\"word-wrap: break-word\" class=\"diff_header\" id=\"from7_1\">1</td><td style=\"word-wrap: break-word\" >Dear&nbsp;NOAA&nbsp;Administrator&nbsp;Spinrad&nbsp;and&nbsp;NOAA&nbsp;Fisheries&nbsp;Assistant&nbsp;Administrator&nbsp;Coit:</td><td style=\"word-wrap: break-word\" class=\"diff_next\"><a href=\"#difflib_chg_to7__0\">f</a></td><td style=\"word-wrap: break-word\" class=\"diff_header\" id=\"to7_1\">1</td><td style=\"word-wrap: break-word\" >Dear&nbsp;NOAA&nbsp;Administrator&nbsp;Spinrad&nbsp;and&nbsp;NOAA&nbsp;Fisheries&nbsp;Assistant&nbsp;Administrator&nbsp;Coit:</td></tr>\n",
       "            <tr><td style=\"word-wrap: break-word\" class=\"diff_next\" id=\"difflib_chg_to7__0\"></td><td style=\"word-wrap: break-word\" class=\"diff_header\" id=\"from7_2\">2</td><td style=\"word-wrap: break-word\" ></td><td style=\"word-wrap: break-word\" class=\"diff_next\"></td><td style=\"word-wrap: break-word\" class=\"diff_header\" id=\"to7_2\">2</td><td style=\"word-wrap: break-word\" ></td></tr>\n",
       "            <tr><td style=\"word-wrap: break-word\" class=\"diff_next\"></td><td style=\"word-wrap: break-word\" class=\"diff_header\" id=\"from7_3\">3</td><td style=\"word-wrap: break-word\" >The&nbsp;United&nbsp;States&nbsp;needs&nbsp;an&nbsp;effective&nbsp;seafood&nbsp;traceability&nbsp;program&nbsp;to&nbsp;intercept&nbsp;the&nbsp;flow&nbsp;of&nbsp;illegal&nbsp;seafood&nbsp;into&nbsp;our&nbsp;markets.&nbsp;Illegal&nbsp;fishing&nbsp;is&nbsp;a&nbsp;top&nbsp;driver&nbsp;of&nbsp;unsustainable&nbsp;and&nbsp;environmentally&nbsp;harmful&nbsp;fishing&nbsp;practices&nbsp;around&nbsp;the&nbsp;globe,&nbsp;as&nbsp;well&nbsp;as&nbsp;associated&nbsp;human&nbsp;rights&nbsp;abuses&nbsp;in&nbsp;the&nbsp;seafood&nbsp;sector.&nbsp;The&nbsp;newly&nbsp;proposed&nbsp;changes&nbsp;to&nbsp;the&nbsp;Seafood&nbsp;Import&nbsp;Monitoring&nbsp;Program&nbsp;do&nbsp;not&nbsp;go&nbsp;far&nbsp;enough&nbsp;to&nbsp;help&nbsp;end&nbsp;the&nbsp;U.S.'s&nbsp;role&nbsp;in&nbsp;perpetuating&nbsp;human&nbsp;rights&nbsp;abuses&nbsp;and&nbsp;environmental&nbsp;destruction&nbsp;in&nbsp;the&nbsp;seafood&nbsp;industry.&nbsp;</td><td style=\"word-wrap: break-word\" class=\"diff_next\"></td><td style=\"word-wrap: break-word\" class=\"diff_header\" id=\"to7_3\">3</td><td style=\"word-wrap: break-word\" >The&nbsp;United&nbsp;States&nbsp;needs&nbsp;an&nbsp;effective&nbsp;seafood&nbsp;traceability&nbsp;program&nbsp;to&nbsp;intercept&nbsp;the&nbsp;flow&nbsp;of&nbsp;illegal&nbsp;seafood&nbsp;into&nbsp;our&nbsp;markets.&nbsp;Illegal&nbsp;fishing&nbsp;is&nbsp;a&nbsp;top&nbsp;driver&nbsp;of&nbsp;unsustainable&nbsp;and&nbsp;environmentally&nbsp;harmful&nbsp;fishing&nbsp;practices&nbsp;around&nbsp;the&nbsp;globe,&nbsp;as&nbsp;well&nbsp;as&nbsp;associated&nbsp;human&nbsp;rights&nbsp;abuses&nbsp;in&nbsp;the&nbsp;seafood&nbsp;sector.&nbsp;The&nbsp;newly&nbsp;proposed&nbsp;changes&nbsp;to&nbsp;the&nbsp;Seafood&nbsp;Import&nbsp;Monitoring&nbsp;Program&nbsp;do&nbsp;not&nbsp;go&nbsp;far&nbsp;enough&nbsp;to&nbsp;help&nbsp;end&nbsp;the&nbsp;U.S.'s&nbsp;role&nbsp;in&nbsp;perpetuating&nbsp;human&nbsp;rights&nbsp;abuses&nbsp;and&nbsp;environmental&nbsp;destruction&nbsp;in&nbsp;the&nbsp;seafood&nbsp;industry.&nbsp;</td></tr>\n",
       "            <tr><td style=\"word-wrap: break-word\" class=\"diff_next\"></td><td style=\"word-wrap: break-word\" class=\"diff_header\" id=\"from7_4\">4</td><td style=\"word-wrap: break-word\" ></td><td style=\"word-wrap: break-word\" class=\"diff_next\"></td><td style=\"word-wrap: break-word\" class=\"diff_header\" id=\"to7_4\">4</td><td style=\"word-wrap: break-word\" ></td></tr>\n",
       "            <tr><td style=\"word-wrap: break-word\" class=\"diff_next\" id=\"difflib_chg_to7__1\"></td><td style=\"word-wrap: break-word\" class=\"diff_header\" id=\"from7_5\">5</td><td style=\"word-wrap: break-word\" >Illegal&nbsp;fishing&nbsp;is&nbsp;destroying&nbsp;our&nbsp;oceans.&nbsp;Years&nbsp;of&nbsp;overfishing&nbsp;in&nbsp;nearshore&nbsp;waters&nbsp;have&nbsp;forced&nbsp;boats&nbsp;to&nbsp;go&nbsp;into&nbsp;deeper&nbsp;waters,&nbsp;which&nbsp;makes&nbsp;fishing&nbsp;more&nbsp;expensive.&nbsp;Some&nbsp;fishers&nbsp;will&nbsp;cut&nbsp;costs&nbsp;by&nbsp;fishing&nbsp;with&nbsp;illegal&nbsp;gear,&nbsp;fishing&nbsp;in&nbsp;protected&nbsp;areas,&nbsp;or&nbsp;ignoring&nbsp;catch&nbsp;limits.&nbsp;To&nbsp;save&nbsp;on&nbsp;labor&nbsp;costs,&nbsp;some&nbsp;vessel&nbsp;owners&nbsp;rely&nbsp;on&nbsp;human&nbsp;traffickers,&nbsp;some&nbsp;even&nbsp;kidnapping&nbsp;or&nbsp;drugging&nbsp;workers&nbsp;to&nbsp;get&nbsp;them&nbsp;on&nbsp;the&nbsp;ship&nbsp;and&nbsp;cut&nbsp;off&nbsp;from&nbsp;help.&nbsp;Further,&nbsp;the&nbsp;overseas&nbsp;seafood&nbsp;processing&nbsp;industry&nbsp;is&nbsp;heavily&nbsp;reliant&nbsp;on&nbsp;forced&nbsp;labor.&nbsp;&nbsp;</td><td style=\"word-wrap: break-word\" class=\"diff_next\"></td><td style=\"word-wrap: break-word\" class=\"diff_header\" id=\"to7_5\">5</td><td style=\"word-wrap: break-word\" >Illegal&nbsp;fishing&nbsp;is&nbsp;destroying&nbsp;our&nbsp;oceans.&nbsp;Years&nbsp;of&nbsp;overfishing&nbsp;in&nbsp;nearshore&nbsp;waters&nbsp;have&nbsp;forced&nbsp;boats&nbsp;to&nbsp;go&nbsp;into&nbsp;deeper&nbsp;waters,&nbsp;which&nbsp;makes&nbsp;fishing&nbsp;more&nbsp;expensive.&nbsp;Some&nbsp;fishers&nbsp;will&nbsp;cut&nbsp;costs&nbsp;by&nbsp;fishing&nbsp;with&nbsp;illegal&nbsp;gear,&nbsp;fishing&nbsp;in&nbsp;protected&nbsp;areas,&nbsp;or&nbsp;ignoring&nbsp;catch&nbsp;limits.&nbsp;To&nbsp;save&nbsp;on&nbsp;labor&nbsp;costs,&nbsp;some&nbsp;vessel&nbsp;owners&nbsp;rely&nbsp;on&nbsp;human&nbsp;traffickers,&nbsp;some&nbsp;even&nbsp;kidnapping&nbsp;or&nbsp;drugging&nbsp;workers&nbsp;to&nbsp;get&nbsp;them&nbsp;on&nbsp;the&nbsp;ship&nbsp;and&nbsp;cut&nbsp;off&nbsp;from&nbsp;help.&nbsp;Further,&nbsp;the&nbsp;overseas&nbsp;seafood&nbsp;processing&nbsp;industry&nbsp;is&nbsp;heavily&nbsp;reliant&nbsp;on&nbsp;forced&nbsp;labor.&nbsp;&nbsp;</td></tr>\n",
       "            <tr><td style=\"word-wrap: break-word\" class=\"diff_next\"></td><td style=\"word-wrap: break-word\" class=\"diff_header\" id=\"from7_6\">6</td><td style=\"word-wrap: break-word\" ></td><td style=\"word-wrap: break-word\" class=\"diff_next\"></td><td style=\"word-wrap: break-word\" class=\"diff_header\" id=\"to7_6\">6</td><td style=\"word-wrap: break-word\" ></td></tr>\n",
       "            <tr><td style=\"word-wrap: break-word\" class=\"diff_next\"><a href=\"#difflib_chg_to7__1\">n</a></td><td style=\"word-wrap: break-word\" class=\"diff_header\" id=\"from7_7\">7</td><td style=\"word-wrap: break-word\" ><span class=\"diff_sub\">The&nbsp;U.S.&nbsp;is&nbsp;one&nbsp;of&nbsp;the&nbsp;largest&nbsp;consumers&nbsp;of&nbsp;seafood.&nbsp;Approximately&nbsp;eighty&nbsp;percent&nbsp;of&nbsp;the&nbsp;seafood&nbsp;sold&nbsp;in&nbsp;the&nbsp;U.S.&nbsp;is&nbsp;imported,&nbsp;and&nbsp;as&nbsp;much&nbsp;as&nbsp;a&nbsp;third&nbsp;of&nbsp;the&nbsp;wild-caught&nbsp;seafood&nbsp;sold&nbsp;in&nbsp;the&nbsp;United&nbsp;States&nbsp;each&nbsp;year&nbsp;is&nbsp;illegal&nbsp;or&nbsp;unreported.&nbsp;&nbsp;</span></td><td style=\"word-wrap: break-word\" class=\"diff_next\"><a href=\"#difflib_chg_to7__1\">n</a></td><td style=\"word-wrap: break-word\" class=\"diff_header\" id=\"to7_7\">7</td><td style=\"word-wrap: break-word\" ><span class=\"diff_add\">As&nbsp;one&nbsp;of&nbsp;the&nbsp;largest&nbsp;consumers&nbsp;of&nbsp;seafood,&nbsp;approximately&nbsp;80%&nbsp;of&nbsp;the&nbsp;seafood&nbsp;sold&nbsp;in&nbsp;the&nbsp;U.S.&nbsp;is&nbsp;imported,&nbsp;and&nbsp;as&nbsp;much&nbsp;as&nbsp;a&nbsp;third&nbsp;of&nbsp;the&nbsp;wild-caught&nbsp;seafood&nbsp;sold&nbsp;in&nbsp;the&nbsp;USA&nbsp;each&nbsp;year&nbsp;is&nbsp;illegal&nbsp;or&nbsp;unreported!&nbsp;&nbsp;</span></td></tr>\n",
       "            <tr><td style=\"word-wrap: break-word\" class=\"diff_next\"></td><td style=\"word-wrap: break-word\" class=\"diff_header\"></td><td style=\"word-wrap: break-word\" ></td><td style=\"word-wrap: break-word\" class=\"diff_next\"></td><td style=\"word-wrap: break-word\" class=\"diff_header\" id=\"to7_8\">8</td><td style=\"word-wrap: break-word\" ><span class=\"diff_add\">Our&nbsp;government&nbsp;must&nbsp;take&nbsp;corrective&nbsp;action,&nbsp;and&nbsp;seafood&nbsp;traceability&nbsp;is&nbsp;an&nbsp;essential&nbsp;step&nbsp;in&nbsp;the&nbsp;fight&nbsp;to&nbsp;end&nbsp;illegal&nbsp;fishing&nbsp;and&nbsp;human&nbsp;rights&nbsp;abuses&nbsp;in&nbsp;this&nbsp;industry.&nbsp;But&nbsp;under&nbsp;NOAA&nbsp;Fisheries’&nbsp;proposed&nbsp;rule,&nbsp;traceability&nbsp;requirements&nbsp;would&nbsp;apply&nbsp;to&nbsp;only&nbsp;50%&nbsp;of&nbsp;seafood&nbsp;imports,&nbsp;leaving&nbsp;massive&nbsp;loopholes&nbsp;that&nbsp;are&nbsp;easy&nbsp;for&nbsp;bad&nbsp;actors&nbsp;to&nbsp;exploit.&nbsp;A&nbsp;ruling&nbsp;that&nbsp;fails&nbsp;to&nbsp;concretely&nbsp;address&nbsp;labor&nbsp;abuses&nbsp;in&nbsp;seafood&nbsp;supply&nbsp;chains&nbsp;and&nbsp;which&nbsp;includes&nbsp;no&nbsp;commitment&nbsp;to&nbsp;improve&nbsp;enforcement&nbsp;of&nbsp;traceability&nbsp;requirements&nbsp;has&nbsp;no&nbsp;\"real&nbsp;teeth.\"</span></td></tr>\n",
       "            <tr><td style=\"word-wrap: break-word\" class=\"diff_next\"></td><td style=\"word-wrap: break-word\" class=\"diff_header\" id=\"from7_8\">8</td><td style=\"word-wrap: break-word\" ></td><td style=\"word-wrap: break-word\" class=\"diff_next\"></td><td style=\"word-wrap: break-word\" class=\"diff_header\" id=\"to7_9\">9</td><td style=\"word-wrap: break-word\" ></td></tr>\n",
       "            <tr><td style=\"word-wrap: break-word\" class=\"diff_next\"><a href=\"#difflib_chg_to7__top\">t</a></td><td style=\"word-wrap: break-word\" class=\"diff_header\" id=\"from7_9\">9</td><td style=\"word-wrap: break-word\" ><span class=\"diff_sub\">The&nbsp;U.S.&nbsp;government&nbsp;has&nbsp;a&nbsp;responsibility&nbsp;to&nbsp;fix&nbsp;these&nbsp;problems,&nbsp;and&nbsp;seafood&nbsp;traceability&nbsp;is&nbsp;an&nbsp;essential&nbsp;step&nbsp;in&nbsp;the&nbsp;fight&nbsp;to&nbsp;end&nbsp;illegal&nbsp;fishing&nbsp;and&nbsp;human&nbsp;rights&nbsp;abuses&nbsp;in&nbsp;the&nbsp;seafood&nbsp;industry.&nbsp;But&nbsp;under&nbsp;NOAA&nbsp;Fisheries’&nbsp;proposed&nbsp;rule,&nbsp;traceability&nbsp;requirements&nbsp;would&nbsp;apply&nbsp;to&nbsp;only&nbsp;half&nbsp;of&nbsp;seafood&nbsp;imports,&nbsp;leaving&nbsp;massive&nbsp;loopholes&nbsp;that&nbsp;are&nbsp;easy&nbsp;for&nbsp;bad&nbsp;actors&nbsp;to&nbsp;exploit.&nbsp;The&nbsp;proposed&nbsp;rule&nbsp;also&nbsp;fails&nbsp;to&nbsp;sufficiently&nbsp;address&nbsp;labor&nbsp;abuses&nbsp;in&nbsp;seafood&nbsp;supply&nbsp;chains,&nbsp;and&nbsp;it&nbsp;includes&nbsp;no&nbsp;commitment&nbsp;to&nbsp;improve&nbsp;enforcement&nbsp;of&nbsp;traceability&nbsp;requirements.&nbsp;</span></td><td style=\"word-wrap: break-word\" class=\"diff_next\"><a href=\"#difflib_chg_to7__top\">t</a></td><td style=\"word-wrap: break-word\" class=\"diff_header\"></td><td style=\"word-wrap: break-word\" ></td></tr>\n",
       "            <tr><td style=\"word-wrap: break-word\" class=\"diff_next\"></td><td style=\"word-wrap: break-word\" class=\"diff_header\" id=\"from7_10\">10</td><td style=\"word-wrap: break-word\" ><span class=\"diff_sub\">&nbsp;</span></td><td style=\"word-wrap: break-word\" class=\"diff_next\"></td><td style=\"word-wrap: break-word\" class=\"diff_header\"></td><td style=\"word-wrap: break-word\" ></td></tr>\n",
       "            <tr><td style=\"word-wrap: break-word\" class=\"diff_next\"></td><td style=\"word-wrap: break-word\" class=\"diff_header\" id=\"from7_11\">11</td><td style=\"word-wrap: break-word\" >Please&nbsp;revise&nbsp;the&nbsp;Seafood&nbsp;Import&nbsp;Monitoring&nbsp;Program&nbsp;proposed&nbsp;rule&nbsp;to&nbsp;adopt&nbsp;the&nbsp;strongest&nbsp;possible&nbsp;standards&nbsp;for&nbsp;seafood&nbsp;traceability&nbsp;to&nbsp;intercept&nbsp;the&nbsp;flow&nbsp;of&nbsp;illegal&nbsp;seafood&nbsp;into&nbsp;the&nbsp;U.S.&nbsp;<span class=\"diff_chg\">and&nbsp;help&nbsp;consumers&nbsp;feel&nbsp;confident&nbsp;the&nbsp;seafood&nbsp;they</span>&nbsp;buy&nbsp;is&nbsp;legally&nbsp;caught&nbsp;and&nbsp;not&nbsp;a&nbsp;product&nbsp;of&nbsp;labor&nbsp;abuses.&nbsp;Thank&nbsp;you&nbsp;for&nbsp;helping&nbsp;to&nbsp;address&nbsp;these&nbsp;environmental&nbsp;and&nbsp;human&nbsp;rights&nbsp;crimes&nbsp;with&nbsp;the&nbsp;seriousness&nbsp;they&nbsp;deserve.</td><td style=\"word-wrap: break-word\" class=\"diff_next\"></td><td style=\"word-wrap: break-word\" class=\"diff_header\" id=\"to7_10\">10</td><td style=\"word-wrap: break-word\" >Please&nbsp;revise&nbsp;the&nbsp;Seafood&nbsp;Import&nbsp;Monitoring&nbsp;Program&nbsp;proposed&nbsp;rule&nbsp;to&nbsp;adopt&nbsp;the&nbsp;strongest&nbsp;possible&nbsp;standards&nbsp;for&nbsp;seafood&nbsp;traceability&nbsp;to&nbsp;intercept&nbsp;the&nbsp;flow&nbsp;of&nbsp;illegal&nbsp;seafood&nbsp;into&nbsp;the&nbsp;U.S.&nbsp;<span class=\"diff_chg\">&nbsp;&nbsp;Insure&nbsp;that&nbsp;USA&nbsp;consumers&nbsp;feel&nbsp;confident&nbsp;that&nbsp;the&nbsp;seafood&nbsp;they</span>&nbsp;buy&nbsp;is&nbsp;legally&nbsp;caught&nbsp;and&nbsp;not&nbsp;a&nbsp;product&nbsp;of&nbsp;labor&nbsp;abuses.&nbsp;Thank&nbsp;you&nbsp;for&nbsp;helping&nbsp;to&nbsp;address&nbsp;these&nbsp;environmental&nbsp;and&nbsp;human&nbsp;rights&nbsp;crimes&nbsp;with&nbsp;the&nbsp;seriousness&nbsp;they&nbsp;deserve.</td></tr>\n",
       "        </tbody>\n",
       "    </table>\n",
       "    <table style=\"table-layout: fixed; width: 100%\" class=\"diff\" summary=\"Legends\">\n",
       "        <tr> <th colspan=\"2\"> Legends </th> </tr>\n",
       "        <tr> <td style=\"word-wrap: break-word\"> <table style=\"table-layout: fixed; width: 100%\" border=\"\" summary=\"Colors\">\n",
       "                      <tr><th> Colors </th> </tr>\n",
       "                      <tr><td style=\"word-wrap: break-word\" class=\"diff_add\">&nbsp;Added&nbsp;</td></tr>\n",
       "                      <tr><td style=\"word-wrap: break-word\" class=\"diff_chg\">Changed</td> </tr>\n",
       "                      <tr><td style=\"word-wrap: break-word\" class=\"diff_sub\">Deleted</td> </tr>\n",
       "                  </table></td>\n",
       "             <td style=\"word-wrap: break-word\"> <table style=\"table-layout: fixed; width: 100%\" border=\"\" summary=\"Links\">\n",
       "                      <tr><th colspan=\"2\"> Links </th> </tr>\n",
       "                      <tr><td style=\"word-wrap: break-word\">(f)irst change</td> </tr>\n",
       "                      <tr><td style=\"word-wrap: break-word\">(n)ext change</td> </tr>\n",
       "                      <tr><td style=\"word-wrap: break-word\">(t)op</td> </tr>\n",
       "                  </table></td> </tr>\n",
       "    </table>\n",
       "</body>\n",
       "\n",
       "</html>"
      ],
      "text/plain": [
       "<IPython.core.display.HTML object>"
      ]
     },
     "metadata": {},
     "output_type": "display_data"
    },
    {
     "data": {
      "text/html": [
       "\n",
       "<!DOCTYPE html PUBLIC \"-//W3C//DTD XHTML 1.0 Transitional//EN\"\n",
       "          \"http://www.w3.org/TR/xhtml1/DTD/xhtml1-transitional.dtd\">\n",
       "\n",
       "<html>\n",
       "\n",
       "<head>\n",
       "    <meta http-equiv=\"Content-Type\"\n",
       "          content=\"text/html; charset=utf-8\" />\n",
       "    <title></title>\n",
       "    <style type=\"text/css\">\n",
       "        table.diff {font-family:Courier; border:medium;}\n",
       "        .diff_header {background-color:#e0e0e0}\n",
       "        td.diff_header {text-align:right; width:1%}\n",
       "        .diff_next {background-color:#c0c0c0; width:1%}\n",
       "        .diff_add {background-color:#aaffaa}\n",
       "        .diff_chg {background-color:#ffff77}\n",
       "        .diff_sub {background-color:#ffaaaa}\n",
       "    </style>\n",
       "</head>\n",
       "\n",
       "<body>\n",
       "    \n",
       "    <table style=\"table-layout: fixed; width: 100%\" class=\"diff\" id=\"difflib_chg_to8__top\"\n",
       "           cellspacing=\"0\" cellpadding=\"0\" rules=\"groups\" >\n",
       "        <colgroup></colgroup> <colgroup></colgroup> <colgroup></colgroup>\n",
       "        <colgroup></colgroup> <colgroup></colgroup> <colgroup></colgroup>\n",
       "        \n",
       "        <tbody>\n",
       "            <tr><td style=\"word-wrap: break-word\" class=\"diff_next\" id=\"difflib_chg_to8__1\"><a href=\"#difflib_chg_to8__0\">f</a></td><td style=\"word-wrap: break-word\" class=\"diff_header\" id=\"from8_1\">1</td><td style=\"word-wrap: break-word\" >Dear&nbsp;NOAA&nbsp;Administrator&nbsp;Spinrad&nbsp;and&nbsp;NOAA&nbsp;Fisheries&nbsp;Assistant&nbsp;Administrator&nbsp;Coit:</td><td style=\"word-wrap: break-word\" class=\"diff_next\"><a href=\"#difflib_chg_to8__0\">f</a></td><td style=\"word-wrap: break-word\" class=\"diff_header\" id=\"to8_1\">1</td><td style=\"word-wrap: break-word\" >Dear&nbsp;NOAA&nbsp;Administrator&nbsp;Spinrad&nbsp;and&nbsp;NOAA&nbsp;Fisheries&nbsp;Assistant&nbsp;Administrator&nbsp;Coit:</td></tr>\n",
       "            <tr><td style=\"word-wrap: break-word\" class=\"diff_next\" id=\"difflib_chg_to8__2\"></td><td style=\"word-wrap: break-word\" class=\"diff_header\" id=\"from8_2\">2</td><td style=\"word-wrap: break-word\" ></td><td style=\"word-wrap: break-word\" class=\"diff_next\"></td><td style=\"word-wrap: break-word\" class=\"diff_header\" id=\"to8_2\">2</td><td style=\"word-wrap: break-word\" ></td></tr>\n",
       "            <tr><td style=\"word-wrap: break-word\" class=\"diff_next\"><a href=\"#difflib_chg_to8__1\">n</a></td><td style=\"word-wrap: break-word\" class=\"diff_header\" id=\"from8_3\">3</td><td style=\"word-wrap: break-word\" ><span class=\"diff_sub\">The&nbsp;United&nbsp;States&nbsp;needs&nbsp;an&nbsp;effective&nbsp;seafood&nbsp;traceability&nbsp;program&nbsp;to&nbsp;intercept&nbsp;the&nbsp;flow&nbsp;of&nbsp;illegal&nbsp;seafood&nbsp;into&nbsp;our&nbsp;markets.&nbsp;Illegal&nbsp;fishing&nbsp;is&nbsp;a&nbsp;top&nbsp;driver&nbsp;of&nbsp;unsustainable&nbsp;and&nbsp;environmentally&nbsp;harmful&nbsp;fishing&nbsp;practices&nbsp;around&nbsp;the&nbsp;globe,&nbsp;as&nbsp;well&nbsp;as&nbsp;associated&nbsp;human&nbsp;rights&nbsp;abuses&nbsp;in&nbsp;the&nbsp;seafood&nbsp;sector.&nbsp;The&nbsp;newly&nbsp;proposed&nbsp;changes&nbsp;to&nbsp;the&nbsp;Seafood&nbsp;Import&nbsp;Monitoring&nbsp;Program&nbsp;do&nbsp;not&nbsp;go&nbsp;far&nbsp;enough&nbsp;to&nbsp;help&nbsp;end&nbsp;the&nbsp;U.S.'s&nbsp;role&nbsp;in&nbsp;perpetuating&nbsp;human&nbsp;rights&nbsp;abuses&nbsp;and&nbsp;environmental&nbsp;destruction&nbsp;in&nbsp;the&nbsp;seafood&nbsp;industry.&nbsp;</span></td><td style=\"word-wrap: break-word\" class=\"diff_next\"><a href=\"#difflib_chg_to8__1\">n</a></td><td style=\"word-wrap: break-word\" class=\"diff_header\" id=\"to8_3\">3</td><td style=\"word-wrap: break-word\" ><span class=\"diff_add\">The&nbsp;US&nbsp;needs&nbsp;an&nbsp;effective&nbsp;seafood&nbsp;traceability&nbsp;program&nbsp;to&nbsp;stop&nbsp;the&nbsp;flow&nbsp;of&nbsp;illegal&nbsp;seafood&nbsp;into&nbsp;our&nbsp;markets.&nbsp;Worldwide,&nbsp;Illegal&nbsp;fishing&nbsp;is&nbsp;a&nbsp;key&nbsp;reason&nbsp;for&nbsp;unsustainable,&nbsp;environmentally&nbsp;harmful&nbsp;fishing&nbsp;practices,&nbsp;and&nbsp;for&nbsp;associated&nbsp;human&nbsp;rights&nbsp;abuses&nbsp;in&nbsp;the&nbsp;seafood&nbsp;sector.&nbsp;The&nbsp;newly&nbsp;proposed&nbsp;changes&nbsp;to&nbsp;the&nbsp;Seafood&nbsp;Import&nbsp;Monitoring&nbsp;Program&nbsp;don't&nbsp;go&nbsp;far&nbsp;enough&nbsp;to&nbsp;help&nbsp;end&nbsp;the&nbsp;U.S.'s&nbsp;role&nbsp;in&nbsp;perpetuating&nbsp;human&nbsp;rights&nbsp;abuses&nbsp;and&nbsp;environmental&nbsp;destruction&nbsp;in&nbsp;the&nbsp;seafood&nbsp;industry.&nbsp;</span></td></tr>\n",
       "            <tr><td style=\"word-wrap: break-word\" class=\"diff_next\" id=\"difflib_chg_to8__3\"></td><td style=\"word-wrap: break-word\" class=\"diff_header\" id=\"from8_4\">4</td><td style=\"word-wrap: break-word\" ></td><td style=\"word-wrap: break-word\" class=\"diff_next\"></td><td style=\"word-wrap: break-word\" class=\"diff_header\" id=\"to8_4\">4</td><td style=\"word-wrap: break-word\" ></td></tr>\n",
       "            <tr><td style=\"word-wrap: break-word\" class=\"diff_next\"><a href=\"#difflib_chg_to8__2\">n</a></td><td style=\"word-wrap: break-word\" class=\"diff_header\" id=\"from8_5\">5</td><td style=\"word-wrap: break-word\" >Illegal&nbsp;fishing&nbsp;is&nbsp;destroying&nbsp;our&nbsp;oceans.&nbsp;Years&nbsp;of&nbsp;overfishing&nbsp;in&nbsp;nearshore&nbsp;waters&nbsp;have&nbsp;forced&nbsp;boats&nbsp;to&nbsp;go&nbsp;into&nbsp;deeper&nbsp;waters,&nbsp;which&nbsp;makes&nbsp;fishing&nbsp;more&nbsp;expensive.&nbsp;Some&nbsp;fishers&nbsp;<span class=\"diff_chg\">will&nbsp;cut&nbsp;costs</span>&nbsp;by&nbsp;fishing&nbsp;with&nbsp;illegal&nbsp;gear,&nbsp;fishing&nbsp;in&nbsp;protected&nbsp;areas,&nbsp;<span class=\"diff_chg\">or&nbsp;ignoring&nbsp;catch</span>&nbsp;limits.&nbsp;To&nbsp;save&nbsp;on&nbsp;labor&nbsp;costs,&nbsp;some&nbsp;vessel&nbsp;owners&nbsp;rely&nbsp;on&nbsp;human&nbsp;traffickers,&nbsp;some&nbsp;even&nbsp;kidnapping&nbsp;or&nbsp;drugging&nbsp;workers&nbsp;to&nbsp;get&nbsp;them&nbsp;on&nbsp;the&nbsp;ship&nbsp;and&nbsp;cut&nbsp;off&nbsp;from&nbsp;help.&nbsp;Further,&nbsp;the&nbsp;overseas&nbsp;seafood&nbsp;processing&nbsp;industry&nbsp;<span class=\"diff_chg\">is</span>&nbsp;heavily&nbsp;<span class=\"diff_chg\">reliant&nbsp;on&nbsp;forced</span>&nbsp;labor.&nbsp;&nbsp;</td><td style=\"word-wrap: break-word\" class=\"diff_next\"><a href=\"#difflib_chg_to8__2\">n</a></td><td style=\"word-wrap: break-word\" class=\"diff_header\" id=\"to8_5\">5</td><td style=\"word-wrap: break-word\" >Illegal&nbsp;fishing&nbsp;is&nbsp;destroying&nbsp;our&nbsp;oceans.&nbsp;Years&nbsp;of&nbsp;overfishing&nbsp;in&nbsp;nearshore&nbsp;waters&nbsp;have&nbsp;forced&nbsp;boats&nbsp;to&nbsp;go&nbsp;into&nbsp;deeper&nbsp;waters,&nbsp;which&nbsp;makes&nbsp;fishing&nbsp;more&nbsp;expensive.&nbsp;Some&nbsp;fishers&nbsp;<span class=\"diff_chg\">cut&nbsp;costs</span>&nbsp;by&nbsp;fishing&nbsp;with&nbsp;illegal&nbsp;gear,&nbsp;fishing&nbsp;in&nbsp;protected&nbsp;areas,&nbsp;<span class=\"diff_chg\">and&nbsp;ignoring&nbsp;catch</span>&nbsp;limits.&nbsp;To&nbsp;save&nbsp;on&nbsp;labor&nbsp;costs,&nbsp;some&nbsp;vessel&nbsp;owners&nbsp;rely&nbsp;on&nbsp;human&nbsp;traffickers,&nbsp;some&nbsp;even&nbsp;kidnapping&nbsp;or&nbsp;drugging&nbsp;workers&nbsp;to&nbsp;get&nbsp;them&nbsp;on&nbsp;the&nbsp;ship&nbsp;and&nbsp;cut&nbsp;off&nbsp;from&nbsp;help.&nbsp;Further,&nbsp;the&nbsp;overseas&nbsp;seafood&nbsp;processing&nbsp;industry&nbsp;<span class=\"diff_chg\">relies</span>&nbsp;heavily&nbsp;<span class=\"diff_chg\">on&nbsp;forced</span>&nbsp;labor.&nbsp;&nbsp;</td></tr>\n",
       "            <tr><td style=\"word-wrap: break-word\" class=\"diff_next\" id=\"difflib_chg_to8__4\"></td><td style=\"word-wrap: break-word\" class=\"diff_header\" id=\"from8_6\">6</td><td style=\"word-wrap: break-word\" ></td><td style=\"word-wrap: break-word\" class=\"diff_next\"></td><td style=\"word-wrap: break-word\" class=\"diff_header\" id=\"to8_6\">6</td><td style=\"word-wrap: break-word\" ></td></tr>\n",
       "            <tr><td style=\"word-wrap: break-word\" class=\"diff_next\"><a href=\"#difflib_chg_to8__3\">n</a></td><td style=\"word-wrap: break-word\" class=\"diff_header\" id=\"from8_7\">7</td><td style=\"word-wrap: break-word\" ><span class=\"diff_sub\">The&nbsp;U.S.&nbsp;is&nbsp;one&nbsp;of&nbsp;the&nbsp;largest&nbsp;consumers&nbsp;of&nbsp;seafood.&nbsp;Approximately&nbsp;eighty&nbsp;percent&nbsp;of&nbsp;the&nbsp;seafood&nbsp;sold&nbsp;in&nbsp;the&nbsp;U.S.&nbsp;is&nbsp;imported,&nbsp;and&nbsp;as&nbsp;much&nbsp;as&nbsp;a&nbsp;third&nbsp;of&nbsp;the&nbsp;wild-caught&nbsp;seafood&nbsp;sold&nbsp;in&nbsp;the&nbsp;United&nbsp;States&nbsp;each&nbsp;year&nbsp;is&nbsp;illegal&nbsp;or&nbsp;unreported.&nbsp;&nbsp;</span></td><td style=\"word-wrap: break-word\" class=\"diff_next\"><a href=\"#difflib_chg_to8__3\">n</a></td><td style=\"word-wrap: break-word\" class=\"diff_header\" id=\"to8_7\">7</td><td style=\"word-wrap: break-word\" ><span class=\"diff_add\">The&nbsp;U.S.&nbsp;is&nbsp;one&nbsp;of&nbsp;the&nbsp;largest&nbsp;consumers&nbsp;of&nbsp;seafood.&nbsp;Roughly&nbsp;80%&nbsp;of&nbsp;the&nbsp;seafood&nbsp;sold&nbsp;in&nbsp;the&nbsp;U.S.&nbsp;is&nbsp;imported,&nbsp;and&nbsp;up&nbsp;to&nbsp;1/3&nbsp;of&nbsp;the&nbsp;wild-caught&nbsp;seafood&nbsp;sold&nbsp;in&nbsp;the&nbsp;US&nbsp;each&nbsp;year&nbsp;is&nbsp;illegal&nbsp;or&nbsp;unreported.&nbsp;&nbsp;</span></td></tr>\n",
       "            <tr><td style=\"word-wrap: break-word\" class=\"diff_next\"></td><td style=\"word-wrap: break-word\" class=\"diff_header\" id=\"from8_8\">8</td><td style=\"word-wrap: break-word\" ></td><td style=\"word-wrap: break-word\" class=\"diff_next\"></td><td style=\"word-wrap: break-word\" class=\"diff_header\" id=\"to8_8\">8</td><td style=\"word-wrap: break-word\" ></td></tr>\n",
       "            <tr><td style=\"word-wrap: break-word\" class=\"diff_next\"><a href=\"#difflib_chg_to8__4\">n</a></td><td style=\"word-wrap: break-word\" class=\"diff_header\" id=\"from8_9\">9</td><td style=\"word-wrap: break-word\" >The&nbsp;U.S.&nbsp;government&nbsp;has&nbsp;a&nbsp;responsibility&nbsp;to&nbsp;fix&nbsp;these&nbsp;problems,&nbsp;and&nbsp;seafood&nbsp;traceability&nbsp;is&nbsp;<span class=\"diff_chg\">an&nbsp;essential&nbsp;step&nbsp;in&nbsp;the</span>&nbsp;fight&nbsp;<span class=\"diff_chg\">to&nbsp;end</span>&nbsp;illegal&nbsp;fishing&nbsp;and&nbsp;human&nbsp;rights&nbsp;abuses&nbsp;in&nbsp;the&nbsp;seafood&nbsp;industry.&nbsp;<span class=\"diff_chg\">But&nbsp;under</span>&nbsp;NOAA&nbsp;Fisheries’&nbsp;proposed&nbsp;rule,&nbsp;<span class=\"diff_chg\">traceability</span>&nbsp;requirements&nbsp;would&nbsp;apply&nbsp;to&nbsp;only&nbsp;half&nbsp;of&nbsp;seafood&nbsp;imports,&nbsp;leaving&nbsp;massive&nbsp;loopholes&nbsp;<span class=\"diff_chg\">that&nbsp;are&nbsp;easy&nbsp;for&nbsp;bad&nbsp;actors&nbsp;to</span>&nbsp;exploit.&nbsp;The&nbsp;proposed&nbsp;rule&nbsp;also&nbsp;fails&nbsp;to&nbsp;sufficiently&nbsp;address&nbsp;labor&nbsp;abuses&nbsp;in&nbsp;seafood&nbsp;supply&nbsp;chains,&nbsp;and&nbsp;it&nbsp;includes&nbsp;no&nbsp;commitment&nbsp;to&nbsp;improve&nbsp;enforcement&nbsp;of&nbsp;traceability&nbsp;requirements.&nbsp;</td><td style=\"word-wrap: break-word\" class=\"diff_next\"><a href=\"#difflib_chg_to8__4\">n</a></td><td style=\"word-wrap: break-word\" class=\"diff_header\" id=\"to8_9\">9</td><td style=\"word-wrap: break-word\" >The&nbsp;U.S.&nbsp;government&nbsp;has&nbsp;a&nbsp;responsibility&nbsp;to&nbsp;fix&nbsp;these&nbsp;problems,&nbsp;and&nbsp;seafood&nbsp;traceability&nbsp;is&nbsp;<span class=\"diff_chg\">essential&nbsp;to</span>&nbsp;fight&nbsp;<span class=\"diff_chg\">and&nbsp;end</span>&nbsp;illegal&nbsp;fishing&nbsp;and&nbsp;human&nbsp;rights&nbsp;abuses&nbsp;in&nbsp;the&nbsp;seafood&nbsp;industry.&nbsp;<span class=\"diff_chg\">Under</span>&nbsp;NOAA&nbsp;Fisheries’&nbsp;proposed&nbsp;rule,&nbsp;<span class=\"diff_chg\">however,&nbsp;traceability</span>&nbsp;requirements&nbsp;would&nbsp;apply&nbsp;to&nbsp;only&nbsp;half&nbsp;of&nbsp;seafood&nbsp;imports,&nbsp;leaving&nbsp;massive&nbsp;loopholes&nbsp;<span class=\"diff_chg\">easy&nbsp;for&nbsp;bad&nbsp;actors&nbsp;to</span>&nbsp;exploit.&nbsp;The&nbsp;proposed&nbsp;rule&nbsp;also&nbsp;fails&nbsp;to&nbsp;sufficiently&nbsp;address&nbsp;labor&nbsp;abuses&nbsp;in&nbsp;seafood&nbsp;supply&nbsp;chains,&nbsp;and&nbsp;it&nbsp;includes&nbsp;no&nbsp;commitment&nbsp;to&nbsp;improve&nbsp;enforcement&nbsp;of&nbsp;traceability&nbsp;requirements.&nbsp;</td></tr>\n",
       "            <tr><td style=\"word-wrap: break-word\" class=\"diff_next\"></td><td style=\"word-wrap: break-word\" class=\"diff_header\" id=\"from8_10\">10</td><td style=\"word-wrap: break-word\" ></td><td style=\"word-wrap: break-word\" class=\"diff_next\"></td><td style=\"word-wrap: break-word\" class=\"diff_header\" id=\"to8_10\">10</td><td style=\"word-wrap: break-word\" ></td></tr>\n",
       "            <tr><td style=\"word-wrap: break-word\" class=\"diff_next\"><a href=\"#difflib_chg_to8__top\">t</a></td><td style=\"word-wrap: break-word\" class=\"diff_header\" id=\"from8_11\">11</td><td style=\"word-wrap: break-word\" >Please&nbsp;revise&nbsp;the&nbsp;Seafood&nbsp;Import&nbsp;Monitoring&nbsp;Program&nbsp;proposed&nbsp;rule&nbsp;to&nbsp;adopt&nbsp;the&nbsp;strongest&nbsp;possible&nbsp;standards&nbsp;for&nbsp;seafood&nbsp;traceability&nbsp;<span class=\"diff_chg\">to&nbsp;intercept&nbsp;the</span>&nbsp;flow&nbsp;of&nbsp;illegal&nbsp;seafood&nbsp;into&nbsp;the&nbsp;U.S.&nbsp;and&nbsp;help&nbsp;consumers&nbsp;feel&nbsp;confident&nbsp;th<span class=\"diff_chg\">e&nbsp;seafood</span>&nbsp;they&nbsp;buy&nbsp;is&nbsp;legally&nbsp;caught&nbsp;and&nbsp;not&nbsp;a&nbsp;product&nbsp;of&nbsp;labor&nbsp;abuses.&nbsp;<span class=\"diff_sub\">Thank&nbsp;you&nbsp;for&nbsp;helping&nbsp;to&nbsp;address&nbsp;these&nbsp;environmental&nbsp;and&nbsp;human&nbsp;rights&nbsp;crimes&nbsp;with&nbsp;the&nbsp;seriousness&nbsp;they&nbsp;deserve.</span></td><td style=\"word-wrap: break-word\" class=\"diff_next\"><a href=\"#difflib_chg_to8__top\">t</a></td><td style=\"word-wrap: break-word\" class=\"diff_header\" id=\"to8_11\">11</td><td style=\"word-wrap: break-word\" >Please&nbsp;revise&nbsp;the&nbsp;Seafood&nbsp;Import&nbsp;Monitoring&nbsp;Program&nbsp;proposed&nbsp;rule&nbsp;to&nbsp;adopt&nbsp;the&nbsp;strongest&nbsp;possible&nbsp;standards&nbsp;for&nbsp;seafood&nbsp;traceability&nbsp;<span class=\"diff_chg\">in&nbsp;order&nbsp;to&nbsp;intercept&nbsp;the</span>&nbsp;flow&nbsp;of&nbsp;illegal&nbsp;seafood&nbsp;into&nbsp;the&nbsp;U.S.&nbsp;and&nbsp;help&nbsp;consumers&nbsp;feel&nbsp;confident&nbsp;th<span class=\"diff_chg\">at&nbsp;the&nbsp;seafood</span>&nbsp;they&nbsp;buy&nbsp;is&nbsp;legally&nbsp;caught&nbsp;and&nbsp;not&nbsp;a&nbsp;product&nbsp;of&nbsp;labor&nbsp;abuses.&nbsp;</td></tr>\n",
       "            <tr><td style=\"word-wrap: break-word\" class=\"diff_next\"></td><td style=\"word-wrap: break-word\" class=\"diff_header\"></td><td style=\"word-wrap: break-word\" ></td><td style=\"word-wrap: break-word\" class=\"diff_next\"></td><td style=\"word-wrap: break-word\" class=\"diff_header\" id=\"to8_12\">12</td><td style=\"word-wrap: break-word\" ><span class=\"diff_add\">&nbsp;</span></td></tr>\n",
       "            <tr><td style=\"word-wrap: break-word\" class=\"diff_next\"></td><td style=\"word-wrap: break-word\" class=\"diff_header\"></td><td style=\"word-wrap: break-word\" ></td><td style=\"word-wrap: break-word\" class=\"diff_next\"></td><td style=\"word-wrap: break-word\" class=\"diff_header\" id=\"to8_13\">13</td><td style=\"word-wrap: break-word\" ><span class=\"diff_add\">Thank&nbsp;you&nbsp;for&nbsp;helping&nbsp;to&nbsp;address&nbsp;these&nbsp;environmental&nbsp;and&nbsp;human&nbsp;rights&nbsp;crimes&nbsp;with&nbsp;the&nbsp;seriousness&nbsp;they&nbsp;deserve.</span></td></tr>\n",
       "        </tbody>\n",
       "    </table>\n",
       "    <table style=\"table-layout: fixed; width: 100%\" class=\"diff\" summary=\"Legends\">\n",
       "        <tr> <th colspan=\"2\"> Legends </th> </tr>\n",
       "        <tr> <td style=\"word-wrap: break-word\"> <table style=\"table-layout: fixed; width: 100%\" border=\"\" summary=\"Colors\">\n",
       "                      <tr><th> Colors </th> </tr>\n",
       "                      <tr><td style=\"word-wrap: break-word\" class=\"diff_add\">&nbsp;Added&nbsp;</td></tr>\n",
       "                      <tr><td style=\"word-wrap: break-word\" class=\"diff_chg\">Changed</td> </tr>\n",
       "                      <tr><td style=\"word-wrap: break-word\" class=\"diff_sub\">Deleted</td> </tr>\n",
       "                  </table></td>\n",
       "             <td style=\"word-wrap: break-word\"> <table style=\"table-layout: fixed; width: 100%\" border=\"\" summary=\"Links\">\n",
       "                      <tr><th colspan=\"2\"> Links </th> </tr>\n",
       "                      <tr><td style=\"word-wrap: break-word\">(f)irst change</td> </tr>\n",
       "                      <tr><td style=\"word-wrap: break-word\">(n)ext change</td> </tr>\n",
       "                      <tr><td style=\"word-wrap: break-word\">(t)op</td> </tr>\n",
       "                  </table></td> </tr>\n",
       "    </table>\n",
       "</body>\n",
       "\n",
       "</html>"
      ],
      "text/plain": [
       "<IPython.core.display.HTML object>"
      ]
     },
     "metadata": {},
     "output_type": "display_data"
    },
    {
     "data": {
      "text/html": [
       "\n",
       "<!DOCTYPE html PUBLIC \"-//W3C//DTD XHTML 1.0 Transitional//EN\"\n",
       "          \"http://www.w3.org/TR/xhtml1/DTD/xhtml1-transitional.dtd\">\n",
       "\n",
       "<html>\n",
       "\n",
       "<head>\n",
       "    <meta http-equiv=\"Content-Type\"\n",
       "          content=\"text/html; charset=utf-8\" />\n",
       "    <title></title>\n",
       "    <style type=\"text/css\">\n",
       "        table.diff {font-family:Courier; border:medium;}\n",
       "        .diff_header {background-color:#e0e0e0}\n",
       "        td.diff_header {text-align:right; width:1%}\n",
       "        .diff_next {background-color:#c0c0c0; width:1%}\n",
       "        .diff_add {background-color:#aaffaa}\n",
       "        .diff_chg {background-color:#ffff77}\n",
       "        .diff_sub {background-color:#ffaaaa}\n",
       "    </style>\n",
       "</head>\n",
       "\n",
       "<body>\n",
       "    \n",
       "    <table style=\"table-layout: fixed; width: 100%\" class=\"diff\" id=\"difflib_chg_to9__top\"\n",
       "           cellspacing=\"0\" cellpadding=\"0\" rules=\"groups\" >\n",
       "        <colgroup></colgroup> <colgroup></colgroup> <colgroup></colgroup>\n",
       "        <colgroup></colgroup> <colgroup></colgroup> <colgroup></colgroup>\n",
       "        \n",
       "        <tbody>\n",
       "            <tr><td style=\"word-wrap: break-word\" class=\"diff_next\" id=\"difflib_chg_to9__0\"><a href=\"#difflib_chg_to9__0\">f</a></td><td style=\"word-wrap: break-word\" class=\"diff_header\" id=\"from9_1\">1</td><td style=\"word-wrap: break-word\" >Dear&nbsp;NOAA&nbsp;Administrator&nbsp;Spinrad&nbsp;and&nbsp;NOAA&nbsp;Fisheries&nbsp;Assistant&nbsp;Administrator&nbsp;Coit:</td><td style=\"word-wrap: break-word\" class=\"diff_next\"><a href=\"#difflib_chg_to9__0\">f</a></td><td style=\"word-wrap: break-word\" class=\"diff_header\" id=\"to9_1\">1</td><td style=\"word-wrap: break-word\" >Dear&nbsp;NOAA&nbsp;Administrator&nbsp;Spinrad&nbsp;and&nbsp;NOAA&nbsp;Fisheries&nbsp;Assistant&nbsp;Administrator&nbsp;Coit:</td></tr>\n",
       "            <tr><td style=\"word-wrap: break-word\" class=\"diff_next\"></td><td style=\"word-wrap: break-word\" class=\"diff_header\" id=\"from9_2\">2</td><td style=\"word-wrap: break-word\" ></td><td style=\"word-wrap: break-word\" class=\"diff_next\"></td><td style=\"word-wrap: break-word\" class=\"diff_header\" id=\"to9_2\">2</td><td style=\"word-wrap: break-word\" ></td></tr>\n",
       "            <tr><td style=\"word-wrap: break-word\" class=\"diff_next\"><a href=\"#difflib_chg_to9__top\">t</a></td><td style=\"word-wrap: break-word\" class=\"diff_header\" id=\"from9_3\">3</td><td style=\"word-wrap: break-word\" >The&nbsp;United&nbsp;States&nbsp;needs&nbsp;an&nbsp;effective&nbsp;seafood&nbsp;traceability&nbsp;program&nbsp;to&nbsp;intercept&nbsp;the&nbsp;flow&nbsp;of&nbsp;illegal&nbsp;seafood&nbsp;into&nbsp;our&nbsp;markets.&nbsp;Illegal&nbsp;fishing&nbsp;is&nbsp;a&nbsp;top&nbsp;driver&nbsp;of&nbsp;unsustainable&nbsp;and&nbsp;environmentally&nbsp;harmful&nbsp;fishing&nbsp;practices&nbsp;around&nbsp;the&nbsp;globe,&nbsp;as&nbsp;well&nbsp;as&nbsp;associated&nbsp;human&nbsp;rights&nbsp;abuses&nbsp;in&nbsp;the&nbsp;seafood&nbsp;sector.&nbsp;The&nbsp;newly&nbsp;proposed&nbsp;changes&nbsp;to&nbsp;the&nbsp;Seafood&nbsp;Import&nbsp;Monitoring&nbsp;Program&nbsp;do&nbsp;not&nbsp;go&nbsp;far&nbsp;enough&nbsp;to&nbsp;help&nbsp;end&nbsp;the&nbsp;U.S.'s&nbsp;role&nbsp;in&nbsp;perpetuating&nbsp;human&nbsp;rights&nbsp;abuses&nbsp;and&nbsp;environmental&nbsp;destruction&nbsp;in&nbsp;the&nbsp;seafood&nbsp;industry.<span class=\"diff_sub\">&nbsp;</span></td><td style=\"word-wrap: break-word\" class=\"diff_next\"><a href=\"#difflib_chg_to9__top\">t</a></td><td style=\"word-wrap: break-word\" class=\"diff_header\" id=\"to9_3\">3</td><td style=\"word-wrap: break-word\" >The&nbsp;United&nbsp;States&nbsp;needs&nbsp;an&nbsp;effective&nbsp;seafood&nbsp;traceability&nbsp;program&nbsp;to&nbsp;intercept&nbsp;the&nbsp;flow&nbsp;of&nbsp;illegal&nbsp;seafood&nbsp;into&nbsp;our&nbsp;markets.&nbsp;Illegal&nbsp;fishing&nbsp;is&nbsp;a&nbsp;top&nbsp;driver&nbsp;of&nbsp;unsustainable&nbsp;and&nbsp;environmentally&nbsp;harmful&nbsp;fishing&nbsp;practices&nbsp;around&nbsp;the&nbsp;globe,&nbsp;as&nbsp;well&nbsp;as&nbsp;associated&nbsp;human&nbsp;rights&nbsp;abuses&nbsp;in&nbsp;the&nbsp;seafood&nbsp;sector.&nbsp;The&nbsp;newly&nbsp;proposed&nbsp;changes&nbsp;to&nbsp;the&nbsp;Seafood&nbsp;Import&nbsp;Monitoring&nbsp;Program&nbsp;do&nbsp;not&nbsp;go&nbsp;far&nbsp;enough&nbsp;to&nbsp;help&nbsp;end&nbsp;the&nbsp;U.S.'s&nbsp;role&nbsp;in&nbsp;perpetuating&nbsp;human&nbsp;rights&nbsp;abuses&nbsp;and&nbsp;environmental&nbsp;destruction&nbsp;in&nbsp;the&nbsp;seafood&nbsp;industry.</td></tr>\n",
       "            <tr><td style=\"word-wrap: break-word\" class=\"diff_next\"></td><td style=\"word-wrap: break-word\" class=\"diff_header\" id=\"from9_4\">4</td><td style=\"word-wrap: break-word\" ><span class=\"diff_sub\">&nbsp;</span></td><td style=\"word-wrap: break-word\" class=\"diff_next\"></td><td style=\"word-wrap: break-word\" class=\"diff_header\"></td><td style=\"word-wrap: break-word\" ></td></tr>\n",
       "            <tr><td style=\"word-wrap: break-word\" class=\"diff_next\"></td><td style=\"word-wrap: break-word\" class=\"diff_header\" id=\"from9_5\">5</td><td style=\"word-wrap: break-word\" ><span class=\"diff_sub\">Illegal&nbsp;fishing&nbsp;is&nbsp;destroying&nbsp;our&nbsp;oceans.&nbsp;Years&nbsp;of&nbsp;overfishing&nbsp;in&nbsp;nearshore&nbsp;waters&nbsp;have&nbsp;forced&nbsp;boats&nbsp;to&nbsp;go&nbsp;into&nbsp;deeper&nbsp;waters,&nbsp;which&nbsp;makes&nbsp;fishing&nbsp;more&nbsp;expensive.&nbsp;Some&nbsp;fishers&nbsp;will&nbsp;cut&nbsp;costs&nbsp;by&nbsp;fishing&nbsp;with&nbsp;illegal&nbsp;gear,&nbsp;fishing&nbsp;in&nbsp;protected&nbsp;areas,&nbsp;or&nbsp;ignoring&nbsp;catch&nbsp;limits.&nbsp;To&nbsp;save&nbsp;on&nbsp;labor&nbsp;costs,&nbsp;some&nbsp;vessel&nbsp;owners&nbsp;rely&nbsp;on&nbsp;human&nbsp;traffickers,&nbsp;some&nbsp;even&nbsp;kidnapping&nbsp;or&nbsp;drugging&nbsp;workers&nbsp;to&nbsp;get&nbsp;them&nbsp;on&nbsp;the&nbsp;ship&nbsp;and&nbsp;cut&nbsp;off&nbsp;from&nbsp;help.&nbsp;Further,&nbsp;the&nbsp;overseas&nbsp;seafood&nbsp;processing&nbsp;industry&nbsp;is&nbsp;heavily&nbsp;reliant&nbsp;on&nbsp;forced&nbsp;labor.&nbsp;&nbsp;</span></td><td style=\"word-wrap: break-word\" class=\"diff_next\"></td><td style=\"word-wrap: break-word\" class=\"diff_header\"></td><td style=\"word-wrap: break-word\" ></td></tr>\n",
       "            <tr><td style=\"word-wrap: break-word\" class=\"diff_next\"></td><td style=\"word-wrap: break-word\" class=\"diff_header\" id=\"from9_6\">6</td><td style=\"word-wrap: break-word\" ><span class=\"diff_sub\">&nbsp;</span></td><td style=\"word-wrap: break-word\" class=\"diff_next\"></td><td style=\"word-wrap: break-word\" class=\"diff_header\"></td><td style=\"word-wrap: break-word\" ></td></tr>\n",
       "            <tr><td style=\"word-wrap: break-word\" class=\"diff_next\"></td><td style=\"word-wrap: break-word\" class=\"diff_header\" id=\"from9_7\">7</td><td style=\"word-wrap: break-word\" ><span class=\"diff_sub\">The&nbsp;U.S.&nbsp;is&nbsp;one&nbsp;of&nbsp;the&nbsp;largest&nbsp;consumers&nbsp;of&nbsp;seafood.&nbsp;Approximately&nbsp;eighty&nbsp;percent&nbsp;of&nbsp;the&nbsp;seafood&nbsp;sold&nbsp;in&nbsp;the&nbsp;U.S.&nbsp;is&nbsp;imported,&nbsp;and&nbsp;as&nbsp;much&nbsp;as&nbsp;a&nbsp;third&nbsp;of&nbsp;the&nbsp;wild-caught&nbsp;seafood&nbsp;sold&nbsp;in&nbsp;the&nbsp;United&nbsp;States&nbsp;each&nbsp;year&nbsp;is&nbsp;illegal&nbsp;or&nbsp;unreported.&nbsp;&nbsp;</span></td><td style=\"word-wrap: break-word\" class=\"diff_next\"></td><td style=\"word-wrap: break-word\" class=\"diff_header\"></td><td style=\"word-wrap: break-word\" ></td></tr>\n",
       "            <tr><td style=\"word-wrap: break-word\" class=\"diff_next\"></td><td style=\"word-wrap: break-word\" class=\"diff_header\" id=\"from9_8\">8</td><td style=\"word-wrap: break-word\" ><span class=\"diff_sub\">&nbsp;</span></td><td style=\"word-wrap: break-word\" class=\"diff_next\"></td><td style=\"word-wrap: break-word\" class=\"diff_header\"></td><td style=\"word-wrap: break-word\" ></td></tr>\n",
       "            <tr><td style=\"word-wrap: break-word\" class=\"diff_next\"></td><td style=\"word-wrap: break-word\" class=\"diff_header\" id=\"from9_9\">9</td><td style=\"word-wrap: break-word\" ><span class=\"diff_sub\">The&nbsp;U.S.&nbsp;government&nbsp;has&nbsp;a&nbsp;responsibility&nbsp;to&nbsp;fix&nbsp;these&nbsp;problems,&nbsp;and&nbsp;seafood&nbsp;traceability&nbsp;is&nbsp;an&nbsp;essential&nbsp;step&nbsp;in&nbsp;the&nbsp;fight&nbsp;to&nbsp;end&nbsp;illegal&nbsp;fishing&nbsp;and&nbsp;human&nbsp;rights&nbsp;abuses&nbsp;in&nbsp;the&nbsp;seafood&nbsp;industry.&nbsp;But&nbsp;under&nbsp;NOAA&nbsp;Fisheries’&nbsp;proposed&nbsp;rule,&nbsp;traceability&nbsp;requirements&nbsp;would&nbsp;apply&nbsp;to&nbsp;only&nbsp;half&nbsp;of&nbsp;seafood&nbsp;imports,&nbsp;leaving&nbsp;massive&nbsp;loopholes&nbsp;that&nbsp;are&nbsp;easy&nbsp;for&nbsp;bad&nbsp;actors&nbsp;to&nbsp;exploit.&nbsp;The&nbsp;proposed&nbsp;rule&nbsp;also&nbsp;fails&nbsp;to&nbsp;sufficiently&nbsp;address&nbsp;labor&nbsp;abuses&nbsp;in&nbsp;seafood&nbsp;supply&nbsp;chains,&nbsp;and&nbsp;it&nbsp;includes&nbsp;no&nbsp;commitment&nbsp;to&nbsp;improve&nbsp;enforcement&nbsp;of&nbsp;traceability&nbsp;requirements.&nbsp;</span></td><td style=\"word-wrap: break-word\" class=\"diff_next\"></td><td style=\"word-wrap: break-word\" class=\"diff_header\"></td><td style=\"word-wrap: break-word\" ></td></tr>\n",
       "            <tr><td style=\"word-wrap: break-word\" class=\"diff_next\"></td><td style=\"word-wrap: break-word\" class=\"diff_header\" id=\"from9_10\">10</td><td style=\"word-wrap: break-word\" ></td><td style=\"word-wrap: break-word\" class=\"diff_next\"></td><td style=\"word-wrap: break-word\" class=\"diff_header\" id=\"to9_4\">4</td><td style=\"word-wrap: break-word\" ></td></tr>\n",
       "            <tr><td style=\"word-wrap: break-word\" class=\"diff_next\"></td><td style=\"word-wrap: break-word\" class=\"diff_header\" id=\"from9_11\">11</td><td style=\"word-wrap: break-word\" >Please&nbsp;revise&nbsp;the&nbsp;Seafood&nbsp;Import&nbsp;Monitoring&nbsp;Program&nbsp;proposed&nbsp;rule&nbsp;to&nbsp;adopt&nbsp;the&nbsp;strongest&nbsp;possible&nbsp;standards&nbsp;for&nbsp;seafood&nbsp;traceability&nbsp;to&nbsp;intercept&nbsp;the&nbsp;flow&nbsp;of&nbsp;illegal&nbsp;seafood&nbsp;into&nbsp;the&nbsp;U.S.&nbsp;and&nbsp;help&nbsp;consumers&nbsp;feel&nbsp;confident&nbsp;the&nbsp;seafood&nbsp;they&nbsp;buy&nbsp;is&nbsp;legally&nbsp;caught&nbsp;and&nbsp;not&nbsp;a&nbsp;product&nbsp;of&nbsp;labor&nbsp;abuses.&nbsp;Thank&nbsp;you&nbsp;for&nbsp;helping&nbsp;to&nbsp;address&nbsp;these&nbsp;environmental&nbsp;and&nbsp;human&nbsp;rights&nbsp;crimes&nbsp;with&nbsp;the&nbsp;seriousness&nbsp;they&nbsp;deserve.</td><td style=\"word-wrap: break-word\" class=\"diff_next\"></td><td style=\"word-wrap: break-word\" class=\"diff_header\" id=\"to9_5\">5</td><td style=\"word-wrap: break-word\" >Please&nbsp;revise&nbsp;the&nbsp;Seafood&nbsp;Import&nbsp;Monitoring&nbsp;Program&nbsp;proposed&nbsp;rule&nbsp;to&nbsp;adopt&nbsp;the&nbsp;strongest&nbsp;possible&nbsp;standards&nbsp;for&nbsp;seafood&nbsp;traceability&nbsp;to&nbsp;intercept&nbsp;the&nbsp;flow&nbsp;of&nbsp;illegal&nbsp;seafood&nbsp;into&nbsp;the&nbsp;U.S.&nbsp;and&nbsp;help&nbsp;consumers&nbsp;feel&nbsp;confident&nbsp;the&nbsp;seafood&nbsp;they&nbsp;buy&nbsp;is&nbsp;legally&nbsp;caught&nbsp;and&nbsp;not&nbsp;a&nbsp;product&nbsp;of&nbsp;labor&nbsp;abuses.&nbsp;Thank&nbsp;you&nbsp;for&nbsp;helping&nbsp;to&nbsp;address&nbsp;these&nbsp;environmental&nbsp;and&nbsp;human&nbsp;rights&nbsp;crimes&nbsp;with&nbsp;the&nbsp;seriousness&nbsp;they&nbsp;deserve.</td></tr>\n",
       "        </tbody>\n",
       "    </table>\n",
       "    <table style=\"table-layout: fixed; width: 100%\" class=\"diff\" summary=\"Legends\">\n",
       "        <tr> <th colspan=\"2\"> Legends </th> </tr>\n",
       "        <tr> <td style=\"word-wrap: break-word\"> <table style=\"table-layout: fixed; width: 100%\" border=\"\" summary=\"Colors\">\n",
       "                      <tr><th> Colors </th> </tr>\n",
       "                      <tr><td style=\"word-wrap: break-word\" class=\"diff_add\">&nbsp;Added&nbsp;</td></tr>\n",
       "                      <tr><td style=\"word-wrap: break-word\" class=\"diff_chg\">Changed</td> </tr>\n",
       "                      <tr><td style=\"word-wrap: break-word\" class=\"diff_sub\">Deleted</td> </tr>\n",
       "                  </table></td>\n",
       "             <td style=\"word-wrap: break-word\"> <table style=\"table-layout: fixed; width: 100%\" border=\"\" summary=\"Links\">\n",
       "                      <tr><th colspan=\"2\"> Links </th> </tr>\n",
       "                      <tr><td style=\"word-wrap: break-word\">(f)irst change</td> </tr>\n",
       "                      <tr><td style=\"word-wrap: break-word\">(n)ext change</td> </tr>\n",
       "                      <tr><td style=\"word-wrap: break-word\">(t)op</td> </tr>\n",
       "                  </table></td> </tr>\n",
       "    </table>\n",
       "</body>\n",
       "\n",
       "</html>"
      ],
      "text/plain": [
       "<IPython.core.display.HTML object>"
      ]
     },
     "metadata": {},
     "output_type": "display_data"
    },
    {
     "data": {
      "text/html": [
       "\n",
       "<!DOCTYPE html PUBLIC \"-//W3C//DTD XHTML 1.0 Transitional//EN\"\n",
       "          \"http://www.w3.org/TR/xhtml1/DTD/xhtml1-transitional.dtd\">\n",
       "\n",
       "<html>\n",
       "\n",
       "<head>\n",
       "    <meta http-equiv=\"Content-Type\"\n",
       "          content=\"text/html; charset=utf-8\" />\n",
       "    <title></title>\n",
       "    <style type=\"text/css\">\n",
       "        table.diff {font-family:Courier; border:medium;}\n",
       "        .diff_header {background-color:#e0e0e0}\n",
       "        td.diff_header {text-align:right; width:1%}\n",
       "        .diff_next {background-color:#c0c0c0; width:1%}\n",
       "        .diff_add {background-color:#aaffaa}\n",
       "        .diff_chg {background-color:#ffff77}\n",
       "        .diff_sub {background-color:#ffaaaa}\n",
       "    </style>\n",
       "</head>\n",
       "\n",
       "<body>\n",
       "    \n",
       "    <table style=\"table-layout: fixed; width: 100%\" class=\"diff\" id=\"difflib_chg_to10__top\"\n",
       "           cellspacing=\"0\" cellpadding=\"0\" rules=\"groups\" >\n",
       "        <colgroup></colgroup> <colgroup></colgroup> <colgroup></colgroup>\n",
       "        <colgroup></colgroup> <colgroup></colgroup> <colgroup></colgroup>\n",
       "        \n",
       "        <tbody>\n",
       "            <tr><td style=\"word-wrap: break-word\" class=\"diff_next\" id=\"difflib_chg_to10__1\"><a href=\"#difflib_chg_to10__0\">f</a></td><td style=\"word-wrap: break-word\" class=\"diff_header\" id=\"from10_1\">1</td><td style=\"word-wrap: break-word\" >Dear&nbsp;NOAA&nbsp;Administrator&nbsp;Spinrad&nbsp;and&nbsp;NOAA&nbsp;Fisheries&nbsp;Assistant&nbsp;Administrator&nbsp;Coit:</td><td style=\"word-wrap: break-word\" class=\"diff_next\"><a href=\"#difflib_chg_to10__0\">f</a></td><td style=\"word-wrap: break-word\" class=\"diff_header\" id=\"to10_1\">1</td><td style=\"word-wrap: break-word\" >Dear&nbsp;NOAA&nbsp;Administrator&nbsp;Spinrad&nbsp;and&nbsp;NOAA&nbsp;Fisheries&nbsp;Assistant&nbsp;Administrator&nbsp;Coit:</td></tr>\n",
       "            <tr><td style=\"word-wrap: break-word\" class=\"diff_next\"></td><td style=\"word-wrap: break-word\" class=\"diff_header\" id=\"from10_2\">2</td><td style=\"word-wrap: break-word\" ></td><td style=\"word-wrap: break-word\" class=\"diff_next\"></td><td style=\"word-wrap: break-word\" class=\"diff_header\" id=\"to10_2\">2</td><td style=\"word-wrap: break-word\" ></td></tr>\n",
       "            <tr><td style=\"word-wrap: break-word\" class=\"diff_next\"><a href=\"#difflib_chg_to10__1\">n</a></td><td style=\"word-wrap: break-word\" class=\"diff_header\" id=\"from10_3\">3</td><td style=\"word-wrap: break-word\" ><span class=\"diff_sub\">The&nbsp;United&nbsp;States&nbsp;needs&nbsp;an&nbsp;effective&nbsp;seafood&nbsp;traceability&nbsp;program&nbsp;to&nbsp;intercept&nbsp;the&nbsp;flow&nbsp;of&nbsp;illegal&nbsp;seafood&nbsp;into&nbsp;our&nbsp;markets.&nbsp;Illegal&nbsp;fishing&nbsp;is&nbsp;a&nbsp;top&nbsp;driver&nbsp;of&nbsp;unsustainable&nbsp;and&nbsp;environmentally&nbsp;harmful&nbsp;fishing&nbsp;practices&nbsp;around&nbsp;the&nbsp;globe,&nbsp;as&nbsp;well&nbsp;as&nbsp;associated&nbsp;human&nbsp;rights&nbsp;abuses&nbsp;in&nbsp;the&nbsp;seafood&nbsp;sector.&nbsp;The&nbsp;newly&nbsp;proposed&nbsp;changes&nbsp;to&nbsp;the&nbsp;Seafood&nbsp;Import&nbsp;Monitoring&nbsp;Program&nbsp;do&nbsp;not&nbsp;go&nbsp;far&nbsp;enough&nbsp;to&nbsp;help&nbsp;end&nbsp;the&nbsp;U.S.'s&nbsp;role&nbsp;in&nbsp;perpetuating&nbsp;human&nbsp;rights&nbsp;abuses&nbsp;and&nbsp;environmental&nbsp;destruction&nbsp;in&nbsp;the&nbsp;seafood&nbsp;industry.&nbsp;</span></td><td style=\"word-wrap: break-word\" class=\"diff_next\"><a href=\"#difflib_chg_to10__1\">n</a></td><td style=\"word-wrap: break-word\" class=\"diff_header\" id=\"to10_3\">3</td><td style=\"word-wrap: break-word\" ><span class=\"diff_add\">The&nbsp;United&nbsp;States&nbsp;needs&nbsp;an&nbsp;effective&nbsp;seafood&nbsp;traceability&nbsp;program&nbsp;to&nbsp;intercept&nbsp;the&nbsp;flow&nbsp;of&nbsp;illegal&nbsp;seafood&nbsp;into&nbsp;our&nbsp;markets!!&nbsp;</span></td></tr>\n",
       "            <tr><td style=\"word-wrap: break-word\" class=\"diff_next\" id=\"difflib_chg_to10__2\"></td><td style=\"word-wrap: break-word\" class=\"diff_header\"></td><td style=\"word-wrap: break-word\" ></td><td style=\"word-wrap: break-word\" class=\"diff_next\"></td><td style=\"word-wrap: break-word\" class=\"diff_header\" id=\"to10_4\">4</td><td style=\"word-wrap: break-word\" ><span class=\"diff_add\">Illegal&nbsp;fishing&nbsp;is&nbsp;a&nbsp;top&nbsp;driver&nbsp;of&nbsp;unsustainable&nbsp;and&nbsp;environmentally&nbsp;harmful&nbsp;fishing&nbsp;practices&nbsp;around&nbsp;the&nbsp;globe,&nbsp;as&nbsp;well&nbsp;as&nbsp;associated&nbsp;human&nbsp;rights&nbsp;abuses&nbsp;in&nbsp;the&nbsp;seafood&nbsp;sector!!&nbsp;&nbsp;The&nbsp;newly&nbsp;proposed&nbsp;changes&nbsp;to&nbsp;the&nbsp;Seafood&nbsp;Import&nbsp;Monitoring&nbsp;Program&nbsp;do&nbsp;NOT&nbsp;go&nbsp;far&nbsp;enough&nbsp;to&nbsp;help&nbsp;end&nbsp;the&nbsp;U.S.'s&nbsp;role&nbsp;in&nbsp;perpetuating&nbsp;human&nbsp;rights&nbsp;abuses&nbsp;and&nbsp;environmental&nbsp;destruction&nbsp;in&nbsp;the&nbsp;seafood&nbsp;industry!!&nbsp;</span></td></tr>\n",
       "            <tr><td style=\"word-wrap: break-word\" class=\"diff_next\"></td><td style=\"word-wrap: break-word\" class=\"diff_header\" id=\"from10_4\">4</td><td style=\"word-wrap: break-word\" ></td><td style=\"word-wrap: break-word\" class=\"diff_next\"></td><td style=\"word-wrap: break-word\" class=\"diff_header\" id=\"to10_5\">5</td><td style=\"word-wrap: break-word\" ></td></tr>\n",
       "            <tr><td style=\"word-wrap: break-word\" class=\"diff_next\" id=\"difflib_chg_to10__3\"><a href=\"#difflib_chg_to10__2\">n</a></td><td style=\"word-wrap: break-word\" class=\"diff_header\" id=\"from10_5\">5</td><td style=\"word-wrap: break-word\" ><span class=\"diff_sub\">Illegal&nbsp;fishing&nbsp;is&nbsp;destroying&nbsp;our&nbsp;oceans.&nbsp;Years&nbsp;of&nbsp;overfishing&nbsp;in&nbsp;nearshore&nbsp;waters&nbsp;have&nbsp;forced&nbsp;boats&nbsp;to&nbsp;go&nbsp;into&nbsp;deeper&nbsp;waters,&nbsp;which&nbsp;makes&nbsp;fishing&nbsp;more&nbsp;expensive.&nbsp;Some&nbsp;fishers&nbsp;will&nbsp;cut&nbsp;costs&nbsp;by&nbsp;fishing&nbsp;with&nbsp;illegal&nbsp;gear,&nbsp;fishing&nbsp;in&nbsp;protected&nbsp;areas,&nbsp;or&nbsp;ignoring&nbsp;catch&nbsp;limits.&nbsp;To&nbsp;save&nbsp;on&nbsp;labor&nbsp;costs,&nbsp;some&nbsp;vessel&nbsp;owners&nbsp;rely&nbsp;on&nbsp;human&nbsp;traffickers,&nbsp;some&nbsp;even&nbsp;kidnapping&nbsp;or&nbsp;drugging&nbsp;workers&nbsp;to&nbsp;get&nbsp;them&nbsp;on&nbsp;the&nbsp;ship&nbsp;and&nbsp;cut&nbsp;off&nbsp;from&nbsp;help.&nbsp;Further,&nbsp;the&nbsp;overseas&nbsp;seafood&nbsp;processing&nbsp;industry&nbsp;is&nbsp;heavily&nbsp;reliant&nbsp;on&nbsp;forced&nbsp;labor.&nbsp;&nbsp;</span></td><td style=\"word-wrap: break-word\" class=\"diff_next\"><a href=\"#difflib_chg_to10__2\">n</a></td><td style=\"word-wrap: break-word\" class=\"diff_header\" id=\"to10_6\">6</td><td style=\"word-wrap: break-word\" ><span class=\"diff_add\">Illegal&nbsp;fishing&nbsp;is&nbsp;destroying&nbsp;our&nbsp;oceans!!&nbsp;</span></td></tr>\n",
       "            <tr><td style=\"word-wrap: break-word\" class=\"diff_next\"></td><td style=\"word-wrap: break-word\" class=\"diff_header\"></td><td style=\"word-wrap: break-word\" ></td><td style=\"word-wrap: break-word\" class=\"diff_next\"></td><td style=\"word-wrap: break-word\" class=\"diff_header\" id=\"to10_7\">7</td><td style=\"word-wrap: break-word\" ><span class=\"diff_add\">Years&nbsp;of&nbsp;overfishing&nbsp;in&nbsp;nearshore&nbsp;waters&nbsp;have&nbsp;forced&nbsp;boats&nbsp;to&nbsp;go&nbsp;into&nbsp;deeper&nbsp;waters,&nbsp;which&nbsp;makes&nbsp;fishing&nbsp;more&nbsp;expensive.&nbsp;Some&nbsp;fishers&nbsp;will&nbsp;cut&nbsp;costs&nbsp;by&nbsp;fishing&nbsp;with&nbsp;illegal&nbsp;gear,&nbsp;fishing&nbsp;in&nbsp;protected&nbsp;areas,&nbsp;or&nbsp;ignoring&nbsp;catch&nbsp;limits!&nbsp;To&nbsp;save&nbsp;on&nbsp;labor&nbsp;costs,&nbsp;some&nbsp;vessel&nbsp;owners&nbsp;rely&nbsp;on&nbsp;human&nbsp;traffickers,&nbsp;some&nbsp;even&nbsp;kidnapping&nbsp;or&nbsp;drugging&nbsp;workers&nbsp;to&nbsp;get&nbsp;them&nbsp;on&nbsp;the&nbsp;ship&nbsp;and&nbsp;cut&nbsp;off&nbsp;from&nbsp;help!!&nbsp;Further,&nbsp;the&nbsp;overseas&nbsp;seafood&nbsp;processing&nbsp;industry&nbsp;is&nbsp;heavily&nbsp;reliant&nbsp;on&nbsp;forced&nbsp;labor!!&nbsp;</span></td></tr>\n",
       "            <tr><td style=\"word-wrap: break-word\" class=\"diff_next\" id=\"difflib_chg_to10__4\"></td><td style=\"word-wrap: break-word\" class=\"diff_header\" id=\"from10_6\">6</td><td style=\"word-wrap: break-word\" ></td><td style=\"word-wrap: break-word\" class=\"diff_next\"></td><td style=\"word-wrap: break-word\" class=\"diff_header\" id=\"to10_8\">8</td><td style=\"word-wrap: break-word\" ></td></tr>\n",
       "            <tr><td style=\"word-wrap: break-word\" class=\"diff_next\"><a href=\"#difflib_chg_to10__3\">n</a></td><td style=\"word-wrap: break-word\" class=\"diff_header\" id=\"from10_7\">7</td><td style=\"word-wrap: break-word\" >The&nbsp;U.S.&nbsp;is&nbsp;one&nbsp;of&nbsp;the&nbsp;largest&nbsp;consumers&nbsp;of&nbsp;seafood<span class=\"diff_chg\">.</span>&nbsp;Approximately&nbsp;eighty&nbsp;percent&nbsp;of&nbsp;the&nbsp;seafood&nbsp;sold&nbsp;in&nbsp;the&nbsp;U.S.&nbsp;is&nbsp;imported,&nbsp;and&nbsp;as&nbsp;much&nbsp;as&nbsp;a&nbsp;third&nbsp;of&nbsp;the&nbsp;wild-caught&nbsp;seafood&nbsp;sold&nbsp;in&nbsp;the&nbsp;United&nbsp;States&nbsp;each&nbsp;year&nbsp;is&nbsp;illegal&nbsp;or&nbsp;unreported<span class=\"diff_chg\">.&nbsp;&nbsp;</span></td><td style=\"word-wrap: break-word\" class=\"diff_next\"><a href=\"#difflib_chg_to10__3\">n</a></td><td style=\"word-wrap: break-word\" class=\"diff_header\" id=\"to10_9\">9</td><td style=\"word-wrap: break-word\" >The&nbsp;U.S.&nbsp;is&nbsp;one&nbsp;of&nbsp;the&nbsp;largest&nbsp;consumers&nbsp;of&nbsp;seafood<span class=\"diff_chg\">!</span>&nbsp;Approximately&nbsp;eighty&nbsp;percent&nbsp;of&nbsp;the&nbsp;seafood&nbsp;sold&nbsp;in&nbsp;the&nbsp;U.S.&nbsp;is&nbsp;imported,&nbsp;and&nbsp;as&nbsp;much&nbsp;as&nbsp;a&nbsp;third&nbsp;of&nbsp;the&nbsp;wild-caught&nbsp;seafood&nbsp;sold&nbsp;in&nbsp;the&nbsp;United&nbsp;States&nbsp;each&nbsp;year&nbsp;is&nbsp;illegal&nbsp;or&nbsp;unreported<span class=\"diff_chg\">!!&nbsp;</span></td></tr>\n",
       "            <tr><td style=\"word-wrap: break-word\" class=\"diff_next\"></td><td style=\"word-wrap: break-word\" class=\"diff_header\" id=\"from10_8\">8</td><td style=\"word-wrap: break-word\" ></td><td style=\"word-wrap: break-word\" class=\"diff_next\"></td><td style=\"word-wrap: break-word\" class=\"diff_header\" id=\"to10_10\">10</td><td style=\"word-wrap: break-word\" ></td></tr>\n",
       "            <tr><td style=\"word-wrap: break-word\" class=\"diff_next\"><a href=\"#difflib_chg_to10__4\">n</a></td><td style=\"word-wrap: break-word\" class=\"diff_header\" id=\"from10_9\">9</td><td style=\"word-wrap: break-word\" >The&nbsp;U.S.&nbsp;government&nbsp;has&nbsp;a&nbsp;responsibility&nbsp;to&nbsp;fix&nbsp;these&nbsp;problems,&nbsp;and&nbsp;seafood&nbsp;traceability&nbsp;is&nbsp;an&nbsp;essential&nbsp;step&nbsp;in&nbsp;the&nbsp;fight&nbsp;to&nbsp;end&nbsp;illegal&nbsp;fishing&nbsp;and&nbsp;human&nbsp;rights&nbsp;abuses&nbsp;in&nbsp;the&nbsp;seafood&nbsp;industry<span class=\"diff_chg\">.</span>&nbsp;But&nbsp;under&nbsp;NOAA&nbsp;Fisheries’&nbsp;proposed&nbsp;rule,&nbsp;traceability&nbsp;requirements&nbsp;would&nbsp;apply&nbsp;to&nbsp;only&nbsp;half&nbsp;of&nbsp;seafood&nbsp;imports,&nbsp;leaving&nbsp;massive&nbsp;loopholes&nbsp;that&nbsp;are&nbsp;easy&nbsp;for&nbsp;bad&nbsp;actors&nbsp;to&nbsp;exploit<span class=\"diff_chg\">.</span>&nbsp;The&nbsp;proposed&nbsp;rule&nbsp;also&nbsp;fails&nbsp;to&nbsp;sufficiently&nbsp;address&nbsp;labor&nbsp;abuses&nbsp;in&nbsp;seafood&nbsp;supply&nbsp;chains,&nbsp;and&nbsp;it&nbsp;includes&nbsp;<span class=\"diff_chg\">no&nbsp;commitment&nbsp;to</span>&nbsp;improve&nbsp;enforcement&nbsp;of&nbsp;traceability&nbsp;requirements<span class=\"diff_chg\">.&nbsp;</span></td><td style=\"word-wrap: break-word\" class=\"diff_next\"><a href=\"#difflib_chg_to10__4\">n</a></td><td style=\"word-wrap: break-word\" class=\"diff_header\" id=\"to10_11\">11</td><td style=\"word-wrap: break-word\" >The&nbsp;U.S.&nbsp;government&nbsp;has&nbsp;a&nbsp;responsibility&nbsp;to&nbsp;fix&nbsp;these&nbsp;problems,&nbsp;and&nbsp;seafood&nbsp;traceability&nbsp;is&nbsp;an&nbsp;essential&nbsp;step&nbsp;in&nbsp;the&nbsp;fight&nbsp;to&nbsp;end&nbsp;illegal&nbsp;fishing&nbsp;and&nbsp;human&nbsp;rights&nbsp;abuses&nbsp;in&nbsp;the&nbsp;seafood&nbsp;industry<span class=\"diff_chg\">!!</span>&nbsp;But&nbsp;under&nbsp;NOAA&nbsp;Fisheries’&nbsp;proposed&nbsp;rule,&nbsp;traceability&nbsp;requirements&nbsp;would&nbsp;apply&nbsp;to&nbsp;only&nbsp;half&nbsp;of&nbsp;seafood&nbsp;imports,&nbsp;leaving&nbsp;massive&nbsp;loopholes&nbsp;that&nbsp;are&nbsp;easy&nbsp;for&nbsp;bad&nbsp;actors&nbsp;to&nbsp;exploit<span class=\"diff_chg\">!!</span>&nbsp;The&nbsp;proposed&nbsp;rule&nbsp;also&nbsp;fails&nbsp;to&nbsp;sufficiently&nbsp;address&nbsp;labor&nbsp;abuses&nbsp;in&nbsp;seafood&nbsp;supply&nbsp;chains,&nbsp;and&nbsp;it&nbsp;includes&nbsp;<span class=\"diff_chg\">NO&nbsp;commitment&nbsp;to</span>&nbsp;improve&nbsp;enforcement&nbsp;of&nbsp;traceability&nbsp;requirements<span class=\"diff_chg\">!!&nbsp;</span></td></tr>\n",
       "            <tr><td style=\"word-wrap: break-word\" class=\"diff_next\"></td><td style=\"word-wrap: break-word\" class=\"diff_header\" id=\"from10_10\">10</td><td style=\"word-wrap: break-word\" ></td><td style=\"word-wrap: break-word\" class=\"diff_next\"></td><td style=\"word-wrap: break-word\" class=\"diff_header\" id=\"to10_12\">12</td><td style=\"word-wrap: break-word\" ></td></tr>\n",
       "            <tr><td style=\"word-wrap: break-word\" class=\"diff_next\"><a href=\"#difflib_chg_to10__top\">t</a></td><td style=\"word-wrap: break-word\" class=\"diff_header\" id=\"from10_11\">11</td><td style=\"word-wrap: break-word\" >P<span class=\"diff_chg\">lease</span>&nbsp;revise&nbsp;the&nbsp;Seafood&nbsp;Import&nbsp;Monitoring&nbsp;Program&nbsp;proposed&nbsp;rule&nbsp;to&nbsp;adopt&nbsp;the&nbsp;strongest&nbsp;possible&nbsp;standards&nbsp;for&nbsp;seafood&nbsp;traceability&nbsp;to&nbsp;intercept&nbsp;the&nbsp;flow&nbsp;of&nbsp;illegal&nbsp;seafood&nbsp;into&nbsp;the&nbsp;U.S.&nbsp;and&nbsp;help&nbsp;consumers&nbsp;feel&nbsp;confident&nbsp;the&nbsp;seafood&nbsp;they&nbsp;buy&nbsp;is&nbsp;legally&nbsp;caught&nbsp;and&nbsp;not&nbsp;a&nbsp;product&nbsp;of&nbsp;labor&nbsp;abuses<span class=\"diff_chg\">.&nbsp;Thank&nbsp;you&nbsp;for&nbsp;helping&nbsp;to&nbsp;address&nbsp;these&nbsp;environmental&nbsp;and&nbsp;human&nbsp;rights&nbsp;crimes&nbsp;with&nbsp;the&nbsp;seriousness&nbsp;they&nbsp;deserve.</span></td><td style=\"word-wrap: break-word\" class=\"diff_next\"><a href=\"#difflib_chg_to10__top\">t</a></td><td style=\"word-wrap: break-word\" class=\"diff_header\" id=\"to10_13\">13</td><td style=\"word-wrap: break-word\" >P<span class=\"diff_chg\">LEASE</span>&nbsp;revise&nbsp;the&nbsp;Seafood&nbsp;Import&nbsp;Monitoring&nbsp;Program&nbsp;proposed&nbsp;rule&nbsp;to&nbsp;adopt&nbsp;the&nbsp;strongest&nbsp;possible&nbsp;standards&nbsp;for&nbsp;seafood&nbsp;traceability&nbsp;to&nbsp;intercept&nbsp;the&nbsp;flow&nbsp;of&nbsp;illegal&nbsp;seafood&nbsp;into&nbsp;the&nbsp;U.S.&nbsp;and&nbsp;help&nbsp;consumers&nbsp;feel&nbsp;confident&nbsp;the&nbsp;seafood&nbsp;they&nbsp;buy&nbsp;is&nbsp;legally&nbsp;caught&nbsp;and&nbsp;not&nbsp;a&nbsp;product&nbsp;of&nbsp;labor&nbsp;abuses<span class=\"diff_chg\">!!&nbsp;</span></td></tr>\n",
       "            <tr><td style=\"word-wrap: break-word\" class=\"diff_next\"></td><td style=\"word-wrap: break-word\" class=\"diff_header\"></td><td style=\"word-wrap: break-word\" ></td><td style=\"word-wrap: break-word\" class=\"diff_next\"></td><td style=\"word-wrap: break-word\" class=\"diff_header\" id=\"to10_14\">14</td><td style=\"word-wrap: break-word\" ><span class=\"diff_add\">&nbsp;</span></td></tr>\n",
       "            <tr><td style=\"word-wrap: break-word\" class=\"diff_next\"></td><td style=\"word-wrap: break-word\" class=\"diff_header\"></td><td style=\"word-wrap: break-word\" ></td><td style=\"word-wrap: break-word\" class=\"diff_next\"></td><td style=\"word-wrap: break-word\" class=\"diff_header\" id=\"to10_15\">15</td><td style=\"word-wrap: break-word\" ><span class=\"diff_add\">Thank&nbsp;you&nbsp;for&nbsp;helping&nbsp;to&nbsp;address&nbsp;these&nbsp;environmental&nbsp;and&nbsp;human&nbsp;rights&nbsp;crimes&nbsp;with&nbsp;the&nbsp;seriousness&nbsp;they&nbsp;deserve!!</span></td></tr>\n",
       "        </tbody>\n",
       "    </table>\n",
       "    <table style=\"table-layout: fixed; width: 100%\" class=\"diff\" summary=\"Legends\">\n",
       "        <tr> <th colspan=\"2\"> Legends </th> </tr>\n",
       "        <tr> <td style=\"word-wrap: break-word\"> <table style=\"table-layout: fixed; width: 100%\" border=\"\" summary=\"Colors\">\n",
       "                      <tr><th> Colors </th> </tr>\n",
       "                      <tr><td style=\"word-wrap: break-word\" class=\"diff_add\">&nbsp;Added&nbsp;</td></tr>\n",
       "                      <tr><td style=\"word-wrap: break-word\" class=\"diff_chg\">Changed</td> </tr>\n",
       "                      <tr><td style=\"word-wrap: break-word\" class=\"diff_sub\">Deleted</td> </tr>\n",
       "                  </table></td>\n",
       "             <td style=\"word-wrap: break-word\"> <table style=\"table-layout: fixed; width: 100%\" border=\"\" summary=\"Links\">\n",
       "                      <tr><th colspan=\"2\"> Links </th> </tr>\n",
       "                      <tr><td style=\"word-wrap: break-word\">(f)irst change</td> </tr>\n",
       "                      <tr><td style=\"word-wrap: break-word\">(n)ext change</td> </tr>\n",
       "                      <tr><td style=\"word-wrap: break-word\">(t)op</td> </tr>\n",
       "                  </table></td> </tr>\n",
       "    </table>\n",
       "</body>\n",
       "\n",
       "</html>"
      ],
      "text/plain": [
       "<IPython.core.display.HTML object>"
      ]
     },
     "metadata": {},
     "output_type": "display_data"
    },
    {
     "data": {
      "text/html": [
       "\n",
       "<!DOCTYPE html PUBLIC \"-//W3C//DTD XHTML 1.0 Transitional//EN\"\n",
       "          \"http://www.w3.org/TR/xhtml1/DTD/xhtml1-transitional.dtd\">\n",
       "\n",
       "<html>\n",
       "\n",
       "<head>\n",
       "    <meta http-equiv=\"Content-Type\"\n",
       "          content=\"text/html; charset=utf-8\" />\n",
       "    <title></title>\n",
       "    <style type=\"text/css\">\n",
       "        table.diff {font-family:Courier; border:medium;}\n",
       "        .diff_header {background-color:#e0e0e0}\n",
       "        td.diff_header {text-align:right; width:1%}\n",
       "        .diff_next {background-color:#c0c0c0; width:1%}\n",
       "        .diff_add {background-color:#aaffaa}\n",
       "        .diff_chg {background-color:#ffff77}\n",
       "        .diff_sub {background-color:#ffaaaa}\n",
       "    </style>\n",
       "</head>\n",
       "\n",
       "<body>\n",
       "    \n",
       "    <table style=\"table-layout: fixed; width: 100%\" class=\"diff\" id=\"difflib_chg_to11__top\"\n",
       "           cellspacing=\"0\" cellpadding=\"0\" rules=\"groups\" >\n",
       "        <colgroup></colgroup> <colgroup></colgroup> <colgroup></colgroup>\n",
       "        <colgroup></colgroup> <colgroup></colgroup> <colgroup></colgroup>\n",
       "        \n",
       "        <tbody>\n",
       "            <tr><td style=\"word-wrap: break-word\" class=\"diff_next\" id=\"difflib_chg_to11__0\"><a href=\"#difflib_chg_to11__0\">f</a></td><td style=\"word-wrap: break-word\" class=\"diff_header\" id=\"from11_1\">1</td><td style=\"word-wrap: break-word\" >Dear&nbsp;NOAA&nbsp;Administrator&nbsp;Spinrad&nbsp;and&nbsp;NOAA&nbsp;Fisheries&nbsp;Assistant&nbsp;Administrator&nbsp;Coit:</td><td style=\"word-wrap: break-word\" class=\"diff_next\"><a href=\"#difflib_chg_to11__0\">f</a></td><td style=\"word-wrap: break-word\" class=\"diff_header\" id=\"to11_1\">1</td><td style=\"word-wrap: break-word\" >Dear&nbsp;NOAA&nbsp;Administrator&nbsp;Spinrad&nbsp;and&nbsp;NOAA&nbsp;Fisheries&nbsp;Assistant&nbsp;Administrator&nbsp;Coit:</td></tr>\n",
       "            <tr><td style=\"word-wrap: break-word\" class=\"diff_next\"><a href=\"#difflib_chg_to11__top\">t</a></td><td style=\"word-wrap: break-word\" class=\"diff_header\" id=\"from11_2\">2</td><td style=\"word-wrap: break-word\" ><span class=\"diff_sub\">&nbsp;</span></td><td style=\"word-wrap: break-word\" class=\"diff_next\"><a href=\"#difflib_chg_to11__top\">t</a></td><td style=\"word-wrap: break-word\" class=\"diff_header\"></td><td style=\"word-wrap: break-word\" ></td></tr>\n",
       "            <tr><td style=\"word-wrap: break-word\" class=\"diff_next\"></td><td style=\"word-wrap: break-word\" class=\"diff_header\" id=\"from11_3\">3</td><td style=\"word-wrap: break-word\" ><span class=\"diff_sub\">The&nbsp;United&nbsp;States&nbsp;needs&nbsp;an&nbsp;effective&nbsp;seafood&nbsp;traceability&nbsp;program&nbsp;to&nbsp;intercept&nbsp;the&nbsp;flow&nbsp;of&nbsp;illegal&nbsp;seafood&nbsp;into&nbsp;our&nbsp;markets.&nbsp;Illegal&nbsp;fishing&nbsp;is&nbsp;a&nbsp;top&nbsp;driver&nbsp;of&nbsp;unsustainable&nbsp;and&nbsp;environmentally&nbsp;harmful&nbsp;fishing&nbsp;practices&nbsp;around&nbsp;the&nbsp;globe,&nbsp;as&nbsp;well&nbsp;as&nbsp;associated&nbsp;human&nbsp;rights&nbsp;abuses&nbsp;in&nbsp;the&nbsp;seafood&nbsp;sector.&nbsp;The&nbsp;newly&nbsp;proposed&nbsp;changes&nbsp;to&nbsp;the&nbsp;Seafood&nbsp;Import&nbsp;Monitoring&nbsp;Program&nbsp;do&nbsp;not&nbsp;go&nbsp;far&nbsp;enough&nbsp;to&nbsp;help&nbsp;end&nbsp;the&nbsp;U.S.'s&nbsp;role&nbsp;in&nbsp;perpetuating&nbsp;human&nbsp;rights&nbsp;abuses&nbsp;and&nbsp;environmental&nbsp;destruction&nbsp;in&nbsp;the&nbsp;seafood&nbsp;industry.&nbsp;</span></td><td style=\"word-wrap: break-word\" class=\"diff_next\"></td><td style=\"word-wrap: break-word\" class=\"diff_header\"></td><td style=\"word-wrap: break-word\" ></td></tr>\n",
       "            <tr><td style=\"word-wrap: break-word\" class=\"diff_next\"></td><td style=\"word-wrap: break-word\" class=\"diff_header\" id=\"from11_4\">4</td><td style=\"word-wrap: break-word\" ><span class=\"diff_sub\">&nbsp;</span></td><td style=\"word-wrap: break-word\" class=\"diff_next\"></td><td style=\"word-wrap: break-word\" class=\"diff_header\"></td><td style=\"word-wrap: break-word\" ></td></tr>\n",
       "            <tr><td style=\"word-wrap: break-word\" class=\"diff_next\"></td><td style=\"word-wrap: break-word\" class=\"diff_header\" id=\"from11_5\">5</td><td style=\"word-wrap: break-word\" ><span class=\"diff_sub\">Illegal&nbsp;fishing&nbsp;is&nbsp;destroying&nbsp;our&nbsp;oceans.&nbsp;Years&nbsp;of&nbsp;overfishing&nbsp;in&nbsp;nearshore&nbsp;waters&nbsp;have&nbsp;forced&nbsp;boats&nbsp;to&nbsp;go&nbsp;into&nbsp;deeper&nbsp;waters,&nbsp;which&nbsp;makes&nbsp;fishing&nbsp;more&nbsp;expensive.&nbsp;Some&nbsp;fishers&nbsp;will&nbsp;cut&nbsp;costs&nbsp;by&nbsp;fishing&nbsp;with&nbsp;illegal&nbsp;gear,&nbsp;fishing&nbsp;in&nbsp;protected&nbsp;areas,&nbsp;or&nbsp;ignoring&nbsp;catch&nbsp;limits.&nbsp;To&nbsp;save&nbsp;on&nbsp;labor&nbsp;costs,&nbsp;some&nbsp;vessel&nbsp;owners&nbsp;rely&nbsp;on&nbsp;human&nbsp;traffickers,&nbsp;some&nbsp;even&nbsp;kidnapping&nbsp;or&nbsp;drugging&nbsp;workers&nbsp;to&nbsp;get&nbsp;them&nbsp;on&nbsp;the&nbsp;ship&nbsp;and&nbsp;cut&nbsp;off&nbsp;from&nbsp;help.&nbsp;Further,&nbsp;the&nbsp;overseas&nbsp;seafood&nbsp;processing&nbsp;industry&nbsp;is&nbsp;heavily&nbsp;reliant&nbsp;on&nbsp;forced&nbsp;labor.&nbsp;&nbsp;</span></td><td style=\"word-wrap: break-word\" class=\"diff_next\"></td><td style=\"word-wrap: break-word\" class=\"diff_header\"></td><td style=\"word-wrap: break-word\" ></td></tr>\n",
       "            <tr><td style=\"word-wrap: break-word\" class=\"diff_next\"></td><td style=\"word-wrap: break-word\" class=\"diff_header\" id=\"from11_6\">6</td><td style=\"word-wrap: break-word\" ></td><td style=\"word-wrap: break-word\" class=\"diff_next\"></td><td style=\"word-wrap: break-word\" class=\"diff_header\" id=\"to11_2\">2</td><td style=\"word-wrap: break-word\" ></td></tr>\n",
       "            <tr><td style=\"word-wrap: break-word\" class=\"diff_next\"></td><td style=\"word-wrap: break-word\" class=\"diff_header\" id=\"from11_7\">7</td><td style=\"word-wrap: break-word\" >The&nbsp;U.S.&nbsp;is&nbsp;one&nbsp;of&nbsp;the&nbsp;largest&nbsp;consumers&nbsp;of&nbsp;seafood.&nbsp;Approximately&nbsp;eighty&nbsp;percent&nbsp;of&nbsp;the&nbsp;seafood&nbsp;sold&nbsp;in&nbsp;the&nbsp;U.S.&nbsp;is&nbsp;imported,&nbsp;and&nbsp;as&nbsp;much&nbsp;as&nbsp;a&nbsp;third&nbsp;of&nbsp;the&nbsp;wild-caught&nbsp;seafood&nbsp;sold&nbsp;in&nbsp;the&nbsp;United&nbsp;States&nbsp;each&nbsp;year&nbsp;is&nbsp;illegal&nbsp;or&nbsp;unreported.&nbsp;&nbsp;</td><td style=\"word-wrap: break-word\" class=\"diff_next\"></td><td style=\"word-wrap: break-word\" class=\"diff_header\" id=\"to11_3\">3</td><td style=\"word-wrap: break-word\" >The&nbsp;U.S.&nbsp;is&nbsp;one&nbsp;of&nbsp;the&nbsp;largest&nbsp;consumers&nbsp;of&nbsp;seafood.&nbsp;Approximately&nbsp;eighty&nbsp;percent&nbsp;of&nbsp;the&nbsp;seafood&nbsp;sold&nbsp;in&nbsp;the&nbsp;U.S.&nbsp;is&nbsp;imported,&nbsp;and&nbsp;as&nbsp;much&nbsp;as&nbsp;a&nbsp;third&nbsp;of&nbsp;the&nbsp;wild-caught&nbsp;seafood&nbsp;sold&nbsp;in&nbsp;the&nbsp;United&nbsp;States&nbsp;each&nbsp;year&nbsp;is&nbsp;illegal&nbsp;or&nbsp;unreported.&nbsp;&nbsp;</td></tr>\n",
       "            <tr><td style=\"word-wrap: break-word\" class=\"diff_next\"></td><td style=\"word-wrap: break-word\" class=\"diff_header\" id=\"from11_8\">8</td><td style=\"word-wrap: break-word\" ></td><td style=\"word-wrap: break-word\" class=\"diff_next\"></td><td style=\"word-wrap: break-word\" class=\"diff_header\" id=\"to11_4\">4</td><td style=\"word-wrap: break-word\" ></td></tr>\n",
       "            <tr><td style=\"word-wrap: break-word\" class=\"diff_next\"></td><td style=\"word-wrap: break-word\" class=\"diff_header\" id=\"from11_9\">9</td><td style=\"word-wrap: break-word\" >The&nbsp;U.S.&nbsp;government&nbsp;has&nbsp;a&nbsp;responsibility&nbsp;to&nbsp;fix&nbsp;these&nbsp;problems,&nbsp;and&nbsp;seafood&nbsp;traceability&nbsp;is&nbsp;an&nbsp;essential&nbsp;step&nbsp;in&nbsp;the&nbsp;fight&nbsp;to&nbsp;end&nbsp;illegal&nbsp;fishing&nbsp;and&nbsp;human&nbsp;rights&nbsp;abuses&nbsp;in&nbsp;the&nbsp;seafood&nbsp;industry.&nbsp;But&nbsp;under&nbsp;NOAA&nbsp;Fisheries’&nbsp;proposed&nbsp;rule,&nbsp;traceability&nbsp;requirements&nbsp;would&nbsp;apply&nbsp;to&nbsp;only&nbsp;half&nbsp;of&nbsp;seafood&nbsp;imports,&nbsp;leaving&nbsp;massive&nbsp;loopholes&nbsp;that&nbsp;are&nbsp;easy&nbsp;for&nbsp;bad&nbsp;actors&nbsp;to&nbsp;exploit.&nbsp;The&nbsp;proposed&nbsp;rule&nbsp;also&nbsp;fails&nbsp;to&nbsp;sufficiently&nbsp;address&nbsp;labor&nbsp;abuses&nbsp;in&nbsp;seafood&nbsp;supply&nbsp;chains,&nbsp;and&nbsp;it&nbsp;includes&nbsp;no&nbsp;commitment&nbsp;to&nbsp;improve&nbsp;enforcement&nbsp;of&nbsp;traceability&nbsp;requirements.&nbsp;</td><td style=\"word-wrap: break-word\" class=\"diff_next\"></td><td style=\"word-wrap: break-word\" class=\"diff_header\" id=\"to11_5\">5</td><td style=\"word-wrap: break-word\" >The&nbsp;U.S.&nbsp;government&nbsp;has&nbsp;a&nbsp;responsibility&nbsp;to&nbsp;fix&nbsp;these&nbsp;problems,&nbsp;and&nbsp;seafood&nbsp;traceability&nbsp;is&nbsp;an&nbsp;essential&nbsp;step&nbsp;in&nbsp;the&nbsp;fight&nbsp;to&nbsp;end&nbsp;illegal&nbsp;fishing&nbsp;and&nbsp;human&nbsp;rights&nbsp;abuses&nbsp;in&nbsp;the&nbsp;seafood&nbsp;industry.&nbsp;But&nbsp;under&nbsp;NOAA&nbsp;Fisheries’&nbsp;proposed&nbsp;rule,&nbsp;traceability&nbsp;requirements&nbsp;would&nbsp;apply&nbsp;to&nbsp;only&nbsp;half&nbsp;of&nbsp;seafood&nbsp;imports,&nbsp;leaving&nbsp;massive&nbsp;loopholes&nbsp;that&nbsp;are&nbsp;easy&nbsp;for&nbsp;bad&nbsp;actors&nbsp;to&nbsp;exploit.&nbsp;The&nbsp;proposed&nbsp;rule&nbsp;also&nbsp;fails&nbsp;to&nbsp;sufficiently&nbsp;address&nbsp;labor&nbsp;abuses&nbsp;in&nbsp;seafood&nbsp;supply&nbsp;chains,&nbsp;and&nbsp;it&nbsp;includes&nbsp;no&nbsp;commitment&nbsp;to&nbsp;improve&nbsp;enforcement&nbsp;of&nbsp;traceability&nbsp;requirements.&nbsp;</td></tr>\n",
       "            <tr><td style=\"word-wrap: break-word\" class=\"diff_next\"></td><td style=\"word-wrap: break-word\" class=\"diff_header\" id=\"from11_10\">10</td><td style=\"word-wrap: break-word\" ></td><td style=\"word-wrap: break-word\" class=\"diff_next\"></td><td style=\"word-wrap: break-word\" class=\"diff_header\" id=\"to11_6\">6</td><td style=\"word-wrap: break-word\" ></td></tr>\n",
       "            <tr><td style=\"word-wrap: break-word\" class=\"diff_next\"></td><td style=\"word-wrap: break-word\" class=\"diff_header\" id=\"from11_11\">11</td><td style=\"word-wrap: break-word\" >Please&nbsp;revise&nbsp;the&nbsp;Seafood&nbsp;Import&nbsp;Monitoring&nbsp;Program&nbsp;proposed&nbsp;rule&nbsp;to&nbsp;adopt&nbsp;the&nbsp;strongest&nbsp;possible&nbsp;standards&nbsp;for&nbsp;seafood&nbsp;traceability&nbsp;to&nbsp;intercept&nbsp;the&nbsp;flow&nbsp;of&nbsp;illegal&nbsp;seafood&nbsp;into&nbsp;the&nbsp;U.S.&nbsp;and&nbsp;help&nbsp;consumers&nbsp;feel&nbsp;confident&nbsp;the&nbsp;seafood&nbsp;they&nbsp;buy&nbsp;is&nbsp;legally&nbsp;caught&nbsp;and&nbsp;not&nbsp;a&nbsp;product&nbsp;of&nbsp;labor&nbsp;abuses.&nbsp;Thank&nbsp;you&nbsp;for&nbsp;helping&nbsp;to&nbsp;address&nbsp;these&nbsp;environmental&nbsp;and&nbsp;human&nbsp;rights&nbsp;crimes&nbsp;with&nbsp;the&nbsp;seriousness&nbsp;they&nbsp;deserve.</td><td style=\"word-wrap: break-word\" class=\"diff_next\"></td><td style=\"word-wrap: break-word\" class=\"diff_header\" id=\"to11_7\">7</td><td style=\"word-wrap: break-word\" >Please&nbsp;revise&nbsp;the&nbsp;Seafood&nbsp;Import&nbsp;Monitoring&nbsp;Program&nbsp;proposed&nbsp;rule&nbsp;to&nbsp;adopt&nbsp;the&nbsp;strongest&nbsp;possible&nbsp;standards&nbsp;for&nbsp;seafood&nbsp;traceability&nbsp;to&nbsp;intercept&nbsp;the&nbsp;flow&nbsp;of&nbsp;illegal&nbsp;seafood&nbsp;into&nbsp;the&nbsp;U.S.&nbsp;and&nbsp;help&nbsp;consumers&nbsp;feel&nbsp;confident&nbsp;the&nbsp;seafood&nbsp;they&nbsp;buy&nbsp;is&nbsp;legally&nbsp;caught&nbsp;and&nbsp;not&nbsp;a&nbsp;product&nbsp;of&nbsp;labor&nbsp;abuses.&nbsp;Thank&nbsp;you&nbsp;for&nbsp;helping&nbsp;to&nbsp;address&nbsp;these&nbsp;environmental&nbsp;and&nbsp;human&nbsp;rights&nbsp;crimes&nbsp;with&nbsp;the&nbsp;seriousness&nbsp;they&nbsp;deserve.</td></tr>\n",
       "        </tbody>\n",
       "    </table>\n",
       "    <table style=\"table-layout: fixed; width: 100%\" class=\"diff\" summary=\"Legends\">\n",
       "        <tr> <th colspan=\"2\"> Legends </th> </tr>\n",
       "        <tr> <td style=\"word-wrap: break-word\"> <table style=\"table-layout: fixed; width: 100%\" border=\"\" summary=\"Colors\">\n",
       "                      <tr><th> Colors </th> </tr>\n",
       "                      <tr><td style=\"word-wrap: break-word\" class=\"diff_add\">&nbsp;Added&nbsp;</td></tr>\n",
       "                      <tr><td style=\"word-wrap: break-word\" class=\"diff_chg\">Changed</td> </tr>\n",
       "                      <tr><td style=\"word-wrap: break-word\" class=\"diff_sub\">Deleted</td> </tr>\n",
       "                  </table></td>\n",
       "             <td style=\"word-wrap: break-word\"> <table style=\"table-layout: fixed; width: 100%\" border=\"\" summary=\"Links\">\n",
       "                      <tr><th colspan=\"2\"> Links </th> </tr>\n",
       "                      <tr><td style=\"word-wrap: break-word\">(f)irst change</td> </tr>\n",
       "                      <tr><td style=\"word-wrap: break-word\">(n)ext change</td> </tr>\n",
       "                      <tr><td style=\"word-wrap: break-word\">(t)op</td> </tr>\n",
       "                  </table></td> </tr>\n",
       "    </table>\n",
       "</body>\n",
       "\n",
       "</html>"
      ],
      "text/plain": [
       "<IPython.core.display.HTML object>"
      ]
     },
     "metadata": {},
     "output_type": "display_data"
    },
    {
     "data": {
      "text/html": [
       "\n",
       "<!DOCTYPE html PUBLIC \"-//W3C//DTD XHTML 1.0 Transitional//EN\"\n",
       "          \"http://www.w3.org/TR/xhtml1/DTD/xhtml1-transitional.dtd\">\n",
       "\n",
       "<html>\n",
       "\n",
       "<head>\n",
       "    <meta http-equiv=\"Content-Type\"\n",
       "          content=\"text/html; charset=utf-8\" />\n",
       "    <title></title>\n",
       "    <style type=\"text/css\">\n",
       "        table.diff {font-family:Courier; border:medium;}\n",
       "        .diff_header {background-color:#e0e0e0}\n",
       "        td.diff_header {text-align:right; width:1%}\n",
       "        .diff_next {background-color:#c0c0c0; width:1%}\n",
       "        .diff_add {background-color:#aaffaa}\n",
       "        .diff_chg {background-color:#ffff77}\n",
       "        .diff_sub {background-color:#ffaaaa}\n",
       "    </style>\n",
       "</head>\n",
       "\n",
       "<body>\n",
       "    \n",
       "    <table style=\"table-layout: fixed; width: 100%\" class=\"diff\" id=\"difflib_chg_to12__top\"\n",
       "           cellspacing=\"0\" cellpadding=\"0\" rules=\"groups\" >\n",
       "        <colgroup></colgroup> <colgroup></colgroup> <colgroup></colgroup>\n",
       "        <colgroup></colgroup> <colgroup></colgroup> <colgroup></colgroup>\n",
       "        \n",
       "        <tbody>\n",
       "            <tr><td style=\"word-wrap: break-word\" class=\"diff_next\" id=\"difflib_chg_to12__1\"><a href=\"#difflib_chg_to12__0\">f</a></td><td style=\"word-wrap: break-word\" class=\"diff_header\" id=\"from12_1\">1</td><td style=\"word-wrap: break-word\" >Dear&nbsp;NOAA&nbsp;Administrator&nbsp;Spinrad&nbsp;and&nbsp;NOAA&nbsp;Fisheries&nbsp;Assistant&nbsp;Administrator&nbsp;Coit:</td><td style=\"word-wrap: break-word\" class=\"diff_next\"><a href=\"#difflib_chg_to12__0\">f</a></td><td style=\"word-wrap: break-word\" class=\"diff_header\" id=\"to12_1\">1</td><td style=\"word-wrap: break-word\" >Dear&nbsp;NOAA&nbsp;Administrator&nbsp;Spinrad&nbsp;and&nbsp;NOAA&nbsp;Fisheries&nbsp;Assistant&nbsp;Administrator&nbsp;Coit:</td></tr>\n",
       "            <tr><td style=\"word-wrap: break-word\" class=\"diff_next\" id=\"difflib_chg_to12__2\"></td><td style=\"word-wrap: break-word\" class=\"diff_header\" id=\"from12_2\">2</td><td style=\"word-wrap: break-word\" ></td><td style=\"word-wrap: break-word\" class=\"diff_next\"></td><td style=\"word-wrap: break-word\" class=\"diff_header\" id=\"to12_2\">2</td><td style=\"word-wrap: break-word\" ></td></tr>\n",
       "            <tr><td style=\"word-wrap: break-word\" class=\"diff_next\"><a href=\"#difflib_chg_to12__1\">n</a></td><td style=\"word-wrap: break-word\" class=\"diff_header\" id=\"from12_3\">3</td><td style=\"word-wrap: break-word\" ><span class=\"diff_sub\">The&nbsp;United&nbsp;States&nbsp;needs&nbsp;an&nbsp;effective&nbsp;seafood&nbsp;traceability&nbsp;program&nbsp;to&nbsp;intercept&nbsp;the&nbsp;flow&nbsp;of&nbsp;illegal&nbsp;seafood&nbsp;into&nbsp;our&nbsp;markets.&nbsp;Illegal&nbsp;fishing&nbsp;is&nbsp;a&nbsp;top&nbsp;driver&nbsp;of&nbsp;unsustainable&nbsp;and&nbsp;environmentally&nbsp;harmful&nbsp;fishing&nbsp;practices&nbsp;around&nbsp;the&nbsp;globe,&nbsp;as&nbsp;well&nbsp;as&nbsp;associated&nbsp;human&nbsp;rights&nbsp;abuses&nbsp;in&nbsp;the&nbsp;seafood&nbsp;sector.&nbsp;The&nbsp;newly&nbsp;proposed&nbsp;changes&nbsp;to&nbsp;the&nbsp;Seafood&nbsp;Import&nbsp;Monitoring&nbsp;Program&nbsp;do&nbsp;not&nbsp;go&nbsp;far&nbsp;enough&nbsp;to&nbsp;help&nbsp;end&nbsp;the&nbsp;U.S.'s&nbsp;role&nbsp;in&nbsp;perpetuating&nbsp;human&nbsp;rights&nbsp;abuses&nbsp;and&nbsp;environmental&nbsp;destruction&nbsp;in&nbsp;the&nbsp;seafood&nbsp;industry.&nbsp;</span></td><td style=\"word-wrap: break-word\" class=\"diff_next\"><a href=\"#difflib_chg_to12__1\">n</a></td><td style=\"word-wrap: break-word\" class=\"diff_header\" id=\"to12_3\">3</td><td style=\"word-wrap: break-word\" ><span class=\"diff_add\">The&nbsp;United&nbsp;States&nbsp;urgently&nbsp;&nbsp;needs&nbsp;an&nbsp;effective&nbsp;seafood&nbsp;traceability&nbsp;program&nbsp;to&nbsp;end&nbsp;the&nbsp;flow&nbsp;of&nbsp;illegal&nbsp;seafood&nbsp;into&nbsp;our&nbsp;markets.&nbsp;</span></td></tr>\n",
       "            <tr><td style=\"word-wrap: break-word\" class=\"diff_next\" id=\"difflib_chg_to12__3\"></td><td style=\"word-wrap: break-word\" class=\"diff_header\" id=\"from12_4\">4</td><td style=\"word-wrap: break-word\" ></td><td style=\"word-wrap: break-word\" class=\"diff_next\"></td><td style=\"word-wrap: break-word\" class=\"diff_header\" id=\"to12_4\">4</td><td style=\"word-wrap: break-word\" ></td></tr>\n",
       "            <tr><td style=\"word-wrap: break-word\" class=\"diff_next\"><a href=\"#difflib_chg_to12__2\">n</a></td><td style=\"word-wrap: break-word\" class=\"diff_header\" id=\"from12_5\">5</td><td style=\"word-wrap: break-word\" ><span class=\"diff_sub\">Illegal&nbsp;fishing&nbsp;is&nbsp;destroying&nbsp;our&nbsp;oceans.&nbsp;Years&nbsp;of&nbsp;overfishing&nbsp;in&nbsp;nearshore&nbsp;waters&nbsp;have&nbsp;forced&nbsp;boats&nbsp;to&nbsp;go&nbsp;into&nbsp;deeper&nbsp;waters,&nbsp;which&nbsp;makes&nbsp;fishing&nbsp;more&nbsp;expensive.&nbsp;Some&nbsp;fishers&nbsp;will&nbsp;cut&nbsp;costs&nbsp;by&nbsp;fishing&nbsp;with&nbsp;illegal&nbsp;gear,&nbsp;fishing&nbsp;in&nbsp;protected&nbsp;areas,&nbsp;or&nbsp;ignoring&nbsp;catch&nbsp;limits.&nbsp;To&nbsp;save&nbsp;on&nbsp;labor&nbsp;costs,&nbsp;some&nbsp;vessel&nbsp;owners&nbsp;rely&nbsp;on&nbsp;human&nbsp;traffickers,&nbsp;some&nbsp;even&nbsp;kidnapping&nbsp;or&nbsp;drugging&nbsp;workers&nbsp;to&nbsp;get&nbsp;them&nbsp;on&nbsp;the&nbsp;ship&nbsp;and&nbsp;cut&nbsp;off&nbsp;from&nbsp;help.&nbsp;Further,&nbsp;the&nbsp;overseas&nbsp;seafood&nbsp;processing&nbsp;industry&nbsp;is&nbsp;heavily&nbsp;reliant&nbsp;on&nbsp;forced&nbsp;labor.&nbsp;&nbsp;</span></td><td style=\"word-wrap: break-word\" class=\"diff_next\"><a href=\"#difflib_chg_to12__2\">n</a></td><td style=\"word-wrap: break-word\" class=\"diff_header\" id=\"to12_5\">5</td><td style=\"word-wrap: break-word\" ><span class=\"diff_add\">Illegal&nbsp;fishing&nbsp;is&nbsp;a&nbsp;primary&nbsp;malefactor&nbsp;and&nbsp;protagonist&nbsp;of&nbsp;unsustainable&nbsp;and&nbsp;environmentally&nbsp;harmful&nbsp;fishing&nbsp;practices&nbsp;around&nbsp;the&nbsp;globe,&nbsp;as&nbsp;well&nbsp;as&nbsp;associated&nbsp;and&nbsp;unconscionable&nbsp;human&nbsp;rights&nbsp;abuses&nbsp;in&nbsp;the&nbsp;seafood&nbsp;sector.&nbsp;</span></td></tr>\n",
       "            <tr><td style=\"word-wrap: break-word\" class=\"diff_next\" id=\"difflib_chg_to12__4\"></td><td style=\"word-wrap: break-word\" class=\"diff_header\" id=\"from12_6\">6</td><td style=\"word-wrap: break-word\" ></td><td style=\"word-wrap: break-word\" class=\"diff_next\"></td><td style=\"word-wrap: break-word\" class=\"diff_header\" id=\"to12_6\">6</td><td style=\"word-wrap: break-word\" ></td></tr>\n",
       "            <tr><td style=\"word-wrap: break-word\" class=\"diff_next\"><a href=\"#difflib_chg_to12__3\">n</a></td><td style=\"word-wrap: break-word\" class=\"diff_header\" id=\"from12_7\">7</td><td style=\"word-wrap: break-word\" ><span class=\"diff_sub\">The&nbsp;U.S.&nbsp;is&nbsp;one&nbsp;of&nbsp;the&nbsp;largest&nbsp;consumers&nbsp;of&nbsp;seafood.&nbsp;Approximately&nbsp;eighty&nbsp;percent&nbsp;of&nbsp;the&nbsp;seafood&nbsp;sold&nbsp;in&nbsp;the&nbsp;U.S.&nbsp;is&nbsp;imported,&nbsp;and&nbsp;as&nbsp;much&nbsp;as&nbsp;a&nbsp;third&nbsp;of&nbsp;the&nbsp;wild-caught&nbsp;seafood&nbsp;sold&nbsp;in&nbsp;the&nbsp;United&nbsp;States&nbsp;each&nbsp;year&nbsp;is&nbsp;illegal&nbsp;or&nbsp;unreported.&nbsp;&nbsp;</span></td><td style=\"word-wrap: break-word\" class=\"diff_next\"><a href=\"#difflib_chg_to12__3\">n</a></td><td style=\"word-wrap: break-word\" class=\"diff_header\" id=\"to12_7\">7</td><td style=\"word-wrap: break-word\" ><span class=\"diff_add\">The&nbsp;newly&nbsp;proposed&nbsp;changes&nbsp;to&nbsp;the&nbsp;Seafood&nbsp;Import&nbsp;Monitoring&nbsp;Program&nbsp;do&nbsp;not&nbsp;go&nbsp;far&nbsp;enough&nbsp;to&nbsp;help&nbsp;end&nbsp;the&nbsp;U.S.'s&nbsp;acquiesce&nbsp;with,&nbsp;tolerance&nbsp;of&nbsp;–&nbsp;and&nbsp;thus&nbsp;complicity&nbsp;with&nbsp;–&nbsp;the&nbsp;perpetuation&nbsp;of&nbsp;human&nbsp;rights&nbsp;abuses&nbsp;and&nbsp;environmental&nbsp;destruction&nbsp;in&nbsp;the&nbsp;seafood&nbsp;industry.&nbsp;</span></td></tr>\n",
       "            <tr><td style=\"word-wrap: break-word\" class=\"diff_next\"></td><td style=\"word-wrap: break-word\" class=\"diff_header\" id=\"from12_8\">8</td><td style=\"word-wrap: break-word\" ></td><td style=\"word-wrap: break-word\" class=\"diff_next\"></td><td style=\"word-wrap: break-word\" class=\"diff_header\" id=\"to12_8\">8</td><td style=\"word-wrap: break-word\" ></td></tr>\n",
       "            <tr><td style=\"word-wrap: break-word\" class=\"diff_next\"><a href=\"#difflib_chg_to12__4\">n</a></td><td style=\"word-wrap: break-word\" class=\"diff_header\" id=\"from12_9\">9</td><td style=\"word-wrap: break-word\" ><span class=\"diff_sub\">The&nbsp;U.S.&nbsp;government&nbsp;has&nbsp;a&nbsp;responsibility&nbsp;to&nbsp;fix&nbsp;these&nbsp;problems,&nbsp;and&nbsp;seafood&nbsp;traceability&nbsp;is&nbsp;an&nbsp;essential&nbsp;step&nbsp;in&nbsp;the&nbsp;fight&nbsp;to&nbsp;end&nbsp;illegal&nbsp;fishing&nbsp;and&nbsp;human&nbsp;rights&nbsp;abuses&nbsp;in&nbsp;the&nbsp;seafood&nbsp;industry.&nbsp;But&nbsp;under&nbsp;NOAA&nbsp;Fisheries’&nbsp;proposed&nbsp;rule,&nbsp;traceability&nbsp;requirements&nbsp;would&nbsp;apply&nbsp;to&nbsp;only&nbsp;half&nbsp;of&nbsp;seafood&nbsp;imports,&nbsp;leaving&nbsp;massive&nbsp;loopholes&nbsp;that&nbsp;are&nbsp;easy&nbsp;for&nbsp;bad&nbsp;actors&nbsp;to&nbsp;exploit.&nbsp;The&nbsp;proposed&nbsp;rule&nbsp;also&nbsp;fails&nbsp;to&nbsp;sufficiently&nbsp;address&nbsp;labor&nbsp;abuses&nbsp;in&nbsp;seafood&nbsp;supply&nbsp;chains,&nbsp;and&nbsp;it&nbsp;includes&nbsp;no&nbsp;commitment&nbsp;to&nbsp;improve&nbsp;enforcement&nbsp;of&nbsp;traceability&nbsp;requirements.&nbsp;</span></td><td style=\"word-wrap: break-word\" class=\"diff_next\"><a href=\"#difflib_chg_to12__4\">n</a></td><td style=\"word-wrap: break-word\" class=\"diff_header\" id=\"to12_9\">9</td><td style=\"word-wrap: break-word\" ><span class=\"diff_add\">Illegal&nbsp;fishing&nbsp;is&nbsp;degrading&nbsp;and&nbsp;progressively&nbsp;destroying&nbsp;all&nbsp;the&nbsp;world’s&nbsp;oceans.&nbsp;</span></td></tr>\n",
       "            <tr><td style=\"word-wrap: break-word\" class=\"diff_next\"></td><td style=\"word-wrap: break-word\" class=\"diff_header\" id=\"from12_10\">10</td><td style=\"word-wrap: break-word\" ></td><td style=\"word-wrap: break-word\" class=\"diff_next\"></td><td style=\"word-wrap: break-word\" class=\"diff_header\" id=\"to12_10\">10</td><td style=\"word-wrap: break-word\" ></td></tr>\n",
       "            <tr><td style=\"word-wrap: break-word\" class=\"diff_next\"><a href=\"#difflib_chg_to12__top\">t</a></td><td style=\"word-wrap: break-word\" class=\"diff_header\" id=\"from12_11\">11</td><td style=\"word-wrap: break-word\" ><span class=\"diff_sub\">Please&nbsp;revise&nbsp;the&nbsp;Seafood&nbsp;Import&nbsp;Monitoring&nbsp;Program&nbsp;proposed&nbsp;rule&nbsp;to&nbsp;adopt&nbsp;the&nbsp;strongest&nbsp;possible&nbsp;standards&nbsp;for&nbsp;seafood&nbsp;traceability&nbsp;to&nbsp;intercept&nbsp;the&nbsp;flow&nbsp;of&nbsp;illegal&nbsp;seafood&nbsp;into&nbsp;the&nbsp;U.S.&nbsp;and&nbsp;help&nbsp;consumers&nbsp;feel&nbsp;confident&nbsp;the&nbsp;seafood&nbsp;they&nbsp;buy&nbsp;is&nbsp;legally&nbsp;caught&nbsp;and&nbsp;not&nbsp;a&nbsp;product&nbsp;of&nbsp;labor&nbsp;abuses.&nbsp;Thank&nbsp;you&nbsp;for&nbsp;helping&nbsp;to&nbsp;address&nbsp;these&nbsp;environmental&nbsp;and&nbsp;human&nbsp;rights&nbsp;crimes&nbsp;with&nbsp;the&nbsp;seriousness&nbsp;they&nbsp;deserve.</span></td><td style=\"word-wrap: break-word\" class=\"diff_next\"><a href=\"#difflib_chg_to12__top\">t</a></td><td style=\"word-wrap: break-word\" class=\"diff_header\" id=\"to12_11\">11</td><td style=\"word-wrap: break-word\" ><span class=\"diff_add\">Years&nbsp;of&nbsp;overfishing&nbsp;in&nbsp;nearshore&nbsp;waters&nbsp;have&nbsp;forced&nbsp;boats&nbsp;to&nbsp;go&nbsp;into&nbsp;deeper&nbsp;waters,&nbsp;which&nbsp;makes&nbsp;fishing&nbsp;more&nbsp;expensive.&nbsp;Some&nbsp;fishers&nbsp;will&nbsp;seek&nbsp;to&nbsp;cut&nbsp;operational&nbsp;costs&nbsp;by&nbsp;fishing&nbsp;with&nbsp;illegal&nbsp;gear;&nbsp;fishing&nbsp;in&nbsp;protected&nbsp;areas;&nbsp;or&nbsp;ignoring&nbsp;catch&nbsp;limits.&nbsp;</span></td></tr>\n",
       "            <tr><td style=\"word-wrap: break-word\" class=\"diff_next\"></td><td style=\"word-wrap: break-word\" class=\"diff_header\"></td><td style=\"word-wrap: break-word\" ></td><td style=\"word-wrap: break-word\" class=\"diff_next\"></td><td style=\"word-wrap: break-word\" class=\"diff_header\" id=\"to12_12\">12</td><td style=\"word-wrap: break-word\" ><span class=\"diff_add\">&nbsp;</span></td></tr>\n",
       "            <tr><td style=\"word-wrap: break-word\" class=\"diff_next\"></td><td style=\"word-wrap: break-word\" class=\"diff_header\"></td><td style=\"word-wrap: break-word\" ></td><td style=\"word-wrap: break-word\" class=\"diff_next\"></td><td style=\"word-wrap: break-word\" class=\"diff_header\" id=\"to12_13\">13</td><td style=\"word-wrap: break-word\" ><span class=\"diff_add\">Similarly,&nbsp;to&nbsp;minimise&nbsp;labor&nbsp;costs,&nbsp;some&nbsp;unscrupulous&nbsp;vessel&nbsp;owners&nbsp;rely&nbsp;on&nbsp;human&nbsp;traffickers,&nbsp;or&nbsp;themselves&nbsp;even&nbsp;routinely&nbsp;crew&nbsp;by&nbsp;kidnapping&nbsp;or&nbsp;drugging&nbsp;workers&nbsp;to&nbsp;get&nbsp;them&nbsp;on&nbsp;the&nbsp;ship&nbsp;and&nbsp;so&nbsp;cut&nbsp;off&nbsp;from&nbsp;help:&nbsp;overworked&nbsp;with&nbsp;brutal&nbsp;disregard&nbsp;and&nbsp;paid&nbsp;a&nbsp;pittance&nbsp;for&nbsp;their&nbsp;service.</span></td></tr>\n",
       "            <tr><td style=\"word-wrap: break-word\" class=\"diff_next\"></td><td style=\"word-wrap: break-word\" class=\"diff_header\"></td><td style=\"word-wrap: break-word\" ></td><td style=\"word-wrap: break-word\" class=\"diff_next\"></td><td style=\"word-wrap: break-word\" class=\"diff_header\" id=\"to12_14\">14</td><td style=\"word-wrap: break-word\" ><span class=\"diff_add\">&nbsp;</span></td></tr>\n",
       "            <tr><td style=\"word-wrap: break-word\" class=\"diff_next\"></td><td style=\"word-wrap: break-word\" class=\"diff_header\"></td><td style=\"word-wrap: break-word\" ></td><td style=\"word-wrap: break-word\" class=\"diff_next\"></td><td style=\"word-wrap: break-word\" class=\"diff_header\" id=\"to12_15\">15</td><td style=\"word-wrap: break-word\" ><span class=\"diff_add\">Similarly,&nbsp;the&nbsp;overseas&nbsp;seafood&nbsp;processing&nbsp;industry&nbsp;is&nbsp;heavily&nbsp;reliant&nbsp;on&nbsp;forced&nbsp;labor.&nbsp;&nbsp;</span></td></tr>\n",
       "            <tr><td style=\"word-wrap: break-word\" class=\"diff_next\"></td><td style=\"word-wrap: break-word\" class=\"diff_header\"></td><td style=\"word-wrap: break-word\" ></td><td style=\"word-wrap: break-word\" class=\"diff_next\"></td><td style=\"word-wrap: break-word\" class=\"diff_header\" id=\"to12_16\">16</td><td style=\"word-wrap: break-word\" ><span class=\"diff_add\">&nbsp;</span></td></tr>\n",
       "            <tr><td style=\"word-wrap: break-word\" class=\"diff_next\"></td><td style=\"word-wrap: break-word\" class=\"diff_header\"></td><td style=\"word-wrap: break-word\" ></td><td style=\"word-wrap: break-word\" class=\"diff_next\"></td><td style=\"word-wrap: break-word\" class=\"diff_header\" id=\"to12_17\">17</td><td style=\"word-wrap: break-word\" ><span class=\"diff_add\">The&nbsp;U.S.&nbsp;is&nbsp;one&nbsp;of&nbsp;the&nbsp;largest&nbsp;consumers&nbsp;of&nbsp;seafood.&nbsp;Approximately&nbsp;eighty&nbsp;percent&nbsp;of&nbsp;the&nbsp;seafood&nbsp;sold&nbsp;in&nbsp;the&nbsp;U.S.&nbsp;is&nbsp;imported.</span></td></tr>\n",
       "            <tr><td style=\"word-wrap: break-word\" class=\"diff_next\"></td><td style=\"word-wrap: break-word\" class=\"diff_header\"></td><td style=\"word-wrap: break-word\" ></td><td style=\"word-wrap: break-word\" class=\"diff_next\"></td><td style=\"word-wrap: break-word\" class=\"diff_header\" id=\"to12_18\">18</td><td style=\"word-wrap: break-word\" ><span class=\"diff_add\">&nbsp;</span></td></tr>\n",
       "            <tr><td style=\"word-wrap: break-word\" class=\"diff_next\"></td><td style=\"word-wrap: break-word\" class=\"diff_header\"></td><td style=\"word-wrap: break-word\" ></td><td style=\"word-wrap: break-word\" class=\"diff_next\"></td><td style=\"word-wrap: break-word\" class=\"diff_header\" id=\"to12_19\">19</td><td style=\"word-wrap: break-word\" ><span class=\"diff_add\">Appallingly,&nbsp;as&nbsp;much&nbsp;as&nbsp;a&nbsp;third&nbsp;of&nbsp;the&nbsp;wild-caught&nbsp;seafood&nbsp;sold&nbsp;in&nbsp;the&nbsp;United&nbsp;States&nbsp;each&nbsp;year&nbsp;is&nbsp;illegal&nbsp;or&nbsp;unreported.&nbsp;&nbsp;</span></td></tr>\n",
       "            <tr><td style=\"word-wrap: break-word\" class=\"diff_next\"></td><td style=\"word-wrap: break-word\" class=\"diff_header\"></td><td style=\"word-wrap: break-word\" ></td><td style=\"word-wrap: break-word\" class=\"diff_next\"></td><td style=\"word-wrap: break-word\" class=\"diff_header\" id=\"to12_20\">20</td><td style=\"word-wrap: break-word\" ><span class=\"diff_add\">&nbsp;</span></td></tr>\n",
       "            <tr><td style=\"word-wrap: break-word\" class=\"diff_next\"></td><td style=\"word-wrap: break-word\" class=\"diff_header\"></td><td style=\"word-wrap: break-word\" ></td><td style=\"word-wrap: break-word\" class=\"diff_next\"></td><td style=\"word-wrap: break-word\" class=\"diff_header\" id=\"to12_21\">21</td><td style=\"word-wrap: break-word\" ><span class=\"diff_add\">The&nbsp;U.S.&nbsp;government&nbsp;has&nbsp;a&nbsp;responsibility&nbsp;to&nbsp;fix&nbsp;these&nbsp;problems,&nbsp;and&nbsp;seafood&nbsp;traceability&nbsp;is&nbsp;an&nbsp;essential&nbsp;step&nbsp;in&nbsp;the&nbsp;fight&nbsp;to&nbsp;end&nbsp;illegal&nbsp;fishing&nbsp;and&nbsp;human&nbsp;rights&nbsp;abuses&nbsp;in&nbsp;the&nbsp;seafood&nbsp;industry.&nbsp;</span></td></tr>\n",
       "            <tr><td style=\"word-wrap: break-word\" class=\"diff_next\"></td><td style=\"word-wrap: break-word\" class=\"diff_header\"></td><td style=\"word-wrap: break-word\" ></td><td style=\"word-wrap: break-word\" class=\"diff_next\"></td><td style=\"word-wrap: break-word\" class=\"diff_header\" id=\"to12_22\">22</td><td style=\"word-wrap: break-word\" ><span class=\"diff_add\">&nbsp;</span></td></tr>\n",
       "            <tr><td style=\"word-wrap: break-word\" class=\"diff_next\"></td><td style=\"word-wrap: break-word\" class=\"diff_header\"></td><td style=\"word-wrap: break-word\" ></td><td style=\"word-wrap: break-word\" class=\"diff_next\"></td><td style=\"word-wrap: break-word\" class=\"diff_header\" id=\"to12_23\">23</td><td style=\"word-wrap: break-word\" ><span class=\"diff_add\">It&nbsp;is&nbsp;therefore&nbsp;disappointing,&nbsp;to&nbsp;say&nbsp;the&nbsp;least,&nbsp;that&nbsp;under&nbsp;NOAA&nbsp;Fisheries’&nbsp;proposed&nbsp;rule,&nbsp;traceability&nbsp;requirements&nbsp;would&nbsp;apply&nbsp;to&nbsp;only&nbsp;half&nbsp;of&nbsp;seafood&nbsp;imports,&nbsp;leaving&nbsp;massive&nbsp;loopholes&nbsp;that&nbsp;are&nbsp;easy&nbsp;for&nbsp;the&nbsp;unscrupulous&nbsp;and&nbsp;the&nbsp;downright&nbsp;criminous&nbsp;to&nbsp;exploit.&nbsp;</span></td></tr>\n",
       "            <tr><td style=\"word-wrap: break-word\" class=\"diff_next\"></td><td style=\"word-wrap: break-word\" class=\"diff_header\"></td><td style=\"word-wrap: break-word\" ></td><td style=\"word-wrap: break-word\" class=\"diff_next\"></td><td style=\"word-wrap: break-word\" class=\"diff_header\" id=\"to12_24\">24</td><td style=\"word-wrap: break-word\" ><span class=\"diff_add\">&nbsp;</span></td></tr>\n",
       "            <tr><td style=\"word-wrap: break-word\" class=\"diff_next\"></td><td style=\"word-wrap: break-word\" class=\"diff_header\"></td><td style=\"word-wrap: break-word\" ></td><td style=\"word-wrap: break-word\" class=\"diff_next\"></td><td style=\"word-wrap: break-word\" class=\"diff_header\" id=\"to12_25\">25</td><td style=\"word-wrap: break-word\" ><span class=\"diff_add\">The&nbsp;proposed&nbsp;rule&nbsp;is&nbsp;also&nbsp;inadequate&nbsp;top&nbsp;effectively&nbsp;address&nbsp;labor&nbsp;abuses&nbsp;in&nbsp;seafood&nbsp;supply&nbsp;chains,&nbsp;and&nbsp;it&nbsp;includes&nbsp;no&nbsp;commitment&nbsp;to&nbsp;improve&nbsp;enforcement&nbsp;of&nbsp;traceability&nbsp;requirements.&nbsp;</span></td></tr>\n",
       "            <tr><td style=\"word-wrap: break-word\" class=\"diff_next\"></td><td style=\"word-wrap: break-word\" class=\"diff_header\"></td><td style=\"word-wrap: break-word\" ></td><td style=\"word-wrap: break-word\" class=\"diff_next\"></td><td style=\"word-wrap: break-word\" class=\"diff_header\" id=\"to12_26\">26</td><td style=\"word-wrap: break-word\" ><span class=\"diff_add\">&nbsp;</span></td></tr>\n",
       "            <tr><td style=\"word-wrap: break-word\" class=\"diff_next\"></td><td style=\"word-wrap: break-word\" class=\"diff_header\"></td><td style=\"word-wrap: break-word\" ></td><td style=\"word-wrap: break-word\" class=\"diff_next\"></td><td style=\"word-wrap: break-word\" class=\"diff_header\" id=\"to12_27\">27</td><td style=\"word-wrap: break-word\" ><span class=\"diff_add\">I&nbsp;urge&nbsp;you&nbsp;to&nbsp;reconsider&nbsp;and&nbsp;revise&nbsp;the&nbsp;Seafood&nbsp;Import&nbsp;Monitoring&nbsp;Program&nbsp;proposed&nbsp;rule&nbsp;to&nbsp;adopt&nbsp;the&nbsp;strongest&nbsp;possible&nbsp;standards&nbsp;for&nbsp;seafood&nbsp;traceability;&nbsp;measures&nbsp;which&nbsp;are&nbsp;essential&nbsp;to&nbsp;turn&nbsp;off&nbsp;the&nbsp;flow&nbsp;of&nbsp;illegal&nbsp;seafood&nbsp;into&nbsp;the&nbsp;U.S.&nbsp;-&nbsp;and&nbsp;to&nbsp;enable&nbsp;consumers&nbsp;to&nbsp;feel&nbsp;confident&nbsp;the&nbsp;seafood&nbsp;they&nbsp;buy&nbsp;is&nbsp;legally&nbsp;caught&nbsp;and&nbsp;not&nbsp;a&nbsp;product&nbsp;of&nbsp;labor&nbsp;abuses.&nbsp;</span></td></tr>\n",
       "            <tr><td style=\"word-wrap: break-word\" class=\"diff_next\"></td><td style=\"word-wrap: break-word\" class=\"diff_header\"></td><td style=\"word-wrap: break-word\" ></td><td style=\"word-wrap: break-word\" class=\"diff_next\"></td><td style=\"word-wrap: break-word\" class=\"diff_header\" id=\"to12_28\">28</td><td style=\"word-wrap: break-word\" ><span class=\"diff_add\">&nbsp;</span></td></tr>\n",
       "            <tr><td style=\"word-wrap: break-word\" class=\"diff_next\"></td><td style=\"word-wrap: break-word\" class=\"diff_header\"></td><td style=\"word-wrap: break-word\" ></td><td style=\"word-wrap: break-word\" class=\"diff_next\"></td><td style=\"word-wrap: break-word\" class=\"diff_header\" id=\"to12_29\">29</td><td style=\"word-wrap: break-word\" ><span class=\"diff_add\">Thank&nbsp;you&nbsp;for&nbsp;your&nbsp;time,&nbsp;consideration&nbsp;–&nbsp;and&nbsp;appropriately&nbsp;effective&nbsp;action.</span></td></tr>\n",
       "        </tbody>\n",
       "    </table>\n",
       "    <table style=\"table-layout: fixed; width: 100%\" class=\"diff\" summary=\"Legends\">\n",
       "        <tr> <th colspan=\"2\"> Legends </th> </tr>\n",
       "        <tr> <td style=\"word-wrap: break-word\"> <table style=\"table-layout: fixed; width: 100%\" border=\"\" summary=\"Colors\">\n",
       "                      <tr><th> Colors </th> </tr>\n",
       "                      <tr><td style=\"word-wrap: break-word\" class=\"diff_add\">&nbsp;Added&nbsp;</td></tr>\n",
       "                      <tr><td style=\"word-wrap: break-word\" class=\"diff_chg\">Changed</td> </tr>\n",
       "                      <tr><td style=\"word-wrap: break-word\" class=\"diff_sub\">Deleted</td> </tr>\n",
       "                  </table></td>\n",
       "             <td style=\"word-wrap: break-word\"> <table style=\"table-layout: fixed; width: 100%\" border=\"\" summary=\"Links\">\n",
       "                      <tr><th colspan=\"2\"> Links </th> </tr>\n",
       "                      <tr><td style=\"word-wrap: break-word\">(f)irst change</td> </tr>\n",
       "                      <tr><td style=\"word-wrap: break-word\">(n)ext change</td> </tr>\n",
       "                      <tr><td style=\"word-wrap: break-word\">(t)op</td> </tr>\n",
       "                  </table></td> </tr>\n",
       "    </table>\n",
       "</body>\n",
       "\n",
       "</html>"
      ],
      "text/plain": [
       "<IPython.core.display.HTML object>"
      ]
     },
     "metadata": {},
     "output_type": "display_data"
    },
    {
     "data": {
      "text/html": [
       "\n",
       "<!DOCTYPE html PUBLIC \"-//W3C//DTD XHTML 1.0 Transitional//EN\"\n",
       "          \"http://www.w3.org/TR/xhtml1/DTD/xhtml1-transitional.dtd\">\n",
       "\n",
       "<html>\n",
       "\n",
       "<head>\n",
       "    <meta http-equiv=\"Content-Type\"\n",
       "          content=\"text/html; charset=utf-8\" />\n",
       "    <title></title>\n",
       "    <style type=\"text/css\">\n",
       "        table.diff {font-family:Courier; border:medium;}\n",
       "        .diff_header {background-color:#e0e0e0}\n",
       "        td.diff_header {text-align:right; width:1%}\n",
       "        .diff_next {background-color:#c0c0c0; width:1%}\n",
       "        .diff_add {background-color:#aaffaa}\n",
       "        .diff_chg {background-color:#ffff77}\n",
       "        .diff_sub {background-color:#ffaaaa}\n",
       "    </style>\n",
       "</head>\n",
       "\n",
       "<body>\n",
       "    \n",
       "    <table style=\"table-layout: fixed; width: 100%\" class=\"diff\" id=\"difflib_chg_to13__top\"\n",
       "           cellspacing=\"0\" cellpadding=\"0\" rules=\"groups\" >\n",
       "        <colgroup></colgroup> <colgroup></colgroup> <colgroup></colgroup>\n",
       "        <colgroup></colgroup> <colgroup></colgroup> <colgroup></colgroup>\n",
       "        \n",
       "        <tbody>\n",
       "            <tr><td style=\"word-wrap: break-word\" class=\"diff_next\" id=\"difflib_chg_to13__1\"><a href=\"#difflib_chg_to13__0\">f</a></td><td style=\"word-wrap: break-word\" class=\"diff_header\" id=\"from13_1\">1</td><td style=\"word-wrap: break-word\" >Dear&nbsp;NOAA&nbsp;Administrator&nbsp;Spinrad&nbsp;and&nbsp;NOAA&nbsp;Fisheries&nbsp;Assistant&nbsp;Administrator&nbsp;Coit:</td><td style=\"word-wrap: break-word\" class=\"diff_next\"><a href=\"#difflib_chg_to13__0\">f</a></td><td style=\"word-wrap: break-word\" class=\"diff_header\" id=\"to13_1\">1</td><td style=\"word-wrap: break-word\" >Dear&nbsp;NOAA&nbsp;Administrator&nbsp;Spinrad&nbsp;and&nbsp;NOAA&nbsp;Fisheries&nbsp;Assistant&nbsp;Administrator&nbsp;Coit:</td></tr>\n",
       "            <tr><td style=\"word-wrap: break-word\" class=\"diff_next\" id=\"difflib_chg_to13__2\"></td><td style=\"word-wrap: break-word\" class=\"diff_header\" id=\"from13_2\">2</td><td style=\"word-wrap: break-word\" ></td><td style=\"word-wrap: break-word\" class=\"diff_next\"></td><td style=\"word-wrap: break-word\" class=\"diff_header\" id=\"to13_2\">2</td><td style=\"word-wrap: break-word\" ></td></tr>\n",
       "            <tr><td style=\"word-wrap: break-word\" class=\"diff_next\"><a href=\"#difflib_chg_to13__1\">n</a></td><td style=\"word-wrap: break-word\" class=\"diff_header\" id=\"from13_3\">3</td><td style=\"word-wrap: break-word\" ><span class=\"diff_sub\">The&nbsp;United&nbsp;States&nbsp;needs&nbsp;an&nbsp;effective&nbsp;seafood&nbsp;traceability&nbsp;program&nbsp;to&nbsp;intercept&nbsp;the&nbsp;flow&nbsp;of&nbsp;illegal&nbsp;seafood&nbsp;into&nbsp;our&nbsp;markets.&nbsp;Illegal&nbsp;fishing&nbsp;is&nbsp;a&nbsp;top&nbsp;driver&nbsp;of&nbsp;unsustainable&nbsp;and&nbsp;environmentally&nbsp;harmful&nbsp;fishing&nbsp;practices&nbsp;around&nbsp;the&nbsp;globe,&nbsp;as&nbsp;well&nbsp;as&nbsp;associated&nbsp;human&nbsp;rights&nbsp;abuses&nbsp;in&nbsp;the&nbsp;seafood&nbsp;sector.&nbsp;The&nbsp;newly&nbsp;proposed&nbsp;changes&nbsp;to&nbsp;the&nbsp;Seafood&nbsp;Import&nbsp;Monitoring&nbsp;Program&nbsp;do&nbsp;not&nbsp;go&nbsp;far&nbsp;enough&nbsp;to&nbsp;help&nbsp;end&nbsp;the&nbsp;U.S.'s&nbsp;role&nbsp;in&nbsp;perpetuating&nbsp;human&nbsp;rights&nbsp;abuses&nbsp;and&nbsp;environmental&nbsp;destruction&nbsp;in&nbsp;the&nbsp;seafood&nbsp;industry.&nbsp;</span></td><td style=\"word-wrap: break-word\" class=\"diff_next\"><a href=\"#difflib_chg_to13__1\">n</a></td><td style=\"word-wrap: break-word\" class=\"diff_header\" id=\"to13_3\">3</td><td style=\"word-wrap: break-word\" ><span class=\"diff_add\">The&nbsp;United&nbsp;States&nbsp;urgently&nbsp;&nbsp;needs&nbsp;an&nbsp;effective&nbsp;seafood&nbsp;traceability&nbsp;program&nbsp;to&nbsp;end&nbsp;the&nbsp;flow&nbsp;of&nbsp;illegal&nbsp;seafood&nbsp;into&nbsp;our&nbsp;markets.&nbsp;</span></td></tr>\n",
       "            <tr><td style=\"word-wrap: break-word\" class=\"diff_next\" id=\"difflib_chg_to13__3\"></td><td style=\"word-wrap: break-word\" class=\"diff_header\" id=\"from13_4\">4</td><td style=\"word-wrap: break-word\" ></td><td style=\"word-wrap: break-word\" class=\"diff_next\"></td><td style=\"word-wrap: break-word\" class=\"diff_header\" id=\"to13_4\">4</td><td style=\"word-wrap: break-word\" ></td></tr>\n",
       "            <tr><td style=\"word-wrap: break-word\" class=\"diff_next\"><a href=\"#difflib_chg_to13__2\">n</a></td><td style=\"word-wrap: break-word\" class=\"diff_header\" id=\"from13_5\">5</td><td style=\"word-wrap: break-word\" ><span class=\"diff_sub\">Illegal&nbsp;fishing&nbsp;is&nbsp;destroying&nbsp;our&nbsp;oceans.&nbsp;Years&nbsp;of&nbsp;overfishing&nbsp;in&nbsp;nearshore&nbsp;waters&nbsp;have&nbsp;forced&nbsp;boats&nbsp;to&nbsp;go&nbsp;into&nbsp;deeper&nbsp;waters,&nbsp;which&nbsp;makes&nbsp;fishing&nbsp;more&nbsp;expensive.&nbsp;Some&nbsp;fishers&nbsp;will&nbsp;cut&nbsp;costs&nbsp;by&nbsp;fishing&nbsp;with&nbsp;illegal&nbsp;gear,&nbsp;fishing&nbsp;in&nbsp;protected&nbsp;areas,&nbsp;or&nbsp;ignoring&nbsp;catch&nbsp;limits.&nbsp;To&nbsp;save&nbsp;on&nbsp;labor&nbsp;costs,&nbsp;some&nbsp;vessel&nbsp;owners&nbsp;rely&nbsp;on&nbsp;human&nbsp;traffickers,&nbsp;some&nbsp;even&nbsp;kidnapping&nbsp;or&nbsp;drugging&nbsp;workers&nbsp;to&nbsp;get&nbsp;them&nbsp;on&nbsp;the&nbsp;ship&nbsp;and&nbsp;cut&nbsp;off&nbsp;from&nbsp;help.&nbsp;Further,&nbsp;the&nbsp;overseas&nbsp;seafood&nbsp;processing&nbsp;industry&nbsp;is&nbsp;heavily&nbsp;reliant&nbsp;on&nbsp;forced&nbsp;labor.&nbsp;&nbsp;</span></td><td style=\"word-wrap: break-word\" class=\"diff_next\"><a href=\"#difflib_chg_to13__2\">n</a></td><td style=\"word-wrap: break-word\" class=\"diff_header\" id=\"to13_5\">5</td><td style=\"word-wrap: break-word\" ><span class=\"diff_add\">Illegal&nbsp;fishing&nbsp;is&nbsp;a&nbsp;primary&nbsp;malefactor&nbsp;and&nbsp;protagonist&nbsp;of&nbsp;unsustainable&nbsp;and&nbsp;environmentally&nbsp;harmful&nbsp;fishing&nbsp;practices&nbsp;around&nbsp;the&nbsp;globe,&nbsp;as&nbsp;well&nbsp;as&nbsp;associated&nbsp;and&nbsp;unconscionable&nbsp;human&nbsp;rights&nbsp;abuses&nbsp;in&nbsp;the&nbsp;seafood&nbsp;sector.&nbsp;</span></td></tr>\n",
       "            <tr><td style=\"word-wrap: break-word\" class=\"diff_next\" id=\"difflib_chg_to13__4\"></td><td style=\"word-wrap: break-word\" class=\"diff_header\" id=\"from13_6\">6</td><td style=\"word-wrap: break-word\" ></td><td style=\"word-wrap: break-word\" class=\"diff_next\"></td><td style=\"word-wrap: break-word\" class=\"diff_header\" id=\"to13_6\">6</td><td style=\"word-wrap: break-word\" ></td></tr>\n",
       "            <tr><td style=\"word-wrap: break-word\" class=\"diff_next\"><a href=\"#difflib_chg_to13__3\">n</a></td><td style=\"word-wrap: break-word\" class=\"diff_header\" id=\"from13_7\">7</td><td style=\"word-wrap: break-word\" ><span class=\"diff_sub\">The&nbsp;U.S.&nbsp;is&nbsp;one&nbsp;of&nbsp;the&nbsp;largest&nbsp;consumers&nbsp;of&nbsp;seafood.&nbsp;Approximately&nbsp;eighty&nbsp;percent&nbsp;of&nbsp;the&nbsp;seafood&nbsp;sold&nbsp;in&nbsp;the&nbsp;U.S.&nbsp;is&nbsp;imported,&nbsp;and&nbsp;as&nbsp;much&nbsp;as&nbsp;a&nbsp;third&nbsp;of&nbsp;the&nbsp;wild-caught&nbsp;seafood&nbsp;sold&nbsp;in&nbsp;the&nbsp;United&nbsp;States&nbsp;each&nbsp;year&nbsp;is&nbsp;illegal&nbsp;or&nbsp;unreported.&nbsp;&nbsp;</span></td><td style=\"word-wrap: break-word\" class=\"diff_next\"><a href=\"#difflib_chg_to13__3\">n</a></td><td style=\"word-wrap: break-word\" class=\"diff_header\" id=\"to13_7\">7</td><td style=\"word-wrap: break-word\" ><span class=\"diff_add\">The&nbsp;newly&nbsp;proposed&nbsp;changes&nbsp;to&nbsp;the&nbsp;Seafood&nbsp;Import&nbsp;Monitoring&nbsp;Program&nbsp;do&nbsp;not&nbsp;go&nbsp;far&nbsp;enough&nbsp;to&nbsp;help&nbsp;end&nbsp;the&nbsp;U.S.'s&nbsp;acquiesce&nbsp;with,&nbsp;tolerance&nbsp;of&nbsp;–&nbsp;and&nbsp;thus&nbsp;complicity&nbsp;with&nbsp;–&nbsp;the&nbsp;perpetuation&nbsp;of&nbsp;human&nbsp;rights&nbsp;abuses&nbsp;and&nbsp;environmental&nbsp;destruction&nbsp;in&nbsp;the&nbsp;seafood&nbsp;industry.&nbsp;</span></td></tr>\n",
       "            <tr><td style=\"word-wrap: break-word\" class=\"diff_next\"></td><td style=\"word-wrap: break-word\" class=\"diff_header\" id=\"from13_8\">8</td><td style=\"word-wrap: break-word\" ></td><td style=\"word-wrap: break-word\" class=\"diff_next\"></td><td style=\"word-wrap: break-word\" class=\"diff_header\" id=\"to13_8\">8</td><td style=\"word-wrap: break-word\" ></td></tr>\n",
       "            <tr><td style=\"word-wrap: break-word\" class=\"diff_next\"><a href=\"#difflib_chg_to13__4\">n</a></td><td style=\"word-wrap: break-word\" class=\"diff_header\" id=\"from13_9\">9</td><td style=\"word-wrap: break-word\" ><span class=\"diff_sub\">The&nbsp;U.S.&nbsp;government&nbsp;has&nbsp;a&nbsp;responsibility&nbsp;to&nbsp;fix&nbsp;these&nbsp;problems,&nbsp;and&nbsp;seafood&nbsp;traceability&nbsp;is&nbsp;an&nbsp;essential&nbsp;step&nbsp;in&nbsp;the&nbsp;fight&nbsp;to&nbsp;end&nbsp;illegal&nbsp;fishing&nbsp;and&nbsp;human&nbsp;rights&nbsp;abuses&nbsp;in&nbsp;the&nbsp;seafood&nbsp;industry.&nbsp;But&nbsp;under&nbsp;NOAA&nbsp;Fisheries’&nbsp;proposed&nbsp;rule,&nbsp;traceability&nbsp;requirements&nbsp;would&nbsp;apply&nbsp;to&nbsp;only&nbsp;half&nbsp;of&nbsp;seafood&nbsp;imports,&nbsp;leaving&nbsp;massive&nbsp;loopholes&nbsp;that&nbsp;are&nbsp;easy&nbsp;for&nbsp;bad&nbsp;actors&nbsp;to&nbsp;exploit.&nbsp;The&nbsp;proposed&nbsp;rule&nbsp;also&nbsp;fails&nbsp;to&nbsp;sufficiently&nbsp;address&nbsp;labor&nbsp;abuses&nbsp;in&nbsp;seafood&nbsp;supply&nbsp;chains,&nbsp;and&nbsp;it&nbsp;includes&nbsp;no&nbsp;commitment&nbsp;to&nbsp;improve&nbsp;enforcement&nbsp;of&nbsp;traceability&nbsp;requirements.&nbsp;</span></td><td style=\"word-wrap: break-word\" class=\"diff_next\"><a href=\"#difflib_chg_to13__4\">n</a></td><td style=\"word-wrap: break-word\" class=\"diff_header\" id=\"to13_9\">9</td><td style=\"word-wrap: break-word\" ><span class=\"diff_add\">Illegal&nbsp;fishing&nbsp;is&nbsp;degrading&nbsp;and&nbsp;progressively&nbsp;destroying&nbsp;all&nbsp;the&nbsp;world’s&nbsp;oceans.&nbsp;</span></td></tr>\n",
       "            <tr><td style=\"word-wrap: break-word\" class=\"diff_next\"></td><td style=\"word-wrap: break-word\" class=\"diff_header\" id=\"from13_10\">10</td><td style=\"word-wrap: break-word\" ></td><td style=\"word-wrap: break-word\" class=\"diff_next\"></td><td style=\"word-wrap: break-word\" class=\"diff_header\" id=\"to13_10\">10</td><td style=\"word-wrap: break-word\" ></td></tr>\n",
       "            <tr><td style=\"word-wrap: break-word\" class=\"diff_next\"><a href=\"#difflib_chg_to13__top\">t</a></td><td style=\"word-wrap: break-word\" class=\"diff_header\" id=\"from13_11\">11</td><td style=\"word-wrap: break-word\" ><span class=\"diff_sub\">Please&nbsp;revise&nbsp;the&nbsp;Seafood&nbsp;Import&nbsp;Monitoring&nbsp;Program&nbsp;proposed&nbsp;rule&nbsp;to&nbsp;adopt&nbsp;the&nbsp;strongest&nbsp;possible&nbsp;standards&nbsp;for&nbsp;seafood&nbsp;traceability&nbsp;to&nbsp;intercept&nbsp;the&nbsp;flow&nbsp;of&nbsp;illegal&nbsp;seafood&nbsp;into&nbsp;the&nbsp;U.S.&nbsp;and&nbsp;help&nbsp;consumers&nbsp;feel&nbsp;confident&nbsp;the&nbsp;seafood&nbsp;they&nbsp;buy&nbsp;is&nbsp;legally&nbsp;caught&nbsp;and&nbsp;not&nbsp;a&nbsp;product&nbsp;of&nbsp;labor&nbsp;abuses.&nbsp;Thank&nbsp;you&nbsp;for&nbsp;helping&nbsp;to&nbsp;address&nbsp;these&nbsp;environmental&nbsp;and&nbsp;human&nbsp;rights&nbsp;crimes&nbsp;with&nbsp;the&nbsp;seriousness&nbsp;they&nbsp;deserve.</span></td><td style=\"word-wrap: break-word\" class=\"diff_next\"><a href=\"#difflib_chg_to13__top\">t</a></td><td style=\"word-wrap: break-word\" class=\"diff_header\" id=\"to13_11\">11</td><td style=\"word-wrap: break-word\" ><span class=\"diff_add\">Years&nbsp;of&nbsp;overfishing&nbsp;in&nbsp;nearshore&nbsp;waters&nbsp;have&nbsp;forced&nbsp;boats&nbsp;to&nbsp;go&nbsp;into&nbsp;deeper&nbsp;waters,&nbsp;which&nbsp;makes&nbsp;fishing&nbsp;more&nbsp;expensive.&nbsp;Some&nbsp;fishers&nbsp;will&nbsp;seek&nbsp;to&nbsp;cut&nbsp;operational&nbsp;costs&nbsp;by&nbsp;fishing&nbsp;with&nbsp;illegal&nbsp;gear;&nbsp;fishing&nbsp;in&nbsp;protected&nbsp;areas;&nbsp;or&nbsp;ignoring&nbsp;catch&nbsp;limits.&nbsp;</span></td></tr>\n",
       "            <tr><td style=\"word-wrap: break-word\" class=\"diff_next\"></td><td style=\"word-wrap: break-word\" class=\"diff_header\"></td><td style=\"word-wrap: break-word\" ></td><td style=\"word-wrap: break-word\" class=\"diff_next\"></td><td style=\"word-wrap: break-word\" class=\"diff_header\" id=\"to13_12\">12</td><td style=\"word-wrap: break-word\" ><span class=\"diff_add\">&nbsp;</span></td></tr>\n",
       "            <tr><td style=\"word-wrap: break-word\" class=\"diff_next\"></td><td style=\"word-wrap: break-word\" class=\"diff_header\"></td><td style=\"word-wrap: break-word\" ></td><td style=\"word-wrap: break-word\" class=\"diff_next\"></td><td style=\"word-wrap: break-word\" class=\"diff_header\" id=\"to13_13\">13</td><td style=\"word-wrap: break-word\" ><span class=\"diff_add\">Similarly,&nbsp;to&nbsp;minimise&nbsp;labor&nbsp;costs,&nbsp;some&nbsp;unscrupulous&nbsp;vessel&nbsp;owners&nbsp;rely&nbsp;on&nbsp;human&nbsp;traffickers,&nbsp;or&nbsp;themselves&nbsp;even&nbsp;routinely&nbsp;crew&nbsp;by&nbsp;kidnapping&nbsp;or&nbsp;drugging&nbsp;workers&nbsp;to&nbsp;get&nbsp;them&nbsp;on&nbsp;the&nbsp;ship&nbsp;and&nbsp;so&nbsp;cut&nbsp;off&nbsp;from&nbsp;help:&nbsp;overworked&nbsp;with&nbsp;brutal&nbsp;disregard&nbsp;and&nbsp;paid&nbsp;a&nbsp;pittance&nbsp;for&nbsp;their&nbsp;service.</span></td></tr>\n",
       "            <tr><td style=\"word-wrap: break-word\" class=\"diff_next\"></td><td style=\"word-wrap: break-word\" class=\"diff_header\"></td><td style=\"word-wrap: break-word\" ></td><td style=\"word-wrap: break-word\" class=\"diff_next\"></td><td style=\"word-wrap: break-word\" class=\"diff_header\" id=\"to13_14\">14</td><td style=\"word-wrap: break-word\" ><span class=\"diff_add\">&nbsp;</span></td></tr>\n",
       "            <tr><td style=\"word-wrap: break-word\" class=\"diff_next\"></td><td style=\"word-wrap: break-word\" class=\"diff_header\"></td><td style=\"word-wrap: break-word\" ></td><td style=\"word-wrap: break-word\" class=\"diff_next\"></td><td style=\"word-wrap: break-word\" class=\"diff_header\" id=\"to13_15\">15</td><td style=\"word-wrap: break-word\" ><span class=\"diff_add\">Similarly,&nbsp;the&nbsp;overseas&nbsp;seafood&nbsp;processing&nbsp;industry&nbsp;is&nbsp;heavily&nbsp;reliant&nbsp;on&nbsp;forced&nbsp;labor.&nbsp;&nbsp;</span></td></tr>\n",
       "            <tr><td style=\"word-wrap: break-word\" class=\"diff_next\"></td><td style=\"word-wrap: break-word\" class=\"diff_header\"></td><td style=\"word-wrap: break-word\" ></td><td style=\"word-wrap: break-word\" class=\"diff_next\"></td><td style=\"word-wrap: break-word\" class=\"diff_header\" id=\"to13_16\">16</td><td style=\"word-wrap: break-word\" ><span class=\"diff_add\">&nbsp;</span></td></tr>\n",
       "            <tr><td style=\"word-wrap: break-word\" class=\"diff_next\"></td><td style=\"word-wrap: break-word\" class=\"diff_header\"></td><td style=\"word-wrap: break-word\" ></td><td style=\"word-wrap: break-word\" class=\"diff_next\"></td><td style=\"word-wrap: break-word\" class=\"diff_header\" id=\"to13_17\">17</td><td style=\"word-wrap: break-word\" ><span class=\"diff_add\">The&nbsp;U.S.&nbsp;is&nbsp;one&nbsp;of&nbsp;the&nbsp;largest&nbsp;consumers&nbsp;of&nbsp;seafood.&nbsp;Approximately&nbsp;eighty&nbsp;percent&nbsp;of&nbsp;the&nbsp;seafood&nbsp;sold&nbsp;in&nbsp;the&nbsp;U.S.&nbsp;is&nbsp;imported.</span></td></tr>\n",
       "            <tr><td style=\"word-wrap: break-word\" class=\"diff_next\"></td><td style=\"word-wrap: break-word\" class=\"diff_header\"></td><td style=\"word-wrap: break-word\" ></td><td style=\"word-wrap: break-word\" class=\"diff_next\"></td><td style=\"word-wrap: break-word\" class=\"diff_header\" id=\"to13_18\">18</td><td style=\"word-wrap: break-word\" ><span class=\"diff_add\">&nbsp;</span></td></tr>\n",
       "            <tr><td style=\"word-wrap: break-word\" class=\"diff_next\"></td><td style=\"word-wrap: break-word\" class=\"diff_header\"></td><td style=\"word-wrap: break-word\" ></td><td style=\"word-wrap: break-word\" class=\"diff_next\"></td><td style=\"word-wrap: break-word\" class=\"diff_header\" id=\"to13_19\">19</td><td style=\"word-wrap: break-word\" ><span class=\"diff_add\">Appallingly,&nbsp;as&nbsp;much&nbsp;as&nbsp;a&nbsp;third&nbsp;of&nbsp;the&nbsp;wild-caught&nbsp;seafood&nbsp;sold&nbsp;in&nbsp;the&nbsp;United&nbsp;States&nbsp;each&nbsp;year&nbsp;is&nbsp;illegal&nbsp;or&nbsp;unreported.&nbsp;&nbsp;</span></td></tr>\n",
       "            <tr><td style=\"word-wrap: break-word\" class=\"diff_next\"></td><td style=\"word-wrap: break-word\" class=\"diff_header\"></td><td style=\"word-wrap: break-word\" ></td><td style=\"word-wrap: break-word\" class=\"diff_next\"></td><td style=\"word-wrap: break-word\" class=\"diff_header\" id=\"to13_20\">20</td><td style=\"word-wrap: break-word\" ><span class=\"diff_add\">&nbsp;</span></td></tr>\n",
       "            <tr><td style=\"word-wrap: break-word\" class=\"diff_next\"></td><td style=\"word-wrap: break-word\" class=\"diff_header\"></td><td style=\"word-wrap: break-word\" ></td><td style=\"word-wrap: break-word\" class=\"diff_next\"></td><td style=\"word-wrap: break-word\" class=\"diff_header\" id=\"to13_21\">21</td><td style=\"word-wrap: break-word\" ><span class=\"diff_add\">The&nbsp;U.S.&nbsp;government&nbsp;has&nbsp;a&nbsp;responsibility&nbsp;to&nbsp;fix&nbsp;these&nbsp;problems,&nbsp;and&nbsp;seafood&nbsp;traceability&nbsp;is&nbsp;an&nbsp;essential&nbsp;step&nbsp;in&nbsp;the&nbsp;fight&nbsp;to&nbsp;end&nbsp;illegal&nbsp;fishing&nbsp;and&nbsp;human&nbsp;rights&nbsp;abuses&nbsp;in&nbsp;the&nbsp;seafood&nbsp;industry.&nbsp;</span></td></tr>\n",
       "            <tr><td style=\"word-wrap: break-word\" class=\"diff_next\"></td><td style=\"word-wrap: break-word\" class=\"diff_header\"></td><td style=\"word-wrap: break-word\" ></td><td style=\"word-wrap: break-word\" class=\"diff_next\"></td><td style=\"word-wrap: break-word\" class=\"diff_header\" id=\"to13_22\">22</td><td style=\"word-wrap: break-word\" ><span class=\"diff_add\">&nbsp;</span></td></tr>\n",
       "            <tr><td style=\"word-wrap: break-word\" class=\"diff_next\"></td><td style=\"word-wrap: break-word\" class=\"diff_header\"></td><td style=\"word-wrap: break-word\" ></td><td style=\"word-wrap: break-word\" class=\"diff_next\"></td><td style=\"word-wrap: break-word\" class=\"diff_header\" id=\"to13_23\">23</td><td style=\"word-wrap: break-word\" ><span class=\"diff_add\">It&nbsp;is&nbsp;therefore&nbsp;disappointing,&nbsp;to&nbsp;say&nbsp;the&nbsp;least,&nbsp;that&nbsp;under&nbsp;NOAA&nbsp;Fisheries’&nbsp;proposed&nbsp;rule,&nbsp;traceability&nbsp;requirements&nbsp;would&nbsp;apply&nbsp;to&nbsp;only&nbsp;half&nbsp;of&nbsp;seafood&nbsp;imports,&nbsp;leaving&nbsp;massive&nbsp;loopholes&nbsp;that&nbsp;are&nbsp;easy&nbsp;for&nbsp;the&nbsp;unscrupulous&nbsp;and&nbsp;the&nbsp;downright&nbsp;criminous&nbsp;to&nbsp;exploit.&nbsp;</span></td></tr>\n",
       "            <tr><td style=\"word-wrap: break-word\" class=\"diff_next\"></td><td style=\"word-wrap: break-word\" class=\"diff_header\"></td><td style=\"word-wrap: break-word\" ></td><td style=\"word-wrap: break-word\" class=\"diff_next\"></td><td style=\"word-wrap: break-word\" class=\"diff_header\" id=\"to13_24\">24</td><td style=\"word-wrap: break-word\" ><span class=\"diff_add\">&nbsp;</span></td></tr>\n",
       "            <tr><td style=\"word-wrap: break-word\" class=\"diff_next\"></td><td style=\"word-wrap: break-word\" class=\"diff_header\"></td><td style=\"word-wrap: break-word\" ></td><td style=\"word-wrap: break-word\" class=\"diff_next\"></td><td style=\"word-wrap: break-word\" class=\"diff_header\" id=\"to13_25\">25</td><td style=\"word-wrap: break-word\" ><span class=\"diff_add\">The&nbsp;proposed&nbsp;rule&nbsp;is&nbsp;also&nbsp;inadequate&nbsp;top&nbsp;effectively&nbsp;address&nbsp;labor&nbsp;abuses&nbsp;in&nbsp;seafood&nbsp;supply&nbsp;chains,&nbsp;and&nbsp;it&nbsp;includes&nbsp;no&nbsp;commitment&nbsp;to&nbsp;improve&nbsp;enforcement&nbsp;of&nbsp;traceability&nbsp;requirements.&nbsp;</span></td></tr>\n",
       "            <tr><td style=\"word-wrap: break-word\" class=\"diff_next\"></td><td style=\"word-wrap: break-word\" class=\"diff_header\"></td><td style=\"word-wrap: break-word\" ></td><td style=\"word-wrap: break-word\" class=\"diff_next\"></td><td style=\"word-wrap: break-word\" class=\"diff_header\" id=\"to13_26\">26</td><td style=\"word-wrap: break-word\" ><span class=\"diff_add\">&nbsp;</span></td></tr>\n",
       "            <tr><td style=\"word-wrap: break-word\" class=\"diff_next\"></td><td style=\"word-wrap: break-word\" class=\"diff_header\"></td><td style=\"word-wrap: break-word\" ></td><td style=\"word-wrap: break-word\" class=\"diff_next\"></td><td style=\"word-wrap: break-word\" class=\"diff_header\" id=\"to13_27\">27</td><td style=\"word-wrap: break-word\" ><span class=\"diff_add\">I&nbsp;urge&nbsp;you&nbsp;to&nbsp;reconsider&nbsp;and&nbsp;revise&nbsp;the&nbsp;Seafood&nbsp;Import&nbsp;Monitoring&nbsp;Program&nbsp;proposed&nbsp;rule&nbsp;to&nbsp;adopt&nbsp;the&nbsp;strongest&nbsp;possible&nbsp;standards&nbsp;for&nbsp;seafood&nbsp;traceability;&nbsp;measures&nbsp;which&nbsp;are&nbsp;essential&nbsp;to&nbsp;turn&nbsp;off&nbsp;the&nbsp;flow&nbsp;of&nbsp;illegal&nbsp;seafood&nbsp;into&nbsp;the&nbsp;U.S.&nbsp;-&nbsp;and&nbsp;to&nbsp;enable&nbsp;consumers&nbsp;to&nbsp;feel&nbsp;confident&nbsp;the&nbsp;seafood&nbsp;they&nbsp;buy&nbsp;is&nbsp;legally&nbsp;caught&nbsp;and&nbsp;not&nbsp;a&nbsp;product&nbsp;of&nbsp;labor&nbsp;abuses.&nbsp;</span></td></tr>\n",
       "            <tr><td style=\"word-wrap: break-word\" class=\"diff_next\"></td><td style=\"word-wrap: break-word\" class=\"diff_header\"></td><td style=\"word-wrap: break-word\" ></td><td style=\"word-wrap: break-word\" class=\"diff_next\"></td><td style=\"word-wrap: break-word\" class=\"diff_header\" id=\"to13_28\">28</td><td style=\"word-wrap: break-word\" ><span class=\"diff_add\">&nbsp;</span></td></tr>\n",
       "            <tr><td style=\"word-wrap: break-word\" class=\"diff_next\"></td><td style=\"word-wrap: break-word\" class=\"diff_header\"></td><td style=\"word-wrap: break-word\" ></td><td style=\"word-wrap: break-word\" class=\"diff_next\"></td><td style=\"word-wrap: break-word\" class=\"diff_header\" id=\"to13_29\">29</td><td style=\"word-wrap: break-word\" ><span class=\"diff_add\">Thank&nbsp;you&nbsp;for&nbsp;your&nbsp;time,&nbsp;consideration&nbsp;–&nbsp;and&nbsp;appropriately&nbsp;strong,&nbsp;effective&nbsp;action.</span></td></tr>\n",
       "        </tbody>\n",
       "    </table>\n",
       "    <table style=\"table-layout: fixed; width: 100%\" class=\"diff\" summary=\"Legends\">\n",
       "        <tr> <th colspan=\"2\"> Legends </th> </tr>\n",
       "        <tr> <td style=\"word-wrap: break-word\"> <table style=\"table-layout: fixed; width: 100%\" border=\"\" summary=\"Colors\">\n",
       "                      <tr><th> Colors </th> </tr>\n",
       "                      <tr><td style=\"word-wrap: break-word\" class=\"diff_add\">&nbsp;Added&nbsp;</td></tr>\n",
       "                      <tr><td style=\"word-wrap: break-word\" class=\"diff_chg\">Changed</td> </tr>\n",
       "                      <tr><td style=\"word-wrap: break-word\" class=\"diff_sub\">Deleted</td> </tr>\n",
       "                  </table></td>\n",
       "             <td style=\"word-wrap: break-word\"> <table style=\"table-layout: fixed; width: 100%\" border=\"\" summary=\"Links\">\n",
       "                      <tr><th colspan=\"2\"> Links </th> </tr>\n",
       "                      <tr><td style=\"word-wrap: break-word\">(f)irst change</td> </tr>\n",
       "                      <tr><td style=\"word-wrap: break-word\">(n)ext change</td> </tr>\n",
       "                      <tr><td style=\"word-wrap: break-word\">(t)op</td> </tr>\n",
       "                  </table></td> </tr>\n",
       "    </table>\n",
       "</body>\n",
       "\n",
       "</html>"
      ],
      "text/plain": [
       "<IPython.core.display.HTML object>"
      ]
     },
     "metadata": {},
     "output_type": "display_data"
    },
    {
     "data": {
      "text/html": [
       "\n",
       "<!DOCTYPE html PUBLIC \"-//W3C//DTD XHTML 1.0 Transitional//EN\"\n",
       "          \"http://www.w3.org/TR/xhtml1/DTD/xhtml1-transitional.dtd\">\n",
       "\n",
       "<html>\n",
       "\n",
       "<head>\n",
       "    <meta http-equiv=\"Content-Type\"\n",
       "          content=\"text/html; charset=utf-8\" />\n",
       "    <title></title>\n",
       "    <style type=\"text/css\">\n",
       "        table.diff {font-family:Courier; border:medium;}\n",
       "        .diff_header {background-color:#e0e0e0}\n",
       "        td.diff_header {text-align:right; width:1%}\n",
       "        .diff_next {background-color:#c0c0c0; width:1%}\n",
       "        .diff_add {background-color:#aaffaa}\n",
       "        .diff_chg {background-color:#ffff77}\n",
       "        .diff_sub {background-color:#ffaaaa}\n",
       "    </style>\n",
       "</head>\n",
       "\n",
       "<body>\n",
       "    \n",
       "    <table style=\"table-layout: fixed; width: 100%\" class=\"diff\" id=\"difflib_chg_to14__top\"\n",
       "           cellspacing=\"0\" cellpadding=\"0\" rules=\"groups\" >\n",
       "        <colgroup></colgroup> <colgroup></colgroup> <colgroup></colgroup>\n",
       "        <colgroup></colgroup> <colgroup></colgroup> <colgroup></colgroup>\n",
       "        \n",
       "        <tbody>\n",
       "            <tr><td style=\"word-wrap: break-word\" class=\"diff_next\" id=\"difflib_chg_to14__1\"><a href=\"#difflib_chg_to14__0\">f</a></td><td style=\"word-wrap: break-word\" class=\"diff_header\" id=\"from14_1\">1</td><td style=\"word-wrap: break-word\" >Dear&nbsp;NOAA&nbsp;Administrator&nbsp;Spinrad&nbsp;and&nbsp;NOAA&nbsp;Fisheries&nbsp;Assistant&nbsp;Administrator&nbsp;Coit:</td><td style=\"word-wrap: break-word\" class=\"diff_next\"><a href=\"#difflib_chg_to14__0\">f</a></td><td style=\"word-wrap: break-word\" class=\"diff_header\" id=\"to14_1\">1</td><td style=\"word-wrap: break-word\" >Dear&nbsp;NOAA&nbsp;Administrator&nbsp;Spinrad&nbsp;and&nbsp;NOAA&nbsp;Fisheries&nbsp;Assistant&nbsp;Administrator&nbsp;Coit:</td></tr>\n",
       "            <tr><td style=\"word-wrap: break-word\" class=\"diff_next\" id=\"difflib_chg_to14__2\"></td><td style=\"word-wrap: break-word\" class=\"diff_header\" id=\"from14_2\">2</td><td style=\"word-wrap: break-word\" ></td><td style=\"word-wrap: break-word\" class=\"diff_next\"></td><td style=\"word-wrap: break-word\" class=\"diff_header\" id=\"to14_2\">2</td><td style=\"word-wrap: break-word\" ></td></tr>\n",
       "            <tr><td style=\"word-wrap: break-word\" class=\"diff_next\"><a href=\"#difflib_chg_to14__1\">n</a></td><td style=\"word-wrap: break-word\" class=\"diff_header\" id=\"from14_3\">3</td><td style=\"word-wrap: break-word\" ><span class=\"diff_sub\">The&nbsp;United&nbsp;States&nbsp;needs&nbsp;an&nbsp;effective&nbsp;seafood&nbsp;traceability&nbsp;program&nbsp;to&nbsp;intercept&nbsp;the&nbsp;flow&nbsp;of&nbsp;illegal&nbsp;seafood&nbsp;into&nbsp;our&nbsp;markets.&nbsp;Illegal&nbsp;fishing&nbsp;is&nbsp;a&nbsp;top&nbsp;driver&nbsp;of&nbsp;unsustainable&nbsp;and&nbsp;environmentally&nbsp;harmful&nbsp;fishing&nbsp;practices&nbsp;around&nbsp;the&nbsp;globe,&nbsp;as&nbsp;well&nbsp;as&nbsp;associated&nbsp;human&nbsp;rights&nbsp;abuses&nbsp;in&nbsp;the&nbsp;seafood&nbsp;sector.&nbsp;The&nbsp;newly&nbsp;proposed&nbsp;changes&nbsp;to&nbsp;the&nbsp;Seafood&nbsp;Import&nbsp;Monitoring&nbsp;Program&nbsp;do&nbsp;not&nbsp;go&nbsp;far&nbsp;enough&nbsp;to&nbsp;help&nbsp;end&nbsp;the&nbsp;U.S.'s&nbsp;role&nbsp;in&nbsp;perpetuating&nbsp;human&nbsp;rights&nbsp;abuses&nbsp;and&nbsp;environmental&nbsp;destruction&nbsp;in&nbsp;the&nbsp;seafood&nbsp;industry.&nbsp;</span></td><td style=\"word-wrap: break-word\" class=\"diff_next\"><a href=\"#difflib_chg_to14__1\">n</a></td><td style=\"word-wrap: break-word\" class=\"diff_header\" id=\"to14_3\">3</td><td style=\"word-wrap: break-word\" ><span class=\"diff_add\">In&nbsp;the&nbsp;USA&nbsp;we&nbsp;desperately&nbsp;need&nbsp;an&nbsp;effective&nbsp;seafood&nbsp;traceability&nbsp;program&nbsp;to&nbsp;intercept&nbsp;the&nbsp;flow&nbsp;of&nbsp;illegal&nbsp;seafood&nbsp;into&nbsp;our&nbsp;markets.&nbsp;Illegal&nbsp;fishing&nbsp;is&nbsp;a&nbsp;top&nbsp;driver&nbsp;of&nbsp;unsustainable&nbsp;and&nbsp;environmentally&nbsp;harmful&nbsp;fishing&nbsp;practices&nbsp;around&nbsp;the&nbsp;globe,&nbsp;as&nbsp;well&nbsp;as&nbsp;associated&nbsp;human&nbsp;rights&nbsp;abuses&nbsp;in&nbsp;the&nbsp;seafood&nbsp;sector.&nbsp;The&nbsp;newly&nbsp;proposed&nbsp;changes&nbsp;to&nbsp;the&nbsp;Seafood&nbsp;Import&nbsp;Monitoring&nbsp;Program&nbsp;do&nbsp;not&nbsp;go&nbsp;far&nbsp;enough&nbsp;to&nbsp;help&nbsp;end&nbsp;the&nbsp;U.S.'s&nbsp;role&nbsp;in&nbsp;perpetuating&nbsp;human&nbsp;rights&nbsp;abuses&nbsp;and&nbsp;environmental&nbsp;destruction&nbsp;in&nbsp;the&nbsp;seafood&nbsp;industry.&nbsp;</span></td></tr>\n",
       "            <tr><td style=\"word-wrap: break-word\" class=\"diff_next\" id=\"difflib_chg_to14__3\"></td><td style=\"word-wrap: break-word\" class=\"diff_header\" id=\"from14_4\">4</td><td style=\"word-wrap: break-word\" ></td><td style=\"word-wrap: break-word\" class=\"diff_next\"></td><td style=\"word-wrap: break-word\" class=\"diff_header\" id=\"to14_4\">4</td><td style=\"word-wrap: break-word\" ></td></tr>\n",
       "            <tr><td style=\"word-wrap: break-word\" class=\"diff_next\"><a href=\"#difflib_chg_to14__2\">n</a></td><td style=\"word-wrap: break-word\" class=\"diff_header\" id=\"from14_5\">5</td><td style=\"word-wrap: break-word\" >Illegal&nbsp;fishing&nbsp;is&nbsp;de<span class=\"diff_chg\">stroying&nbsp;our</span>&nbsp;oceans.&nbsp;Years&nbsp;of&nbsp;overfishing&nbsp;in&nbsp;nearshore&nbsp;waters&nbsp;have&nbsp;forced&nbsp;boats&nbsp;to&nbsp;go&nbsp;into&nbsp;deeper&nbsp;waters,&nbsp;which&nbsp;makes&nbsp;fishing&nbsp;more&nbsp;expensive.&nbsp;Some&nbsp;fishers&nbsp;will&nbsp;cut&nbsp;costs&nbsp;by&nbsp;fishing&nbsp;with&nbsp;illegal&nbsp;gear,&nbsp;fishing&nbsp;in&nbsp;protected&nbsp;areas,&nbsp;or&nbsp;ignoring&nbsp;catch&nbsp;limits.&nbsp;To&nbsp;save&nbsp;on&nbsp;labor&nbsp;costs,&nbsp;some&nbsp;vessel&nbsp;owners&nbsp;rely&nbsp;on&nbsp;human&nbsp;traffickers,&nbsp;some&nbsp;even&nbsp;kidnapping&nbsp;or&nbsp;drugging&nbsp;workers&nbsp;to&nbsp;get&nbsp;them&nbsp;on&nbsp;the&nbsp;ship&nbsp;and&nbsp;cut&nbsp;off&nbsp;from&nbsp;help.&nbsp;Further,&nbsp;the&nbsp;overseas&nbsp;seafood&nbsp;processing&nbsp;industry&nbsp;is&nbsp;heavily&nbsp;reliant&nbsp;on&nbsp;forced&nbsp;labor.&nbsp;&nbsp;</td><td style=\"word-wrap: break-word\" class=\"diff_next\"><a href=\"#difflib_chg_to14__2\">n</a></td><td style=\"word-wrap: break-word\" class=\"diff_header\" id=\"to14_5\">5</td><td style=\"word-wrap: break-word\" >Illegal&nbsp;fishing&nbsp;is&nbsp;de<span class=\"diff_chg\">vastating&nbsp;our</span>&nbsp;oceans.&nbsp;Years&nbsp;of&nbsp;overfishing&nbsp;in&nbsp;nearshore&nbsp;waters&nbsp;have&nbsp;forced&nbsp;boats&nbsp;to&nbsp;go&nbsp;into&nbsp;deeper&nbsp;waters,&nbsp;which&nbsp;makes&nbsp;fishing&nbsp;more&nbsp;expensive.&nbsp;Some&nbsp;fishers&nbsp;will&nbsp;cut&nbsp;costs&nbsp;by&nbsp;fishing&nbsp;with&nbsp;illegal&nbsp;gear,&nbsp;fishing&nbsp;in&nbsp;protected&nbsp;areas,&nbsp;or&nbsp;ignoring&nbsp;catch&nbsp;limits.&nbsp;To&nbsp;save&nbsp;on&nbsp;labor&nbsp;costs,&nbsp;some&nbsp;vessel&nbsp;owners&nbsp;rely&nbsp;on&nbsp;human&nbsp;traffickers,&nbsp;some&nbsp;even&nbsp;kidnapping&nbsp;or&nbsp;drugging&nbsp;workers&nbsp;to&nbsp;get&nbsp;them&nbsp;on&nbsp;the&nbsp;ship&nbsp;and&nbsp;cut&nbsp;off&nbsp;from&nbsp;help.&nbsp;Further,&nbsp;the&nbsp;overseas&nbsp;seafood&nbsp;processing&nbsp;industry&nbsp;is&nbsp;heavily&nbsp;reliant&nbsp;on&nbsp;forced&nbsp;labor.&nbsp;&nbsp;</td></tr>\n",
       "            <tr><td style=\"word-wrap: break-word\" class=\"diff_next\" id=\"difflib_chg_to14__4\"></td><td style=\"word-wrap: break-word\" class=\"diff_header\" id=\"from14_6\">6</td><td style=\"word-wrap: break-word\" ></td><td style=\"word-wrap: break-word\" class=\"diff_next\"></td><td style=\"word-wrap: break-word\" class=\"diff_header\" id=\"to14_6\">6</td><td style=\"word-wrap: break-word\" ></td></tr>\n",
       "            <tr><td style=\"word-wrap: break-word\" class=\"diff_next\"><a href=\"#difflib_chg_to14__3\">n</a></td><td style=\"word-wrap: break-word\" class=\"diff_header\" id=\"from14_7\">7</td><td style=\"word-wrap: break-word\" ><span class=\"diff_sub\">The&nbsp;U.S.&nbsp;is&nbsp;one&nbsp;of&nbsp;the&nbsp;largest&nbsp;consumers&nbsp;of&nbsp;seafood.&nbsp;Approximately&nbsp;eighty&nbsp;percent&nbsp;of&nbsp;the&nbsp;seafood&nbsp;sold&nbsp;in&nbsp;the&nbsp;U.S.&nbsp;is&nbsp;imported,&nbsp;and&nbsp;as&nbsp;much&nbsp;as&nbsp;a&nbsp;third&nbsp;of&nbsp;the&nbsp;wild-caught&nbsp;seafood&nbsp;sold&nbsp;in&nbsp;the&nbsp;United&nbsp;States&nbsp;each&nbsp;year&nbsp;is&nbsp;illegal&nbsp;or&nbsp;unreported.&nbsp;&nbsp;</span></td><td style=\"word-wrap: break-word\" class=\"diff_next\"><a href=\"#difflib_chg_to14__3\">n</a></td><td style=\"word-wrap: break-word\" class=\"diff_header\" id=\"to14_7\">7</td><td style=\"word-wrap: break-word\" ><span class=\"diff_add\">The&nbsp;USA&nbsp;is&nbsp;one&nbsp;of&nbsp;the&nbsp;largest&nbsp;consumers&nbsp;of&nbsp;seafood.&nbsp;Approximately&nbsp;80%&nbsp;of&nbsp;the&nbsp;seafood&nbsp;sold&nbsp;in&nbsp;the&nbsp;here&nbsp;is&nbsp;imported,&nbsp;and&nbsp;as&nbsp;much&nbsp;as&nbsp;1/3&nbsp;of&nbsp;the&nbsp;wild-caught&nbsp;seafood&nbsp;sold&nbsp;here&nbsp;each&nbsp;year&nbsp;is&nbsp;illegal&nbsp;or&nbsp;unreported.&nbsp;&nbsp;</span></td></tr>\n",
       "            <tr><td style=\"word-wrap: break-word\" class=\"diff_next\"></td><td style=\"word-wrap: break-word\" class=\"diff_header\" id=\"from14_8\">8</td><td style=\"word-wrap: break-word\" ></td><td style=\"word-wrap: break-word\" class=\"diff_next\"></td><td style=\"word-wrap: break-word\" class=\"diff_header\" id=\"to14_8\">8</td><td style=\"word-wrap: break-word\" ></td></tr>\n",
       "            <tr><td style=\"word-wrap: break-word\" class=\"diff_next\"><a href=\"#difflib_chg_to14__4\">n</a></td><td style=\"word-wrap: break-word\" class=\"diff_header\" id=\"from14_9\">9</td><td style=\"word-wrap: break-word\" ><span class=\"diff_sub\">The&nbsp;U.S.&nbsp;government&nbsp;has&nbsp;a&nbsp;responsibility&nbsp;to&nbsp;fix&nbsp;these&nbsp;problems,&nbsp;and&nbsp;seafood&nbsp;traceability&nbsp;is&nbsp;an&nbsp;essential&nbsp;step&nbsp;in&nbsp;the&nbsp;fight&nbsp;to&nbsp;end&nbsp;illegal&nbsp;fishing&nbsp;and&nbsp;human&nbsp;rights&nbsp;abuses&nbsp;in&nbsp;the&nbsp;seafood&nbsp;industry.&nbsp;But&nbsp;under&nbsp;NOAA&nbsp;Fisheries’&nbsp;proposed&nbsp;rule,&nbsp;traceability&nbsp;requirements&nbsp;would&nbsp;apply&nbsp;to&nbsp;only&nbsp;half&nbsp;of&nbsp;seafood&nbsp;imports,&nbsp;leaving&nbsp;massive&nbsp;loopholes&nbsp;that&nbsp;are&nbsp;easy&nbsp;for&nbsp;bad&nbsp;actors&nbsp;to&nbsp;exploit.&nbsp;The&nbsp;proposed&nbsp;rule&nbsp;also&nbsp;fails&nbsp;to&nbsp;sufficiently&nbsp;address&nbsp;labor&nbsp;abuses&nbsp;in&nbsp;seafood&nbsp;supply&nbsp;chains,&nbsp;and&nbsp;it&nbsp;includes&nbsp;no&nbsp;commitment&nbsp;to&nbsp;improve&nbsp;enforcement&nbsp;of&nbsp;traceability&nbsp;requirements.&nbsp;</span></td><td style=\"word-wrap: break-word\" class=\"diff_next\"><a href=\"#difflib_chg_to14__4\">n</a></td><td style=\"word-wrap: break-word\" class=\"diff_header\" id=\"to14_9\">9</td><td style=\"word-wrap: break-word\" ><span class=\"diff_add\">Our&nbsp;government&nbsp;has&nbsp;a&nbsp;responsibility&nbsp;to&nbsp;fix&nbsp;these&nbsp;problems,&nbsp;and&nbsp;seafood&nbsp;traceability&nbsp;is&nbsp;an&nbsp;essential&nbsp;step&nbsp;in&nbsp;the&nbsp;fight&nbsp;to&nbsp;end&nbsp;illegal&nbsp;fishing&nbsp;and&nbsp;human&nbsp;rights&nbsp;abuses&nbsp;in&nbsp;the&nbsp;seafood&nbsp;industry.&nbsp;But&nbsp;under&nbsp;NOAA&nbsp;Fisheries’&nbsp;proposed&nbsp;rule,&nbsp;traceability&nbsp;requirements&nbsp;would&nbsp;apply&nbsp;to&nbsp;only&nbsp;half&nbsp;of&nbsp;seafood&nbsp;imports,&nbsp;leaving&nbsp;massive&nbsp;loopholes&nbsp;that&nbsp;are&nbsp;easy&nbsp;for&nbsp;bad&nbsp;actors&nbsp;to&nbsp;exploit.&nbsp;The&nbsp;proposed&nbsp;rule&nbsp;also&nbsp;fails&nbsp;to&nbsp;sufficiently&nbsp;address&nbsp;labor&nbsp;abuses&nbsp;in&nbsp;seafood&nbsp;supply&nbsp;chains,&nbsp;and&nbsp;it&nbsp;includes&nbsp;no&nbsp;commitment&nbsp;to&nbsp;improve&nbsp;enforcement&nbsp;of&nbsp;traceability&nbsp;requirements.&nbsp;</span></td></tr>\n",
       "            <tr><td style=\"word-wrap: break-word\" class=\"diff_next\"></td><td style=\"word-wrap: break-word\" class=\"diff_header\" id=\"from14_10\">10</td><td style=\"word-wrap: break-word\" ></td><td style=\"word-wrap: break-word\" class=\"diff_next\"></td><td style=\"word-wrap: break-word\" class=\"diff_header\" id=\"to14_10\">10</td><td style=\"word-wrap: break-word\" ></td></tr>\n",
       "            <tr><td style=\"word-wrap: break-word\" class=\"diff_next\"><a href=\"#difflib_chg_to14__top\">t</a></td><td style=\"word-wrap: break-word\" class=\"diff_header\" id=\"from14_11\">11</td><td style=\"word-wrap: break-word\" >P<span class=\"diff_chg\">lease&nbsp;revise&nbsp;the&nbsp;Seafood&nbsp;Import&nbsp;Monitoring&nbsp;Program&nbsp;proposed&nbsp;rule&nbsp;to&nbsp;adopt&nbsp;the&nbsp;strongest</span>&nbsp;possible&nbsp;standards&nbsp;for&nbsp;seafood&nbsp;traceability&nbsp;to&nbsp;intercept&nbsp;the&nbsp;flow&nbsp;of&nbsp;illegal&nbsp;seafood&nbsp;into&nbsp;the&nbsp;U.S.&nbsp;and&nbsp;help&nbsp;consumers&nbsp;feel&nbsp;confident&nbsp;the&nbsp;seafood&nbsp;they&nbsp;buy&nbsp;is&nbsp;legally&nbsp;caught&nbsp;and&nbsp;not&nbsp;a&nbsp;product&nbsp;of&nbsp;labor&nbsp;abuses.&nbsp;Thank&nbsp;you&nbsp;for&nbsp;helping&nbsp;to&nbsp;address&nbsp;these&nbsp;environmental&nbsp;and&nbsp;human&nbsp;rights&nbsp;crimes&nbsp;with&nbsp;the&nbsp;seriousness&nbsp;they&nbsp;deserve.</td><td style=\"word-wrap: break-word\" class=\"diff_next\"><a href=\"#difflib_chg_to14__top\">t</a></td><td style=\"word-wrap: break-word\" class=\"diff_header\" id=\"to14_11\">11</td><td style=\"word-wrap: break-word\" ><span class=\"diff_add\">I&nbsp;urge&nbsp;you&nbsp;to&nbsp;revise&nbsp;the&nbsp;Seafood&nbsp;Import&nbsp;Monitoring&nbsp;</span>P<span class=\"diff_chg\">rogram&nbsp;proposed&nbsp;rule&nbsp;to&nbsp;adopt&nbsp;the&nbsp;strongest</span>&nbsp;possible&nbsp;standards&nbsp;for&nbsp;seafood&nbsp;traceability&nbsp;to&nbsp;intercept&nbsp;the&nbsp;flow&nbsp;of&nbsp;illegal&nbsp;seafood&nbsp;into&nbsp;the&nbsp;U.S.&nbsp;and&nbsp;help&nbsp;consumers&nbsp;feel&nbsp;confident&nbsp;the&nbsp;seafood&nbsp;they&nbsp;buy&nbsp;is&nbsp;legally&nbsp;caught&nbsp;and&nbsp;not&nbsp;a&nbsp;product&nbsp;of&nbsp;labor&nbsp;abuses.&nbsp;Thank&nbsp;you&nbsp;for&nbsp;helping&nbsp;to&nbsp;address&nbsp;these&nbsp;environmental&nbsp;and&nbsp;human&nbsp;rights&nbsp;crimes&nbsp;with&nbsp;the&nbsp;seriousness&nbsp;they&nbsp;deserve.</td></tr>\n",
       "        </tbody>\n",
       "    </table>\n",
       "    <table style=\"table-layout: fixed; width: 100%\" class=\"diff\" summary=\"Legends\">\n",
       "        <tr> <th colspan=\"2\"> Legends </th> </tr>\n",
       "        <tr> <td style=\"word-wrap: break-word\"> <table style=\"table-layout: fixed; width: 100%\" border=\"\" summary=\"Colors\">\n",
       "                      <tr><th> Colors </th> </tr>\n",
       "                      <tr><td style=\"word-wrap: break-word\" class=\"diff_add\">&nbsp;Added&nbsp;</td></tr>\n",
       "                      <tr><td style=\"word-wrap: break-word\" class=\"diff_chg\">Changed</td> </tr>\n",
       "                      <tr><td style=\"word-wrap: break-word\" class=\"diff_sub\">Deleted</td> </tr>\n",
       "                  </table></td>\n",
       "             <td style=\"word-wrap: break-word\"> <table style=\"table-layout: fixed; width: 100%\" border=\"\" summary=\"Links\">\n",
       "                      <tr><th colspan=\"2\"> Links </th> </tr>\n",
       "                      <tr><td style=\"word-wrap: break-word\">(f)irst change</td> </tr>\n",
       "                      <tr><td style=\"word-wrap: break-word\">(n)ext change</td> </tr>\n",
       "                      <tr><td style=\"word-wrap: break-word\">(t)op</td> </tr>\n",
       "                  </table></td> </tr>\n",
       "    </table>\n",
       "</body>\n",
       "\n",
       "</html>"
      ],
      "text/plain": [
       "<IPython.core.display.HTML object>"
      ]
     },
     "metadata": {},
     "output_type": "display_data"
    },
    {
     "data": {
      "text/html": [
       "\n",
       "<!DOCTYPE html PUBLIC \"-//W3C//DTD XHTML 1.0 Transitional//EN\"\n",
       "          \"http://www.w3.org/TR/xhtml1/DTD/xhtml1-transitional.dtd\">\n",
       "\n",
       "<html>\n",
       "\n",
       "<head>\n",
       "    <meta http-equiv=\"Content-Type\"\n",
       "          content=\"text/html; charset=utf-8\" />\n",
       "    <title></title>\n",
       "    <style type=\"text/css\">\n",
       "        table.diff {font-family:Courier; border:medium;}\n",
       "        .diff_header {background-color:#e0e0e0}\n",
       "        td.diff_header {text-align:right; width:1%}\n",
       "        .diff_next {background-color:#c0c0c0; width:1%}\n",
       "        .diff_add {background-color:#aaffaa}\n",
       "        .diff_chg {background-color:#ffff77}\n",
       "        .diff_sub {background-color:#ffaaaa}\n",
       "    </style>\n",
       "</head>\n",
       "\n",
       "<body>\n",
       "    \n",
       "    <table style=\"table-layout: fixed; width: 100%\" class=\"diff\" id=\"difflib_chg_to15__top\"\n",
       "           cellspacing=\"0\" cellpadding=\"0\" rules=\"groups\" >\n",
       "        <colgroup></colgroup> <colgroup></colgroup> <colgroup></colgroup>\n",
       "        <colgroup></colgroup> <colgroup></colgroup> <colgroup></colgroup>\n",
       "        \n",
       "        <tbody>\n",
       "            <tr><td style=\"word-wrap: break-word\" class=\"diff_next\" id=\"difflib_chg_to15__1\"><a href=\"#difflib_chg_to15__0\">f</a></td><td style=\"word-wrap: break-word\" class=\"diff_header\" id=\"from15_1\">1</td><td style=\"word-wrap: break-word\" >Dear&nbsp;NOAA&nbsp;Administrator&nbsp;Spinrad&nbsp;and&nbsp;NOAA&nbsp;Fisheries&nbsp;Assistant&nbsp;Administrator&nbsp;Coit:</td><td style=\"word-wrap: break-word\" class=\"diff_next\"><a href=\"#difflib_chg_to15__0\">f</a></td><td style=\"word-wrap: break-word\" class=\"diff_header\" id=\"to15_1\">1</td><td style=\"word-wrap: break-word\" >Dear&nbsp;NOAA&nbsp;Administrator&nbsp;Spinrad&nbsp;and&nbsp;NOAA&nbsp;Fisheries&nbsp;Assistant&nbsp;Administrator&nbsp;Coit:</td></tr>\n",
       "            <tr><td style=\"word-wrap: break-word\" class=\"diff_next\" id=\"difflib_chg_to15__2\"></td><td style=\"word-wrap: break-word\" class=\"diff_header\" id=\"from15_2\">2</td><td style=\"word-wrap: break-word\" ></td><td style=\"word-wrap: break-word\" class=\"diff_next\"></td><td style=\"word-wrap: break-word\" class=\"diff_header\" id=\"to15_2\">2</td><td style=\"word-wrap: break-word\" ></td></tr>\n",
       "            <tr><td style=\"word-wrap: break-word\" class=\"diff_next\"><a href=\"#difflib_chg_to15__1\">n</a></td><td style=\"word-wrap: break-word\" class=\"diff_header\" id=\"from15_3\">3</td><td style=\"word-wrap: break-word\" ><span class=\"diff_sub\">The&nbsp;United&nbsp;States&nbsp;needs&nbsp;an&nbsp;effective&nbsp;seafood&nbsp;traceability&nbsp;program&nbsp;to&nbsp;intercept&nbsp;the&nbsp;flow&nbsp;of&nbsp;illegal&nbsp;seafood&nbsp;into&nbsp;our&nbsp;markets.&nbsp;Illegal&nbsp;fishing&nbsp;is&nbsp;a&nbsp;top&nbsp;driver&nbsp;of&nbsp;unsustainable&nbsp;and&nbsp;environmentally&nbsp;harmful&nbsp;fishing&nbsp;practices&nbsp;around&nbsp;the&nbsp;globe,&nbsp;as&nbsp;well&nbsp;as&nbsp;associated&nbsp;human&nbsp;rights&nbsp;abuses&nbsp;in&nbsp;the&nbsp;seafood&nbsp;sector.&nbsp;The&nbsp;newly&nbsp;proposed&nbsp;changes&nbsp;to&nbsp;the&nbsp;Seafood&nbsp;Import&nbsp;Monitoring&nbsp;Program&nbsp;do&nbsp;not&nbsp;go&nbsp;far&nbsp;enough&nbsp;to&nbsp;help&nbsp;end&nbsp;the&nbsp;U.S.'s&nbsp;role&nbsp;in&nbsp;perpetuating&nbsp;human&nbsp;rights&nbsp;abuses&nbsp;and&nbsp;environmental&nbsp;destruction&nbsp;in&nbsp;the&nbsp;seafood&nbsp;industry.&nbsp;</span></td><td style=\"word-wrap: break-word\" class=\"diff_next\"><a href=\"#difflib_chg_to15__1\">n</a></td><td style=\"word-wrap: break-word\" class=\"diff_header\" id=\"to15_3\">3</td><td style=\"word-wrap: break-word\" ><span class=\"diff_add\">The&nbsp;United&nbsp;States&nbsp;needs&nbsp;an&nbsp;effective&nbsp;seafood&nbsp;traceability&nbsp;program&nbsp;to&nbsp;intercept&nbsp;the&nbsp;flow&nbsp;of&nbsp;illegal&nbsp;seafood&nbsp;into&nbsp;our&nbsp;markets.&nbsp;</span></td></tr>\n",
       "            <tr><td style=\"word-wrap: break-word\" class=\"diff_next\" id=\"difflib_chg_to15__3\"></td><td style=\"word-wrap: break-word\" class=\"diff_header\" id=\"from15_4\">4</td><td style=\"word-wrap: break-word\" ></td><td style=\"word-wrap: break-word\" class=\"diff_next\"></td><td style=\"word-wrap: break-word\" class=\"diff_header\" id=\"to15_4\">4</td><td style=\"word-wrap: break-word\" ></td></tr>\n",
       "            <tr><td style=\"word-wrap: break-word\" class=\"diff_next\"><a href=\"#difflib_chg_to15__2\">n</a></td><td style=\"word-wrap: break-word\" class=\"diff_header\" id=\"from15_5\">5</td><td style=\"word-wrap: break-word\" ><span class=\"diff_sub\">Illegal&nbsp;fishing&nbsp;is&nbsp;destroying&nbsp;our&nbsp;oceans.&nbsp;Years&nbsp;of&nbsp;overfishing&nbsp;in&nbsp;nearshore&nbsp;waters&nbsp;have&nbsp;forced&nbsp;boats&nbsp;to&nbsp;go&nbsp;into&nbsp;deeper&nbsp;waters,&nbsp;which&nbsp;makes&nbsp;fishing&nbsp;more&nbsp;expensive.&nbsp;Some&nbsp;fishers&nbsp;will&nbsp;cut&nbsp;costs&nbsp;by&nbsp;fishing&nbsp;with&nbsp;illegal&nbsp;gear,&nbsp;fishing&nbsp;in&nbsp;protected&nbsp;areas,&nbsp;or&nbsp;ignoring&nbsp;catch&nbsp;limits.&nbsp;To&nbsp;save&nbsp;on&nbsp;labor&nbsp;costs,&nbsp;some&nbsp;vessel&nbsp;owners&nbsp;rely&nbsp;on&nbsp;human&nbsp;traffickers,&nbsp;some&nbsp;even&nbsp;kidnapping&nbsp;or&nbsp;drugging&nbsp;workers&nbsp;to&nbsp;get&nbsp;them&nbsp;on&nbsp;the&nbsp;ship&nbsp;and&nbsp;cut&nbsp;off&nbsp;from&nbsp;help.&nbsp;Further,&nbsp;the&nbsp;overseas&nbsp;seafood&nbsp;processing&nbsp;industry&nbsp;is&nbsp;heavily&nbsp;reliant&nbsp;on&nbsp;forced&nbsp;labor.&nbsp;&nbsp;</span></td><td style=\"word-wrap: break-word\" class=\"diff_next\"><a href=\"#difflib_chg_to15__2\">n</a></td><td style=\"word-wrap: break-word\" class=\"diff_header\" id=\"to15_5\">5</td><td style=\"word-wrap: break-word\" ><span class=\"diff_add\">Illegal&nbsp;fishing&nbsp;is&nbsp;a&nbsp;top&nbsp;driver&nbsp;of&nbsp;unsustainable&nbsp;and&nbsp;environmentally&nbsp;harmful&nbsp;fishing&nbsp;practices&nbsp;around&nbsp;the&nbsp;globe,&nbsp;as&nbsp;well&nbsp;as&nbsp;associated&nbsp;human&nbsp;rights&nbsp;abuses&nbsp;in&nbsp;the&nbsp;seafood&nbsp;sector.&nbsp;</span></td></tr>\n",
       "            <tr><td style=\"word-wrap: break-word\" class=\"diff_next\" id=\"difflib_chg_to15__4\"></td><td style=\"word-wrap: break-word\" class=\"diff_header\" id=\"from15_6\">6</td><td style=\"word-wrap: break-word\" ></td><td style=\"word-wrap: break-word\" class=\"diff_next\"></td><td style=\"word-wrap: break-word\" class=\"diff_header\" id=\"to15_6\">6</td><td style=\"word-wrap: break-word\" ></td></tr>\n",
       "            <tr><td style=\"word-wrap: break-word\" class=\"diff_next\"><a href=\"#difflib_chg_to15__3\">n</a></td><td style=\"word-wrap: break-word\" class=\"diff_header\" id=\"from15_7\">7</td><td style=\"word-wrap: break-word\" ><span class=\"diff_sub\">The&nbsp;U.S.&nbsp;is&nbsp;one&nbsp;of&nbsp;the&nbsp;largest&nbsp;consumers&nbsp;of&nbsp;seafood.&nbsp;Approximately&nbsp;eighty&nbsp;percent&nbsp;of&nbsp;the&nbsp;seafood&nbsp;sold&nbsp;in&nbsp;the&nbsp;U.S.&nbsp;is&nbsp;imported,&nbsp;and&nbsp;as&nbsp;much&nbsp;as&nbsp;a&nbsp;third&nbsp;of&nbsp;the&nbsp;wild-caught&nbsp;seafood&nbsp;sold&nbsp;in&nbsp;the&nbsp;United&nbsp;States&nbsp;each&nbsp;year&nbsp;is&nbsp;illegal&nbsp;or&nbsp;unreported.&nbsp;&nbsp;</span></td><td style=\"word-wrap: break-word\" class=\"diff_next\"><a href=\"#difflib_chg_to15__3\">n</a></td><td style=\"word-wrap: break-word\" class=\"diff_header\" id=\"to15_7\">7</td><td style=\"word-wrap: break-word\" ><span class=\"diff_add\">The&nbsp;newly&nbsp;proposed&nbsp;changes&nbsp;to&nbsp;the&nbsp;Seafood&nbsp;Import&nbsp;Monitoring&nbsp;Program&nbsp;do&nbsp;not&nbsp;go&nbsp;far&nbsp;enough&nbsp;to&nbsp;help&nbsp;end&nbsp;the&nbsp;U.S.'s&nbsp;role&nbsp;in&nbsp;perpetuating&nbsp;human&nbsp;rights&nbsp;abuses&nbsp;and&nbsp;environmental&nbsp;destruction&nbsp;in&nbsp;the&nbsp;seafood&nbsp;industry.&nbsp;</span></td></tr>\n",
       "            <tr><td style=\"word-wrap: break-word\" class=\"diff_next\"></td><td style=\"word-wrap: break-word\" class=\"diff_header\" id=\"from15_8\">8</td><td style=\"word-wrap: break-word\" ></td><td style=\"word-wrap: break-word\" class=\"diff_next\"></td><td style=\"word-wrap: break-word\" class=\"diff_header\" id=\"to15_8\">8</td><td style=\"word-wrap: break-word\" ></td></tr>\n",
       "            <tr><td style=\"word-wrap: break-word\" class=\"diff_next\"><a href=\"#difflib_chg_to15__4\">n</a></td><td style=\"word-wrap: break-word\" class=\"diff_header\" id=\"from15_9\">9</td><td style=\"word-wrap: break-word\" ><span class=\"diff_sub\">The&nbsp;U.S.&nbsp;government&nbsp;has&nbsp;a&nbsp;responsibility&nbsp;to&nbsp;fix&nbsp;these&nbsp;problems,&nbsp;and&nbsp;seafood&nbsp;traceability&nbsp;is&nbsp;an&nbsp;essential&nbsp;step&nbsp;in&nbsp;the&nbsp;fight&nbsp;to&nbsp;end&nbsp;illegal&nbsp;fishing&nbsp;and&nbsp;human&nbsp;rights&nbsp;abuses&nbsp;in&nbsp;the&nbsp;seafood&nbsp;industry.&nbsp;But&nbsp;under&nbsp;NOAA&nbsp;Fisheries’&nbsp;proposed&nbsp;rule,&nbsp;traceability&nbsp;requirements&nbsp;would&nbsp;apply&nbsp;to&nbsp;only&nbsp;half&nbsp;of&nbsp;seafood&nbsp;imports,&nbsp;leaving&nbsp;massive&nbsp;loopholes&nbsp;that&nbsp;are&nbsp;easy&nbsp;for&nbsp;bad&nbsp;actors&nbsp;to&nbsp;exploit.&nbsp;The&nbsp;proposed&nbsp;rule&nbsp;also&nbsp;fails&nbsp;to&nbsp;sufficiently&nbsp;address&nbsp;labor&nbsp;abuses&nbsp;in&nbsp;seafood&nbsp;supply&nbsp;chains,&nbsp;and&nbsp;it&nbsp;includes&nbsp;no&nbsp;commitment&nbsp;to&nbsp;improve&nbsp;enforcement&nbsp;of&nbsp;traceability&nbsp;requirements.&nbsp;</span></td><td style=\"word-wrap: break-word\" class=\"diff_next\"><a href=\"#difflib_chg_to15__4\">n</a></td><td style=\"word-wrap: break-word\" class=\"diff_header\" id=\"to15_9\">9</td><td style=\"word-wrap: break-word\" ><span class=\"diff_add\">Illegal&nbsp;fishing&nbsp;is&nbsp;destroying&nbsp;our&nbsp;oceans.&nbsp;Years&nbsp;of&nbsp;overfishing&nbsp;in&nbsp;nearshore&nbsp;waters&nbsp;have&nbsp;forced&nbsp;boats&nbsp;to&nbsp;go&nbsp;into&nbsp;deeper&nbsp;waters,&nbsp;which&nbsp;makes&nbsp;fishing&nbsp;more&nbsp;expensive.&nbsp;Some&nbsp;fishers&nbsp;will&nbsp;cut&nbsp;costs&nbsp;by&nbsp;fishing&nbsp;with&nbsp;illegal&nbsp;gear,&nbsp;fishing&nbsp;in&nbsp;protected&nbsp;areas,&nbsp;or&nbsp;ignoring&nbsp;catch&nbsp;limits.&nbsp;</span></td></tr>\n",
       "            <tr><td style=\"word-wrap: break-word\" class=\"diff_next\"></td><td style=\"word-wrap: break-word\" class=\"diff_header\" id=\"from15_10\">10</td><td style=\"word-wrap: break-word\" ></td><td style=\"word-wrap: break-word\" class=\"diff_next\"></td><td style=\"word-wrap: break-word\" class=\"diff_header\" id=\"to15_10\">10</td><td style=\"word-wrap: break-word\" ></td></tr>\n",
       "            <tr><td style=\"word-wrap: break-word\" class=\"diff_next\"><a href=\"#difflib_chg_to15__top\">t</a></td><td style=\"word-wrap: break-word\" class=\"diff_header\" id=\"from15_11\">11</td><td style=\"word-wrap: break-word\" ><span class=\"diff_sub\">Please&nbsp;revise&nbsp;the&nbsp;Seafood&nbsp;Import&nbsp;Monitoring&nbsp;Program&nbsp;proposed&nbsp;rule&nbsp;to&nbsp;adopt&nbsp;the&nbsp;strongest&nbsp;possible&nbsp;standards&nbsp;for&nbsp;seafood&nbsp;traceability&nbsp;to&nbsp;intercept&nbsp;the&nbsp;flow&nbsp;of&nbsp;illegal&nbsp;seafood&nbsp;into&nbsp;the&nbsp;U.S.&nbsp;and&nbsp;help&nbsp;consumers&nbsp;feel&nbsp;confident&nbsp;the&nbsp;seafood&nbsp;they&nbsp;buy&nbsp;is&nbsp;legally&nbsp;caught&nbsp;and&nbsp;not&nbsp;a&nbsp;product&nbsp;of&nbsp;labor&nbsp;abuses.&nbsp;Thank&nbsp;you&nbsp;for&nbsp;helping&nbsp;to&nbsp;address&nbsp;these&nbsp;environmental&nbsp;and&nbsp;human&nbsp;rights&nbsp;crimes&nbsp;with&nbsp;the&nbsp;seriousness&nbsp;they&nbsp;deserve.</span></td><td style=\"word-wrap: break-word\" class=\"diff_next\"><a href=\"#difflib_chg_to15__top\">t</a></td><td style=\"word-wrap: break-word\" class=\"diff_header\" id=\"to15_11\">11</td><td style=\"word-wrap: break-word\" ><span class=\"diff_add\">To&nbsp;save&nbsp;on&nbsp;labor&nbsp;costs,&nbsp;some&nbsp;vessel&nbsp;owners&nbsp;rely&nbsp;on&nbsp;human&nbsp;traffickers,&nbsp;some&nbsp;even&nbsp;kidnapping&nbsp;or&nbsp;drugging&nbsp;workers&nbsp;to&nbsp;get&nbsp;them&nbsp;on&nbsp;the&nbsp;ship&nbsp;and&nbsp;cut&nbsp;off&nbsp;from&nbsp;help.&nbsp;Further,&nbsp;the&nbsp;overseas&nbsp;seafood&nbsp;processing&nbsp;industry&nbsp;is&nbsp;heavily&nbsp;reliant&nbsp;on&nbsp;forced&nbsp;labor.&nbsp;&nbsp;</span></td></tr>\n",
       "            <tr><td style=\"word-wrap: break-word\" class=\"diff_next\"></td><td style=\"word-wrap: break-word\" class=\"diff_header\"></td><td style=\"word-wrap: break-word\" ></td><td style=\"word-wrap: break-word\" class=\"diff_next\"></td><td style=\"word-wrap: break-word\" class=\"diff_header\" id=\"to15_12\">12</td><td style=\"word-wrap: break-word\" ><span class=\"diff_add\">&nbsp;</span></td></tr>\n",
       "            <tr><td style=\"word-wrap: break-word\" class=\"diff_next\"></td><td style=\"word-wrap: break-word\" class=\"diff_header\"></td><td style=\"word-wrap: break-word\" ></td><td style=\"word-wrap: break-word\" class=\"diff_next\"></td><td style=\"word-wrap: break-word\" class=\"diff_header\" id=\"to15_13\">13</td><td style=\"word-wrap: break-word\" ><span class=\"diff_add\">The&nbsp;U.S.&nbsp;is&nbsp;one&nbsp;of&nbsp;the&nbsp;largest&nbsp;consumers&nbsp;of&nbsp;seafood.&nbsp;Approximately&nbsp;80%&nbsp;of&nbsp;the&nbsp;seafood&nbsp;sold&nbsp;in&nbsp;the&nbsp;U.S.&nbsp;is&nbsp;imported,&nbsp;and&nbsp;as&nbsp;much&nbsp;as&nbsp;a&nbsp;third&nbsp;of&nbsp;the&nbsp;wild-caught&nbsp;seafood&nbsp;sold&nbsp;in&nbsp;the&nbsp;United&nbsp;States&nbsp;each&nbsp;year&nbsp;is&nbsp;illegal&nbsp;or&nbsp;unreported.&nbsp;&nbsp;</span></td></tr>\n",
       "            <tr><td style=\"word-wrap: break-word\" class=\"diff_next\"></td><td style=\"word-wrap: break-word\" class=\"diff_header\"></td><td style=\"word-wrap: break-word\" ></td><td style=\"word-wrap: break-word\" class=\"diff_next\"></td><td style=\"word-wrap: break-word\" class=\"diff_header\" id=\"to15_14\">14</td><td style=\"word-wrap: break-word\" ><span class=\"diff_add\">&nbsp;</span></td></tr>\n",
       "            <tr><td style=\"word-wrap: break-word\" class=\"diff_next\"></td><td style=\"word-wrap: break-word\" class=\"diff_header\"></td><td style=\"word-wrap: break-word\" ></td><td style=\"word-wrap: break-word\" class=\"diff_next\"></td><td style=\"word-wrap: break-word\" class=\"diff_header\" id=\"to15_15\">15</td><td style=\"word-wrap: break-word\" ><span class=\"diff_add\">The&nbsp;U.S.&nbsp;government&nbsp;has&nbsp;a&nbsp;responsibility&nbsp;to&nbsp;fix&nbsp;these&nbsp;problems,&nbsp;and&nbsp;seafood&nbsp;traceability&nbsp;is&nbsp;an&nbsp;essential&nbsp;step&nbsp;in&nbsp;the&nbsp;fight&nbsp;to&nbsp;end&nbsp;illegal&nbsp;fishing&nbsp;and&nbsp;human&nbsp;rights&nbsp;abuses&nbsp;in&nbsp;the&nbsp;seafood&nbsp;industry.&nbsp;</span></td></tr>\n",
       "            <tr><td style=\"word-wrap: break-word\" class=\"diff_next\"></td><td style=\"word-wrap: break-word\" class=\"diff_header\"></td><td style=\"word-wrap: break-word\" ></td><td style=\"word-wrap: break-word\" class=\"diff_next\"></td><td style=\"word-wrap: break-word\" class=\"diff_header\" id=\"to15_16\">16</td><td style=\"word-wrap: break-word\" ><span class=\"diff_add\">&nbsp;</span></td></tr>\n",
       "            <tr><td style=\"word-wrap: break-word\" class=\"diff_next\"></td><td style=\"word-wrap: break-word\" class=\"diff_header\"></td><td style=\"word-wrap: break-word\" ></td><td style=\"word-wrap: break-word\" class=\"diff_next\"></td><td style=\"word-wrap: break-word\" class=\"diff_header\" id=\"to15_17\">17</td><td style=\"word-wrap: break-word\" ><span class=\"diff_add\">However,&nbsp;under&nbsp;NOAA&nbsp;Fisheries’&nbsp;proposed&nbsp;rule,&nbsp;traceability&nbsp;requirements&nbsp;would&nbsp;apply&nbsp;to&nbsp;only&nbsp;half&nbsp;of&nbsp;seafood&nbsp;imports,&nbsp;leaving&nbsp;massive&nbsp;loopholes&nbsp;that&nbsp;are&nbsp;easy&nbsp;for&nbsp;bad&nbsp;actors&nbsp;to&nbsp;exploit.&nbsp;The&nbsp;proposed&nbsp;rule&nbsp;also&nbsp;fails&nbsp;to&nbsp;sufficiently&nbsp;address&nbsp;labor&nbsp;abuses&nbsp;in&nbsp;seafood&nbsp;supply&nbsp;chains,&nbsp;and&nbsp;it&nbsp;includes&nbsp;no&nbsp;commitment&nbsp;to&nbsp;improve&nbsp;enforcement&nbsp;of&nbsp;traceability&nbsp;requirements.&nbsp;</span></td></tr>\n",
       "            <tr><td style=\"word-wrap: break-word\" class=\"diff_next\"></td><td style=\"word-wrap: break-word\" class=\"diff_header\"></td><td style=\"word-wrap: break-word\" ></td><td style=\"word-wrap: break-word\" class=\"diff_next\"></td><td style=\"word-wrap: break-word\" class=\"diff_header\" id=\"to15_18\">18</td><td style=\"word-wrap: break-word\" ><span class=\"diff_add\">&nbsp;</span></td></tr>\n",
       "            <tr><td style=\"word-wrap: break-word\" class=\"diff_next\"></td><td style=\"word-wrap: break-word\" class=\"diff_header\"></td><td style=\"word-wrap: break-word\" ></td><td style=\"word-wrap: break-word\" class=\"diff_next\"></td><td style=\"word-wrap: break-word\" class=\"diff_header\" id=\"to15_19\">19</td><td style=\"word-wrap: break-word\" ><span class=\"diff_add\">Please&nbsp;revise&nbsp;the&nbsp;Seafood&nbsp;Import&nbsp;Monitoring&nbsp;Program&nbsp;proposed&nbsp;rule&nbsp;to&nbsp;adopt&nbsp;the&nbsp;strongest&nbsp;possible&nbsp;standards&nbsp;for&nbsp;seafood&nbsp;traceability&nbsp;–&nbsp;to&nbsp;intercept&nbsp;the&nbsp;flow&nbsp;of&nbsp;illegal&nbsp;seafood&nbsp;into&nbsp;the&nbsp;U.S.,&nbsp;and&nbsp;help&nbsp;consumers&nbsp;feel&nbsp;confident&nbsp;that&nbsp;the&nbsp;seafood&nbsp;they&nbsp;buy&nbsp;is&nbsp;legally&nbsp;caught,&nbsp;and&nbsp;not&nbsp;a&nbsp;product&nbsp;of&nbsp;labor&nbsp;abuses.&nbsp;</span></td></tr>\n",
       "            <tr><td style=\"word-wrap: break-word\" class=\"diff_next\"></td><td style=\"word-wrap: break-word\" class=\"diff_header\"></td><td style=\"word-wrap: break-word\" ></td><td style=\"word-wrap: break-word\" class=\"diff_next\"></td><td style=\"word-wrap: break-word\" class=\"diff_header\" id=\"to15_20\">20</td><td style=\"word-wrap: break-word\" ><span class=\"diff_add\">&nbsp;</span></td></tr>\n",
       "            <tr><td style=\"word-wrap: break-word\" class=\"diff_next\"></td><td style=\"word-wrap: break-word\" class=\"diff_header\"></td><td style=\"word-wrap: break-word\" ></td><td style=\"word-wrap: break-word\" class=\"diff_next\"></td><td style=\"word-wrap: break-word\" class=\"diff_header\" id=\"to15_21\">21</td><td style=\"word-wrap: break-word\" ><span class=\"diff_add\">Thank&nbsp;you&nbsp;for&nbsp;helping&nbsp;to&nbsp;address&nbsp;these&nbsp;environmental&nbsp;and&nbsp;human&nbsp;rights&nbsp;crimes&nbsp;with&nbsp;the&nbsp;seriousness&nbsp;they&nbsp;deserve.&nbsp;</span></td></tr>\n",
       "            <tr><td style=\"word-wrap: break-word\" class=\"diff_next\"></td><td style=\"word-wrap: break-word\" class=\"diff_header\"></td><td style=\"word-wrap: break-word\" ></td><td style=\"word-wrap: break-word\" class=\"diff_next\"></td><td style=\"word-wrap: break-word\" class=\"diff_header\" id=\"to15_22\">22</td><td style=\"word-wrap: break-word\" ><span class=\"diff_add\">&nbsp;</span></td></tr>\n",
       "            <tr><td style=\"word-wrap: break-word\" class=\"diff_next\"></td><td style=\"word-wrap: break-word\" class=\"diff_header\"></td><td style=\"word-wrap: break-word\" ></td><td style=\"word-wrap: break-word\" class=\"diff_next\"></td><td style=\"word-wrap: break-word\" class=\"diff_header\" id=\"to15_23\">23</td><td style=\"word-wrap: break-word\" ><span class=\"diff_add\">Again,&nbsp;thank&nbsp;you&nbsp;–&nbsp;for&nbsp;your&nbsp;time,&nbsp;and&nbsp;for&nbsp;your&nbsp;thoughtful&nbsp;consideration&nbsp;of&nbsp;this&nbsp;critically&nbsp;important&nbsp;issue.</span></td></tr>\n",
       "        </tbody>\n",
       "    </table>\n",
       "    <table style=\"table-layout: fixed; width: 100%\" class=\"diff\" summary=\"Legends\">\n",
       "        <tr> <th colspan=\"2\"> Legends </th> </tr>\n",
       "        <tr> <td style=\"word-wrap: break-word\"> <table style=\"table-layout: fixed; width: 100%\" border=\"\" summary=\"Colors\">\n",
       "                      <tr><th> Colors </th> </tr>\n",
       "                      <tr><td style=\"word-wrap: break-word\" class=\"diff_add\">&nbsp;Added&nbsp;</td></tr>\n",
       "                      <tr><td style=\"word-wrap: break-word\" class=\"diff_chg\">Changed</td> </tr>\n",
       "                      <tr><td style=\"word-wrap: break-word\" class=\"diff_sub\">Deleted</td> </tr>\n",
       "                  </table></td>\n",
       "             <td style=\"word-wrap: break-word\"> <table style=\"table-layout: fixed; width: 100%\" border=\"\" summary=\"Links\">\n",
       "                      <tr><th colspan=\"2\"> Links </th> </tr>\n",
       "                      <tr><td style=\"word-wrap: break-word\">(f)irst change</td> </tr>\n",
       "                      <tr><td style=\"word-wrap: break-word\">(n)ext change</td> </tr>\n",
       "                      <tr><td style=\"word-wrap: break-word\">(t)op</td> </tr>\n",
       "                  </table></td> </tr>\n",
       "    </table>\n",
       "</body>\n",
       "\n",
       "</html>"
      ],
      "text/plain": [
       "<IPython.core.display.HTML object>"
      ]
     },
     "metadata": {},
     "output_type": "display_data"
    },
    {
     "data": {
      "text/html": [
       "\n",
       "<!DOCTYPE html PUBLIC \"-//W3C//DTD XHTML 1.0 Transitional//EN\"\n",
       "          \"http://www.w3.org/TR/xhtml1/DTD/xhtml1-transitional.dtd\">\n",
       "\n",
       "<html>\n",
       "\n",
       "<head>\n",
       "    <meta http-equiv=\"Content-Type\"\n",
       "          content=\"text/html; charset=utf-8\" />\n",
       "    <title></title>\n",
       "    <style type=\"text/css\">\n",
       "        table.diff {font-family:Courier; border:medium;}\n",
       "        .diff_header {background-color:#e0e0e0}\n",
       "        td.diff_header {text-align:right; width:1%}\n",
       "        .diff_next {background-color:#c0c0c0; width:1%}\n",
       "        .diff_add {background-color:#aaffaa}\n",
       "        .diff_chg {background-color:#ffff77}\n",
       "        .diff_sub {background-color:#ffaaaa}\n",
       "    </style>\n",
       "</head>\n",
       "\n",
       "<body>\n",
       "    \n",
       "    <table style=\"table-layout: fixed; width: 100%\" class=\"diff\" id=\"difflib_chg_to16__top\"\n",
       "           cellspacing=\"0\" cellpadding=\"0\" rules=\"groups\" >\n",
       "        <colgroup></colgroup> <colgroup></colgroup> <colgroup></colgroup>\n",
       "        <colgroup></colgroup> <colgroup></colgroup> <colgroup></colgroup>\n",
       "        \n",
       "        <tbody>\n",
       "            <tr><td style=\"word-wrap: break-word\" class=\"diff_next\" id=\"difflib_chg_to16__0\"><a href=\"#difflib_chg_to16__0\">f</a></td><td style=\"word-wrap: break-word\" class=\"diff_header\" id=\"from16_1\">1</td><td style=\"word-wrap: break-word\" >Dear&nbsp;NOAA&nbsp;Administrator&nbsp;Spinrad&nbsp;and&nbsp;NOAA&nbsp;Fisheries&nbsp;Assistant&nbsp;Administrator&nbsp;Coit:</td><td style=\"word-wrap: break-word\" class=\"diff_next\"><a href=\"#difflib_chg_to16__0\">f</a></td><td style=\"word-wrap: break-word\" class=\"diff_header\" id=\"to16_1\">1</td><td style=\"word-wrap: break-word\" >Dear&nbsp;NOAA&nbsp;Administrator&nbsp;Spinrad&nbsp;and&nbsp;NOAA&nbsp;Fisheries&nbsp;Assistant&nbsp;Administrator&nbsp;Coit:</td></tr>\n",
       "            <tr><td style=\"word-wrap: break-word\" class=\"diff_next\"><a href=\"#difflib_chg_to16__top\">t</a></td><td style=\"word-wrap: break-word\" class=\"diff_header\"></td><td style=\"word-wrap: break-word\" ></td><td style=\"word-wrap: break-word\" class=\"diff_next\"><a href=\"#difflib_chg_to16__top\">t</a></td><td style=\"word-wrap: break-word\" class=\"diff_header\" id=\"to16_2\">2</td><td style=\"word-wrap: break-word\" ><span class=\"diff_add\">&nbsp;</span></td></tr>\n",
       "            <tr><td style=\"word-wrap: break-word\" class=\"diff_next\"></td><td style=\"word-wrap: break-word\" class=\"diff_header\"></td><td style=\"word-wrap: break-word\" ></td><td style=\"word-wrap: break-word\" class=\"diff_next\"></td><td style=\"word-wrap: break-word\" class=\"diff_header\" id=\"to16_3\">3</td><td style=\"word-wrap: break-word\" ><span class=\"diff_add\">***Unscrupulous,&nbsp;amoral&nbsp;fishing&nbsp;boat&nbsp;operators&nbsp;on&nbsp;the&nbsp;high&nbsp;seas&nbsp;are&nbsp;ravaging&nbsp;both&nbsp;our&nbsp;ocean&nbsp;environment&nbsp;and&nbsp;the&nbsp;human&nbsp;rights&nbsp;of&nbsp;their&nbsp;effectively&nbsp;captive&nbsp;work&nbsp;force&nbsp;that&nbsp;is&nbsp;tantamount&nbsp;to&nbsp;a&nbsp;slave&nbsp;operation.&nbsp;The&nbsp;international&nbsp;legal&nbsp;system&nbsp;has&nbsp;yet&nbsp;to&nbsp;establish&nbsp;effective&nbsp;laws,&nbsp;enforcement,&nbsp;or&nbsp;deterrents&nbsp;in&nbsp;the&nbsp;vast&nbsp;zone&nbsp;known&nbsp;as&nbsp;the&nbsp;\"High&nbsp;Seas,\"&nbsp;and&nbsp;in&nbsp;this&nbsp;legal&nbsp;limbo,&nbsp;atrocities&nbsp;occur&nbsp;that&nbsp;would&nbsp;never&nbsp;be&nbsp;tolerated&nbsp;in&nbsp;American&nbsp;waters.&nbsp;The&nbsp;fishing&nbsp;operators&nbsp;fly&nbsp;flags&nbsp;of&nbsp;convenience,&nbsp;hop&nbsp;from&nbsp;port&nbsp;to&nbsp;port&nbsp;like&nbsp;pirates&nbsp;of&nbsp;old,&nbsp;and&nbsp;unload&nbsp;their&nbsp;ill-gotten&nbsp;loot&nbsp;into&nbsp;opaque,&nbsp;untraceable&nbsp;seafood&nbsp;supply&nbsp;chains&nbsp;that&nbsp;are&nbsp;typically&nbsp;happy&nbsp;to&nbsp;not&nbsp;inquire&nbsp;too&nbsp;energetically&nbsp;into&nbsp;the&nbsp;provenance&nbsp;of&nbsp;their&nbsp;curiously&nbsp;inexpensive&nbsp;product.</span></td></tr>\n",
       "            <tr><td style=\"word-wrap: break-word\" class=\"diff_next\"></td><td style=\"word-wrap: break-word\" class=\"diff_header\"></td><td style=\"word-wrap: break-word\" ></td><td style=\"word-wrap: break-word\" class=\"diff_next\"></td><td style=\"word-wrap: break-word\" class=\"diff_header\" id=\"to16_4\">4</td><td style=\"word-wrap: break-word\" ><span class=\"diff_add\">&nbsp;</span></td></tr>\n",
       "            <tr><td style=\"word-wrap: break-word\" class=\"diff_next\"></td><td style=\"word-wrap: break-word\" class=\"diff_header\"></td><td style=\"word-wrap: break-word\" ></td><td style=\"word-wrap: break-word\" class=\"diff_next\"></td><td style=\"word-wrap: break-word\" class=\"diff_header\" id=\"to16_5\">5</td><td style=\"word-wrap: break-word\" ><span class=\"diff_add\">This&nbsp;insidious&nbsp;web&nbsp;of&nbsp;the&nbsp;gray&nbsp;market&nbsp;fishing&nbsp;industry&nbsp;places&nbsp;American&nbsp;importers,&nbsp;wholesalers,&nbsp;retailers,&nbsp;and&nbsp;consumers&nbsp;in&nbsp;the&nbsp;morally&nbsp;untenable&nbsp;position&nbsp;of&nbsp;funding&nbsp;crimes&nbsp;against&nbsp;our&nbsp;ocean&nbsp;ecosystem&nbsp;and&nbsp;against&nbsp;the&nbsp;human&nbsp;rights&nbsp;of&nbsp;people&nbsp;tricked&nbsp;or&nbsp;conscripted&nbsp;into&nbsp;medieval&nbsp;working&nbsp;conditions.&nbsp;The&nbsp;world's&nbsp;oceans&nbsp;are&nbsp;coming&nbsp;under&nbsp;increasing,&nbsp;crushing&nbsp;human&nbsp;demand&nbsp;for&nbsp;animal&nbsp;protein,&nbsp;and&nbsp;these&nbsp;rogue&nbsp;fishing&nbsp;operations&nbsp;that&nbsp;push&nbsp;further&nbsp;and&nbsp;deeper&nbsp;into&nbsp;the&nbsp;ungoverned&nbsp;'High&nbsp;Seas'&nbsp;are&nbsp;both&nbsp;a&nbsp;product&nbsp;and&nbsp;self-reinforcing&nbsp;catalyst&nbsp;of&nbsp;this&nbsp;race&nbsp;to&nbsp;the&nbsp;bottom&nbsp;of&nbsp;both&nbsp;our&nbsp;planetary&nbsp;food&nbsp;chain&nbsp;and&nbsp;the&nbsp;dignity&nbsp;of&nbsp;the&nbsp;human&nbsp;workforce&nbsp;involved.&nbsp;I&nbsp;urge&nbsp;you&nbsp;to&nbsp;demand&nbsp;complete&nbsp;provenance&nbsp;for&nbsp;all&nbsp;seafood&nbsp;entering&nbsp;American&nbsp;markets,&nbsp;and&nbsp;to&nbsp;close&nbsp;access&nbsp;to&nbsp;any&nbsp;importer&nbsp;unable&nbsp;or&nbsp;unwilling&nbsp;to&nbsp;document&nbsp;legal&nbsp;operation&nbsp;at&nbsp;every&nbsp;step,&nbsp;to&nbsp;remove&nbsp;the&nbsp;American&nbsp;financial&nbsp;reward&nbsp;that&nbsp;is&nbsp;fueling&nbsp;this&nbsp;moral&nbsp;carnage.***</span></td></tr>\n",
       "            <tr><td style=\"word-wrap: break-word\" class=\"diff_next\"></td><td style=\"word-wrap: break-word\" class=\"diff_header\" id=\"from16_2\">2</td><td style=\"word-wrap: break-word\" ></td><td style=\"word-wrap: break-word\" class=\"diff_next\"></td><td style=\"word-wrap: break-word\" class=\"diff_header\" id=\"to16_6\">6</td><td style=\"word-wrap: break-word\" ></td></tr>\n",
       "            <tr><td style=\"word-wrap: break-word\" class=\"diff_next\"></td><td style=\"word-wrap: break-word\" class=\"diff_header\" id=\"from16_3\">3</td><td style=\"word-wrap: break-word\" >The&nbsp;United&nbsp;States&nbsp;needs&nbsp;an&nbsp;effective&nbsp;seafood&nbsp;traceability&nbsp;program&nbsp;to&nbsp;intercept&nbsp;the&nbsp;flow&nbsp;of&nbsp;illegal&nbsp;seafood&nbsp;into&nbsp;our&nbsp;markets.&nbsp;Illegal&nbsp;fishing&nbsp;is&nbsp;a&nbsp;top&nbsp;driver&nbsp;of&nbsp;unsustainable&nbsp;and&nbsp;environmentally&nbsp;harmful&nbsp;fishing&nbsp;practices&nbsp;around&nbsp;the&nbsp;globe,&nbsp;as&nbsp;well&nbsp;as&nbsp;associated&nbsp;human&nbsp;rights&nbsp;abuses&nbsp;in&nbsp;the&nbsp;seafood&nbsp;sector.&nbsp;The&nbsp;newly&nbsp;proposed&nbsp;changes&nbsp;to&nbsp;the&nbsp;Seafood&nbsp;Import&nbsp;Monitoring&nbsp;Program&nbsp;do&nbsp;not&nbsp;go&nbsp;far&nbsp;enough&nbsp;to&nbsp;help&nbsp;end&nbsp;the&nbsp;U.S.'s&nbsp;role&nbsp;in&nbsp;perpetuating&nbsp;human&nbsp;rights&nbsp;abuses&nbsp;and&nbsp;environmental&nbsp;destruction&nbsp;in&nbsp;the&nbsp;seafood&nbsp;industry.&nbsp;</td><td style=\"word-wrap: break-word\" class=\"diff_next\"></td><td style=\"word-wrap: break-word\" class=\"diff_header\" id=\"to16_7\">7</td><td style=\"word-wrap: break-word\" >The&nbsp;United&nbsp;States&nbsp;needs&nbsp;an&nbsp;effective&nbsp;seafood&nbsp;traceability&nbsp;program&nbsp;to&nbsp;intercept&nbsp;the&nbsp;flow&nbsp;of&nbsp;illegal&nbsp;seafood&nbsp;into&nbsp;our&nbsp;markets.&nbsp;Illegal&nbsp;fishing&nbsp;is&nbsp;a&nbsp;top&nbsp;driver&nbsp;of&nbsp;unsustainable&nbsp;and&nbsp;environmentally&nbsp;harmful&nbsp;fishing&nbsp;practices&nbsp;around&nbsp;the&nbsp;globe,&nbsp;as&nbsp;well&nbsp;as&nbsp;associated&nbsp;human&nbsp;rights&nbsp;abuses&nbsp;in&nbsp;the&nbsp;seafood&nbsp;sector.&nbsp;The&nbsp;newly&nbsp;proposed&nbsp;changes&nbsp;to&nbsp;the&nbsp;Seafood&nbsp;Import&nbsp;Monitoring&nbsp;Program&nbsp;do&nbsp;not&nbsp;go&nbsp;far&nbsp;enough&nbsp;to&nbsp;help&nbsp;end&nbsp;the&nbsp;U.S.'s&nbsp;role&nbsp;in&nbsp;perpetuating&nbsp;human&nbsp;rights&nbsp;abuses&nbsp;and&nbsp;environmental&nbsp;destruction&nbsp;in&nbsp;the&nbsp;seafood&nbsp;industry.&nbsp;</td></tr>\n",
       "            <tr><td style=\"word-wrap: break-word\" class=\"diff_next\"></td><td style=\"word-wrap: break-word\" class=\"diff_header\" id=\"from16_4\">4</td><td style=\"word-wrap: break-word\" ></td><td style=\"word-wrap: break-word\" class=\"diff_next\"></td><td style=\"word-wrap: break-word\" class=\"diff_header\" id=\"to16_8\">8</td><td style=\"word-wrap: break-word\" ></td></tr>\n",
       "            <tr><td style=\"word-wrap: break-word\" class=\"diff_next\"></td><td style=\"word-wrap: break-word\" class=\"diff_header\" id=\"from16_5\">5</td><td style=\"word-wrap: break-word\" >Illegal&nbsp;fishing&nbsp;is&nbsp;destroying&nbsp;our&nbsp;oceans.&nbsp;Years&nbsp;of&nbsp;overfishing&nbsp;in&nbsp;nearshore&nbsp;waters&nbsp;have&nbsp;forced&nbsp;boats&nbsp;to&nbsp;go&nbsp;into&nbsp;deeper&nbsp;waters,&nbsp;which&nbsp;makes&nbsp;fishing&nbsp;more&nbsp;expensive.&nbsp;Some&nbsp;fishers&nbsp;will&nbsp;cut&nbsp;costs&nbsp;by&nbsp;fishing&nbsp;with&nbsp;illegal&nbsp;gear,&nbsp;fishing&nbsp;in&nbsp;protected&nbsp;areas,&nbsp;or&nbsp;ignoring&nbsp;catch&nbsp;limits.&nbsp;To&nbsp;save&nbsp;on&nbsp;labor&nbsp;costs,&nbsp;some&nbsp;vessel&nbsp;owners&nbsp;rely&nbsp;on&nbsp;human&nbsp;traffickers,&nbsp;some&nbsp;even&nbsp;kidnapping&nbsp;or&nbsp;drugging&nbsp;workers&nbsp;to&nbsp;get&nbsp;them&nbsp;on&nbsp;the&nbsp;ship&nbsp;and&nbsp;cut&nbsp;off&nbsp;from&nbsp;help.&nbsp;Further,&nbsp;the&nbsp;overseas&nbsp;seafood&nbsp;processing&nbsp;industry&nbsp;is&nbsp;heavily&nbsp;reliant&nbsp;on&nbsp;forced&nbsp;labor.&nbsp;&nbsp;</td><td style=\"word-wrap: break-word\" class=\"diff_next\"></td><td style=\"word-wrap: break-word\" class=\"diff_header\" id=\"to16_9\">9</td><td style=\"word-wrap: break-word\" >Illegal&nbsp;fishing&nbsp;is&nbsp;destroying&nbsp;our&nbsp;oceans.&nbsp;Years&nbsp;of&nbsp;overfishing&nbsp;in&nbsp;nearshore&nbsp;waters&nbsp;have&nbsp;forced&nbsp;boats&nbsp;to&nbsp;go&nbsp;into&nbsp;deeper&nbsp;waters,&nbsp;which&nbsp;makes&nbsp;fishing&nbsp;more&nbsp;expensive.&nbsp;Some&nbsp;fishers&nbsp;will&nbsp;cut&nbsp;costs&nbsp;by&nbsp;fishing&nbsp;with&nbsp;illegal&nbsp;gear,&nbsp;fishing&nbsp;in&nbsp;protected&nbsp;areas,&nbsp;or&nbsp;ignoring&nbsp;catch&nbsp;limits.&nbsp;To&nbsp;save&nbsp;on&nbsp;labor&nbsp;costs,&nbsp;some&nbsp;vessel&nbsp;owners&nbsp;rely&nbsp;on&nbsp;human&nbsp;traffickers,&nbsp;some&nbsp;even&nbsp;kidnapping&nbsp;or&nbsp;drugging&nbsp;workers&nbsp;to&nbsp;get&nbsp;them&nbsp;on&nbsp;the&nbsp;ship&nbsp;and&nbsp;cut&nbsp;off&nbsp;from&nbsp;help.&nbsp;Further,&nbsp;the&nbsp;overseas&nbsp;seafood&nbsp;processing&nbsp;industry&nbsp;is&nbsp;heavily&nbsp;reliant&nbsp;on&nbsp;forced&nbsp;labor.&nbsp;&nbsp;</td></tr>\n",
       "            <tr><td style=\"word-wrap: break-word\" class=\"diff_next\"></td><td style=\"word-wrap: break-word\" class=\"diff_header\" id=\"from16_6\">6</td><td style=\"word-wrap: break-word\" ></td><td style=\"word-wrap: break-word\" class=\"diff_next\"></td><td style=\"word-wrap: break-word\" class=\"diff_header\" id=\"to16_10\">10</td><td style=\"word-wrap: break-word\" ></td></tr>\n",
       "            <tr><td style=\"word-wrap: break-word\" class=\"diff_next\"></td><td style=\"word-wrap: break-word\" class=\"diff_header\" id=\"from16_7\">7</td><td style=\"word-wrap: break-word\" >The&nbsp;U.S.&nbsp;is&nbsp;one&nbsp;of&nbsp;the&nbsp;largest&nbsp;consumers&nbsp;of&nbsp;seafood.&nbsp;Approximately&nbsp;eighty&nbsp;percent&nbsp;of&nbsp;the&nbsp;seafood&nbsp;sold&nbsp;in&nbsp;the&nbsp;U.S.&nbsp;is&nbsp;imported,&nbsp;and&nbsp;as&nbsp;much&nbsp;as&nbsp;a&nbsp;third&nbsp;of&nbsp;the&nbsp;wild-caught&nbsp;seafood&nbsp;sold&nbsp;in&nbsp;the&nbsp;United&nbsp;States&nbsp;each&nbsp;year&nbsp;is&nbsp;illegal&nbsp;or&nbsp;unreported.&nbsp;&nbsp;</td><td style=\"word-wrap: break-word\" class=\"diff_next\"></td><td style=\"word-wrap: break-word\" class=\"diff_header\" id=\"to16_11\">11</td><td style=\"word-wrap: break-word\" >The&nbsp;U.S.&nbsp;is&nbsp;one&nbsp;of&nbsp;the&nbsp;largest&nbsp;consumers&nbsp;of&nbsp;seafood.&nbsp;Approximately&nbsp;eighty&nbsp;percent&nbsp;of&nbsp;the&nbsp;seafood&nbsp;sold&nbsp;in&nbsp;the&nbsp;U.S.&nbsp;is&nbsp;imported,&nbsp;and&nbsp;as&nbsp;much&nbsp;as&nbsp;a&nbsp;third&nbsp;of&nbsp;the&nbsp;wild-caught&nbsp;seafood&nbsp;sold&nbsp;in&nbsp;the&nbsp;United&nbsp;States&nbsp;each&nbsp;year&nbsp;is&nbsp;illegal&nbsp;or&nbsp;unreported.&nbsp;&nbsp;</td></tr>\n",
       "            <tr><td style=\"word-wrap: break-word\" class=\"diff_next\"></td><td style=\"word-wrap: break-word\" class=\"diff_header\" id=\"from16_8\">8</td><td style=\"word-wrap: break-word\" ></td><td style=\"word-wrap: break-word\" class=\"diff_next\"></td><td style=\"word-wrap: break-word\" class=\"diff_header\" id=\"to16_12\">12</td><td style=\"word-wrap: break-word\" ></td></tr>\n",
       "            <tr><td style=\"word-wrap: break-word\" class=\"diff_next\"></td><td style=\"word-wrap: break-word\" class=\"diff_header\" id=\"from16_9\">9</td><td style=\"word-wrap: break-word\" >The&nbsp;U.S.&nbsp;government&nbsp;has&nbsp;a&nbsp;responsibility&nbsp;to&nbsp;fix&nbsp;these&nbsp;problems,&nbsp;and&nbsp;seafood&nbsp;traceability&nbsp;is&nbsp;an&nbsp;essential&nbsp;step&nbsp;in&nbsp;the&nbsp;fight&nbsp;to&nbsp;end&nbsp;illegal&nbsp;fishing&nbsp;and&nbsp;human&nbsp;rights&nbsp;abuses&nbsp;in&nbsp;the&nbsp;seafood&nbsp;industry.&nbsp;But&nbsp;under&nbsp;NOAA&nbsp;Fisheries’&nbsp;proposed&nbsp;rule,&nbsp;traceability&nbsp;requirements&nbsp;would&nbsp;apply&nbsp;to&nbsp;only&nbsp;half&nbsp;of&nbsp;seafood&nbsp;imports,&nbsp;leaving&nbsp;massive&nbsp;loopholes&nbsp;that&nbsp;are&nbsp;easy&nbsp;for&nbsp;bad&nbsp;actors&nbsp;to&nbsp;exploit.&nbsp;The&nbsp;proposed&nbsp;rule&nbsp;also&nbsp;fails&nbsp;to&nbsp;sufficiently&nbsp;address&nbsp;labor&nbsp;abuses&nbsp;in&nbsp;seafood&nbsp;supply&nbsp;chains,&nbsp;and&nbsp;it&nbsp;includes&nbsp;no&nbsp;commitment&nbsp;to&nbsp;improve&nbsp;enforcement&nbsp;of&nbsp;traceability&nbsp;requirements.&nbsp;</td><td style=\"word-wrap: break-word\" class=\"diff_next\"></td><td style=\"word-wrap: break-word\" class=\"diff_header\" id=\"to16_13\">13</td><td style=\"word-wrap: break-word\" >The&nbsp;U.S.&nbsp;government&nbsp;has&nbsp;a&nbsp;responsibility&nbsp;to&nbsp;fix&nbsp;these&nbsp;problems,&nbsp;and&nbsp;seafood&nbsp;traceability&nbsp;is&nbsp;an&nbsp;essential&nbsp;step&nbsp;in&nbsp;the&nbsp;fight&nbsp;to&nbsp;end&nbsp;illegal&nbsp;fishing&nbsp;and&nbsp;human&nbsp;rights&nbsp;abuses&nbsp;in&nbsp;the&nbsp;seafood&nbsp;industry.&nbsp;But&nbsp;under&nbsp;NOAA&nbsp;Fisheries’&nbsp;proposed&nbsp;rule,&nbsp;traceability&nbsp;requirements&nbsp;would&nbsp;apply&nbsp;to&nbsp;only&nbsp;half&nbsp;of&nbsp;seafood&nbsp;imports,&nbsp;leaving&nbsp;massive&nbsp;loopholes&nbsp;that&nbsp;are&nbsp;easy&nbsp;for&nbsp;bad&nbsp;actors&nbsp;to&nbsp;exploit.&nbsp;The&nbsp;proposed&nbsp;rule&nbsp;also&nbsp;fails&nbsp;to&nbsp;sufficiently&nbsp;address&nbsp;labor&nbsp;abuses&nbsp;in&nbsp;seafood&nbsp;supply&nbsp;chains,&nbsp;and&nbsp;it&nbsp;includes&nbsp;no&nbsp;commitment&nbsp;to&nbsp;improve&nbsp;enforcement&nbsp;of&nbsp;traceability&nbsp;requirements.&nbsp;</td></tr>\n",
       "            <tr><td style=\"word-wrap: break-word\" class=\"diff_next\"></td><td style=\"word-wrap: break-word\" class=\"diff_header\" id=\"from16_10\">10</td><td style=\"word-wrap: break-word\" ></td><td style=\"word-wrap: break-word\" class=\"diff_next\"></td><td style=\"word-wrap: break-word\" class=\"diff_header\" id=\"to16_14\">14</td><td style=\"word-wrap: break-word\" ></td></tr>\n",
       "            <tr><td style=\"word-wrap: break-word\" class=\"diff_next\"></td><td style=\"word-wrap: break-word\" class=\"diff_header\" id=\"from16_11\">11</td><td style=\"word-wrap: break-word\" >Please&nbsp;revise&nbsp;the&nbsp;Seafood&nbsp;Import&nbsp;Monitoring&nbsp;Program&nbsp;proposed&nbsp;rule&nbsp;to&nbsp;adopt&nbsp;the&nbsp;strongest&nbsp;possible&nbsp;standards&nbsp;for&nbsp;seafood&nbsp;traceability&nbsp;to&nbsp;intercept&nbsp;the&nbsp;flow&nbsp;of&nbsp;illegal&nbsp;seafood&nbsp;into&nbsp;the&nbsp;U.S.&nbsp;and&nbsp;help&nbsp;consumers&nbsp;feel&nbsp;confident&nbsp;the&nbsp;seafood&nbsp;they&nbsp;buy&nbsp;is&nbsp;legally&nbsp;caught&nbsp;and&nbsp;not&nbsp;a&nbsp;product&nbsp;of&nbsp;labor&nbsp;abuses.&nbsp;Thank&nbsp;you&nbsp;for&nbsp;helping&nbsp;to&nbsp;address&nbsp;these&nbsp;environmental&nbsp;and&nbsp;human&nbsp;rights&nbsp;crimes&nbsp;with&nbsp;the&nbsp;seriousness&nbsp;they&nbsp;deserve.</td><td style=\"word-wrap: break-word\" class=\"diff_next\"></td><td style=\"word-wrap: break-word\" class=\"diff_header\" id=\"to16_15\">15</td><td style=\"word-wrap: break-word\" >Please&nbsp;revise&nbsp;the&nbsp;Seafood&nbsp;Import&nbsp;Monitoring&nbsp;Program&nbsp;proposed&nbsp;rule&nbsp;to&nbsp;adopt&nbsp;the&nbsp;strongest&nbsp;possible&nbsp;standards&nbsp;for&nbsp;seafood&nbsp;traceability&nbsp;to&nbsp;intercept&nbsp;the&nbsp;flow&nbsp;of&nbsp;illegal&nbsp;seafood&nbsp;into&nbsp;the&nbsp;U.S.&nbsp;and&nbsp;help&nbsp;consumers&nbsp;feel&nbsp;confident&nbsp;the&nbsp;seafood&nbsp;they&nbsp;buy&nbsp;is&nbsp;legally&nbsp;caught&nbsp;and&nbsp;not&nbsp;a&nbsp;product&nbsp;of&nbsp;labor&nbsp;abuses.&nbsp;Thank&nbsp;you&nbsp;for&nbsp;helping&nbsp;to&nbsp;address&nbsp;these&nbsp;environmental&nbsp;and&nbsp;human&nbsp;rights&nbsp;crimes&nbsp;with&nbsp;the&nbsp;seriousness&nbsp;they&nbsp;deserve.</td></tr>\n",
       "        </tbody>\n",
       "    </table>\n",
       "    <table style=\"table-layout: fixed; width: 100%\" class=\"diff\" summary=\"Legends\">\n",
       "        <tr> <th colspan=\"2\"> Legends </th> </tr>\n",
       "        <tr> <td style=\"word-wrap: break-word\"> <table style=\"table-layout: fixed; width: 100%\" border=\"\" summary=\"Colors\">\n",
       "                      <tr><th> Colors </th> </tr>\n",
       "                      <tr><td style=\"word-wrap: break-word\" class=\"diff_add\">&nbsp;Added&nbsp;</td></tr>\n",
       "                      <tr><td style=\"word-wrap: break-word\" class=\"diff_chg\">Changed</td> </tr>\n",
       "                      <tr><td style=\"word-wrap: break-word\" class=\"diff_sub\">Deleted</td> </tr>\n",
       "                  </table></td>\n",
       "             <td style=\"word-wrap: break-word\"> <table style=\"table-layout: fixed; width: 100%\" border=\"\" summary=\"Links\">\n",
       "                      <tr><th colspan=\"2\"> Links </th> </tr>\n",
       "                      <tr><td style=\"word-wrap: break-word\">(f)irst change</td> </tr>\n",
       "                      <tr><td style=\"word-wrap: break-word\">(n)ext change</td> </tr>\n",
       "                      <tr><td style=\"word-wrap: break-word\">(t)op</td> </tr>\n",
       "                  </table></td> </tr>\n",
       "    </table>\n",
       "</body>\n",
       "\n",
       "</html>"
      ],
      "text/plain": [
       "<IPython.core.display.HTML object>"
      ]
     },
     "metadata": {},
     "output_type": "display_data"
    },
    {
     "data": {
      "text/html": [
       "\n",
       "<!DOCTYPE html PUBLIC \"-//W3C//DTD XHTML 1.0 Transitional//EN\"\n",
       "          \"http://www.w3.org/TR/xhtml1/DTD/xhtml1-transitional.dtd\">\n",
       "\n",
       "<html>\n",
       "\n",
       "<head>\n",
       "    <meta http-equiv=\"Content-Type\"\n",
       "          content=\"text/html; charset=utf-8\" />\n",
       "    <title></title>\n",
       "    <style type=\"text/css\">\n",
       "        table.diff {font-family:Courier; border:medium;}\n",
       "        .diff_header {background-color:#e0e0e0}\n",
       "        td.diff_header {text-align:right; width:1%}\n",
       "        .diff_next {background-color:#c0c0c0; width:1%}\n",
       "        .diff_add {background-color:#aaffaa}\n",
       "        .diff_chg {background-color:#ffff77}\n",
       "        .diff_sub {background-color:#ffaaaa}\n",
       "    </style>\n",
       "</head>\n",
       "\n",
       "<body>\n",
       "    \n",
       "    <table style=\"table-layout: fixed; width: 100%\" class=\"diff\" id=\"difflib_chg_to17__top\"\n",
       "           cellspacing=\"0\" cellpadding=\"0\" rules=\"groups\" >\n",
       "        <colgroup></colgroup> <colgroup></colgroup> <colgroup></colgroup>\n",
       "        <colgroup></colgroup> <colgroup></colgroup> <colgroup></colgroup>\n",
       "        \n",
       "        <tbody>\n",
       "            <tr><td style=\"word-wrap: break-word\" class=\"diff_next\" id=\"difflib_chg_to17__1\"><a href=\"#difflib_chg_to17__0\">f</a></td><td style=\"word-wrap: break-word\" class=\"diff_header\" id=\"from17_1\">1</td><td style=\"word-wrap: break-word\" >Dear&nbsp;NOAA&nbsp;Administrator&nbsp;Spinrad&nbsp;and&nbsp;NOAA&nbsp;Fisheries&nbsp;Assistant&nbsp;Administrator&nbsp;Coit:</td><td style=\"word-wrap: break-word\" class=\"diff_next\"><a href=\"#difflib_chg_to17__0\">f</a></td><td style=\"word-wrap: break-word\" class=\"diff_header\" id=\"to17_1\">1</td><td style=\"word-wrap: break-word\" >Dear&nbsp;NOAA&nbsp;Administrator&nbsp;Spinrad&nbsp;and&nbsp;NOAA&nbsp;Fisheries&nbsp;Assistant&nbsp;Administrator&nbsp;Coit:</td></tr>\n",
       "            <tr><td style=\"word-wrap: break-word\" class=\"diff_next\" id=\"difflib_chg_to17__2\"></td><td style=\"word-wrap: break-word\" class=\"diff_header\" id=\"from17_2\">2</td><td style=\"word-wrap: break-word\" ></td><td style=\"word-wrap: break-word\" class=\"diff_next\"></td><td style=\"word-wrap: break-word\" class=\"diff_header\" id=\"to17_2\">2</td><td style=\"word-wrap: break-word\" ></td></tr>\n",
       "            <tr><td style=\"word-wrap: break-word\" class=\"diff_next\"><a href=\"#difflib_chg_to17__1\">n</a></td><td style=\"word-wrap: break-word\" class=\"diff_header\" id=\"from17_3\">3</td><td style=\"word-wrap: break-word\" ><span class=\"diff_sub\">The&nbsp;United&nbsp;States&nbsp;needs&nbsp;an&nbsp;effective&nbsp;seafood&nbsp;traceability&nbsp;program&nbsp;to&nbsp;intercept&nbsp;the&nbsp;flow&nbsp;of&nbsp;illegal&nbsp;seafood&nbsp;into&nbsp;our&nbsp;markets.&nbsp;Illegal&nbsp;fishing&nbsp;is&nbsp;a&nbsp;top&nbsp;driver&nbsp;of&nbsp;unsustainable&nbsp;and&nbsp;environmentally&nbsp;harmful&nbsp;fishing&nbsp;practices&nbsp;around&nbsp;the&nbsp;globe,&nbsp;as&nbsp;well&nbsp;as&nbsp;associated&nbsp;human&nbsp;rights&nbsp;abuses&nbsp;in&nbsp;the&nbsp;seafood&nbsp;sector.&nbsp;The&nbsp;newly&nbsp;proposed&nbsp;changes&nbsp;to&nbsp;the&nbsp;Seafood&nbsp;Import&nbsp;Monitoring&nbsp;Program&nbsp;do&nbsp;not&nbsp;go&nbsp;far&nbsp;enough&nbsp;to&nbsp;help&nbsp;end&nbsp;the&nbsp;U.S.'s&nbsp;role&nbsp;in&nbsp;perpetuating&nbsp;human&nbsp;rights&nbsp;abuses&nbsp;and&nbsp;environmental&nbsp;destruction&nbsp;in&nbsp;the&nbsp;seafood&nbsp;industry.&nbsp;</span></td><td style=\"word-wrap: break-word\" class=\"diff_next\"><a href=\"#difflib_chg_to17__1\">n</a></td><td style=\"word-wrap: break-word\" class=\"diff_header\" id=\"to17_3\">3</td><td style=\"word-wrap: break-word\" ><span class=\"diff_add\">Eighty&nbsp;percent&nbsp;of&nbsp;the&nbsp;seafood&nbsp;sold&nbsp;in&nbsp;the&nbsp;United&nbsp;States&nbsp;is&nbsp;imported,&nbsp;making&nbsp;it&nbsp;one&nbsp;of&nbsp;the&nbsp;world’s&nbsp;most&nbsp;influential&nbsp;seafood&nbsp;markets.&nbsp;Nearly&nbsp;a&nbsp;third&nbsp;of&nbsp;the&nbsp;wild-caught&nbsp;seafood&nbsp;sold&nbsp;in&nbsp;the&nbsp;U.S.&nbsp;each&nbsp;year&nbsp;was&nbsp;caught&nbsp;through&nbsp;illegal&nbsp;or&nbsp;unreported&nbsp;practices.</span></td></tr>\n",
       "            <tr><td style=\"word-wrap: break-word\" class=\"diff_next\" id=\"difflib_chg_to17__3\"></td><td style=\"word-wrap: break-word\" class=\"diff_header\" id=\"from17_4\">4</td><td style=\"word-wrap: break-word\" ></td><td style=\"word-wrap: break-word\" class=\"diff_next\"></td><td style=\"word-wrap: break-word\" class=\"diff_header\" id=\"to17_4\">4</td><td style=\"word-wrap: break-word\" ></td></tr>\n",
       "            <tr><td style=\"word-wrap: break-word\" class=\"diff_next\"><a href=\"#difflib_chg_to17__2\">n</a></td><td style=\"word-wrap: break-word\" class=\"diff_header\" id=\"from17_5\">5</td><td style=\"word-wrap: break-word\" ><span class=\"diff_sub\">Illegal&nbsp;fishing&nbsp;is&nbsp;destroying&nbsp;our&nbsp;oceans.&nbsp;Years&nbsp;of&nbsp;overfishing&nbsp;in&nbsp;nearshore&nbsp;waters&nbsp;have&nbsp;forced&nbsp;boats&nbsp;to&nbsp;go&nbsp;into&nbsp;deeper&nbsp;waters,&nbsp;which&nbsp;makes&nbsp;fishing&nbsp;more&nbsp;expensive.&nbsp;Some&nbsp;fishers&nbsp;will&nbsp;cut&nbsp;costs&nbsp;by&nbsp;fishing&nbsp;with&nbsp;illegal&nbsp;gear,&nbsp;fishing&nbsp;in&nbsp;protected&nbsp;areas,&nbsp;or&nbsp;ignoring&nbsp;catch&nbsp;limits.&nbsp;To&nbsp;save&nbsp;on&nbsp;labor&nbsp;costs,&nbsp;some&nbsp;vessel&nbsp;owners&nbsp;rely&nbsp;on&nbsp;human&nbsp;traffickers,&nbsp;some&nbsp;even&nbsp;kidnapping&nbsp;or&nbsp;drugging&nbsp;workers&nbsp;to&nbsp;get&nbsp;them&nbsp;on&nbsp;the&nbsp;ship&nbsp;and&nbsp;cut&nbsp;off&nbsp;from&nbsp;help.&nbsp;Further,&nbsp;the&nbsp;overseas&nbsp;seafood&nbsp;processing&nbsp;industry&nbsp;is&nbsp;heavily&nbsp;reliant&nbsp;on&nbsp;forced&nbsp;labor.&nbsp;&nbsp;</span></td><td style=\"word-wrap: break-word\" class=\"diff_next\"><a href=\"#difflib_chg_to17__2\">n</a></td><td style=\"word-wrap: break-word\" class=\"diff_header\" id=\"to17_5\">5</td><td style=\"word-wrap: break-word\" ><span class=\"diff_add\">Not&nbsp;only&nbsp;does&nbsp;illegal&nbsp;fishing&nbsp;destroy&nbsp;our&nbsp;oceans&nbsp;and&nbsp;deplete&nbsp;fisheries,&nbsp;but&nbsp;it&nbsp;often&nbsp;relies&nbsp;on&nbsp;forced&nbsp;labor&nbsp;and&nbsp;leads&nbsp;to&nbsp;rampant&nbsp;human&nbsp;rights&nbsp;abuses.&nbsp;Because&nbsp;most&nbsp;U.S.&nbsp;seafood&nbsp;is&nbsp;untraceable,&nbsp;U.S.&nbsp;consumers&nbsp;are&nbsp;unwittingly&nbsp;buying&nbsp;fish&nbsp;caught&nbsp;or&nbsp;processed&nbsp;through&nbsp;forced&nbsp;labor&nbsp;or&nbsp;human&nbsp;trafficking.</span></td></tr>\n",
       "            <tr><td style=\"word-wrap: break-word\" class=\"diff_next\" id=\"difflib_chg_to17__4\"></td><td style=\"word-wrap: break-word\" class=\"diff_header\" id=\"from17_6\">6</td><td style=\"word-wrap: break-word\" ></td><td style=\"word-wrap: break-word\" class=\"diff_next\"></td><td style=\"word-wrap: break-word\" class=\"diff_header\" id=\"to17_6\">6</td><td style=\"word-wrap: break-word\" ></td></tr>\n",
       "            <tr><td style=\"word-wrap: break-word\" class=\"diff_next\"><a href=\"#difflib_chg_to17__3\">n</a></td><td style=\"word-wrap: break-word\" class=\"diff_header\" id=\"from17_7\">7</td><td style=\"word-wrap: break-word\" ><span class=\"diff_sub\">The&nbsp;U.S.&nbsp;is&nbsp;one&nbsp;of&nbsp;the&nbsp;largest&nbsp;consumers&nbsp;of&nbsp;seafood.&nbsp;Approximately&nbsp;eighty&nbsp;percent&nbsp;of&nbsp;the&nbsp;seafood&nbsp;sold&nbsp;in&nbsp;the&nbsp;U.S.&nbsp;is&nbsp;imported,&nbsp;and&nbsp;as&nbsp;much&nbsp;as&nbsp;a&nbsp;third&nbsp;of&nbsp;the&nbsp;wild-caught&nbsp;seafood&nbsp;sold&nbsp;in&nbsp;the&nbsp;United&nbsp;States&nbsp;each&nbsp;year&nbsp;is&nbsp;illegal&nbsp;or&nbsp;unreported.&nbsp;&nbsp;</span></td><td style=\"word-wrap: break-word\" class=\"diff_next\"><a href=\"#difflib_chg_to17__3\">n</a></td><td style=\"word-wrap: break-word\" class=\"diff_header\" id=\"to17_7\">7</td><td style=\"word-wrap: break-word\" ><span class=\"diff_add\">The&nbsp;newly&nbsp;proposed&nbsp;changes&nbsp;to&nbsp;the&nbsp;Seafood&nbsp;Import&nbsp;Monitoring&nbsp;Program&nbsp;do&nbsp;not&nbsp;go&nbsp;far&nbsp;enough&nbsp;to&nbsp;stop&nbsp;the&nbsp;U.S.'s&nbsp;role&nbsp;in&nbsp;perpetuating&nbsp;human&nbsp;rights&nbsp;abuses&nbsp;and&nbsp;environmental&nbsp;destruction&nbsp;in&nbsp;the&nbsp;seafood&nbsp;industry.&nbsp;</span></td></tr>\n",
       "            <tr><td style=\"word-wrap: break-word\" class=\"diff_next\"></td><td style=\"word-wrap: break-word\" class=\"diff_header\" id=\"from17_8\">8</td><td style=\"word-wrap: break-word\" ></td><td style=\"word-wrap: break-word\" class=\"diff_next\"></td><td style=\"word-wrap: break-word\" class=\"diff_header\" id=\"to17_8\">8</td><td style=\"word-wrap: break-word\" ></td></tr>\n",
       "            <tr><td style=\"word-wrap: break-word\" class=\"diff_next\"><a href=\"#difflib_chg_to17__4\">n</a></td><td style=\"word-wrap: break-word\" class=\"diff_header\" id=\"from17_9\">9</td><td style=\"word-wrap: break-word\" ><span class=\"diff_sub\">The&nbsp;U.S.&nbsp;government&nbsp;has&nbsp;a&nbsp;responsibility&nbsp;to&nbsp;fix&nbsp;these&nbsp;problems,&nbsp;and&nbsp;seafood&nbsp;traceability&nbsp;is&nbsp;an&nbsp;essential&nbsp;step&nbsp;in&nbsp;the&nbsp;fight&nbsp;to&nbsp;end&nbsp;illegal&nbsp;fishing&nbsp;and&nbsp;human&nbsp;rights&nbsp;abuses&nbsp;in&nbsp;the&nbsp;seafood&nbsp;industry.&nbsp;But&nbsp;under&nbsp;NOAA&nbsp;Fisheries’&nbsp;proposed&nbsp;rule,&nbsp;traceability&nbsp;requirements&nbsp;would&nbsp;apply&nbsp;to&nbsp;only&nbsp;half&nbsp;of&nbsp;seafood&nbsp;imports,&nbsp;leaving&nbsp;massive&nbsp;loopholes&nbsp;that&nbsp;are&nbsp;easy&nbsp;for&nbsp;bad&nbsp;actors&nbsp;to&nbsp;exploit.&nbsp;The&nbsp;proposed&nbsp;rule&nbsp;also&nbsp;fails&nbsp;to&nbsp;sufficiently&nbsp;address&nbsp;labor&nbsp;abuses&nbsp;in&nbsp;seafood&nbsp;supply&nbsp;chains,&nbsp;and&nbsp;it&nbsp;includes&nbsp;no&nbsp;commitment&nbsp;to&nbsp;improve&nbsp;enforcement&nbsp;of&nbsp;traceability&nbsp;requirements.&nbsp;</span></td><td style=\"word-wrap: break-word\" class=\"diff_next\"><a href=\"#difflib_chg_to17__4\">n</a></td><td style=\"word-wrap: break-word\" class=\"diff_header\" id=\"to17_9\">9</td><td style=\"word-wrap: break-word\" ><span class=\"diff_add\">We&nbsp;need&nbsp;an&nbsp;effective&nbsp;seafood&nbsp;traceability&nbsp;program&nbsp;to&nbsp;intercept&nbsp;the&nbsp;flow&nbsp;of&nbsp;illegal&nbsp;seafood&nbsp;into&nbsp;our&nbsp;markets.&nbsp;</span></td></tr>\n",
       "            <tr><td style=\"word-wrap: break-word\" class=\"diff_next\"></td><td style=\"word-wrap: break-word\" class=\"diff_header\" id=\"from17_10\">10</td><td style=\"word-wrap: break-word\" ></td><td style=\"word-wrap: break-word\" class=\"diff_next\"></td><td style=\"word-wrap: break-word\" class=\"diff_header\" id=\"to17_10\">10</td><td style=\"word-wrap: break-word\" ></td></tr>\n",
       "            <tr><td style=\"word-wrap: break-word\" class=\"diff_next\"><a href=\"#difflib_chg_to17__top\">t</a></td><td style=\"word-wrap: break-word\" class=\"diff_header\" id=\"from17_11\">11</td><td style=\"word-wrap: break-word\" ><span class=\"diff_sub\">Please&nbsp;revise&nbsp;the&nbsp;Seafood&nbsp;Import&nbsp;Monitoring&nbsp;Program&nbsp;proposed&nbsp;rule&nbsp;to&nbsp;adopt&nbsp;the&nbsp;strongest&nbsp;possible&nbsp;standards&nbsp;for&nbsp;seafood&nbsp;traceability&nbsp;to&nbsp;intercept&nbsp;the&nbsp;flow&nbsp;of&nbsp;illegal&nbsp;seafood&nbsp;into&nbsp;the&nbsp;U.S.&nbsp;and&nbsp;help&nbsp;consumers&nbsp;feel&nbsp;confident&nbsp;the&nbsp;seafood&nbsp;they&nbsp;buy&nbsp;is&nbsp;legally&nbsp;caught&nbsp;and&nbsp;not&nbsp;a&nbsp;product&nbsp;of&nbsp;labor&nbsp;abuses.&nbsp;Thank&nbsp;you&nbsp;for&nbsp;helping&nbsp;to&nbsp;address&nbsp;these&nbsp;environmental&nbsp;and&nbsp;human&nbsp;rights&nbsp;crimes&nbsp;with&nbsp;the&nbsp;seriousness&nbsp;they&nbsp;deserve.</span></td><td style=\"word-wrap: break-word\" class=\"diff_next\"><a href=\"#difflib_chg_to17__top\">t</a></td><td style=\"word-wrap: break-word\" class=\"diff_header\" id=\"to17_11\">11</td><td style=\"word-wrap: break-word\" ><span class=\"diff_add\">Under&nbsp;NOAA&nbsp;Fisheries’&nbsp;proposed&nbsp;rule,&nbsp;traceability&nbsp;requirements&nbsp;would&nbsp;apply&nbsp;to&nbsp;only&nbsp;half&nbsp;of&nbsp;seafood&nbsp;imports,&nbsp;It&nbsp;leaves&nbsp;loopholes&nbsp;that&nbsp;are&nbsp;easy&nbsp;to&nbsp;exploit.&nbsp;It&nbsp;also&nbsp;does&nbsp;not&nbsp;sufficiently&nbsp;address&nbsp;labor&nbsp;abuses&nbsp;in&nbsp;seafood&nbsp;supply&nbsp;chains.&nbsp;</span></td></tr>\n",
       "            <tr><td style=\"word-wrap: break-word\" class=\"diff_next\"></td><td style=\"word-wrap: break-word\" class=\"diff_header\"></td><td style=\"word-wrap: break-word\" ></td><td style=\"word-wrap: break-word\" class=\"diff_next\"></td><td style=\"word-wrap: break-word\" class=\"diff_header\" id=\"to17_12\">12</td><td style=\"word-wrap: break-word\" ><span class=\"diff_add\">&nbsp;</span></td></tr>\n",
       "            <tr><td style=\"word-wrap: break-word\" class=\"diff_next\"></td><td style=\"word-wrap: break-word\" class=\"diff_header\"></td><td style=\"word-wrap: break-word\" ></td><td style=\"word-wrap: break-word\" class=\"diff_next\"></td><td style=\"word-wrap: break-word\" class=\"diff_header\" id=\"to17_13\">13</td><td style=\"word-wrap: break-word\" ><span class=\"diff_add\">Please&nbsp;strengthen&nbsp;the&nbsp;proposed&nbsp;rules.</span></td></tr>\n",
       "            <tr><td style=\"word-wrap: break-word\" class=\"diff_next\"></td><td style=\"word-wrap: break-word\" class=\"diff_header\"></td><td style=\"word-wrap: break-word\" ></td><td style=\"word-wrap: break-word\" class=\"diff_next\"></td><td style=\"word-wrap: break-word\" class=\"diff_header\" id=\"to17_14\">14</td><td style=\"word-wrap: break-word\" ><span class=\"diff_add\">&nbsp;</span></td></tr>\n",
       "            <tr><td style=\"word-wrap: break-word\" class=\"diff_next\"></td><td style=\"word-wrap: break-word\" class=\"diff_header\"></td><td style=\"word-wrap: break-word\" ></td><td style=\"word-wrap: break-word\" class=\"diff_next\"></td><td style=\"word-wrap: break-word\" class=\"diff_header\" id=\"to17_15\">15</td><td style=\"word-wrap: break-word\" ><span class=\"diff_add\">Thank&nbsp;you</span></td></tr>\n",
       "        </tbody>\n",
       "    </table>\n",
       "    <table style=\"table-layout: fixed; width: 100%\" class=\"diff\" summary=\"Legends\">\n",
       "        <tr> <th colspan=\"2\"> Legends </th> </tr>\n",
       "        <tr> <td style=\"word-wrap: break-word\"> <table style=\"table-layout: fixed; width: 100%\" border=\"\" summary=\"Colors\">\n",
       "                      <tr><th> Colors </th> </tr>\n",
       "                      <tr><td style=\"word-wrap: break-word\" class=\"diff_add\">&nbsp;Added&nbsp;</td></tr>\n",
       "                      <tr><td style=\"word-wrap: break-word\" class=\"diff_chg\">Changed</td> </tr>\n",
       "                      <tr><td style=\"word-wrap: break-word\" class=\"diff_sub\">Deleted</td> </tr>\n",
       "                  </table></td>\n",
       "             <td style=\"word-wrap: break-word\"> <table style=\"table-layout: fixed; width: 100%\" border=\"\" summary=\"Links\">\n",
       "                      <tr><th colspan=\"2\"> Links </th> </tr>\n",
       "                      <tr><td style=\"word-wrap: break-word\">(f)irst change</td> </tr>\n",
       "                      <tr><td style=\"word-wrap: break-word\">(n)ext change</td> </tr>\n",
       "                      <tr><td style=\"word-wrap: break-word\">(t)op</td> </tr>\n",
       "                  </table></td> </tr>\n",
       "    </table>\n",
       "</body>\n",
       "\n",
       "</html>"
      ],
      "text/plain": [
       "<IPython.core.display.HTML object>"
      ]
     },
     "metadata": {},
     "output_type": "display_data"
    },
    {
     "data": {
      "text/html": [
       "\n",
       "<!DOCTYPE html PUBLIC \"-//W3C//DTD XHTML 1.0 Transitional//EN\"\n",
       "          \"http://www.w3.org/TR/xhtml1/DTD/xhtml1-transitional.dtd\">\n",
       "\n",
       "<html>\n",
       "\n",
       "<head>\n",
       "    <meta http-equiv=\"Content-Type\"\n",
       "          content=\"text/html; charset=utf-8\" />\n",
       "    <title></title>\n",
       "    <style type=\"text/css\">\n",
       "        table.diff {font-family:Courier; border:medium;}\n",
       "        .diff_header {background-color:#e0e0e0}\n",
       "        td.diff_header {text-align:right; width:1%}\n",
       "        .diff_next {background-color:#c0c0c0; width:1%}\n",
       "        .diff_add {background-color:#aaffaa}\n",
       "        .diff_chg {background-color:#ffff77}\n",
       "        .diff_sub {background-color:#ffaaaa}\n",
       "    </style>\n",
       "</head>\n",
       "\n",
       "<body>\n",
       "    \n",
       "    <table style=\"table-layout: fixed; width: 100%\" class=\"diff\" id=\"difflib_chg_to18__top\"\n",
       "           cellspacing=\"0\" cellpadding=\"0\" rules=\"groups\" >\n",
       "        <colgroup></colgroup> <colgroup></colgroup> <colgroup></colgroup>\n",
       "        <colgroup></colgroup> <colgroup></colgroup> <colgroup></colgroup>\n",
       "        \n",
       "        <tbody>\n",
       "            <tr><td style=\"word-wrap: break-word\" class=\"diff_next\" id=\"difflib_chg_to18__0\"><a href=\"#difflib_chg_to18__1\">n</a></td><td style=\"word-wrap: break-word\" class=\"diff_header\"></td><td style=\"word-wrap: break-word\" ></td><td style=\"word-wrap: break-word\" class=\"diff_next\"><a href=\"#difflib_chg_to18__1\">n</a></td><td style=\"word-wrap: break-word\" class=\"diff_header\" id=\"to18_1\">1</td><td style=\"word-wrap: break-word\" ><span class=\"diff_add\">See&nbsp;attached&nbsp;file(s)&nbsp;Tuesday,&nbsp;March&nbsp;28,&nbsp;2023</span></td></tr>\n",
       "            <tr><td style=\"word-wrap: break-word\" class=\"diff_next\"></td><td style=\"word-wrap: break-word\" class=\"diff_header\"></td><td style=\"word-wrap: break-word\" ></td><td style=\"word-wrap: break-word\" class=\"diff_next\"></td><td style=\"word-wrap: break-word\" class=\"diff_header\" id=\"to18_2\">2</td><td style=\"word-wrap: break-word\" ><span class=\"diff_add\">Rachael&nbsp;Confair</span></td></tr>\n",
       "            <tr><td style=\"word-wrap: break-word\" class=\"diff_next\"></td><td style=\"word-wrap: break-word\" class=\"diff_header\"></td><td style=\"word-wrap: break-word\" ></td><td style=\"word-wrap: break-word\" class=\"diff_next\"></td><td style=\"word-wrap: break-word\" class=\"diff_header\" id=\"to18_3\">3</td><td style=\"word-wrap: break-word\" ><span class=\"diff_add\">Office&nbsp;of&nbsp;International&nbsp;Affairs,&nbsp;Trade,&nbsp;and&nbsp;Commerce</span></td></tr>\n",
       "            <tr><td style=\"word-wrap: break-word\" class=\"diff_next\"></td><td style=\"word-wrap: break-word\" class=\"diff_header\"></td><td style=\"word-wrap: break-word\" ></td><td style=\"word-wrap: break-word\" class=\"diff_next\"></td><td style=\"word-wrap: break-word\" class=\"diff_header\" id=\"to18_4\">4</td><td style=\"word-wrap: break-word\" ><span class=\"diff_add\">National&nbsp;Marine&nbsp;Fisheries&nbsp;Service</span></td></tr>\n",
       "            <tr><td style=\"word-wrap: break-word\" class=\"diff_next\"></td><td style=\"word-wrap: break-word\" class=\"diff_header\"></td><td style=\"word-wrap: break-word\" ></td><td style=\"word-wrap: break-word\" class=\"diff_next\"></td><td style=\"word-wrap: break-word\" class=\"diff_header\" id=\"to18_5\">5</td><td style=\"word-wrap: break-word\" ><span class=\"diff_add\">1315&nbsp;East-West&nbsp;Highway&nbsp;(F/IS5)</span></td></tr>\n",
       "            <tr><td style=\"word-wrap: break-word\" class=\"diff_next\" id=\"difflib_chg_to18__1\"></td><td style=\"word-wrap: break-word\" class=\"diff_header\"></td><td style=\"word-wrap: break-word\" ></td><td style=\"word-wrap: break-word\" class=\"diff_next\"></td><td style=\"word-wrap: break-word\" class=\"diff_header\" id=\"to18_6\">6</td><td style=\"word-wrap: break-word\" ><span class=\"diff_add\">Silver&nbsp;Spring,&nbsp;MD&nbsp;20910</span></td></tr>\n",
       "            <tr><td style=\"word-wrap: break-word\" class=\"diff_next\"></td><td style=\"word-wrap: break-word\" class=\"diff_header\"></td><td style=\"word-wrap: break-word\" ></td><td style=\"word-wrap: break-word\" class=\"diff_next\"></td><td style=\"word-wrap: break-word\" class=\"diff_header\" id=\"to18_7\">7</td><td style=\"word-wrap: break-word\" ><span class=\"diff_add\">Subject:&nbsp;End&nbsp;Illegal&nbsp;Fishing&nbsp;and&nbsp;Forced&nbsp;Labor&nbsp;--&nbsp;Magnuson-Stevens&nbsp;Fishery</span></td></tr>\n",
       "            <tr><td style=\"word-wrap: break-word\" class=\"diff_next\"></td><td style=\"word-wrap: break-word\" class=\"diff_header\"></td><td style=\"word-wrap: break-word\" ></td><td style=\"word-wrap: break-word\" class=\"diff_next\"></td><td style=\"word-wrap: break-word\" class=\"diff_header\" id=\"to18_8\">8</td><td style=\"word-wrap: break-word\" ><span class=\"diff_add\">Conservation&nbsp;and&nbsp;Management&nbsp;Act:&nbsp;Seafood&nbsp;Import&nbsp;Monitoring&nbsp;Program&nbsp;(Document&nbsp;ID:</span></td></tr>\n",
       "            <tr><td style=\"word-wrap: break-word\" class=\"diff_next\"></td><td style=\"word-wrap: break-word\" class=\"diff_header\"></td><td style=\"word-wrap: break-word\" ></td><td style=\"word-wrap: break-word\" class=\"diff_next\"></td><td style=\"word-wrap: break-word\" class=\"diff_header\" id=\"to18_9\">9</td><td style=\"word-wrap: break-word\" ><span class=\"diff_add\">NOAA-NMFS-2022-0119-0001)</span></td></tr>\n",
       "            <tr><td style=\"word-wrap: break-word\" class=\"diff_next\"></td><td style=\"word-wrap: break-word\" class=\"diff_header\" id=\"from18_1\">1</td><td style=\"word-wrap: break-word\" >Dear&nbsp;NOAA&nbsp;Administrator&nbsp;Spinrad&nbsp;and&nbsp;NOAA&nbsp;Fisheries&nbsp;Assistant&nbsp;Administrator&nbsp;Coit:</td><td style=\"word-wrap: break-word\" class=\"diff_next\"></td><td style=\"word-wrap: break-word\" class=\"diff_header\" id=\"to18_10\">10</td><td style=\"word-wrap: break-word\" >Dear&nbsp;NOAA&nbsp;Administrator&nbsp;Spinrad&nbsp;and&nbsp;NOAA&nbsp;Fisheries&nbsp;Assistant&nbsp;Administrator&nbsp;Coit:</td></tr>\n",
       "            <tr><td style=\"word-wrap: break-word\" class=\"diff_next\"><a href=\"#difflib_chg_to18__top\">t</a></td><td style=\"word-wrap: break-word\" class=\"diff_header\" id=\"from18_2\">2</td><td style=\"word-wrap: break-word\" ><span class=\"diff_sub\">&nbsp;</span></td><td style=\"word-wrap: break-word\" class=\"diff_next\"><a href=\"#difflib_chg_to18__top\">t</a></td><td style=\"word-wrap: break-word\" class=\"diff_header\" id=\"to18_11\">11</td><td style=\"word-wrap: break-word\" ><span class=\"diff_add\">The&nbsp;United&nbsp;States&nbsp;needs&nbsp;an&nbsp;effective&nbsp;seafood&nbsp;traceability&nbsp;program&nbsp;to&nbsp;intercept&nbsp;the&nbsp;flow</span></td></tr>\n",
       "            <tr><td style=\"word-wrap: break-word\" class=\"diff_next\"></td><td style=\"word-wrap: break-word\" class=\"diff_header\" id=\"from18_3\">3</td><td style=\"word-wrap: break-word\" ><span class=\"diff_sub\">The&nbsp;United&nbsp;States&nbsp;needs&nbsp;an&nbsp;effective&nbsp;seafood&nbsp;traceability&nbsp;program&nbsp;to&nbsp;intercept&nbsp;the&nbsp;flow&nbsp;of&nbsp;illegal&nbsp;seafood&nbsp;into&nbsp;our&nbsp;markets.&nbsp;Illegal&nbsp;fishing&nbsp;is&nbsp;a&nbsp;top&nbsp;driver&nbsp;of&nbsp;unsustainable&nbsp;and&nbsp;environmentally&nbsp;harmful&nbsp;fishing&nbsp;practices&nbsp;around&nbsp;the&nbsp;globe,&nbsp;as&nbsp;well&nbsp;as&nbsp;associated&nbsp;human&nbsp;rights&nbsp;abuses&nbsp;in&nbsp;the&nbsp;seafood&nbsp;sector.&nbsp;The&nbsp;newly&nbsp;proposed&nbsp;changes&nbsp;to&nbsp;the&nbsp;Seafood&nbsp;Import&nbsp;Monitoring&nbsp;Program&nbsp;do&nbsp;not&nbsp;go&nbsp;far&nbsp;enough&nbsp;to&nbsp;help&nbsp;end&nbsp;the&nbsp;U.S.'s&nbsp;role&nbsp;in&nbsp;perpetuating&nbsp;human&nbsp;rights&nbsp;abuses&nbsp;and&nbsp;environmental&nbsp;destruction&nbsp;in&nbsp;the&nbsp;seafood&nbsp;industry.&nbsp;</span></td><td style=\"word-wrap: break-word\" class=\"diff_next\"></td><td style=\"word-wrap: break-word\" class=\"diff_header\" id=\"to18_12\">12</td><td style=\"word-wrap: break-word\" ><span class=\"diff_add\">of&nbsp;illegal&nbsp;seafood&nbsp;into&nbsp;our&nbsp;markets.&nbsp;Illegal&nbsp;fishing&nbsp;is&nbsp;a&nbsp;top&nbsp;driver&nbsp;of&nbsp;unsustainable&nbsp;and</span></td></tr>\n",
       "            <tr><td style=\"word-wrap: break-word\" class=\"diff_next\"></td><td style=\"word-wrap: break-word\" class=\"diff_header\" id=\"from18_4\">4</td><td style=\"word-wrap: break-word\" ><span class=\"diff_sub\">&nbsp;</span></td><td style=\"word-wrap: break-word\" class=\"diff_next\"></td><td style=\"word-wrap: break-word\" class=\"diff_header\" id=\"to18_13\">13</td><td style=\"word-wrap: break-word\" ><span class=\"diff_add\">environmentally&nbsp;harmful&nbsp;fishing&nbsp;practices&nbsp;around&nbsp;the&nbsp;globe,&nbsp;as&nbsp;well&nbsp;as&nbsp;associated</span></td></tr>\n",
       "            <tr><td style=\"word-wrap: break-word\" class=\"diff_next\"></td><td style=\"word-wrap: break-word\" class=\"diff_header\" id=\"from18_5\">5</td><td style=\"word-wrap: break-word\" ><span class=\"diff_sub\">Illegal&nbsp;fishing&nbsp;is&nbsp;destroying&nbsp;our&nbsp;oceans.&nbsp;Years&nbsp;of&nbsp;overfishing&nbsp;in&nbsp;nearshore&nbsp;waters&nbsp;have&nbsp;forced&nbsp;boats&nbsp;to&nbsp;go&nbsp;into&nbsp;deeper&nbsp;waters,&nbsp;which&nbsp;makes&nbsp;fishing&nbsp;more&nbsp;expensive.&nbsp;Some&nbsp;fishers&nbsp;will&nbsp;cut&nbsp;costs&nbsp;by&nbsp;fishing&nbsp;with&nbsp;illegal&nbsp;gear,&nbsp;fishing&nbsp;in&nbsp;protected&nbsp;areas,&nbsp;or&nbsp;ignoring&nbsp;catch&nbsp;limits.&nbsp;To&nbsp;save&nbsp;on&nbsp;labor&nbsp;costs,&nbsp;some&nbsp;vessel&nbsp;owners&nbsp;rely&nbsp;on&nbsp;human&nbsp;traffickers,&nbsp;some&nbsp;even&nbsp;kidnapping&nbsp;or&nbsp;drugging&nbsp;workers&nbsp;to&nbsp;get&nbsp;them&nbsp;on&nbsp;the&nbsp;ship&nbsp;and&nbsp;cut&nbsp;off&nbsp;from&nbsp;help.&nbsp;Further,&nbsp;the&nbsp;overseas&nbsp;seafood&nbsp;processing&nbsp;industry&nbsp;is&nbsp;heavily&nbsp;reliant&nbsp;on&nbsp;forced&nbsp;labor.&nbsp;&nbsp;</span></td><td style=\"word-wrap: break-word\" class=\"diff_next\"></td><td style=\"word-wrap: break-word\" class=\"diff_header\" id=\"to18_14\">14</td><td style=\"word-wrap: break-word\" ><span class=\"diff_add\">human&nbsp;rights&nbsp;abuses&nbsp;in&nbsp;the&nbsp;seafood&nbsp;sector.&nbsp;Disappointingly,&nbsp;the&nbsp;newly&nbsp;proposed</span></td></tr>\n",
       "            <tr><td style=\"word-wrap: break-word\" class=\"diff_next\"></td><td style=\"word-wrap: break-word\" class=\"diff_header\" id=\"from18_6\">6</td><td style=\"word-wrap: break-word\" ><span class=\"diff_sub\">&nbsp;</span></td><td style=\"word-wrap: break-word\" class=\"diff_next\"></td><td style=\"word-wrap: break-word\" class=\"diff_header\" id=\"to18_15\">15</td><td style=\"word-wrap: break-word\" ><span class=\"diff_add\">changes&nbsp;to&nbsp;the&nbsp;Seafood&nbsp;Import&nbsp;Monitoring&nbsp;Program&nbsp;(SIMP)&nbsp;do&nbsp;not&nbsp;go&nbsp;far&nbsp;enough&nbsp;to&nbsp;help</span></td></tr>\n",
       "            <tr><td style=\"word-wrap: break-word\" class=\"diff_next\"></td><td style=\"word-wrap: break-word\" class=\"diff_header\" id=\"from18_7\">7</td><td style=\"word-wrap: break-word\" ><span class=\"diff_sub\">The&nbsp;U.S.&nbsp;is&nbsp;one&nbsp;of&nbsp;the&nbsp;largest&nbsp;consumers&nbsp;of&nbsp;seafood.&nbsp;Approximately&nbsp;eighty&nbsp;percent&nbsp;of&nbsp;the&nbsp;seafood&nbsp;sold&nbsp;in&nbsp;the&nbsp;U.S.&nbsp;is&nbsp;imported,&nbsp;and&nbsp;as&nbsp;much&nbsp;as&nbsp;a&nbsp;third&nbsp;of&nbsp;the&nbsp;wild-caught&nbsp;seafood&nbsp;sold&nbsp;in&nbsp;the&nbsp;United&nbsp;States&nbsp;each&nbsp;year&nbsp;is&nbsp;illegal&nbsp;or&nbsp;unreported.&nbsp;&nbsp;</span></td><td style=\"word-wrap: break-word\" class=\"diff_next\"></td><td style=\"word-wrap: break-word\" class=\"diff_header\" id=\"to18_16\">16</td><td style=\"word-wrap: break-word\" ><span class=\"diff_add\">end&nbsp;the&nbsp;U.S.'s&nbsp;role&nbsp;in&nbsp;perpetuating&nbsp;human&nbsp;rights&nbsp;abuses&nbsp;and&nbsp;environmental&nbsp;destruction</span></td></tr>\n",
       "            <tr><td style=\"word-wrap: break-word\" class=\"diff_next\"></td><td style=\"word-wrap: break-word\" class=\"diff_header\" id=\"from18_8\">8</td><td style=\"word-wrap: break-word\" ><span class=\"diff_sub\">&nbsp;</span></td><td style=\"word-wrap: break-word\" class=\"diff_next\"></td><td style=\"word-wrap: break-word\" class=\"diff_header\" id=\"to18_17\">17</td><td style=\"word-wrap: break-word\" ><span class=\"diff_add\">in&nbsp;the&nbsp;seafood&nbsp;industry.</span></td></tr>\n",
       "            <tr><td style=\"word-wrap: break-word\" class=\"diff_next\"></td><td style=\"word-wrap: break-word\" class=\"diff_header\" id=\"from18_9\">9</td><td style=\"word-wrap: break-word\" ><span class=\"diff_sub\">The&nbsp;U.S.&nbsp;government&nbsp;has&nbsp;a&nbsp;responsibility&nbsp;to&nbsp;fix&nbsp;these&nbsp;problems,&nbsp;and&nbsp;seafood&nbsp;traceability&nbsp;is&nbsp;an&nbsp;essential&nbsp;step&nbsp;in&nbsp;the&nbsp;fight&nbsp;to&nbsp;end&nbsp;illegal&nbsp;fishing&nbsp;and&nbsp;human&nbsp;rights&nbsp;abuses&nbsp;in&nbsp;the&nbsp;seafood&nbsp;industry.&nbsp;But&nbsp;under&nbsp;NOAA&nbsp;Fisheries’&nbsp;proposed&nbsp;rule,&nbsp;traceability&nbsp;requirements&nbsp;would&nbsp;apply&nbsp;to&nbsp;only&nbsp;half&nbsp;of&nbsp;seafood&nbsp;imports,&nbsp;leaving&nbsp;massive&nbsp;loopholes&nbsp;that&nbsp;are&nbsp;easy&nbsp;for&nbsp;bad&nbsp;actors&nbsp;to&nbsp;exploit.&nbsp;The&nbsp;proposed&nbsp;rule&nbsp;also&nbsp;fails&nbsp;to&nbsp;sufficiently&nbsp;address&nbsp;labor&nbsp;abuses&nbsp;in&nbsp;seafood&nbsp;supply&nbsp;chains,&nbsp;and&nbsp;it&nbsp;includes&nbsp;no&nbsp;commitment&nbsp;to&nbsp;improve&nbsp;enforcement&nbsp;of&nbsp;traceability&nbsp;requirements.&nbsp;</span></td><td style=\"word-wrap: break-word\" class=\"diff_next\"></td><td style=\"word-wrap: break-word\" class=\"diff_header\" id=\"to18_18\">18</td><td style=\"word-wrap: break-word\" ><span class=\"diff_add\">“It&nbsp;is&nbsp;horrifying&nbsp;that&nbsp;we&nbsp;have&nbsp;to&nbsp;fight&nbsp;our&nbsp;own&nbsp;government&nbsp;to&nbsp;save&nbsp;the&nbsp;environment.”</span></td></tr>\n",
       "            <tr><td style=\"word-wrap: break-word\" class=\"diff_next\"></td><td style=\"word-wrap: break-word\" class=\"diff_header\" id=\"from18_10\">10</td><td style=\"word-wrap: break-word\" ><span class=\"diff_sub\">&nbsp;</span></td><td style=\"word-wrap: break-word\" class=\"diff_next\"></td><td style=\"word-wrap: break-word\" class=\"diff_header\" id=\"to18_19\">19</td><td style=\"word-wrap: break-word\" ><span class=\"diff_add\">--&nbsp;Ansel&nbsp;Adams</span></td></tr>\n",
       "            <tr><td style=\"word-wrap: break-word\" class=\"diff_next\"></td><td style=\"word-wrap: break-word\" class=\"diff_header\" id=\"from18_11\">11</td><td style=\"word-wrap: break-word\" ><span class=\"diff_sub\">Please&nbsp;revise&nbsp;the&nbsp;Seafood&nbsp;Import&nbsp;Monitoring&nbsp;Program&nbsp;proposed&nbsp;rule&nbsp;to&nbsp;adopt&nbsp;the&nbsp;strongest&nbsp;possible&nbsp;standards&nbsp;for&nbsp;seafood&nbsp;traceability&nbsp;to&nbsp;intercept&nbsp;the&nbsp;flow&nbsp;of&nbsp;illegal&nbsp;seafood&nbsp;into&nbsp;the&nbsp;U.S.&nbsp;and&nbsp;help&nbsp;consumers&nbsp;feel&nbsp;confident&nbsp;the&nbsp;seafood&nbsp;they&nbsp;buy&nbsp;is&nbsp;legally&nbsp;caught&nbsp;and&nbsp;not&nbsp;a&nbsp;product&nbsp;of&nbsp;labor&nbsp;abuses.&nbsp;Thank&nbsp;you&nbsp;for&nbsp;helping&nbsp;to&nbsp;address&nbsp;these&nbsp;environmental&nbsp;and&nbsp;human&nbsp;rights&nbsp;crimes&nbsp;with&nbsp;the&nbsp;seriousness&nbsp;they&nbsp;deserve.</span></td><td style=\"word-wrap: break-word\" class=\"diff_next\"></td><td style=\"word-wrap: break-word\" class=\"diff_header\" id=\"to18_20\">20</td><td style=\"word-wrap: break-word\" ><span class=\"diff_add\">Illegal&nbsp;fishing&nbsp;is&nbsp;destroying&nbsp;our&nbsp;oceans.&nbsp;Years&nbsp;of&nbsp;overfishing&nbsp;in&nbsp;nearshore&nbsp;waters&nbsp;have</span></td></tr>\n",
       "            <tr><td style=\"word-wrap: break-word\" class=\"diff_next\"></td><td style=\"word-wrap: break-word\" class=\"diff_header\"></td><td style=\"word-wrap: break-word\" ></td><td style=\"word-wrap: break-word\" class=\"diff_next\"></td><td style=\"word-wrap: break-word\" class=\"diff_header\" id=\"to18_21\">21</td><td style=\"word-wrap: break-word\" ><span class=\"diff_add\">forced&nbsp;boats&nbsp;to&nbsp;go&nbsp;into&nbsp;deeper&nbsp;waters,&nbsp;which&nbsp;makes&nbsp;fishing&nbsp;more&nbsp;expensive.&nbsp;Some</span></td></tr>\n",
       "            <tr><td style=\"word-wrap: break-word\" class=\"diff_next\"></td><td style=\"word-wrap: break-word\" class=\"diff_header\"></td><td style=\"word-wrap: break-word\" ></td><td style=\"word-wrap: break-word\" class=\"diff_next\"></td><td style=\"word-wrap: break-word\" class=\"diff_header\" id=\"to18_22\">22</td><td style=\"word-wrap: break-word\" ><span class=\"diff_add\">fishers&nbsp;will&nbsp;cut&nbsp;costs&nbsp;by&nbsp;fishing&nbsp;with&nbsp;illegal&nbsp;gear,&nbsp;fishing&nbsp;in&nbsp;protected&nbsp;areas,&nbsp;or&nbsp;ignoring</span></td></tr>\n",
       "            <tr><td style=\"word-wrap: break-word\" class=\"diff_next\"></td><td style=\"word-wrap: break-word\" class=\"diff_header\"></td><td style=\"word-wrap: break-word\" ></td><td style=\"word-wrap: break-word\" class=\"diff_next\"></td><td style=\"word-wrap: break-word\" class=\"diff_header\" id=\"to18_23\">23</td><td style=\"word-wrap: break-word\" ><span class=\"diff_add\">catch&nbsp;limits.&nbsp;To&nbsp;save&nbsp;on&nbsp;labor&nbsp;costs,&nbsp;some&nbsp;vessel&nbsp;owners&nbsp;rely&nbsp;on&nbsp;human&nbsp;traffickers,</span></td></tr>\n",
       "            <tr><td style=\"word-wrap: break-word\" class=\"diff_next\"></td><td style=\"word-wrap: break-word\" class=\"diff_header\"></td><td style=\"word-wrap: break-word\" ></td><td style=\"word-wrap: break-word\" class=\"diff_next\"></td><td style=\"word-wrap: break-word\" class=\"diff_header\" id=\"to18_24\">24</td><td style=\"word-wrap: break-word\" ><span class=\"diff_add\">some&nbsp;even&nbsp;kidnapping&nbsp;or&nbsp;drugging&nbsp;workers&nbsp;to&nbsp;get&nbsp;them&nbsp;on&nbsp;the&nbsp;ship&nbsp;and&nbsp;cut&nbsp;off&nbsp;from</span></td></tr>\n",
       "            <tr><td style=\"word-wrap: break-word\" class=\"diff_next\"></td><td style=\"word-wrap: break-word\" class=\"diff_header\"></td><td style=\"word-wrap: break-word\" ></td><td style=\"word-wrap: break-word\" class=\"diff_next\"></td><td style=\"word-wrap: break-word\" class=\"diff_header\" id=\"to18_25\">25</td><td style=\"word-wrap: break-word\" ><span class=\"diff_add\">help.&nbsp;Further,&nbsp;the&nbsp;overseas&nbsp;seafood&nbsp;processing&nbsp;industry&nbsp;is&nbsp;heavily&nbsp;reliant&nbsp;on&nbsp;forced</span></td></tr>\n",
       "            <tr><td style=\"word-wrap: break-word\" class=\"diff_next\"></td><td style=\"word-wrap: break-word\" class=\"diff_header\"></td><td style=\"word-wrap: break-word\" ></td><td style=\"word-wrap: break-word\" class=\"diff_next\"></td><td style=\"word-wrap: break-word\" class=\"diff_header\" id=\"to18_26\">26</td><td style=\"word-wrap: break-word\" ><span class=\"diff_add\">labor.</span></td></tr>\n",
       "            <tr><td style=\"word-wrap: break-word\" class=\"diff_next\"></td><td style=\"word-wrap: break-word\" class=\"diff_header\"></td><td style=\"word-wrap: break-word\" ></td><td style=\"word-wrap: break-word\" class=\"diff_next\"></td><td style=\"word-wrap: break-word\" class=\"diff_header\" id=\"to18_27\">27</td><td style=\"word-wrap: break-word\" ><span class=\"diff_add\">I&nbsp;strongly&nbsp;encourage&nbsp;the&nbsp;National&nbsp;Marine&nbsp;Fisheries&nbsp;Service&nbsp;(NMFS)&nbsp;to&nbsp;expand&nbsp;and</span></td></tr>\n",
       "            <tr><td style=\"word-wrap: break-word\" class=\"diff_next\"></td><td style=\"word-wrap: break-word\" class=\"diff_header\"></td><td style=\"word-wrap: break-word\" ></td><td style=\"word-wrap: break-word\" class=\"diff_next\"></td><td style=\"word-wrap: break-word\" class=\"diff_header\" id=\"to18_28\">28</td><td style=\"word-wrap: break-word\" ><span class=\"diff_add\">improve&nbsp;the&nbsp;Seafood&nbsp;Import&nbsp;Monitoring&nbsp;Program.&nbsp;The&nbsp;NMFS&nbsp;must&nbsp;expand&nbsp;SIMP&nbsp;to&nbsp;all</span></td></tr>\n",
       "            <tr><td style=\"word-wrap: break-word\" class=\"diff_next\"></td><td style=\"word-wrap: break-word\" class=\"diff_header\"></td><td style=\"word-wrap: break-word\" ></td><td style=\"word-wrap: break-word\" class=\"diff_next\"></td><td style=\"word-wrap: break-word\" class=\"diff_header\" id=\"to18_29\">29</td><td style=\"word-wrap: break-word\" ><span class=\"diff_add\">seafood&nbsp;to&nbsp;ensure&nbsp;the&nbsp;United&nbsp;States&nbsp;is&nbsp;only&nbsp;importing&nbsp;seafood&nbsp;that&nbsp;is&nbsp;safe,&nbsp;legally</span></td></tr>\n",
       "            <tr><td style=\"word-wrap: break-word\" class=\"diff_next\"></td><td style=\"word-wrap: break-word\" class=\"diff_header\"></td><td style=\"word-wrap: break-word\" ></td><td style=\"word-wrap: break-word\" class=\"diff_next\"></td><td style=\"word-wrap: break-word\" class=\"diff_header\" id=\"to18_30\">30</td><td style=\"word-wrap: break-word\" ><span class=\"diff_add\">caught,&nbsp;responsibly&nbsp;sourced,&nbsp;and&nbsp;honestly&nbsp;labeled.&nbsp;The&nbsp;U.S.&nbsp;is&nbsp;one&nbsp;of&nbsp;the&nbsp;world’s</span></td></tr>\n",
       "            <tr><td style=\"word-wrap: break-word\" class=\"diff_next\"></td><td style=\"word-wrap: break-word\" class=\"diff_header\"></td><td style=\"word-wrap: break-word\" ></td><td style=\"word-wrap: break-word\" class=\"diff_next\"></td><td style=\"word-wrap: break-word\" class=\"diff_header\" id=\"to18_31\">31</td><td style=\"word-wrap: break-word\" ><span class=\"diff_add\">largest&nbsp;seafood&nbsp;importing&nbsp;countries.&nbsp;Up&nbsp;to&nbsp;85%&nbsp;of&nbsp;the&nbsp;seafood&nbsp;consumed&nbsp;in&nbsp;the&nbsp;United</span></td></tr>\n",
       "            <tr><td style=\"word-wrap: break-word\" class=\"diff_next\"></td><td style=\"word-wrap: break-word\" class=\"diff_header\"></td><td style=\"word-wrap: break-word\" ></td><td style=\"word-wrap: break-word\" class=\"diff_next\"></td><td style=\"word-wrap: break-word\" class=\"diff_header\" id=\"to18_32\">32</td><td style=\"word-wrap: break-word\" ><span class=\"diff_add\">States&nbsp;is&nbsp;imported,&nbsp;and&nbsp;as&nbsp;much&nbsp;as&nbsp;a&nbsp;third&nbsp;of&nbsp;the&nbsp;wild-caught&nbsp;seafood&nbsp;sold&nbsp;in&nbsp;the&nbsp;United</span></td></tr>\n",
       "            <tr><td style=\"word-wrap: break-word\" class=\"diff_next\"></td><td style=\"word-wrap: break-word\" class=\"diff_header\"></td><td style=\"word-wrap: break-word\" ></td><td style=\"word-wrap: break-word\" class=\"diff_next\"></td><td style=\"word-wrap: break-word\" class=\"diff_header\" id=\"to18_33\">33</td><td style=\"word-wrap: break-word\" ><span class=\"diff_add\">States&nbsp;each&nbsp;year&nbsp;is&nbsp;illegal&nbsp;or&nbsp;unreported.&nbsp;The&nbsp;federal&nbsp;government&nbsp;has&nbsp;a&nbsp;responsibility&nbsp;to</span></td></tr>\n",
       "            <tr><td style=\"word-wrap: break-word\" class=\"diff_next\"></td><td style=\"word-wrap: break-word\" class=\"diff_header\"></td><td style=\"word-wrap: break-word\" ></td><td style=\"word-wrap: break-word\" class=\"diff_next\"></td><td style=\"word-wrap: break-word\" class=\"diff_header\" id=\"to18_34\">34</td><td style=\"word-wrap: break-word\" ><span class=\"diff_add\">ensure&nbsp;that&nbsp;the&nbsp;seafood&nbsp;products&nbsp;reaching&nbsp;our&nbsp;plates&nbsp;are&nbsp;not&nbsp;sourced&nbsp;from&nbsp;illegal,</span></td></tr>\n",
       "            <tr><td style=\"word-wrap: break-word\" class=\"diff_next\"></td><td style=\"word-wrap: break-word\" class=\"diff_header\"></td><td style=\"word-wrap: break-word\" ></td><td style=\"word-wrap: break-word\" class=\"diff_next\"></td><td style=\"word-wrap: break-word\" class=\"diff_header\" id=\"to18_35\">35</td><td style=\"word-wrap: break-word\" ><span class=\"diff_add\">unreported,&nbsp;and&nbsp;unregulated&nbsp;(IUU)&nbsp;fishing&nbsp;or&nbsp;products&nbsp;of&nbsp;forced&nbsp;labor.&nbsp;In&nbsp;2019&nbsp;alone,&nbsp;the</span></td></tr>\n",
       "            <tr><td style=\"word-wrap: break-word\" class=\"diff_next\"></td><td style=\"word-wrap: break-word\" class=\"diff_header\"></td><td style=\"word-wrap: break-word\" ></td><td style=\"word-wrap: break-word\" class=\"diff_next\"></td><td style=\"word-wrap: break-word\" class=\"diff_header\" id=\"to18_36\">36</td><td style=\"word-wrap: break-word\" ><span class=\"diff_add\">U.S.&nbsp;imported&nbsp;$2.4&nbsp;billion&nbsp;worth&nbsp;of&nbsp;seafood&nbsp;that&nbsp;were&nbsp;products&nbsp;of&nbsp;IUU&nbsp;fishing.&nbsp;Globally,</span></td></tr>\n",
       "            <tr><td style=\"word-wrap: break-word\" class=\"diff_next\"></td><td style=\"word-wrap: break-word\" class=\"diff_header\"></td><td style=\"word-wrap: break-word\" ></td><td style=\"word-wrap: break-word\" class=\"diff_next\"></td><td style=\"word-wrap: break-word\" class=\"diff_header\" id=\"to18_37\">37</td><td style=\"word-wrap: break-word\" ><span class=\"diff_add\">IUU&nbsp;fishing&nbsp;is&nbsp;estimated&nbsp;to&nbsp;cause&nbsp;economic&nbsp;losses&nbsp;of&nbsp;$25&nbsp;billion&nbsp;to&nbsp;$50&nbsp;billion&nbsp;per&nbsp;year.</span></td></tr>\n",
       "            <tr><td style=\"word-wrap: break-word\" class=\"diff_next\"></td><td style=\"word-wrap: break-word\" class=\"diff_header\"></td><td style=\"word-wrap: break-word\" ></td><td style=\"word-wrap: break-word\" class=\"diff_next\"></td><td style=\"word-wrap: break-word\" class=\"diff_header\" id=\"to18_38\">38</td><td style=\"word-wrap: break-word\" ><span class=\"diff_add\">IUU&nbsp;fishing&nbsp;is&nbsp;a&nbsp;threat&nbsp;to&nbsp;the&nbsp;health&nbsp;of&nbsp;the&nbsp;oceans&nbsp;and&nbsp;fisheries,&nbsp;the&nbsp;livelihoods&nbsp;of&nbsp;honest</span></td></tr>\n",
       "            <tr><td style=\"word-wrap: break-word\" class=\"diff_next\"></td><td style=\"word-wrap: break-word\" class=\"diff_header\"></td><td style=\"word-wrap: break-word\" ></td><td style=\"word-wrap: break-word\" class=\"diff_next\"></td><td style=\"word-wrap: break-word\" class=\"diff_header\" id=\"to18_39\">39</td><td style=\"word-wrap: break-word\" ><span class=\"diff_add\">fishers,&nbsp;national&nbsp;security,&nbsp;and&nbsp;global&nbsp;food&nbsp;security.</span></td></tr>\n",
       "            <tr><td style=\"word-wrap: break-word\" class=\"diff_next\"></td><td style=\"word-wrap: break-word\" class=\"diff_header\"></td><td style=\"word-wrap: break-word\" ></td><td style=\"word-wrap: break-word\" class=\"diff_next\"></td><td style=\"word-wrap: break-word\" class=\"diff_header\" id=\"to18_40\">40</td><td style=\"word-wrap: break-word\" ><span class=\"diff_add\">“As&nbsp;we&nbsp;peer&nbsp;into&nbsp;society’s&nbsp;future,&nbsp;we—you&nbsp;and&nbsp;I,&nbsp;and&nbsp;our&nbsp;government—must&nbsp;avoid</span></td></tr>\n",
       "            <tr><td style=\"word-wrap: break-word\" class=\"diff_next\"></td><td style=\"word-wrap: break-word\" class=\"diff_header\"></td><td style=\"word-wrap: break-word\" ></td><td style=\"word-wrap: break-word\" class=\"diff_next\"></td><td style=\"word-wrap: break-word\" class=\"diff_header\" id=\"to18_41\">41</td><td style=\"word-wrap: break-word\" ><span class=\"diff_add\">the&nbsp;impulse&nbsp;to&nbsp;live&nbsp;only&nbsp;for&nbsp;today,&nbsp;plundering&nbsp;for&nbsp;our&nbsp;own&nbsp;ease&nbsp;and&nbsp;convenience&nbsp;the</span></td></tr>\n",
       "            <tr><td style=\"word-wrap: break-word\" class=\"diff_next\"></td><td style=\"word-wrap: break-word\" class=\"diff_header\"></td><td style=\"word-wrap: break-word\" ></td><td style=\"word-wrap: break-word\" class=\"diff_next\"></td><td style=\"word-wrap: break-word\" class=\"diff_header\" id=\"to18_42\">42</td><td style=\"word-wrap: break-word\" ><span class=\"diff_add\">precious&nbsp;resources&nbsp;of&nbsp;tomorrow.&nbsp;We&nbsp;cannot&nbsp;mortgage&nbsp;the&nbsp;material&nbsp;assets&nbsp;of&nbsp;our</span></td></tr>\n",
       "            <tr><td style=\"word-wrap: break-word\" class=\"diff_next\"></td><td style=\"word-wrap: break-word\" class=\"diff_header\"></td><td style=\"word-wrap: break-word\" ></td><td style=\"word-wrap: break-word\" class=\"diff_next\"></td><td style=\"word-wrap: break-word\" class=\"diff_header\" id=\"to18_43\">43</td><td style=\"word-wrap: break-word\" ><span class=\"diff_add\">grandchildren&nbsp;without&nbsp;risking&nbsp;the&nbsp;loss&nbsp;also&nbsp;of&nbsp;their&nbsp;political&nbsp;and&nbsp;spiritual&nbsp;heritage.&nbsp;We</span></td></tr>\n",
       "            <tr><td style=\"word-wrap: break-word\" class=\"diff_next\"></td><td style=\"word-wrap: break-word\" class=\"diff_header\"></td><td style=\"word-wrap: break-word\" ></td><td style=\"word-wrap: break-word\" class=\"diff_next\"></td><td style=\"word-wrap: break-word\" class=\"diff_header\" id=\"to18_44\">44</td><td style=\"word-wrap: break-word\" ><span class=\"diff_add\">want&nbsp;democracy&nbsp;to&nbsp;survive&nbsp;for&nbsp;all&nbsp;generations&nbsp;to&nbsp;come,&nbsp;not&nbsp;to&nbsp;become&nbsp;the&nbsp;insolvent</span></td></tr>\n",
       "            <tr><td style=\"word-wrap: break-word\" class=\"diff_next\"></td><td style=\"word-wrap: break-word\" class=\"diff_header\"></td><td style=\"word-wrap: break-word\" ></td><td style=\"word-wrap: break-word\" class=\"diff_next\"></td><td style=\"word-wrap: break-word\" class=\"diff_header\" id=\"to18_45\">45</td><td style=\"word-wrap: break-word\" ><span class=\"diff_add\">phantom&nbsp;of&nbsp;tomorrow.”</span></td></tr>\n",
       "            <tr><td style=\"word-wrap: break-word\" class=\"diff_next\"></td><td style=\"word-wrap: break-word\" class=\"diff_header\"></td><td style=\"word-wrap: break-word\" ></td><td style=\"word-wrap: break-word\" class=\"diff_next\"></td><td style=\"word-wrap: break-word\" class=\"diff_header\" id=\"to18_46\">46</td><td style=\"word-wrap: break-word\" ><span class=\"diff_add\">--&nbsp;Dwight&nbsp;D.&nbsp;Eisenhower</span></td></tr>\n",
       "            <tr><td style=\"word-wrap: break-word\" class=\"diff_next\"></td><td style=\"word-wrap: break-word\" class=\"diff_header\"></td><td style=\"word-wrap: break-word\" ></td><td style=\"word-wrap: break-word\" class=\"diff_next\"></td><td style=\"word-wrap: break-word\" class=\"diff_header\" id=\"to18_47\">47</td><td style=\"word-wrap: break-word\" ><span class=\"diff_add\">SIMP&nbsp;requires&nbsp;catch&nbsp;documentation&nbsp;for&nbsp;covered&nbsp;species&nbsp;and&nbsp;traceability&nbsp;from&nbsp;the&nbsp;boat</span></td></tr>\n",
       "            <tr><td style=\"word-wrap: break-word\" class=\"diff_next\"></td><td style=\"word-wrap: break-word\" class=\"diff_header\"></td><td style=\"word-wrap: break-word\" ></td><td style=\"word-wrap: break-word\" class=\"diff_next\"></td><td style=\"word-wrap: break-word\" class=\"diff_header\" id=\"to18_48\">48</td><td style=\"word-wrap: break-word\" ><span class=\"diff_add\">(or&nbsp;aquaculture&nbsp;farm)&nbsp;to&nbsp;the&nbsp;U.S.&nbsp;border.&nbsp;SIMP&nbsp;reporting&nbsp;requirements&nbsp;include&nbsp;the</span></td></tr>\n",
       "            <tr><td style=\"word-wrap: break-word\" class=\"diff_next\"></td><td style=\"word-wrap: break-word\" class=\"diff_header\"></td><td style=\"word-wrap: break-word\" ></td><td style=\"word-wrap: break-word\" class=\"diff_next\"></td><td style=\"word-wrap: break-word\" class=\"diff_header\" id=\"to18_49\">49</td><td style=\"word-wrap: break-word\" ><span class=\"diff_add\">following:&nbsp;species&nbsp;of&nbsp;fish;&nbsp;where,&nbsp;when,&nbsp;and&nbsp;how&nbsp;it&nbsp;was&nbsp;caught;&nbsp;and&nbsp;who&nbsp;caught&nbsp;it.&nbsp;The</span></td></tr>\n",
       "            <tr><td style=\"word-wrap: break-word\" class=\"diff_next\"></td><td style=\"word-wrap: break-word\" class=\"diff_header\"></td><td style=\"word-wrap: break-word\" ></td><td style=\"word-wrap: break-word\" class=\"diff_next\"></td><td style=\"word-wrap: break-word\" class=\"diff_header\" id=\"to18_50\">50</td><td style=\"word-wrap: break-word\" ><span class=\"diff_add\">NMFS’s&nbsp;proposed&nbsp;rule&nbsp;to&nbsp;expand&nbsp;and&nbsp;improve&nbsp;SIMP&nbsp;has&nbsp;the&nbsp;potential&nbsp;to&nbsp;improve</span></td></tr>\n",
       "            <tr><td style=\"word-wrap: break-word\" class=\"diff_next\"></td><td style=\"word-wrap: break-word\" class=\"diff_header\"></td><td style=\"word-wrap: break-word\" ></td><td style=\"word-wrap: break-word\" class=\"diff_next\"></td><td style=\"word-wrap: break-word\" class=\"diff_header\" id=\"to18_51\">51</td><td style=\"word-wrap: break-word\" ><span class=\"diff_add\">traceability&nbsp;of&nbsp;our&nbsp;seafood&nbsp;through&nbsp;global&nbsp;supply&nbsp;chains&nbsp;and&nbsp;protect&nbsp;American</span></td></tr>\n",
       "            <tr><td style=\"word-wrap: break-word\" class=\"diff_next\"></td><td style=\"word-wrap: break-word\" class=\"diff_header\"></td><td style=\"word-wrap: break-word\" ></td><td style=\"word-wrap: break-word\" class=\"diff_next\"></td><td style=\"word-wrap: break-word\" class=\"diff_header\" id=\"to18_52\">52</td><td style=\"word-wrap: break-word\" ><span class=\"diff_add\">consumers&nbsp;and&nbsp;fishers,&nbsp;but&nbsp;only&nbsp;if&nbsp;it&nbsp;is&nbsp;expanded&nbsp;further&nbsp;to&nbsp;include&nbsp;all&nbsp;seafood&nbsp;imports.</span></td></tr>\n",
       "            <tr><td style=\"word-wrap: break-word\" class=\"diff_next\"></td><td style=\"word-wrap: break-word\" class=\"diff_header\"></td><td style=\"word-wrap: break-word\" ></td><td style=\"word-wrap: break-word\" class=\"diff_next\"></td><td style=\"word-wrap: break-word\" class=\"diff_header\" id=\"to18_53\">53</td><td style=\"word-wrap: break-word\" ><span class=\"diff_add\">Unfortunately,&nbsp;under&nbsp;the&nbsp;NMFS’&nbsp;proposed&nbsp;rule,&nbsp;traceability&nbsp;requirements&nbsp;would&nbsp;apply&nbsp;to</span></td></tr>\n",
       "            <tr><td style=\"word-wrap: break-word\" class=\"diff_next\"></td><td style=\"word-wrap: break-word\" class=\"diff_header\"></td><td style=\"word-wrap: break-word\" ></td><td style=\"word-wrap: break-word\" class=\"diff_next\"></td><td style=\"word-wrap: break-word\" class=\"diff_header\" id=\"to18_54\">54</td><td style=\"word-wrap: break-word\" ><span class=\"diff_add\">only&nbsp;half&nbsp;of&nbsp;seafood&nbsp;imports,&nbsp;leaving&nbsp;massive&nbsp;loopholes&nbsp;that&nbsp;are&nbsp;easy&nbsp;for&nbsp;bad&nbsp;actors&nbsp;to</span></td></tr>\n",
       "            <tr><td style=\"word-wrap: break-word\" class=\"diff_next\"></td><td style=\"word-wrap: break-word\" class=\"diff_header\"></td><td style=\"word-wrap: break-word\" ></td><td style=\"word-wrap: break-word\" class=\"diff_next\"></td><td style=\"word-wrap: break-word\" class=\"diff_header\" id=\"to18_55\">55</td><td style=\"word-wrap: break-word\" ><span class=\"diff_add\">exploit.&nbsp;The&nbsp;proposed&nbsp;rule&nbsp;also&nbsp;fails&nbsp;to&nbsp;sufficiently&nbsp;address&nbsp;labor&nbsp;abuses&nbsp;in&nbsp;seafood</span></td></tr>\n",
       "            <tr><td style=\"word-wrap: break-word\" class=\"diff_next\"></td><td style=\"word-wrap: break-word\" class=\"diff_header\"></td><td style=\"word-wrap: break-word\" ></td><td style=\"word-wrap: break-word\" class=\"diff_next\"></td><td style=\"word-wrap: break-word\" class=\"diff_header\" id=\"to18_56\">56</td><td style=\"word-wrap: break-word\" ><span class=\"diff_add\">supply&nbsp;chains,&nbsp;and&nbsp;it&nbsp;includes&nbsp;no&nbsp;commitment&nbsp;to&nbsp;improve&nbsp;enforcement&nbsp;of&nbsp;traceability</span></td></tr>\n",
       "            <tr><td style=\"word-wrap: break-word\" class=\"diff_next\"></td><td style=\"word-wrap: break-word\" class=\"diff_header\"></td><td style=\"word-wrap: break-word\" ></td><td style=\"word-wrap: break-word\" class=\"diff_next\"></td><td style=\"word-wrap: break-word\" class=\"diff_header\" id=\"to18_57\">57</td><td style=\"word-wrap: break-word\" ><span class=\"diff_add\">requirements.</span></td></tr>\n",
       "            <tr><td style=\"word-wrap: break-word\" class=\"diff_next\"></td><td style=\"word-wrap: break-word\" class=\"diff_header\"></td><td style=\"word-wrap: break-word\" ></td><td style=\"word-wrap: break-word\" class=\"diff_next\"></td><td style=\"word-wrap: break-word\" class=\"diff_header\" id=\"to18_58\">58</td><td style=\"word-wrap: break-word\" ><span class=\"diff_add\">The&nbsp;NMFS&nbsp;must&nbsp;commit&nbsp;to&nbsp;a&nbsp;transparent&nbsp;timeline&nbsp;to&nbsp;expand&nbsp;SIMP&nbsp;to&nbsp;all&nbsp;seafood</span></td></tr>\n",
       "            <tr><td style=\"word-wrap: break-word\" class=\"diff_next\"></td><td style=\"word-wrap: break-word\" class=\"diff_header\"></td><td style=\"word-wrap: break-word\" ></td><td style=\"word-wrap: break-word\" class=\"diff_next\"></td><td style=\"word-wrap: break-word\" class=\"diff_header\" id=\"to18_59\">59</td><td style=\"word-wrap: break-word\" ><span class=\"diff_add\">imports.&nbsp;Currently,&nbsp;SIMP&nbsp;applies&nbsp;only&nbsp;to&nbsp;13&nbsp;types&nbsp;of&nbsp;seafood&nbsp;deemed&nbsp;at&nbsp;risk&nbsp;of&nbsp;IUU</span></td></tr>\n",
       "            <tr><td style=\"word-wrap: break-word\" class=\"diff_next\"></td><td style=\"word-wrap: break-word\" class=\"diff_header\"></td><td style=\"word-wrap: break-word\" ></td><td style=\"word-wrap: break-word\" class=\"diff_next\"></td><td style=\"word-wrap: break-word\" class=\"diff_header\" id=\"to18_60\">60</td><td style=\"word-wrap: break-word\" ><span class=\"diff_add\">fishing&nbsp;and&nbsp;seafood&nbsp;fraud,&nbsp;representing&nbsp;approximately&nbsp;40%&nbsp;of&nbsp;U.S.&nbsp;imports&nbsp;by&nbsp;value&nbsp;and</span></td></tr>\n",
       "            <tr><td style=\"word-wrap: break-word\" class=\"diff_next\"></td><td style=\"word-wrap: break-word\" class=\"diff_header\"></td><td style=\"word-wrap: break-word\" ></td><td style=\"word-wrap: break-word\" class=\"diff_next\"></td><td style=\"word-wrap: break-word\" class=\"diff_header\" id=\"to18_61\">61</td><td style=\"word-wrap: break-word\" ><span class=\"diff_add\">volume.&nbsp;The&nbsp;proposed&nbsp;additional&nbsp;seafood&nbsp;products&nbsp;would&nbsp;include&nbsp;additional&nbsp;tuna&nbsp;and</span></td></tr>\n",
       "            <tr><td style=\"word-wrap: break-word\" class=\"diff_next\"></td><td style=\"word-wrap: break-word\" class=\"diff_header\"></td><td style=\"word-wrap: break-word\" ></td><td style=\"word-wrap: break-word\" class=\"diff_next\"></td><td style=\"word-wrap: break-word\" class=\"diff_header\" id=\"to18_62\">62</td><td style=\"word-wrap: break-word\" ><span class=\"diff_add\">snapper&nbsp;species,&nbsp;cuttlefish,&nbsp;squid,&nbsp;octopuses,&nbsp;eels,&nbsp;queen&nbsp;conch,&nbsp;and&nbsp;Caribbean&nbsp;spiny</span></td></tr>\n",
       "            <tr><td style=\"word-wrap: break-word\" class=\"diff_next\"></td><td style=\"word-wrap: break-word\" class=\"diff_header\"></td><td style=\"word-wrap: break-word\" ></td><td style=\"word-wrap: break-word\" class=\"diff_next\"></td><td style=\"word-wrap: break-word\" class=\"diff_header\" id=\"to18_63\">63</td><td style=\"word-wrap: break-word\" ><span class=\"diff_add\">lobster,&nbsp;with&nbsp;the&nbsp;possibility&nbsp;of&nbsp;including&nbsp;all&nbsp;conch&nbsp;and&nbsp;spiny&nbsp;lobster&nbsp;species.&nbsp;However,</span></td></tr>\n",
       "            <tr><td style=\"word-wrap: break-word\" class=\"diff_next\"></td><td style=\"word-wrap: break-word\" class=\"diff_header\"></td><td style=\"word-wrap: break-word\" ></td><td style=\"word-wrap: break-word\" class=\"diff_next\"></td><td style=\"word-wrap: break-word\" class=\"diff_header\" id=\"to18_64\">64</td><td style=\"word-wrap: break-word\" ><span class=\"diff_add\">this&nbsp;is&nbsp;less&nbsp;than&nbsp;a&nbsp;4–8%&nbsp;increase&nbsp;in&nbsp;the&nbsp;amount&nbsp;of&nbsp;seafood&nbsp;imports&nbsp;into&nbsp;the&nbsp;U.S.&nbsp;by</span></td></tr>\n",
       "            <tr><td style=\"word-wrap: break-word\" class=\"diff_next\"></td><td style=\"word-wrap: break-word\" class=\"diff_header\"></td><td style=\"word-wrap: break-word\" ></td><td style=\"word-wrap: break-word\" class=\"diff_next\"></td><td style=\"word-wrap: break-word\" class=\"diff_header\" id=\"to18_65\">65</td><td style=\"word-wrap: break-word\" ><span class=\"diff_add\">volume,&nbsp;meaning&nbsp;more&nbsp;than&nbsp;50%&nbsp;of&nbsp;seafood&nbsp;imports&nbsp;would&nbsp;still&nbsp;not&nbsp;be&nbsp;covered&nbsp;by&nbsp;these</span></td></tr>\n",
       "            <tr><td style=\"word-wrap: break-word\" class=\"diff_next\"></td><td style=\"word-wrap: break-word\" class=\"diff_header\"></td><td style=\"word-wrap: break-word\" ></td><td style=\"word-wrap: break-word\" class=\"diff_next\"></td><td style=\"word-wrap: break-word\" class=\"diff_header\" id=\"to18_66\">66</td><td style=\"word-wrap: break-word\" ><span class=\"diff_add\">safeguards.</span></td></tr>\n",
       "            <tr><td style=\"word-wrap: break-word\" class=\"diff_next\"></td><td style=\"word-wrap: break-word\" class=\"diff_header\"></td><td style=\"word-wrap: break-word\" ></td><td style=\"word-wrap: break-word\" class=\"diff_next\"></td><td style=\"word-wrap: break-word\" class=\"diff_header\" id=\"to18_67\">67</td><td style=\"word-wrap: break-word\" ><span class=\"diff_add\">In&nbsp;addition&nbsp;to&nbsp;expanding&nbsp;SIMP&nbsp;to&nbsp;include&nbsp;all&nbsp;seafood&nbsp;imports,&nbsp;the&nbsp;program&nbsp;should&nbsp;not</span></td></tr>\n",
       "            <tr><td style=\"word-wrap: break-word\" class=\"diff_next\"></td><td style=\"word-wrap: break-word\" class=\"diff_header\"></td><td style=\"word-wrap: break-word\" ></td><td style=\"word-wrap: break-word\" class=\"diff_next\"></td><td style=\"word-wrap: break-word\" class=\"diff_header\" id=\"to18_68\">68</td><td style=\"word-wrap: break-word\" ><span class=\"diff_add\">operate&nbsp;in&nbsp;a&nbsp;vacuum.&nbsp;The&nbsp;NMFS&nbsp;should&nbsp;align&nbsp;key&nbsp;data&nbsp;elements&nbsp;(KDE)&nbsp;and&nbsp;critical</span></td></tr>\n",
       "            <tr><td style=\"word-wrap: break-word\" class=\"diff_next\"></td><td style=\"word-wrap: break-word\" class=\"diff_header\"></td><td style=\"word-wrap: break-word\" ></td><td style=\"word-wrap: break-word\" class=\"diff_next\"></td><td style=\"word-wrap: break-word\" class=\"diff_header\" id=\"to18_69\">69</td><td style=\"word-wrap: break-word\" ><span class=\"diff_add\">tracking&nbsp;events&nbsp;(CTE)&nbsp;(where&nbsp;appropriate)&nbsp;with&nbsp;the&nbsp;FDA’s&nbsp;Food&nbsp;Traceability&nbsp;List.&nbsp;The</span></td></tr>\n",
       "            <tr><td style=\"word-wrap: break-word\" class=\"diff_next\"></td><td style=\"word-wrap: break-word\" class=\"diff_header\"></td><td style=\"word-wrap: break-word\" ></td><td style=\"word-wrap: break-word\" class=\"diff_next\"></td><td style=\"word-wrap: break-word\" class=\"diff_header\" id=\"to18_70\">70</td><td style=\"word-wrap: break-word\" ><span class=\"diff_add\">NMFS&nbsp;should&nbsp;also&nbsp;look&nbsp;to&nbsp;international&nbsp;best&nbsp;practices&nbsp;to&nbsp;align&nbsp;and&nbsp;harmonize&nbsp;these</span></td></tr>\n",
       "            <tr><td style=\"word-wrap: break-word\" class=\"diff_next\"></td><td style=\"word-wrap: break-word\" class=\"diff_header\"></td><td style=\"word-wrap: break-word\" ></td><td style=\"word-wrap: break-word\" class=\"diff_next\"></td><td style=\"word-wrap: break-word\" class=\"diff_header\" id=\"to18_71\">71</td><td style=\"word-wrap: break-word\" ><span class=\"diff_add\">KDEs&nbsp;and&nbsp;CTEs&nbsp;across&nbsp;other&nbsp;import&nbsp;control&nbsp;programs&nbsp;to&nbsp;provide&nbsp;consistency&nbsp;to&nbsp;industry</span></td></tr>\n",
       "            <tr><td style=\"word-wrap: break-word\" class=\"diff_next\"></td><td style=\"word-wrap: break-word\" class=\"diff_header\"></td><td style=\"word-wrap: break-word\" ></td><td style=\"word-wrap: break-word\" class=\"diff_next\"></td><td style=\"word-wrap: break-word\" class=\"diff_header\" id=\"to18_72\">72</td><td style=\"word-wrap: break-word\" ><span class=\"diff_add\">who&nbsp;must&nbsp;comply&nbsp;with&nbsp;different&nbsp;catch&nbsp;documentation&nbsp;requirements&nbsp;for&nbsp;each&nbsp;country.</span></td></tr>\n",
       "            <tr><td style=\"word-wrap: break-word\" class=\"diff_next\"></td><td style=\"word-wrap: break-word\" class=\"diff_header\"></td><td style=\"word-wrap: break-word\" ></td><td style=\"word-wrap: break-word\" class=\"diff_next\"></td><td style=\"word-wrap: break-word\" class=\"diff_header\" id=\"to18_73\">73</td><td style=\"word-wrap: break-word\" ><span class=\"diff_add\">IUU&nbsp;fishing&nbsp;is&nbsp;also&nbsp;linked&nbsp;to&nbsp;transnational&nbsp;crimes&nbsp;like&nbsp;human&nbsp;trafficking&nbsp;and&nbsp;forced&nbsp;labor.</span></td></tr>\n",
       "            <tr><td style=\"word-wrap: break-word\" class=\"diff_next\"></td><td style=\"word-wrap: break-word\" class=\"diff_header\"></td><td style=\"word-wrap: break-word\" ></td><td style=\"word-wrap: break-word\" class=\"diff_next\"></td><td style=\"word-wrap: break-word\" class=\"diff_header\" id=\"to18_74\">74</td><td style=\"word-wrap: break-word\" ><span class=\"diff_add\">Lack&nbsp;of&nbsp;oversight&nbsp;and&nbsp;enforcement&nbsp;in&nbsp;the&nbsp;global&nbsp;seafood&nbsp;sector&nbsp;has&nbsp;fostered&nbsp;conditions</span></td></tr>\n",
       "            <tr><td style=\"word-wrap: break-word\" class=\"diff_next\"></td><td style=\"word-wrap: break-word\" class=\"diff_header\"></td><td style=\"word-wrap: break-word\" ></td><td style=\"word-wrap: break-word\" class=\"diff_next\"></td><td style=\"word-wrap: break-word\" class=\"diff_header\" id=\"to18_75\">75</td><td style=\"word-wrap: break-word\" ><span class=\"diff_add\">in&nbsp;which&nbsp;crew&nbsp;members&nbsp;remain&nbsp;on&nbsp;vessels&nbsp;for&nbsp;prolonged&nbsp;periods&nbsp;of&nbsp;time&nbsp;and&nbsp;are</span></td></tr>\n",
       "            <tr><td style=\"word-wrap: break-word\" class=\"diff_next\"></td><td style=\"word-wrap: break-word\" class=\"diff_header\"></td><td style=\"word-wrap: break-word\" ></td><td style=\"word-wrap: break-word\" class=\"diff_next\"></td><td style=\"word-wrap: break-word\" class=\"diff_header\" id=\"to18_76\">76</td><td style=\"word-wrap: break-word\" ><span class=\"diff_add\">subjected&nbsp;to&nbsp;debt&nbsp;bondage,&nbsp;inhumane&nbsp;working&nbsp;conditions,&nbsp;and&nbsp;severe&nbsp;abuse.&nbsp;Forced</span></td></tr>\n",
       "            <tr><td style=\"word-wrap: break-word\" class=\"diff_next\"></td><td style=\"word-wrap: break-word\" class=\"diff_header\"></td><td style=\"word-wrap: break-word\" ></td><td style=\"word-wrap: break-word\" class=\"diff_next\"></td><td style=\"word-wrap: break-word\" class=\"diff_header\" id=\"to18_77\">77</td><td style=\"word-wrap: break-word\" ><span class=\"diff_add\">labor&nbsp;is&nbsp;also&nbsp;found&nbsp;in&nbsp;seafood&nbsp;processing&nbsp;facilities&nbsp;in&nbsp;a&nbsp;number&nbsp;of&nbsp;countries.&nbsp;While&nbsp;this</span></td></tr>\n",
       "            <tr><td style=\"word-wrap: break-word\" class=\"diff_next\"></td><td style=\"word-wrap: break-word\" class=\"diff_header\"></td><td style=\"word-wrap: break-word\" ></td><td style=\"word-wrap: break-word\" class=\"diff_next\"></td><td style=\"word-wrap: break-word\" class=\"diff_header\" id=\"to18_78\">78</td><td style=\"word-wrap: break-word\" ><span class=\"diff_add\">rule&nbsp;recognizes&nbsp;that&nbsp;forced&nbsp;labor&nbsp;and&nbsp;human&nbsp;rights&nbsp;abuses&nbsp;are&nbsp;problematic&nbsp;in&nbsp;many</span></td></tr>\n",
       "            <tr><td style=\"word-wrap: break-word\" class=\"diff_next\"></td><td style=\"word-wrap: break-word\" class=\"diff_header\"></td><td style=\"word-wrap: break-word\" ></td><td style=\"word-wrap: break-word\" class=\"diff_next\"></td><td style=\"word-wrap: break-word\" class=\"diff_header\" id=\"to18_79\">79</td><td style=\"word-wrap: break-word\" ><span class=\"diff_add\">seafood&nbsp;supply&nbsp;chains,&nbsp;it&nbsp;fails&nbsp;to&nbsp;use&nbsp;this&nbsp;information&nbsp;to&nbsp;expand&nbsp;SIMP&nbsp;to&nbsp;species&nbsp;at&nbsp;high</span></td></tr>\n",
       "            <tr><td style=\"word-wrap: break-word\" class=\"diff_next\"></td><td style=\"word-wrap: break-word\" class=\"diff_header\"></td><td style=\"word-wrap: break-word\" ></td><td style=\"word-wrap: break-word\" class=\"diff_next\"></td><td style=\"word-wrap: break-word\" class=\"diff_header\" id=\"to18_80\">80</td><td style=\"word-wrap: break-word\" ><span class=\"diff_add\">risk&nbsp;of&nbsp;forced&nbsp;labor.&nbsp;Because&nbsp;IUU&nbsp;fishing&nbsp;and&nbsp;forced&nbsp;labor&nbsp;are&nbsp;inextricably&nbsp;linked,&nbsp;they</span></td></tr>\n",
       "            <tr><td style=\"word-wrap: break-word\" class=\"diff_next\"></td><td style=\"word-wrap: break-word\" class=\"diff_header\"></td><td style=\"word-wrap: break-word\" ></td><td style=\"word-wrap: break-word\" class=\"diff_next\"></td><td style=\"word-wrap: break-word\" class=\"diff_header\" id=\"to18_81\">81</td><td style=\"word-wrap: break-word\" ><span class=\"diff_add\">must&nbsp;be&nbsp;tackled&nbsp;together,&nbsp;using&nbsp;a&nbsp;whole-of-government&nbsp;approach.&nbsp;The&nbsp;NMFS&nbsp;should</span></td></tr>\n",
       "            <tr><td style=\"word-wrap: break-word\" class=\"diff_next\"></td><td style=\"word-wrap: break-word\" class=\"diff_header\"></td><td style=\"word-wrap: break-word\" ></td><td style=\"word-wrap: break-word\" class=\"diff_next\"></td><td style=\"word-wrap: break-word\" class=\"diff_header\" id=\"to18_82\">82</td><td style=\"word-wrap: break-word\" ><span class=\"diff_add\">build&nbsp;mechanisms&nbsp;into&nbsp;SIMP&nbsp;to&nbsp;address&nbsp;forced&nbsp;labor&nbsp;and&nbsp;other&nbsp;human&nbsp;rights&nbsp;abuses.</span></td></tr>\n",
       "            <tr><td style=\"word-wrap: break-word\" class=\"diff_next\"></td><td style=\"word-wrap: break-word\" class=\"diff_header\"></td><td style=\"word-wrap: break-word\" ></td><td style=\"word-wrap: break-word\" class=\"diff_next\"></td><td style=\"word-wrap: break-word\" class=\"diff_header\" id=\"to18_83\">83</td><td style=\"word-wrap: break-word\" ><span class=\"diff_add\">The&nbsp;U.S.’s&nbsp;high&nbsp;demand&nbsp;for&nbsp;seafood&nbsp;combined&nbsp;with&nbsp;SIMP’s&nbsp;limitations&nbsp;allow&nbsp;seafood</span></td></tr>\n",
       "            <tr><td style=\"word-wrap: break-word\" class=\"diff_next\"></td><td style=\"word-wrap: break-word\" class=\"diff_header\"></td><td style=\"word-wrap: break-word\" ></td><td style=\"word-wrap: break-word\" class=\"diff_next\"></td><td style=\"word-wrap: break-word\" class=\"diff_header\" id=\"to18_84\">84</td><td style=\"word-wrap: break-word\" ><span class=\"diff_add\">sourced&nbsp;from&nbsp;illegal&nbsp;activity&nbsp;to&nbsp;flood&nbsp;the&nbsp;U.S.&nbsp;market,&nbsp;driving&nbsp;economic&nbsp;and&nbsp;ecological</span></td></tr>\n",
       "            <tr><td style=\"word-wrap: break-word\" class=\"diff_next\"></td><td style=\"word-wrap: break-word\" class=\"diff_header\"></td><td style=\"word-wrap: break-word\" ></td><td style=\"word-wrap: break-word\" class=\"diff_next\"></td><td style=\"word-wrap: break-word\" class=\"diff_header\" id=\"to18_85\">85</td><td style=\"word-wrap: break-word\" ><span class=\"diff_add\">loss&nbsp;around&nbsp;the&nbsp;world.&nbsp;The&nbsp;lack&nbsp;of&nbsp;visibility&nbsp;and&nbsp;traceability&nbsp;allows&nbsp;illegally&nbsp;sourced&nbsp;or</span></td></tr>\n",
       "            <tr><td style=\"word-wrap: break-word\" class=\"diff_next\"></td><td style=\"word-wrap: break-word\" class=\"diff_header\"></td><td style=\"word-wrap: break-word\" ></td><td style=\"word-wrap: break-word\" class=\"diff_next\"></td><td style=\"word-wrap: break-word\" class=\"diff_header\" id=\"to18_86\">86</td><td style=\"word-wrap: break-word\" ><span class=\"diff_add\">mislabeled&nbsp;products&nbsp;to&nbsp;enter&nbsp;the&nbsp;legal&nbsp;supply&nbsp;chain.&nbsp;Requiring&nbsp;transparency&nbsp;and</span></td></tr>\n",
       "            <tr><td style=\"word-wrap: break-word\" class=\"diff_next\"></td><td style=\"word-wrap: break-word\" class=\"diff_header\"></td><td style=\"word-wrap: break-word\" ></td><td style=\"word-wrap: break-word\" class=\"diff_next\"></td><td style=\"word-wrap: break-word\" class=\"diff_header\" id=\"to18_87\">87</td><td style=\"word-wrap: break-word\" ><span class=\"diff_add\">traceability&nbsp;at&nbsp;every&nbsp;step&nbsp;of&nbsp;the&nbsp;seafood&nbsp;supply&nbsp;chain&nbsp;provides&nbsp;the&nbsp;NMFS&nbsp;and&nbsp;Customs</span></td></tr>\n",
       "            <tr><td style=\"word-wrap: break-word\" class=\"diff_next\"></td><td style=\"word-wrap: break-word\" class=\"diff_header\"></td><td style=\"word-wrap: break-word\" ></td><td style=\"word-wrap: break-word\" class=\"diff_next\"></td><td style=\"word-wrap: break-word\" class=\"diff_header\" id=\"to18_88\">88</td><td style=\"word-wrap: break-word\" ><span class=\"diff_add\">with&nbsp;important&nbsp;tools&nbsp;toward&nbsp;combating&nbsp;these&nbsp;problems.&nbsp;This&nbsp;is&nbsp;essential&nbsp;to&nbsp;monitor</span></td></tr>\n",
       "            <tr><td style=\"word-wrap: break-word\" class=\"diff_next\"></td><td style=\"word-wrap: break-word\" class=\"diff_header\"></td><td style=\"word-wrap: break-word\" ></td><td style=\"word-wrap: break-word\" class=\"diff_next\"></td><td style=\"word-wrap: break-word\" class=\"diff_header\" id=\"to18_89\">89</td><td style=\"word-wrap: break-word\" ><span class=\"diff_add\">fishing,&nbsp;identify&nbsp;suspicious&nbsp;activities,&nbsp;eliminate&nbsp;illegal&nbsp;fishing,&nbsp;and&nbsp;restore&nbsp;healthy</span></td></tr>\n",
       "            <tr><td style=\"word-wrap: break-word\" class=\"diff_next\"></td><td style=\"word-wrap: break-word\" class=\"diff_header\"></td><td style=\"word-wrap: break-word\" ></td><td style=\"word-wrap: break-word\" class=\"diff_next\"></td><td style=\"word-wrap: break-word\" class=\"diff_header\" id=\"to18_90\">90</td><td style=\"word-wrap: break-word\" ><span class=\"diff_add\">fisheries.</span></td></tr>\n",
       "            <tr><td style=\"word-wrap: break-word\" class=\"diff_next\"></td><td style=\"word-wrap: break-word\" class=\"diff_header\"></td><td style=\"word-wrap: break-word\" ></td><td style=\"word-wrap: break-word\" class=\"diff_next\"></td><td style=\"word-wrap: break-word\" class=\"diff_header\" id=\"to18_91\">91</td><td style=\"word-wrap: break-word\" ><span class=\"diff_add\">“Our&nbsp;duty&nbsp;to&nbsp;the&nbsp;whole,&nbsp;including&nbsp;to&nbsp;the&nbsp;unborn&nbsp;generations,&nbsp;bids&nbsp;us&nbsp;to&nbsp;restrain&nbsp;an</span></td></tr>\n",
       "            <tr><td style=\"word-wrap: break-word\" class=\"diff_next\"></td><td style=\"word-wrap: break-word\" class=\"diff_header\"></td><td style=\"word-wrap: break-word\" ></td><td style=\"word-wrap: break-word\" class=\"diff_next\"></td><td style=\"word-wrap: break-word\" class=\"diff_header\" id=\"to18_92\">92</td><td style=\"word-wrap: break-word\" ><span class=\"diff_add\">unprincipled&nbsp;present-day&nbsp;minority&nbsp;from&nbsp;wasting&nbsp;the&nbsp;heritage&nbsp;of&nbsp;these&nbsp;unborn</span></td></tr>\n",
       "            <tr><td style=\"word-wrap: break-word\" class=\"diff_next\"></td><td style=\"word-wrap: break-word\" class=\"diff_header\"></td><td style=\"word-wrap: break-word\" ></td><td style=\"word-wrap: break-word\" class=\"diff_next\"></td><td style=\"word-wrap: break-word\" class=\"diff_header\" id=\"to18_93\">93</td><td style=\"word-wrap: break-word\" ><span class=\"diff_add\">generations.&nbsp;The&nbsp;movement&nbsp;for&nbsp;the&nbsp;conservation&nbsp;of&nbsp;wildlife&nbsp;and&nbsp;the&nbsp;larger&nbsp;movement</span></td></tr>\n",
       "            <tr><td style=\"word-wrap: break-word\" class=\"diff_next\"></td><td style=\"word-wrap: break-word\" class=\"diff_header\"></td><td style=\"word-wrap: break-word\" ></td><td style=\"word-wrap: break-word\" class=\"diff_next\"></td><td style=\"word-wrap: break-word\" class=\"diff_header\" id=\"to18_94\">94</td><td style=\"word-wrap: break-word\" ><span class=\"diff_add\">for&nbsp;the&nbsp;conservation&nbsp;of&nbsp;all&nbsp;our&nbsp;natural&nbsp;resources&nbsp;are&nbsp;essentially&nbsp;democratic&nbsp;in&nbsp;spirit,</span></td></tr>\n",
       "            <tr><td style=\"word-wrap: break-word\" class=\"diff_next\"></td><td style=\"word-wrap: break-word\" class=\"diff_header\"></td><td style=\"word-wrap: break-word\" ></td><td style=\"word-wrap: break-word\" class=\"diff_next\"></td><td style=\"word-wrap: break-word\" class=\"diff_header\" id=\"to18_95\">95</td><td style=\"word-wrap: break-word\" ><span class=\"diff_add\">purpose&nbsp;and&nbsp;method.”</span></td></tr>\n",
       "            <tr><td style=\"word-wrap: break-word\" class=\"diff_next\"></td><td style=\"word-wrap: break-word\" class=\"diff_header\"></td><td style=\"word-wrap: break-word\" ></td><td style=\"word-wrap: break-word\" class=\"diff_next\"></td><td style=\"word-wrap: break-word\" class=\"diff_header\" id=\"to18_96\">96</td><td style=\"word-wrap: break-word\" ><span class=\"diff_add\">--&nbsp;Theodore&nbsp;Roosevelt</span></td></tr>\n",
       "            <tr><td style=\"word-wrap: break-word\" class=\"diff_next\"></td><td style=\"word-wrap: break-word\" class=\"diff_header\"></td><td style=\"word-wrap: break-word\" ></td><td style=\"word-wrap: break-word\" class=\"diff_next\"></td><td style=\"word-wrap: break-word\" class=\"diff_header\" id=\"to18_97\">97</td><td style=\"word-wrap: break-word\" ><span class=\"diff_add\">As&nbsp;a&nbsp;seafood&nbsp;consumer,&nbsp;I&nbsp;want&nbsp;to&nbsp;be&nbsp;assured&nbsp;that&nbsp;my&nbsp;seafood&nbsp;is&nbsp;safe,&nbsp;legally&nbsp;caught,</span></td></tr>\n",
       "            <tr><td style=\"word-wrap: break-word\" class=\"diff_next\"></td><td style=\"word-wrap: break-word\" class=\"diff_header\"></td><td style=\"word-wrap: break-word\" ></td><td style=\"word-wrap: break-word\" class=\"diff_next\"></td><td style=\"word-wrap: break-word\" class=\"diff_header\" id=\"to18_98\">98</td><td style=\"word-wrap: break-word\" ><span class=\"diff_add\">responsibly&nbsp;sourced,&nbsp;and&nbsp;honestly&nbsp;labeled,&nbsp;and&nbsp;produced&nbsp;without&nbsp;the&nbsp;use&nbsp;of&nbsp;forced</span></td></tr>\n",
       "            <tr><td style=\"word-wrap: break-word\" class=\"diff_next\"></td><td style=\"word-wrap: break-word\" class=\"diff_header\"></td><td style=\"word-wrap: break-word\" ></td><td style=\"word-wrap: break-word\" class=\"diff_next\"></td><td style=\"word-wrap: break-word\" class=\"diff_header\" id=\"to18_99\">99</td><td style=\"word-wrap: break-word\" ><span class=\"diff_add\">labor.&nbsp;Requiring&nbsp;all&nbsp;seafood&nbsp;imports&nbsp;be&nbsp;subject&nbsp;to&nbsp;robust&nbsp;catch&nbsp;documentation&nbsp;and</span></td></tr>\n",
       "            <tr><td style=\"word-wrap: break-word\" class=\"diff_next\"></td><td style=\"word-wrap: break-word\" class=\"diff_header\"></td><td style=\"word-wrap: break-word\" ></td><td style=\"word-wrap: break-word\" class=\"diff_next\"></td><td style=\"word-wrap: break-word\" class=\"diff_header\" id=\"to18_100\">100</td><td style=\"word-wrap: break-word\" ><span class=\"diff_add\">traceability&nbsp;from&nbsp;boat&nbsp;to&nbsp;plate&nbsp;would&nbsp;provide&nbsp;me&nbsp;with&nbsp;more&nbsp;confidence&nbsp;in&nbsp;the&nbsp;seafood&nbsp;I</span></td></tr>\n",
       "            <tr><td style=\"word-wrap: break-word\" class=\"diff_next\"></td><td style=\"word-wrap: break-word\" class=\"diff_header\"></td><td style=\"word-wrap: break-word\" ></td><td style=\"word-wrap: break-word\" class=\"diff_next\"></td><td style=\"word-wrap: break-word\" class=\"diff_header\" id=\"to18_101\">101</td><td style=\"word-wrap: break-word\" ><span class=\"diff_add\">eat.&nbsp;I&nbsp;urge&nbsp;the&nbsp;NMFS&nbsp;to&nbsp;expand&nbsp;the&nbsp;Seafood&nbsp;Import&nbsp;Monitoring&nbsp;Program&nbsp;to&nbsp;cover&nbsp;all</span></td></tr>\n",
       "            <tr><td style=\"word-wrap: break-word\" class=\"diff_next\"></td><td style=\"word-wrap: break-word\" class=\"diff_header\"></td><td style=\"word-wrap: break-word\" ></td><td style=\"word-wrap: break-word\" class=\"diff_next\"></td><td style=\"word-wrap: break-word\" class=\"diff_header\" id=\"to18_102\">102</td><td style=\"word-wrap: break-word\" ><span class=\"diff_add\">seafood.&nbsp;Please&nbsp;revise&nbsp;the&nbsp;Seafood&nbsp;Import&nbsp;Monitoring&nbsp;Program&nbsp;proposed&nbsp;rule&nbsp;to&nbsp;adopt</span></td></tr>\n",
       "            <tr><td style=\"word-wrap: break-word\" class=\"diff_next\"></td><td style=\"word-wrap: break-word\" class=\"diff_header\"></td><td style=\"word-wrap: break-word\" ></td><td style=\"word-wrap: break-word\" class=\"diff_next\"></td><td style=\"word-wrap: break-word\" class=\"diff_header\" id=\"to18_103\">103</td><td style=\"word-wrap: break-word\" ><span class=\"diff_add\">the&nbsp;strongest&nbsp;possible&nbsp;standards&nbsp;for&nbsp;seafood&nbsp;traceability&nbsp;to&nbsp;intercept&nbsp;the&nbsp;flow&nbsp;of&nbsp;illegal</span></td></tr>\n",
       "            <tr><td style=\"word-wrap: break-word\" class=\"diff_next\"></td><td style=\"word-wrap: break-word\" class=\"diff_header\"></td><td style=\"word-wrap: break-word\" ></td><td style=\"word-wrap: break-word\" class=\"diff_next\"></td><td style=\"word-wrap: break-word\" class=\"diff_header\" id=\"to18_104\">104</td><td style=\"word-wrap: break-word\" ><span class=\"diff_add\">seafood&nbsp;into&nbsp;the&nbsp;U.S.&nbsp;and&nbsp;to&nbsp;help&nbsp;consumers&nbsp;feel&nbsp;confident&nbsp;the&nbsp;seafood&nbsp;they&nbsp;buy&nbsp;is</span></td></tr>\n",
       "            <tr><td style=\"word-wrap: break-word\" class=\"diff_next\"></td><td style=\"word-wrap: break-word\" class=\"diff_header\"></td><td style=\"word-wrap: break-word\" ></td><td style=\"word-wrap: break-word\" class=\"diff_next\"></td><td style=\"word-wrap: break-word\" class=\"diff_header\" id=\"to18_105\">105</td><td style=\"word-wrap: break-word\" ><span class=\"diff_add\">legally&nbsp;caught&nbsp;and&nbsp;not&nbsp;a&nbsp;product&nbsp;of&nbsp;labor&nbsp;abuses.&nbsp;Thank&nbsp;you&nbsp;for&nbsp;helping&nbsp;to&nbsp;address</span></td></tr>\n",
       "            <tr><td style=\"word-wrap: break-word\" class=\"diff_next\"></td><td style=\"word-wrap: break-word\" class=\"diff_header\"></td><td style=\"word-wrap: break-word\" ></td><td style=\"word-wrap: break-word\" class=\"diff_next\"></td><td style=\"word-wrap: break-word\" class=\"diff_header\" id=\"to18_106\">106</td><td style=\"word-wrap: break-word\" ><span class=\"diff_add\">these&nbsp;environmental&nbsp;and&nbsp;human&nbsp;rights&nbsp;crimes&nbsp;with&nbsp;the&nbsp;seriousness&nbsp;they&nbsp;deserve.</span></td></tr>\n",
       "            <tr><td style=\"word-wrap: break-word\" class=\"diff_next\"></td><td style=\"word-wrap: break-word\" class=\"diff_header\"></td><td style=\"word-wrap: break-word\" ></td><td style=\"word-wrap: break-word\" class=\"diff_next\"></td><td style=\"word-wrap: break-word\" class=\"diff_header\" id=\"to18_107\">107</td><td style=\"word-wrap: break-word\" ><span class=\"diff_add\">“A&nbsp;thing&nbsp;is&nbsp;right&nbsp;when&nbsp;it&nbsp;tends&nbsp;to&nbsp;preserve&nbsp;the&nbsp;integrity,&nbsp;stability,&nbsp;and&nbsp;beauty&nbsp;of&nbsp;the</span></td></tr>\n",
       "            <tr><td style=\"word-wrap: break-word\" class=\"diff_next\"></td><td style=\"word-wrap: break-word\" class=\"diff_header\"></td><td style=\"word-wrap: break-word\" ></td><td style=\"word-wrap: break-word\" class=\"diff_next\"></td><td style=\"word-wrap: break-word\" class=\"diff_header\" id=\"to18_108\">108</td><td style=\"word-wrap: break-word\" ><span class=\"diff_add\">biotic&nbsp;community.&nbsp;It&nbsp;is&nbsp;wrong&nbsp;when&nbsp;it&nbsp;tends&nbsp;otherwise.”</span></td></tr>\n",
       "            <tr><td style=\"word-wrap: break-word\" class=\"diff_next\"></td><td style=\"word-wrap: break-word\" class=\"diff_header\"></td><td style=\"word-wrap: break-word\" ></td><td style=\"word-wrap: break-word\" class=\"diff_next\"></td><td style=\"word-wrap: break-word\" class=\"diff_header\" id=\"to18_109\">109</td><td style=\"word-wrap: break-word\" ><span class=\"diff_add\">--&nbsp;Aldo&nbsp;Leopold</span></td></tr>\n",
       "            <tr><td style=\"word-wrap: break-word\" class=\"diff_next\"></td><td style=\"word-wrap: break-word\" class=\"diff_header\"></td><td style=\"word-wrap: break-word\" ></td><td style=\"word-wrap: break-word\" class=\"diff_next\"></td><td style=\"word-wrap: break-word\" class=\"diff_header\" id=\"to18_110\">110</td><td style=\"word-wrap: break-word\" ><span class=\"diff_add\">Thank&nbsp;you&nbsp;for&nbsp;your&nbsp;consideration&nbsp;of&nbsp;my&nbsp;comments.&nbsp;Please&nbsp;do&nbsp;NOT&nbsp;add&nbsp;my&nbsp;name&nbsp;to</span></td></tr>\n",
       "            <tr><td style=\"word-wrap: break-word\" class=\"diff_next\"></td><td style=\"word-wrap: break-word\" class=\"diff_header\"></td><td style=\"word-wrap: break-word\" ></td><td style=\"word-wrap: break-word\" class=\"diff_next\"></td><td style=\"word-wrap: break-word\" class=\"diff_header\" id=\"to18_111\">111</td><td style=\"word-wrap: break-word\" ><span class=\"diff_add\">your&nbsp;mailing&nbsp;list.&nbsp;I&nbsp;will&nbsp;learn&nbsp;about&nbsp;future&nbsp;developments&nbsp;on&nbsp;this&nbsp;issue&nbsp;from&nbsp;other&nbsp;sources.</span></td></tr>\n",
       "            <tr><td style=\"word-wrap: break-word\" class=\"diff_next\"></td><td style=\"word-wrap: break-word\" class=\"diff_header\"></td><td style=\"word-wrap: break-word\" ></td><td style=\"word-wrap: break-word\" class=\"diff_next\"></td><td style=\"word-wrap: break-word\" class=\"diff_header\" id=\"to18_112\">112</td><td style=\"word-wrap: break-word\" ><span class=\"diff_add\">Sincerely,</span></td></tr>\n",
       "            <tr><td style=\"word-wrap: break-word\" class=\"diff_next\"></td><td style=\"word-wrap: break-word\" class=\"diff_header\"></td><td style=\"word-wrap: break-word\" ></td><td style=\"word-wrap: break-word\" class=\"diff_next\"></td><td style=\"word-wrap: break-word\" class=\"diff_header\" id=\"to18_113\">113</td><td style=\"word-wrap: break-word\" ><span class=\"diff_add\">Christopher&nbsp;Lish</span></td></tr>\n",
       "            <tr><td style=\"word-wrap: break-word\" class=\"diff_next\"></td><td style=\"word-wrap: break-word\" class=\"diff_header\"></td><td style=\"word-wrap: break-word\" ></td><td style=\"word-wrap: break-word\" class=\"diff_next\"></td><td style=\"word-wrap: break-word\" class=\"diff_header\" id=\"to18_114\">114</td><td style=\"word-wrap: break-word\" ><span class=\"diff_add\">San&nbsp;Rafael,&nbsp;CA</span></td></tr>\n",
       "        </tbody>\n",
       "    </table>\n",
       "    <table style=\"table-layout: fixed; width: 100%\" class=\"diff\" summary=\"Legends\">\n",
       "        <tr> <th colspan=\"2\"> Legends </th> </tr>\n",
       "        <tr> <td style=\"word-wrap: break-word\"> <table style=\"table-layout: fixed; width: 100%\" border=\"\" summary=\"Colors\">\n",
       "                      <tr><th> Colors </th> </tr>\n",
       "                      <tr><td style=\"word-wrap: break-word\" class=\"diff_add\">&nbsp;Added&nbsp;</td></tr>\n",
       "                      <tr><td style=\"word-wrap: break-word\" class=\"diff_chg\">Changed</td> </tr>\n",
       "                      <tr><td style=\"word-wrap: break-word\" class=\"diff_sub\">Deleted</td> </tr>\n",
       "                  </table></td>\n",
       "             <td style=\"word-wrap: break-word\"> <table style=\"table-layout: fixed; width: 100%\" border=\"\" summary=\"Links\">\n",
       "                      <tr><th colspan=\"2\"> Links </th> </tr>\n",
       "                      <tr><td style=\"word-wrap: break-word\">(f)irst change</td> </tr>\n",
       "                      <tr><td style=\"word-wrap: break-word\">(n)ext change</td> </tr>\n",
       "                      <tr><td style=\"word-wrap: break-word\">(t)op</td> </tr>\n",
       "                  </table></td> </tr>\n",
       "    </table>\n",
       "</body>\n",
       "\n",
       "</html>"
      ],
      "text/plain": [
       "<IPython.core.display.HTML object>"
      ]
     },
     "metadata": {},
     "output_type": "display_data"
    },
    {
     "data": {
      "text/html": [
       "\n",
       "<!DOCTYPE html PUBLIC \"-//W3C//DTD XHTML 1.0 Transitional//EN\"\n",
       "          \"http://www.w3.org/TR/xhtml1/DTD/xhtml1-transitional.dtd\">\n",
       "\n",
       "<html>\n",
       "\n",
       "<head>\n",
       "    <meta http-equiv=\"Content-Type\"\n",
       "          content=\"text/html; charset=utf-8\" />\n",
       "    <title></title>\n",
       "    <style type=\"text/css\">\n",
       "        table.diff {font-family:Courier; border:medium;}\n",
       "        .diff_header {background-color:#e0e0e0}\n",
       "        td.diff_header {text-align:right; width:1%}\n",
       "        .diff_next {background-color:#c0c0c0; width:1%}\n",
       "        .diff_add {background-color:#aaffaa}\n",
       "        .diff_chg {background-color:#ffff77}\n",
       "        .diff_sub {background-color:#ffaaaa}\n",
       "    </style>\n",
       "</head>\n",
       "\n",
       "<body>\n",
       "    \n",
       "    <table style=\"table-layout: fixed; width: 100%\" class=\"diff\" id=\"difflib_chg_to19__top\"\n",
       "           cellspacing=\"0\" cellpadding=\"0\" rules=\"groups\" >\n",
       "        <colgroup></colgroup> <colgroup></colgroup> <colgroup></colgroup>\n",
       "        <colgroup></colgroup> <colgroup></colgroup> <colgroup></colgroup>\n",
       "        \n",
       "        <tbody>\n",
       "            <tr><td style=\"word-wrap: break-word\" class=\"diff_next\" id=\"difflib_chg_to19__2\"><a href=\"#difflib_chg_to19__1\">n</a></td><td style=\"word-wrap: break-word\" class=\"diff_header\" id=\"from19_1\">1</td><td style=\"word-wrap: break-word\" >Dear&nbsp;NOAA&nbsp;Administrator&nbsp;Spinrad&nbsp;and&nbsp;NOAA&nbsp;Fisheries&nbsp;Assistant&nbsp;Administrator&nbsp;Coit<span class=\"diff_chg\">:</span></td><td style=\"word-wrap: break-word\" class=\"diff_next\"><a href=\"#difflib_chg_to19__1\">n</a></td><td style=\"word-wrap: break-word\" class=\"diff_header\" id=\"to19_1\">1</td><td style=\"word-wrap: break-word\" >Dear&nbsp;NOAA&nbsp;Administrator&nbsp;Spinrad&nbsp;and&nbsp;NOAA&nbsp;Fisheries&nbsp;Assistant&nbsp;Administrator&nbsp;Coit<span class=\"diff_chg\">,&nbsp;</span></td></tr>\n",
       "            <tr><td style=\"word-wrap: break-word\" class=\"diff_next\" id=\"difflib_chg_to19__3\"></td><td style=\"word-wrap: break-word\" class=\"diff_header\" id=\"from19_2\">2</td><td style=\"word-wrap: break-word\" ></td><td style=\"word-wrap: break-word\" class=\"diff_next\"></td><td style=\"word-wrap: break-word\" class=\"diff_header\" id=\"to19_2\">2</td><td style=\"word-wrap: break-word\" ></td></tr>\n",
       "            <tr><td style=\"word-wrap: break-word\" class=\"diff_next\"><a href=\"#difflib_chg_to19__2\">n</a></td><td style=\"word-wrap: break-word\" class=\"diff_header\" id=\"from19_3\">3</td><td style=\"word-wrap: break-word\" ><span class=\"diff_sub\">The&nbsp;United&nbsp;States&nbsp;needs&nbsp;an&nbsp;effective&nbsp;seafood&nbsp;traceability&nbsp;program&nbsp;to&nbsp;intercept&nbsp;the&nbsp;flow&nbsp;of&nbsp;illegal&nbsp;seafood&nbsp;into&nbsp;our&nbsp;markets.&nbsp;Illegal&nbsp;fishing&nbsp;is&nbsp;a&nbsp;top&nbsp;driver&nbsp;of&nbsp;unsustainable&nbsp;and&nbsp;environmentally&nbsp;harmful&nbsp;fishing&nbsp;practices&nbsp;around&nbsp;the&nbsp;globe,&nbsp;as&nbsp;well&nbsp;as&nbsp;associated&nbsp;human&nbsp;rights&nbsp;abuses&nbsp;in&nbsp;the&nbsp;seafood&nbsp;sector.&nbsp;The&nbsp;newly&nbsp;proposed&nbsp;changes&nbsp;to&nbsp;the&nbsp;Seafood&nbsp;Import&nbsp;Monitoring&nbsp;Program&nbsp;do&nbsp;not&nbsp;go&nbsp;far&nbsp;enough&nbsp;to&nbsp;help&nbsp;end&nbsp;the&nbsp;U.S.'s&nbsp;role&nbsp;in&nbsp;perpetuating&nbsp;human&nbsp;rights&nbsp;abuses&nbsp;and&nbsp;environmental&nbsp;destruction&nbsp;in&nbsp;the&nbsp;seafood&nbsp;industry.&nbsp;</span></td><td style=\"word-wrap: break-word\" class=\"diff_next\"><a href=\"#difflib_chg_to19__2\">n</a></td><td style=\"word-wrap: break-word\" class=\"diff_header\" id=\"to19_3\">3</td><td style=\"word-wrap: break-word\" ><span class=\"diff_add\">The&nbsp;fight&nbsp;to&nbsp;stop&nbsp;unregulated,&nbsp;Illegal,&nbsp;and&nbsp;unreported&nbsp;fishing&nbsp;is&nbsp;extremely&nbsp;important.&nbsp;This&nbsp;catch&nbsp;not&nbsp;only&nbsp;hurts&nbsp;the&nbsp;environment,&nbsp;but&nbsp;hurts&nbsp;businesses&nbsp;and&nbsp;individuals&nbsp;in&nbsp;the&nbsp;US&nbsp;and&nbsp;abroad.&nbsp;&nbsp;</span></td></tr>\n",
       "            <tr><td style=\"word-wrap: break-word\" class=\"diff_next\"></td><td style=\"word-wrap: break-word\" class=\"diff_header\" id=\"from19_4\">4</td><td style=\"word-wrap: break-word\" ></td><td style=\"word-wrap: break-word\" class=\"diff_next\"></td><td style=\"word-wrap: break-word\" class=\"diff_header\" id=\"to19_4\">4</td><td style=\"word-wrap: break-word\" ></td></tr>\n",
       "            <tr><td style=\"word-wrap: break-word\" class=\"diff_next\" id=\"difflib_chg_to19__4\"><a href=\"#difflib_chg_to19__3\">n</a></td><td style=\"word-wrap: break-word\" class=\"diff_header\" id=\"from19_5\">5</td><td style=\"word-wrap: break-word\" ><span class=\"diff_sub\">Illegal&nbsp;fishing&nbsp;is&nbsp;destroying&nbsp;our&nbsp;oceans.&nbsp;Years&nbsp;of&nbsp;overfishing&nbsp;in&nbsp;nearshore&nbsp;waters&nbsp;have&nbsp;forced&nbsp;boats&nbsp;to&nbsp;go&nbsp;into&nbsp;deeper&nbsp;waters,&nbsp;which&nbsp;makes&nbsp;fishing&nbsp;more&nbsp;expensive.&nbsp;Some&nbsp;fishers&nbsp;will&nbsp;cut&nbsp;costs&nbsp;by&nbsp;fishing&nbsp;with&nbsp;illegal&nbsp;gear,&nbsp;fishing&nbsp;in&nbsp;protected&nbsp;areas,&nbsp;or&nbsp;ignoring&nbsp;catch&nbsp;limits.&nbsp;To&nbsp;save&nbsp;on&nbsp;labor&nbsp;costs,&nbsp;some&nbsp;vessel&nbsp;owners&nbsp;rely&nbsp;on&nbsp;human&nbsp;traffickers,&nbsp;some&nbsp;even&nbsp;kidnapping&nbsp;or&nbsp;drugging&nbsp;workers&nbsp;to&nbsp;get&nbsp;them&nbsp;on&nbsp;the&nbsp;ship&nbsp;and&nbsp;cut&nbsp;off&nbsp;from&nbsp;help.&nbsp;Further,&nbsp;the&nbsp;overseas&nbsp;seafood&nbsp;processing&nbsp;industry&nbsp;is&nbsp;heavily&nbsp;reliant&nbsp;on&nbsp;forced&nbsp;labor.&nbsp;&nbsp;</span></td><td style=\"word-wrap: break-word\" class=\"diff_next\"><a href=\"#difflib_chg_to19__3\">n</a></td><td style=\"word-wrap: break-word\" class=\"diff_header\" id=\"to19_5\">5</td><td style=\"word-wrap: break-word\" ><span class=\"diff_add\">However&nbsp;there&nbsp;are&nbsp;few&nbsp;things&nbsp;which&nbsp;need&nbsp;to&nbsp;be&nbsp;addressed&nbsp;in&nbsp;the&nbsp;current&nbsp;system,&nbsp;as&nbsp;well&nbsp;as&nbsp;what&nbsp;has&nbsp;been&nbsp;proposed.&nbsp;</span></td></tr>\n",
       "            <tr><td style=\"word-wrap: break-word\" class=\"diff_next\"></td><td style=\"word-wrap: break-word\" class=\"diff_header\" id=\"from19_6\">6</td><td style=\"word-wrap: break-word\" ></td><td style=\"word-wrap: break-word\" class=\"diff_next\"></td><td style=\"word-wrap: break-word\" class=\"diff_header\" id=\"to19_6\">6</td><td style=\"word-wrap: break-word\" ></td></tr>\n",
       "            <tr><td style=\"word-wrap: break-word\" class=\"diff_next\" id=\"difflib_chg_to19__5\"><a href=\"#difflib_chg_to19__4\">n</a></td><td style=\"word-wrap: break-word\" class=\"diff_header\" id=\"from19_7\">7</td><td style=\"word-wrap: break-word\" ><span class=\"diff_sub\">The&nbsp;U.S.&nbsp;is&nbsp;one&nbsp;of&nbsp;the&nbsp;largest&nbsp;consumers&nbsp;of&nbsp;seafood.&nbsp;Approximately&nbsp;eighty&nbsp;percent&nbsp;of&nbsp;the&nbsp;seafood&nbsp;sold&nbsp;in&nbsp;the&nbsp;U.S.&nbsp;is&nbsp;imported,&nbsp;and&nbsp;as&nbsp;much&nbsp;as&nbsp;a&nbsp;third&nbsp;of&nbsp;the&nbsp;wild-caught&nbsp;seafood&nbsp;sold&nbsp;in&nbsp;the&nbsp;United&nbsp;States&nbsp;each&nbsp;year&nbsp;is&nbsp;illegal&nbsp;or&nbsp;unreported.&nbsp;&nbsp;</span></td><td style=\"word-wrap: break-word\" class=\"diff_next\"><a href=\"#difflib_chg_to19__4\">n</a></td><td style=\"word-wrap: break-word\" class=\"diff_header\" id=\"to19_7\">7</td><td style=\"word-wrap: break-word\" ><span class=\"diff_add\">1.&nbsp;changes&nbsp;to&nbsp;the&nbsp;permit&nbsp;holder&nbsp;regulations</span></td></tr>\n",
       "            <tr><td style=\"word-wrap: break-word\" class=\"diff_next\"></td><td style=\"word-wrap: break-word\" class=\"diff_header\"></td><td style=\"word-wrap: break-word\" ></td><td style=\"word-wrap: break-word\" class=\"diff_next\"></td><td style=\"word-wrap: break-word\" class=\"diff_header\" id=\"to19_8\">8</td><td style=\"word-wrap: break-word\" ><span class=\"diff_add\">-&nbsp;With&nbsp;current&nbsp;regulations,&nbsp;when&nbsp;the&nbsp;CBP&nbsp;Importer&nbsp;of&nbsp;Record&nbsp;is&nbsp;a&nbsp;foreign&nbsp;based&nbsp;entity&nbsp;(in&nbsp;Delivery&nbsp;Duty&nbsp;Paid&nbsp;[DDP]&nbsp;transactions),&nbsp;the&nbsp;NOAA&nbsp;IFT&nbsp;Permit&nbsp;holder&nbsp;is&nbsp;most&nbsp;often&nbsp;a&nbsp;US&nbsp;Company,&nbsp;because&nbsp;NOAA&nbsp;does&nbsp;not&nbsp;allow&nbsp;a&nbsp;foreign&nbsp;entity&nbsp;to&nbsp;hold&nbsp;an&nbsp;IFT&nbsp;Permit.&nbsp;If&nbsp;the&nbsp;proposal&nbsp;passes&nbsp;it&nbsp;will&nbsp;disallow&nbsp;all&nbsp;DDP&nbsp;imports&nbsp;which&nbsp;include&nbsp;any&nbsp;SIMP&nbsp;species.&nbsp;Now...&nbsp;US&nbsp;based&nbsp;Importers&nbsp;of&nbsp;Record&nbsp;will&nbsp;be&nbsp;responsible&nbsp;as&nbsp;the&nbsp;CBP&nbsp;Importer&nbsp;of&nbsp;Record&nbsp;for&nbsp;all&nbsp;these&nbsp;imports,&nbsp;including&nbsp;DDP&nbsp;imports&nbsp;of&nbsp;shrimp&nbsp;which&nbsp;carry&nbsp;hefty&nbsp;Anti-Dumping&nbsp;Duties&nbsp;(ADD).&nbsp;If&nbsp;a&nbsp;US&nbsp;based&nbsp;importer&nbsp;begins&nbsp;importing&nbsp;DDP&nbsp;product&nbsp;it&nbsp;will&nbsp;be&nbsp;required&nbsp;they&nbsp;provide&nbsp;Letters&nbsp;of&nbsp;Credit&nbsp;for&nbsp;a&nbsp;continuous&nbsp;bond&nbsp;with&nbsp;customs,&nbsp;which&nbsp;total&nbsp;millions&nbsp;of&nbsp;dollars&nbsp;in&nbsp;LCs&nbsp;at&nbsp;their&nbsp;bank.&nbsp;The&nbsp;other&nbsp;option&nbsp;would&nbsp;be&nbsp;that&nbsp;foreign&nbsp;based&nbsp;entities&nbsp;make&nbsp;very&nbsp;costly&nbsp;capital&nbsp;investments&nbsp;to&nbsp;open&nbsp;up&nbsp;their&nbsp;own&nbsp;US&nbsp;offices&nbsp;with&nbsp;staff&nbsp;and&nbsp;logistics&nbsp;departments.&nbsp;With&nbsp;this&nbsp;proposal&nbsp;we&nbsp;are&nbsp;opening&nbsp;up&nbsp;a&nbsp;can&nbsp;of&nbsp;economic&nbsp;worms,&nbsp;in&nbsp;already&nbsp;difficult&nbsp;financial&nbsp;times&nbsp;globally.&nbsp;</span></td></tr>\n",
       "            <tr><td style=\"word-wrap: break-word\" class=\"diff_next\"></td><td style=\"word-wrap: break-word\" class=\"diff_header\" id=\"from19_8\">8</td><td style=\"word-wrap: break-word\" ></td><td style=\"word-wrap: break-word\" class=\"diff_next\"></td><td style=\"word-wrap: break-word\" class=\"diff_header\" id=\"to19_9\">9</td><td style=\"word-wrap: break-word\" ></td></tr>\n",
       "            <tr><td style=\"word-wrap: break-word\" class=\"diff_next\"><a href=\"#difflib_chg_to19__5\">n</a></td><td style=\"word-wrap: break-word\" class=\"diff_header\" id=\"from19_9\">9</td><td style=\"word-wrap: break-word\" ><span class=\"diff_sub\">The&nbsp;U.S.&nbsp;government&nbsp;has&nbsp;a&nbsp;responsibility&nbsp;to&nbsp;fix&nbsp;these&nbsp;problems,&nbsp;and&nbsp;seafood&nbsp;traceability&nbsp;is&nbsp;an&nbsp;essential&nbsp;step&nbsp;in&nbsp;the&nbsp;fight&nbsp;to&nbsp;end&nbsp;illegal&nbsp;fishing&nbsp;and&nbsp;human&nbsp;rights&nbsp;abuses&nbsp;in&nbsp;the&nbsp;seafood&nbsp;industry.&nbsp;But&nbsp;under&nbsp;NOAA&nbsp;Fisheries’&nbsp;proposed&nbsp;rule,&nbsp;traceability&nbsp;requirements&nbsp;would&nbsp;apply&nbsp;to&nbsp;only&nbsp;half&nbsp;of&nbsp;seafood&nbsp;imports,&nbsp;leaving&nbsp;massive&nbsp;loopholes&nbsp;that&nbsp;are&nbsp;easy&nbsp;for&nbsp;bad&nbsp;actors&nbsp;to&nbsp;exploit.&nbsp;The&nbsp;proposed&nbsp;rule&nbsp;also&nbsp;fails&nbsp;to&nbsp;sufficiently&nbsp;address&nbsp;labor&nbsp;abuses&nbsp;in&nbsp;seafood&nbsp;supply&nbsp;chains,&nbsp;and&nbsp;it&nbsp;includes&nbsp;no&nbsp;commitment&nbsp;to&nbsp;improve&nbsp;enforcement&nbsp;of&nbsp;traceability&nbsp;requirements.&nbsp;</span></td><td style=\"word-wrap: break-word\" class=\"diff_next\"><a href=\"#difflib_chg_to19__5\">n</a></td><td style=\"word-wrap: break-word\" class=\"diff_header\" id=\"to19_10\">10</td><td style=\"word-wrap: break-word\" ><span class=\"diff_add\">2.&nbsp;If&nbsp;a&nbsp;unified&nbsp;document&nbsp;is&nbsp;required&nbsp;(which&nbsp;I&nbsp;believe&nbsp;it&nbsp;should&nbsp;be),&nbsp;it&nbsp;absolutely&nbsp;needs&nbsp;to&nbsp;be&nbsp;100%&nbsp;digitally&nbsp;readable,&nbsp;so&nbsp;it&nbsp;can&nbsp;be&nbsp;easily&nbsp;uploaded&nbsp;in&nbsp;the&nbsp;ACE&nbsp;system,&nbsp;with&nbsp;out&nbsp;further&nbsp;modification.&nbsp;</span></td></tr>\n",
       "            <tr><td style=\"word-wrap: break-word\" class=\"diff_next\"></td><td style=\"word-wrap: break-word\" class=\"diff_header\" id=\"from19_10\">10</td><td style=\"word-wrap: break-word\" ></td><td style=\"word-wrap: break-word\" class=\"diff_next\"></td><td style=\"word-wrap: break-word\" class=\"diff_header\" id=\"to19_11\">11</td><td style=\"word-wrap: break-word\" ></td></tr>\n",
       "            <tr><td style=\"word-wrap: break-word\" class=\"diff_next\"><a href=\"#difflib_chg_to19__top\">t</a></td><td style=\"word-wrap: break-word\" class=\"diff_header\" id=\"from19_11\">11</td><td style=\"word-wrap: break-word\" ><span class=\"diff_sub\">Please&nbsp;revise&nbsp;the&nbsp;Seafood&nbsp;Import&nbsp;Monitoring&nbsp;Program&nbsp;proposed&nbsp;rule&nbsp;to&nbsp;adopt&nbsp;the&nbsp;strongest&nbsp;possible&nbsp;standards&nbsp;for&nbsp;seafood&nbsp;traceability&nbsp;to&nbsp;intercept&nbsp;the&nbsp;flow&nbsp;of&nbsp;illegal&nbsp;seafood&nbsp;into&nbsp;the&nbsp;U.S.&nbsp;and&nbsp;help&nbsp;consumers&nbsp;feel&nbsp;confident&nbsp;the&nbsp;seafood&nbsp;they&nbsp;buy&nbsp;is&nbsp;legally&nbsp;caught&nbsp;and&nbsp;not&nbsp;a&nbsp;product&nbsp;of&nbsp;labor&nbsp;abuses.&nbsp;Thank&nbsp;you&nbsp;for&nbsp;helping&nbsp;to&nbsp;address&nbsp;these&nbsp;environmental&nbsp;and&nbsp;human&nbsp;rights&nbsp;crimes&nbsp;with&nbsp;the&nbsp;seriousness&nbsp;they&nbsp;deserve.</span></td><td style=\"word-wrap: break-word\" class=\"diff_next\"><a href=\"#difflib_chg_to19__top\">t</a></td><td style=\"word-wrap: break-word\" class=\"diff_header\" id=\"to19_12\">12</td><td style=\"word-wrap: break-word\" ><span class=\"diff_add\">3.&nbsp;Catch&nbsp;Methods&nbsp;</span></td></tr>\n",
       "            <tr><td style=\"word-wrap: break-word\" class=\"diff_next\"></td><td style=\"word-wrap: break-word\" class=\"diff_header\"></td><td style=\"word-wrap: break-word\" ></td><td style=\"word-wrap: break-word\" class=\"diff_next\"></td><td style=\"word-wrap: break-word\" class=\"diff_header\" id=\"to19_13\">13</td><td style=\"word-wrap: break-word\" ><span class=\"diff_add\">catch&nbsp;methods&nbsp;go&nbsp;by&nbsp;various&nbsp;names&nbsp;all&nbsp;over&nbsp;the&nbsp;world,&nbsp;and&nbsp;many&nbsp;are&nbsp;a&nbsp;combination&nbsp;of&nbsp;multiple&nbsp;methods,&nbsp;or&nbsp;the&nbsp;fishing&nbsp;methods&nbsp;used&nbsp;on&nbsp;the&nbsp;vessel&nbsp;to&nbsp;harvest&nbsp;the&nbsp;catch&nbsp;are&nbsp;diverse.&nbsp;&nbsp;The&nbsp;codes&nbsp;for&nbsp;these&nbsp;variety&nbsp;of&nbsp;fishing&nbsp;methods&nbsp;is&nbsp;already&nbsp;available&nbsp;and&nbsp;labeled&nbsp;by&nbsp;FAO,&nbsp;the&nbsp;current&nbsp;SIMP&nbsp;fishing&nbsp;method&nbsp;codes&nbsp;and&nbsp;their&nbsp;SIMP&nbsp;definitions&nbsp;are&nbsp;ambiguous.&nbsp;&nbsp;\"Purse&nbsp;Seine&nbsp;Catching&nbsp;Large&nbsp;Fish\"&nbsp;\"Purse&nbsp;Seine&nbsp;Catching&nbsp;Small&nbsp;Fish.\"&nbsp;At&nbsp;what&nbsp;point&nbsp;does&nbsp;the&nbsp;fish&nbsp;become&nbsp;small,&nbsp;and&nbsp;what&nbsp;point&nbsp;does&nbsp;the&nbsp;fish&nbsp;become&nbsp;large,&nbsp;and&nbsp;if&nbsp;I&nbsp;catch&nbsp;both&nbsp;small&nbsp;and&nbsp;large&nbsp;fish&nbsp;in&nbsp;my&nbsp;seine,&nbsp;but&nbsp;the&nbsp;number&nbsp;of&nbsp;small&nbsp;fish&nbsp;is&nbsp;more&nbsp;than&nbsp;the&nbsp;large&nbsp;fish,&nbsp;but&nbsp;the&nbsp;large&nbsp;fish&nbsp;are&nbsp;more&nbsp;weight&nbsp;than&nbsp;the&nbsp;small&nbsp;fish,&nbsp;but&nbsp;my&nbsp;target&nbsp;catch&nbsp;was&nbsp;the&nbsp;small&nbsp;fish,&nbsp;what&nbsp;type&nbsp;of&nbsp;purse&nbsp;seine&nbsp;am&nbsp;I&nbsp;using.&nbsp;Small&nbsp;fish&nbsp;or&nbsp;large&nbsp;fish.&nbsp;Or&nbsp;is&nbsp;it&nbsp;just&nbsp;determined&nbsp;by&nbsp;the&nbsp;species&nbsp;which&nbsp;is&nbsp;imported.&nbsp;If&nbsp;that&nbsp;is&nbsp;the&nbsp;case,&nbsp;why&nbsp;distinguish&nbsp;from&nbsp;large&nbsp;fish&nbsp;and&nbsp;small&nbsp;fish&nbsp;purse&nbsp;seine&nbsp;when&nbsp;one&nbsp;can&nbsp;just&nbsp;pick&nbsp;\"Purse&nbsp;Seine:&nbsp;Net.\"&nbsp;There&nbsp;are&nbsp;more,&nbsp;but&nbsp;I&nbsp;will&nbsp;stop&nbsp;there,&nbsp;as&nbsp;I&nbsp;don't&nbsp;want&nbsp;to&nbsp;be&nbsp;redundant&nbsp;like&nbsp;the&nbsp;codes.&nbsp;Using&nbsp;the&nbsp;FAO&nbsp;fishing&nbsp;codes&nbsp;solves&nbsp;this&nbsp;issue&nbsp;as&nbsp;the&nbsp;global&nbsp;seafood&nbsp;supply&nbsp;chain&nbsp;is&nbsp;already&nbsp;using&nbsp;it&nbsp;to&nbsp;describe&nbsp;their&nbsp;catch&nbsp;methods.&nbsp;</span></td></tr>\n",
       "            <tr><td style=\"word-wrap: break-word\" class=\"diff_next\"></td><td style=\"word-wrap: break-word\" class=\"diff_header\"></td><td style=\"word-wrap: break-word\" ></td><td style=\"word-wrap: break-word\" class=\"diff_next\"></td><td style=\"word-wrap: break-word\" class=\"diff_header\" id=\"to19_14\">14</td><td style=\"word-wrap: break-word\" ><span class=\"diff_add\">&nbsp;</span></td></tr>\n",
       "            <tr><td style=\"word-wrap: break-word\" class=\"diff_next\"></td><td style=\"word-wrap: break-word\" class=\"diff_header\"></td><td style=\"word-wrap: break-word\" ></td><td style=\"word-wrap: break-word\" class=\"diff_next\"></td><td style=\"word-wrap: break-word\" class=\"diff_header\" id=\"to19_15\">15</td><td style=\"word-wrap: break-word\" ><span class=\"diff_add\">3.&nbsp;SIMP&nbsp;is&nbsp;looking&nbsp;for&nbsp;format&nbsp;of&nbsp;the&nbsp;product&nbsp;landed&nbsp;to&nbsp;determine/calculate&nbsp;the&nbsp;total&nbsp;catch&nbsp;weight&nbsp;landed.</span></td></tr>\n",
       "            <tr><td style=\"word-wrap: break-word\" class=\"diff_next\"></td><td style=\"word-wrap: break-word\" class=\"diff_header\"></td><td style=\"word-wrap: break-word\" ></td><td style=\"word-wrap: break-word\" class=\"diff_next\"></td><td style=\"word-wrap: break-word\" class=\"diff_header\" id=\"to19_16\">16</td><td style=\"word-wrap: break-word\" ><span class=\"diff_add\">-&nbsp;Vessels&nbsp;such&nbsp;as&nbsp;those&nbsp;in&nbsp;Iceland&nbsp;may&nbsp;land&nbsp;a&nbsp;variety&nbsp;of&nbsp;product&nbsp;forms&nbsp;from&nbsp;the&nbsp;catch&nbsp;processed&nbsp;fully,&nbsp;or&nbsp;only&nbsp;partially&nbsp;onboard,&nbsp;and&nbsp;lands&nbsp;these&nbsp;as&nbsp;a&nbsp;single&nbsp;event.</span></td></tr>\n",
       "            <tr><td style=\"word-wrap: break-word\" class=\"diff_next\"></td><td style=\"word-wrap: break-word\" class=\"diff_header\"></td><td style=\"word-wrap: break-word\" ></td><td style=\"word-wrap: break-word\" class=\"diff_next\"></td><td style=\"word-wrap: break-word\" class=\"diff_header\" id=\"to19_17\">17</td><td style=\"word-wrap: break-word\" ><span class=\"diff_add\">-&nbsp;This&nbsp;can&nbsp;include&nbsp;but&nbsp;isn't&nbsp;limited&nbsp;to,&nbsp;liver,&nbsp;Roe,&nbsp;fillets,&nbsp;heads,&nbsp;Offal,&nbsp;or&nbsp;even&nbsp;by&nbsp;product&nbsp;processed&nbsp;into&nbsp;fish&nbsp;meal&nbsp;and&nbsp;fish&nbsp;oil&nbsp;on&nbsp;board.&nbsp;</span></td></tr>\n",
       "            <tr><td style=\"word-wrap: break-word\" class=\"diff_next\"></td><td style=\"word-wrap: break-word\" class=\"diff_header\"></td><td style=\"word-wrap: break-word\" ></td><td style=\"word-wrap: break-word\" class=\"diff_next\"></td><td style=\"word-wrap: break-word\" class=\"diff_header\" id=\"to19_18\">18</td><td style=\"word-wrap: break-word\" ><span class=\"diff_add\">-&nbsp;Example:&nbsp;a&nbsp;vessel&nbsp;landed&nbsp;1,000&nbsp;kg&nbsp;of&nbsp;gutted&nbsp;cod,&nbsp;and&nbsp;50&nbsp;kg&nbsp;of&nbsp;(Liver&nbsp;&amp;&nbsp;Roe&nbsp;&amp;&nbsp;milt).&nbsp;&nbsp;The&nbsp;first&nbsp;receiver&nbsp;only&nbsp;picks&nbsp;up&nbsp;the&nbsp;gutted&nbsp;cod,&nbsp;and&nbsp;then&nbsp;sells&nbsp;it&nbsp;to&nbsp;a&nbsp;processor&nbsp;who&nbsp;cuts&nbsp;it,&nbsp;who&nbsp;then&nbsp;sells&nbsp;it&nbsp;to&nbsp;an&nbsp;exporter&nbsp;FOB&nbsp;the&nbsp;airport&nbsp;receiving&nbsp;dock.&nbsp;</span></td></tr>\n",
       "            <tr><td style=\"word-wrap: break-word\" class=\"diff_next\"></td><td style=\"word-wrap: break-word\" class=\"diff_header\"></td><td style=\"word-wrap: break-word\" ></td><td style=\"word-wrap: break-word\" class=\"diff_next\"></td><td style=\"word-wrap: break-word\" class=\"diff_header\" id=\"to19_19\">19</td><td style=\"word-wrap: break-word\" ><span class=\"diff_add\">-&nbsp;Should&nbsp;the&nbsp;importer&nbsp;report&nbsp;all&nbsp;the&nbsp;product&nbsp;forms&nbsp;landed&nbsp;from&nbsp;the&nbsp;entire&nbsp;catch&nbsp;or&nbsp;just&nbsp;that&nbsp;which&nbsp;the&nbsp;\"first&nbsp;receiver\"&nbsp;picked&nbsp;up&nbsp;from&nbsp;the&nbsp;boat&nbsp;and&nbsp;delivered&nbsp;to&nbsp;the&nbsp;processor?&nbsp;If&nbsp;they&nbsp;report&nbsp;all&nbsp;catch,&nbsp;and&nbsp;mark&nbsp;the&nbsp;\"first&nbsp;receiver\"&nbsp;down&nbsp;on&nbsp;all&nbsp;parts,&nbsp;it&nbsp;would&nbsp;not&nbsp;be&nbsp;true,&nbsp;as&nbsp;the&nbsp;\"first&nbsp;receiver\"&nbsp;did&nbsp;not&nbsp;receive&nbsp;that&nbsp;part&nbsp;of&nbsp;the&nbsp;catch,&nbsp;and&nbsp;it&nbsp;can&nbsp;not&nbsp;be&nbsp;traced&nbsp;back&nbsp;to&nbsp;them&nbsp;from&nbsp;the&nbsp;imported&nbsp;catch.&nbsp;&nbsp;</span></td></tr>\n",
       "            <tr><td style=\"word-wrap: break-word\" class=\"diff_next\"></td><td style=\"word-wrap: break-word\" class=\"diff_header\"></td><td style=\"word-wrap: break-word\" ></td><td style=\"word-wrap: break-word\" class=\"diff_next\"></td><td style=\"word-wrap: break-word\" class=\"diff_header\" id=\"to19_20\">20</td><td style=\"word-wrap: break-word\" ><span class=\"diff_add\">-&nbsp;This&nbsp;needs&nbsp;to&nbsp;be&nbsp;clarified&nbsp;in&nbsp;the&nbsp;document&nbsp;or&nbsp;in&nbsp;the&nbsp;Unified&nbsp;document.&nbsp;Each&nbsp;Landing&nbsp;event&nbsp;can&nbsp;and&nbsp;does&nbsp;have&nbsp;multiple&nbsp;first&nbsp;receivers,&nbsp;all&nbsp;taking&nbsp;different&nbsp;parts&nbsp;of&nbsp;the&nbsp;same&nbsp;catch.&nbsp;&nbsp;</span></td></tr>\n",
       "            <tr><td style=\"word-wrap: break-word\" class=\"diff_next\"></td><td style=\"word-wrap: break-word\" class=\"diff_header\"></td><td style=\"word-wrap: break-word\" ></td><td style=\"word-wrap: break-word\" class=\"diff_next\"></td><td style=\"word-wrap: break-word\" class=\"diff_header\" id=\"to19_21\">21</td><td style=\"word-wrap: break-word\" ><span class=\"diff_add\">&nbsp;</span></td></tr>\n",
       "            <tr><td style=\"word-wrap: break-word\" class=\"diff_next\"></td><td style=\"word-wrap: break-word\" class=\"diff_header\"></td><td style=\"word-wrap: break-word\" ></td><td style=\"word-wrap: break-word\" class=\"diff_next\"></td><td style=\"word-wrap: break-word\" class=\"diff_header\" id=\"to19_22\">22</td><td style=\"word-wrap: break-word\" ><span class=\"diff_add\">4.&nbsp;Education&nbsp;to&nbsp;Exporters&nbsp;and&nbsp;importers&nbsp;in&nbsp;more&nbsp;than&nbsp;just&nbsp;text.&nbsp;&nbsp;There&nbsp;should&nbsp;be&nbsp;video&nbsp;tutorials&nbsp;on&nbsp;how&nbsp;to&nbsp;complete&nbsp;this&nbsp;documentation,&nbsp;under&nbsp;the&nbsp;majority&nbsp;of&nbsp;import&nbsp;scenarios,&nbsp;as&nbsp;well&nbsp;a&nbsp;very&nbsp;clear&nbsp;definitions&nbsp;of&nbsp;the&nbsp;\"First&nbsp;Receiver\"&nbsp;Identity&nbsp;IDs.&nbsp;Many&nbsp;of&nbsp;the&nbsp;failed&nbsp;audits&nbsp;are&nbsp;result&nbsp;of&nbsp;SIMP&nbsp;paperwork&nbsp;being&nbsp;filled&nbsp;out&nbsp;improperly&nbsp;due&nbsp;to&nbsp;a&nbsp;lack&nbsp;of&nbsp;understanding&nbsp;of&nbsp;the&nbsp;definitions.&nbsp;&nbsp;The&nbsp;same&nbsp;is&nbsp;true&nbsp;for&nbsp;the&nbsp;auditors,&nbsp;as&nbsp;they&nbsp;all&nbsp;seems&nbsp;to&nbsp;have&nbsp;various&nbsp;different&nbsp;understandings&nbsp;of&nbsp;how&nbsp;these&nbsp;documents&nbsp;should&nbsp;be&nbsp;completed.&nbsp;&nbsp;</span></td></tr>\n",
       "            <tr><td style=\"word-wrap: break-word\" class=\"diff_next\"></td><td style=\"word-wrap: break-word\" class=\"diff_header\"></td><td style=\"word-wrap: break-word\" ></td><td style=\"word-wrap: break-word\" class=\"diff_next\"></td><td style=\"word-wrap: break-word\" class=\"diff_header\" id=\"to19_23\">23</td><td style=\"word-wrap: break-word\" ><span class=\"diff_add\">&nbsp;</span></td></tr>\n",
       "            <tr><td style=\"word-wrap: break-word\" class=\"diff_next\"></td><td style=\"word-wrap: break-word\" class=\"diff_header\"></td><td style=\"word-wrap: break-word\" ></td><td style=\"word-wrap: break-word\" class=\"diff_next\"></td><td style=\"word-wrap: break-word\" class=\"diff_header\" id=\"to19_24\">24</td><td style=\"word-wrap: break-word\" ><span class=\"diff_add\">5.&nbsp;I&nbsp;want&nbsp;to&nbsp;stress&nbsp;education&nbsp;on&nbsp;the&nbsp;current&nbsp;and&nbsp;new&nbsp;rules,&nbsp;as&nbsp;they&nbsp;directly&nbsp;impact&nbsp;peoples&nbsp;businesses&nbsp;if&nbsp;not&nbsp;performed&nbsp;correctly.&nbsp;&nbsp;The&nbsp;first&nbsp;roll&nbsp;out&nbsp;has&nbsp;been&nbsp;cumbersome&nbsp;for&nbsp;even&nbsp;NOAA&nbsp;auditors.&nbsp;Where&nbsp;there&nbsp;are&nbsp;no&nbsp;good&nbsp;answers&nbsp;for&nbsp;how&nbsp;to&nbsp;complete&nbsp;the&nbsp;documents&nbsp;correctly.&nbsp;</span></td></tr>\n",
       "            <tr><td style=\"word-wrap: break-word\" class=\"diff_next\"></td><td style=\"word-wrap: break-word\" class=\"diff_header\"></td><td style=\"word-wrap: break-word\" ></td><td style=\"word-wrap: break-word\" class=\"diff_next\"></td><td style=\"word-wrap: break-word\" class=\"diff_header\" id=\"to19_25\">25</td><td style=\"word-wrap: break-word\" ><span class=\"diff_add\">&nbsp;</span></td></tr>\n",
       "            <tr><td style=\"word-wrap: break-word\" class=\"diff_next\"></td><td style=\"word-wrap: break-word\" class=\"diff_header\"></td><td style=\"word-wrap: break-word\" ></td><td style=\"word-wrap: break-word\" class=\"diff_next\"></td><td style=\"word-wrap: break-word\" class=\"diff_header\" id=\"to19_26\">26</td><td style=\"word-wrap: break-word\" ><span class=\"diff_add\">Adding&nbsp;more&nbsp;species&nbsp;without&nbsp;fully&nbsp;addressing&nbsp;the&nbsp;knowledge&nbsp;gaps&nbsp;that&nbsp;exist&nbsp;with&nbsp;the&nbsp;current&nbsp;SIMP&nbsp;species&nbsp;is&nbsp;not&nbsp;acceptable.&nbsp;</span></td></tr>\n",
       "            <tr><td style=\"word-wrap: break-word\" class=\"diff_next\"></td><td style=\"word-wrap: break-word\" class=\"diff_header\"></td><td style=\"word-wrap: break-word\" ></td><td style=\"word-wrap: break-word\" class=\"diff_next\"></td><td style=\"word-wrap: break-word\" class=\"diff_header\" id=\"to19_27\">27</td><td style=\"word-wrap: break-word\" ><span class=\"diff_add\">&nbsp;</span></td></tr>\n",
       "        </tbody>\n",
       "    </table>\n",
       "    <table style=\"table-layout: fixed; width: 100%\" class=\"diff\" summary=\"Legends\">\n",
       "        <tr> <th colspan=\"2\"> Legends </th> </tr>\n",
       "        <tr> <td style=\"word-wrap: break-word\"> <table style=\"table-layout: fixed; width: 100%\" border=\"\" summary=\"Colors\">\n",
       "                      <tr><th> Colors </th> </tr>\n",
       "                      <tr><td style=\"word-wrap: break-word\" class=\"diff_add\">&nbsp;Added&nbsp;</td></tr>\n",
       "                      <tr><td style=\"word-wrap: break-word\" class=\"diff_chg\">Changed</td> </tr>\n",
       "                      <tr><td style=\"word-wrap: break-word\" class=\"diff_sub\">Deleted</td> </tr>\n",
       "                  </table></td>\n",
       "             <td style=\"word-wrap: break-word\"> <table style=\"table-layout: fixed; width: 100%\" border=\"\" summary=\"Links\">\n",
       "                      <tr><th colspan=\"2\"> Links </th> </tr>\n",
       "                      <tr><td style=\"word-wrap: break-word\">(f)irst change</td> </tr>\n",
       "                      <tr><td style=\"word-wrap: break-word\">(n)ext change</td> </tr>\n",
       "                      <tr><td style=\"word-wrap: break-word\">(t)op</td> </tr>\n",
       "                  </table></td> </tr>\n",
       "    </table>\n",
       "</body>\n",
       "\n",
       "</html>"
      ],
      "text/plain": [
       "<IPython.core.display.HTML object>"
      ]
     },
     "metadata": {},
     "output_type": "display_data"
    }
   ],
   "source": [
    "for i in bigger_deltas:\n",
    "    display(render_diff(default_NOAA_Admin_Text.split('\\n'),i.split('\\n'))) "
   ]
  },
  {
   "cell_type": "code",
   "execution_count": 24,
   "id": "bafc64e9",
   "metadata": {},
   "outputs": [
    {
     "data": {
      "text/html": [
       "\n",
       "<!DOCTYPE html PUBLIC \"-//W3C//DTD XHTML 1.0 Transitional//EN\"\n",
       "          \"http://www.w3.org/TR/xhtml1/DTD/xhtml1-transitional.dtd\">\n",
       "\n",
       "<html>\n",
       "\n",
       "<head>\n",
       "    <meta http-equiv=\"Content-Type\"\n",
       "          content=\"text/html; charset=utf-8\" />\n",
       "    <title></title>\n",
       "    <style type=\"text/css\">\n",
       "        table.diff {font-family:Courier; border:medium;}\n",
       "        .diff_header {background-color:#e0e0e0}\n",
       "        td.diff_header {text-align:right; width:1%}\n",
       "        .diff_next {background-color:#c0c0c0; width:1%}\n",
       "        .diff_add {background-color:#aaffaa}\n",
       "        .diff_chg {background-color:#ffff77}\n",
       "        .diff_sub {background-color:#ffaaaa}\n",
       "    </style>\n",
       "</head>\n",
       "\n",
       "<body>\n",
       "    \n",
       "    <table style=\"table-layout: fixed; width: 100%\" class=\"diff\" id=\"difflib_chg_to20__top\"\n",
       "           cellspacing=\"0\" cellpadding=\"0\" rules=\"groups\" >\n",
       "        <colgroup></colgroup> <colgroup></colgroup> <colgroup></colgroup>\n",
       "        <colgroup></colgroup> <colgroup></colgroup> <colgroup></colgroup>\n",
       "        \n",
       "        <tbody>\n",
       "            <tr><td style=\"word-wrap: break-word\" class=\"diff_next\" id=\"difflib_chg_to20__1\"><a href=\"#difflib_chg_to20__0\">f</a></td><td style=\"word-wrap: break-word\" class=\"diff_header\" id=\"from20_1\">1</td><td style=\"word-wrap: break-word\" >Dear&nbsp;NOAA&nbsp;Administrator&nbsp;Spinrad&nbsp;and&nbsp;NOAA&nbsp;Fisheries&nbsp;Assistant&nbsp;Administrator&nbsp;Coit:</td><td style=\"word-wrap: break-word\" class=\"diff_next\"><a href=\"#difflib_chg_to20__0\">f</a></td><td style=\"word-wrap: break-word\" class=\"diff_header\" id=\"to20_1\">1</td><td style=\"word-wrap: break-word\" >Dear&nbsp;NOAA&nbsp;Administrator&nbsp;Spinrad&nbsp;and&nbsp;NOAA&nbsp;Fisheries&nbsp;Assistant&nbsp;Administrator&nbsp;Coit:</td></tr>\n",
       "            <tr><td style=\"word-wrap: break-word\" class=\"diff_next\" id=\"difflib_chg_to20__2\"></td><td style=\"word-wrap: break-word\" class=\"diff_header\" id=\"from20_2\">2</td><td style=\"word-wrap: break-word\" ></td><td style=\"word-wrap: break-word\" class=\"diff_next\"></td><td style=\"word-wrap: break-word\" class=\"diff_header\" id=\"to20_2\">2</td><td style=\"word-wrap: break-word\" ></td></tr>\n",
       "            <tr><td style=\"word-wrap: break-word\" class=\"diff_next\"><a href=\"#difflib_chg_to20__1\">n</a></td><td style=\"word-wrap: break-word\" class=\"diff_header\" id=\"from20_3\">3</td><td style=\"word-wrap: break-word\" ><span class=\"diff_sub\">The&nbsp;United&nbsp;States&nbsp;needs&nbsp;an&nbsp;effective&nbsp;seafood&nbsp;traceability&nbsp;program&nbsp;to&nbsp;intercept&nbsp;the&nbsp;flow&nbsp;of&nbsp;illegal&nbsp;seafood&nbsp;into&nbsp;our&nbsp;markets.&nbsp;Illegal&nbsp;fishing&nbsp;is&nbsp;a&nbsp;top&nbsp;driver&nbsp;of&nbsp;unsustainable&nbsp;and&nbsp;environmentally&nbsp;harmful&nbsp;fishing&nbsp;practices&nbsp;around&nbsp;the&nbsp;globe,&nbsp;as&nbsp;well&nbsp;as&nbsp;associated&nbsp;human&nbsp;rights&nbsp;abuses&nbsp;in&nbsp;the&nbsp;seafood&nbsp;sector.&nbsp;The&nbsp;newly&nbsp;proposed&nbsp;changes&nbsp;to&nbsp;the&nbsp;Seafood&nbsp;Import&nbsp;Monitoring&nbsp;Program&nbsp;do&nbsp;not&nbsp;go&nbsp;far&nbsp;enough&nbsp;to&nbsp;help&nbsp;end&nbsp;the&nbsp;U.S.'s&nbsp;role&nbsp;in&nbsp;perpetuating&nbsp;human&nbsp;rights&nbsp;abuses&nbsp;and&nbsp;environmental&nbsp;destruction&nbsp;in&nbsp;the&nbsp;seafood&nbsp;industry.&nbsp;</span></td><td style=\"word-wrap: break-word\" class=\"diff_next\"><a href=\"#difflib_chg_to20__1\">n</a></td><td style=\"word-wrap: break-word\" class=\"diff_header\" id=\"to20_3\">3</td><td style=\"word-wrap: break-word\" ><span class=\"diff_add\">It&nbsp;seems&nbsp;clear&nbsp;that&nbsp;the&nbsp;United&nbsp;States&nbsp;must&nbsp;adopt&nbsp;an&nbsp;effective&nbsp;seafood&nbsp;traceability&nbsp;program&nbsp;to&nbsp;intercept&nbsp;the&nbsp;illegal&nbsp;seafood&nbsp;going&nbsp;into&nbsp;our&nbsp;markets.&nbsp;Illegal&nbsp;fishing&nbsp;is&nbsp;a&nbsp;MAJOR&nbsp;cause&nbsp;of&nbsp;unsustainable&nbsp;and&nbsp;environmentally&nbsp;destructive&nbsp;fishing&nbsp;practices&nbsp;around&nbsp;the&nbsp;globe,&nbsp;as&nbsp;well&nbsp;as&nbsp;associated&nbsp;human&nbsp;rights&nbsp;abuses&nbsp;in&nbsp;the&nbsp;seafood&nbsp;sector.&nbsp;The&nbsp;newly&nbsp;proposed&nbsp;changes&nbsp;to&nbsp;the&nbsp;Seafood&nbsp;Import&nbsp;Monitoring&nbsp;Program&nbsp;are&nbsp;not&nbsp;sufficient&nbsp;to&nbsp;help&nbsp;end&nbsp;the&nbsp;U.S.'s&nbsp;role&nbsp;in&nbsp;perpetuating&nbsp;human&nbsp;rights&nbsp;abuses&nbsp;and&nbsp;environmental&nbsp;destruction&nbsp;in&nbsp;the&nbsp;seafood&nbsp;industry.&nbsp;</span></td></tr>\n",
       "            <tr><td style=\"word-wrap: break-word\" class=\"diff_next\" id=\"difflib_chg_to20__3\"></td><td style=\"word-wrap: break-word\" class=\"diff_header\" id=\"from20_4\">4</td><td style=\"word-wrap: break-word\" ></td><td style=\"word-wrap: break-word\" class=\"diff_next\"></td><td style=\"word-wrap: break-word\" class=\"diff_header\" id=\"to20_4\">4</td><td style=\"word-wrap: break-word\" ></td></tr>\n",
       "            <tr><td style=\"word-wrap: break-word\" class=\"diff_next\"><a href=\"#difflib_chg_to20__2\">n</a></td><td style=\"word-wrap: break-word\" class=\"diff_header\" id=\"from20_5\">5</td><td style=\"word-wrap: break-word\" >Illegal&nbsp;fishing&nbsp;is&nbsp;<span class=\"diff_chg\">destroying&nbsp;our</span>&nbsp;oceans.&nbsp;Years&nbsp;of&nbsp;overfishing&nbsp;in&nbsp;nearshore&nbsp;waters&nbsp;have&nbsp;forced&nbsp;boats&nbsp;to&nbsp;go&nbsp;into&nbsp;deeper&nbsp;waters,&nbsp;which&nbsp;makes&nbsp;fishing&nbsp;more&nbsp;expensive.&nbsp;Some&nbsp;fishers&nbsp;will&nbsp;cut&nbsp;costs&nbsp;by&nbsp;fishing&nbsp;with&nbsp;illegal&nbsp;gear,&nbsp;fishing&nbsp;in&nbsp;protected&nbsp;areas,&nbsp;or&nbsp;ignoring&nbsp;catch&nbsp;limits.&nbsp;To&nbsp;save&nbsp;on&nbsp;labor&nbsp;costs,&nbsp;some&nbsp;vessel&nbsp;owners&nbsp;rely&nbsp;on&nbsp;human&nbsp;traffickers,&nbsp;some&nbsp;even&nbsp;kidnapping&nbsp;or&nbsp;drugging&nbsp;workers&nbsp;to&nbsp;get&nbsp;them&nbsp;on&nbsp;the&nbsp;ship&nbsp;and&nbsp;cut&nbsp;off&nbsp;from&nbsp;help.&nbsp;Further,&nbsp;the&nbsp;overseas&nbsp;seafood&nbsp;processing&nbsp;industry&nbsp;is&nbsp;heavily&nbsp;reliant&nbsp;on&nbsp;forced&nbsp;labor.&nbsp;&nbsp;</td><td style=\"word-wrap: break-word\" class=\"diff_next\"><a href=\"#difflib_chg_to20__2\">n</a></td><td style=\"word-wrap: break-word\" class=\"diff_header\" id=\"to20_5\">5</td><td style=\"word-wrap: break-word\" >Illegal&nbsp;fishing&nbsp;is&nbsp;<span class=\"diff_chg\">DEVASTATING&nbsp;our</span>&nbsp;oceans.&nbsp;Years&nbsp;of&nbsp;overfishing&nbsp;in&nbsp;nearshore&nbsp;waters&nbsp;have&nbsp;forced&nbsp;boats&nbsp;to&nbsp;go&nbsp;into&nbsp;deeper&nbsp;waters,&nbsp;which&nbsp;makes&nbsp;fishing&nbsp;more&nbsp;expensive.&nbsp;Some&nbsp;fishers&nbsp;will&nbsp;cut&nbsp;costs&nbsp;by&nbsp;fishing&nbsp;with&nbsp;illegal&nbsp;gear,&nbsp;fishing&nbsp;in&nbsp;protected&nbsp;areas,&nbsp;or&nbsp;ignoring&nbsp;catch&nbsp;limits.&nbsp;To&nbsp;save&nbsp;on&nbsp;labor&nbsp;costs,&nbsp;some&nbsp;vessel&nbsp;owners&nbsp;rely&nbsp;on&nbsp;human&nbsp;traffickers,&nbsp;some&nbsp;even&nbsp;kidnapping&nbsp;or&nbsp;drugging&nbsp;workers&nbsp;to&nbsp;get&nbsp;them&nbsp;on&nbsp;the&nbsp;ship&nbsp;and&nbsp;cut&nbsp;off&nbsp;from&nbsp;help.&nbsp;Further,&nbsp;the&nbsp;overseas&nbsp;seafood&nbsp;processing&nbsp;industry&nbsp;is&nbsp;heavily&nbsp;reliant&nbsp;on&nbsp;forced&nbsp;labor.&nbsp;&nbsp;</td></tr>\n",
       "            <tr><td style=\"word-wrap: break-word\" class=\"diff_next\" id=\"difflib_chg_to20__4\"></td><td style=\"word-wrap: break-word\" class=\"diff_header\" id=\"from20_6\">6</td><td style=\"word-wrap: break-word\" ></td><td style=\"word-wrap: break-word\" class=\"diff_next\"></td><td style=\"word-wrap: break-word\" class=\"diff_header\" id=\"to20_6\">6</td><td style=\"word-wrap: break-word\" ></td></tr>\n",
       "            <tr><td style=\"word-wrap: break-word\" class=\"diff_next\"><a href=\"#difflib_chg_to20__3\">n</a></td><td style=\"word-wrap: break-word\" class=\"diff_header\" id=\"from20_7\">7</td><td style=\"word-wrap: break-word\" ><span class=\"diff_sub\">The&nbsp;U.S.&nbsp;is&nbsp;one&nbsp;of&nbsp;the&nbsp;largest&nbsp;consumers&nbsp;of&nbsp;seafood.&nbsp;Approximately&nbsp;eighty&nbsp;percent&nbsp;of&nbsp;the&nbsp;seafood&nbsp;sold&nbsp;in&nbsp;the&nbsp;U.S.&nbsp;is&nbsp;imported,&nbsp;and&nbsp;as&nbsp;much&nbsp;as&nbsp;a&nbsp;third&nbsp;of&nbsp;the&nbsp;wild-caught&nbsp;seafood&nbsp;sold&nbsp;in&nbsp;the&nbsp;United&nbsp;States&nbsp;each&nbsp;year&nbsp;is&nbsp;illegal&nbsp;or&nbsp;unreported.&nbsp;&nbsp;</span></td><td style=\"word-wrap: break-word\" class=\"diff_next\"><a href=\"#difflib_chg_to20__3\">n</a></td><td style=\"word-wrap: break-word\" class=\"diff_header\" id=\"to20_7\">7</td><td style=\"word-wrap: break-word\" ><span class=\"diff_add\">The&nbsp;U.S.&nbsp;is&nbsp;one&nbsp;of&nbsp;the&nbsp;largest&nbsp;consumers&nbsp;of&nbsp;seafood.&nbsp;Apparently&nbsp;80%&nbsp;of&nbsp;the&nbsp;seafood&nbsp;sold&nbsp;in&nbsp;the&nbsp;U.S.&nbsp;is&nbsp;imported,&nbsp;and&nbsp;as&nbsp;much&nbsp;as&nbsp;a&nbsp;third&nbsp;of&nbsp;the&nbsp;wild-caught&nbsp;seafood&nbsp;sold&nbsp;in&nbsp;the&nbsp;United&nbsp;States&nbsp;each&nbsp;year&nbsp;is&nbsp;illegal&nbsp;or&nbsp;unreported.&nbsp;&nbsp;</span></td></tr>\n",
       "            <tr><td style=\"word-wrap: break-word\" class=\"diff_next\"></td><td style=\"word-wrap: break-word\" class=\"diff_header\" id=\"from20_8\">8</td><td style=\"word-wrap: break-word\" ></td><td style=\"word-wrap: break-word\" class=\"diff_next\"></td><td style=\"word-wrap: break-word\" class=\"diff_header\" id=\"to20_8\">8</td><td style=\"word-wrap: break-word\" ></td></tr>\n",
       "            <tr><td style=\"word-wrap: break-word\" class=\"diff_next\"><a href=\"#difflib_chg_to20__4\">n</a></td><td style=\"word-wrap: break-word\" class=\"diff_header\" id=\"from20_9\">9</td><td style=\"word-wrap: break-word\" >The&nbsp;U.S.&nbsp;government&nbsp;<span class=\"diff_chg\">has&nbsp;a&nbsp;responsibility&nbsp;to</span>&nbsp;fix&nbsp;these&nbsp;problems,&nbsp;and&nbsp;seafood&nbsp;traceability&nbsp;is&nbsp;an&nbsp;<span class=\"diff_chg\">essential&nbsp;step&nbsp;in&nbsp;the</span>&nbsp;fight&nbsp;to&nbsp;end&nbsp;illegal&nbsp;fishing&nbsp;and&nbsp;human&nbsp;rights&nbsp;abuses&nbsp;in&nbsp;the&nbsp;seafood&nbsp;industry.&nbsp;But&nbsp;under&nbsp;NOAA&nbsp;Fisheries’&nbsp;proposed&nbsp;rule,&nbsp;traceability&nbsp;requirements&nbsp;would&nbsp;apply&nbsp;to&nbsp;only&nbsp;half&nbsp;of&nbsp;seafood&nbsp;imports,&nbsp;leaving&nbsp;massive&nbsp;loopholes&nbsp;that&nbsp;are&nbsp;easy&nbsp;for&nbsp;bad&nbsp;actors&nbsp;to&nbsp;exploit.&nbsp;The&nbsp;proposed&nbsp;rule&nbsp;also&nbsp;fails&nbsp;to&nbsp;sufficiently&nbsp;address&nbsp;labor&nbsp;abuses&nbsp;in&nbsp;seafood&nbsp;supply&nbsp;chains,&nbsp;and&nbsp;it&nbsp;includes&nbsp;no&nbsp;commitment&nbsp;to&nbsp;improve&nbsp;enforcement&nbsp;of&nbsp;traceability&nbsp;requirements.&nbsp;</td><td style=\"word-wrap: break-word\" class=\"diff_next\"><a href=\"#difflib_chg_to20__4\">n</a></td><td style=\"word-wrap: break-word\" class=\"diff_header\" id=\"to20_9\">9</td><td style=\"word-wrap: break-word\" >The&nbsp;U.S.&nbsp;government&nbsp;<span class=\"diff_chg\">MUST</span>&nbsp;fix&nbsp;these&nbsp;problems,&nbsp;and&nbsp;seafood&nbsp;traceability&nbsp;is&nbsp;an&nbsp;<span class=\"diff_chg\">CRITICAL&nbsp;step&nbsp;in&nbsp;the</span>&nbsp;fight&nbsp;to&nbsp;end&nbsp;illegal&nbsp;fishing&nbsp;and&nbsp;human&nbsp;rights&nbsp;abuses&nbsp;in&nbsp;the&nbsp;seafood&nbsp;industry.&nbsp;But&nbsp;under&nbsp;NOAA&nbsp;Fisheries’&nbsp;proposed&nbsp;rule,&nbsp;traceability&nbsp;requirements&nbsp;would&nbsp;apply&nbsp;to&nbsp;only&nbsp;half&nbsp;of&nbsp;seafood&nbsp;imports,&nbsp;leaving&nbsp;massive&nbsp;loopholes&nbsp;that&nbsp;are&nbsp;easy&nbsp;for&nbsp;bad&nbsp;actors&nbsp;to&nbsp;exploit.&nbsp;The&nbsp;proposed&nbsp;rule&nbsp;also&nbsp;fails&nbsp;to&nbsp;sufficiently&nbsp;address&nbsp;labor&nbsp;abuses&nbsp;in&nbsp;seafood&nbsp;supply&nbsp;chains,&nbsp;and&nbsp;it&nbsp;includes&nbsp;no&nbsp;commitment&nbsp;to&nbsp;improve&nbsp;enforcement&nbsp;of&nbsp;traceability&nbsp;requirements.&nbsp;</td></tr>\n",
       "            <tr><td style=\"word-wrap: break-word\" class=\"diff_next\"></td><td style=\"word-wrap: break-word\" class=\"diff_header\" id=\"from20_10\">10</td><td style=\"word-wrap: break-word\" ></td><td style=\"word-wrap: break-word\" class=\"diff_next\"></td><td style=\"word-wrap: break-word\" class=\"diff_header\" id=\"to20_10\">10</td><td style=\"word-wrap: break-word\" ></td></tr>\n",
       "            <tr><td style=\"word-wrap: break-word\" class=\"diff_next\"><a href=\"#difflib_chg_to20__top\">t</a></td><td style=\"word-wrap: break-word\" class=\"diff_header\" id=\"from20_11\">11</td><td style=\"word-wrap: break-word\" >Please&nbsp;revise&nbsp;the&nbsp;Seafood&nbsp;Import&nbsp;Monitoring&nbsp;Program&nbsp;proposed&nbsp;rule&nbsp;to&nbsp;adopt&nbsp;the&nbsp;strongest&nbsp;possible&nbsp;standards&nbsp;for&nbsp;seafood&nbsp;traceability&nbsp;to&nbsp;intercept&nbsp;the&nbsp;flow&nbsp;of&nbsp;illegal&nbsp;seafood&nbsp;into&nbsp;the&nbsp;U.S.&nbsp;and&nbsp;help&nbsp;consumers&nbsp;feel&nbsp;confident&nbsp;the&nbsp;seafood&nbsp;they&nbsp;buy&nbsp;is&nbsp;legally&nbsp;caught&nbsp;and&nbsp;not&nbsp;a&nbsp;product&nbsp;of&nbsp;labor&nbsp;abuses.&nbsp;<span class=\"diff_sub\">Thank&nbsp;you&nbsp;for&nbsp;helping&nbsp;to&nbsp;address&nbsp;these&nbsp;environmental&nbsp;and&nbsp;human&nbsp;rights&nbsp;crimes&nbsp;with&nbsp;the&nbsp;seriousness&nbsp;they&nbsp;deserve.</span></td><td style=\"word-wrap: break-word\" class=\"diff_next\"><a href=\"#difflib_chg_to20__top\">t</a></td><td style=\"word-wrap: break-word\" class=\"diff_header\" id=\"to20_11\">11</td><td style=\"word-wrap: break-word\" >Please&nbsp;revise&nbsp;the&nbsp;Seafood&nbsp;Import&nbsp;Monitoring&nbsp;Program&nbsp;proposed&nbsp;rule&nbsp;to&nbsp;adopt&nbsp;the&nbsp;strongest&nbsp;possible&nbsp;standards&nbsp;for&nbsp;seafood&nbsp;traceability&nbsp;to&nbsp;intercept&nbsp;the&nbsp;flow&nbsp;of&nbsp;illegal&nbsp;seafood&nbsp;into&nbsp;the&nbsp;U.S.&nbsp;and&nbsp;help&nbsp;consumers&nbsp;feel&nbsp;confident&nbsp;the&nbsp;seafood&nbsp;they&nbsp;buy&nbsp;is&nbsp;legally&nbsp;caught&nbsp;and&nbsp;not&nbsp;a&nbsp;product&nbsp;of&nbsp;labor&nbsp;abuses.&nbsp;</td></tr>\n",
       "            <tr><td style=\"word-wrap: break-word\" class=\"diff_next\"></td><td style=\"word-wrap: break-word\" class=\"diff_header\"></td><td style=\"word-wrap: break-word\" ></td><td style=\"word-wrap: break-word\" class=\"diff_next\"></td><td style=\"word-wrap: break-word\" class=\"diff_header\" id=\"to20_12\">12</td><td style=\"word-wrap: break-word\" ><span class=\"diff_add\">&nbsp;</span></td></tr>\n",
       "            <tr><td style=\"word-wrap: break-word\" class=\"diff_next\"></td><td style=\"word-wrap: break-word\" class=\"diff_header\"></td><td style=\"word-wrap: break-word\" ></td><td style=\"word-wrap: break-word\" class=\"diff_next\"></td><td style=\"word-wrap: break-word\" class=\"diff_header\" id=\"to20_13\">13</td><td style=\"word-wrap: break-word\" ><span class=\"diff_add\">Thank&nbsp;you&nbsp;for&nbsp;helping&nbsp;to&nbsp;address&nbsp;these&nbsp;environmental&nbsp;and&nbsp;human&nbsp;rights&nbsp;crimes&nbsp;with&nbsp;the&nbsp;seriousness&nbsp;they&nbsp;deserve.</span></td></tr>\n",
       "        </tbody>\n",
       "    </table>\n",
       "    <table style=\"table-layout: fixed; width: 100%\" class=\"diff\" summary=\"Legends\">\n",
       "        <tr> <th colspan=\"2\"> Legends </th> </tr>\n",
       "        <tr> <td style=\"word-wrap: break-word\"> <table style=\"table-layout: fixed; width: 100%\" border=\"\" summary=\"Colors\">\n",
       "                      <tr><th> Colors </th> </tr>\n",
       "                      <tr><td style=\"word-wrap: break-word\" class=\"diff_add\">&nbsp;Added&nbsp;</td></tr>\n",
       "                      <tr><td style=\"word-wrap: break-word\" class=\"diff_chg\">Changed</td> </tr>\n",
       "                      <tr><td style=\"word-wrap: break-word\" class=\"diff_sub\">Deleted</td> </tr>\n",
       "                  </table></td>\n",
       "             <td style=\"word-wrap: break-word\"> <table style=\"table-layout: fixed; width: 100%\" border=\"\" summary=\"Links\">\n",
       "                      <tr><th colspan=\"2\"> Links </th> </tr>\n",
       "                      <tr><td style=\"word-wrap: break-word\">(f)irst change</td> </tr>\n",
       "                      <tr><td style=\"word-wrap: break-word\">(n)ext change</td> </tr>\n",
       "                      <tr><td style=\"word-wrap: break-word\">(t)op</td> </tr>\n",
       "                  </table></td> </tr>\n",
       "    </table>\n",
       "</body>\n",
       "\n",
       "</html>"
      ],
      "text/plain": [
       "<IPython.core.display.HTML object>"
      ]
     },
     "metadata": {},
     "output_type": "display_data"
    },
    {
     "data": {
      "text/html": [
       "\n",
       "<!DOCTYPE html PUBLIC \"-//W3C//DTD XHTML 1.0 Transitional//EN\"\n",
       "          \"http://www.w3.org/TR/xhtml1/DTD/xhtml1-transitional.dtd\">\n",
       "\n",
       "<html>\n",
       "\n",
       "<head>\n",
       "    <meta http-equiv=\"Content-Type\"\n",
       "          content=\"text/html; charset=utf-8\" />\n",
       "    <title></title>\n",
       "    <style type=\"text/css\">\n",
       "        table.diff {font-family:Courier; border:medium;}\n",
       "        .diff_header {background-color:#e0e0e0}\n",
       "        td.diff_header {text-align:right; width:1%}\n",
       "        .diff_next {background-color:#c0c0c0; width:1%}\n",
       "        .diff_add {background-color:#aaffaa}\n",
       "        .diff_chg {background-color:#ffff77}\n",
       "        .diff_sub {background-color:#ffaaaa}\n",
       "    </style>\n",
       "</head>\n",
       "\n",
       "<body>\n",
       "    \n",
       "    <table style=\"table-layout: fixed; width: 100%\" class=\"diff\" id=\"difflib_chg_to21__top\"\n",
       "           cellspacing=\"0\" cellpadding=\"0\" rules=\"groups\" >\n",
       "        <colgroup></colgroup> <colgroup></colgroup> <colgroup></colgroup>\n",
       "        <colgroup></colgroup> <colgroup></colgroup> <colgroup></colgroup>\n",
       "        \n",
       "        <tbody>\n",
       "            <tr><td style=\"word-wrap: break-word\" class=\"diff_next\" id=\"difflib_chg_to21__0\"><a href=\"#difflib_chg_to21__0\">f</a></td><td style=\"word-wrap: break-word\" class=\"diff_header\" id=\"from21_1\">1</td><td style=\"word-wrap: break-word\" >Dear&nbsp;NOAA&nbsp;Administrator&nbsp;Spinrad&nbsp;and&nbsp;NOAA&nbsp;Fisheries&nbsp;Assistant&nbsp;Administrator&nbsp;Coit:</td><td style=\"word-wrap: break-word\" class=\"diff_next\"><a href=\"#difflib_chg_to21__0\">f</a></td><td style=\"word-wrap: break-word\" class=\"diff_header\" id=\"to21_1\">1</td><td style=\"word-wrap: break-word\" >Dear&nbsp;NOAA&nbsp;Administrator&nbsp;Spinrad&nbsp;and&nbsp;NOAA&nbsp;Fisheries&nbsp;Assistant&nbsp;Administrator&nbsp;Coit:</td></tr>\n",
       "            <tr><td style=\"word-wrap: break-word\" class=\"diff_next\"></td><td style=\"word-wrap: break-word\" class=\"diff_header\" id=\"from21_2\">2</td><td style=\"word-wrap: break-word\" ></td><td style=\"word-wrap: break-word\" class=\"diff_next\"></td><td style=\"word-wrap: break-word\" class=\"diff_header\" id=\"to21_2\">2</td><td style=\"word-wrap: break-word\" ></td></tr>\n",
       "            <tr><td style=\"word-wrap: break-word\" class=\"diff_next\"><a href=\"#difflib_chg_to21__1\">n</a></td><td style=\"word-wrap: break-word\" class=\"diff_header\" id=\"from21_3\">3</td><td style=\"word-wrap: break-word\" ><span class=\"diff_sub\">The&nbsp;United&nbsp;States&nbsp;needs&nbsp;an&nbsp;effective&nbsp;seafood&nbsp;traceability&nbsp;program&nbsp;to&nbsp;intercept&nbsp;the&nbsp;flow&nbsp;of&nbsp;illegal&nbsp;seafood&nbsp;into&nbsp;our&nbsp;markets.&nbsp;Illegal&nbsp;fishing&nbsp;is&nbsp;a&nbsp;top&nbsp;driver&nbsp;of&nbsp;unsustainable&nbsp;and&nbsp;environmentally&nbsp;harmful&nbsp;fishing&nbsp;practices&nbsp;around&nbsp;the&nbsp;globe,&nbsp;as&nbsp;well&nbsp;as&nbsp;associated&nbsp;human&nbsp;rights&nbsp;abuses&nbsp;in&nbsp;the&nbsp;seafood&nbsp;sector.&nbsp;The&nbsp;newly&nbsp;proposed&nbsp;changes&nbsp;to&nbsp;the&nbsp;Seafood&nbsp;Import&nbsp;Monitoring&nbsp;Program&nbsp;do&nbsp;not&nbsp;go&nbsp;far&nbsp;enough&nbsp;to&nbsp;help&nbsp;end&nbsp;the&nbsp;U.S.'s&nbsp;role&nbsp;in&nbsp;perpetuating&nbsp;human&nbsp;rights&nbsp;abuses&nbsp;and&nbsp;environmental&nbsp;destruction&nbsp;in&nbsp;the&nbsp;seafood&nbsp;industry.&nbsp;</span></td><td style=\"word-wrap: break-word\" class=\"diff_next\"><a href=\"#difflib_chg_to21__1\">n</a></td><td style=\"word-wrap: break-word\" class=\"diff_header\" id=\"to21_3\">3</td><td style=\"word-wrap: break-word\" ><span class=\"diff_add\">The&nbsp;United&nbsp;States&nbsp;needs&nbsp;an&nbsp;effective&nbsp;seafood&nbsp;traceability&nbsp;program&nbsp;to&nbsp;intercept&nbsp;the&nbsp;flow&nbsp;of&nbsp;illegal&nbsp;seafood&nbsp;into&nbsp;our&nbsp;markets.&nbsp;Illegal&nbsp;fishing&nbsp;is&nbsp;a&nbsp;top&nbsp;driver&nbsp;of&nbsp;unsustainable&nbsp;and&nbsp;environmentally&nbsp;harmful&nbsp;fishing&nbsp;practices&nbsp;around&nbsp;the&nbsp;globe.&nbsp;&nbsp;Furthermore,&nbsp;illegal&nbsp;fishing&nbsp;perpetrates&nbsp;human&nbsp;rights&nbsp;abuses&nbsp;of&nbsp;workers&nbsp;in&nbsp;the&nbsp;import&nbsp;seafood&nbsp;sector.&nbsp;</span></td></tr>\n",
       "            <tr><td style=\"word-wrap: break-word\" class=\"diff_next\"></td><td style=\"word-wrap: break-word\" class=\"diff_header\"></td><td style=\"word-wrap: break-word\" ></td><td style=\"word-wrap: break-word\" class=\"diff_next\"></td><td style=\"word-wrap: break-word\" class=\"diff_header\" id=\"to21_4\">4</td><td style=\"word-wrap: break-word\" ><span class=\"diff_add\">&nbsp;</span></td></tr>\n",
       "            <tr><td style=\"word-wrap: break-word\" class=\"diff_next\"></td><td style=\"word-wrap: break-word\" class=\"diff_header\"></td><td style=\"word-wrap: break-word\" ></td><td style=\"word-wrap: break-word\" class=\"diff_next\"></td><td style=\"word-wrap: break-word\" class=\"diff_header\" id=\"to21_5\">5</td><td style=\"word-wrap: break-word\" ><span class=\"diff_add\">The&nbsp;newly&nbsp;proposed&nbsp;changes&nbsp;to&nbsp;the&nbsp;Seafood&nbsp;Import&nbsp;Monitoring&nbsp;Program&nbsp;lack&nbsp;sufficient&nbsp;strength&nbsp;to&nbsp;stop&nbsp;the&nbsp;damage.&nbsp;&nbsp;The&nbsp;changes&nbsp;are&nbsp;insufficient&nbsp;to&nbsp;give&nbsp;the&nbsp;U.S.&nbsp;a&nbsp;powerful&nbsp;tool&nbsp;to&nbsp;in&nbsp;curtailing&nbsp;the&nbsp;destruction&nbsp;of&nbsp;ocean&nbsp;habitat&nbsp;and&nbsp;abuses&nbsp;of&nbsp;human&nbsp;rights&nbsp;perpetrated&nbsp;by&nbsp;illegal&nbsp;fishers.&nbsp;</span></td></tr>\n",
       "            <tr><td style=\"word-wrap: break-word\" class=\"diff_next\"></td><td style=\"word-wrap: break-word\" class=\"diff_header\" id=\"from21_4\">4</td><td style=\"word-wrap: break-word\" ></td><td style=\"word-wrap: break-word\" class=\"diff_next\"></td><td style=\"word-wrap: break-word\" class=\"diff_header\" id=\"to21_6\">6</td><td style=\"word-wrap: break-word\" ></td></tr>\n",
       "            <tr><td style=\"word-wrap: break-word\" class=\"diff_next\"></td><td style=\"word-wrap: break-word\" class=\"diff_header\" id=\"from21_5\">5</td><td style=\"word-wrap: break-word\" >Illegal&nbsp;fishing&nbsp;is&nbsp;destroying&nbsp;our&nbsp;oceans.&nbsp;Years&nbsp;of&nbsp;overfishing&nbsp;in&nbsp;nearshore&nbsp;waters&nbsp;have&nbsp;forced&nbsp;boats&nbsp;to&nbsp;go&nbsp;into&nbsp;deeper&nbsp;waters,&nbsp;which&nbsp;makes&nbsp;fishing&nbsp;more&nbsp;expensive.&nbsp;Some&nbsp;fishers&nbsp;will&nbsp;cut&nbsp;costs&nbsp;by&nbsp;fishing&nbsp;with&nbsp;illegal&nbsp;gear,&nbsp;fishing&nbsp;in&nbsp;protected&nbsp;areas,&nbsp;or&nbsp;ignoring&nbsp;catch&nbsp;limits.&nbsp;To&nbsp;save&nbsp;on&nbsp;labor&nbsp;costs,&nbsp;some&nbsp;vessel&nbsp;owners&nbsp;rely&nbsp;on&nbsp;human&nbsp;traffickers,&nbsp;some&nbsp;even&nbsp;kidnapping&nbsp;or&nbsp;drugging&nbsp;workers&nbsp;to&nbsp;get&nbsp;them&nbsp;on&nbsp;the&nbsp;ship&nbsp;and&nbsp;cut&nbsp;off&nbsp;from&nbsp;help.&nbsp;Further,&nbsp;the&nbsp;overseas&nbsp;seafood&nbsp;processing&nbsp;industry&nbsp;is&nbsp;heavily&nbsp;reliant&nbsp;on&nbsp;forced&nbsp;labor.&nbsp;&nbsp;</td><td style=\"word-wrap: break-word\" class=\"diff_next\"></td><td style=\"word-wrap: break-word\" class=\"diff_header\" id=\"to21_7\">7</td><td style=\"word-wrap: break-word\" >Illegal&nbsp;fishing&nbsp;is&nbsp;destroying&nbsp;our&nbsp;oceans.&nbsp;Years&nbsp;of&nbsp;overfishing&nbsp;in&nbsp;nearshore&nbsp;waters&nbsp;have&nbsp;forced&nbsp;boats&nbsp;to&nbsp;go&nbsp;into&nbsp;deeper&nbsp;waters,&nbsp;which&nbsp;makes&nbsp;fishing&nbsp;more&nbsp;expensive.&nbsp;Some&nbsp;fishers&nbsp;will&nbsp;cut&nbsp;costs&nbsp;by&nbsp;fishing&nbsp;with&nbsp;illegal&nbsp;gear,&nbsp;fishing&nbsp;in&nbsp;protected&nbsp;areas,&nbsp;or&nbsp;ignoring&nbsp;catch&nbsp;limits.&nbsp;To&nbsp;save&nbsp;on&nbsp;labor&nbsp;costs,&nbsp;some&nbsp;vessel&nbsp;owners&nbsp;rely&nbsp;on&nbsp;human&nbsp;traffickers,&nbsp;some&nbsp;even&nbsp;kidnapping&nbsp;or&nbsp;drugging&nbsp;workers&nbsp;to&nbsp;get&nbsp;them&nbsp;on&nbsp;the&nbsp;ship&nbsp;and&nbsp;cut&nbsp;off&nbsp;from&nbsp;help.&nbsp;Further,&nbsp;the&nbsp;overseas&nbsp;seafood&nbsp;processing&nbsp;industry&nbsp;is&nbsp;heavily&nbsp;reliant&nbsp;on&nbsp;forced&nbsp;labor.&nbsp;&nbsp;</td></tr>\n",
       "            <tr><td style=\"word-wrap: break-word\" class=\"diff_next\" id=\"difflib_chg_to21__1\"></td><td style=\"word-wrap: break-word\" class=\"diff_header\" id=\"from21_6\">6</td><td style=\"word-wrap: break-word\" ></td><td style=\"word-wrap: break-word\" class=\"diff_next\"></td><td style=\"word-wrap: break-word\" class=\"diff_header\" id=\"to21_8\">8</td><td style=\"word-wrap: break-word\" ></td></tr>\n",
       "            <tr><td style=\"word-wrap: break-word\" class=\"diff_next\"></td><td style=\"word-wrap: break-word\" class=\"diff_header\" id=\"from21_7\">7</td><td style=\"word-wrap: break-word\" >The&nbsp;U.S.&nbsp;is&nbsp;one&nbsp;of&nbsp;the&nbsp;largest&nbsp;consumers&nbsp;of&nbsp;seafood.&nbsp;Approximately&nbsp;eighty&nbsp;percent&nbsp;of&nbsp;the&nbsp;seafood&nbsp;sold&nbsp;in&nbsp;the&nbsp;U.S.&nbsp;is&nbsp;imported,&nbsp;and&nbsp;as&nbsp;much&nbsp;as&nbsp;a&nbsp;third&nbsp;of&nbsp;the&nbsp;wild-caught&nbsp;seafood&nbsp;sold&nbsp;in&nbsp;the&nbsp;United&nbsp;States&nbsp;each&nbsp;year&nbsp;is&nbsp;illegal&nbsp;or&nbsp;unreported.&nbsp;&nbsp;</td><td style=\"word-wrap: break-word\" class=\"diff_next\"></td><td style=\"word-wrap: break-word\" class=\"diff_header\" id=\"to21_9\">9</td><td style=\"word-wrap: break-word\" >The&nbsp;U.S.&nbsp;is&nbsp;one&nbsp;of&nbsp;the&nbsp;largest&nbsp;consumers&nbsp;of&nbsp;seafood.&nbsp;Approximately&nbsp;eighty&nbsp;percent&nbsp;of&nbsp;the&nbsp;seafood&nbsp;sold&nbsp;in&nbsp;the&nbsp;U.S.&nbsp;is&nbsp;imported,&nbsp;and&nbsp;as&nbsp;much&nbsp;as&nbsp;a&nbsp;third&nbsp;of&nbsp;the&nbsp;wild-caught&nbsp;seafood&nbsp;sold&nbsp;in&nbsp;the&nbsp;United&nbsp;States&nbsp;each&nbsp;year&nbsp;is&nbsp;illegal&nbsp;or&nbsp;unreported.&nbsp;&nbsp;</td></tr>\n",
       "            <tr><td style=\"word-wrap: break-word\" class=\"diff_next\"></td><td style=\"word-wrap: break-word\" class=\"diff_header\" id=\"from21_8\">8</td><td style=\"word-wrap: break-word\" ></td><td style=\"word-wrap: break-word\" class=\"diff_next\"></td><td style=\"word-wrap: break-word\" class=\"diff_header\" id=\"to21_10\">10</td><td style=\"word-wrap: break-word\" ></td></tr>\n",
       "            <tr><td style=\"word-wrap: break-word\" class=\"diff_next\"></td><td style=\"word-wrap: break-word\" class=\"diff_header\" id=\"from21_9\">9</td><td style=\"word-wrap: break-word\" >The&nbsp;U.S.&nbsp;government&nbsp;has&nbsp;a&nbsp;responsibility&nbsp;to&nbsp;fix&nbsp;these&nbsp;problems,&nbsp;and&nbsp;seafood&nbsp;traceability&nbsp;is&nbsp;an&nbsp;essential&nbsp;step&nbsp;in&nbsp;the&nbsp;fight&nbsp;to&nbsp;end&nbsp;illegal&nbsp;fishing&nbsp;and&nbsp;human&nbsp;rights&nbsp;abuses&nbsp;in&nbsp;the&nbsp;seafood&nbsp;industry.&nbsp;But&nbsp;under&nbsp;NOAA&nbsp;Fisheries’&nbsp;proposed&nbsp;rule,&nbsp;traceability&nbsp;requirements&nbsp;would&nbsp;apply&nbsp;to&nbsp;only&nbsp;half&nbsp;of&nbsp;seafood&nbsp;imports,&nbsp;leaving&nbsp;massive&nbsp;loopholes&nbsp;that&nbsp;are&nbsp;easy&nbsp;for&nbsp;bad&nbsp;actors&nbsp;to&nbsp;exploit.&nbsp;The&nbsp;proposed&nbsp;rule&nbsp;also&nbsp;fails&nbsp;to&nbsp;sufficiently&nbsp;address&nbsp;labor&nbsp;abuses&nbsp;in&nbsp;seafood&nbsp;supply&nbsp;chains,&nbsp;and&nbsp;it&nbsp;includes&nbsp;no&nbsp;commitment&nbsp;to&nbsp;improve&nbsp;enforcement&nbsp;of&nbsp;traceability&nbsp;requirements.&nbsp;</td><td style=\"word-wrap: break-word\" class=\"diff_next\"></td><td style=\"word-wrap: break-word\" class=\"diff_header\" id=\"to21_11\">11</td><td style=\"word-wrap: break-word\" >The&nbsp;U.S.&nbsp;government&nbsp;has&nbsp;a&nbsp;responsibility&nbsp;to&nbsp;fix&nbsp;these&nbsp;problems,&nbsp;and&nbsp;seafood&nbsp;traceability&nbsp;is&nbsp;an&nbsp;essential&nbsp;step&nbsp;in&nbsp;the&nbsp;fight&nbsp;to&nbsp;end&nbsp;illegal&nbsp;fishing&nbsp;and&nbsp;human&nbsp;rights&nbsp;abuses&nbsp;in&nbsp;the&nbsp;seafood&nbsp;industry.&nbsp;But&nbsp;under&nbsp;NOAA&nbsp;Fisheries’&nbsp;proposed&nbsp;rule,&nbsp;traceability&nbsp;requirements&nbsp;would&nbsp;apply&nbsp;to&nbsp;only&nbsp;half&nbsp;of&nbsp;seafood&nbsp;imports,&nbsp;leaving&nbsp;massive&nbsp;loopholes&nbsp;that&nbsp;are&nbsp;easy&nbsp;for&nbsp;bad&nbsp;actors&nbsp;to&nbsp;exploit.&nbsp;The&nbsp;proposed&nbsp;rule&nbsp;also&nbsp;fails&nbsp;to&nbsp;sufficiently&nbsp;address&nbsp;labor&nbsp;abuses&nbsp;in&nbsp;seafood&nbsp;supply&nbsp;chains,&nbsp;and&nbsp;it&nbsp;includes&nbsp;no&nbsp;commitment&nbsp;to&nbsp;improve&nbsp;enforcement&nbsp;of&nbsp;traceability&nbsp;requirements.&nbsp;</td></tr>\n",
       "            <tr><td style=\"word-wrap: break-word\" class=\"diff_next\"></td><td style=\"word-wrap: break-word\" class=\"diff_header\" id=\"from21_10\">10</td><td style=\"word-wrap: break-word\" ></td><td style=\"word-wrap: break-word\" class=\"diff_next\"></td><td style=\"word-wrap: break-word\" class=\"diff_header\" id=\"to21_12\">12</td><td style=\"word-wrap: break-word\" ></td></tr>\n",
       "            <tr><td style=\"word-wrap: break-word\" class=\"diff_next\"><a href=\"#difflib_chg_to21__top\">t</a></td><td style=\"word-wrap: break-word\" class=\"diff_header\" id=\"from21_11\">11</td><td style=\"word-wrap: break-word\" >Please&nbsp;revise&nbsp;the&nbsp;Seafood&nbsp;Import&nbsp;Monitoring&nbsp;Program&nbsp;proposed&nbsp;rule&nbsp;to&nbsp;adopt&nbsp;the&nbsp;strongest&nbsp;possible&nbsp;standards&nbsp;for&nbsp;seafood&nbsp;traceability&nbsp;to&nbsp;intercept&nbsp;the&nbsp;flow&nbsp;of&nbsp;illegal&nbsp;seafood&nbsp;into&nbsp;the&nbsp;U.S.&nbsp;and&nbsp;help&nbsp;consumers&nbsp;feel&nbsp;confident&nbsp;the&nbsp;seafood&nbsp;they&nbsp;buy&nbsp;is&nbsp;legally&nbsp;caught&nbsp;and&nbsp;not&nbsp;a&nbsp;product&nbsp;of&nbsp;labor&nbsp;abuses.&nbsp;<span class=\"diff_sub\">Thank&nbsp;you&nbsp;for&nbsp;helping&nbsp;to&nbsp;address&nbsp;these&nbsp;environmental&nbsp;and&nbsp;human&nbsp;rights&nbsp;crimes&nbsp;with&nbsp;the&nbsp;seriousness&nbsp;they&nbsp;deserve.</span></td><td style=\"word-wrap: break-word\" class=\"diff_next\"><a href=\"#difflib_chg_to21__top\">t</a></td><td style=\"word-wrap: break-word\" class=\"diff_header\" id=\"to21_13\">13</td><td style=\"word-wrap: break-word\" >Please&nbsp;revise&nbsp;the&nbsp;Seafood&nbsp;Import&nbsp;Monitoring&nbsp;Program&nbsp;proposed&nbsp;rule&nbsp;to&nbsp;adopt&nbsp;the&nbsp;strongest&nbsp;possible&nbsp;standards&nbsp;for&nbsp;seafood&nbsp;traceability&nbsp;to&nbsp;intercept&nbsp;the&nbsp;flow&nbsp;of&nbsp;illegal&nbsp;seafood&nbsp;into&nbsp;the&nbsp;U.S.&nbsp;and&nbsp;help&nbsp;consumers&nbsp;feel&nbsp;confident&nbsp;the&nbsp;seafood&nbsp;they&nbsp;buy&nbsp;is&nbsp;legally&nbsp;caught&nbsp;and&nbsp;not&nbsp;a&nbsp;product&nbsp;of&nbsp;labor&nbsp;abuses.&nbsp;</td></tr>\n",
       "            <tr><td style=\"word-wrap: break-word\" class=\"diff_next\"></td><td style=\"word-wrap: break-word\" class=\"diff_header\"></td><td style=\"word-wrap: break-word\" ></td><td style=\"word-wrap: break-word\" class=\"diff_next\"></td><td style=\"word-wrap: break-word\" class=\"diff_header\" id=\"to21_14\">14</td><td style=\"word-wrap: break-word\" ><span class=\"diff_add\">&nbsp;</span></td></tr>\n",
       "            <tr><td style=\"word-wrap: break-word\" class=\"diff_next\"></td><td style=\"word-wrap: break-word\" class=\"diff_header\"></td><td style=\"word-wrap: break-word\" ></td><td style=\"word-wrap: break-word\" class=\"diff_next\"></td><td style=\"word-wrap: break-word\" class=\"diff_header\" id=\"to21_15\">15</td><td style=\"word-wrap: break-word\" ><span class=\"diff_add\">Thank&nbsp;you&nbsp;for&nbsp;helping&nbsp;to&nbsp;address&nbsp;these&nbsp;environmental&nbsp;and&nbsp;human&nbsp;rights&nbsp;crimes&nbsp;with&nbsp;the&nbsp;seriousness&nbsp;they&nbsp;deserve.</span></td></tr>\n",
       "        </tbody>\n",
       "    </table>\n",
       "    <table style=\"table-layout: fixed; width: 100%\" class=\"diff\" summary=\"Legends\">\n",
       "        <tr> <th colspan=\"2\"> Legends </th> </tr>\n",
       "        <tr> <td style=\"word-wrap: break-word\"> <table style=\"table-layout: fixed; width: 100%\" border=\"\" summary=\"Colors\">\n",
       "                      <tr><th> Colors </th> </tr>\n",
       "                      <tr><td style=\"word-wrap: break-word\" class=\"diff_add\">&nbsp;Added&nbsp;</td></tr>\n",
       "                      <tr><td style=\"word-wrap: break-word\" class=\"diff_chg\">Changed</td> </tr>\n",
       "                      <tr><td style=\"word-wrap: break-word\" class=\"diff_sub\">Deleted</td> </tr>\n",
       "                  </table></td>\n",
       "             <td style=\"word-wrap: break-word\"> <table style=\"table-layout: fixed; width: 100%\" border=\"\" summary=\"Links\">\n",
       "                      <tr><th colspan=\"2\"> Links </th> </tr>\n",
       "                      <tr><td style=\"word-wrap: break-word\">(f)irst change</td> </tr>\n",
       "                      <tr><td style=\"word-wrap: break-word\">(n)ext change</td> </tr>\n",
       "                      <tr><td style=\"word-wrap: break-word\">(t)op</td> </tr>\n",
       "                  </table></td> </tr>\n",
       "    </table>\n",
       "</body>\n",
       "\n",
       "</html>"
      ],
      "text/plain": [
       "<IPython.core.display.HTML object>"
      ]
     },
     "metadata": {},
     "output_type": "display_data"
    },
    {
     "data": {
      "text/html": [
       "\n",
       "<!DOCTYPE html PUBLIC \"-//W3C//DTD XHTML 1.0 Transitional//EN\"\n",
       "          \"http://www.w3.org/TR/xhtml1/DTD/xhtml1-transitional.dtd\">\n",
       "\n",
       "<html>\n",
       "\n",
       "<head>\n",
       "    <meta http-equiv=\"Content-Type\"\n",
       "          content=\"text/html; charset=utf-8\" />\n",
       "    <title></title>\n",
       "    <style type=\"text/css\">\n",
       "        table.diff {font-family:Courier; border:medium;}\n",
       "        .diff_header {background-color:#e0e0e0}\n",
       "        td.diff_header {text-align:right; width:1%}\n",
       "        .diff_next {background-color:#c0c0c0; width:1%}\n",
       "        .diff_add {background-color:#aaffaa}\n",
       "        .diff_chg {background-color:#ffff77}\n",
       "        .diff_sub {background-color:#ffaaaa}\n",
       "    </style>\n",
       "</head>\n",
       "\n",
       "<body>\n",
       "    \n",
       "    <table style=\"table-layout: fixed; width: 100%\" class=\"diff\" id=\"difflib_chg_to22__top\"\n",
       "           cellspacing=\"0\" cellpadding=\"0\" rules=\"groups\" >\n",
       "        <colgroup></colgroup> <colgroup></colgroup> <colgroup></colgroup>\n",
       "        <colgroup></colgroup> <colgroup></colgroup> <colgroup></colgroup>\n",
       "        \n",
       "        <tbody>\n",
       "            <tr><td style=\"word-wrap: break-word\" class=\"diff_next\" id=\"difflib_chg_to22__0\"><a href=\"#difflib_chg_to22__0\">f</a></td><td style=\"word-wrap: break-word\" class=\"diff_header\" id=\"from22_1\">1</td><td style=\"word-wrap: break-word\" >Dear&nbsp;NOAA&nbsp;Administrator&nbsp;Spinrad&nbsp;and&nbsp;NOAA&nbsp;Fisheries&nbsp;Assistant&nbsp;Administrator&nbsp;Coit:</td><td style=\"word-wrap: break-word\" class=\"diff_next\"><a href=\"#difflib_chg_to22__0\">f</a></td><td style=\"word-wrap: break-word\" class=\"diff_header\" id=\"to22_1\">1</td><td style=\"word-wrap: break-word\" >Dear&nbsp;NOAA&nbsp;Administrator&nbsp;Spinrad&nbsp;and&nbsp;NOAA&nbsp;Fisheries&nbsp;Assistant&nbsp;Administrator&nbsp;Coit:</td></tr>\n",
       "            <tr><td style=\"word-wrap: break-word\" class=\"diff_next\"><a href=\"#difflib_chg_to22__top\">t</a></td><td style=\"word-wrap: break-word\" class=\"diff_header\"></td><td style=\"word-wrap: break-word\" ></td><td style=\"word-wrap: break-word\" class=\"diff_next\"><a href=\"#difflib_chg_to22__top\">t</a></td><td style=\"word-wrap: break-word\" class=\"diff_header\" id=\"to22_2\">2</td><td style=\"word-wrap: break-word\" ><span class=\"diff_add\">&nbsp;</span></td></tr>\n",
       "            <tr><td style=\"word-wrap: break-word\" class=\"diff_next\"></td><td style=\"word-wrap: break-word\" class=\"diff_header\"></td><td style=\"word-wrap: break-word\" ></td><td style=\"word-wrap: break-word\" class=\"diff_next\"></td><td style=\"word-wrap: break-word\" class=\"diff_header\" id=\"to22_3\">3</td><td style=\"word-wrap: break-word\" ><span class=\"diff_add\">Considering&nbsp;our&nbsp;threats&nbsp;to&nbsp;ocean&nbsp;systems&nbsp;stability&nbsp;and&nbsp;&nbsp;marine&nbsp;species&nbsp;sustainability,&nbsp;and&nbsp;the&nbsp;need&nbsp;to&nbsp;address&nbsp;the&nbsp;outsized&nbsp;human&nbsp;footprint&nbsp;on&nbsp;our&nbsp;ocean&nbsp;ecosystems,&nbsp;it&nbsp;is&nbsp;time&nbsp;to&nbsp;address&nbsp;all&nbsp;issues&nbsp;of&nbsp;fishing&nbsp;with&nbsp;the&nbsp;most&nbsp;robust&nbsp;rules&nbsp;possible.&nbsp;Please&nbsp;enact&nbsp;the&nbsp;strictest&nbsp;and&nbsp;loophole-free&nbsp;monitoring&nbsp;and&nbsp;traceability&nbsp;rules&nbsp;to&nbsp;counter&nbsp;the&nbsp;damage&nbsp;we&nbsp;are&nbsp;doing&nbsp;to&nbsp;our&nbsp;ocean&nbsp;life.&nbsp;</span></td></tr>\n",
       "            <tr><td style=\"word-wrap: break-word\" class=\"diff_next\"></td><td style=\"word-wrap: break-word\" class=\"diff_header\" id=\"from22_2\">2</td><td style=\"word-wrap: break-word\" ></td><td style=\"word-wrap: break-word\" class=\"diff_next\"></td><td style=\"word-wrap: break-word\" class=\"diff_header\" id=\"to22_4\">4</td><td style=\"word-wrap: break-word\" ></td></tr>\n",
       "            <tr><td style=\"word-wrap: break-word\" class=\"diff_next\"></td><td style=\"word-wrap: break-word\" class=\"diff_header\" id=\"from22_3\">3</td><td style=\"word-wrap: break-word\" >The&nbsp;United&nbsp;States&nbsp;needs&nbsp;an&nbsp;effective&nbsp;seafood&nbsp;traceability&nbsp;program&nbsp;to&nbsp;intercept&nbsp;the&nbsp;flow&nbsp;of&nbsp;illegal&nbsp;seafood&nbsp;into&nbsp;our&nbsp;markets.&nbsp;Illegal&nbsp;fishing&nbsp;is&nbsp;a&nbsp;top&nbsp;driver&nbsp;of&nbsp;unsustainable&nbsp;and&nbsp;environmentally&nbsp;harmful&nbsp;fishing&nbsp;practices&nbsp;around&nbsp;the&nbsp;globe,&nbsp;as&nbsp;well&nbsp;as&nbsp;associated&nbsp;human&nbsp;rights&nbsp;abuses&nbsp;in&nbsp;the&nbsp;seafood&nbsp;sector.&nbsp;The&nbsp;newly&nbsp;proposed&nbsp;changes&nbsp;to&nbsp;the&nbsp;Seafood&nbsp;Import&nbsp;Monitoring&nbsp;Program&nbsp;do&nbsp;not&nbsp;go&nbsp;far&nbsp;enough&nbsp;to&nbsp;help&nbsp;end&nbsp;the&nbsp;U.S.'s&nbsp;role&nbsp;in&nbsp;perpetuating&nbsp;human&nbsp;rights&nbsp;abuses&nbsp;and&nbsp;environmental&nbsp;destruction&nbsp;in&nbsp;the&nbsp;seafood&nbsp;industry.&nbsp;</td><td style=\"word-wrap: break-word\" class=\"diff_next\"></td><td style=\"word-wrap: break-word\" class=\"diff_header\" id=\"to22_5\">5</td><td style=\"word-wrap: break-word\" >The&nbsp;United&nbsp;States&nbsp;needs&nbsp;an&nbsp;effective&nbsp;seafood&nbsp;traceability&nbsp;program&nbsp;to&nbsp;intercept&nbsp;the&nbsp;flow&nbsp;of&nbsp;illegal&nbsp;seafood&nbsp;into&nbsp;our&nbsp;markets.&nbsp;Illegal&nbsp;fishing&nbsp;is&nbsp;a&nbsp;top&nbsp;driver&nbsp;of&nbsp;unsustainable&nbsp;and&nbsp;environmentally&nbsp;harmful&nbsp;fishing&nbsp;practices&nbsp;around&nbsp;the&nbsp;globe,&nbsp;as&nbsp;well&nbsp;as&nbsp;associated&nbsp;human&nbsp;rights&nbsp;abuses&nbsp;in&nbsp;the&nbsp;seafood&nbsp;sector.&nbsp;The&nbsp;newly&nbsp;proposed&nbsp;changes&nbsp;to&nbsp;the&nbsp;Seafood&nbsp;Import&nbsp;Monitoring&nbsp;Program&nbsp;do&nbsp;not&nbsp;go&nbsp;far&nbsp;enough&nbsp;to&nbsp;help&nbsp;end&nbsp;the&nbsp;U.S.'s&nbsp;role&nbsp;in&nbsp;perpetuating&nbsp;human&nbsp;rights&nbsp;abuses&nbsp;and&nbsp;environmental&nbsp;destruction&nbsp;in&nbsp;the&nbsp;seafood&nbsp;industry.&nbsp;</td></tr>\n",
       "            <tr><td style=\"word-wrap: break-word\" class=\"diff_next\"></td><td style=\"word-wrap: break-word\" class=\"diff_header\" id=\"from22_4\">4</td><td style=\"word-wrap: break-word\" ></td><td style=\"word-wrap: break-word\" class=\"diff_next\"></td><td style=\"word-wrap: break-word\" class=\"diff_header\" id=\"to22_6\">6</td><td style=\"word-wrap: break-word\" ></td></tr>\n",
       "            <tr><td style=\"word-wrap: break-word\" class=\"diff_next\"></td><td style=\"word-wrap: break-word\" class=\"diff_header\" id=\"from22_5\">5</td><td style=\"word-wrap: break-word\" >Illegal&nbsp;fishing&nbsp;is&nbsp;destroying&nbsp;our&nbsp;oceans.&nbsp;Years&nbsp;of&nbsp;overfishing&nbsp;in&nbsp;nearshore&nbsp;waters&nbsp;have&nbsp;forced&nbsp;boats&nbsp;to&nbsp;go&nbsp;into&nbsp;deeper&nbsp;waters,&nbsp;which&nbsp;makes&nbsp;fishing&nbsp;more&nbsp;expensive.&nbsp;Some&nbsp;fishers&nbsp;will&nbsp;cut&nbsp;costs&nbsp;by&nbsp;fishing&nbsp;with&nbsp;illegal&nbsp;gear,&nbsp;fishing&nbsp;in&nbsp;protected&nbsp;areas,&nbsp;or&nbsp;ignoring&nbsp;catch&nbsp;limits.&nbsp;To&nbsp;save&nbsp;on&nbsp;labor&nbsp;costs,&nbsp;some&nbsp;vessel&nbsp;owners&nbsp;rely&nbsp;on&nbsp;human&nbsp;traffickers,&nbsp;some&nbsp;even&nbsp;kidnapping&nbsp;or&nbsp;drugging&nbsp;workers&nbsp;to&nbsp;get&nbsp;them&nbsp;on&nbsp;the&nbsp;ship&nbsp;and&nbsp;cut&nbsp;off&nbsp;from&nbsp;help.&nbsp;Further,&nbsp;the&nbsp;overseas&nbsp;seafood&nbsp;processing&nbsp;industry&nbsp;is&nbsp;heavily&nbsp;reliant&nbsp;on&nbsp;forced&nbsp;labor.&nbsp;&nbsp;</td><td style=\"word-wrap: break-word\" class=\"diff_next\"></td><td style=\"word-wrap: break-word\" class=\"diff_header\" id=\"to22_7\">7</td><td style=\"word-wrap: break-word\" >Illegal&nbsp;fishing&nbsp;is&nbsp;destroying&nbsp;our&nbsp;oceans.&nbsp;Years&nbsp;of&nbsp;overfishing&nbsp;in&nbsp;nearshore&nbsp;waters&nbsp;have&nbsp;forced&nbsp;boats&nbsp;to&nbsp;go&nbsp;into&nbsp;deeper&nbsp;waters,&nbsp;which&nbsp;makes&nbsp;fishing&nbsp;more&nbsp;expensive.&nbsp;Some&nbsp;fishers&nbsp;will&nbsp;cut&nbsp;costs&nbsp;by&nbsp;fishing&nbsp;with&nbsp;illegal&nbsp;gear,&nbsp;fishing&nbsp;in&nbsp;protected&nbsp;areas,&nbsp;or&nbsp;ignoring&nbsp;catch&nbsp;limits.&nbsp;To&nbsp;save&nbsp;on&nbsp;labor&nbsp;costs,&nbsp;some&nbsp;vessel&nbsp;owners&nbsp;rely&nbsp;on&nbsp;human&nbsp;traffickers,&nbsp;some&nbsp;even&nbsp;kidnapping&nbsp;or&nbsp;drugging&nbsp;workers&nbsp;to&nbsp;get&nbsp;them&nbsp;on&nbsp;the&nbsp;ship&nbsp;and&nbsp;cut&nbsp;off&nbsp;from&nbsp;help.&nbsp;Further,&nbsp;the&nbsp;overseas&nbsp;seafood&nbsp;processing&nbsp;industry&nbsp;is&nbsp;heavily&nbsp;reliant&nbsp;on&nbsp;forced&nbsp;labor.&nbsp;&nbsp;</td></tr>\n",
       "            <tr><td style=\"word-wrap: break-word\" class=\"diff_next\"></td><td style=\"word-wrap: break-word\" class=\"diff_header\" id=\"from22_6\">6</td><td style=\"word-wrap: break-word\" ></td><td style=\"word-wrap: break-word\" class=\"diff_next\"></td><td style=\"word-wrap: break-word\" class=\"diff_header\" id=\"to22_8\">8</td><td style=\"word-wrap: break-word\" ></td></tr>\n",
       "            <tr><td style=\"word-wrap: break-word\" class=\"diff_next\"></td><td style=\"word-wrap: break-word\" class=\"diff_header\" id=\"from22_7\">7</td><td style=\"word-wrap: break-word\" >The&nbsp;U.S.&nbsp;is&nbsp;one&nbsp;of&nbsp;the&nbsp;largest&nbsp;consumers&nbsp;of&nbsp;seafood.&nbsp;Approximately&nbsp;eighty&nbsp;percent&nbsp;of&nbsp;the&nbsp;seafood&nbsp;sold&nbsp;in&nbsp;the&nbsp;U.S.&nbsp;is&nbsp;imported,&nbsp;and&nbsp;as&nbsp;much&nbsp;as&nbsp;a&nbsp;third&nbsp;of&nbsp;the&nbsp;wild-caught&nbsp;seafood&nbsp;sold&nbsp;in&nbsp;the&nbsp;United&nbsp;States&nbsp;each&nbsp;year&nbsp;is&nbsp;illegal&nbsp;or&nbsp;unreported.&nbsp;&nbsp;</td><td style=\"word-wrap: break-word\" class=\"diff_next\"></td><td style=\"word-wrap: break-word\" class=\"diff_header\" id=\"to22_9\">9</td><td style=\"word-wrap: break-word\" >The&nbsp;U.S.&nbsp;is&nbsp;one&nbsp;of&nbsp;the&nbsp;largest&nbsp;consumers&nbsp;of&nbsp;seafood.&nbsp;Approximately&nbsp;eighty&nbsp;percent&nbsp;of&nbsp;the&nbsp;seafood&nbsp;sold&nbsp;in&nbsp;the&nbsp;U.S.&nbsp;is&nbsp;imported,&nbsp;and&nbsp;as&nbsp;much&nbsp;as&nbsp;a&nbsp;third&nbsp;of&nbsp;the&nbsp;wild-caught&nbsp;seafood&nbsp;sold&nbsp;in&nbsp;the&nbsp;United&nbsp;States&nbsp;each&nbsp;year&nbsp;is&nbsp;illegal&nbsp;or&nbsp;unreported.&nbsp;&nbsp;</td></tr>\n",
       "            <tr><td style=\"word-wrap: break-word\" class=\"diff_next\"></td><td style=\"word-wrap: break-word\" class=\"diff_header\" id=\"from22_8\">8</td><td style=\"word-wrap: break-word\" ></td><td style=\"word-wrap: break-word\" class=\"diff_next\"></td><td style=\"word-wrap: break-word\" class=\"diff_header\" id=\"to22_10\">10</td><td style=\"word-wrap: break-word\" ></td></tr>\n",
       "            <tr><td style=\"word-wrap: break-word\" class=\"diff_next\"></td><td style=\"word-wrap: break-word\" class=\"diff_header\" id=\"from22_9\">9</td><td style=\"word-wrap: break-word\" >The&nbsp;U.S.&nbsp;government&nbsp;has&nbsp;a&nbsp;responsibility&nbsp;to&nbsp;fix&nbsp;these&nbsp;problems,&nbsp;and&nbsp;seafood&nbsp;traceability&nbsp;is&nbsp;an&nbsp;essential&nbsp;step&nbsp;in&nbsp;the&nbsp;fight&nbsp;to&nbsp;end&nbsp;illegal&nbsp;fishing&nbsp;and&nbsp;human&nbsp;rights&nbsp;abuses&nbsp;in&nbsp;the&nbsp;seafood&nbsp;industry.&nbsp;But&nbsp;under&nbsp;NOAA&nbsp;Fisheries’&nbsp;proposed&nbsp;rule,&nbsp;traceability&nbsp;requirements&nbsp;would&nbsp;apply&nbsp;to&nbsp;only&nbsp;half&nbsp;of&nbsp;seafood&nbsp;imports,&nbsp;leaving&nbsp;massive&nbsp;loopholes&nbsp;that&nbsp;are&nbsp;easy&nbsp;for&nbsp;bad&nbsp;actors&nbsp;to&nbsp;exploit.&nbsp;The&nbsp;proposed&nbsp;rule&nbsp;also&nbsp;fails&nbsp;to&nbsp;sufficiently&nbsp;address&nbsp;labor&nbsp;abuses&nbsp;in&nbsp;seafood&nbsp;supply&nbsp;chains,&nbsp;and&nbsp;it&nbsp;includes&nbsp;no&nbsp;commitment&nbsp;to&nbsp;improve&nbsp;enforcement&nbsp;of&nbsp;traceability&nbsp;requirements.&nbsp;</td><td style=\"word-wrap: break-word\" class=\"diff_next\"></td><td style=\"word-wrap: break-word\" class=\"diff_header\" id=\"to22_11\">11</td><td style=\"word-wrap: break-word\" >The&nbsp;U.S.&nbsp;government&nbsp;has&nbsp;a&nbsp;responsibility&nbsp;to&nbsp;fix&nbsp;these&nbsp;problems,&nbsp;and&nbsp;seafood&nbsp;traceability&nbsp;is&nbsp;an&nbsp;essential&nbsp;step&nbsp;in&nbsp;the&nbsp;fight&nbsp;to&nbsp;end&nbsp;illegal&nbsp;fishing&nbsp;and&nbsp;human&nbsp;rights&nbsp;abuses&nbsp;in&nbsp;the&nbsp;seafood&nbsp;industry.&nbsp;But&nbsp;under&nbsp;NOAA&nbsp;Fisheries’&nbsp;proposed&nbsp;rule,&nbsp;traceability&nbsp;requirements&nbsp;would&nbsp;apply&nbsp;to&nbsp;only&nbsp;half&nbsp;of&nbsp;seafood&nbsp;imports,&nbsp;leaving&nbsp;massive&nbsp;loopholes&nbsp;that&nbsp;are&nbsp;easy&nbsp;for&nbsp;bad&nbsp;actors&nbsp;to&nbsp;exploit.&nbsp;The&nbsp;proposed&nbsp;rule&nbsp;also&nbsp;fails&nbsp;to&nbsp;sufficiently&nbsp;address&nbsp;labor&nbsp;abuses&nbsp;in&nbsp;seafood&nbsp;supply&nbsp;chains,&nbsp;and&nbsp;it&nbsp;includes&nbsp;no&nbsp;commitment&nbsp;to&nbsp;improve&nbsp;enforcement&nbsp;of&nbsp;traceability&nbsp;requirements.&nbsp;</td></tr>\n",
       "            <tr><td style=\"word-wrap: break-word\" class=\"diff_next\"></td><td style=\"word-wrap: break-word\" class=\"diff_header\" id=\"from22_10\">10</td><td style=\"word-wrap: break-word\" ></td><td style=\"word-wrap: break-word\" class=\"diff_next\"></td><td style=\"word-wrap: break-word\" class=\"diff_header\" id=\"to22_12\">12</td><td style=\"word-wrap: break-word\" ></td></tr>\n",
       "            <tr><td style=\"word-wrap: break-word\" class=\"diff_next\"></td><td style=\"word-wrap: break-word\" class=\"diff_header\" id=\"from22_11\">11</td><td style=\"word-wrap: break-word\" >Please&nbsp;revise&nbsp;the&nbsp;Seafood&nbsp;Import&nbsp;Monitoring&nbsp;Program&nbsp;proposed&nbsp;rule&nbsp;to&nbsp;adopt&nbsp;the&nbsp;strongest&nbsp;possible&nbsp;standards&nbsp;for&nbsp;seafood&nbsp;traceability&nbsp;to&nbsp;intercept&nbsp;the&nbsp;flow&nbsp;of&nbsp;illegal&nbsp;seafood&nbsp;into&nbsp;the&nbsp;U.S.&nbsp;and&nbsp;help&nbsp;consumers&nbsp;feel&nbsp;confident&nbsp;the&nbsp;seafood&nbsp;they&nbsp;buy&nbsp;is&nbsp;legally&nbsp;caught&nbsp;and&nbsp;not&nbsp;a&nbsp;product&nbsp;of&nbsp;labor&nbsp;abuses.&nbsp;Thank&nbsp;you&nbsp;for&nbsp;helping&nbsp;to&nbsp;address&nbsp;these&nbsp;environmental&nbsp;and&nbsp;human&nbsp;rights&nbsp;crimes&nbsp;with&nbsp;the&nbsp;seriousness&nbsp;they&nbsp;deserve.</td><td style=\"word-wrap: break-word\" class=\"diff_next\"></td><td style=\"word-wrap: break-word\" class=\"diff_header\" id=\"to22_13\">13</td><td style=\"word-wrap: break-word\" >Please&nbsp;revise&nbsp;the&nbsp;Seafood&nbsp;Import&nbsp;Monitoring&nbsp;Program&nbsp;proposed&nbsp;rule&nbsp;to&nbsp;adopt&nbsp;the&nbsp;strongest&nbsp;possible&nbsp;standards&nbsp;for&nbsp;seafood&nbsp;traceability&nbsp;to&nbsp;intercept&nbsp;the&nbsp;flow&nbsp;of&nbsp;illegal&nbsp;seafood&nbsp;into&nbsp;the&nbsp;U.S.&nbsp;and&nbsp;help&nbsp;consumers&nbsp;feel&nbsp;confident&nbsp;the&nbsp;seafood&nbsp;they&nbsp;buy&nbsp;is&nbsp;legally&nbsp;caught&nbsp;and&nbsp;not&nbsp;a&nbsp;product&nbsp;of&nbsp;labor&nbsp;abuses.&nbsp;Thank&nbsp;you&nbsp;for&nbsp;helping&nbsp;to&nbsp;address&nbsp;these&nbsp;environmental&nbsp;and&nbsp;human&nbsp;rights&nbsp;crimes&nbsp;with&nbsp;the&nbsp;seriousness&nbsp;they&nbsp;deserve.</td></tr>\n",
       "        </tbody>\n",
       "    </table>\n",
       "    <table style=\"table-layout: fixed; width: 100%\" class=\"diff\" summary=\"Legends\">\n",
       "        <tr> <th colspan=\"2\"> Legends </th> </tr>\n",
       "        <tr> <td style=\"word-wrap: break-word\"> <table style=\"table-layout: fixed; width: 100%\" border=\"\" summary=\"Colors\">\n",
       "                      <tr><th> Colors </th> </tr>\n",
       "                      <tr><td style=\"word-wrap: break-word\" class=\"diff_add\">&nbsp;Added&nbsp;</td></tr>\n",
       "                      <tr><td style=\"word-wrap: break-word\" class=\"diff_chg\">Changed</td> </tr>\n",
       "                      <tr><td style=\"word-wrap: break-word\" class=\"diff_sub\">Deleted</td> </tr>\n",
       "                  </table></td>\n",
       "             <td style=\"word-wrap: break-word\"> <table style=\"table-layout: fixed; width: 100%\" border=\"\" summary=\"Links\">\n",
       "                      <tr><th colspan=\"2\"> Links </th> </tr>\n",
       "                      <tr><td style=\"word-wrap: break-word\">(f)irst change</td> </tr>\n",
       "                      <tr><td style=\"word-wrap: break-word\">(n)ext change</td> </tr>\n",
       "                      <tr><td style=\"word-wrap: break-word\">(t)op</td> </tr>\n",
       "                  </table></td> </tr>\n",
       "    </table>\n",
       "</body>\n",
       "\n",
       "</html>"
      ],
      "text/plain": [
       "<IPython.core.display.HTML object>"
      ]
     },
     "metadata": {},
     "output_type": "display_data"
    },
    {
     "data": {
      "text/html": [
       "\n",
       "<!DOCTYPE html PUBLIC \"-//W3C//DTD XHTML 1.0 Transitional//EN\"\n",
       "          \"http://www.w3.org/TR/xhtml1/DTD/xhtml1-transitional.dtd\">\n",
       "\n",
       "<html>\n",
       "\n",
       "<head>\n",
       "    <meta http-equiv=\"Content-Type\"\n",
       "          content=\"text/html; charset=utf-8\" />\n",
       "    <title></title>\n",
       "    <style type=\"text/css\">\n",
       "        table.diff {font-family:Courier; border:medium;}\n",
       "        .diff_header {background-color:#e0e0e0}\n",
       "        td.diff_header {text-align:right; width:1%}\n",
       "        .diff_next {background-color:#c0c0c0; width:1%}\n",
       "        .diff_add {background-color:#aaffaa}\n",
       "        .diff_chg {background-color:#ffff77}\n",
       "        .diff_sub {background-color:#ffaaaa}\n",
       "    </style>\n",
       "</head>\n",
       "\n",
       "<body>\n",
       "    \n",
       "    <table style=\"table-layout: fixed; width: 100%\" class=\"diff\" id=\"difflib_chg_to23__top\"\n",
       "           cellspacing=\"0\" cellpadding=\"0\" rules=\"groups\" >\n",
       "        <colgroup></colgroup> <colgroup></colgroup> <colgroup></colgroup>\n",
       "        <colgroup></colgroup> <colgroup></colgroup> <colgroup></colgroup>\n",
       "        \n",
       "        <tbody>\n",
       "            <tr><td style=\"word-wrap: break-word\" class=\"diff_next\" id=\"difflib_chg_to23__1\"><a href=\"#difflib_chg_to23__0\">f</a></td><td style=\"word-wrap: break-word\" class=\"diff_header\" id=\"from23_1\">1</td><td style=\"word-wrap: break-word\" >Dear&nbsp;NOAA&nbsp;Administrator&nbsp;Spinrad&nbsp;and&nbsp;NOAA&nbsp;Fisheries&nbsp;Assistant&nbsp;Administrator&nbsp;Coit:</td><td style=\"word-wrap: break-word\" class=\"diff_next\"><a href=\"#difflib_chg_to23__0\">f</a></td><td style=\"word-wrap: break-word\" class=\"diff_header\" id=\"to23_1\">1</td><td style=\"word-wrap: break-word\" >Dear&nbsp;NOAA&nbsp;Administrator&nbsp;Spinrad&nbsp;and&nbsp;NOAA&nbsp;Fisheries&nbsp;Assistant&nbsp;Administrator&nbsp;Coit:</td></tr>\n",
       "            <tr><td style=\"word-wrap: break-word\" class=\"diff_next\"></td><td style=\"word-wrap: break-word\" class=\"diff_header\" id=\"from23_2\">2</td><td style=\"word-wrap: break-word\" ></td><td style=\"word-wrap: break-word\" class=\"diff_next\"></td><td style=\"word-wrap: break-word\" class=\"diff_header\" id=\"to23_2\">2</td><td style=\"word-wrap: break-word\" ></td></tr>\n",
       "            <tr><td style=\"word-wrap: break-word\" class=\"diff_next\"><a href=\"#difflib_chg_to23__1\">n</a></td><td style=\"word-wrap: break-word\" class=\"diff_header\" id=\"from23_3\">3</td><td style=\"word-wrap: break-word\" ><span class=\"diff_sub\">The&nbsp;United&nbsp;States&nbsp;needs&nbsp;an&nbsp;effective&nbsp;seafood&nbsp;traceability&nbsp;program&nbsp;to&nbsp;intercept&nbsp;the&nbsp;flow&nbsp;of&nbsp;illegal&nbsp;seafood&nbsp;into&nbsp;our&nbsp;markets.&nbsp;Illegal&nbsp;fishing&nbsp;is&nbsp;a&nbsp;top&nbsp;driver&nbsp;of&nbsp;unsustainable&nbsp;and&nbsp;environmentally&nbsp;harmful&nbsp;fishing&nbsp;practices&nbsp;around&nbsp;the&nbsp;globe,&nbsp;as&nbsp;well&nbsp;as&nbsp;associated&nbsp;human&nbsp;rights&nbsp;abuses&nbsp;in&nbsp;the&nbsp;seafood&nbsp;sector.&nbsp;The&nbsp;newly&nbsp;proposed&nbsp;changes&nbsp;to&nbsp;the&nbsp;Seafood&nbsp;Import&nbsp;Monitoring&nbsp;Program&nbsp;do&nbsp;not&nbsp;go&nbsp;far&nbsp;enough&nbsp;to&nbsp;help&nbsp;end&nbsp;the&nbsp;U.S.'s&nbsp;role&nbsp;in&nbsp;perpetuating&nbsp;human&nbsp;rights&nbsp;abuses&nbsp;and&nbsp;environmental&nbsp;destruction&nbsp;in&nbsp;the&nbsp;seafood&nbsp;industry.&nbsp;</span></td><td style=\"word-wrap: break-word\" class=\"diff_next\"><a href=\"#difflib_chg_to23__1\">n</a></td><td style=\"word-wrap: break-word\" class=\"diff_header\" id=\"to23_3\">3</td><td style=\"word-wrap: break-word\" ><span class=\"diff_add\">The&nbsp;United&nbsp;States&nbsp;needs&nbsp;a&nbsp;traceability&nbsp;program&nbsp;that&nbsp;works&nbsp;for&nbsp;seafood.&nbsp;&nbsp;Such&nbsp;a&nbsp;program&nbsp;could&nbsp;interrupt&nbsp;the&nbsp;flow&nbsp;of&nbsp;illegal&nbsp;seafood&nbsp;into&nbsp;our&nbsp;markets.&nbsp;&nbsp;</span></td></tr>\n",
       "            <tr><td style=\"word-wrap: break-word\" class=\"diff_next\"></td><td style=\"word-wrap: break-word\" class=\"diff_header\" id=\"from23_4\">4</td><td style=\"word-wrap: break-word\" ></td><td style=\"word-wrap: break-word\" class=\"diff_next\"></td><td style=\"word-wrap: break-word\" class=\"diff_header\" id=\"to23_4\">4</td><td style=\"word-wrap: break-word\" ></td></tr>\n",
       "            <tr><td style=\"word-wrap: break-word\" class=\"diff_next\"><a href=\"#difflib_chg_to23__2\">n</a></td><td style=\"word-wrap: break-word\" class=\"diff_header\"></td><td style=\"word-wrap: break-word\" ></td><td style=\"word-wrap: break-word\" class=\"diff_next\"><a href=\"#difflib_chg_to23__2\">n</a></td><td style=\"word-wrap: break-word\" class=\"diff_header\" id=\"to23_5\">5</td><td style=\"word-wrap: break-word\" ><span class=\"diff_add\">Illegal&nbsp;fishing&nbsp;is&nbsp;killing&nbsp;the&nbsp;health&nbsp;of&nbsp;our&nbsp;oceans.&nbsp;&nbsp;It&nbsp;is&nbsp;driving&nbsp;unsustainable&nbsp;and&nbsp;environmentally&nbsp;destructive&nbsp;fishing&nbsp;practices&nbsp;around&nbsp;the&nbsp;globe.&nbsp;&nbsp;Moreover,&nbsp;it&nbsp;uses&nbsp;and&nbsp;abuse&nbsp;the&nbsp;human&nbsp;rights&nbsp;of&nbsp;its&nbsp;workers&nbsp;in&nbsp;the&nbsp;seafood&nbsp;sector.&nbsp;&nbsp;The&nbsp;newly&nbsp;proposed&nbsp;changes&nbsp;to&nbsp;the&nbsp;Seafood&nbsp;Import&nbsp;Monitoring&nbsp;Program&nbsp;do&nbsp;not&nbsp;go&nbsp;nearly&nbsp;far&nbsp;enough&nbsp;to&nbsp;help&nbsp;end&nbsp;the&nbsp;U.S.'s&nbsp;role&nbsp;in&nbsp;allowing/encouraging&nbsp;human&nbsp;rights&nbsp;abuses&nbsp;and&nbsp;environmental&nbsp;destruction&nbsp;in&nbsp;the&nbsp;seafood&nbsp;industry.&nbsp;</span></td></tr>\n",
       "            <tr><td style=\"word-wrap: break-word\" class=\"diff_next\" id=\"difflib_chg_to23__2\"></td><td style=\"word-wrap: break-word\" class=\"diff_header\"></td><td style=\"word-wrap: break-word\" ></td><td style=\"word-wrap: break-word\" class=\"diff_next\"></td><td style=\"word-wrap: break-word\" class=\"diff_header\" id=\"to23_6\">6</td><td style=\"word-wrap: break-word\" ><span class=\"diff_add\">&nbsp;</span></td></tr>\n",
       "            <tr><td style=\"word-wrap: break-word\" class=\"diff_next\"></td><td style=\"word-wrap: break-word\" class=\"diff_header\" id=\"from23_5\">5</td><td style=\"word-wrap: break-word\" >Illegal&nbsp;fishing&nbsp;is&nbsp;destroying&nbsp;our&nbsp;oceans.&nbsp;Years&nbsp;of&nbsp;overfishing&nbsp;in&nbsp;nearshore&nbsp;waters&nbsp;have&nbsp;forced&nbsp;boats&nbsp;to&nbsp;go&nbsp;into&nbsp;deeper&nbsp;waters,&nbsp;which&nbsp;makes&nbsp;fishing&nbsp;more&nbsp;expensive.&nbsp;Some&nbsp;fishers&nbsp;will&nbsp;cut&nbsp;costs&nbsp;by&nbsp;fishing&nbsp;with&nbsp;illegal&nbsp;gear,&nbsp;fishing&nbsp;in&nbsp;protected&nbsp;areas,&nbsp;<span class=\"diff_chg\">or&nbsp;ignoring&nbsp;catch</span>&nbsp;limits.&nbsp;To&nbsp;<span class=\"diff_chg\">save&nbsp;on</span>&nbsp;labor&nbsp;costs,&nbsp;some&nbsp;vessel&nbsp;owners&nbsp;rely&nbsp;on&nbsp;human&nbsp;traffickers,&nbsp;some&nbsp;even&nbsp;kidnapping&nbsp;or&nbsp;drugging&nbsp;workers&nbsp;to&nbsp;get&nbsp;them&nbsp;on&nbsp;the&nbsp;ship&nbsp;and&nbsp;cut&nbsp;off&nbsp;from&nbsp;help.&nbsp;Further,&nbsp;the&nbsp;overseas&nbsp;seafood&nbsp;processing&nbsp;industry&nbsp;is&nbsp;heavily&nbsp;reliant&nbsp;on&nbsp;forced&nbsp;labor.&nbsp;&nbsp;</td><td style=\"word-wrap: break-word\" class=\"diff_next\"></td><td style=\"word-wrap: break-word\" class=\"diff_header\" id=\"to23_7\">7</td><td style=\"word-wrap: break-word\" >Illegal&nbsp;fishing&nbsp;is&nbsp;destroying&nbsp;our&nbsp;oceans.&nbsp;Years&nbsp;of&nbsp;overfishing&nbsp;in&nbsp;nearshore&nbsp;waters&nbsp;have&nbsp;forced&nbsp;boats&nbsp;to&nbsp;go&nbsp;into&nbsp;deeper&nbsp;waters,&nbsp;which&nbsp;makes&nbsp;fishing&nbsp;more&nbsp;expensive.&nbsp;Some&nbsp;fishers&nbsp;will&nbsp;cut&nbsp;costs&nbsp;by&nbsp;fishing&nbsp;with&nbsp;illegal&nbsp;gear,&nbsp;fishing&nbsp;in&nbsp;protected&nbsp;areas,&nbsp;<span class=\"diff_chg\">and&nbsp;ignoring&nbsp;catch</span>&nbsp;limits.&nbsp;<span class=\"diff_add\">&nbsp;</span>To&nbsp;<span class=\"diff_chg\">minimize</span>&nbsp;labor&nbsp;costs,&nbsp;some&nbsp;vessel&nbsp;owners&nbsp;rely&nbsp;on&nbsp;human&nbsp;traffickers,&nbsp;some&nbsp;even&nbsp;kidnapping&nbsp;or&nbsp;drugging&nbsp;workers&nbsp;to&nbsp;get&nbsp;them&nbsp;on&nbsp;the&nbsp;ship&nbsp;and&nbsp;cut&nbsp;off&nbsp;from&nbsp;help.&nbsp;<span class=\"diff_add\">&nbsp;</span>Further,&nbsp;the&nbsp;overseas&nbsp;seafood&nbsp;processing&nbsp;industry&nbsp;is&nbsp;heavily&nbsp;reliant&nbsp;on&nbsp;forced&nbsp;labor.&nbsp;&nbsp;</td></tr>\n",
       "            <tr><td style=\"word-wrap: break-word\" class=\"diff_next\" id=\"difflib_chg_to23__3\"></td><td style=\"word-wrap: break-word\" class=\"diff_header\" id=\"from23_6\">6</td><td style=\"word-wrap: break-word\" ></td><td style=\"word-wrap: break-word\" class=\"diff_next\"></td><td style=\"word-wrap: break-word\" class=\"diff_header\" id=\"to23_8\">8</td><td style=\"word-wrap: break-word\" ></td></tr>\n",
       "            <tr><td style=\"word-wrap: break-word\" class=\"diff_next\"></td><td style=\"word-wrap: break-word\" class=\"diff_header\" id=\"from23_7\">7</td><td style=\"word-wrap: break-word\" >The&nbsp;U.S.&nbsp;is&nbsp;one&nbsp;of&nbsp;the&nbsp;largest&nbsp;consumers&nbsp;of&nbsp;seafood.&nbsp;Approximately&nbsp;eighty&nbsp;percent&nbsp;of&nbsp;the&nbsp;seafood&nbsp;sold&nbsp;in&nbsp;the&nbsp;U.S.&nbsp;is&nbsp;imported,&nbsp;and&nbsp;as&nbsp;much&nbsp;as&nbsp;a&nbsp;third&nbsp;of&nbsp;the&nbsp;wild-caught&nbsp;seafood&nbsp;sold&nbsp;in&nbsp;the&nbsp;United&nbsp;States&nbsp;each&nbsp;year&nbsp;is&nbsp;illegal&nbsp;or&nbsp;unreported.&nbsp;&nbsp;</td><td style=\"word-wrap: break-word\" class=\"diff_next\"></td><td style=\"word-wrap: break-word\" class=\"diff_header\" id=\"to23_9\">9</td><td style=\"word-wrap: break-word\" >The&nbsp;U.S.&nbsp;is&nbsp;one&nbsp;of&nbsp;the&nbsp;largest&nbsp;consumers&nbsp;of&nbsp;seafood.&nbsp;Approximately&nbsp;eighty&nbsp;percent&nbsp;of&nbsp;the&nbsp;seafood&nbsp;sold&nbsp;in&nbsp;the&nbsp;U.S.&nbsp;is&nbsp;imported,&nbsp;and&nbsp;as&nbsp;much&nbsp;as&nbsp;a&nbsp;third&nbsp;of&nbsp;the&nbsp;wild-caught&nbsp;seafood&nbsp;sold&nbsp;in&nbsp;the&nbsp;United&nbsp;States&nbsp;each&nbsp;year&nbsp;is&nbsp;illegal&nbsp;or&nbsp;unreported.&nbsp;&nbsp;</td></tr>\n",
       "            <tr><td style=\"word-wrap: break-word\" class=\"diff_next\"></td><td style=\"word-wrap: break-word\" class=\"diff_header\" id=\"from23_8\">8</td><td style=\"word-wrap: break-word\" ></td><td style=\"word-wrap: break-word\" class=\"diff_next\"></td><td style=\"word-wrap: break-word\" class=\"diff_header\" id=\"to23_10\">10</td><td style=\"word-wrap: break-word\" ></td></tr>\n",
       "            <tr><td style=\"word-wrap: break-word\" class=\"diff_next\"><a href=\"#difflib_chg_to23__3\">n</a></td><td style=\"word-wrap: break-word\" class=\"diff_header\" id=\"from23_9\">9</td><td style=\"word-wrap: break-word\" ><span class=\"diff_sub\">The&nbsp;U.S.&nbsp;government&nbsp;has&nbsp;a&nbsp;responsibility&nbsp;to&nbsp;fix&nbsp;these&nbsp;problems,&nbsp;and&nbsp;seafood&nbsp;traceability&nbsp;is&nbsp;an&nbsp;essential&nbsp;step&nbsp;in&nbsp;the&nbsp;fight&nbsp;to&nbsp;end&nbsp;illegal&nbsp;fishing&nbsp;and&nbsp;human&nbsp;rights&nbsp;abuses&nbsp;in&nbsp;the&nbsp;seafood&nbsp;industry.&nbsp;But&nbsp;under&nbsp;NOAA&nbsp;Fisheries’&nbsp;proposed&nbsp;rule,&nbsp;traceability&nbsp;requirements&nbsp;would&nbsp;apply&nbsp;to&nbsp;only&nbsp;half&nbsp;of&nbsp;seafood&nbsp;imports,&nbsp;leaving&nbsp;massive&nbsp;loopholes&nbsp;that&nbsp;are&nbsp;easy&nbsp;for&nbsp;bad&nbsp;actors&nbsp;to&nbsp;exploit.&nbsp;The&nbsp;proposed&nbsp;rule&nbsp;also&nbsp;fails&nbsp;to&nbsp;sufficiently&nbsp;address&nbsp;labor&nbsp;abuses&nbsp;in&nbsp;seafood&nbsp;supply&nbsp;chains,&nbsp;and&nbsp;it&nbsp;includes&nbsp;no&nbsp;commitment&nbsp;to&nbsp;improve&nbsp;enforcement&nbsp;of&nbsp;traceability&nbsp;requirements.&nbsp;</span></td><td style=\"word-wrap: break-word\" class=\"diff_next\"><a href=\"#difflib_chg_to23__3\">n</a></td><td style=\"word-wrap: break-word\" class=\"diff_header\" id=\"to23_11\">11</td><td style=\"word-wrap: break-word\" ><span class=\"diff_add\">The&nbsp;U.S.&nbsp;government&nbsp;has&nbsp;a&nbsp;responsibility&nbsp;to&nbsp;fix&nbsp;these&nbsp;problems.&nbsp;&nbsp;Seafood&nbsp;traceability&nbsp;is&nbsp;an&nbsp;essential&nbsp;step&nbsp;to&nbsp;stopping&nbsp;illegal&nbsp;fishing&nbsp;and&nbsp;human&nbsp;rights&nbsp;abuses&nbsp;in&nbsp;the&nbsp;seafood&nbsp;industry.&nbsp;&nbsp;But&nbsp;under&nbsp;NOAA&nbsp;Fisheries’&nbsp;proposed&nbsp;rule,&nbsp;traceability&nbsp;requirements&nbsp;would&nbsp;apply&nbsp;to&nbsp;only&nbsp;half&nbsp;of&nbsp;seafood&nbsp;imports,&nbsp;leaving&nbsp;massive&nbsp;loopholes&nbsp;that&nbsp;are&nbsp;easy&nbsp;for&nbsp;bad&nbsp;actors&nbsp;to&nbsp;exploit.&nbsp;&nbsp;The&nbsp;proposed&nbsp;rule&nbsp;fails&nbsp;to&nbsp;sufficiently&nbsp;address&nbsp;labor&nbsp;abuses&nbsp;in&nbsp;seafood&nbsp;supply&nbsp;chains.&nbsp;&nbsp;</span></td></tr>\n",
       "            <tr><td style=\"word-wrap: break-word\" class=\"diff_next\"></td><td style=\"word-wrap: break-word\" class=\"diff_header\" id=\"from23_10\">10</td><td style=\"word-wrap: break-word\" ></td><td style=\"word-wrap: break-word\" class=\"diff_next\"></td><td style=\"word-wrap: break-word\" class=\"diff_header\" id=\"to23_12\">12</td><td style=\"word-wrap: break-word\" ></td></tr>\n",
       "            <tr><td style=\"word-wrap: break-word\" class=\"diff_next\"><a href=\"#difflib_chg_to23__top\">t</a></td><td style=\"word-wrap: break-word\" class=\"diff_header\" id=\"from23_11\">11</td><td style=\"word-wrap: break-word\" ><span class=\"diff_sub\">Please&nbsp;revise&nbsp;the&nbsp;Seafood&nbsp;Import&nbsp;Monitoring&nbsp;Program&nbsp;proposed&nbsp;rule&nbsp;to&nbsp;adopt&nbsp;the&nbsp;strongest&nbsp;possible&nbsp;standards&nbsp;for&nbsp;seafood&nbsp;traceability&nbsp;to&nbsp;intercept&nbsp;the&nbsp;flow&nbsp;of&nbsp;illegal&nbsp;seafood&nbsp;into&nbsp;the&nbsp;U.S.&nbsp;and&nbsp;help&nbsp;consumers&nbsp;feel&nbsp;confident&nbsp;the&nbsp;seafood&nbsp;they&nbsp;buy&nbsp;is&nbsp;legally&nbsp;caught&nbsp;and&nbsp;not&nbsp;a&nbsp;product&nbsp;of&nbsp;labor&nbsp;abuses.&nbsp;Thank&nbsp;you&nbsp;for&nbsp;helping&nbsp;to&nbsp;address&nbsp;these&nbsp;environmental&nbsp;and&nbsp;human&nbsp;rights&nbsp;crimes&nbsp;with&nbsp;the&nbsp;seriousness&nbsp;they&nbsp;deserve.</span></td><td style=\"word-wrap: break-word\" class=\"diff_next\"><a href=\"#difflib_chg_to23__top\">t</a></td><td style=\"word-wrap: break-word\" class=\"diff_header\" id=\"to23_13\">13</td><td style=\"word-wrap: break-word\" ><span class=\"diff_add\">Besides,&nbsp;there&nbsp;is&nbsp;no&nbsp;commitment&nbsp;to&nbsp;improve&nbsp;enforcement&nbsp;of&nbsp;traceability&nbsp;requirements.&nbsp;</span></td></tr>\n",
       "            <tr><td style=\"word-wrap: break-word\" class=\"diff_next\"></td><td style=\"word-wrap: break-word\" class=\"diff_header\"></td><td style=\"word-wrap: break-word\" ></td><td style=\"word-wrap: break-word\" class=\"diff_next\"></td><td style=\"word-wrap: break-word\" class=\"diff_header\" id=\"to23_14\">14</td><td style=\"word-wrap: break-word\" ><span class=\"diff_add\">&nbsp;</span></td></tr>\n",
       "            <tr><td style=\"word-wrap: break-word\" class=\"diff_next\"></td><td style=\"word-wrap: break-word\" class=\"diff_header\"></td><td style=\"word-wrap: break-word\" ></td><td style=\"word-wrap: break-word\" class=\"diff_next\"></td><td style=\"word-wrap: break-word\" class=\"diff_header\" id=\"to23_15\">15</td><td style=\"word-wrap: break-word\" ><span class=\"diff_add\">Please,&nbsp;rework&nbsp;the&nbsp;Seafood&nbsp;Import&nbsp;Monitoring&nbsp;Program&nbsp;proposed&nbsp;rule.&nbsp;&nbsp;Make&nbsp;the&nbsp;strongest&nbsp;possible&nbsp;standards&nbsp;for&nbsp;seafood&nbsp;traceability&nbsp;to&nbsp;intercept&nbsp;the&nbsp;flow&nbsp;of&nbsp;illegal&nbsp;seafood&nbsp;into&nbsp;the&nbsp;U.S.&nbsp;&nbsp;Make&nbsp;consumers&nbsp;know&nbsp;that&nbsp;the&nbsp;seafood&nbsp;they&nbsp;buy&nbsp;is&nbsp;legally&nbsp;caught&nbsp;and&nbsp;not&nbsp;a&nbsp;product&nbsp;of&nbsp;labor/human&nbsp;rights&nbsp;abuses.&nbsp;&nbsp;</span></td></tr>\n",
       "            <tr><td style=\"word-wrap: break-word\" class=\"diff_next\"></td><td style=\"word-wrap: break-word\" class=\"diff_header\"></td><td style=\"word-wrap: break-word\" ></td><td style=\"word-wrap: break-word\" class=\"diff_next\"></td><td style=\"word-wrap: break-word\" class=\"diff_header\" id=\"to23_16\">16</td><td style=\"word-wrap: break-word\" ><span class=\"diff_add\">&nbsp;</span></td></tr>\n",
       "            <tr><td style=\"word-wrap: break-word\" class=\"diff_next\"></td><td style=\"word-wrap: break-word\" class=\"diff_header\"></td><td style=\"word-wrap: break-word\" ></td><td style=\"word-wrap: break-word\" class=\"diff_next\"></td><td style=\"word-wrap: break-word\" class=\"diff_header\" id=\"to23_17\">17</td><td style=\"word-wrap: break-word\" ><span class=\"diff_add\">Thank&nbsp;you&nbsp;for&nbsp;helping&nbsp;to&nbsp;address&nbsp;these&nbsp;environmental&nbsp;and&nbsp;human&nbsp;rights&nbsp;crimes&nbsp;with&nbsp;the&nbsp;seriousness&nbsp;they&nbsp;deserve.</span></td></tr>\n",
       "        </tbody>\n",
       "    </table>\n",
       "    <table style=\"table-layout: fixed; width: 100%\" class=\"diff\" summary=\"Legends\">\n",
       "        <tr> <th colspan=\"2\"> Legends </th> </tr>\n",
       "        <tr> <td style=\"word-wrap: break-word\"> <table style=\"table-layout: fixed; width: 100%\" border=\"\" summary=\"Colors\">\n",
       "                      <tr><th> Colors </th> </tr>\n",
       "                      <tr><td style=\"word-wrap: break-word\" class=\"diff_add\">&nbsp;Added&nbsp;</td></tr>\n",
       "                      <tr><td style=\"word-wrap: break-word\" class=\"diff_chg\">Changed</td> </tr>\n",
       "                      <tr><td style=\"word-wrap: break-word\" class=\"diff_sub\">Deleted</td> </tr>\n",
       "                  </table></td>\n",
       "             <td style=\"word-wrap: break-word\"> <table style=\"table-layout: fixed; width: 100%\" border=\"\" summary=\"Links\">\n",
       "                      <tr><th colspan=\"2\"> Links </th> </tr>\n",
       "                      <tr><td style=\"word-wrap: break-word\">(f)irst change</td> </tr>\n",
       "                      <tr><td style=\"word-wrap: break-word\">(n)ext change</td> </tr>\n",
       "                      <tr><td style=\"word-wrap: break-word\">(t)op</td> </tr>\n",
       "                  </table></td> </tr>\n",
       "    </table>\n",
       "</body>\n",
       "\n",
       "</html>"
      ],
      "text/plain": [
       "<IPython.core.display.HTML object>"
      ]
     },
     "metadata": {},
     "output_type": "display_data"
    }
   ],
   "source": [
    "for i in smaller_deltas[0:4]:\n",
    "    display(render_diff(default_NOAA_Admin_Text.split('\\n'),i.split('\\n'))) "
   ]
  },
  {
   "attachments": {},
   "cell_type": "markdown",
   "id": "3c8d2d7f",
   "metadata": {},
   "source": [
    "### END OF COMPARING RELATED COMMENTS"
   ]
  },
  {
   "attachments": {},
   "cell_type": "markdown",
   "id": "637d1c1c",
   "metadata": {},
   "source": [
    "### When were the comments received?"
   ]
  },
  {
   "cell_type": "code",
   "execution_count": 25,
   "id": "4f840781",
   "metadata": {},
   "outputs": [
    {
     "name": "stderr",
     "output_type": "stream",
     "text": [
      "/var/folders/z4/2zbdnnm52zgfstckz8b80mv80000gn/T/ipykernel_1537/18292103.py:4: SettingWithCopyWarning:\n",
      "\n",
      "\n",
      "A value is trying to be set on a copy of a slice from a DataFrame.\n",
      "Try using .loc[row_indexer,col_indexer] = value instead\n",
      "\n",
      "See the caveats in the documentation: https://pandas.pydata.org/pandas-docs/stable/user_guide/indexing.html#returning-a-view-versus-a-copy\n",
      "\n",
      "/var/folders/z4/2zbdnnm52zgfstckz8b80mv80000gn/T/ipykernel_1537/18292103.py:5: SettingWithCopyWarning:\n",
      "\n",
      "\n",
      "A value is trying to be set on a copy of a slice from a DataFrame.\n",
      "Try using .loc[row_indexer,col_indexer] = value instead\n",
      "\n",
      "See the caveats in the documentation: https://pandas.pydata.org/pandas-docs/stable/user_guide/indexing.html#returning-a-view-versus-a-copy\n",
      "\n"
     ]
    },
    {
     "data": {
      "text/plain": [
       "<AxesSubplot:xlabel='ReceivedDate'>"
      ]
     },
     "execution_count": 25,
     "metadata": {},
     "output_type": "execute_result"
    },
    {
     "data": {
      "image/png": "[encoded data removed]",
      "text/plain": [
       "<Figure size 640x480 with 1 Axes>"
      ]
     },
     "metadata": {},
     "output_type": "display_data"
    }
   ],
   "source": [
    "common_comments = df_with_pdf_data[df_with_pdf_data['CombinedText'].str.contains('NOAA Administrator Spinrad and NOAA Fisheries Assistant Administrator Coit')]\n",
    "common_comments[['Authors', 'Title', 'StateProvince', 'Country', 'GovernmentAgency', 'ReceivedDate', 'PostedDate', 'AuthorDate', 'FirstName', 'LastName']]\n",
    "# convert PostedDate to datetime\n",
    "common_comments['PostedDate'] = pd.to_datetime(common_comments['PostedDate'])\n",
    "common_comments['ReceivedDate'] = pd.to_datetime(common_comments['ReceivedDate'])\n",
    "#bar chart of ReceivedDate rounded to nearest week\n",
    "df_with_pdf_data['PostedDate'] = pd.to_datetime(df_with_pdf_data['PostedDate'])\n",
    "df_with_pdf_data['ReceivedDate'] = pd.to_datetime(df_with_pdf_data['ReceivedDate'])\n",
    "df_with_pdf_data['ReceivedDate'].groupby(df_with_pdf_data[\"ReceivedDate\"].dt.floor('7D').dt.date).count().plot(kind='bar')"
   ]
  },
  {
   "attachments": {},
   "cell_type": "markdown",
   "id": "0c7fb845",
   "metadata": {},
   "source": [
    "## Comment Posting Timeliness"
   ]
  },
  {
   "cell_type": "code",
   "execution_count": 26,
   "id": "811915c4",
   "metadata": {},
   "outputs": [
    {
     "data": {
      "text/plain": [
       "<AxesSubplot:>"
      ]
     },
     "execution_count": 26,
     "metadata": {},
     "output_type": "execute_result"
    },
    {
     "data": {
      "image/png": "[encoded data removed]",
      "text/plain": [
       "<Figure size 640x480 with 1 Axes>"
      ]
     },
     "metadata": {},
     "output_type": "display_data"
    }
   ],
   "source": [
    "# convert PostedDate to datetime\n",
    "df_with_pdf_data['PostedDate'] = pd.to_datetime(df_with_pdf_data['PostedDate'])\n",
    "df_with_pdf_data['ReceivedDate'] = pd.to_datetime(df_with_pdf_data['ReceivedDate'])\n",
    "# difference in dates between ReceivedDate and PostedDate\n",
    "df_with_pdf_data['ReceivedToPostedDelta'] = (df_with_pdf_data['PostedDate'] - df_with_pdf_data['ReceivedDate']).dt.days\n",
    "#convert timedelta to number of days and plot histogram\n",
    "(df_with_pdf_data['PostedDate'] - df_with_pdf_data['ReceivedDate']).dt.days.hist(bins=100)"
   ]
  },
  {
   "cell_type": "code",
   "execution_count": 27,
   "id": "1f6c2769",
   "metadata": {},
   "outputs": [
    {
     "data": {
      "text/plain": [
       "0.9763851044504995"
      ]
     },
     "execution_count": 27,
     "metadata": {},
     "output_type": "execute_result"
    }
   ],
   "source": [
    "len(df_with_pdf_data[df_with_pdf_data['ReceivedToPostedDelta'] < 5]) / len(df_with_pdf_data)"
   ]
  },
  {
   "attachments": {},
   "cell_type": "markdown",
   "id": "1462f4de",
   "metadata": {},
   "source": [
    "#### 97.6% of comments are posted within 5 days of being received"
   ]
  },
  {
   "attachments": {},
   "cell_type": "markdown",
   "id": "3ccfd460",
   "metadata": {},
   "source": [
    "### The Remainder of Comments"
   ]
  },
  {
   "cell_type": "code",
   "execution_count": 28,
   "id": "237c771f",
   "metadata": {},
   "outputs": [
    {
     "name": "stdout",
     "output_type": "stream",
     "text": [
      "Unique comments: 81\n"
     ]
    },
    {
     "data": {
      "text/html": [
       "<div>\n",
       "<style scoped>\n",
       "    .dataframe tbody tr th:only-of-type {\n",
       "        vertical-align: middle;\n",
       "    }\n",
       "\n",
       "    .dataframe tbody tr th {\n",
       "        vertical-align: top;\n",
       "    }\n",
       "\n",
       "    .dataframe thead th {\n",
       "        text-align: right;\n",
       "    }\n",
       "</style>\n",
       "<table border=\"1\" class=\"dataframe\">\n",
       "  <thead>\n",
       "    <tr style=\"text-align: right;\">\n",
       "      <th></th>\n",
       "      <th>DocumentID</th>\n",
       "      <th>AgencyID</th>\n",
       "      <th>DocketID</th>\n",
       "      <th>TrackingNumber</th>\n",
       "      <th>DocumentType</th>\n",
       "      <th>PostedDate</th>\n",
       "      <th>IsWithdrawn</th>\n",
       "      <th>FederalRegisterNumber</th>\n",
       "      <th>FRCitation</th>\n",
       "      <th>Title</th>\n",
       "      <th>...</th>\n",
       "      <th>Category</th>\n",
       "      <th>RestrictReasonType</th>\n",
       "      <th>RestrictReason</th>\n",
       "      <th>ReasonWithdrawn</th>\n",
       "      <th>ContentFiles</th>\n",
       "      <th>AttachmentFiles</th>\n",
       "      <th>DisplayPropertiesNameLabelTooltip</th>\n",
       "      <th>pdf_text</th>\n",
       "      <th>CombinedText</th>\n",
       "      <th>ReceivedToPostedDelta</th>\n",
       "    </tr>\n",
       "  </thead>\n",
       "  <tbody>\n",
       "    <tr>\n",
       "      <th>0</th>\n",
       "      <td>NOAA-NMFS-2022-0119-0001</td>\n",
       "      <td>NOAA</td>\n",
       "      <td>NOAA-NMFS-2022-0119</td>\n",
       "      <td>NaN</td>\n",
       "      <td>Proposed Rule</td>\n",
       "      <td>2022-12-28 05:00:00+00:00</td>\n",
       "      <td>False</td>\n",
       "      <td>2022-27741</td>\n",
       "      <td>NaN</td>\n",
       "      <td>Magnuson-Stevens Fishery Conservation and Mana...</td>\n",
       "      <td>...</td>\n",
       "      <td>NaN</td>\n",
       "      <td>NaN</td>\n",
       "      <td>NaN</td>\n",
       "      <td>NaN</td>\n",
       "      <td>https://downloads.regulations.gov/NOAA-NMFS-20...</td>\n",
       "      <td>NaN</td>\n",
       "      <td>pageCount, Page Count, Number of pages In the ...</td>\n",
       "      <td>NaN</td>\n",
       "      <td>UnknownText</td>\n",
       "      <td>0</td>\n",
       "    </tr>\n",
       "    <tr>\n",
       "      <th>1</th>\n",
       "      <td>NOAA-NMFS-2022-0119-0002</td>\n",
       "      <td>NOAA</td>\n",
       "      <td>NOAA-NMFS-2022-0119</td>\n",
       "      <td>lcj-jtiv-eyjs</td>\n",
       "      <td>Public Submission</td>\n",
       "      <td>2023-01-20 05:00:00+00:00</td>\n",
       "      <td>False</td>\n",
       "      <td>NaN</td>\n",
       "      <td>NaN</td>\n",
       "      <td>Comment from Brown, Julie</td>\n",
       "      <td>...</td>\n",
       "      <td>NaN</td>\n",
       "      <td>NaN</td>\n",
       "      <td>NaN</td>\n",
       "      <td>NaN</td>\n",
       "      <td>NaN</td>\n",
       "      <td>NaN</td>\n",
       "      <td>pageCount, Page Count, Number of pages In the ...</td>\n",
       "      <td>NaN</td>\n",
       "      <td>We should expand SIMP to ALL imported species</td>\n",
       "      <td>15</td>\n",
       "    </tr>\n",
       "    <tr>\n",
       "      <th>2</th>\n",
       "      <td>NOAA-NMFS-2022-0119-0003</td>\n",
       "      <td>NOAA</td>\n",
       "      <td>NOAA-NMFS-2022-0119</td>\n",
       "      <td>lcr-zzpi-2xed</td>\n",
       "      <td>Public Submission</td>\n",
       "      <td>2023-01-20 05:00:00+00:00</td>\n",
       "      <td>False</td>\n",
       "      <td>NaN</td>\n",
       "      <td>NaN</td>\n",
       "      <td>Comment from Wilson, Ann</td>\n",
       "      <td>...</td>\n",
       "      <td>NaN</td>\n",
       "      <td>NaN</td>\n",
       "      <td>NaN</td>\n",
       "      <td>NaN</td>\n",
       "      <td>NaN</td>\n",
       "      <td>NaN</td>\n",
       "      <td>pageCount, Page Count, Number of pages In the ...</td>\n",
       "      <td>NaN</td>\n",
       "      <td>Ann M Wilson, NRES 520 UWSP\\n\\nAs a current gr...</td>\n",
       "      <td>9</td>\n",
       "    </tr>\n",
       "    <tr>\n",
       "      <th>3</th>\n",
       "      <td>NOAA-NMFS-2022-0119-0004</td>\n",
       "      <td>NOAA</td>\n",
       "      <td>NOAA-NMFS-2022-0119</td>\n",
       "      <td>lda-lwj0-6q7p</td>\n",
       "      <td>Public Submission</td>\n",
       "      <td>2023-02-02 05:00:00+00:00</td>\n",
       "      <td>False</td>\n",
       "      <td>NaN</td>\n",
       "      <td>NaN</td>\n",
       "      <td>Comment from Anonymous</td>\n",
       "      <td>...</td>\n",
       "      <td>NaN</td>\n",
       "      <td>NaN</td>\n",
       "      <td>NaN</td>\n",
       "      <td>NaN</td>\n",
       "      <td>NaN</td>\n",
       "      <td>NaN</td>\n",
       "      <td>pageCount, Page Count, Number of pages In the ...</td>\n",
       "      <td>NaN</td>\n",
       "      <td>I am excited to see the inclusion of eels on t...</td>\n",
       "      <td>9</td>\n",
       "    </tr>\n",
       "    <tr>\n",
       "      <th>1893</th>\n",
       "      <td>NOAA-NMFS-2022-0119-1894</td>\n",
       "      <td>NOAA</td>\n",
       "      <td>NOAA-NMFS-2022-0119</td>\n",
       "      <td>ldt-rwo0-kgd0</td>\n",
       "      <td>Public Submission</td>\n",
       "      <td>2023-02-08 05:00:00+00:00</td>\n",
       "      <td>False</td>\n",
       "      <td>NaN</td>\n",
       "      <td>NaN</td>\n",
       "      <td>Comment from Anonymous</td>\n",
       "      <td>...</td>\n",
       "      <td>NaN</td>\n",
       "      <td>NaN</td>\n",
       "      <td>NaN</td>\n",
       "      <td>NaN</td>\n",
       "      <td>NaN</td>\n",
       "      <td>NaN</td>\n",
       "      <td>pageCount, Page Count, Number of pages In the ...</td>\n",
       "      <td>NaN</td>\n",
       "      <td>I think this is a good idea to combat illegal/...</td>\n",
       "      <td>1</td>\n",
       "    </tr>\n",
       "    <tr>\n",
       "      <th>1975</th>\n",
       "      <td>NOAA-NMFS-2022-0119-1976</td>\n",
       "      <td>NOAA</td>\n",
       "      <td>NOAA-NMFS-2022-0119</td>\n",
       "      <td>ldw-3hz6-3pz9</td>\n",
       "      <td>Public Submission</td>\n",
       "      <td>2023-02-08 05:00:00+00:00</td>\n",
       "      <td>False</td>\n",
       "      <td>NaN</td>\n",
       "      <td>NaN</td>\n",
       "      <td>Comment from Anonymous</td>\n",
       "      <td>...</td>\n",
       "      <td>NaN</td>\n",
       "      <td>NaN</td>\n",
       "      <td>NaN</td>\n",
       "      <td>NaN</td>\n",
       "      <td>NaN</td>\n",
       "      <td>NaN</td>\n",
       "      <td>pageCount, Page Count, Number of pages In the ...</td>\n",
       "      <td>NaN</td>\n",
       "      <td>Something ive learned about this regulation pr...</td>\n",
       "      <td>0</td>\n",
       "    </tr>\n",
       "    <tr>\n",
       "      <th>2001</th>\n",
       "      <td>NOAA-NMFS-2022-0119-2002</td>\n",
       "      <td>NOAA</td>\n",
       "      <td>NOAA-NMFS-2022-0119</td>\n",
       "      <td>ldx-9lru-1nql</td>\n",
       "      <td>Public Submission</td>\n",
       "      <td>2023-02-09 05:00:00+00:00</td>\n",
       "      <td>False</td>\n",
       "      <td>NaN</td>\n",
       "      <td>NaN</td>\n",
       "      <td>Comment from Farpour, Samantha</td>\n",
       "      <td>...</td>\n",
       "      <td>NaN</td>\n",
       "      <td>NaN</td>\n",
       "      <td>NaN</td>\n",
       "      <td>NaN</td>\n",
       "      <td>NaN</td>\n",
       "      <td>NaN</td>\n",
       "      <td>pageCount, Page Count, Number of pages In the ...</td>\n",
       "      <td>NaN</td>\n",
       "      <td>Given the prevalence and far-reaching conseque...</td>\n",
       "      <td>0</td>\n",
       "    </tr>\n",
       "    <tr>\n",
       "      <th>2003</th>\n",
       "      <td>NOAA-NMFS-2022-0119-2004</td>\n",
       "      <td>NOAA</td>\n",
       "      <td>NOAA-NMFS-2022-0119</td>\n",
       "      <td>ldx-hzpm-i62a</td>\n",
       "      <td>Public Submission</td>\n",
       "      <td>2023-02-09 05:00:00+00:00</td>\n",
       "      <td>False</td>\n",
       "      <td>NaN</td>\n",
       "      <td>NaN</td>\n",
       "      <td>Comment from Sea Port Products</td>\n",
       "      <td>...</td>\n",
       "      <td>NaN</td>\n",
       "      <td>NaN</td>\n",
       "      <td>NaN</td>\n",
       "      <td>NaN</td>\n",
       "      <td>NaN</td>\n",
       "      <td>NaN</td>\n",
       "      <td>pageCount, Page Count, Number of pages In the ...</td>\n",
       "      <td>NaN</td>\n",
       "      <td>1.Please acknowledge the generalized growing p...</td>\n",
       "      <td>0</td>\n",
       "    </tr>\n",
       "    <tr>\n",
       "      <th>2014</th>\n",
       "      <td>NOAA-NMFS-2022-0119-2015</td>\n",
       "      <td>NOAA</td>\n",
       "      <td>NOAA-NMFS-2022-0119</td>\n",
       "      <td>ldy-yw1b-j304</td>\n",
       "      <td>Public Submission</td>\n",
       "      <td>2023-02-13 05:00:00+00:00</td>\n",
       "      <td>False</td>\n",
       "      <td>NaN</td>\n",
       "      <td>NaN</td>\n",
       "      <td>Comment from New York Customs Brokers Inc.</td>\n",
       "      <td>...</td>\n",
       "      <td>NaN</td>\n",
       "      <td>NaN</td>\n",
       "      <td>NaN</td>\n",
       "      <td>NaN</td>\n",
       "      <td>NaN</td>\n",
       "      <td>https://downloads.regulations.gov/NOAA-NMFS-20...</td>\n",
       "      <td>pageCount, Page Count, Number of pages In the ...</td>\n",
       "      <td>NaN</td>\n",
       "      <td>As a customs broker who works with both suppli...</td>\n",
       "      <td>3</td>\n",
       "    </tr>\n",
       "    <tr>\n",
       "      <th>2030</th>\n",
       "      <td>NOAA-NMFS-2022-0119-2031</td>\n",
       "      <td>NOAA</td>\n",
       "      <td>NOAA-NMFS-2022-0119</td>\n",
       "      <td>le0-s2co-rczm</td>\n",
       "      <td>Public Submission</td>\n",
       "      <td>2023-02-13 05:00:00+00:00</td>\n",
       "      <td>False</td>\n",
       "      <td>NaN</td>\n",
       "      <td>NaN</td>\n",
       "      <td>Comment from Anonymous</td>\n",
       "      <td>...</td>\n",
       "      <td>NaN</td>\n",
       "      <td>NaN</td>\n",
       "      <td>NaN</td>\n",
       "      <td>NaN</td>\n",
       "      <td>NaN</td>\n",
       "      <td>NaN</td>\n",
       "      <td>pageCount, Page Count, Number of pages In the ...</td>\n",
       "      <td>NaN</td>\n",
       "      <td>I believe this is a good start in protecting o...</td>\n",
       "      <td>2</td>\n",
       "    </tr>\n",
       "  </tbody>\n",
       "</table>\n",
       "<p>10 rows × 63 columns</p>\n",
       "</div>"
      ],
      "text/plain": [
       "                    DocumentID AgencyID             DocketID TrackingNumber  \\\n",
       "0     NOAA-NMFS-2022-0119-0001     NOAA  NOAA-NMFS-2022-0119            NaN   \n",
       "1     NOAA-NMFS-2022-0119-0002     NOAA  NOAA-NMFS-2022-0119  lcj-jtiv-eyjs   \n",
       "2     NOAA-NMFS-2022-0119-0003     NOAA  NOAA-NMFS-2022-0119  lcr-zzpi-2xed   \n",
       "3     NOAA-NMFS-2022-0119-0004     NOAA  NOAA-NMFS-2022-0119  lda-lwj0-6q7p   \n",
       "1893  NOAA-NMFS-2022-0119-1894     NOAA  NOAA-NMFS-2022-0119  ldt-rwo0-kgd0   \n",
       "1975  NOAA-NMFS-2022-0119-1976     NOAA  NOAA-NMFS-2022-0119  ldw-3hz6-3pz9   \n",
       "2001  NOAA-NMFS-2022-0119-2002     NOAA  NOAA-NMFS-2022-0119  ldx-9lru-1nql   \n",
       "2003  NOAA-NMFS-2022-0119-2004     NOAA  NOAA-NMFS-2022-0119  ldx-hzpm-i62a   \n",
       "2014  NOAA-NMFS-2022-0119-2015     NOAA  NOAA-NMFS-2022-0119  ldy-yw1b-j304   \n",
       "2030  NOAA-NMFS-2022-0119-2031     NOAA  NOAA-NMFS-2022-0119  le0-s2co-rczm   \n",
       "\n",
       "           DocumentType                PostedDate  IsWithdrawn  \\\n",
       "0         Proposed Rule 2022-12-28 05:00:00+00:00        False   \n",
       "1     Public Submission 2023-01-20 05:00:00+00:00        False   \n",
       "2     Public Submission 2023-01-20 05:00:00+00:00        False   \n",
       "3     Public Submission 2023-02-02 05:00:00+00:00        False   \n",
       "1893  Public Submission 2023-02-08 05:00:00+00:00        False   \n",
       "1975  Public Submission 2023-02-08 05:00:00+00:00        False   \n",
       "2001  Public Submission 2023-02-09 05:00:00+00:00        False   \n",
       "2003  Public Submission 2023-02-09 05:00:00+00:00        False   \n",
       "2014  Public Submission 2023-02-13 05:00:00+00:00        False   \n",
       "2030  Public Submission 2023-02-13 05:00:00+00:00        False   \n",
       "\n",
       "     FederalRegisterNumber  FRCitation  \\\n",
       "0               2022-27741         NaN   \n",
       "1                      NaN         NaN   \n",
       "2                      NaN         NaN   \n",
       "3                      NaN         NaN   \n",
       "1893                   NaN         NaN   \n",
       "1975                   NaN         NaN   \n",
       "2001                   NaN         NaN   \n",
       "2003                   NaN         NaN   \n",
       "2014                   NaN         NaN   \n",
       "2030                   NaN         NaN   \n",
       "\n",
       "                                                  Title  ... Category  \\\n",
       "0     Magnuson-Stevens Fishery Conservation and Mana...  ...      NaN   \n",
       "1                             Comment from Brown, Julie  ...      NaN   \n",
       "2                              Comment from Wilson, Ann  ...      NaN   \n",
       "3                                Comment from Anonymous  ...      NaN   \n",
       "1893                             Comment from Anonymous  ...      NaN   \n",
       "1975                             Comment from Anonymous  ...      NaN   \n",
       "2001                    Comment from Farpour, Samantha   ...      NaN   \n",
       "2003                     Comment from Sea Port Products  ...      NaN   \n",
       "2014         Comment from New York Customs Brokers Inc.  ...      NaN   \n",
       "2030                             Comment from Anonymous  ...      NaN   \n",
       "\n",
       "     RestrictReasonType  RestrictReason ReasonWithdrawn  \\\n",
       "0                   NaN             NaN             NaN   \n",
       "1                   NaN             NaN             NaN   \n",
       "2                   NaN             NaN             NaN   \n",
       "3                   NaN             NaN             NaN   \n",
       "1893                NaN             NaN             NaN   \n",
       "1975                NaN             NaN             NaN   \n",
       "2001                NaN             NaN             NaN   \n",
       "2003                NaN             NaN             NaN   \n",
       "2014                NaN             NaN             NaN   \n",
       "2030                NaN             NaN             NaN   \n",
       "\n",
       "                                           ContentFiles  \\\n",
       "0     https://downloads.regulations.gov/NOAA-NMFS-20...   \n",
       "1                                                   NaN   \n",
       "2                                                   NaN   \n",
       "3                                                   NaN   \n",
       "1893                                                NaN   \n",
       "1975                                                NaN   \n",
       "2001                                                NaN   \n",
       "2003                                                NaN   \n",
       "2014                                                NaN   \n",
       "2030                                                NaN   \n",
       "\n",
       "                                        AttachmentFiles  \\\n",
       "0                                                   NaN   \n",
       "1                                                   NaN   \n",
       "2                                                   NaN   \n",
       "3                                                   NaN   \n",
       "1893                                                NaN   \n",
       "1975                                                NaN   \n",
       "2001                                                NaN   \n",
       "2003                                                NaN   \n",
       "2014  https://downloads.regulations.gov/NOAA-NMFS-20...   \n",
       "2030                                                NaN   \n",
       "\n",
       "                      DisplayPropertiesNameLabelTooltip pdf_text  \\\n",
       "0     pageCount, Page Count, Number of pages In the ...      NaN   \n",
       "1     pageCount, Page Count, Number of pages In the ...      NaN   \n",
       "2     pageCount, Page Count, Number of pages In the ...      NaN   \n",
       "3     pageCount, Page Count, Number of pages In the ...      NaN   \n",
       "1893  pageCount, Page Count, Number of pages In the ...      NaN   \n",
       "1975  pageCount, Page Count, Number of pages In the ...      NaN   \n",
       "2001  pageCount, Page Count, Number of pages In the ...      NaN   \n",
       "2003  pageCount, Page Count, Number of pages In the ...      NaN   \n",
       "2014  pageCount, Page Count, Number of pages In the ...      NaN   \n",
       "2030  pageCount, Page Count, Number of pages In the ...      NaN   \n",
       "\n",
       "                                           CombinedText ReceivedToPostedDelta  \n",
       "0                                           UnknownText                     0  \n",
       "1         We should expand SIMP to ALL imported species                    15  \n",
       "2     Ann M Wilson, NRES 520 UWSP\\n\\nAs a current gr...                     9  \n",
       "3     I am excited to see the inclusion of eels on t...                     9  \n",
       "1893  I think this is a good idea to combat illegal/...                     1  \n",
       "1975  Something ive learned about this regulation pr...                     0  \n",
       "2001  Given the prevalence and far-reaching conseque...                     0  \n",
       "2003  1.Please acknowledge the generalized growing p...                     0  \n",
       "2014  As a customs broker who works with both suppli...                     3  \n",
       "2030  I believe this is a good start in protecting o...                     2  \n",
       "\n",
       "[10 rows x 63 columns]"
      ]
     },
     "execution_count": 28,
     "metadata": {},
     "output_type": "execute_result"
    }
   ],
   "source": [
    "unique_entries = df_with_pdf_data[~df_with_pdf_data['CombinedText'].str.contains('NOAA Administrator Spinrad')]\n",
    "print(f'Unique comments: {len(unique_entries)}')\n",
    "unique_entries.head(10)\n"
   ]
  },
  {
   "cell_type": "code",
   "execution_count": 29,
   "id": "5454170d",
   "metadata": {},
   "outputs": [
    {
     "data": {
      "text/plain": [
       "<AxesSubplot:xlabel='ReceivedDate'>"
      ]
     },
     "execution_count": 29,
     "metadata": {},
     "output_type": "execute_result"
    },
    {
     "data": {
      "image/png": "[encoded data removed]",
      "text/plain": [
       "<Figure size 640x480 with 1 Axes>"
      ]
     },
     "metadata": {},
     "output_type": "display_data"
    }
   ],
   "source": [
    "unique_entries['ReceivedDate'].groupby(unique_entries[\"ReceivedDate\"].dt.floor('7D').dt.date).count().plot(kind='bar')"
   ]
  },
  {
   "attachments": {},
   "cell_type": "markdown",
   "id": "a3157225",
   "metadata": {},
   "source": [
    "There were meaningful surges in comments at the initial end of the comment period(before the extension) and then at the true end of the comment period(after the extension)."
   ]
  },
  {
   "cell_type": "code",
   "execution_count": 30,
   "id": "e0e5f378",
   "metadata": {},
   "outputs": [
    {
     "data": {
      "text/plain": [
       "'NOAA-NMFS-2022-0119-0001, NOAA-NMFS-2022-0119-0002, NOAA-NMFS-2022-0119-0003, NOAA-NMFS-2022-0119-0004, NOAA-NMFS-2022-0119-1894, NOAA-NMFS-2022-0119-1976, NOAA-NMFS-2022-0119-2002, NOAA-NMFS-2022-0119-2004, NOAA-NMFS-2022-0119-2015, NOAA-NMFS-2022-0119-2031, NOAA-NMFS-2022-0119-2070, NOAA-NMFS-2022-0119-2112, NOAA-NMFS-2022-0119-2115, NOAA-NMFS-2022-0119-2117, NOAA-NMFS-2022-0119-2121, NOAA-NMFS-2022-0119-2125, NOAA-NMFS-2022-0119-2130, NOAA-NMFS-2022-0119-2131, NOAA-NMFS-2022-0119-2132, NOAA-NMFS-2022-0119-2133, NOAA-NMFS-2022-0119-2134, NOAA-NMFS-2022-0119-2135, NOAA-NMFS-2022-0119-2136, NOAA-NMFS-2022-0119-2137, NOAA-NMFS-2022-0119-2138, NOAA-NMFS-2022-0119-2139, NOAA-NMFS-2022-0119-2144, NOAA-NMFS-2022-0119-2145, NOAA-NMFS-2022-0119-2146, NOAA-NMFS-2022-0119-2147, NOAA-NMFS-2022-0119-2148, NOAA-NMFS-2022-0119-2149, NOAA-NMFS-2022-0119-2150, NOAA-NMFS-2022-0119-2151, NOAA-NMFS-2022-0119-2153, NOAA-NMFS-2022-0119-2157, NOAA-NMFS-2022-0119-2158, NOAA-NMFS-2022-0119-2159, NOAA-NMFS-2022-0119-2160, NOAA-NMFS-2022-0119-2161, NOAA-NMFS-2022-0119-2162, NOAA-NMFS-2022-0119-2163, NOAA-NMFS-2022-0119-2164, NOAA-NMFS-2022-0119-2165, NOAA-NMFS-2022-0119-2166, NOAA-NMFS-2022-0119-2168, NOAA-NMFS-2022-0119-2170, NOAA-NMFS-2022-0119-2171, NOAA-NMFS-2022-0119-2172, NOAA-NMFS-2022-0119-2173, NOAA-NMFS-2022-0119-2174, NOAA-NMFS-2022-0119-2175, NOAA-NMFS-2022-0119-2176, NOAA-NMFS-2022-0119-2177, NOAA-NMFS-2022-0119-2178, NOAA-NMFS-2022-0119-2179, NOAA-NMFS-2022-0119-2180, NOAA-NMFS-2022-0119-2181, NOAA-NMFS-2022-0119-2182, NOAA-NMFS-2022-0119-2183, NOAA-NMFS-2022-0119-2184, NOAA-NMFS-2022-0119-2185, NOAA-NMFS-2022-0119-2186, NOAA-NMFS-2022-0119-2187, NOAA-NMFS-2022-0119-2188, NOAA-NMFS-2022-0119-2189, NOAA-NMFS-2022-0119-2190, NOAA-NMFS-2022-0119-2191, NOAA-NMFS-2022-0119-2192, NOAA-NMFS-2022-0119-2193, NOAA-NMFS-2022-0119-2194, NOAA-NMFS-2022-0119-2195, NOAA-NMFS-2022-0119-2196, NOAA-NMFS-2022-0119-2197, NOAA-NMFS-2022-0119-2198, NOAA-NMFS-2022-0119-2199, NOAA-NMFS-2022-0119-2200, NOAA-NMFS-2022-0119-2201, NOAA-NMFS-2022-0119-2202, NOAA-NMFS-2022-0119-2203, NOAA-NMFS-2022-0119-2204'"
      ]
     },
     "execution_count": 30,
     "metadata": {},
     "output_type": "execute_result"
    }
   ],
   "source": [
    "', '.join(unique_entries['DocumentID'].to_list())"
   ]
  },
  {
   "attachments": {},
   "cell_type": "markdown",
   "id": "304d75c0",
   "metadata": {},
   "source": [
    "There were many comments on SIMP but relatively few with distinct input, much less actionable changes to the proposed rule. Eel inclusion in SIMP was one of the most common themes"
   ]
  },
  {
   "cell_type": "markdown",
   "id": "3711ee7d",
   "metadata": {},
   "source": []
  }
 ],
 "metadata": {
  "kernelspec": {
   "display_name": "Python 3 (ipykernel)",
   "language": "python",
   "name": "python3"
  },
  "language_info": {
   "codemirror_mode": {
    "name": "ipython",
    "version": 3
   },
   "file_extension": ".py",
   "mimetype": "text/x-python",
   "name": "python",
   "nbconvert_exporter": "python",
   "pygments_lexer": "ipython3",
   "version": "3.9.6"
  }
 },
 "nbformat": 4,
 "nbformat_minor": 5
}
